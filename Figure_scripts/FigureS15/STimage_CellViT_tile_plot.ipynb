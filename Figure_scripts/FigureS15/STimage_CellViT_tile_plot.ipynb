{
 "cells": [
  {
   "cell_type": "code",
   "execution_count": 21,
   "metadata": {},
   "outputs": [],
   "source": [
    "import pandas as pd\n",
    "import numpy as np\n",
    "from sklearn.metrics import confusion_matrix\n",
    "import seaborn as sns\n",
    "import matplotlib.pyplot as plt\n",
    "import pickle\n",
    "import json\n",
    "import geopandas as gpd\n",
    "from shapely.geometry import Polygon\n",
    "import ast\n",
    "import spatialdata as sd\n",
    "import spatialdata_io as sdio\n",
    "import spatialdata_plot as sdplot\n",
    "import sopa\n",
    "from anndata import read_h5ad\n",
    "from matplotlib import pyplot as plt\n",
    "import rasterio\n",
    "from rasterio.features import rasterize\n",
    "from spatialdata import transform\n",
    "import anndata as ad\n",
    "import cv2\n",
    "import random\n",
    "from squidpy.im import ImageContainer \n",
    "from spatialdata.transformations import (\n",
    "    Affine,\n",
    "    Identity,\n",
    "    MapAxis,\n",
    "    Scale,\n",
    "    Sequence,\n",
    "    Translation,\n",
    "    get_transformation,\n",
    "    get_transformation_between_coordinate_systems,\n",
    "    set_transformation,\n",
    ")\n",
    "import gc\n",
    "from matplotlib.colors import TABLEAU_COLORS"
   ]
  },
  {
   "cell_type": "code",
   "execution_count": 2,
   "metadata": {},
   "outputs": [],
   "source": [
    "import subprocess\n",
    "from pathlib import Path\n",
    "from datetime import datetime\n",
    "import os\n",
    "import matplotlib as mpl\n",
    "mpl.rcParams['pdf.fonttype'] = 42\n",
    "PROJECT = \"Pete\"\n",
    "now = datetime.now()\n",
    "current_timestamp = now.strftime(\"%d%m%Y_%H%M%S\")\n",
    "system = subprocess.check_output([\"hostname\", \"-s\"]).decode(\"utf-8\").strip()\n",
    "BASE_PATH_ = Path()\n",
    "if \"bun\" in system:\n",
    "    BASE_PATH_ = Path(\"/QRISdata/Q1851/Xiao/\")\n",
    "elif \"imb-quan-gpu\" in system:\n",
    "    BASE_PATH_ = Path(\"/home/uqxtan9/Q1851/Xiao/\")\n",
    "elif \"gpunode\" in system:\n",
    "    BASE_PATH_ = Path(\"/scratch/imb/Xiao/Q1851/Xiao/\")\n",
    "\n",
    "\n",
    "TMP_PATH = Path(\"/scratch/temp/\") / os.environ[\"SLURM_JOB_ID\"]\n",
    "SCRATCH_PATH = Path(\"/scratch/project_mnt/S0010/Xiao\")\n",
    "BASE_PATH = BASE_PATH_ / \"Working_project\" / PROJECT\n",
    "DATA_PATH = BASE_PATH / \"DATA/\"\n",
    "PROCESSED = BASE_PATH / \"PROCESSED\"\n",
    "PROCESSED.mkdir(exist_ok=True, parents=True)\n",
    "OUT_PATH = BASE_PATH / \"OUT\"\n",
    "OUT_PATH.mkdir(exist_ok=True, parents=True)\n",
    "QC_PATH = OUT_PATH / \"QC\"\n",
    "QC_PATH.mkdir(exist_ok=True, parents=True)\n",
    "CELL_TYPE_PATH = OUT_PATH / \"CELL_TYPE\"\n",
    "CELL_TYPE_PATH.mkdir(exist_ok=True, parents=True)\n",
    "NICHE_PATH = OUT_PATH / \"NICHE\"\n",
    "NICHE_PATH.mkdir(exist_ok=True, parents=True)\n",
    "CCI_PATH = OUT_PATH / \"CCI\"\n",
    "CCI_PATH.mkdir(exist_ok=True, parents=True)\n",
    "PRED_PATH = OUT_PATH / \"PRED\"\n",
    "PRED_PATH.mkdir(exist_ok=True, parents=True)"
   ]
  },
  {
   "cell_type": "code",
   "execution_count": 24,
   "metadata": {},
   "outputs": [
    {
     "data": {
      "text/plain": [
       "PosixPath('/scratch/temp/12548117')"
      ]
     },
     "execution_count": 24,
     "metadata": {},
     "output_type": "execute_result"
    }
   ],
   "source": [
    "TMP_PATH"
   ]
  },
  {
   "cell_type": "code",
   "execution_count": 3,
   "metadata": {},
   "outputs": [],
   "source": [
    "!tar -xf {BASE_PATH_ / \"Hovernet_results\" / \"hovernet_out_test_QMDL02.tar\"} -C {TMP_PATH}"
   ]
  },
  {
   "cell_type": "code",
   "execution_count": 12,
   "metadata": {},
   "outputs": [],
   "source": [
    "def segmentation_lines(mask_in):\n",
    "    \"\"\"\n",
    "    Generate coords of points bordering segmentations from a given mask.\n",
    "    Useful for plotting results of tissue detection or other segmentation.\n",
    "    \"\"\"\n",
    "    assert (\n",
    "        mask_in.dtype == np.uint8\n",
    "    ), f\"Input mask dtype {mask_in.dtype} must be np.uint8\"\n",
    "    kernel = np.ones((3, 3), np.uint8)\n",
    "    dilated = cv2.dilate(mask_in, kernel)\n",
    "    diff = np.logical_xor(dilated.astype(bool), mask_in.astype(bool))\n",
    "    y, x = np.nonzero(diff)\n",
    "    return x, y\n",
    "\n",
    "\n",
    "def plot_segmentation(masks, ax, palette=None, markersize=5):\n",
    "    \"\"\"\n",
    "    Plot segmentation contours. Supports multi-class masks.\n",
    "\n",
    "    Args:\n",
    "        ax: matplotlib axis\n",
    "        masks (np.ndarray): Mask array of shape (n_masks, H, W). Zeroes are background pixels.\n",
    "        palette: color palette to use. if None, defaults to matplotlib.colors.TABLEAU_COLORS\n",
    "        markersize (int): Size of markers used on plot. Defaults to 5\n",
    "    \"\"\"\n",
    "    assert masks.ndim == 3\n",
    "    n_channels = masks.shape[0]\n",
    "\n",
    "    if palette is None:\n",
    "        palette = list(TABLEAU_COLORS.values())\n",
    "\n",
    "    nucleus_labels = list(np.unique(masks))\n",
    "    if 0 in nucleus_labels:\n",
    "        nucleus_labels.remove(0)  # background\n",
    "    # plot each individual nucleus\n",
    "    for label in nucleus_labels:\n",
    "        for i in range(n_channels):\n",
    "            nuclei_mask = masks[i, ...] == label\n",
    "            x, y = segmentation_lines(nuclei_mask.astype(np.uint8))\n",
    "            ax.scatter(x, y, color=palette[i], marker=\".\", s=markersize)"
   ]
  },
  {
   "cell_type": "code",
   "execution_count": 4,
   "metadata": {},
   "outputs": [],
   "source": [
    "def plot_confusion_matrix(cm, categories, sample_id, save_path):\n",
    "    \"\"\"Plot confusion matrix.\"\"\"\n",
    "    cm_normalized = cm / cm.sum(axis=1, keepdims=True) * 100\n",
    "    annotations = np.empty_like(cm[1:5, 1:5]).astype(str)\n",
    "\n",
    "    for i in range(annotations.shape[0]):\n",
    "        for j in range(annotations.shape[1]):\n",
    "            count = cm[1:5, 1:5][i, j]\n",
    "            percentage = cm_normalized[1:5, 1:5][i, j]\n",
    "            annotations[i, j] = f\"{int(count)}\\n({percentage:.1f}%)\"\n",
    "\n",
    "    plt.figure(figsize=(6, 5))\n",
    "    sns.heatmap(cm_normalized[1:5, 1:5], annot=annotations, fmt='',\n",
    "                cmap='Blues', xticklabels=categories, yticklabels=categories)\n",
    "\n",
    "    plt.title(f'Confusion Matrix ({sample_id})')\n",
    "    plt.xlabel('Predicted')\n",
    "    plt.ylabel('True')\n",
    "    plt.xticks(rotation=45, ha='right')\n",
    "    plt.yticks(rotation=0)\n",
    "    plt.tight_layout()\n",
    "\n",
    "    plt.savefig(save_path / f\"cm_{sample_id}.png\", dpi=300, bbox_inches='tight')\n",
    "    plt.close()"
   ]
  },
  {
   "cell_type": "code",
   "execution_count": 5,
   "metadata": {},
   "outputs": [],
   "source": [
    "sample_id_list = [\"QMDL02\",\n",
    "                    \"QMDL04\",\n",
    "                    \"QMDL05\",\n",
    "                    \"QMDL01\",\n",
    "                    \"QMDL03\",]\n",
    "cell_type_mapping = {\n",
    "    'Neoplastic': 'Cancer Epithelial',\n",
    "    'Connective': 'Stromal',\n",
    "    'Epithelial': 'Cancer Epithelial',  # or 'Stromal', depending on the context\n",
    "    'Inflammatory': 'Immune',\n",
    "    'Dead': None,  # No direct mapping\n",
    "}"
   ]
  },
  {
   "cell_type": "code",
   "execution_count": 26,
   "metadata": {},
   "outputs": [],
   "source": [
    "sample_id = sample_id_list[0]\n",
    "result_path = SCRATCH_PATH / f\"hovernet_out_test_{sample_id}\"\n",
    "img_true = np.load(result_path / 'truths_mapped.npy')\n",
    "img_pred = np.load(result_path / 'preds_mapped.npy')"
   ]
  },
  {
   "cell_type": "code",
   "execution_count": 6,
   "metadata": {},
   "outputs": [],
   "source": [
    "img_path = PROCESSED / \"images\" / f\"{sample_id}.ome.tif\"\n",
    "df = pd.read_csv(PROCESSED / \"CellViT\" / f\"df_{sample_id}.csv\")\n",
    "df['contour'] = df['contour'].apply(lambda x: ast.literal_eval(x))\n",
    "df['geometry'] = df['contour'].apply(Polygon)\n",
    "gdf = gpd.GeoDataFrame(df, geometry='geometry')"
   ]
  },
  {
   "cell_type": "code",
   "execution_count": 7,
   "metadata": {},
   "outputs": [],
   "source": [
    "gdf[\"prediction_mapped\"] = gdf[\"predicted_cell_type\"].map(cell_type_mapping)"
   ]
  },
  {
   "cell_type": "code",
   "execution_count": 8,
   "metadata": {},
   "outputs": [],
   "source": [
    "colors = list(TABLEAU_COLORS.values())"
   ]
  },
  {
   "cell_type": "code",
   "execution_count": 19,
   "metadata": {},
   "outputs": [],
   "source": [
    "img = ImageContainer(img_path)\n",
    "\n",
    "size = 256\n",
    "size = img._get_size(size)\n",
    "size = img._convert_to_pixel_space(size)\n",
    "\n",
    "y, x = img.shape\n",
    "ys, xs = size\n",
    "\n",
    "unique_ycoord = np.arange(start=0, stop=(y // ys + (y % ys != 0)) * ys, step=ys)\n",
    "unique_xcoord = np.arange(start=0, stop=(x // xs + (x % xs != 0)) * xs, step=xs)\n",
    "\n",
    "ycoords = np.repeat(unique_ycoord, len(unique_xcoord))\n",
    "xcoords = np.tile(unique_xcoord, len(unique_ycoord))\n",
    "\n",
    "mapping = dict(enumerate(zip(ycoords, xcoords)))"
   ]
  },
  {
   "cell_type": "code",
   "execution_count": 34,
   "metadata": {},
   "outputs": [],
   "source": []
  },
  {
   "cell_type": "code",
   "execution_count": 10,
   "metadata": {},
   "outputs": [
    {
     "name": "stdout",
     "output_type": "stream",
     "text": [
      "Generated 3 masks with shape (3, 29753, 26735)\n"
     ]
    }
   ],
   "source": [
    "# Get unique labels (excluding None/null values)\n",
    "unique_labels = gdf['prediction_mapped'].dropna().unique()\n",
    "\n",
    "# Initialize empty array to store all masks\n",
    "masks = np.zeros((len(unique_labels), y, x), dtype=np.uint8)\n",
    "\n",
    "# Create a mask for each label\n",
    "for idx, label in enumerate(unique_labels):\n",
    "    # Filter geodataframe for current label\n",
    "    label_gdf = gdf[gdf['prediction_mapped'] == label]\n",
    "    \n",
    "    # Create mask for this label\n",
    "    mask = rasterize(\n",
    "        label_gdf.geometry,\n",
    "        out_shape=(y, x),\n",
    "        fill=0,\n",
    "        default_value=1,\n",
    "        dtype=np.uint8\n",
    "    )\n",
    "    \n",
    "    masks[idx] = mask\n",
    "\n",
    "print(f\"Generated {len(unique_labels)} masks with shape {masks.shape}\")"
   ]
  },
  {
   "cell_type": "code",
   "execution_count": 31,
   "metadata": {},
   "outputs": [
    {
     "data": {
      "text/plain": [
       "256"
      ]
     },
     "execution_count": 31,
     "metadata": {},
     "output_type": "execute_result"
    }
   ],
   "source": [
    "size[0]"
   ]
  },
  {
   "cell_type": "code",
   "execution_count": 39,
   "metadata": {},
   "outputs": [],
   "source": [
    "# Create a figure with 3 columns (one for each segmentation) and rows for each item\n",
    "selected_keys = random.sample(list(mapping.keys()), 50)\n",
    "selected_items = {key: mapping[key] for key in selected_keys}\n",
    "crop_size = size[0]\n",
    "PRED_TILE_PATH = PRED_PATH / \"PRED_TILE\"\n",
    "PRED_TILE_PATH.mkdir(exist_ok=True, parents=True)\n",
    "for idx, (key, value) in enumerate(selected_items.items()):\n",
    "    crop_x = value[0]\n",
    "    crop_y = value[1]\n",
    "    crop = img.crop_corner(crop_x,crop_y, size=crop_size)\n",
    "    mpatch = img_true[:-1,crop_x:crop_x+crop_size,crop_y:crop_y+crop_size]\n",
    "    mpatch2 = img_pred[:-1,crop_x:crop_x+crop_size,crop_y:crop_y+crop_size]\n",
    "    mpatch3 = masks[:,crop_x:crop_x+crop_size,crop_y:crop_y+crop_size]\n",
    "    \n",
    "    fig, axes = plt.subplots(nrows=1, ncols=3, figsize=(15, 5))\n",
    "\n",
    "    # First column - STimage Classification\n",
    "    crop.show(ax=axes[0])\n",
    "    plot_segmentation(masks=mpatch2, ax=axes[0])\n",
    "    axes[0].set_title('', fontsize=14)\n",
    "    \n",
    "    # Second column - CellViT\n",
    "    crop.show(ax=axes[1]) \n",
    "    plot_segmentation(masks=mpatch3, ax=axes[1])\n",
    "    axes[1].set_title('', fontsize=14)\n",
    "    \n",
    "    # Third column - Ground truth\n",
    "    crop.show(ax=axes[2])\n",
    "    plot_segmentation(masks=mpatch, ax=axes[2])\n",
    "    axes[2].set_title('', fontsize=14)\n",
    "    plt.tight_layout()\n",
    "    \n",
    "    fig.savefig(PRED_TILE_PATH /f\"tile_plot_{idx}.png\", dpi=300, bbox_inches='tight')\n",
    "    plt.close()"
   ]
  },
  {
   "cell_type": "code",
   "execution_count": 38,
   "metadata": {},
   "outputs": [
    {
     "data": {
      "text/plain": [
       "PosixPath('/QRISdata/Q1851/Xiao/Working_project/Pete/OUT/PRED/PRED_TILE')"
      ]
     },
     "execution_count": 38,
     "metadata": {},
     "output_type": "execute_result"
    }
   ],
   "source": [
    "PRED_TILE_PATH"
   ]
  },
  {
   "cell_type": "code",
   "execution_count": null,
   "metadata": {},
   "outputs": [],
   "source": []
  }
 ],
 "metadata": {
  "language_info": {
   "name": "python"
  }
 },
 "nbformat": 4,
 "nbformat_minor": 2
}
