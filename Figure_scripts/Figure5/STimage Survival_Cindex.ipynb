{
 "cells": [
  {
   "cell_type": "code",
   "execution_count": 2,
   "id": "c11fa573",
   "metadata": {
    "scrolled": true
   },
   "outputs": [],
   "source": [
    "library(ClassifyR)\n",
    "library(tidyverse)\n",
    "library(survival)\n",
    "library(survminer)\n",
    "library(janitor)\n",
    "library(dplyr)\n",
    "library(survival)\n",
    "library(survcomp)\n",
    "library(ggplot2)\n",
    "library(RColorBrewer)\n",
    "library(caret)  \n",
    "library(boot)"
   ]
  },
  {
   "cell_type": "markdown",
   "id": "a242ddc3",
   "metadata": {},
   "source": [
    "#### Subtype of TCGA samples"
   ]
  },
  {
   "cell_type": "code",
   "execution_count": 3,
   "id": "f9a08b48",
   "metadata": {},
   "outputs": [],
   "source": [
    "################################### Metadata informtaion of subtype ###################################\n",
    "brca_meta <- read.table(\"/QRISdata/Q2051/Onkar/STimage/project_scratch_STimage/STimage_v1/Survival/BRCA.clin.merged.txt\", fill = TRUE, header = FALSE)\n",
    "brca_meta <- t(brca_meta)\n",
    "colnames(brca_meta) <- brca_meta[1, ]\n",
    "brca_meta <- brca_meta[-1, ]\n",
    "brca_meta <- as.data.frame(brca_meta)\n",
    "brca_meta$her2 <- ifelse(brca_meta$`patient.lab_proc_her2_neu_immunohistochemistry_receptor_status`==\"positive\",\"Her2+\",\"Others\")\n",
    "Her2_samples <- na.omit(toupper(unique(brca_meta[brca_meta$her2==\"Her2+\",]$patient.bcr_patient_barcode)))\n",
    "\n",
    "brca_meta$subtype <- ifelse((brca_meta$`patient.lab_proc_her2_neu_immunohistochemistry_receptor_status`==\"positive\"),\"Her2\",\n",
    "                     ifelse((brca_meta$`patient.lab_proc_her2_neu_immunohistochemistry_receptor_status`==\"negative\" &\n",
    "                            brca_meta$patient.breast_carcinoma_estrogen_receptor_status==\"negative\" &\n",
    "                            brca_meta$patient.breast_carcinoma_progesterone_receptor_status==\"negative\"),\"TNBC\",\n",
    "                     ifelse((brca_meta$patient.breast_carcinoma_estrogen_receptor_status==\"positive\" &\n",
    "                             brca_meta$patient.breast_carcinoma_progesterone_receptor_status==\"positive\") |  \n",
    "                             (brca_meta$patient.breast_carcinoma_estrogen_receptor_status==\"positive\" &\n",
    "                             brca_meta$patient.breast_carcinoma_progesterone_receptor_status==\"negative\"),\"Luminal\",\"Other\")))\n",
    "brca_meta <- brca_meta[c(\"patient.bcr_patient_barcode\",\"subtype\")]\n",
    "brca_meta$patient.bcr_patient_barcode <- toupper(brca_meta$patient.bcr_patient_barcode)\n",
    "brca_meta <- brca_meta %>% filter(grepl(\"^TCGA-\", patient.bcr_patient_barcode))\n",
    "brca_meta <- na.omit(brca_meta)\n",
    "brca_meta <- subset(brca_meta,subtype!=\"Other\")"
   ]
  },
  {
   "cell_type": "code",
   "execution_count": 4,
   "id": "7a0bf43b",
   "metadata": {},
   "outputs": [],
   "source": [
    "list_of_HistoQC_filtered_patients = read.csv(\"/QRISdata/Q2051/Onkar/STimage/project_scratch_STimage/STimage_v1/Outputs/group_scratch_Outputs/HistoQC_filtered.csv\")[\"Patient\"]"
   ]
  },
  {
   "cell_type": "markdown",
   "id": "ad13fa37",
   "metadata": {},
   "source": [
    "#### Predicted Pseudobulk gene expression"
   ]
  },
  {
   "cell_type": "code",
   "execution_count": 5,
   "id": "15a93f91",
   "metadata": {},
   "outputs": [
    {
     "name": "stderr",
     "output_type": "stream",
     "text": [
      "Warning message:\n",
      "“Row 1 does not provide unique names. Consider running clean_names() after row_to_names().”\n"
     ]
    }
   ],
   "source": [
    "survival_info = read.csv(\"/QRISdata/Q2051/Onkar/STimage/project_scratch_STimage/STimage_v1/Survival/Updated3_survival_info.csv\")\n",
    "survival_info <- unique(survival_info[c(\"case_id\",\"case_submitter_id\",\"time\",\"vital_status\",\"ajcc_pathologic_stage\")])\n",
    "\n",
    "final_gene_mean_counts = read.csv(\"/QRISdata/Q2051/Onkar/STimage/project_scratch_STimage/STimage_v1/Survival/Updated3_final_gene_mean_counts_names.csv\",header=FALSE)\n",
    "final_gene_mean_counts = janitor::row_to_names(final_gene_mean_counts,1)\n",
    "colnames(final_gene_mean_counts)[1] <- \"X\"\n",
    "final_gene_mean_counts_HQC_filt = final_gene_mean_counts[final_gene_mean_counts$X %in% list_of_HistoQC_filtered_patients$Patient,]\n",
    "\n",
    "final_gene_mean_counts_HQC_filt = t(final_gene_mean_counts_HQC_filt)\n",
    "final_gene_mean_counts_HQC_filt <- janitor::row_to_names(final_gene_mean_counts_HQC_filt,1)\n",
    "genes <- rownames(final_gene_mean_counts_HQC_filt)\n",
    "final_gene_mean_counts_HQC_filt <- as.data.frame(final_gene_mean_counts_HQC_filt)\n",
    "final_gene_mean_counts_HQC_filt <- apply(final_gene_mean_counts_HQC_filt, 2, function(x) as.numeric(as.character(x)))\n",
    "rownames(final_gene_mean_counts_HQC_filt) <- genes\n",
    "final_gene_mean_counts_HQC_filt <- t(final_gene_mean_counts_HQC_filt)\n",
    "final_gene_mean_counts_HQC_filt <- as.data.frame(final_gene_mean_counts_HQC_filt)\n",
    "                                         \n",
    "                                         \n",
    "rownames(final_gene_mean_counts_HQC_filt) <- gsub(\"\\\\.\", \"-\", rownames(final_gene_mean_counts_HQC_filt))\n",
    "final_gene_mean_counts_HQC_filt$pateint <- sub(\"\\\\-1$\", \"\", rownames(final_gene_mean_counts_HQC_filt))\n",
    "final_gene_mean_counts_HQC_filt$pateint_surv <- substring(final_gene_mean_counts_HQC_filt$pateint, 1, \n",
    "                                              nchar(final_gene_mean_counts_HQC_filt$pateint) - 4)\n",
    "                                \n",
    "##############################################################################################################################\n",
    "                                \n",
    "survival_info_2 <- data.frame(col1 = character(0))\n",
    "df_counts <- table(final_gene_mean_counts_HQC_filt$pateint_surv)\n",
    "for (value in unique(final_gene_mean_counts_HQC_filt$pateint_surv)) {\n",
    "  rows_df2 <- survival_info[survival_info$case_submitter_id == value, , drop = FALSE]\n",
    "  replicated_rows <- rows_df2[rep(seq_len(nrow(rows_df2)), df_counts[value]), , drop = FALSE]\n",
    "  survival_info_2 <- rbind(survival_info_2, replicated_rows)}\n",
    "rownames(survival_info_2) <- NULL\n",
    "survival_info_2 = survival_info_2[order(survival_info_2$case_submitter_id), ]\n",
    "\n",
    "final_gene_mean_counts_HQC_filt = final_gene_mean_counts_HQC_filt[order(final_gene_mean_counts_HQC_filt$pateint_surv), ]\n",
    "final_gene_mean_counts_HQC_filt = final_gene_mean_counts_HQC_filt[final_gene_mean_counts_HQC_filt$pateint_surv %in% survival_info_2$case_submitter_id,]\n",
    "\n",
    "data = merge(survival_info[c(\"case_submitter_id\",\"time\",\"vital_status\")], \n",
    "                   final_gene_mean_counts_HQC_filt, by.x = \"case_submitter_id\", by.y = \"pateint_surv\")\n",
    "\n",
    "unique_pseudobulk_data <- data[!duplicated(data), ]\n",
    "colnames(unique_pseudobulk_data)[3] <- \"status\" \n",
    "unique_pseudobulk_data$status <- ifelse(unique_pseudobulk_data$status == \"Dead\", 1, 0)\n",
    "colnames(unique_pseudobulk_data) <- gsub(\"[[:space:]-]+\", \"_\", colnames(unique_pseudobulk_data))   \n",
    "\n",
    "# Add Subtype\n",
    "unique_pseudobulk_data = merge(unique_pseudobulk_data,brca_meta,by.x=\"case_submitter_id\",by.y=\"patient.bcr_patient_barcode\")"
   ]
  },
  {
   "cell_type": "markdown",
   "id": "369328c7",
   "metadata": {},
   "source": [
    "#### True bulk gene expression"
   ]
  },
  {
   "cell_type": "code",
   "execution_count": 6,
   "id": "57e738d2",
   "metadata": {},
   "outputs": [],
   "source": [
    "all_bulk_ge = read.csv(\"/QRISdata/Q2051/Onkar/STimage/project_scratch_STimage/STimage_v1/Survival/Updated3_bluk_ge.csv\")\n",
    "all_bulk_ge <- all_bulk_ge %>%\n",
    "               group_by(gene_name) %>%\n",
    "               summarize(across(where(is.numeric), mean))\n",
    "all_bulk_ge <- t(all_bulk_ge)\n",
    "all_bulk_ge <- as.data.frame(all_bulk_ge)\n",
    "all_bulk_ge <- janitor::row_to_names(all_bulk_ge,1)\n",
    "rownames(all_bulk_ge) <- gsub(\"\\\\.\", \"-\", rownames(all_bulk_ge))\n",
    "patients_rownames <- rownames(all_bulk_ge)\n",
    "all_bulk_ge <- apply(all_bulk_ge, 2, function(x) as.numeric(as.character(x)))\n",
    "rownames(all_bulk_ge) <- patients_rownames\n",
    "all_bulk_ge <- as.data.frame(all_bulk_ge)\n",
    "all_bulk_ge$pateint <- sub(\"\\\\-1$\", \"\", rownames(all_bulk_ge))\n",
    "all_bulk_ge$pateint <- substring(rownames(all_bulk_ge), 1, nchar(rownames(all_bulk_ge)) - 4)\n",
    "all_bulk_ge <- all_bulk_ge %>%\n",
    "               group_by(pateint) %>%\n",
    "               summarize(across(where(is.numeric), mean))\n",
    "all_bulk_ge <- as.data.frame(all_bulk_ge)\n",
    "all_bulk_ge <- all_bulk_ge %>% column_to_rownames(var = \"pateint\")            \n",
    "                     \n",
    "                     \n",
    "data = merge(survival_info[c(\"case_submitter_id\",\"time\",\"vital_status\")], \n",
    "                   all_bulk_ge, by.x = \"case_submitter_id\", by.y = \"row.names\")\n",
    "\n",
    "unique_bulk_data <- data[!duplicated(data), ]\n",
    "unique_bulk_data <- unique_bulk_data %>% remove_rownames %>% column_to_rownames(var=\"case_submitter_id\")\n",
    "colnames(unique_bulk_data)[2] <- \"status\" \n",
    "unique_bulk_data$status <- ifelse(unique_bulk_data$status == \"Dead\", 1, 0)\n",
    "colnames(unique_bulk_data) <- gsub(\"[[:space:]-]+\", \"_\", colnames(unique_bulk_data))\n",
    "                     \n",
    "# Add subtypes                                          \n",
    "unique_bulk_data = merge(unique_bulk_data,brca_meta,by.x=\"row.names\",by.y=\"patient.bcr_patient_barcode\")\n",
    "rownames(unique_bulk_data) <- as.character(unique_bulk_data$Row.names)\n",
    "unique_bulk_data <- unique_bulk_data[, !colnames(unique_bulk_data) %in% \"Row.names\"]"
   ]
  },
  {
   "cell_type": "markdown",
   "id": "ab51ecd1",
   "metadata": {},
   "source": [
    "#### Matched Survival, Subtype, Bulk&Pseudobulk for 580 patients"
   ]
  },
  {
   "cell_type": "code",
   "execution_count": 7,
   "id": "d26ca54b",
   "metadata": {},
   "outputs": [],
   "source": [
    "common_patients <- intersect(rownames(unique_bulk_data),unique_pseudobulk_data$case_submitter_id)"
   ]
  },
  {
   "cell_type": "code",
   "execution_count": 8,
   "id": "c0c0bbcd",
   "metadata": {
    "scrolled": true
   },
   "outputs": [],
   "source": [
    "unique_bulk_data <- unique_bulk_data[rownames(unique_bulk_data) %in% common_patients,]\n",
    "unique_bulk_data$case_submitter_id <- rownames(unique_bulk_data)\n",
    "rownames(unique_bulk_data) <- NULL\n",
    "unique_pseudobulk_data <- unique_pseudobulk_data[unique_pseudobulk_data$case_submitter_id %in% common_patients,]\n",
    "unique_pseudobulk_data$pateint <- NULL"
   ]
  },
  {
   "cell_type": "code",
   "execution_count": 9,
   "id": "d6b748b3",
   "metadata": {},
   "outputs": [],
   "source": [
    "unique_pseudobulk_data <- unique_pseudobulk_data %>% arrange(case_submitter_id)\n",
    "\n",
    "# Step 2: Count occurrences in df1\n",
    "unique_pseudobulk_data_counts <- unique_pseudobulk_data %>% count(case_submitter_id)\n",
    "\n",
    "# Step 3: Expand df2 to match counts in df1\n",
    "unique_bulk_data_expanded <- unique_pseudobulk_data_counts %>%\n",
    "  left_join(unique_bulk_data, by = \"case_submitter_id\") %>%\n",
    "  group_by(case_submitter_id) %>%\n",
    "  slice(rep(1, n)) %>%  # Duplicate rows to match df1 counts\n",
    "  select(-n) %>%\n",
    "  ungroup()\n",
    "\n",
    "# Step 4: Arrange df2_expanded in the same order as df1\n",
    "unique_bulk_data_expanded <- unique_bulk_data_expanded[match(unique_pseudobulk_data$case_submitter_id, \n",
    "                                                             unique_bulk_data_expanded$case_submitter_id), ]\n",
    "\n",
    "# Cleaning the data based on time\n",
    "unique_bulk_data_expanded$time <- as.numeric(unique_bulk_data_expanded$time)\n",
    "unique_pseudobulk_data$time <- as.numeric(unique_pseudobulk_data$time)\n",
    "# unique_pseudobulk_data <- subset(unique_pseudobulk_data,time>0)\n",
    "# unique_bulk_data_expanded <- subset(unique_bulk_data_expanded,time>0)\n",
    "\n",
    "# Convert to dataframe\n",
    "unique_bulk_data_expanded <- as.data.frame(unique_bulk_data_expanded)\n",
    "unique_bulk_data_expanded <- unique(unique_bulk_data_expanded)\n",
    "unique_pseudobulk_data <- as.data.frame(unique_pseudobulk_data)\n",
    "unique_pseudobulk_data <- unique(unique_pseudobulk_data)"
   ]
  },
  {
   "cell_type": "markdown",
   "id": "5508a75f",
   "metadata": {},
   "source": [
    "#### Bulk survival analysis"
   ]
  },
  {
   "cell_type": "code",
   "execution_count": 10,
   "id": "df64232a",
   "metadata": {},
   "outputs": [],
   "source": [
    "top_predict_genes <- read.csv(\"/QRISdata/Q2051/Onkar/STimage/project_scratch_STimage/STimage_v1/stimage_LOOCV_9visium_top300gene.csv\")\n",
    "top_predict_genes$Gene <- gsub(\"-\",\"_\",top_predict_genes$Gene)"
   ]
  },
  {
   "cell_type": "code",
   "execution_count": 11,
   "id": "75ac0405",
   "metadata": {},
   "outputs": [],
   "source": [
    "unique_bulk_data_expanded$time <- as.integer(unique_bulk_data_expanded$time)\n",
    "true_subtype_results <- list()\n",
    "\n",
    "for (subtype_name in unique(unique_bulk_data_expanded$subtype)) {\n",
    "  \n",
    "  # Subset the data for the current subtype\n",
    "  subtype_data <- subset(unique_bulk_data_expanded, subtype == subtype_name)  \n",
    "  # Identify the genes (covariates) to use in the models\n",
    "  covariates <- intersect(colnames(subtype_data), top_predict_genes$Gene)\n",
    "  # Create a formula for each gene (e.g., Surv(time, status) ~ gene)\n",
    "  univ_formulas <- sapply(covariates,\n",
    "                          function(gene) as.formula(paste(\"Surv(time, status) ~\", gene)))\n",
    "  \n",
    "  # Fit a Cox model for each gene using the corresponding formula\n",
    "  univ_models <- lapply(univ_formulas, function(formula) {\n",
    "    coxph(formula, data = subtype_data)})\n",
    "  \n",
    "  # For each model, compute the predicted risk scores and then the c-index\n",
    "  true_c_index_list <- list()\n",
    "  for (i in seq_along(univ_models)) {\n",
    "    model <- univ_models[[i]]\n",
    "    gene_name <- covariates[i]\n",
    "    \n",
    "    # Obtain the predicted risk scores (linear predictors)\n",
    "    true_survival_scores <- predict(model, newdata = subtype_data, type = \"lp\")\n",
    "    \n",
    "    # Calculate the c-index for the current model\n",
    "    true_c_index_result <- concordance.index(x = true_survival_scores,\n",
    "                                        surv.time = subtype_data$time,\n",
    "                                        surv.event = subtype_data$status)\n",
    "    \n",
    "      \n",
    "  # Store the c-index (usually in c_index_result$c.index) with the gene name\n",
    "  true_c_index_list[[gene_name]] <- true_c_index_result$c.index}\n",
    "  \n",
    "  # Save the c-index list for the current subtype\n",
    "  true_subtype_results[[subtype_name]] <- true_c_index_list}\n",
    "      \n",
    "      \n",
    "#     # Extract the p-value for the Wald test from the model summary\n",
    "#     wald_p_value <- summary(model)$coef[1, \"Pr(>|z|)\"]    \n",
    "#     true_c_index_list[[gene_name]] <- list(\n",
    "#     concordance = true_c_index_result$c.index,\n",
    "#     wald_p_value = wald_p_value)}\n",
    "#     true_subtype_results[[subtype_name]] <- true_c_index_list}"
   ]
  },
  {
   "cell_type": "code",
   "execution_count": 12,
   "id": "2bbceb0f",
   "metadata": {
    "scrolled": true
   },
   "outputs": [],
   "source": [
    "covariates <- intersect(colnames(unique_bulk_data_expanded), top_predict_genes$Gene)\n",
    "univ_formulas <- sapply(covariates,\n",
    "                      function(gene) as.formula(paste(\"Surv(time, status) ~\", gene)))\n",
    "\n",
    "# Fit a Cox model for each gene using the corresponding formula\n",
    "univ_models <- lapply(univ_formulas, function(formula) {coxph(formula, data = unique_bulk_data_expanded)})\n",
    "\n",
    "true_c_index_all <- list()\n",
    "for (i in seq_along(univ_models)) {\n",
    "    model <- univ_models[[i]]\n",
    "    gene_name <- covariates[i]\n",
    "\n",
    "    true_survival_scores_all <- predict(model, newdata = unique_bulk_data_expanded, type = \"lp\")\n",
    "\n",
    "    # Calculate the c-index for the current model\n",
    "    true_c_index_all_result <- concordance.index(x = true_survival_scores_all,\n",
    "                                        surv.time = unique_bulk_data_expanded$time,\n",
    "                                        surv.event = unique_bulk_data_expanded$status)\n",
    "\n",
    "    # Store the c-index (usually in c_index_result$c.index) with the gene name\n",
    "    true_c_index_all[[gene_name]] <- true_c_index_all_result$c.index\n",
    "}\n",
    "true_c.index_scores = as.data.frame(t(as.data.frame(true_c_index_all)))\n",
    "true_c.index_scores = subset(true_c.index_scores,V1>0.5)\n",
    "true_c.index_scores <- true_c.index_scores %>% arrange(desc(V1))\n",
    "colnames(true_c.index_scores)[1] <- \"score\"\n",
    "true_c.index_scores[\"subtype\"]=\"zALL\""
   ]
  },
  {
   "cell_type": "code",
   "execution_count": 13,
   "id": "608c38d0",
   "metadata": {
    "scrolled": true
   },
   "outputs": [
    {
     "data": {
      "text/html": [
       "<strong>png:</strong> 2"
      ],
      "text/latex": [
       "\\textbf{png:} 2"
      ],
      "text/markdown": [
       "**png:** 2"
      ],
      "text/plain": [
       "png \n",
       "  2 "
      ]
     },
     "metadata": {},
     "output_type": "display_data"
    }
   ],
   "source": [
    "true_subtype_results_sorted <- lapply(true_subtype_results, function(inner_list) {\n",
    "  sorted_vec <- sort(unlist(inner_list), decreasing = TRUE)\n",
    "  as.list(sorted_vec)})\n",
    "\n",
    "true_subtype_results_long <- do.call(rbind, lapply(names(true_subtype_results_sorted), function(subtype) {\n",
    "    scores <- unlist(true_subtype_results_sorted[[subtype]])\n",
    "    data.frame(\n",
    "    subtype = subtype,\n",
    "    score   = scores,\n",
    "    row.names = names(scores),\n",
    "    stringsAsFactors = FALSE)}))\n",
    "\n",
    "# df_pred <- rbind(true_c.index_scores,true_subtype_results_long)\n",
    "df_pred <- true_subtype_results_long\n",
    "options(repr.plot.width=7,repr.plot.height=7)\n",
    "pdf(\"/QRISdata/Q2051/Onkar/STimage/project_scratch_STimage/STimage_v1/Survival/Survival_Cindex_true_boxplot.pdf\",width=5,height=6)\n",
    "ggplot(df_pred, aes(x = subtype, y = score, fill = subtype)) +\n",
    "  geom_boxplot() +\n",
    "  scale_fill_brewer(palette = \"Dark2\") +\n",
    "  labs(title = \"Boxplot by Group\",\n",
    "       x = \"Group\",\n",
    "       y = \"Value\") +\n",
    "  theme_minimal()+\n",
    "  theme(\n",
    "    plot.title = element_text(size = 25, face = \"bold\"),  # Title size\n",
    "    axis.title = element_text(size = 25),  \n",
    "    axis.text = element_text(size = 25, angle = 90, hjust = 1),    \n",
    "    legend.text = element_text(size = 25), \n",
    "    legend.title = element_text(size = 25))\n",
    "dev.off()"
   ]
  },
  {
   "cell_type": "code",
   "execution_count": 14,
   "id": "54cdef38",
   "metadata": {
    "scrolled": true
   },
   "outputs": [
    {
     "data": {
      "text/plain": [
       "\n",
       "High  Low \n",
       " 269  269 "
      ]
     },
     "metadata": {},
     "output_type": "display_data"
    },
    {
     "data": {
      "text/html": [
       "<strong>png:</strong> 2"
      ],
      "text/latex": [
       "\\textbf{png:} 2"
      ],
      "text/markdown": [
       "**png:** 2"
      ],
      "text/plain": [
       "png \n",
       "  2 "
      ]
     },
     "metadata": {},
     "output_type": "display_data"
    }
   ],
   "source": [
    "unique_bulk_data_expanded_cpy <- unique_bulk_data_expanded\n",
    "\n",
    "res_sig <- rownames(true_c.index_scores)[1:5] \n",
    "formula_string <- paste(\"Surv(time, status) ~\", paste(res_sig, collapse = \" + \"))\n",
    "res.cox <- coxph(as.formula(formula_string), data = unique_bulk_data_expanded_cpy)\n",
    "\n",
    "# Assuming you have already fitted a multivariate Cox regression model 'res.cox'\n",
    "# 1. Calculate survival scores\n",
    "survival_scores <- -predict(res.cox, type = \"lp\")\n",
    "# 2. Determine the median survival score\n",
    "median_score <- median(survival_scores)\n",
    "# 3. Categorize patients into high and low groups\n",
    "patient_groups <- ifelse(survival_scores > median_score, \"High\", \"Low\")\n",
    "# Add the patient groups to your original data (assuming your data is in 'lung' data frame)\n",
    "unique_bulk_data_expanded_cpy$SurvivalGroup <- patient_groups\n",
    "# Display the result\n",
    "table(unique_bulk_data_expanded_cpy$SurvivalGroup)\n",
    "\n",
    "####################################################################################################################\n",
    "\n",
    "# Fit survival curves\n",
    "surv_curve <- survfit(Surv(time, status) ~ SurvivalGroup, data = unique_bulk_data_expanded_cpy)\n",
    "# Create a ggsurvplot\n",
    "options(repr.plot.width=5, repr.plot.height=7.5)\n",
    "pdf(\"/QRISdata/Q2051/Onkar/STimage/project_scratch_STimage/STimage_v1/Survival/Survival_KM_true_all.pdf\",width=7.5,height=9)\n",
    "print(ggsurvplot(surv_curve, \n",
    "           pval = TRUE, \n",
    "           conf.int = TRUE, \n",
    "           risk.table.y.text.col = FALSE,\n",
    "           risk.table.y.text = FALSE,\n",
    "           risk.table = \"abs_pct\",\n",
    "           ggtheme = theme_light(),\n",
    "           legend.labs = c(\"Low Risk\", \"High Risk\"),\n",
    "           title = \"Survival Curve by Survival Score\",\n",
    "           palette = c(\"#E7B800\", \"#2E9FDF\"),\n",
    "           ncensor.plot = FALSE, \n",
    "           font.tickslab = c(15, \"plain\", \"black\"),\n",
    "           xlab = \"Time\", ylab = \"Survival Probability\"))\n",
    "dev.off()"
   ]
  },
  {
   "cell_type": "code",
   "execution_count": 15,
   "id": "24d79306",
   "metadata": {
    "scrolled": true
   },
   "outputs": [
    {
     "name": "stdout",
     "output_type": "stream",
     "text": [
      "[1] \"CD52\"  \"CD8A\"  \"CD3D\"  \"TRBC2\" \"GZMA\" \n",
      "[1] \"DDX41\"   \"HDAC5\"   \"HLA_DMB\" \"SDHB\"    \"MAP3K7\" \n",
      "[1] \"KIF5B\"  \"PAK1\"   \"FUBP1\"  \"NOTCH1\" \"COMMD3\"\n"
     ]
    },
    {
     "data": {
      "text/html": [
       "<strong>png:</strong> 2"
      ],
      "text/latex": [
       "\\textbf{png:} 2"
      ],
      "text/markdown": [
       "**png:** 2"
      ],
      "text/plain": [
       "png \n",
       "  2 "
      ]
     },
     "metadata": {},
     "output_type": "display_data"
    }
   ],
   "source": [
    "unique_bulk_data_expanded_cpy <- unique_bulk_data_expanded\n",
    "pdf(\"/QRISdata/Q2051/Onkar/STimage/project_scratch_STimage/STimage_v1/Survival/Survival_KM_true_subtype.pdf\",width=7.5,height=9)\n",
    "\n",
    "for (subtype_name in unique(unique_bulk_data_expanded_cpy$subtype)){\n",
    "    subtype_data <- subset(unique_bulk_data_expanded_cpy, subtype == subtype_name)\n",
    "    top_pre_genes <- names(true_subtype_results_sorted[[subtype_name]][1:5])\n",
    "    \n",
    "####################################################################################################################                        \n",
    "                        \n",
    "    res_sig <- top_pre_genes\n",
    "    subtype_data_pat <- subtype_data[colnames(subtype_data) %in% c(\"time\",\"status\",top_pre_genes)]\n",
    "    formula_string <- paste(\"Surv(time, status) ~\", paste(res_sig, collapse = \" + \"))\n",
    "    res.cox <- coxph(as.formula(formula_string), data = subtype_data_pat)\n",
    "\n",
    "    # 1. Calculate survival scores\n",
    "    survival_scores <- -predict(res.cox, type = \"lp\")\n",
    "    # 2. Determine the median survival score\n",
    "    median_score <- median(survival_scores)\n",
    "    # 3. Categorize patients into high and low groups\n",
    "    patient_groups <- ifelse(survival_scores > median_score, \"High\", \"Low\")\n",
    "    # Add the patient groups to your original data (assuming your data is in 'lung' data frame)\n",
    "    subtype_data_pat$SurvivalGroup <- patient_groups\n",
    "    # Display the result\n",
    "    table(subtype_data_pat$SurvivalGroup)\n",
    "\n",
    "    ####################################################################################################################\n",
    "\n",
    "    # Fit survival curves\n",
    "    surv_curve <- survfit(Surv(time, status) ~ SurvivalGroup, data = subtype_data_pat)\n",
    "    options(repr.plot.width=5, repr.plot.height=7.5)\n",
    "    print(ggsurvplot(surv_curve, \n",
    "               pval = TRUE, \n",
    "               conf.int = TRUE, \n",
    "               risk.table.y.text.col = FALSE,\n",
    "               risk.table.y.text = FALSE,\n",
    "               risk.table = \"abs_pct\",\n",
    "               ggtheme = theme_light(),\n",
    "               legend.labs = c(\"Low Risk\", \"High Risk\"),\n",
    "               title = \"Survival Curve by Survival Score\",\n",
    "               palette = c(\"#E7B800\", \"#2E9FDF\"),\n",
    "               ncensor.plot = FALSE, \n",
    "               font.tickslab = c(26, \"plain\", \"black\"),\n",
    "               xlab = \"Time\", ylab = \"Survival Probability\"))\n",
    "    print(top_pre_genes)}\n",
    "dev.off()"
   ]
  },
  {
   "cell_type": "code",
   "execution_count": 16,
   "id": "294e9af2",
   "metadata": {
    "scrolled": true
   },
   "outputs": [
    {
     "name": "stderr",
     "output_type": "stream",
     "text": [
      "Warning message in .local(measurements, ...):\n",
      "“'measurements' DataFrame must have sample identifiers as its row names. Generating generic ones.”\n",
      "R_zmq_msg_send errno: 4 strerror: Interrupted system call\n",
      "R_zmq_msg_send errno: 4 strerror: Interrupted system call\n",
      "R_zmq_msg_send errno: 4 strerror: Interrupted system call\n",
      "R_zmq_msg_send errno: 4 strerror: Interrupted system call\n",
      "R_zmq_msg_send errno: 4 strerror: Interrupted system call\n",
      "R_zmq_msg_send errno: 4 strerror: Interrupted system call\n",
      "R_zmq_msg_send errno: 4 strerror: Interrupted system call\n",
      "R_zmq_msg_send errno: 4 strerror: Interrupted system call\n",
      "R_zmq_msg_send errno: 4 strerror: Interrupted system call\n",
      "R_zmq_msg_send errno: 4 strerror: Interrupted system call\n",
      "R_zmq_msg_send errno: 4 strerror: Interrupted system call\n",
      "R_zmq_msg_send errno: 4 strerror: Interrupted system call\n",
      "R_zmq_msg_send errno: 4 strerror: Interrupted system call\n",
      "R_zmq_msg_send errno: 4 strerror: Interrupted system call\n",
      "R_zmq_msg_send errno: 4 strerror: Interrupted system call\n",
      "\n",
      "\n",
      "R_zmq_msg_send errno: 4 strerror: Interrupted system call\n",
      "R_zmq_msg_send errno: 4 strerror: Interrupted system call\n",
      "R_zmq_msg_send errno: 4 strerror: Interrupted system call\n",
      "R_zmq_msg_send errno: 4 strerror: Interrupted system call\n",
      "R_zmq_msg_send errno: 4 strerror: Interrupted system call\n",
      "R_zmq_msg_send errno: 4 strerror: Interrupted system call\n",
      "R_zmq_msg_send errno: 4 strerror: Interrupted system call\n",
      "R_zmq_msg_send errno: 4 strerror: Interrupted system call\n",
      "R_zmq_msg_send errno: 4 strerror: Interrupted system call\n",
      "R_zmq_msg_send errno: 4 strerror: Interrupted system call\n",
      "R_zmq_msg_send errno: 4 strerror: Interrupted system call\n",
      "R_zmq_msg_send errno: 4 strerror: Interrupted system call\n",
      "R_zmq_msg_send errno: 4 strerror: Interrupted system call\n",
      "R_zmq_msg_send errno: 4 strerror: Interrupted system call\n",
      "R_zmq_msg_send errno: 4 strerror: Interrupted system call\n",
      "\n",
      "\n",
      "Warning message in .local(measurements, ...):\n",
      "“'measurements' DataFrame must have sample identifiers as its row names. Generating generic ones.”\n",
      "R_zmq_msg_send errno: 4 strerror: Interrupted system call\n",
      "R_zmq_msg_send errno: 4 strerror: Interrupted system call\n",
      "R_zmq_msg_send errno: 4 strerror: Interrupted system call\n",
      "R_zmq_msg_send errno: 4 strerror: Interrupted system call\n",
      "R_zmq_msg_send errno: 4 strerror: Interrupted system call\n",
      "R_zmq_msg_send errno: 4 strerror: Interrupted system call\n",
      "R_zmq_msg_send errno: 4 strerror: Interrupted system call\n",
      "R_zmq_msg_send errno: 4 strerror: Interrupted system call\n",
      "R_zmq_msg_send errno: 4 strerror: Interrupted system call\n",
      "R_zmq_msg_send errno: 4 strerror: Interrupted system call\n",
      "R_zmq_msg_send errno: 4 strerror: Interrupted system call\n",
      "R_zmq_msg_send errno: 4 strerror: Interrupted system call\n",
      "R_zmq_msg_send errno: 4 strerror: Interrupted system call\n",
      "R_zmq_msg_send errno: 4 strerror: Interrupted system call\n",
      "R_zmq_msg_send errno: 4 strerror: Interrupted system call\n",
      "\n",
      "\n",
      "R_zmq_msg_send errno: 4 strerror: Interrupted system call\n",
      "R_zmq_msg_send errno: 4 strerror: Interrupted system call\n",
      "R_zmq_msg_send errno: 4 strerror: Interrupted system call\n",
      "R_zmq_msg_send errno: 4 strerror: Interrupted system call\n",
      "R_zmq_msg_send errno: 4 strerror: Interrupted system call\n",
      "R_zmq_msg_send errno: 4 strerror: Interrupted system call\n",
      "R_zmq_msg_send errno: 4 strerror: Interrupted system call\n",
      "R_zmq_msg_send errno: 4 strerror: Interrupted system call\n",
      "R_zmq_msg_send errno: 4 strerror: Interrupted system call\n",
      "R_zmq_msg_send errno: 4 strerror: Interrupted system call\n",
      "R_zmq_msg_send errno: 4 strerror: Interrupted system call\n",
      "R_zmq_msg_send errno: 4 strerror: Interrupted system call\n",
      "R_zmq_msg_send errno: 4 strerror: Interrupted system call\n",
      "R_zmq_msg_send errno: 4 strerror: Interrupted system call\n",
      "R_zmq_msg_send errno: 4 strerror: Interrupted system call\n",
      "\n",
      "\n",
      "Warning message in .local(measurements, ...):\n",
      "“'measurements' DataFrame must have sample identifiers as its row names. Generating generic ones.”\n",
      "R_zmq_msg_send errno: 4 strerror: Interrupted system call\n",
      "R_zmq_msg_send errno: 4 strerror: Interrupted system call\n",
      "R_zmq_msg_send errno: 4 strerror: Interrupted system call\n",
      "R_zmq_msg_send errno: 4 strerror: Interrupted system call\n",
      "R_zmq_msg_send errno: 4 strerror: Interrupted system call\n",
      "R_zmq_msg_send errno: 4 strerror: Interrupted system call\n",
      "R_zmq_msg_send errno: 4 strerror: Interrupted system call\n",
      "R_zmq_msg_send errno: 4 strerror: Interrupted system call\n",
      "R_zmq_msg_send errno: 4 strerror: Interrupted system call\n",
      "R_zmq_msg_send errno: 4 strerror: Interrupted system call\n",
      "R_zmq_msg_send errno: 4 strerror: Interrupted system call\n",
      "R_zmq_msg_send errno: 4 strerror: Interrupted system call\n",
      "R_zmq_msg_send errno: 4 strerror: Interrupted system call\n",
      "R_zmq_msg_send errno: 4 strerror: Interrupted system call\n",
      "R_zmq_msg_send errno: 4 strerror: Interrupted system call\n",
      "R_zmq_msg_send errno: 4 strerror: Interrupted system call\n",
      "R_zmq_msg_send errno: 4 strerror: Interrupted system call\n",
      "R_zmq_msg_send errno: 4 strerror: Interrupted system call\n",
      "R_zmq_msg_send errno: 4 strerror: Interrupted system call\n",
      "R_zmq_msg_send errno: 4 strerror: Interrupted system call\n",
      "R_zmq_msg_send errno: 4 strerror: Interrupted system call\n",
      "R_zmq_msg_send errno: 4 strerror: Interrupted system call\n",
      "\n",
      "\n",
      "R_zmq_msg_send errno: 4 strerror: Interrupted system call\n",
      "R_zmq_msg_send errno: 4 strerror: Interrupted system call\n",
      "R_zmq_msg_send errno: 4 strerror: Interrupted system call\n",
      "R_zmq_msg_send errno: 4 strerror: Interrupted system call\n",
      "R_zmq_msg_send errno: 4 strerror: Interrupted system call\n",
      "R_zmq_msg_send errno: 4 strerror: Interrupted system call\n",
      "R_zmq_msg_send errno: 4 strerror: Interrupted system call\n",
      "R_zmq_msg_send errno: 4 strerror: Interrupted system call\n",
      "R_zmq_msg_send errno: 4 strerror: Interrupted system call\n",
      "R_zmq_msg_send errno: 4 strerror: Interrupted system call\n",
      "R_zmq_msg_send errno: 4 strerror: Interrupted system call\n",
      "R_zmq_msg_send errno: 4 strerror: Interrupted system call\n",
      "R_zmq_msg_send errno: 4 strerror: Interrupted system call\n",
      "R_zmq_msg_send errno: 4 strerror: Interrupted system call\n",
      "R_zmq_msg_send errno: 4 strerror: Interrupted system call\n",
      "R_zmq_msg_send errno: 4 strerror: Interrupted system call\n",
      "R_zmq_msg_send errno: 4 strerror: Interrupted system call\n",
      "R_zmq_msg_send errno: 4 strerror: Interrupted system call\n",
      "R_zmq_msg_send errno: 4 strerror: Interrupted system call\n",
      "R_zmq_msg_send errno: 4 strerror: Interrupted system call\n",
      "R_zmq_msg_send errno: 4 strerror: Interrupted system call\n",
      "R_zmq_msg_send errno: 4 strerror: Interrupted system call\n",
      "R_zmq_msg_send errno: 4 strerror: Interrupted system call\n",
      "R_zmq_msg_send errno: 4 strerror: Interrupted system call\n",
      "\n",
      "\n",
      "Warning message:\n",
      "“\u001b[1m\u001b[22mRemoved 4 rows containing non-finite values (`stat_boxplot()`).”\n",
      "Warning message:\n",
      "“\u001b[1m\u001b[22mRemoved 4 rows containing missing values (`geom_point()`).”\n"
     ]
    },
    {
     "data": {
      "text/html": [
       "<strong>png:</strong> 2"
      ],
      "text/latex": [
       "\\textbf{png:} 2"
      ],
      "text/markdown": [
       "**png:** 2"
      ],
      "text/plain": [
       "png \n",
       "  2 "
      ]
     },
     "metadata": {},
     "output_type": "display_data"
    }
   ],
   "source": [
    "cindex_subtypes <- list()\n",
    "filtered_data <- subset(unique_bulk_data_expanded_cpy, subtype != \"Other\")  \n",
    "for (subtype_name in unique(filtered_data$subtype)) {  \n",
    "    \n",
    "    subtype_data <- subset(filtered_data, subtype == subtype_name)\n",
    "    top_pre_genes <- names(true_subtype_results_sorted[[subtype_name]][1:5])\n",
    "    survCrossValidated <- crossValidate(subtype_data[c(top_pre_genes,\"time\",\"status\")], \n",
    "                                        c(\"time\", \"status\"),\n",
    "                                        nFeatures = c(5),\n",
    "                                        nFolds = 3, nRepeats = 100,\n",
    "                                        classifier=\"CoxPH\",\n",
    "                                        selectionMethod = \"CoxPH\",\n",
    "                                        nCores = 2)\n",
    "\n",
    "    pred_df <- as.data.frame(survCrossValidated@predictions)\n",
    "    actual_df <- data.frame(sample = survCrossValidated@originalNames,\n",
    "                            truth = survCrossValidated@actualOutcome)\n",
    "    eval_df <- left_join(pred_df, actual_df, by = \"sample\")\n",
    "    results <- eval_df %>%\n",
    "      group_by(permutation, fold) %>%\n",
    "      group_modify(~{\n",
    "        concordance(\n",
    "          truth ~ risk,\n",
    "          data = .x,\n",
    "          reverse = TRUE\n",
    "        )$concordance %>%\n",
    "          as.data.frame() %>%\n",
    "          rename(\"cindex\" = \".\")\n",
    "      })\n",
    "    cindex_subtypes[[subtype_name]] <- results}\n",
    "\n",
    "\n",
    "cindex_subtypes$Her2 <- cindex_subtypes$Her2[c(\"cindex\")]\n",
    "cindex_subtypes$Luminal <- cindex_subtypes$Luminal[c(\"cindex\")]\n",
    "cindex_subtypes$TNBC <- cindex_subtypes$TNBC[c(\"cindex\")]\n",
    "\n",
    "pdf(\"/QRISdata/Q2051/Onkar/STimage/project_scratch_STimage/STimage_v1/Survival/Survival_Cindex_true_boxplot_multivariate.pdf\",width=5,height=6)\n",
    "ggplot(data.frame(Subtype = names(cindex_subtypes), Values = unlist(cindex_subtypes)), aes(x = Subtype, y = Values, fill = Subtype)) +\n",
    "  geom_boxplot() +\n",
    "  geom_jitter(width = 0.2, size = 1.5, alpha = 0.6) +\n",
    "  scale_fill_brewer(palette = \"Dark2\") +\n",
    "  theme_minimal() +\n",
    "  theme(\n",
    "    plot.title = element_text(size = 25, face = \"bold\"),  # Title size\n",
    "    axis.title = element_text(size = 25),  \n",
    "    axis.text = element_text(size = 25, angle = 90, hjust = 1),    \n",
    "    legend.text = element_text(size = 25), \n",
    "    legend.title = element_text(size = 25))\n",
    "dev.off()"
   ]
  },
  {
   "cell_type": "markdown",
   "id": "6fa69c46",
   "metadata": {},
   "source": [
    "#### Predicted data survival analysis"
   ]
  },
  {
   "cell_type": "code",
   "execution_count": 17,
   "id": "0ec1a1ec",
   "metadata": {},
   "outputs": [],
   "source": [
    "unique_pseudobulk_data$time <- as.integer(unique_pseudobulk_data$time)\n",
    "pred_subtype_results <- list()\n",
    "\n",
    "for (subtype_name in unique(unique_pseudobulk_data$subtype)) {\n",
    "  \n",
    "  # Subset the data for the current subtype\n",
    "  subtype_data <- subset(unique_pseudobulk_data, subtype == subtype_name)  \n",
    "  # Identify the genes (covariates) to use in the models\n",
    "  covariates <- intersect(colnames(subtype_data), top_predict_genes$Gene)\n",
    "  # Create a formula for each gene (e.g., Surv(time, status) ~ gene)\n",
    "  univ_formulas <- sapply(covariates,\n",
    "                          function(gene) as.formula(paste(\"Surv(time, status) ~\", gene)))\n",
    "  \n",
    "  # Fit a Cox model for each gene using the corresponding formula\n",
    "  univ_models <- lapply(univ_formulas, function(formula) {\n",
    "    coxph(formula, data = subtype_data)})\n",
    "  \n",
    "  # For each model, compute the predicted risk scores and then the c-index\n",
    "  pred_c_index_list <- list()\n",
    "  for (i in seq_along(univ_models)) {\n",
    "    model <- univ_models[[i]]\n",
    "    gene_name <- covariates[i]\n",
    "    \n",
    "    # Obtain the predicted risk scores (linear predictors)\n",
    "    pred_survival_scores <- predict(model, newdata = subtype_data, type = \"lp\")\n",
    "    \n",
    "    # Calculate the c-index for the current model\n",
    "    pred_c_index_result <- concordance.index(x = pred_survival_scores,\n",
    "                                        surv.time = subtype_data$time,\n",
    "                                        surv.event = subtype_data$status)\n",
    "    \n",
    "    # Store the c-index (usually in c_index_result$c.index) with the gene name\n",
    "    pred_c_index_list[[gene_name]] <- pred_c_index_result$c.index}\n",
    "  \n",
    "  # Save the c-index list for the current subtype\n",
    "  pred_subtype_results[[subtype_name]] <- pred_c_index_list}"
   ]
  },
  {
   "cell_type": "code",
   "execution_count": 18,
   "id": "e76c4729",
   "metadata": {},
   "outputs": [
    {
     "name": "stderr",
     "output_type": "stream",
     "text": [
      "Warning message in coxph.fit(X, Y, istrat, offset, init, control, weights = weights, :\n",
      "“Loglik converged before variable  1 ; coefficient may be infinite. ”\n"
     ]
    }
   ],
   "source": [
    "covariates <- intersect(colnames(unique_pseudobulk_data), top_predict_genes$Gene)\n",
    "univ_formulas <- sapply(covariates,\n",
    "                      function(gene) as.formula(paste(\"Surv(time, status) ~\", gene)))\n",
    "\n",
    "# Fit a Cox model for each gene using the corresponding formula\n",
    "univ_models <- lapply(univ_formulas, function(formula) {coxph(formula, data = unique_pseudobulk_data)})\n",
    "\n",
    "pred_c_index_all <- list()\n",
    "for (i in seq_along(univ_models)) {\n",
    "    model <- univ_models[[i]]\n",
    "    gene_name <- covariates[i]\n",
    "\n",
    "    pred_survival_scores_all <- predict(model, newdata = unique_pseudobulk_data, type = \"lp\")\n",
    "\n",
    "    # Calculate the c-index for the current model\n",
    "    pred_c_index_all_result <- concordance.index(x = pred_survival_scores_all,\n",
    "                                        surv.time = unique_pseudobulk_data$time,\n",
    "                                        surv.event = unique_pseudobulk_data$status)\n",
    "\n",
    "    # Store the c-index (usually in c_index_result$c.index) with the gene name\n",
    "    pred_c_index_all[[gene_name]] <- pred_c_index_all_result$c.index\n",
    "}\n",
    "pred_c.index_scores = as.data.frame(t(as.data.frame(pred_c_index_all)))\n",
    "pred_c.index_scores = subset(pred_c.index_scores,V1>0.5)\n",
    "pred_c.index_scores <- pred_c.index_scores %>% arrange(desc(V1))\n",
    "colnames(pred_c.index_scores)[1] <- \"score\"\n",
    "pred_c.index_scores[\"subtype\"]=\"zALL\""
   ]
  },
  {
   "cell_type": "code",
   "execution_count": 19,
   "id": "d7286f87",
   "metadata": {
    "scrolled": true
   },
   "outputs": [
    {
     "data": {
      "text/html": [
       "<strong>png:</strong> 2"
      ],
      "text/latex": [
       "\\textbf{png:} 2"
      ],
      "text/markdown": [
       "**png:** 2"
      ],
      "text/plain": [
       "png \n",
       "  2 "
      ]
     },
     "metadata": {},
     "output_type": "display_data"
    }
   ],
   "source": [
    "pred_subtype_results_sorted <- lapply(pred_subtype_results, function(inner_list) {\n",
    "  sorted_vec <- sort(unlist(inner_list), decreasing = TRUE)\n",
    "  as.list(sorted_vec)})\n",
    "\n",
    "pred_subtype_results_long <- do.call(rbind, lapply(names(pred_subtype_results_sorted), function(subtype) {\n",
    "    scores <- unlist(pred_subtype_results_sorted[[subtype]])\n",
    "    data.frame(\n",
    "    subtype = subtype,\n",
    "    score   = scores,\n",
    "    row.names = names(scores),\n",
    "    stringsAsFactors = FALSE)}))\n",
    "\n",
    "# df_pred <- rbind(pred_c.index_scores,pred_subtype_results_long)\n",
    "df_pred <- pred_subtype_results_long\n",
    "options(repr.plot.width=7,repr.plot.height=7)\n",
    "pdf(\"/QRISdata/Q2051/Onkar/STimage/project_scratch_STimage/STimage_v1/Survival/Survival_Cindex_pred_boxplot.pdf\",width=5,height=6)\n",
    "ggplot(df_pred, aes(x = subtype, y = score, fill = subtype)) +\n",
    "  geom_boxplot() +\n",
    "  scale_fill_brewer(palette = \"Dark2\") +\n",
    "  labs(title = \"Boxplot by Group\",\n",
    "       x = \"Group\",\n",
    "       y = \"Value\") +\n",
    "  theme_minimal()+\n",
    "  theme(\n",
    "    plot.title = element_text(size = 25, face = \"bold\"),  # Title size\n",
    "    axis.title = element_text(size = 25),  \n",
    "    axis.text = element_text(size = 25, angle = 90, hjust = 1),    \n",
    "    legend.text = element_text(size = 25), \n",
    "    legend.title = element_text(size = 25))\n",
    "dev.off()"
   ]
  },
  {
   "cell_type": "code",
   "execution_count": 20,
   "id": "648afd17",
   "metadata": {
    "scrolled": true
   },
   "outputs": [
    {
     "data": {
      "text/plain": [
       "\n",
       "High  Low \n",
       " 410  410 "
      ]
     },
     "metadata": {},
     "output_type": "display_data"
    },
    {
     "data": {
      "text/html": [
       "<strong>png:</strong> 2"
      ],
      "text/latex": [
       "\\textbf{png:} 2"
      ],
      "text/markdown": [
       "**png:** 2"
      ],
      "text/plain": [
       "png \n",
       "  2 "
      ]
     },
     "metadata": {},
     "output_type": "display_data"
    }
   ],
   "source": [
    "unique_pseudobulk_data_cpy <- unique_pseudobulk_data\n",
    "\n",
    "res_sig <- rownames(pred_c.index_scores)[1:5] \n",
    "formula_string <- paste(\"Surv(time, status) ~\", paste(res_sig, collapse = \" + \"))\n",
    "res.cox <- coxph(as.formula(formula_string), data = unique_pseudobulk_data_cpy)\n",
    "\n",
    "# Assuming you have already fitted a multivariate Cox regression model 'res.cox'\n",
    "# 1. Calculate survival scores\n",
    "survival_scores <- -predict(res.cox, type = \"lp\")\n",
    "# 2. Determine the median survival score\n",
    "median_score <- median(survival_scores)\n",
    "# 3. Categorize patients into high and low groups\n",
    "patient_groups <- ifelse(survival_scores > median_score, \"High\", \"Low\")\n",
    "# Add the patient groups to your original data (assuming your data is in 'lung' data frame)\n",
    "unique_pseudobulk_data_cpy$SurvivalGroup <- patient_groups\n",
    "# Display the result\n",
    "table(unique_pseudobulk_data_cpy$SurvivalGroup)\n",
    "\n",
    "####################################################################################################################\n",
    "\n",
    "# Fit survival curves\n",
    "surv_curve <- survfit(Surv(time, status) ~ SurvivalGroup, data = unique_pseudobulk_data_cpy)\n",
    "# Create a ggsurvplot\n",
    "options(repr.plot.width=5, repr.plot.height=7.5)\n",
    "pdf(\"/QRISdata/Q2051/Onkar/STimage/project_scratch_STimage/STimage_v1/Survival/Survival_KM_pred_all.pdf\",width=7.5,height=9)\n",
    "print(ggsurvplot(surv_curve, \n",
    "           pval = TRUE, \n",
    "           conf.int = TRUE, \n",
    "           risk.table.y.text.col = FALSE,\n",
    "           risk.table.y.text = FALSE,\n",
    "           risk.table = \"abs_pct\",\n",
    "           ggtheme = theme_light(),\n",
    "           legend.labs = c(\"Low Risk\", \"High Risk\"),\n",
    "           title = \"Survival Curve by Survival Score\",\n",
    "           palette = c(\"#E7B800\", \"#2E9FDF\"),\n",
    "           ncensor.plot = FALSE, \n",
    "           font.tickslab = c(15, \"plain\", \"black\"),\n",
    "           xlab = \"Time\", ylab = \"Survival Probability\"))\n",
    "dev.off()"
   ]
  },
  {
   "cell_type": "code",
   "execution_count": 21,
   "id": "015decbe",
   "metadata": {
    "scrolled": true
   },
   "outputs": [
    {
     "name": "stdout",
     "output_type": "stream",
     "text": [
      "[1] \"SFRP4\" \"IL2RG\" \"FYB1\"  \"C1QA\"  \"ITGB2\"\n",
      "[1] \"IGHA1\" \"FYB1\"  \"ANXA2\" \"CD9\"   \"MYH9\" \n",
      "[1] \"CD46\"  \"MIF\"   \"EIF4E\" \"ERBB3\" \"MAPK9\"\n"
     ]
    },
    {
     "data": {
      "text/html": [
       "<strong>png:</strong> 2"
      ],
      "text/latex": [
       "\\textbf{png:} 2"
      ],
      "text/markdown": [
       "**png:** 2"
      ],
      "text/plain": [
       "png \n",
       "  2 "
      ]
     },
     "metadata": {},
     "output_type": "display_data"
    }
   ],
   "source": [
    "unique_pseudobulk_data_cpy <- unique_pseudobulk_data\n",
    "pdf(\"/QRISdata/Q2051/Onkar/STimage/project_scratch_STimage/STimage_v1/Survival/Survival_KM_pred_subtype.pdf\",width=7.5,height=9)\n",
    "\n",
    "for (subtype_name in unique(unique_pseudobulk_data_cpy$subtype)){\n",
    "    subtype_data <- subset(unique_pseudobulk_data_cpy, subtype == subtype_name)\n",
    "    top_pre_genes <- names(pred_subtype_results_sorted[[subtype_name]][1:5])\n",
    "    \n",
    "####################################################################################################################                        \n",
    "                        \n",
    "    res_sig <- top_pre_genes\n",
    "    subtype_data_pat <- subtype_data[colnames(subtype_data) %in% c(\"time\",\"status\",top_pre_genes)]\n",
    "    formula_string <- paste(\"Surv(time, status) ~\", paste(res_sig, collapse = \" + \"))\n",
    "    res.cox <- coxph(as.formula(formula_string), data = subtype_data_pat)\n",
    "\n",
    "    # 1. Calculate survival scores\n",
    "    survival_scores <- -predict(res.cox, type = \"lp\")\n",
    "    # 2. Determine the median survival score\n",
    "    median_score <- median(survival_scores)\n",
    "    # 3. Categorize patients into high and low groups\n",
    "    patient_groups <- ifelse(survival_scores > median_score, \"High\", \"Low\")\n",
    "    # Add the patient groups to your original data (assuming your data is in 'lung' data frame)\n",
    "    subtype_data_pat$SurvivalGroup <- patient_groups\n",
    "    # Display the result\n",
    "    table(subtype_data_pat$SurvivalGroup)\n",
    "\n",
    "    ####################################################################################################################\n",
    "\n",
    "    # Fit survival curves\n",
    "    surv_curve <- survfit(Surv(time, status) ~ SurvivalGroup, data = subtype_data_pat)\n",
    "    options(repr.plot.width=5, repr.plot.height=7.5)\n",
    "    print(ggsurvplot(surv_curve, \n",
    "               pval = TRUE, \n",
    "               conf.int = TRUE, \n",
    "               risk.table.y.text.col = FALSE,\n",
    "               risk.table.y.text = FALSE,\n",
    "               risk.table = \"abs_pct\",\n",
    "               ggtheme = theme_light(),\n",
    "               legend.labs = c(\"Low Risk\", \"High Risk\"),\n",
    "               title = \"Survival Curve by Survival Score\",\n",
    "               palette = c(\"#E7B800\", \"#2E9FDF\"),\n",
    "               ncensor.plot = FALSE, \n",
    "               font.tickslab = c(26, \"plain\", \"black\"),\n",
    "               xlab = \"Time\", ylab = \"Survival Probability\"))\n",
    "    print(top_pre_genes)}\n",
    "dev.off()"
   ]
  },
  {
   "cell_type": "code",
   "execution_count": 22,
   "id": "34b01cb8",
   "metadata": {
    "scrolled": true
   },
   "outputs": [
    {
     "name": "stderr",
     "output_type": "stream",
     "text": [
      "Warning message in .local(measurements, ...):\n",
      "“'measurements' DataFrame must have sample identifiers as its row names. Generating generic ones.”\n",
      "R_zmq_msg_send errno: 4 strerror: Interrupted system call\n",
      "R_zmq_msg_send errno: 4 strerror: Interrupted system call\n",
      "R_zmq_msg_send errno: 4 strerror: Interrupted system call\n",
      "R_zmq_msg_send errno: 4 strerror: Interrupted system call\n",
      "R_zmq_msg_send errno: 4 strerror: Interrupted system call\n",
      "R_zmq_msg_send errno: 4 strerror: Interrupted system call\n",
      "R_zmq_msg_send errno: 4 strerror: Interrupted system call\n",
      "R_zmq_msg_send errno: 4 strerror: Interrupted system call\n",
      "R_zmq_msg_send errno: 4 strerror: Interrupted system call\n",
      "R_zmq_msg_send errno: 4 strerror: Interrupted system call\n",
      "R_zmq_msg_send errno: 4 strerror: Interrupted system call\n",
      "R_zmq_msg_send errno: 4 strerror: Interrupted system call\n",
      "R_zmq_msg_send errno: 4 strerror: Interrupted system call\n",
      "R_zmq_msg_send errno: 4 strerror: Interrupted system call\n",
      "R_zmq_msg_send errno: 4 strerror: Interrupted system call\n",
      "\n",
      "\n",
      "R_zmq_msg_send errno: 4 strerror: Interrupted system call\n",
      "R_zmq_msg_send errno: 4 strerror: Interrupted system call\n",
      "R_zmq_msg_send errno: 4 strerror: Interrupted system call\n",
      "R_zmq_msg_send errno: 4 strerror: Interrupted system call\n",
      "R_zmq_msg_send errno: 4 strerror: Interrupted system call\n",
      "R_zmq_msg_send errno: 4 strerror: Interrupted system call\n",
      "R_zmq_msg_send errno: 4 strerror: Interrupted system call\n",
      "R_zmq_msg_send errno: 4 strerror: Interrupted system call\n",
      "R_zmq_msg_send errno: 4 strerror: Interrupted system call\n",
      "R_zmq_msg_send errno: 4 strerror: Interrupted system call\n",
      "R_zmq_msg_send errno: 4 strerror: Interrupted system call\n",
      "R_zmq_msg_send errno: 4 strerror: Interrupted system call\n",
      "R_zmq_msg_send errno: 4 strerror: Interrupted system call\n",
      "R_zmq_msg_send errno: 4 strerror: Interrupted system call\n",
      "R_zmq_msg_send errno: 4 strerror: Interrupted system call\n",
      "\n",
      "\n",
      "Warning message in .local(measurements, ...):\n",
      "“'measurements' DataFrame must have sample identifiers as its row names. Generating generic ones.”\n",
      "R_zmq_msg_send errno: 4 strerror: Interrupted system call\n",
      "R_zmq_msg_send errno: 4 strerror: Interrupted system call\n",
      "R_zmq_msg_send errno: 4 strerror: Interrupted system call\n",
      "R_zmq_msg_send errno: 4 strerror: Interrupted system call\n",
      "R_zmq_msg_send errno: 4 strerror: Interrupted system call\n",
      "R_zmq_msg_send errno: 4 strerror: Interrupted system call\n",
      "R_zmq_msg_send errno: 4 strerror: Interrupted system call\n",
      "R_zmq_msg_send errno: 4 strerror: Interrupted system call\n",
      "R_zmq_msg_send errno: 4 strerror: Interrupted system call\n",
      "R_zmq_msg_send errno: 4 strerror: Interrupted system call\n",
      "R_zmq_msg_send errno: 4 strerror: Interrupted system call\n",
      "R_zmq_msg_send errno: 4 strerror: Interrupted system call\n",
      "R_zmq_msg_send errno: 4 strerror: Interrupted system call\n",
      "R_zmq_msg_send errno: 4 strerror: Interrupted system call\n",
      "R_zmq_msg_send errno: 4 strerror: Interrupted system call\n",
      "\n",
      "\n",
      "R_zmq_msg_send errno: 4 strerror: Interrupted system call\n",
      "R_zmq_msg_send errno: 4 strerror: Interrupted system call\n",
      "R_zmq_msg_send errno: 4 strerror: Interrupted system call\n",
      "R_zmq_msg_send errno: 4 strerror: Interrupted system call\n",
      "R_zmq_msg_send errno: 4 strerror: Interrupted system call\n",
      "R_zmq_msg_send errno: 4 strerror: Interrupted system call\n",
      "R_zmq_msg_send errno: 4 strerror: Interrupted system call\n",
      "R_zmq_msg_send errno: 4 strerror: Interrupted system call\n",
      "R_zmq_msg_send errno: 4 strerror: Interrupted system call\n",
      "R_zmq_msg_send errno: 4 strerror: Interrupted system call\n",
      "R_zmq_msg_send errno: 4 strerror: Interrupted system call\n",
      "R_zmq_msg_send errno: 4 strerror: Interrupted system call\n",
      "R_zmq_msg_send errno: 4 strerror: Interrupted system call\n",
      "R_zmq_msg_send errno: 4 strerror: Interrupted system call\n",
      "R_zmq_msg_send errno: 4 strerror: Interrupted system call\n",
      "\n",
      "\n",
      "Warning message in .local(measurements, ...):\n",
      "“'measurements' DataFrame must have sample identifiers as its row names. Generating generic ones.”\n",
      "R_zmq_msg_send errno: 4 strerror: Interrupted system call\n",
      "R_zmq_msg_send errno: 4 strerror: Interrupted system call\n",
      "R_zmq_msg_send errno: 4 strerror: Interrupted system call\n",
      "R_zmq_msg_send errno: 4 strerror: Interrupted system call\n",
      "R_zmq_msg_send errno: 4 strerror: Interrupted system call\n",
      "R_zmq_msg_send errno: 4 strerror: Interrupted system call\n",
      "R_zmq_msg_send errno: 4 strerror: Interrupted system call\n",
      "R_zmq_msg_send errno: 4 strerror: Interrupted system call\n",
      "R_zmq_msg_send errno: 4 strerror: Interrupted system call\n",
      "R_zmq_msg_send errno: 4 strerror: Interrupted system call\n",
      "R_zmq_msg_send errno: 4 strerror: Interrupted system call\n",
      "R_zmq_msg_send errno: 4 strerror: Interrupted system call\n",
      "R_zmq_msg_send errno: 4 strerror: Interrupted system call\n",
      "R_zmq_msg_send errno: 4 strerror: Interrupted system call\n",
      "R_zmq_msg_send errno: 4 strerror: Interrupted system call\n",
      "\n",
      "\n",
      "R_zmq_msg_send errno: 4 strerror: Interrupted system call\n",
      "R_zmq_msg_send errno: 4 strerror: Interrupted system call\n",
      "R_zmq_msg_send errno: 4 strerror: Interrupted system call\n",
      "R_zmq_msg_send errno: 4 strerror: Interrupted system call\n",
      "R_zmq_msg_send errno: 4 strerror: Interrupted system call\n",
      "R_zmq_msg_send errno: 4 strerror: Interrupted system call\n",
      "R_zmq_msg_send errno: 4 strerror: Interrupted system call\n",
      "R_zmq_msg_send errno: 4 strerror: Interrupted system call\n",
      "R_zmq_msg_send errno: 4 strerror: Interrupted system call\n",
      "R_zmq_msg_send errno: 4 strerror: Interrupted system call\n",
      "R_zmq_msg_send errno: 4 strerror: Interrupted system call\n",
      "R_zmq_msg_send errno: 4 strerror: Interrupted system call\n",
      "R_zmq_msg_send errno: 4 strerror: Interrupted system call\n",
      "R_zmq_msg_send errno: 4 strerror: Interrupted system call\n",
      "R_zmq_msg_send errno: 4 strerror: Interrupted system call\n",
      "\n",
      "\n"
     ]
    },
    {
     "data": {
      "text/html": [
       "<strong>png:</strong> 2"
      ],
      "text/latex": [
       "\\textbf{png:} 2"
      ],
      "text/markdown": [
       "**png:** 2"
      ],
      "text/plain": [
       "png \n",
       "  2 "
      ]
     },
     "metadata": {},
     "output_type": "display_data"
    }
   ],
   "source": [
    "cindex_subtypes <- list()\n",
    "filtered_data <- subset(unique_pseudobulk_data_cpy, subtype != \"Other\")  \n",
    "for (subtype_name in unique(filtered_data$subtype)) {  \n",
    "    \n",
    "    subtype_data <- subset(filtered_data, subtype == subtype_name)\n",
    "    top_pre_genes <- names(pred_subtype_results_sorted[[subtype_name]][1:5])\n",
    "    survCrossValidated <- crossValidate(subtype_data[c(top_pre_genes,\"time\",\"status\")], \n",
    "                                        c(\"time\", \"status\"),\n",
    "                                        nFeatures = c(5),\n",
    "                                        nFolds = 3, nRepeats = 100,\n",
    "                                        classifier=\"CoxPH\",\n",
    "                                        selectionMethod = \"CoxPH\",\n",
    "                                        nCores = 2)\n",
    "\n",
    "    pred_df <- as.data.frame(survCrossValidated@predictions)\n",
    "    actual_df <- data.frame(sample = survCrossValidated@originalNames,\n",
    "                            truth = survCrossValidated@actualOutcome)\n",
    "    eval_df <- left_join(pred_df, actual_df, by = \"sample\")\n",
    "    results <- eval_df %>%\n",
    "      group_by(permutation, fold) %>%\n",
    "      group_modify(~{\n",
    "        concordance(\n",
    "          truth ~ risk,\n",
    "          data = .x,\n",
    "          reverse = TRUE\n",
    "        )$concordance %>%\n",
    "          as.data.frame() %>%\n",
    "          rename(\"cindex\" = \".\")\n",
    "      })\n",
    "    cindex_subtypes[[subtype_name]] <- results}\n",
    "\n",
    "\n",
    "cindex_subtypes$Her2 <- cindex_subtypes$Her2[c(\"cindex\")]\n",
    "cindex_subtypes$Luminal <- cindex_subtypes$Luminal[c(\"cindex\")]\n",
    "cindex_subtypes$TNBC <- cindex_subtypes$TNBC[c(\"cindex\")]\n",
    "\n",
    "pdf(\"/QRISdata/Q2051/Onkar/STimage/project_scratch_STimage/STimage_v1/Survival/Survival_Cindex_pred_boxplot_multivariate.pdf\",width=5,height=6)\n",
    "ggplot(data.frame(Subtype = names(cindex_subtypes), Values = unlist(cindex_subtypes)), aes(x = Subtype, y = Values, fill = Subtype)) +\n",
    "  geom_boxplot() +\n",
    "  geom_jitter(width = 0.2, size = 1.5, alpha = 0.6) +\n",
    "  scale_fill_brewer(palette = \"Dark2\") +\n",
    "  theme_minimal() +\n",
    "  theme(\n",
    "    plot.title = element_text(size = 25, face = \"bold\"),  # Title size\n",
    "    axis.title = element_text(size = 25),  \n",
    "    axis.text = element_text(size = 25, angle = 90, hjust = 1),    \n",
    "    legend.text = element_text(size = 25), \n",
    "    legend.title = element_text(size = 25))\n",
    "dev.off()"
   ]
  },
  {
   "cell_type": "code",
   "execution_count": null,
   "id": "85498c74",
   "metadata": {},
   "outputs": [],
   "source": []
  }
 ],
 "metadata": {
  "kernelspec": {
   "display_name": "R",
   "language": "R",
   "name": "ir"
  },
  "language_info": {
   "codemirror_mode": "r",
   "file_extension": ".r",
   "mimetype": "text/x-r-source",
   "name": "R",
   "pygments_lexer": "r",
   "version": "4.4.2"
  }
 },
 "nbformat": 4,
 "nbformat_minor": 5
}
