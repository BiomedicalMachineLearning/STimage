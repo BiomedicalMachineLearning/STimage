{
 "cells": [
  {
   "cell_type": "code",
   "execution_count": 1,
   "id": "9e5b4dc4",
   "metadata": {},
   "outputs": [],
   "source": [
    "from scipy.stats import pearsonr\n",
    "import matplotlib.pyplot as plt\n",
    "import seaborn as sns\n",
    "from tqdm import tqdm\n",
    "import scanpy as sc\n",
    "import pandas as pd\n",
    "import numpy as np\n",
    "import os\n",
    "import re"
   ]
  },
  {
   "cell_type": "markdown",
   "id": "a88f050f",
   "metadata": {},
   "source": [
    "### Load the files from the directory"
   ]
  },
  {
   "cell_type": "code",
   "execution_count": 2,
   "id": "b88ce6ac",
   "metadata": {},
   "outputs": [],
   "source": [
    "Path = \"/QRISdata/Q2051/STimage_project/TCGA_pred/\"\n",
    "\n",
    "def get_filenames_in_directory(directory_path):\n",
    "    h5_filenames = []\n",
    "    for filename in os.listdir(directory_path):\n",
    "        if filename.endswith(\".h5ad\") and os.path.isfile(os.path.join(directory_path, filename)):\n",
    "            h5_filenames.append(filename)\n",
    "    return h5_filenames\n",
    "\n",
    "def TCGA_name(original_array):\n",
    "    result_array = []\n",
    "    for item in original_array:\n",
    "        parts = item.split(\"_\")\n",
    "        if len(parts) >= 2:\n",
    "            second_part = parts[1].split(\".\")[0]\n",
    "            result_array.append(second_part)\n",
    "    pattern1 = re.compile(r'-\\d+-\\w+$')\n",
    "    pattern2 = re.compile(r'(.+)-\\w+-\\d+-\\w+$')\n",
    "    name_info = [re.sub(pattern1, '', s) for s in result_array]\n",
    "    name_surv_info = [re.sub(pattern2, r'\\1', s) for s in result_array]   \n",
    "    return name_info, name_surv_info"
   ]
  },
  {
   "cell_type": "markdown",
   "id": "493d5180",
   "metadata": {},
   "source": [
    "### Align the bulk and predicted gene expression with the clinical information"
   ]
  },
  {
   "cell_type": "code",
   "execution_count": null,
   "id": "7fd987c2",
   "metadata": {
    "scrolled": true
   },
   "outputs": [],
   "source": [
    "filenames = get_filenames_in_directory(Path)\n",
    "name_info, name_surv_info = TCGA_name(filenames)\n",
    "final_gene_counts = pd.DataFrame()\n",
    "final_gene_mean_counts = pd.DataFrame()\n",
    "for i in tqdm(range(len(filenames)), desc=\"Processing files\"):\n",
    "    try:\n",
    "        adata = sc.read_h5ad(Path + filenames[i])\n",
    "        gene_counts = adata.to_df()\n",
    "        gene_counts.index = [name_info[i]] * len(gene_counts)\n",
    "        gene_counts_mean = pd.DataFrame(gene_counts.mean(axis=0))\n",
    "        final_gene_counts = pd.concat([final_gene_counts, gene_counts])\n",
    "        final_gene_mean_counts = pd.concat([final_gene_mean_counts, gene_counts_mean.T])\n",
    "    except:\n",
    "        print(\"File empty:\",Path + filenames[i])\n",
    "        del name_info[i]\n",
    "\n",
    "final_gene_mean_counts.index = name_info\n",
    "\n",
    "final_gene_counts.to_csv(\"/scratch/project/stseq/Onkar/STimage_v1/Survival/Updated2_final_gene_counts.csv\")\n",
    "final_gene_mean_counts.to_csv(\"/scratch/project/stseq/Onkar/STimage_v1/Survival/Updated2_final_gene_mean_counts.csv\")\n",
    "\n",
    "##############################################################################################################################\n",
    "\n",
    "survival_info = pd.read_excel(\"/scratch/project/stseq/Onkar/STimage_v1/Survival/STimage_TCGA_patients.xlsx\")\n",
    "sample_info = pd.read_csv(\"/scratch/project/stseq/Onkar/STimage_v1/Survival/gdc_sample_sheet.2024-01-24.tsv\",sep=\"\\t\")\n",
    "\n",
    "survival_info = survival_info[survival_info[\"case_submitter_id\"].isin(name_surv_info)]\n",
    "sample_info = sample_info[sample_info[\"Sample ID\"].isin(name_info)]\n",
    "\n",
    "##############################################################################################################################\n",
    "\n",
    "all_bulk_ge = pd.DataFrame()\n",
    "for i in tqdm(range(len(sample_info)), desc=\"Processing bulk gene expression files\"):\n",
    "    try:\n",
    "        bulk_ge = pd.read_csv(\"/scratch/project/stseq/Onkar/STimage_v1/Survival/\" + list(sample_info[\"File Name\"])[i],\n",
    "                              sep=\"\\t\", skiprows=1)\n",
    "        bulk_ge = bulk_ge.iloc[4:, :]\n",
    "        bulk_ge = bulk_ge.set_index(\"gene_name\")\n",
    "        bulk_ge = bulk_ge[[\"tpm_unstranded\"]]\n",
    "        bulk_ge.rename(columns={'tpm_unstranded': name_info[i]}, inplace=True)\n",
    "        bulk_ge = bulk_ge[bulk_ge.index.isin(list(final_gene_counts.columns))]\n",
    "        all_bulk_ge = pd.concat([all_bulk_ge, bulk_ge], axis=1)\n",
    "    except:\n",
    "        print(\"File empty:\",Path + filenames[i])\n",
    "all_bulk_ge.to_csv(\"/scratch/project/stseq/Onkar/STimage_v1/Survival/Updated2_bluk_ge.csv\")\n",
    "\n",
    "##############################################################################################################################\n",
    "\n",
    "survival_info = survival_info[[\"case_id\",\"case_submitter_id\",\n",
    "                               \"vital_status\",\"days_to_last_follow_up\",\n",
    "                               \"days_to_death\",\"ajcc_pathologic_stage\"]]\n",
    "survival_info[\"time\"] = np.where(survival_info[\"vital_status\"]==\"Alive\",survival_info[\"days_to_last_follow_up\"],survival_info[\"days_to_death\"])\n",
    "survival_info = survival_info[[\"case_id\",\"case_submitter_id\",\"time\",\n",
    "                               \"vital_status\",\"ajcc_pathologic_stage\"]]\n",
    "survival_info.to_csv(\"/scratch/project/stseq/Onkar/STimage_v1/Survival/Updated2_survival_info.csv\")"
   ]
  },
  {
   "cell_type": "code",
   "execution_count": 3,
   "id": "a16fe702",
   "metadata": {},
   "outputs": [],
   "source": [
    "all_bulk_ge = pd.read_csv(\"/scratch/project/stseq/Onkar/STimage_v1/Survival/Updated2_bluk_ge.csv\",index_col=0)\n",
    "final_gene_mean_counts = pd.read_csv(\"/scratch/project/stseq/Onkar/STimage_v1/Survival/Updated2_final_gene_mean_counts.csv\",\n",
    "                                     index_col=0)\n",
    "\n",
    "# Take the average if 1 patient has 2 RNA-Seq runs \n",
    "all_bulk_ge.columns = all_bulk_ge.columns.str.split('.').str[0]\n",
    "all_bulk_ge = all_bulk_ge.groupby(all_bulk_ge.columns, axis=1).mean()\n",
    "\n",
    "# Remove duplicate genes with 0s\n",
    "all_bulk_ge = all_bulk_ge[~((all_bulk_ge.index.duplicated(keep=False)) & (all_bulk_ge.eq(0).all(axis=1)))]\n",
    "all_bulk_ge = all_bulk_ge.reindex(final_gene_mean_counts.columns)\n",
    "\n",
    "##############################################################################################################################\n",
    "\n",
    "# Subset the dataframe to the patients for which we have RNA-seq and rearrange the columns and rows\n",
    "final_gene_mean_counts = final_gene_mean_counts[final_gene_mean_counts.index.isin(all_bulk_ge.columns)].T.sort_index(axis=1)\n",
    "column_names_list = list(final_gene_mean_counts.columns)\n",
    "column_counts = {col: column_names_list.count(col) for col in set(column_names_list)}\n",
    "for col, count in column_counts.items():\n",
    "    for i in range(1, count):\n",
    "        new_col_name = f\"{col}_{i + 1}\"\n",
    "        all_bulk_ge[new_col_name] = all_bulk_ge[col]\n",
    "all_bulk_ge.columns = all_bulk_ge.columns.str.split('_').str[0]\n",
    "all_bulk_ge = all_bulk_ge.sort_index(axis=1)\n",
    "\n",
    "##############################################################################################################################\n",
    "\n",
    "# For unique\n",
    "final_gene_mean_counts = final_gene_mean_counts.groupby(final_gene_mean_counts.index, axis=0).mean()\n",
    "final_gene_mean_counts = final_gene_mean_counts[final_gene_mean_counts.index.isin(all_bulk_ge.columns)]\n",
    "final_gene_mean_counts = final_gene_mean_counts.T\n",
    "final_gene_mean_counts = final_gene_mean_counts[all_bulk_ge.columns]"
   ]
  },
  {
   "cell_type": "code",
   "execution_count": 37,
   "id": "94d6c3fe",
   "metadata": {
    "scrolled": true
   },
   "outputs": [],
   "source": [
    "all_bulk_ge.T[all_bulk_ge.columns.str.contains(\"TCGA-A2-A3KD-01A\")]\n",
    "all_bulk_ge.T[all_bulk_ge.columns.str.contains(\"TCGA-3C-AALJ-01Z\")][[\"VEGFA\",\"MPPED1\"]]\n",
    "final_gene_mean_counts.T[final_gene_mean_counts.columns.str.contains(\"TCGA-A2-A3KD-01A\")][[\"VEGFA\",\"MPPED1\"]]\n",
    "\n",
    "cor = pd.read_csv(\"/scratch/project/stseq/Onkar/STimage_v1/Survival/TCGA_PCC.csv\")\n",
    "cor[cor[\"Column\"].str.contains(\"TCGA-3C-AALJ-01Z\")]"
   ]
  },
  {
   "cell_type": "markdown",
   "id": "259e6e44",
   "metadata": {},
   "source": [
    "### Perform Correlation between bulk and predicted"
   ]
  },
  {
   "cell_type": "code",
   "execution_count": 42,
   "id": "e501d445",
   "metadata": {
    "scrolled": true
   },
   "outputs": [
    {
     "name": "stdout",
     "output_type": "stream",
     "text": [
      "Pearson Correlation Coefficients and P-Values:\n",
      "                                   Column  Correlation Coefficient  \\\n",
      "0    TCGA-3C-AALJ-01Z vs TCGA-3C-AALJ-01Z                 0.442126   \n",
      "1    TCGA-3C-AALJ-01Z vs TCGA-3C-AALJ-01Z                 0.443688   \n",
      "2    TCGA-3C-AALK-01Z vs TCGA-3C-AALK-01Z                 0.441176   \n",
      "3    TCGA-5L-AAT0-01Z vs TCGA-5L-AAT0-01Z                 0.515204   \n",
      "4    TCGA-5L-AAT1-01Z vs TCGA-5L-AAT1-01Z                 0.434262   \n",
      "..                                    ...                      ...   \n",
      "208  TCGA-A7-A6VV-01Z vs TCGA-A7-A6VV-01Z                 0.504725   \n",
      "209  TCGA-A7-A6VW-01A vs TCGA-A7-A6VW-01A                 0.487714   \n",
      "210  TCGA-A8-A06N-01A vs TCGA-A8-A06N-01A                 0.304296   \n",
      "211  TCGA-A8-A06N-01A vs TCGA-A8-A06N-01A                 0.300947   \n",
      "212  TCGA-BH-A0C7-01B vs TCGA-BH-A0C7-01B                 0.278061   \n",
      "\n",
      "           P-Value  \n",
      "0     7.483619e-74  \n",
      "1     2.015413e-74  \n",
      "2     1.656635e-73  \n",
      "3    6.042469e-104  \n",
      "4     4.981938e-71  \n",
      "..             ...  \n",
      "208   3.611067e-99  \n",
      "209   9.249983e-92  \n",
      "210   5.668859e-34  \n",
      "211   3.123369e-33  \n",
      "212   2.009524e-28  \n",
      "\n",
      "[213 rows x 3 columns]\n"
     ]
    }
   ],
   "source": [
    "# Calculate Pearson correlation coefficients and p-values for each pair of columns\n",
    "correlation_data = []\n",
    "for col in range(len(final_gene_mean_counts.columns)):\n",
    "    corr_coeff, p_value = pearsonr(final_gene_mean_counts.iloc[:, col], all_bulk_ge.iloc[:, col])\n",
    "    correlation_data.append({'Column': f'{final_gene_mean_counts.columns[col]} vs {all_bulk_ge.columns[col]}', 'Correlation Coefficient': corr_coeff, 'P-Value': p_value})\n",
    "\n",
    "# Convert the correlation data to a DataFrame\n",
    "correlation_df = pd.DataFrame(correlation_data)\n",
    "\n",
    "# Print correlation coefficients and p-values\n",
    "print(\"Pearson Correlation Coefficients and P-Values:\")\n",
    "print(correlation_df)\n",
    "correlation_df[\"PCC\"] = \"PCC\"\n",
    "\n",
    "# Create scatterplots for each pair of columns using sns.lmplot\n",
    "for col in range(len(final_gene_mean_counts.columns)):\n",
    "    data = pd.DataFrame({f'{final_gene_mean_counts.columns[col]} (final_gene_mean_counts)': final_gene_mean_counts.iloc[:, col], f'{all_bulk_ge.columns[col]} (all_bulk_ge)': all_bulk_ge.iloc[:, col]})\n",
    "#     plot = sns.lmplot(x=f'{final_gene_mean_counts.columns[col]} (final_gene_mean_counts)', y=f'{all_bulk_ge.columns[col]} (all_bulk_ge)', data=data)\n",
    "#     plt.title(f'Scatterplot of {final_gene_mean_counts.columns[col]} vs {all_bulk_ge.columns[col]}')\n",
    "    \n",
    "    # Add correlation coefficient and p-value to the plot\n",
    "    corr_coeff = correlation_df.loc[col, 'Correlation Coefficient']\n",
    "    p_value = correlation_df.loc[col, 'P-Value']\n",
    "#     plt.text(0.5, 0.95, f'Corr: {corr_coeff:.2f}\\nP-Value: {p_value:.4f}', transform=plot.ax.transAxes, ha='center', va='top', bbox=dict(boxstyle='round', facecolor='wheat', alpha=0.5))\n",
    "#     plt.show()\n"
   ]
  },
  {
   "cell_type": "code",
   "execution_count": 43,
   "id": "9d5c6542",
   "metadata": {},
   "outputs": [
    {
     "data": {
      "text/plain": [
       "0.48789378205614586"
      ]
     },
     "execution_count": 43,
     "metadata": {},
     "output_type": "execute_result"
    }
   ],
   "source": [
    "correlation_df[\"Correlation Coefficient\"].mean()"
   ]
  },
  {
   "cell_type": "markdown",
   "id": "4c2110fb",
   "metadata": {},
   "source": [
    "### Plot PCC scores for each patient"
   ]
  },
  {
   "cell_type": "code",
   "execution_count": 44,
   "id": "e6aaf433",
   "metadata": {
    "scrolled": true
   },
   "outputs": [
    {
     "data": {
      "image/png": "[encoded data removed]",
      "text/plain": [
       "<Figure size 640x480 with 1 Axes>"
      ]
     },
     "metadata": {},
     "output_type": "display_data"
    }
   ],
   "source": [
    "from matplotlib import pyplot as plt\n",
    "import seaborn as sns\n",
    "import numpy as np\n",
    "\n",
    "sns.set_style('white')\n",
    "palette = sns.cubehelix_palette(start=.5, rot=-.5, dark=0.3, light=0.7)\n",
    "ax = sns.violinplot(y=\"PCC\", x=\"Correlation Coefficient\", data=correlation_df,\n",
    "                    palette=palette,\n",
    "                    scale=\"width\", inner=None)\n",
    "xlim = ax.get_xlim()\n",
    "ylim = ax.get_ylim()\n",
    "for violin in ax.collections:\n",
    "    bbox = violin.get_paths()[0].get_extents()\n",
    "    x0, y0, width, height = bbox.bounds\n",
    "    violin.set_clip_path(plt.Rectangle((x0, y0), width, height / 2, transform=ax.transData))\n",
    "\n",
    "sns.boxplot(y=\"PCC\", x=\"Correlation Coefficient\", data=correlation_df, saturation=1, showfliers=False,\n",
    "            width=0.3, boxprops={'zorder': 3, 'facecolor': 'none'}, ax=ax)\n",
    "old_len_collections = len(ax.collections)\n",
    "sns.stripplot(y=\"PCC\", x=\"Correlation Coefficient\", data=correlation_df, color='dodgerblue', ax=ax)\n",
    "for dots in ax.collections[old_len_collections:]:\n",
    "    dots.set_offsets(dots.get_offsets() + np.array([0, 0.12]))\n",
    "ax.set_xlim(xlim)\n",
    "ax.set_ylim(ylim)\n",
    "plt.savefig('/scratch/project/stseq/Onkar/STimage_v1/Survival/TCGA-PCC.png', format='png', dpi=400)\n",
    "plt.show()\n",
    "correlation_df.to_csv(\"/scratch/project/stseq/Onkar/STimage_v1/Survival/TCGA_PCC.csv\")"
   ]
  },
  {
   "cell_type": "code",
   "execution_count": 11,
   "id": "02a11496",
   "metadata": {},
   "outputs": [
    {
     "name": "stdout",
     "output_type": "stream",
     "text": [
      "Original 213\n",
      "Filtered 213\n"
     ]
    }
   ],
   "source": [
    "print(\"Original\", len(correlation_df))\n",
    "print(\"Filtered\", len(correlation_df[correlation_df[\"P-Value\"]<0.01]))"
   ]
  }
 ],
 "metadata": {
  "kernelspec": {
   "display_name": "Python 3 (ipykernel)",
   "language": "python",
   "name": "python3"
  },
  "language_info": {
   "codemirror_mode": {
    "name": "ipython",
    "version": 3
   },
   "file_extension": ".py",
   "mimetype": "text/x-python",
   "name": "python",
   "nbconvert_exporter": "python",
   "pygments_lexer": "ipython3",
   "version": "3.8.16"
  }
 },
 "nbformat": 4,
 "nbformat_minor": 5
}
