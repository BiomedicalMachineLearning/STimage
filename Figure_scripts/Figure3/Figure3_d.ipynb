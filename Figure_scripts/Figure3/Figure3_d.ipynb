{
 "cells": [
  {
   "cell_type": "code",
   "execution_count": 2,
   "metadata": {},
   "outputs": [],
   "source": [
    "from pathlib import Path\n",
    "from anndata import read_h5ad\n",
    "\n",
    "import sys\n",
    "import scanpy as sc\n",
    "import os\n",
    "import matplotlib.pyplot as plt\n",
    "import seaborn as sns\n",
    "\n",
    "import numpy as np\n",
    "import pandas as pd\n",
    "from scipy.stats import nbinom, pearsonr\n",
    "\n",
    "from tqdm import tqdm\n",
    "\n",
    "import pickle\n",
    "import anndata as ad\n",
    "from scipy.stats import zscore\n",
    "from PIL import Image\n",
    "from stimage._utils import gene_plot"
   ]
  },
  {
   "cell_type": "code",
   "execution_count": 1,
   "metadata": {},
   "outputs": [],
   "source": [
    "from scipy import stats\n",
    "\n",
    "def plot_correlation(df, attr_1, attr_2):\n",
    "    r = stats.pearsonr(df[attr_1], \n",
    "                       df[attr_2])[0] **2\n",
    "\n",
    "    g = sns.lmplot(data=df,\n",
    "        x=attr_1, y=attr_2,\n",
    "        height=5, legend=True\n",
    "    )\n",
    "    # g.set(ylim=(0, 360), xlim=(0,360))\n",
    "\n",
    "    g.set_axis_labels(attr_1, attr_2)\n",
    "    plt.annotate(r'$R^2:{0:.2f}$'.format(r),\n",
    "                (max(df[attr_1])*0.9, max(df[attr_2])*0.9))\n",
    "    return g\n",
    "\n",
    "\n",
    "def calculate_correlation(attr_1, attr_2):\n",
    "    r = stats.pearsonr(attr_1, \n",
    "                       attr_2)[0]\n",
    "    return r\n",
    "\n",
    "def calculate_correlation_2(attr_1, attr_2):\n",
    "    r = stats.spearmanr(attr_1, \n",
    "                       attr_2)[0]\n",
    "    return r"
   ]
  },
  {
   "cell_type": "code",
   "execution_count": null,
   "metadata": {},
   "outputs": [],
   "source": []
  },
  {
   "cell_type": "code",
   "execution_count": 3,
   "metadata": {},
   "outputs": [],
   "source": [
    "PATH_PRED = Path(\"/scratch/project_mnt/S0010/Xiao/Q1851/Xiao/Wiener_backup/STimage_exp/Skin_CODEX_pred\")\n",
    "# PATH_GC = Path(\"/scratch/imb/uqjxie6/benchmmarking/DeepHis2Exp/data/SkinVisium\")\n",
    "OUT_PATH = PATH_PRED / \"PLOT\"\n",
    "OUT_PATH.mkdir(parents=True, exist_ok=True)"
   ]
  },
  {
   "cell_type": "code",
   "execution_count": 4,
   "metadata": {},
   "outputs": [],
   "source": [
    "adata_dict = {}\n",
    "for file_path in PATH_PRED.glob(\"./*.h5ad\"):\n",
    "    library_id = file_path.stem.split(\"pred_\")[-1]\n",
    "    adata = ad.read_h5ad(file_path)\n",
    "    adata_dict[library_id] = adata"
   ]
  },
  {
   "cell_type": "code",
   "execution_count": 5,
   "metadata": {},
   "outputs": [
    {
     "data": {
      "text/plain": [
       "{'S05_HE': AnnData object with n_obs × n_vars = 3965 × 1630\n",
       "     obs: 'array_row', 'array_col', 'imagerow', 'imagecol', 'library_id', 'tile_tissue_mask_path', 'tissue_area', 'tile_path'\n",
       "     uns: 'spatial'\n",
       "     obsm: 'predicted_gene', 'spatial',\n",
       " 'S02_HE': AnnData object with n_obs × n_vars = 6174 × 1630\n",
       "     obs: 'array_row', 'array_col', 'imagerow', 'imagecol', 'library_id', 'tile_tissue_mask_path', 'tissue_area', 'tile_path'\n",
       "     uns: 'spatial'\n",
       "     obsm: 'predicted_gene', 'spatial'}"
      ]
     },
     "execution_count": 5,
     "metadata": {},
     "output_type": "execute_result"
    }
   ],
   "source": [
    "adata_dict"
   ]
  },
  {
   "cell_type": "code",
   "execution_count": 6,
   "metadata": {},
   "outputs": [],
   "source": [
    "gene_list_CODEX = ['HLA-A', 'PTPRC', 'CD3E', 'CD4', 'FOXP3', 'GZMB', 'CD19', 'MS4A1', 'CR2', 'MPO', 'CD68', 'CD163', 'ITGAX', 'HLA-DRA', 'CD34', 'ACTA2', 'PDPN', 'KRT14', 'KRT8', 'KRT18', 'PMEL', 'SOX10', 'S100B', 'S100A4', 'HIF1A', 'VIM']"
   ]
  },
  {
   "cell_type": "code",
   "execution_count": 7,
   "metadata": {},
   "outputs": [
    {
     "data": {
      "text/plain": [
       "16"
      ]
     },
     "execution_count": 7,
     "metadata": {},
     "output_type": "execute_result"
    }
   ],
   "source": [
    "common_genes = list(set(gene_list_CODEX) & set(adata_dict[\"S05_HE\"].var_names))\n",
    "len(common_genes)"
   ]
  },
  {
   "cell_type": "code",
   "execution_count": 14,
   "metadata": {},
   "outputs": [],
   "source": [
    "gene_to_plot = common_genes\n",
    "for library_id, adata in adata_dict.items():\n",
    "    adata = adata[:, common_genes]\n",
    "    adata.uns['spatial'][library_id]['scalefactors'] = {'tissue_hires_scalef': 0.1}\n",
    "    hires = Image.fromarray(adata.uns[\"spatial\"][library_id][\"images\"][\"fulres\"])\n",
    "    hires.thumbnail((hires.size[0]//10, hires.size[1]//10))\n",
    "    adata.uns[\"spatial\"][library_id][\"images\"][\"hires\"] = hires\n",
    "    adata.X = adata.to_df().apply(zscore)\n",
    "    for gene in gene_to_plot:\n",
    "        gene_plot(adata, genes=gene, image_scale=True, library_id=library_id, spot_size=30,\n",
    "                        output=str(OUT_PATH), name=f\"pred_{library_id}_{gene}.pdf\")\n",
    "        plt.close()\n"
   ]
  },
  {
   "cell_type": "code",
   "execution_count": 8,
   "metadata": {},
   "outputs": [],
   "source": [
    "# hires\n",
    "gene_to_plot = common_genes\n",
    "for library_id, adata in adata_dict.items():\n",
    "    adata = adata[:, common_genes]\n",
    "    adata.uns['spatial'][library_id]['scalefactors'] = {'tissue_hires_scalef': 1}\n",
    "    hires = Image.fromarray(adata.uns[\"spatial\"][library_id][\"images\"][\"fulres\"])\n",
    "    hires.thumbnail((hires.size[0], hires.size[1]))\n",
    "    adata.uns[\"spatial\"][library_id][\"images\"][\"hires\"] = hires\n",
    "    adata.X = adata.to_df().apply(zscore)\n",
    "    for gene in gene_to_plot:\n",
    "        fig = gene_plot(adata, genes=gene, image_scale=True, library_id=library_id, spot_size=5)\n",
    "        fig.savefig(OUT_PATH / f\"hires_pred_{library_id}_{gene}.png\", dpi=2000)\n",
    "        plt.close()"
   ]
  },
  {
   "cell_type": "code",
   "execution_count": 9,
   "metadata": {},
   "outputs": [
    {
     "data": {
      "text/plain": [
       "PosixPath('/scratch/project_mnt/S0010/Xiao/Q1851/Xiao/Wiener_backup/STimage_exp/Skin_CODEX_pred/PLOT')"
      ]
     },
     "execution_count": 9,
     "metadata": {},
     "output_type": "execute_result"
    }
   ],
   "source": [
    "OUT_PATH"
   ]
  },
  {
   "cell_type": "code",
   "execution_count": null,
   "metadata": {},
   "outputs": [],
   "source": []
  },
  {
   "cell_type": "code",
   "execution_count": null,
   "metadata": {},
   "outputs": [],
   "source": []
  },
  {
   "cell_type": "code",
   "execution_count": 1,
   "metadata": {},
   "outputs": [],
   "source": [
    "# from stimage2.datasets.Xenium_dataset import Blake_xenium, Pfizer_xenium\n",
    "# from pathlib import Path\n",
    "# import pickle\n",
    "# gene_list = []\n",
    "# for i in range(len(sdataset)):\n",
    "#     sdata = sdataset.load_data(i)\n",
    "#     gene_list.append(sdata[\"table\"].var_names.values.tolist())\n",
    "# gene_list = list(set([item for items in gene_list for item in items]))\n",
    "# with open(PATH_PRED / \"xenium_gene_list.pkl\", \"wb\") as f:\n",
    "#     pickle.dump(gene_list, f)"
   ]
  },
  {
   "cell_type": "code",
   "execution_count": null,
   "metadata": {},
   "outputs": [],
   "source": []
  }
 ],
 "metadata": {
  "kernelspec": {
   "display_name": "stimage_ld",
   "language": "python",
   "name": "stimage_ld"
  },
  "language_info": {
   "codemirror_mode": {
    "name": "ipython",
    "version": 3
   },
   "file_extension": ".py",
   "mimetype": "text/x-python",
   "name": "python",
   "nbconvert_exporter": "python",
   "pygments_lexer": "ipython3",
   "version": "3.8.19"
  }
 },
 "nbformat": 4,
 "nbformat_minor": 2
}
