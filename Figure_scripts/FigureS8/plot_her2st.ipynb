{
 "cells": [
  {
   "cell_type": "code",
   "execution_count": 1,
   "metadata": {},
   "outputs": [],
   "source": [
    "from pathlib import Path\n",
    "from anndata import read_h5ad\n",
    "\n",
    "import sys\n",
    "import scanpy as sc\n",
    "import os\n",
    "import matplotlib.pyplot as plt\n",
    "import seaborn as sns\n",
    "\n",
    "import numpy as np\n",
    "import pandas as pd\n",
    "from scipy.stats import nbinom, pearsonr\n",
    "\n",
    "from tqdm import tqdm\n",
    "from scipy import stats\n",
    "import pickle\n",
    "import anndata as ad\n",
    "from scipy.stats import zscore\n",
    "from PIL import Image\n",
    "from stimage._utils import gene_plot\n",
    "import seaborn as sns"
   ]
  },
  {
   "cell_type": "code",
   "execution_count": 2,
   "metadata": {},
   "outputs": [],
   "source": [
    "from scipy import stats\n",
    "\n",
    "def plot_correlation(df, attr_1, attr_2):\n",
    "    r = stats.pearsonr(df[attr_1], \n",
    "                       df[attr_2])[0] **2\n",
    "\n",
    "    g = sns.lmplot(data=df,\n",
    "        x=attr_1, y=attr_2,\n",
    "        height=5, legend=True\n",
    "    )\n",
    "    # g.set(ylim=(0, 360), xlim=(0,360))\n",
    "\n",
    "    g.set_axis_labels(attr_1, attr_2)\n",
    "    plt.annotate(r'$R^2:{0:.2f}$'.format(r),\n",
    "                (max(df[attr_1])*0.9, max(df[attr_2])*0.9))\n",
    "    return g\n",
    "\n",
    "\n",
    "def calculate_correlation(attr_1, attr_2):\n",
    "    r = stats.pearsonr(attr_1, \n",
    "                       attr_2)[0]\n",
    "    return r\n",
    "\n",
    "def calculate_correlation_2(attr_1, attr_2):\n",
    "    r = stats.spearmanr(attr_1, \n",
    "                       attr_2)[0]\n",
    "    return r"
   ]
  },
  {
   "cell_type": "code",
   "execution_count": null,
   "metadata": {},
   "outputs": [],
   "source": []
  },
  {
   "cell_type": "code",
   "execution_count": 3,
   "metadata": {},
   "outputs": [],
   "source": [
    "PATH_PRED = Path(\"/scratch/project_mnt/S0010/Xiao/Q1851/Xiao/Working_project/STimage_exp/ST_pred_her2\")\n",
    "PATH_GC = Path(\"/scratch/project_mnt/S0010/Xiao/Q1851/Xiao/Working_project/STimage_exp/ST_pred_her2\")\n",
    "OUT_PATH = PATH_PRED / \"PLOT\"\n",
    "OUT_PATH.mkdir(parents=True, exist_ok=True)"
   ]
  },
  {
   "cell_type": "code",
   "execution_count": 4,
   "metadata": {},
   "outputs": [],
   "source": [
    "adata_dict = {}\n",
    "for file_path in PATH_PRED.glob(\"./pred*.h5ad\"):\n",
    "    library_id = file_path.stem.split(\"_\")[-1]\n",
    "    adata = ad.read_h5ad(file_path)\n",
    "    adata_dict[library_id] = adata"
   ]
  },
  {
   "cell_type": "code",
   "execution_count": 5,
   "metadata": {},
   "outputs": [],
   "source": [
    "gc_adata = ad.read_h5ad(PATH_GC / \"gt_A1.h5ad\")\n",
    "gene_list_st = gc_adata.var_names"
   ]
  },
  {
   "cell_type": "code",
   "execution_count": 6,
   "metadata": {},
   "outputs": [
    {
     "data": {
      "text/plain": [
       "11871"
      ]
     },
     "execution_count": 6,
     "metadata": {},
     "output_type": "execute_result"
    }
   ],
   "source": [
    "len(gene_list_st)"
   ]
  },
  {
   "cell_type": "code",
   "execution_count": 7,
   "metadata": {},
   "outputs": [
    {
     "data": {
      "text/plain": [
       "{'D2': AnnData object with n_obs × n_vars = 283 × 1522\n",
       "     obs: 'imagecol', 'imagerow', 'tile_path', 'tile_tissue_mask_path', 'tissue_area', 'library_id'\n",
       "     uns: 'spatial'\n",
       "     obsm: 'predicted_gene', 'spatial',\n",
       " 'B1': AnnData object with n_obs × n_vars = 261 × 1522\n",
       "     obs: 'imagecol', 'imagerow', 'tile_path', 'tile_tissue_mask_path', 'tissue_area', 'library_id'\n",
       "     uns: 'spatial'\n",
       "     obsm: 'predicted_gene', 'spatial',\n",
       " 'F2': AnnData object with n_obs × n_vars = 672 × 1522\n",
       "     obs: 'imagecol', 'imagerow', 'tile_path', 'tile_tissue_mask_path', 'tissue_area', 'library_id'\n",
       "     uns: 'spatial'\n",
       "     obsm: 'predicted_gene', 'spatial',\n",
       " 'A6': AnnData object with n_obs × n_vars = 298 × 1522\n",
       "     obs: 'imagecol', 'imagerow', 'tile_path', 'tile_tissue_mask_path', 'tissue_area', 'library_id'\n",
       "     uns: 'spatial'\n",
       "     obsm: 'predicted_gene', 'spatial',\n",
       " 'C4': AnnData object with n_obs × n_vars = 168 × 1522\n",
       "     obs: 'imagecol', 'imagerow', 'tile_path', 'tile_tissue_mask_path', 'tissue_area', 'library_id'\n",
       "     uns: 'spatial'\n",
       "     obsm: 'predicted_gene', 'spatial',\n",
       " 'B5': AnnData object with n_obs × n_vars = 264 × 1522\n",
       "     obs: 'imagecol', 'imagerow', 'tile_path', 'tile_tissue_mask_path', 'tissue_area', 'library_id'\n",
       "     uns: 'spatial'\n",
       "     obsm: 'predicted_gene', 'spatial',\n",
       " 'A2': AnnData object with n_obs × n_vars = 305 × 1522\n",
       "     obs: 'imagecol', 'imagerow', 'tile_path', 'tile_tissue_mask_path', 'tissue_area', 'library_id'\n",
       "     uns: 'spatial'\n",
       "     obsm: 'predicted_gene', 'spatial',\n",
       " 'H2': AnnData object with n_obs × n_vars = 559 × 1522\n",
       "     obs: 'imagecol', 'imagerow', 'tile_path', 'tile_tissue_mask_path', 'tissue_area', 'library_id'\n",
       "     uns: 'spatial'\n",
       "     obsm: 'predicted_gene', 'spatial',\n",
       " 'G3': AnnData object with n_obs × n_vars = 365 × 1522\n",
       "     obs: 'imagecol', 'imagerow', 'tile_path', 'tile_tissue_mask_path', 'tissue_area', 'library_id'\n",
       "     uns: 'spatial'\n",
       "     obsm: 'predicted_gene', 'spatial',\n",
       " 'A1': AnnData object with n_obs × n_vars = 325 × 1522\n",
       "     obs: 'imagecol', 'imagerow', 'tile_path', 'tile_tissue_mask_path', 'tissue_area', 'library_id'\n",
       "     uns: 'spatial'\n",
       "     obsm: 'predicted_gene', 'spatial',\n",
       " 'A4': AnnData object with n_obs × n_vars = 308 × 1522\n",
       "     obs: 'imagecol', 'imagerow', 'tile_path', 'tile_tissue_mask_path', 'tissue_area', 'library_id'\n",
       "     uns: 'spatial'\n",
       "     obsm: 'predicted_gene', 'spatial',\n",
       " 'D6': AnnData object with n_obs × n_vars = 296 × 1522\n",
       "     obs: 'imagecol', 'imagerow', 'tile_path', 'tile_tissue_mask_path', 'tissue_area', 'library_id'\n",
       "     uns: 'spatial'\n",
       "     obsm: 'predicted_gene', 'spatial',\n",
       " 'B2': AnnData object with n_obs × n_vars = 229 × 1522\n",
       "     obs: 'imagecol', 'imagerow', 'tile_path', 'tile_tissue_mask_path', 'tissue_area', 'library_id'\n",
       "     uns: 'spatial'\n",
       "     obsm: 'predicted_gene', 'spatial',\n",
       " 'B4': AnnData object with n_obs × n_vars = 267 × 1522\n",
       "     obs: 'imagecol', 'imagerow', 'tile_path', 'tile_tissue_mask_path', 'tissue_area', 'library_id'\n",
       "     uns: 'spatial'\n",
       "     obsm: 'predicted_gene', 'spatial',\n",
       " 'C6': AnnData object with n_obs × n_vars = 172 × 1522\n",
       "     obs: 'imagecol', 'imagerow', 'tile_path', 'tile_tissue_mask_path', 'tissue_area', 'library_id'\n",
       "     uns: 'spatial'\n",
       "     obsm: 'predicted_gene', 'spatial',\n",
       " 'D1': AnnData object with n_obs × n_vars = 285 × 1522\n",
       "     obs: 'imagecol', 'imagerow', 'tile_path', 'tile_tissue_mask_path', 'tissue_area', 'library_id'\n",
       "     uns: 'spatial'\n",
       "     obsm: 'predicted_gene', 'spatial',\n",
       " 'C1': AnnData object with n_obs × n_vars = 166 × 1522\n",
       "     obs: 'imagecol', 'imagerow', 'tile_path', 'tile_tissue_mask_path', 'tissue_area', 'library_id'\n",
       "     uns: 'spatial'\n",
       "     obsm: 'predicted_gene', 'spatial',\n",
       " 'F3': AnnData object with n_obs × n_vars = 685 × 1522\n",
       "     obs: 'imagecol', 'imagerow', 'tile_path', 'tile_tissue_mask_path', 'tissue_area', 'library_id'\n",
       "     uns: 'spatial'\n",
       "     obsm: 'predicted_gene', 'spatial',\n",
       " 'C5': AnnData object with n_obs × n_vars = 170 × 1522\n",
       "     obs: 'imagecol', 'imagerow', 'tile_path', 'tile_tissue_mask_path', 'tissue_area', 'library_id'\n",
       "     uns: 'spatial'\n",
       "     obsm: 'predicted_gene', 'spatial',\n",
       " 'F1': AnnData object with n_obs × n_vars = 665 × 1522\n",
       "     obs: 'imagecol', 'imagerow', 'tile_path', 'tile_tissue_mask_path', 'tissue_area', 'library_id'\n",
       "     uns: 'spatial'\n",
       "     obsm: 'predicted_gene', 'spatial',\n",
       " 'A5': AnnData object with n_obs × n_vars = 315 × 1522\n",
       "     obs: 'imagecol', 'imagerow', 'tile_path', 'tile_tissue_mask_path', 'tissue_area', 'library_id'\n",
       "     uns: 'spatial'\n",
       "     obsm: 'predicted_gene', 'spatial',\n",
       " 'E1': AnnData object with n_obs × n_vars = 564 × 1522\n",
       "     obs: 'imagecol', 'imagerow', 'tile_path', 'tile_tissue_mask_path', 'tissue_area', 'library_id'\n",
       "     uns: 'spatial'\n",
       "     obsm: 'predicted_gene', 'spatial',\n",
       " 'A3': AnnData object with n_obs × n_vars = 333 × 1522\n",
       "     obs: 'imagecol', 'imagerow', 'tile_path', 'tile_tissue_mask_path', 'tissue_area', 'library_id'\n",
       "     uns: 'spatial'\n",
       "     obsm: 'predicted_gene', 'spatial',\n",
       " 'G2': AnnData object with n_obs × n_vars = 426 × 1522\n",
       "     obs: 'imagecol', 'imagerow', 'tile_path', 'tile_tissue_mask_path', 'tissue_area', 'library_id'\n",
       "     uns: 'spatial'\n",
       "     obsm: 'predicted_gene', 'spatial',\n",
       " 'C3': AnnData object with n_obs × n_vars = 169 × 1522\n",
       "     obs: 'imagecol', 'imagerow', 'tile_path', 'tile_tissue_mask_path', 'tissue_area', 'library_id'\n",
       "     uns: 'spatial'\n",
       "     obsm: 'predicted_gene', 'spatial',\n",
       " 'D5': AnnData object with n_obs × n_vars = 293 × 1522\n",
       "     obs: 'imagecol', 'imagerow', 'tile_path', 'tile_tissue_mask_path', 'tissue_area', 'library_id'\n",
       "     uns: 'spatial'\n",
       "     obsm: 'predicted_gene', 'spatial',\n",
       " 'C2': AnnData object with n_obs × n_vars = 176 × 1522\n",
       "     obs: 'imagecol', 'imagerow', 'tile_path', 'tile_tissue_mask_path', 'tissue_area', 'library_id'\n",
       "     uns: 'spatial'\n",
       "     obsm: 'predicted_gene', 'spatial',\n",
       " 'E2': AnnData object with n_obs × n_vars = 556 × 1522\n",
       "     obs: 'imagecol', 'imagerow', 'tile_path', 'tile_tissue_mask_path', 'tissue_area', 'library_id'\n",
       "     uns: 'spatial'\n",
       "     obsm: 'predicted_gene', 'spatial',\n",
       " 'E3': AnnData object with n_obs × n_vars = 560 × 1522\n",
       "     obs: 'imagecol', 'imagerow', 'tile_path', 'tile_tissue_mask_path', 'tissue_area', 'library_id'\n",
       "     uns: 'spatial'\n",
       "     obsm: 'predicted_gene', 'spatial',\n",
       " 'D3': AnnData object with n_obs × n_vars = 291 × 1522\n",
       "     obs: 'imagecol', 'imagerow', 'tile_path', 'tile_tissue_mask_path', 'tissue_area', 'library_id'\n",
       "     uns: 'spatial'\n",
       "     obsm: 'predicted_gene', 'spatial',\n",
       " 'D4': AnnData object with n_obs × n_vars = 296 × 1522\n",
       "     obs: 'imagecol', 'imagerow', 'tile_path', 'tile_tissue_mask_path', 'tissue_area', 'library_id'\n",
       "     uns: 'spatial'\n",
       "     obsm: 'predicted_gene', 'spatial',\n",
       " 'G1': AnnData object with n_obs × n_vars = 341 × 1522\n",
       "     obs: 'imagecol', 'imagerow', 'tile_path', 'tile_tissue_mask_path', 'tissue_area', 'library_id'\n",
       "     uns: 'spatial'\n",
       "     obsm: 'predicted_gene', 'spatial',\n",
       " 'H3': AnnData object with n_obs × n_vars = 422 × 1522\n",
       "     obs: 'imagecol', 'imagerow', 'tile_path', 'tile_tissue_mask_path', 'tissue_area', 'library_id'\n",
       "     uns: 'spatial'\n",
       "     obsm: 'predicted_gene', 'spatial',\n",
       " 'H1': AnnData object with n_obs × n_vars = 585 × 1522\n",
       "     obs: 'imagecol', 'imagerow', 'tile_path', 'tile_tissue_mask_path', 'tissue_area', 'library_id'\n",
       "     uns: 'spatial'\n",
       "     obsm: 'predicted_gene', 'spatial',\n",
       " 'B3': AnnData object with n_obs × n_vars = 279 × 1522\n",
       "     obs: 'imagecol', 'imagerow', 'tile_path', 'tile_tissue_mask_path', 'tissue_area', 'library_id'\n",
       "     uns: 'spatial'\n",
       "     obsm: 'predicted_gene', 'spatial',\n",
       " 'B6': AnnData object with n_obs × n_vars = 235 × 1522\n",
       "     obs: 'imagecol', 'imagerow', 'tile_path', 'tile_tissue_mask_path', 'tissue_area', 'library_id'\n",
       "     uns: 'spatial'\n",
       "     obsm: 'predicted_gene', 'spatial'}"
      ]
     },
     "execution_count": 7,
     "metadata": {},
     "output_type": "execute_result"
    }
   ],
   "source": [
    "adata_dict"
   ]
  },
  {
   "cell_type": "code",
   "execution_count": 8,
   "metadata": {},
   "outputs": [],
   "source": [
    "# with open(PATH_PRED / \"xenium_gene_list.pkl\", \"rb\") as f:\n",
    "#     gene_list_xenium = pickle.load(f)"
   ]
  },
  {
   "cell_type": "code",
   "execution_count": 9,
   "metadata": {},
   "outputs": [
    {
     "data": {
      "text/plain": [
       "1146"
      ]
     },
     "execution_count": 9,
     "metadata": {},
     "output_type": "execute_result"
    }
   ],
   "source": [
    "common_genes = list(set(gene_list_st) & set(adata.var_names))\n",
    "len(common_genes)"
   ]
  },
  {
   "cell_type": "code",
   "execution_count": 14,
   "metadata": {},
   "outputs": [],
   "source": [
    "# gene_to_plot = [\"CD163\", \"ESR1\", \"MS4A1\", \"BRCA2\", \"TP53\", \"ERBB2\"]\n",
    "gene_to_plot = ['B2M', 'HLA-DRA']\n",
    "for library_id, adata in adata_dict.items():\n",
    "    adata = adata[:, common_genes]\n",
    "    adata.uns['spatial'][library_id]['scalefactors'] = {'tissue_hires_scalef': 0.1}\n",
    "    hires = Image.fromarray(adata.uns[\"spatial\"][library_id][\"images\"][\"fulres\"])\n",
    "    hires.thumbnail((hires.size[0]//10, hires.size[1]//10))\n",
    "    adata.uns[\"spatial\"][library_id][\"images\"][\"hires\"] = hires\n",
    "    adata.X = adata.to_df().apply(zscore)\n",
    "    for gene in gene_to_plot:\n",
    "        if gene in common_genes:\n",
    "            gene_plot(adata, genes=gene, image_scale=True, library_id=library_id, spot_size=100,\n",
    "                            output=str(OUT_PATH), name=f\"pred_{library_id}_{gene}.pdf\")\n",
    "            plt.close()\n"
   ]
  },
  {
   "cell_type": "code",
   "execution_count": 14,
   "metadata": {},
   "outputs": [],
   "source": [
    "# hi-res\n",
    "# gene_to_plot = [\"CD163\", \"ESR1\", \"MS4A1\", \"BRCA2\", \"TP53\", \"ERBB2\"]\n",
    "gene_to_plot = ['B2M', 'HLA-DRA']\n",
    "for library_id, adata in adata_dict.items():\n",
    "    adata = adata[:, common_genes]\n",
    "    adata.uns['spatial'][library_id]['scalefactors'] = {'tissue_hires_scalef': 1}\n",
    "    hires = Image.fromarray(adata.uns[\"spatial\"][library_id][\"images\"][\"fulres\"])\n",
    "    # hires.thumbnail((hires.size[0], hires.size[1]))\n",
    "    adata.uns[\"spatial\"][library_id][\"images\"][\"hires\"] = hires\n",
    "    adata.X = adata.to_df().apply(zscore)\n",
    "    for gene in gene_to_plot:\n",
    "        if gene in common_genes:\n",
    "            fig = gene_plot(adata, genes=gene, image_scale=True, library_id=library_id, spot_size=50)\n",
    "            fig.savefig(OUT_PATH / f\"hires_pred_{library_id}_{gene}.png\", dpi=2000)\n",
    "            plt.close()"
   ]
  },
  {
   "cell_type": "code",
   "execution_count": 11,
   "metadata": {},
   "outputs": [
    {
     "data": {
      "text/plain": [
       "PosixPath('/scratch/project_mnt/S0010/Xiao/Q1851/Xiao/Working_project/STimage_exp/ST_pred_her2/PLOT')"
      ]
     },
     "execution_count": 11,
     "metadata": {},
     "output_type": "execute_result"
    }
   ],
   "source": [
    "OUT_PATH"
   ]
  },
  {
   "cell_type": "code",
   "execution_count": 15,
   "metadata": {},
   "outputs": [],
   "source": [
    "for file_path in PATH_PRED.glob(\"./gt*.h5ad\"):\n",
    "    library_id = file_path.stem.split(\"_\")[-1]\n",
    "    adata_gt = ad.read_h5ad(file_path)\n",
    "    adata_gt = adata_gt[:, common_genes]\n",
    "    adata_gt.uns['spatial'][library_id]['scalefactors'] = {'tissue_hires_scalef': 0.1}\n",
    "    hires = Image.fromarray(adata_gt.uns[\"spatial\"][library_id][\"images\"][\"fulres\"])\n",
    "    hires.thumbnail((hires.size[0]//10, hires.size[1]//10))\n",
    "    adata_gt.uns[\"spatial\"][library_id][\"images\"][\"hires\"] = hires\n",
    "    adata_gt.X = adata_gt.to_df().apply(zscore)\n",
    "    for gene in gene_to_plot:\n",
    "        if gene in common_genes:\n",
    "            gene_plot(adata_gt, genes=gene, image_scale=True, library_id=library_id, spot_size=100,\n",
    "                            output=str(OUT_PATH), name=f\"gt_{library_id}_{gene}.pdf\")\n",
    "            plt.close()\n"
   ]
  },
  {
   "cell_type": "code",
   "execution_count": 15,
   "metadata": {},
   "outputs": [],
   "source": [
    "# hires\n",
    "for file_path in PATH_PRED.glob(\"./gt*.h5ad\"):\n",
    "    library_id = file_path.stem.split(\"_\")[-1]\n",
    "    adata_gt = ad.read_h5ad(file_path)\n",
    "    adata_gt = adata_gt[:, common_genes]\n",
    "    adata_gt.uns['spatial'][library_id]['scalefactors'] = {'tissue_hires_scalef': 1}\n",
    "    hires = Image.fromarray(adata_gt.uns[\"spatial\"][library_id][\"images\"][\"fulres\"])\n",
    "    hires.thumbnail((hires.size[0], hires.size[1]))\n",
    "    adata_gt.uns[\"spatial\"][library_id][\"images\"][\"hires\"] = hires\n",
    "    adata_gt.X = adata_gt.to_df().apply(zscore)\n",
    "    for gene in gene_to_plot:\n",
    "        if gene in common_genes:\n",
    "            fig = gene_plot(adata_gt, genes=gene, image_scale=True, library_id=library_id, spot_size=50)\n",
    "            fig.savefig(OUT_PATH / f\"hires_gt_{library_id}_{gene}.png\", dpi=2000)\n",
    "            plt.close()"
   ]
  },
  {
   "cell_type": "code",
   "execution_count": 10,
   "metadata": {},
   "outputs": [],
   "source": [
    "def calculate_correlation(attr_1, attr_2):\n",
    "    r = stats.pearsonr(attr_1, \n",
    "                       attr_2)[0]\n",
    "    return r"
   ]
  },
  {
   "cell_type": "code",
   "execution_count": 87,
   "metadata": {},
   "outputs": [
    {
     "name": "stdout",
     "output_type": "stream",
     "text": [
      "H1\n"
     ]
    },
    {
     "name": "stderr",
     "output_type": "stream",
     "text": [
      "/home/uqxtan9/micromamba/envs/stimage/lib/python3.8/site-packages/scipy/stats/_stats_py.py:4424: ConstantInputWarning: An input array is constant; the correlation coefficient is not defined.\n",
      "  warnings.warn(stats.ConstantInputWarning(msg))\n",
      "/home/uqxtan9/micromamba/envs/stimage/lib/python3.8/site-packages/scipy/stats/_stats_py.py:4424: ConstantInputWarning: An input array is constant; the correlation coefficient is not defined.\n",
      "  warnings.warn(stats.ConstantInputWarning(msg))\n",
      "/home/uqxtan9/micromamba/envs/stimage/lib/python3.8/site-packages/scipy/stats/_stats_py.py:4424: ConstantInputWarning: An input array is constant; the correlation coefficient is not defined.\n",
      "  warnings.warn(stats.ConstantInputWarning(msg))\n"
     ]
    },
    {
     "name": "stdout",
     "output_type": "stream",
     "text": [
      "C2\n",
      "C1\n",
      "D2\n"
     ]
    },
    {
     "name": "stderr",
     "output_type": "stream",
     "text": [
      "/home/uqxtan9/micromamba/envs/stimage/lib/python3.8/site-packages/scipy/stats/_stats_py.py:4424: ConstantInputWarning: An input array is constant; the correlation coefficient is not defined.\n",
      "  warnings.warn(stats.ConstantInputWarning(msg))\n"
     ]
    },
    {
     "name": "stdout",
     "output_type": "stream",
     "text": [
      "A5\n"
     ]
    },
    {
     "name": "stderr",
     "output_type": "stream",
     "text": [
      "/home/uqxtan9/micromamba/envs/stimage/lib/python3.8/site-packages/scipy/stats/_stats_py.py:4424: ConstantInputWarning: An input array is constant; the correlation coefficient is not defined.\n",
      "  warnings.warn(stats.ConstantInputWarning(msg))\n",
      "/home/uqxtan9/micromamba/envs/stimage/lib/python3.8/site-packages/scipy/stats/_stats_py.py:4424: ConstantInputWarning: An input array is constant; the correlation coefficient is not defined.\n",
      "  warnings.warn(stats.ConstantInputWarning(msg))\n",
      "/home/uqxtan9/micromamba/envs/stimage/lib/python3.8/site-packages/scipy/stats/_stats_py.py:4424: ConstantInputWarning: An input array is constant; the correlation coefficient is not defined.\n",
      "  warnings.warn(stats.ConstantInputWarning(msg))\n",
      "/home/uqxtan9/micromamba/envs/stimage/lib/python3.8/site-packages/scipy/stats/_stats_py.py:4424: ConstantInputWarning: An input array is constant; the correlation coefficient is not defined.\n",
      "  warnings.warn(stats.ConstantInputWarning(msg))\n",
      "/home/uqxtan9/micromamba/envs/stimage/lib/python3.8/site-packages/scipy/stats/_stats_py.py:4424: ConstantInputWarning: An input array is constant; the correlation coefficient is not defined.\n",
      "  warnings.warn(stats.ConstantInputWarning(msg))\n",
      "/home/uqxtan9/micromamba/envs/stimage/lib/python3.8/site-packages/scipy/stats/_stats_py.py:4424: ConstantInputWarning: An input array is constant; the correlation coefficient is not defined.\n",
      "  warnings.warn(stats.ConstantInputWarning(msg))\n",
      "/home/uqxtan9/micromamba/envs/stimage/lib/python3.8/site-packages/scipy/stats/_stats_py.py:4424: ConstantInputWarning: An input array is constant; the correlation coefficient is not defined.\n",
      "  warnings.warn(stats.ConstantInputWarning(msg))\n",
      "/home/uqxtan9/micromamba/envs/stimage/lib/python3.8/site-packages/scipy/stats/_stats_py.py:4424: ConstantInputWarning: An input array is constant; the correlation coefficient is not defined.\n",
      "  warnings.warn(stats.ConstantInputWarning(msg))\n",
      "/home/uqxtan9/micromamba/envs/stimage/lib/python3.8/site-packages/scipy/stats/_stats_py.py:4424: ConstantInputWarning: An input array is constant; the correlation coefficient is not defined.\n",
      "  warnings.warn(stats.ConstantInputWarning(msg))\n"
     ]
    },
    {
     "name": "stdout",
     "output_type": "stream",
     "text": [
      "E2\n"
     ]
    },
    {
     "name": "stderr",
     "output_type": "stream",
     "text": [
      "/home/uqxtan9/micromamba/envs/stimage/lib/python3.8/site-packages/scipy/stats/_stats_py.py:4424: ConstantInputWarning: An input array is constant; the correlation coefficient is not defined.\n",
      "  warnings.warn(stats.ConstantInputWarning(msg))\n"
     ]
    },
    {
     "name": "stdout",
     "output_type": "stream",
     "text": [
      "H2\n"
     ]
    },
    {
     "name": "stderr",
     "output_type": "stream",
     "text": [
      "/home/uqxtan9/micromamba/envs/stimage/lib/python3.8/site-packages/scipy/stats/_stats_py.py:4424: ConstantInputWarning: An input array is constant; the correlation coefficient is not defined.\n",
      "  warnings.warn(stats.ConstantInputWarning(msg))\n"
     ]
    },
    {
     "name": "stdout",
     "output_type": "stream",
     "text": [
      "C4\n"
     ]
    },
    {
     "name": "stderr",
     "output_type": "stream",
     "text": [
      "/home/uqxtan9/micromamba/envs/stimage/lib/python3.8/site-packages/scipy/stats/_stats_py.py:4424: ConstantInputWarning: An input array is constant; the correlation coefficient is not defined.\n",
      "  warnings.warn(stats.ConstantInputWarning(msg))\n",
      "/home/uqxtan9/micromamba/envs/stimage/lib/python3.8/site-packages/scipy/stats/_stats_py.py:4424: ConstantInputWarning: An input array is constant; the correlation coefficient is not defined.\n",
      "  warnings.warn(stats.ConstantInputWarning(msg))\n"
     ]
    },
    {
     "name": "stdout",
     "output_type": "stream",
     "text": [
      "A1\n"
     ]
    },
    {
     "name": "stderr",
     "output_type": "stream",
     "text": [
      "/home/uqxtan9/micromamba/envs/stimage/lib/python3.8/site-packages/scipy/stats/_stats_py.py:4424: ConstantInputWarning: An input array is constant; the correlation coefficient is not defined.\n",
      "  warnings.warn(stats.ConstantInputWarning(msg))\n",
      "/home/uqxtan9/micromamba/envs/stimage/lib/python3.8/site-packages/scipy/stats/_stats_py.py:4424: ConstantInputWarning: An input array is constant; the correlation coefficient is not defined.\n",
      "  warnings.warn(stats.ConstantInputWarning(msg))\n",
      "/home/uqxtan9/micromamba/envs/stimage/lib/python3.8/site-packages/scipy/stats/_stats_py.py:4424: ConstantInputWarning: An input array is constant; the correlation coefficient is not defined.\n",
      "  warnings.warn(stats.ConstantInputWarning(msg))\n",
      "/home/uqxtan9/micromamba/envs/stimage/lib/python3.8/site-packages/scipy/stats/_stats_py.py:4424: ConstantInputWarning: An input array is constant; the correlation coefficient is not defined.\n",
      "  warnings.warn(stats.ConstantInputWarning(msg))\n",
      "/home/uqxtan9/micromamba/envs/stimage/lib/python3.8/site-packages/scipy/stats/_stats_py.py:4424: ConstantInputWarning: An input array is constant; the correlation coefficient is not defined.\n",
      "  warnings.warn(stats.ConstantInputWarning(msg))\n",
      "/home/uqxtan9/micromamba/envs/stimage/lib/python3.8/site-packages/scipy/stats/_stats_py.py:4424: ConstantInputWarning: An input array is constant; the correlation coefficient is not defined.\n",
      "  warnings.warn(stats.ConstantInputWarning(msg))\n",
      "/home/uqxtan9/micromamba/envs/stimage/lib/python3.8/site-packages/scipy/stats/_stats_py.py:4424: ConstantInputWarning: An input array is constant; the correlation coefficient is not defined.\n",
      "  warnings.warn(stats.ConstantInputWarning(msg))\n",
      "/home/uqxtan9/micromamba/envs/stimage/lib/python3.8/site-packages/scipy/stats/_stats_py.py:4424: ConstantInputWarning: An input array is constant; the correlation coefficient is not defined.\n",
      "  warnings.warn(stats.ConstantInputWarning(msg))\n",
      "/home/uqxtan9/micromamba/envs/stimage/lib/python3.8/site-packages/scipy/stats/_stats_py.py:4424: ConstantInputWarning: An input array is constant; the correlation coefficient is not defined.\n",
      "  warnings.warn(stats.ConstantInputWarning(msg))\n",
      "/home/uqxtan9/micromamba/envs/stimage/lib/python3.8/site-packages/scipy/stats/_stats_py.py:4424: ConstantInputWarning: An input array is constant; the correlation coefficient is not defined.\n",
      "  warnings.warn(stats.ConstantInputWarning(msg))\n",
      "/home/uqxtan9/micromamba/envs/stimage/lib/python3.8/site-packages/scipy/stats/_stats_py.py:4424: ConstantInputWarning: An input array is constant; the correlation coefficient is not defined.\n",
      "  warnings.warn(stats.ConstantInputWarning(msg))\n"
     ]
    },
    {
     "name": "stdout",
     "output_type": "stream",
     "text": [
      "A3\n"
     ]
    },
    {
     "name": "stderr",
     "output_type": "stream",
     "text": [
      "/home/uqxtan9/micromamba/envs/stimage/lib/python3.8/site-packages/scipy/stats/_stats_py.py:4424: ConstantInputWarning: An input array is constant; the correlation coefficient is not defined.\n",
      "  warnings.warn(stats.ConstantInputWarning(msg))\n",
      "/home/uqxtan9/micromamba/envs/stimage/lib/python3.8/site-packages/scipy/stats/_stats_py.py:4424: ConstantInputWarning: An input array is constant; the correlation coefficient is not defined.\n",
      "  warnings.warn(stats.ConstantInputWarning(msg))\n",
      "/home/uqxtan9/micromamba/envs/stimage/lib/python3.8/site-packages/scipy/stats/_stats_py.py:4424: ConstantInputWarning: An input array is constant; the correlation coefficient is not defined.\n",
      "  warnings.warn(stats.ConstantInputWarning(msg))\n",
      "/home/uqxtan9/micromamba/envs/stimage/lib/python3.8/site-packages/scipy/stats/_stats_py.py:4424: ConstantInputWarning: An input array is constant; the correlation coefficient is not defined.\n",
      "  warnings.warn(stats.ConstantInputWarning(msg))\n",
      "/home/uqxtan9/micromamba/envs/stimage/lib/python3.8/site-packages/scipy/stats/_stats_py.py:4424: ConstantInputWarning: An input array is constant; the correlation coefficient is not defined.\n",
      "  warnings.warn(stats.ConstantInputWarning(msg))\n",
      "/home/uqxtan9/micromamba/envs/stimage/lib/python3.8/site-packages/scipy/stats/_stats_py.py:4424: ConstantInputWarning: An input array is constant; the correlation coefficient is not defined.\n",
      "  warnings.warn(stats.ConstantInputWarning(msg))\n"
     ]
    },
    {
     "name": "stdout",
     "output_type": "stream",
     "text": [
      "A2\n",
      "E3\n"
     ]
    },
    {
     "name": "stderr",
     "output_type": "stream",
     "text": [
      "/home/uqxtan9/micromamba/envs/stimage/lib/python3.8/site-packages/scipy/stats/_stats_py.py:4424: ConstantInputWarning: An input array is constant; the correlation coefficient is not defined.\n",
      "  warnings.warn(stats.ConstantInputWarning(msg))\n",
      "/home/uqxtan9/micromamba/envs/stimage/lib/python3.8/site-packages/scipy/stats/_stats_py.py:4424: ConstantInputWarning: An input array is constant; the correlation coefficient is not defined.\n",
      "  warnings.warn(stats.ConstantInputWarning(msg))\n",
      "/home/uqxtan9/micromamba/envs/stimage/lib/python3.8/site-packages/scipy/stats/_stats_py.py:4424: ConstantInputWarning: An input array is constant; the correlation coefficient is not defined.\n",
      "  warnings.warn(stats.ConstantInputWarning(msg))\n",
      "/home/uqxtan9/micromamba/envs/stimage/lib/python3.8/site-packages/scipy/stats/_stats_py.py:4424: ConstantInputWarning: An input array is constant; the correlation coefficient is not defined.\n",
      "  warnings.warn(stats.ConstantInputWarning(msg))\n",
      "/home/uqxtan9/micromamba/envs/stimage/lib/python3.8/site-packages/scipy/stats/_stats_py.py:4424: ConstantInputWarning: An input array is constant; the correlation coefficient is not defined.\n",
      "  warnings.warn(stats.ConstantInputWarning(msg))\n",
      "/home/uqxtan9/micromamba/envs/stimage/lib/python3.8/site-packages/scipy/stats/_stats_py.py:4424: ConstantInputWarning: An input array is constant; the correlation coefficient is not defined.\n",
      "  warnings.warn(stats.ConstantInputWarning(msg))\n"
     ]
    },
    {
     "name": "stdout",
     "output_type": "stream",
     "text": [
      "C6\n"
     ]
    },
    {
     "name": "stderr",
     "output_type": "stream",
     "text": [
      "/home/uqxtan9/micromamba/envs/stimage/lib/python3.8/site-packages/scipy/stats/_stats_py.py:4424: ConstantInputWarning: An input array is constant; the correlation coefficient is not defined.\n",
      "  warnings.warn(stats.ConstantInputWarning(msg))\n",
      "/home/uqxtan9/micromamba/envs/stimage/lib/python3.8/site-packages/scipy/stats/_stats_py.py:4424: ConstantInputWarning: An input array is constant; the correlation coefficient is not defined.\n",
      "  warnings.warn(stats.ConstantInputWarning(msg))\n"
     ]
    },
    {
     "name": "stdout",
     "output_type": "stream",
     "text": [
      "B5\n"
     ]
    },
    {
     "name": "stderr",
     "output_type": "stream",
     "text": [
      "/home/uqxtan9/micromamba/envs/stimage/lib/python3.8/site-packages/scipy/stats/_stats_py.py:4424: ConstantInputWarning: An input array is constant; the correlation coefficient is not defined.\n",
      "  warnings.warn(stats.ConstantInputWarning(msg))\n",
      "/home/uqxtan9/micromamba/envs/stimage/lib/python3.8/site-packages/scipy/stats/_stats_py.py:4424: ConstantInputWarning: An input array is constant; the correlation coefficient is not defined.\n",
      "  warnings.warn(stats.ConstantInputWarning(msg))\n",
      "/home/uqxtan9/micromamba/envs/stimage/lib/python3.8/site-packages/scipy/stats/_stats_py.py:4424: ConstantInputWarning: An input array is constant; the correlation coefficient is not defined.\n",
      "  warnings.warn(stats.ConstantInputWarning(msg))\n"
     ]
    },
    {
     "name": "stdout",
     "output_type": "stream",
     "text": [
      "D1\n",
      "B1\n"
     ]
    },
    {
     "name": "stderr",
     "output_type": "stream",
     "text": [
      "/home/uqxtan9/micromamba/envs/stimage/lib/python3.8/site-packages/scipy/stats/_stats_py.py:4424: ConstantInputWarning: An input array is constant; the correlation coefficient is not defined.\n",
      "  warnings.warn(stats.ConstantInputWarning(msg))\n",
      "/home/uqxtan9/micromamba/envs/stimage/lib/python3.8/site-packages/scipy/stats/_stats_py.py:4424: ConstantInputWarning: An input array is constant; the correlation coefficient is not defined.\n",
      "  warnings.warn(stats.ConstantInputWarning(msg))\n"
     ]
    },
    {
     "name": "stdout",
     "output_type": "stream",
     "text": [
      "D5\n"
     ]
    },
    {
     "name": "stderr",
     "output_type": "stream",
     "text": [
      "/home/uqxtan9/micromamba/envs/stimage/lib/python3.8/site-packages/scanpy/preprocessing/_normalization.py:196: UserWarning: Some cells have zero counts\n",
      "  warn(UserWarning('Some cells have zero counts'))\n"
     ]
    },
    {
     "name": "stdout",
     "output_type": "stream",
     "text": [
      "H3\n"
     ]
    },
    {
     "name": "stderr",
     "output_type": "stream",
     "text": [
      "/home/uqxtan9/micromamba/envs/stimage/lib/python3.8/site-packages/scipy/stats/_stats_py.py:4424: ConstantInputWarning: An input array is constant; the correlation coefficient is not defined.\n",
      "  warnings.warn(stats.ConstantInputWarning(msg))\n",
      "/home/uqxtan9/micromamba/envs/stimage/lib/python3.8/site-packages/scipy/stats/_stats_py.py:4424: ConstantInputWarning: An input array is constant; the correlation coefficient is not defined.\n",
      "  warnings.warn(stats.ConstantInputWarning(msg))\n",
      "/home/uqxtan9/micromamba/envs/stimage/lib/python3.8/site-packages/scipy/stats/_stats_py.py:4424: ConstantInputWarning: An input array is constant; the correlation coefficient is not defined.\n",
      "  warnings.warn(stats.ConstantInputWarning(msg))\n",
      "/home/uqxtan9/micromamba/envs/stimage/lib/python3.8/site-packages/scipy/stats/_stats_py.py:4424: ConstantInputWarning: An input array is constant; the correlation coefficient is not defined.\n",
      "  warnings.warn(stats.ConstantInputWarning(msg))\n",
      "/home/uqxtan9/micromamba/envs/stimage/lib/python3.8/site-packages/scipy/stats/_stats_py.py:4424: ConstantInputWarning: An input array is constant; the correlation coefficient is not defined.\n",
      "  warnings.warn(stats.ConstantInputWarning(msg))\n",
      "/home/uqxtan9/micromamba/envs/stimage/lib/python3.8/site-packages/scipy/stats/_stats_py.py:4424: ConstantInputWarning: An input array is constant; the correlation coefficient is not defined.\n",
      "  warnings.warn(stats.ConstantInputWarning(msg))\n",
      "/home/uqxtan9/micromamba/envs/stimage/lib/python3.8/site-packages/scipy/stats/_stats_py.py:4424: ConstantInputWarning: An input array is constant; the correlation coefficient is not defined.\n",
      "  warnings.warn(stats.ConstantInputWarning(msg))\n",
      "/home/uqxtan9/micromamba/envs/stimage/lib/python3.8/site-packages/scipy/stats/_stats_py.py:4424: ConstantInputWarning: An input array is constant; the correlation coefficient is not defined.\n",
      "  warnings.warn(stats.ConstantInputWarning(msg))\n",
      "/home/uqxtan9/micromamba/envs/stimage/lib/python3.8/site-packages/scipy/stats/_stats_py.py:4424: ConstantInputWarning: An input array is constant; the correlation coefficient is not defined.\n",
      "  warnings.warn(stats.ConstantInputWarning(msg))\n",
      "/home/uqxtan9/micromamba/envs/stimage/lib/python3.8/site-packages/scipy/stats/_stats_py.py:4424: ConstantInputWarning: An input array is constant; the correlation coefficient is not defined.\n",
      "  warnings.warn(stats.ConstantInputWarning(msg))\n",
      "/home/uqxtan9/micromamba/envs/stimage/lib/python3.8/site-packages/scipy/stats/_stats_py.py:4424: ConstantInputWarning: An input array is constant; the correlation coefficient is not defined.\n",
      "  warnings.warn(stats.ConstantInputWarning(msg))\n",
      "/home/uqxtan9/micromamba/envs/stimage/lib/python3.8/site-packages/scipy/stats/_stats_py.py:4424: ConstantInputWarning: An input array is constant; the correlation coefficient is not defined.\n",
      "  warnings.warn(stats.ConstantInputWarning(msg))\n",
      "/home/uqxtan9/micromamba/envs/stimage/lib/python3.8/site-packages/scipy/stats/_stats_py.py:4424: ConstantInputWarning: An input array is constant; the correlation coefficient is not defined.\n",
      "  warnings.warn(stats.ConstantInputWarning(msg))\n",
      "/home/uqxtan9/micromamba/envs/stimage/lib/python3.8/site-packages/scipy/stats/_stats_py.py:4424: ConstantInputWarning: An input array is constant; the correlation coefficient is not defined.\n",
      "  warnings.warn(stats.ConstantInputWarning(msg))\n"
     ]
    },
    {
     "name": "stdout",
     "output_type": "stream",
     "text": [
      "F1\n"
     ]
    },
    {
     "name": "stderr",
     "output_type": "stream",
     "text": [
      "/home/uqxtan9/micromamba/envs/stimage/lib/python3.8/site-packages/scipy/stats/_stats_py.py:4424: ConstantInputWarning: An input array is constant; the correlation coefficient is not defined.\n",
      "  warnings.warn(stats.ConstantInputWarning(msg))\n"
     ]
    },
    {
     "name": "stdout",
     "output_type": "stream",
     "text": [
      "B6\n"
     ]
    },
    {
     "name": "stderr",
     "output_type": "stream",
     "text": [
      "/home/uqxtan9/micromamba/envs/stimage/lib/python3.8/site-packages/scipy/stats/_stats_py.py:4424: ConstantInputWarning: An input array is constant; the correlation coefficient is not defined.\n",
      "  warnings.warn(stats.ConstantInputWarning(msg))\n",
      "/home/uqxtan9/micromamba/envs/stimage/lib/python3.8/site-packages/scipy/stats/_stats_py.py:4424: ConstantInputWarning: An input array is constant; the correlation coefficient is not defined.\n",
      "  warnings.warn(stats.ConstantInputWarning(msg))\n"
     ]
    },
    {
     "name": "stdout",
     "output_type": "stream",
     "text": [
      "F2\n"
     ]
    },
    {
     "name": "stderr",
     "output_type": "stream",
     "text": [
      "/home/uqxtan9/micromamba/envs/stimage/lib/python3.8/site-packages/scipy/stats/_stats_py.py:4424: ConstantInputWarning: An input array is constant; the correlation coefficient is not defined.\n",
      "  warnings.warn(stats.ConstantInputWarning(msg))\n",
      "/home/uqxtan9/micromamba/envs/stimage/lib/python3.8/site-packages/scipy/stats/_stats_py.py:4424: ConstantInputWarning: An input array is constant; the correlation coefficient is not defined.\n",
      "  warnings.warn(stats.ConstantInputWarning(msg))\n"
     ]
    },
    {
     "name": "stdout",
     "output_type": "stream",
     "text": [
      "F3\n"
     ]
    },
    {
     "name": "stderr",
     "output_type": "stream",
     "text": [
      "/home/uqxtan9/micromamba/envs/stimage/lib/python3.8/site-packages/scipy/stats/_stats_py.py:4424: ConstantInputWarning: An input array is constant; the correlation coefficient is not defined.\n",
      "  warnings.warn(stats.ConstantInputWarning(msg))\n",
      "/home/uqxtan9/micromamba/envs/stimage/lib/python3.8/site-packages/scipy/stats/_stats_py.py:4424: ConstantInputWarning: An input array is constant; the correlation coefficient is not defined.\n",
      "  warnings.warn(stats.ConstantInputWarning(msg))\n",
      "/home/uqxtan9/micromamba/envs/stimage/lib/python3.8/site-packages/scipy/stats/_stats_py.py:4424: ConstantInputWarning: An input array is constant; the correlation coefficient is not defined.\n",
      "  warnings.warn(stats.ConstantInputWarning(msg))\n",
      "/home/uqxtan9/micromamba/envs/stimage/lib/python3.8/site-packages/scipy/stats/_stats_py.py:4424: ConstantInputWarning: An input array is constant; the correlation coefficient is not defined.\n",
      "  warnings.warn(stats.ConstantInputWarning(msg))\n"
     ]
    },
    {
     "name": "stdout",
     "output_type": "stream",
     "text": [
      "D4\n",
      "C3\n"
     ]
    },
    {
     "name": "stderr",
     "output_type": "stream",
     "text": [
      "/home/uqxtan9/micromamba/envs/stimage/lib/python3.8/site-packages/scipy/stats/_stats_py.py:4424: ConstantInputWarning: An input array is constant; the correlation coefficient is not defined.\n",
      "  warnings.warn(stats.ConstantInputWarning(msg))\n"
     ]
    },
    {
     "name": "stdout",
     "output_type": "stream",
     "text": [
      "A4\n"
     ]
    },
    {
     "name": "stderr",
     "output_type": "stream",
     "text": [
      "/home/uqxtan9/micromamba/envs/stimage/lib/python3.8/site-packages/scipy/stats/_stats_py.py:4424: ConstantInputWarning: An input array is constant; the correlation coefficient is not defined.\n",
      "  warnings.warn(stats.ConstantInputWarning(msg))\n",
      "/home/uqxtan9/micromamba/envs/stimage/lib/python3.8/site-packages/scipy/stats/_stats_py.py:4424: ConstantInputWarning: An input array is constant; the correlation coefficient is not defined.\n",
      "  warnings.warn(stats.ConstantInputWarning(msg))\n",
      "/home/uqxtan9/micromamba/envs/stimage/lib/python3.8/site-packages/scipy/stats/_stats_py.py:4424: ConstantInputWarning: An input array is constant; the correlation coefficient is not defined.\n",
      "  warnings.warn(stats.ConstantInputWarning(msg))\n",
      "/home/uqxtan9/micromamba/envs/stimage/lib/python3.8/site-packages/scipy/stats/_stats_py.py:4424: ConstantInputWarning: An input array is constant; the correlation coefficient is not defined.\n",
      "  warnings.warn(stats.ConstantInputWarning(msg))\n",
      "/home/uqxtan9/micromamba/envs/stimage/lib/python3.8/site-packages/scipy/stats/_stats_py.py:4424: ConstantInputWarning: An input array is constant; the correlation coefficient is not defined.\n",
      "  warnings.warn(stats.ConstantInputWarning(msg))\n",
      "/home/uqxtan9/micromamba/envs/stimage/lib/python3.8/site-packages/scipy/stats/_stats_py.py:4424: ConstantInputWarning: An input array is constant; the correlation coefficient is not defined.\n",
      "  warnings.warn(stats.ConstantInputWarning(msg))\n",
      "/home/uqxtan9/micromamba/envs/stimage/lib/python3.8/site-packages/scipy/stats/_stats_py.py:4424: ConstantInputWarning: An input array is constant; the correlation coefficient is not defined.\n",
      "  warnings.warn(stats.ConstantInputWarning(msg))\n",
      "/home/uqxtan9/micromamba/envs/stimage/lib/python3.8/site-packages/scipy/stats/_stats_py.py:4424: ConstantInputWarning: An input array is constant; the correlation coefficient is not defined.\n",
      "  warnings.warn(stats.ConstantInputWarning(msg))\n",
      "/home/uqxtan9/micromamba/envs/stimage/lib/python3.8/site-packages/scipy/stats/_stats_py.py:4424: ConstantInputWarning: An input array is constant; the correlation coefficient is not defined.\n",
      "  warnings.warn(stats.ConstantInputWarning(msg))\n"
     ]
    },
    {
     "name": "stdout",
     "output_type": "stream",
     "text": [
      "G3\n"
     ]
    },
    {
     "name": "stderr",
     "output_type": "stream",
     "text": [
      "/home/uqxtan9/micromamba/envs/stimage/lib/python3.8/site-packages/scipy/stats/_stats_py.py:4424: ConstantInputWarning: An input array is constant; the correlation coefficient is not defined.\n",
      "  warnings.warn(stats.ConstantInputWarning(msg))\n",
      "/home/uqxtan9/micromamba/envs/stimage/lib/python3.8/site-packages/scipy/stats/_stats_py.py:4424: ConstantInputWarning: An input array is constant; the correlation coefficient is not defined.\n",
      "  warnings.warn(stats.ConstantInputWarning(msg))\n",
      "/home/uqxtan9/micromamba/envs/stimage/lib/python3.8/site-packages/scipy/stats/_stats_py.py:4424: ConstantInputWarning: An input array is constant; the correlation coefficient is not defined.\n",
      "  warnings.warn(stats.ConstantInputWarning(msg))\n",
      "/home/uqxtan9/micromamba/envs/stimage/lib/python3.8/site-packages/scipy/stats/_stats_py.py:4424: ConstantInputWarning: An input array is constant; the correlation coefficient is not defined.\n",
      "  warnings.warn(stats.ConstantInputWarning(msg))\n",
      "/home/uqxtan9/micromamba/envs/stimage/lib/python3.8/site-packages/scipy/stats/_stats_py.py:4424: ConstantInputWarning: An input array is constant; the correlation coefficient is not defined.\n",
      "  warnings.warn(stats.ConstantInputWarning(msg))\n"
     ]
    },
    {
     "name": "stdout",
     "output_type": "stream",
     "text": [
      "B3\n"
     ]
    },
    {
     "name": "stderr",
     "output_type": "stream",
     "text": [
      "/home/uqxtan9/micromamba/envs/stimage/lib/python3.8/site-packages/scipy/stats/_stats_py.py:4424: ConstantInputWarning: An input array is constant; the correlation coefficient is not defined.\n",
      "  warnings.warn(stats.ConstantInputWarning(msg))\n",
      "/home/uqxtan9/micromamba/envs/stimage/lib/python3.8/site-packages/scipy/stats/_stats_py.py:4424: ConstantInputWarning: An input array is constant; the correlation coefficient is not defined.\n",
      "  warnings.warn(stats.ConstantInputWarning(msg))\n",
      "/home/uqxtan9/micromamba/envs/stimage/lib/python3.8/site-packages/scipy/stats/_stats_py.py:4424: ConstantInputWarning: An input array is constant; the correlation coefficient is not defined.\n",
      "  warnings.warn(stats.ConstantInputWarning(msg))\n",
      "/home/uqxtan9/micromamba/envs/stimage/lib/python3.8/site-packages/scipy/stats/_stats_py.py:4424: ConstantInputWarning: An input array is constant; the correlation coefficient is not defined.\n",
      "  warnings.warn(stats.ConstantInputWarning(msg))\n",
      "/home/uqxtan9/micromamba/envs/stimage/lib/python3.8/site-packages/scipy/stats/_stats_py.py:4424: ConstantInputWarning: An input array is constant; the correlation coefficient is not defined.\n",
      "  warnings.warn(stats.ConstantInputWarning(msg))\n",
      "/home/uqxtan9/micromamba/envs/stimage/lib/python3.8/site-packages/scipy/stats/_stats_py.py:4424: ConstantInputWarning: An input array is constant; the correlation coefficient is not defined.\n",
      "  warnings.warn(stats.ConstantInputWarning(msg))\n"
     ]
    },
    {
     "name": "stdout",
     "output_type": "stream",
     "text": [
      "B2\n"
     ]
    },
    {
     "name": "stderr",
     "output_type": "stream",
     "text": [
      "/home/uqxtan9/micromamba/envs/stimage/lib/python3.8/site-packages/scipy/stats/_stats_py.py:4424: ConstantInputWarning: An input array is constant; the correlation coefficient is not defined.\n",
      "  warnings.warn(stats.ConstantInputWarning(msg))\n"
     ]
    },
    {
     "name": "stdout",
     "output_type": "stream",
     "text": [
      "B4\n"
     ]
    },
    {
     "name": "stderr",
     "output_type": "stream",
     "text": [
      "/home/uqxtan9/micromamba/envs/stimage/lib/python3.8/site-packages/scipy/stats/_stats_py.py:4424: ConstantInputWarning: An input array is constant; the correlation coefficient is not defined.\n",
      "  warnings.warn(stats.ConstantInputWarning(msg))\n",
      "/home/uqxtan9/micromamba/envs/stimage/lib/python3.8/site-packages/scipy/stats/_stats_py.py:4424: ConstantInputWarning: An input array is constant; the correlation coefficient is not defined.\n",
      "  warnings.warn(stats.ConstantInputWarning(msg))\n",
      "/home/uqxtan9/micromamba/envs/stimage/lib/python3.8/site-packages/scipy/stats/_stats_py.py:4424: ConstantInputWarning: An input array is constant; the correlation coefficient is not defined.\n",
      "  warnings.warn(stats.ConstantInputWarning(msg))\n"
     ]
    },
    {
     "name": "stdout",
     "output_type": "stream",
     "text": [
      "C5\n"
     ]
    },
    {
     "name": "stderr",
     "output_type": "stream",
     "text": [
      "/home/uqxtan9/micromamba/envs/stimage/lib/python3.8/site-packages/scipy/stats/_stats_py.py:4424: ConstantInputWarning: An input array is constant; the correlation coefficient is not defined.\n",
      "  warnings.warn(stats.ConstantInputWarning(msg))\n",
      "/home/uqxtan9/micromamba/envs/stimage/lib/python3.8/site-packages/scipy/stats/_stats_py.py:4424: ConstantInputWarning: An input array is constant; the correlation coefficient is not defined.\n",
      "  warnings.warn(stats.ConstantInputWarning(msg))\n"
     ]
    },
    {
     "name": "stdout",
     "output_type": "stream",
     "text": [
      "D3\n",
      "G1\n"
     ]
    },
    {
     "ename": "",
     "evalue": "",
     "output_type": "error",
     "traceback": [
      "\u001b[1;31mThe Kernel crashed while executing code in the current cell or a previous cell. \n",
      "\u001b[1;31mPlease review the code in the cell(s) to identify a possible cause of the failure. \n",
      "\u001b[1;31mClick <a href='https://aka.ms/vscodeJupyterKernelCrash'>here</a> for more info. \n",
      "\u001b[1;31mView Jupyter <a href='command:jupyter.viewOutput'>log</a> for further details."
     ]
    }
   ],
   "source": [
    "df = pd.DataFrame()\n",
    "for file_path in PATH_PRED.glob(\"./gt*.h5ad\"):\n",
    "    library_id = file_path.stem.split(\"_\")[-1]\n",
    "    print(library_id)\n",
    "    adata_gt = ad.read_h5ad(file_path)\n",
    "    sc.pp.normalize_total(adata_gt)\n",
    "    sc.pp.log1p(adata_gt)\n",
    "    adata_gt = adata_gt[:, common_genes]\n",
    "    adata_true = adata_dict[library_id]\n",
    "    for gene in common_genes:\n",
    "        cor_val = calculate_correlation(adata_gt.to_df().loc[:,gene], adata_true.to_df().loc[:,gene])\n",
    "        df = pd.concat([df, pd.DataFrame([gene, cor_val, library_id, \"STimage_her2st\"],\n",
    "                            index=[\"Gene\", \"Pearson correlation\", \"Slide\", \"Method\"]).transpose()], ignore_index=True, axis=0)\n",
    "    "
   ]
  },
  {
   "cell_type": "code",
   "execution_count": 75,
   "metadata": {},
   "outputs": [],
   "source": [
    "df.to_csv(OUT_PATH / \"correlation.csv\")"
   ]
  },
  {
   "cell_type": "code",
   "execution_count": 10,
   "metadata": {},
   "outputs": [],
   "source": [
    "df = pd.read_csv(OUT_PATH / \"correlation.csv\")"
   ]
  },
  {
   "cell_type": "code",
   "execution_count": 11,
   "metadata": {},
   "outputs": [],
   "source": [
    "top_300gene = df.groupby(\"Gene\")[\"Pearson correlation\"].mean().sort_values(ascending=False)[0:300].index\n",
    "df_top300 = df[df[\"Gene\"].isin(top_300gene)]\n"
   ]
  },
  {
   "cell_type": "code",
   "execution_count": 12,
   "metadata": {},
   "outputs": [
    {
     "data": {
      "text/plain": [
       "Index(['B2M', 'HLA-DRA', 'XBP1', 'PDIA6', 'AKT1', 'MCL1', 'FN1', 'PDIA4',\n",
       "       'CD99', 'CTSB', 'CDH1', 'DDX3X', 'CTNNA1', 'ERBB2', 'TAPBP', 'HSPB1',\n",
       "       'PFN1', 'EFNA1', 'IDH2', 'CD164'],\n",
       "      dtype='object', name='Gene')"
      ]
     },
     "execution_count": 12,
     "metadata": {},
     "output_type": "execute_result"
    }
   ],
   "source": [
    "top_300gene[0:20]"
   ]
  },
  {
   "cell_type": "code",
   "execution_count": 16,
   "metadata": {},
   "outputs": [],
   "source": [
    "df_top300 = df_top300.sort_values(\"Slide\", ascending=True)"
   ]
  },
  {
   "cell_type": "code",
   "execution_count": 20,
   "metadata": {},
   "outputs": [],
   "source": [
    "ax, fig = plt.subplots(figsize=(10,6))\n",
    "sns.boxplot(x=\"Slide\", y=\"Pearson correlation\", data=df_top300)\n",
    "# plt.ylim(0,1)\n",
    "plt.savefig(OUT_PATH / \"top_100gene.pdf\")"
   ]
  },
  {
   "cell_type": "code",
   "execution_count": 18,
   "metadata": {},
   "outputs": [
    {
     "data": {
      "image/png": "[encoded data removed]",
      "text/plain": [
       "<Figure size 1000x600 with 1 Axes>"
      ]
     },
     "metadata": {},
     "output_type": "display_data"
    }
   ],
   "source": [
    "plt.show()"
   ]
  },
  {
   "cell_type": "code",
   "execution_count": null,
   "metadata": {},
   "outputs": [],
   "source": []
  }
 ],
 "metadata": {
  "kernelspec": {
   "display_name": "stimage_ld",
   "language": "python",
   "name": "stimage_ld"
  },
  "language_info": {
   "codemirror_mode": {
    "name": "ipython",
    "version": 3
   },
   "file_extension": ".py",
   "mimetype": "text/x-python",
   "name": "python",
   "nbconvert_exporter": "python",
   "pygments_lexer": "ipython3",
   "version": "3.8.19"
  }
 },
 "nbformat": 4,
 "nbformat_minor": 2
}
