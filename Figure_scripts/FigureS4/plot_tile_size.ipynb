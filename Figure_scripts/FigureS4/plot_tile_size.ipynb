{
 "cells": [
  {
   "cell_type": "code",
   "execution_count": 1,
   "metadata": {},
   "outputs": [
    {
     "name": "stderr",
     "output_type": "stream",
     "text": [
      "/scratch/project_mnt/S0010/Xiao/micromamba/envs/stimage/lib/python3.8/site-packages/stlearn/tools/microenv/cci/het.py:192: NumbaDeprecationWarning: \u001b[1mThe keyword argument 'nopython=False' was supplied. From Numba 0.59.0 the default is being changed to True and use of 'nopython=False' will raise a warning as the argument will have no effect. See https://numba.readthedocs.io/en/stable/reference/deprecation.html#deprecation-of-object-mode-fall-back-behaviour-when-using-jit for details.\u001b[0m\n",
      "  @jit(parallel=True, nopython=False)\n"
     ]
    }
   ],
   "source": [
    "import pandas as pd\n",
    "from pathlib import Path\n",
    "from anndata import read_h5ad\n",
    "# import matplotlib_venn\n",
    "import scanpy as sc\n",
    "import numpy as np\n",
    "import stlearn as st\n",
    "import anndata as ad\n",
    "import seaborn as sns\n",
    "from matplotlib import pyplot as plt\n",
    "import pickle\n",
    "import sys\n",
    "from scipy.stats import zscore\n",
    "sys.path.insert(0, '/scratch/project_mnt/S0010/Xiao/STimage/')\n",
    "from stimage._utils import gene_plot, Read10X, pattern_matrix\n",
    "from tqdm import tqdm\n",
    "import multiprocessing as mp"
   ]
  },
  {
   "cell_type": "code",
   "execution_count": 2,
   "metadata": {},
   "outputs": [],
   "source": [
    "from scipy import stats\n",
    "def calculate_correlation(attr_1, attr_2):\n",
    "    r = stats.pearsonr(attr_1, \n",
    "                       attr_2)[0]\n",
    "    return r\n",
    "\n",
    "def z_2l(df):\n",
    "    df_z = df.apply(zscore).fillna(0)\n",
    "    df_z_2 = df_z.apply(lambda x: pd.cut(x,[-np.inf, 0, np.inf],labels=[1,2]))\n",
    "    return df_z_2"
   ]
  },
  {
   "cell_type": "code",
   "execution_count": null,
   "metadata": {},
   "outputs": [],
   "source": []
  },
  {
   "cell_type": "code",
   "execution_count": 3,
   "metadata": {},
   "outputs": [],
   "source": [
    "# Wiener\n",
    "BASE_PATH = Path(\"/scratch/imb/Xiao/\")"
   ]
  },
  {
   "cell_type": "code",
   "execution_count": 4,
   "metadata": {},
   "outputs": [],
   "source": [
    "# Bunya\n",
    "BASE_PATH = Path(\"/scratch/project_mnt/S0010/Xiao\")"
   ]
  },
  {
   "cell_type": "code",
   "execution_count": 5,
   "metadata": {},
   "outputs": [],
   "source": [
    "PATH_PRED = BASE_PATH / \"Q1851/Xiao/Wiener_backup/STimage_exp/stimage_tile_size_bunya\""
   ]
  },
  {
   "cell_type": "code",
   "execution_count": 6,
   "metadata": {},
   "outputs": [],
   "source": [
    "df = pd.DataFrame()\n",
    "for file in (PATH_PRED).rglob(\"stimage_tile_size_*/stimage_cor*.csv\"):\n",
    "    # print(file)\n",
    "    df = pd.concat([df, pd.read_csv(file, index_col=0)], axis=1)\n",
    "df = df.T\n",
    "df[\"Pearson correlation\"] = df[\"Pearson correlation\"].astype(float)\n",
    "df[\"Tile_size\"] = df[\"Tile_size\"].astype(int)"
   ]
  },
  {
   "cell_type": "code",
   "execution_count": 7,
   "metadata": {},
   "outputs": [],
   "source": [
    "# df = pd.DataFrame()\n",
    "# for file in (BASE_PATH / \"Q1851/Xiao/Wiener_backup/STimage_exp/stimage_tile_size\").rglob(\"stimage_tile_size_*/stimage_cor*.csv\"):\n",
    "#     # print(file)\n",
    "#     df = pd.concat([df, pd.read_csv(file, index_col=0)], axis=0)"
   ]
  },
  {
   "cell_type": "code",
   "execution_count": 8,
   "metadata": {},
   "outputs": [
    {
     "data": {
      "text/html": [
       "<div>\n",
       "<style scoped>\n",
       "    .dataframe tbody tr th:only-of-type {\n",
       "        vertical-align: middle;\n",
       "    }\n",
       "\n",
       "    .dataframe tbody tr th {\n",
       "        vertical-align: top;\n",
       "    }\n",
       "\n",
       "    .dataframe thead th {\n",
       "        text-align: right;\n",
       "    }\n",
       "</style>\n",
       "<table border=\"1\" class=\"dataframe\">\n",
       "  <thead>\n",
       "    <tr style=\"text-align: right;\">\n",
       "      <th></th>\n",
       "      <th>Gene</th>\n",
       "      <th>Pearson correlation</th>\n",
       "      <th>Slide</th>\n",
       "      <th>Method</th>\n",
       "      <th>Tile_size</th>\n",
       "    </tr>\n",
       "  </thead>\n",
       "  <tbody>\n",
       "    <tr>\n",
       "      <th>0</th>\n",
       "      <td>ISG15</td>\n",
       "      <td>-0.014104</td>\n",
       "      <td>FFPE</td>\n",
       "      <td>STimage</td>\n",
       "      <td>299</td>\n",
       "    </tr>\n",
       "    <tr>\n",
       "      <th>1</th>\n",
       "      <td>TNFRSF18</td>\n",
       "      <td>-0.023295</td>\n",
       "      <td>FFPE</td>\n",
       "      <td>STimage</td>\n",
       "      <td>299</td>\n",
       "    </tr>\n",
       "    <tr>\n",
       "      <th>2</th>\n",
       "      <td>TNFRSF4</td>\n",
       "      <td>-0.131900</td>\n",
       "      <td>FFPE</td>\n",
       "      <td>STimage</td>\n",
       "      <td>299</td>\n",
       "    </tr>\n",
       "    <tr>\n",
       "      <th>3</th>\n",
       "      <td>CALML6</td>\n",
       "      <td>-0.057468</td>\n",
       "      <td>FFPE</td>\n",
       "      <td>STimage</td>\n",
       "      <td>299</td>\n",
       "    </tr>\n",
       "    <tr>\n",
       "      <th>4</th>\n",
       "      <td>HES5</td>\n",
       "      <td>-0.032661</td>\n",
       "      <td>FFPE</td>\n",
       "      <td>STimage</td>\n",
       "      <td>299</td>\n",
       "    </tr>\n",
       "    <tr>\n",
       "      <th>...</th>\n",
       "      <td>...</td>\n",
       "      <td>...</td>\n",
       "      <td>...</td>\n",
       "      <td>...</td>\n",
       "      <td>...</td>\n",
       "    </tr>\n",
       "    <tr>\n",
       "      <th>1517</th>\n",
       "      <td>ETS2</td>\n",
       "      <td>0.011108</td>\n",
       "      <td>1160920F</td>\n",
       "      <td>STimage</td>\n",
       "      <td>299</td>\n",
       "    </tr>\n",
       "    <tr>\n",
       "      <th>1518</th>\n",
       "      <td>MX1</td>\n",
       "      <td>-0.054176</td>\n",
       "      <td>1160920F</td>\n",
       "      <td>STimage</td>\n",
       "      <td>299</td>\n",
       "    </tr>\n",
       "    <tr>\n",
       "      <th>1519</th>\n",
       "      <td>TMPRSS2</td>\n",
       "      <td>-0.046214</td>\n",
       "      <td>1160920F</td>\n",
       "      <td>STimage</td>\n",
       "      <td>299</td>\n",
       "    </tr>\n",
       "    <tr>\n",
       "      <th>1520</th>\n",
       "      <td>ITGB2</td>\n",
       "      <td>0.060362</td>\n",
       "      <td>1160920F</td>\n",
       "      <td>STimage</td>\n",
       "      <td>299</td>\n",
       "    </tr>\n",
       "    <tr>\n",
       "      <th>1521</th>\n",
       "      <td>S100B</td>\n",
       "      <td>-0.055977</td>\n",
       "      <td>1160920F</td>\n",
       "      <td>STimage</td>\n",
       "      <td>299</td>\n",
       "    </tr>\n",
       "  </tbody>\n",
       "</table>\n",
       "<p>3044 rows × 5 columns</p>\n",
       "</div>"
      ],
      "text/plain": [
       "          Gene  Pearson correlation     Slide   Method  Tile_size\n",
       "0        ISG15            -0.014104      FFPE  STimage        299\n",
       "1     TNFRSF18            -0.023295      FFPE  STimage        299\n",
       "2      TNFRSF4            -0.131900      FFPE  STimage        299\n",
       "3       CALML6            -0.057468      FFPE  STimage        299\n",
       "4         HES5            -0.032661      FFPE  STimage        299\n",
       "...        ...                  ...       ...      ...        ...\n",
       "1517      ETS2             0.011108  1160920F  STimage        299\n",
       "1518       MX1            -0.054176  1160920F  STimage        299\n",
       "1519   TMPRSS2            -0.046214  1160920F  STimage        299\n",
       "1520     ITGB2             0.060362  1160920F  STimage        299\n",
       "1521     S100B            -0.055977  1160920F  STimage        299\n",
       "\n",
       "[3044 rows x 5 columns]"
      ]
     },
     "execution_count": 8,
     "metadata": {},
     "output_type": "execute_result"
    }
   ],
   "source": [
    "df[df[\"Tile_size\"] == 299]"
   ]
  },
  {
   "cell_type": "code",
   "execution_count": 9,
   "metadata": {},
   "outputs": [
    {
     "data": {
      "text/plain": [
       "<Axes: xlabel='Tile_size', ylabel='Pearson correlation'>"
      ]
     },
     "execution_count": 9,
     "metadata": {},
     "output_type": "execute_result"
    },
    {
     "data": {
      "image/png": "[encoded data removed]",
      "text/plain": [
       "<Figure size 640x480 with 1 Axes>"
      ]
     },
     "metadata": {},
     "output_type": "display_data"
    }
   ],
   "source": [
    "# sns.boxplot(x=\"Slide\", y=\"Pearson correlation\",hue=\"Tile_size\", data=df)\n",
    "sns.boxplot(x=\"Tile_size\", y=\"Pearson correlation\", data=df)"
   ]
  },
  {
   "cell_type": "code",
   "execution_count": 10,
   "metadata": {},
   "outputs": [
    {
     "name": "stdout",
     "output_type": "stream",
     "text": [
      "PROM1\n",
      "AFDN\n",
      "RAD21\n",
      "CUL1\n",
      "SRSF2\n",
      "GRB2\n",
      "RORC\n",
      "TCF7L1\n",
      "MIF\n",
      "CFB\n",
      "LAMP2\n",
      "RPN2\n",
      "ZFP36L1\n",
      "SDHA\n",
      "HMGA1\n",
      "PDIA4\n",
      "DHX9\n",
      "NBN\n",
      "ANXA2\n",
      "SPOCK2\n",
      "DDIT4\n",
      "TFDP1\n",
      "PCNA\n",
      "MCM4\n",
      "XIAP\n",
      "TFRC\n",
      "PRKAR2A\n",
      "CD63\n",
      "ARID1A\n",
      "PSMD7\n",
      "PIK3R3\n",
      "FOXA1\n",
      "NSD3\n",
      "APP\n",
      "IRAK1\n",
      "USP1\n",
      "LCN2\n",
      "MCL1\n",
      "CD9\n",
      "IRF3\n",
      "RAC1\n",
      "ELF3\n",
      "HRAS\n",
      "C1R\n",
      "MAPK8IP1\n",
      "CCNB1\n",
      "CCL14\n",
      "HLA-F\n",
      "CD55\n",
      "MGST1\n",
      "PYCARD\n",
      "KMT2D\n",
      "STAT2\n",
      "GPI\n",
      "DDX3X\n",
      "PLCG2\n",
      "NOTCH2\n",
      "PSEN2\n",
      "ITGB8\n",
      "KRAS\n",
      "TNC\n",
      "ERCC3\n",
      "IL10RB\n",
      "ENDOG\n",
      "C3\n",
      "HSP90B1\n",
      "ITGAE\n",
      "TREM2\n",
      "ETV7\n",
      "USP9X\n",
      "SPP1\n",
      "CEACAM1\n",
      "SAA1\n",
      "RELA\n",
      "IL13RA1\n",
      "IFIH1\n",
      "ATM\n",
      "ADGRA2\n",
      "SELPLG\n",
      "MAPK8\n",
      "MAPK1\n",
      "STAT1\n",
      "DEFB1\n",
      "OAS1\n",
      "TAF1\n",
      "CDC20\n",
      "RFC3\n",
      "EZH2\n",
      "XBP1\n",
      "IKBKB\n",
      "EIF4EBP1\n",
      "MAPKAPK2\n",
      "SOX10\n",
      "MYC\n",
      "STAT3\n",
      "PSMD2\n",
      "BCR\n",
      "CYFIP2\n",
      "CXCL16\n",
      "ETV6\n",
      "FUBP1\n",
      "GLG1\n",
      "CXCL9\n",
      "MMP7\n",
      "OAS3\n",
      "DNMT1\n",
      "EGF\n",
      "IER3\n",
      "CCR7\n",
      "ITGA4\n",
      "NF2\n",
      "LAG3\n",
      "ERCC1\n",
      "ITGB6\n",
      "TFEB\n",
      "GNG7\n",
      "PDIA6\n",
      "PPP2R2A\n",
      "DUSP8\n",
      "BARD1\n",
      "SP100\n",
      "DTL\n",
      "CD27\n",
      "CST7\n",
      "KDM6A\n",
      "PIK3CB\n",
      "CDH1\n",
      "GREM1\n",
      "TLX1\n",
      "FANCA\n",
      "GZMB\n",
      "CD79A\n",
      "RGS1\n",
      "NSD1\n",
      "DTX3\n",
      "NFKB1\n",
      "HDAC11\n",
      "RIPK2\n",
      "LRRC32\n",
      "CXCR4\n",
      "JAG1\n",
      "TNFRSF25\n",
      "MYB\n",
      "DUSP1\n",
      "LRBA\n",
      "CLEC7A\n",
      "BST2\n",
      "KAT6A\n",
      "GNLY\n",
      "MR1\n",
      "F13A1\n",
      "CCR1\n",
      "CD47\n",
      "GNAI2\n",
      "RAD50\n",
      "IRAK4\n",
      "PRKCI\n",
      "ITK\n",
      "VSIR\n",
      "CCL20\n",
      "CARD11\n",
      "LILRB1\n",
      "LAT\n",
      "TET2\n",
      "IGHM\n",
      "LILRA4\n",
      "MMP12\n",
      "PDGFRB\n",
      "VEGFB\n",
      "CCL5\n",
      "CREBBP\n",
      "NFE2L2\n",
      "CTNND1\n",
      "FOXO3\n",
      "FADD\n",
      "CD8A\n",
      "SLAMF7\n",
      "IFNGR1\n",
      "RPTOR\n",
      "CD4\n",
      "TNFRSF13C\n",
      "SYPL1\n",
      "TAP1\n",
      "RPA2\n",
      "ZBTB32\n",
      "NUMBL\n",
      "F12\n",
      "CD300A\n",
      "HDAC4\n",
      "CR1\n",
      "PDGFRA\n",
      "CCL7\n",
      "HMGB1\n",
      "FGFR1\n",
      "CD6\n",
      "HPGD\n",
      "RAF1\n",
      "RPA3\n",
      "C1QA\n",
      "MCM5\n",
      "COL5A2\n",
      "NKG7\n",
      "TNFRSF1B\n",
      "MAP2K6\n",
      "AQP9\n",
      "PPARGC1A\n",
      "ADGRE5\n",
      "RBM47\n",
      "YTHDF2\n",
      "CD209\n",
      "ACVR1\n",
      "EP300\n",
      "SOCS1\n",
      "PYGL\n",
      "LGALS3\n",
      "ATG10\n",
      "CD38\n",
      "GTF2H3\n",
      "BAD\n",
      "VEGFC\n",
      "SDC2\n",
      "CARD9\n",
      "PRF1\n",
      "HAVCR2\n",
      "PLAU\n",
      "IL1RAP\n",
      "CXCL12\n",
      "GIMAP7\n",
      "ERBB3\n",
      "FPR2\n",
      "NUPR1\n",
      "CUX1\n",
      "TLR1\n",
      "FZD2\n",
      "MST1R\n",
      "TNFSF15\n",
      "RICTOR\n",
      "TNFAIP3\n",
      "NFKBIA\n",
      "AMER1\n",
      "INHBA\n",
      "NCF4\n",
      "CCR6\n",
      "PTGS2\n",
      "CTSB\n",
      "CD109\n",
      "WNT6\n",
      "CLEC4A\n",
      "IRF2\n",
      "ABL2\n",
      "TREM1\n",
      "IGFBP3\n",
      "FOXP3\n",
      "LRRC25\n",
      "VHL\n",
      "BCL7A\n",
      "RARA\n",
      "KLRD1\n",
      "BCL2\n",
      "LTF\n",
      "AKT1\n",
      "POLD1\n",
      "LRRK2\n",
      "BRAF\n",
      "IL17RB\n",
      "PSMB7\n",
      "DOCK8\n",
      "CREB3L4\n",
      "MCM6\n",
      "COLEC12\n",
      "CD53\n",
      "CXCL2\n",
      "CCND1\n",
      "SERPINE1\n",
      "CTNNA1\n",
      "TP53\n",
      "CHI3L1\n",
      "BTN3A1\n",
      "IL1RL1\n",
      "CD34\n",
      "ETS2\n",
      "CENPF\n",
      "FUT8\n",
      "PLA2G10\n",
      "CD33\n",
      "MMP3\n",
      "IFITM1\n",
      "SH2D1B\n",
      "IL2RB\n",
      "PRKAA2\n",
      "ITGAX\n",
      "CTNNB1\n",
      "IRF5\n",
      "FCRL2\n",
      "GINS2\n",
      "ADA\n",
      "CXCR6\n",
      "MAP2K1\n",
      "CSF2RB\n",
      "NR4A3\n"
     ]
    }
   ],
   "source": [
    "top_300gene = df[df[\"Tile_size\"] == 299].groupby(\"Gene\")[\"Pearson correlation\"].mean().sort_values(ascending=False)[0:300].index\n",
    "for i in top_300gene:\n",
    "    print(i)"
   ]
  },
  {
   "cell_type": "code",
   "execution_count": null,
   "metadata": {},
   "outputs": [],
   "source": []
  },
  {
   "cell_type": "code",
   "execution_count": 13,
   "metadata": {},
   "outputs": [],
   "source": [
    "with open(\"top100gene_tile_size.pickle\", \"rb\") as f:\n",
    "    top_100gene = pickle.load(f)"
   ]
  },
  {
   "cell_type": "code",
   "execution_count": 14,
   "metadata": {},
   "outputs": [],
   "source": [
    "df_top100 = df[df[\"Gene\"].isin(top_100gene)]"
   ]
  },
  {
   "cell_type": "code",
   "execution_count": 15,
   "metadata": {},
   "outputs": [
    {
     "data": {
      "text/plain": [
       "(0.0, 1.0)"
      ]
     },
     "execution_count": 15,
     "metadata": {},
     "output_type": "execute_result"
    },
    {
     "data": {
      "image/png": "[encoded data removed]",
      "text/plain": [
       "<Figure size 700x400 with 1 Axes>"
      ]
     },
     "metadata": {},
     "output_type": "display_data"
    }
   ],
   "source": [
    "ax, fig = plt.subplots(figsize=(7,4))\n",
    "sns.boxplot(x=\"Tile_size\", y=\"Pearson correlation\", data=df_top100)\n",
    "plt.ylim(0,1)"
   ]
  },
  {
   "cell_type": "code",
   "execution_count": 16,
   "metadata": {},
   "outputs": [],
   "source": [
    "# adata_all = read_h5ad(\"/scratch/project_mnt/S0010/Xiao/dataset_breast_cancer_9visium/all_adata.h5ad\")\n",
    "# samples = adata_all.obs[\"library_id\"].unique().tolist()\n",
    "samples = [\"1160920F\", \"FFPE\"]\n",
    "tile_sizes = [224, 299, 450 ,600 ,750 ,900]"
   ]
  },
  {
   "cell_type": "code",
   "execution_count": 23,
   "metadata": {},
   "outputs": [
    {
     "name": "stderr",
     "output_type": "stream",
     "text": [
      "100%|██████████| 2/2 [16:22<00:00, 491.47s/it]\n"
     ]
    },
    {
     "data": {
      "text/plain": [
       "<Figure size 640x480 with 0 Axes>"
      ]
     },
     "metadata": {},
     "output_type": "display_data"
    }
   ],
   "source": [
    "df = pd.DataFrame()\n",
    "def task1(gene):\n",
    "    return pattern_matrix(adata, gene, library_id, \"gc_b\", \"pred_b\")\n",
    "\n",
    "\n",
    "def task2(gene):\n",
    "    return calculate_correlation(adata_gc.to_df().loc[:,gene].values,\n",
    "                                       adata.to_df().loc[:,gene].values)\n",
    "\n",
    "for sample in tqdm(samples):\n",
    "    for tile_size in tile_sizes:\n",
    "        adata_all = read_h5ad(f\"/scratch/project_mnt/S0010/Xiao/9visium_norm_{tile_size}/all_adata.h5ad\")\n",
    "        adata_gc = adata_all[adata_all.obs[\"library_id\"] == sample].copy()\n",
    "        adata = ad.read_h5ad(PATH_PRED / f\"stimage_tile_size_{tile_size}\" / f\"pred_{sample}.h5ad\")\n",
    "        gc_df_2l = z_2l(adata_gc.to_df())\n",
    "        pred_df_2l = z_2l(adata.to_df())\n",
    "        adata.obsm[\"gc_b\"] = gc_df_2l\n",
    "        adata.obsm[\"pred_b\"] = pred_df_2l\n",
    "        library_id = sample\n",
    "        plt.clf()\n",
    "        with mp.Pool(25) as p:\n",
    "            for i, results in enumerate(p.map(task1, top_100gene)):\n",
    "                df = pd.concat([df, pd.Series([top_100gene[i], results, library_id, \"Customised_IoU\", f\"tile_size_{tile_size}\"], \n",
    "                                        index=[\"Gene\", \"Score\", \"Slide\", \"Matrix\", \"Config\"])], axis=1, ignore_index=True)\n",
    "        with mp.Pool(25) as p:\n",
    "            for i, results in enumerate(p.map(task2, top_100gene)):\n",
    "                df = pd.concat([df, pd.Series([top_100gene[i], results, library_id, \"PCC\", f\"tile_size_{tile_size}\"], \n",
    "                                    index=[\"Gene\", \"Score\", \"Slide\", \"Matrix\", \"Config\"])], axis=1, ignore_index=True)\n",
    "    "
   ]
  },
  {
   "cell_type": "code",
   "execution_count": 25,
   "metadata": {},
   "outputs": [],
   "source": [
    "df = df.T"
   ]
  },
  {
   "cell_type": "code",
   "execution_count": 27,
   "metadata": {},
   "outputs": [],
   "source": [
    "df.to_csv(\"results_tile_size.csv\")"
   ]
  },
  {
   "cell_type": "code",
   "execution_count": 30,
   "metadata": {},
   "outputs": [
    {
     "data": {
      "text/plain": [
       "<Figure size 640x480 with 0 Axes>"
      ]
     },
     "metadata": {},
     "output_type": "display_data"
    },
    {
     "data": {
      "image/png": "[encoded data removed]",
      "text/plain": [
       "<Figure size 1000x700 with 1 Axes>"
      ]
     },
     "metadata": {},
     "output_type": "display_data"
    }
   ],
   "source": [
    "plt.clf()\n",
    "ax, fig = plt.subplots(figsize=(10,7))\n",
    "# \"Gene\", \"Score\", \"Slide\", \"Matrix\"\n",
    "sns.boxplot(x=\"Config\", y=\"Score\", hue = \"Matrix\", data=df)\n",
    "# plt.ylim(0,1)\n",
    "plt.savefig(\"results_tile_size.pdf\", dpi=300)"
   ]
  },
  {
   "cell_type": "code",
   "execution_count": null,
   "metadata": {},
   "outputs": [],
   "source": []
  }
 ],
 "metadata": {
  "kernelspec": {
   "display_name": "stimage_test",
   "language": "python",
   "name": "python3"
  },
  "language_info": {
   "codemirror_mode": {
    "name": "ipython",
    "version": 3
   },
   "file_extension": ".py",
   "mimetype": "text/x-python",
   "name": "python",
   "nbconvert_exporter": "python",
   "pygments_lexer": "ipython3",
   "version": "3.8.15"
  }
 },
 "nbformat": 4,
 "nbformat_minor": 2
}
