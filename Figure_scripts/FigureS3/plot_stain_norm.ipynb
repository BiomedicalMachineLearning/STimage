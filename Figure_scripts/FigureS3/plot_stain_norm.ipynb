{
 "cells": [
  {
   "cell_type": "code",
   "execution_count": 1,
   "metadata": {},
   "outputs": [
    {
     "name": "stderr",
     "output_type": "stream",
     "text": [
      "/scratch/project_mnt/S0010/Xiao/micromamba/envs/stimage/lib/python3.8/site-packages/stlearn/tools/microenv/cci/het.py:192: NumbaDeprecationWarning: \u001b[1mThe keyword argument 'nopython=False' was supplied. From Numba 0.59.0 the default is being changed to True and use of 'nopython=False' will raise a warning as the argument will have no effect. See https://numba.readthedocs.io/en/stable/reference/deprecation.html#deprecation-of-object-mode-fall-back-behaviour-when-using-jit for details.\u001b[0m\n",
      "  @jit(parallel=True, nopython=False)\n"
     ]
    }
   ],
   "source": [
    "import pandas as pd\n",
    "from pathlib import Path\n",
    "from anndata import read_h5ad\n",
    "# import matplotlib_venn\n",
    "import scanpy as sc\n",
    "import numpy as np\n",
    "import stlearn as st\n",
    "import anndata as ad\n",
    "import seaborn as sns\n",
    "from matplotlib import pyplot as plt\n",
    "import pickle\n",
    "import sys\n",
    "from scipy.stats import zscore\n",
    "sys.path.insert(0, '/scratch/project_mnt/S0010/Xiao/STimage/')\n",
    "from stimage._utils import gene_plot, Read10X, pattern_matrix\n",
    "from tqdm import tqdm\n",
    "import multiprocessing as mp"
   ]
  },
  {
   "cell_type": "code",
   "execution_count": 2,
   "metadata": {},
   "outputs": [],
   "source": [
    "from scipy import stats\n",
    "def calculate_correlation(attr_1, attr_2):\n",
    "    r = stats.pearsonr(attr_1, \n",
    "                       attr_2)[0]\n",
    "    return r\n",
    "\n",
    "def z_2l(df):\n",
    "    df_z = df.apply(zscore).fillna(0)\n",
    "    df_z_2 = df_z.apply(lambda x: pd.cut(x,[-np.inf, 0, np.inf],labels=[1,2]))\n",
    "    return df_z_2"
   ]
  },
  {
   "cell_type": "code",
   "execution_count": 3,
   "metadata": {},
   "outputs": [],
   "source": [
    "# Wiener\n",
    "BASE_PATH = Path(\"/scratch/imb/Xiao/\")"
   ]
  },
  {
   "cell_type": "code",
   "execution_count": 4,
   "metadata": {},
   "outputs": [],
   "source": [
    "# Bunya\n",
    "BASE_PATH = Path(\"/scratch/project_mnt/S0010/Xiao\")"
   ]
  },
  {
   "cell_type": "code",
   "execution_count": 5,
   "metadata": {},
   "outputs": [],
   "source": [
    "PATH_PRED = BASE_PATH / \"Q1851/Xiao/Wiener_backup/STimage_exp/stimage_tile_size_bunya\""
   ]
  },
  {
   "cell_type": "code",
   "execution_count": 6,
   "metadata": {},
   "outputs": [],
   "source": [
    "df_no = pd.DataFrame()\n",
    "for file in (BASE_PATH / \"Q1851/Xiao/Wiener_backup/STimage_exp/stimage_no_norm\").rglob(\"stimage_cor*.csv\"):\n",
    "    # print(file)\n",
    "    df_no = pd.concat([df_no, pd.read_csv(file, index_col=0)], axis=1)\n",
    "df_no = df_no.T\n",
    "df_no[\"Pearson correlation\"] = df_no[\"Pearson correlation\"].astype(float)\n",
    "df_no[\"config\"] = \"without normalization\""
   ]
  },
  {
   "cell_type": "code",
   "execution_count": 7,
   "metadata": {},
   "outputs": [],
   "source": [
    "# df_norm = pd.DataFrame()\n",
    "# for file in (BASE_PATH / \"Q1851/Xiao/Wiener_backup/STimage_exp/stimage_tile_size_bunya/stimage_tile_size_299\").rglob(\"stimage_cor*.csv\"):\n",
    "#     # print(file)\n",
    "#     df_norm = pd.concat([df_norm, pd.read_csv(file, index_col=0)], axis=0)\n",
    "# df_norm[\"config\"] = \"with normalization\""
   ]
  },
  {
   "cell_type": "code",
   "execution_count": 8,
   "metadata": {},
   "outputs": [],
   "source": [
    "df_norm = pd.DataFrame()\n",
    "for file in (BASE_PATH / \"Q1851/Xiao/Wiener_backup/STimage_exp/stimage_tile_size_bunya\").rglob(\"stimage_tile_size_299/stimage_cor*.csv\"):\n",
    "    # print(file)\n",
    "    df_norm = pd.concat([df_norm, pd.read_csv(file, index_col=0)], axis=1)\n",
    "df_norm = df_norm.T\n",
    "df_norm[\"Pearson correlation\"] = df_norm[\"Pearson correlation\"].astype(float)\n",
    "df_norm[\"config\"] = \"With normalization\""
   ]
  },
  {
   "cell_type": "code",
   "execution_count": 9,
   "metadata": {},
   "outputs": [
    {
     "data": {
      "text/html": [
       "<div>\n",
       "<style scoped>\n",
       "    .dataframe tbody tr th:only-of-type {\n",
       "        vertical-align: middle;\n",
       "    }\n",
       "\n",
       "    .dataframe tbody tr th {\n",
       "        vertical-align: top;\n",
       "    }\n",
       "\n",
       "    .dataframe thead th {\n",
       "        text-align: right;\n",
       "    }\n",
       "</style>\n",
       "<table border=\"1\" class=\"dataframe\">\n",
       "  <thead>\n",
       "    <tr style=\"text-align: right;\">\n",
       "      <th></th>\n",
       "      <th>Gene</th>\n",
       "      <th>Pearson correlation</th>\n",
       "      <th>Slide</th>\n",
       "      <th>Method</th>\n",
       "      <th>Tile_size</th>\n",
       "      <th>config</th>\n",
       "    </tr>\n",
       "  </thead>\n",
       "  <tbody>\n",
       "    <tr>\n",
       "      <th>0</th>\n",
       "      <td>ISG15</td>\n",
       "      <td>-0.127034</td>\n",
       "      <td>FFPE</td>\n",
       "      <td>STimage</td>\n",
       "      <td>no_norm</td>\n",
       "      <td>without normalization</td>\n",
       "    </tr>\n",
       "    <tr>\n",
       "      <th>1</th>\n",
       "      <td>TNFRSF18</td>\n",
       "      <td>-0.063729</td>\n",
       "      <td>FFPE</td>\n",
       "      <td>STimage</td>\n",
       "      <td>no_norm</td>\n",
       "      <td>without normalization</td>\n",
       "    </tr>\n",
       "    <tr>\n",
       "      <th>2</th>\n",
       "      <td>TNFRSF4</td>\n",
       "      <td>-0.119840</td>\n",
       "      <td>FFPE</td>\n",
       "      <td>STimage</td>\n",
       "      <td>no_norm</td>\n",
       "      <td>without normalization</td>\n",
       "    </tr>\n",
       "    <tr>\n",
       "      <th>3</th>\n",
       "      <td>CALML6</td>\n",
       "      <td>-0.063228</td>\n",
       "      <td>FFPE</td>\n",
       "      <td>STimage</td>\n",
       "      <td>no_norm</td>\n",
       "      <td>without normalization</td>\n",
       "    </tr>\n",
       "    <tr>\n",
       "      <th>4</th>\n",
       "      <td>HES5</td>\n",
       "      <td>-0.047461</td>\n",
       "      <td>FFPE</td>\n",
       "      <td>STimage</td>\n",
       "      <td>no_norm</td>\n",
       "      <td>without normalization</td>\n",
       "    </tr>\n",
       "    <tr>\n",
       "      <th>...</th>\n",
       "      <td>...</td>\n",
       "      <td>...</td>\n",
       "      <td>...</td>\n",
       "      <td>...</td>\n",
       "      <td>...</td>\n",
       "      <td>...</td>\n",
       "    </tr>\n",
       "    <tr>\n",
       "      <th>1517</th>\n",
       "      <td>ETS2</td>\n",
       "      <td>0.018423</td>\n",
       "      <td>1160920F</td>\n",
       "      <td>STimage</td>\n",
       "      <td>no_norm</td>\n",
       "      <td>without normalization</td>\n",
       "    </tr>\n",
       "    <tr>\n",
       "      <th>1518</th>\n",
       "      <td>MX1</td>\n",
       "      <td>-0.085301</td>\n",
       "      <td>1160920F</td>\n",
       "      <td>STimage</td>\n",
       "      <td>no_norm</td>\n",
       "      <td>without normalization</td>\n",
       "    </tr>\n",
       "    <tr>\n",
       "      <th>1519</th>\n",
       "      <td>TMPRSS2</td>\n",
       "      <td>0.045751</td>\n",
       "      <td>1160920F</td>\n",
       "      <td>STimage</td>\n",
       "      <td>no_norm</td>\n",
       "      <td>without normalization</td>\n",
       "    </tr>\n",
       "    <tr>\n",
       "      <th>1520</th>\n",
       "      <td>ITGB2</td>\n",
       "      <td>0.046077</td>\n",
       "      <td>1160920F</td>\n",
       "      <td>STimage</td>\n",
       "      <td>no_norm</td>\n",
       "      <td>without normalization</td>\n",
       "    </tr>\n",
       "    <tr>\n",
       "      <th>1521</th>\n",
       "      <td>S100B</td>\n",
       "      <td>-0.085274</td>\n",
       "      <td>1160920F</td>\n",
       "      <td>STimage</td>\n",
       "      <td>no_norm</td>\n",
       "      <td>without normalization</td>\n",
       "    </tr>\n",
       "  </tbody>\n",
       "</table>\n",
       "<p>3044 rows × 6 columns</p>\n",
       "</div>"
      ],
      "text/plain": [
       "          Gene  Pearson correlation     Slide   Method Tile_size  \\\n",
       "0        ISG15            -0.127034      FFPE  STimage   no_norm   \n",
       "1     TNFRSF18            -0.063729      FFPE  STimage   no_norm   \n",
       "2      TNFRSF4            -0.119840      FFPE  STimage   no_norm   \n",
       "3       CALML6            -0.063228      FFPE  STimage   no_norm   \n",
       "4         HES5            -0.047461      FFPE  STimage   no_norm   \n",
       "...        ...                  ...       ...      ...       ...   \n",
       "1517      ETS2             0.018423  1160920F  STimage   no_norm   \n",
       "1518       MX1            -0.085301  1160920F  STimage   no_norm   \n",
       "1519   TMPRSS2             0.045751  1160920F  STimage   no_norm   \n",
       "1520     ITGB2             0.046077  1160920F  STimage   no_norm   \n",
       "1521     S100B            -0.085274  1160920F  STimage   no_norm   \n",
       "\n",
       "                     config  \n",
       "0     without normalization  \n",
       "1     without normalization  \n",
       "2     without normalization  \n",
       "3     without normalization  \n",
       "4     without normalization  \n",
       "...                     ...  \n",
       "1517  without normalization  \n",
       "1518  without normalization  \n",
       "1519  without normalization  \n",
       "1520  without normalization  \n",
       "1521  without normalization  \n",
       "\n",
       "[3044 rows x 6 columns]"
      ]
     },
     "execution_count": 9,
     "metadata": {},
     "output_type": "execute_result"
    }
   ],
   "source": [
    "df_no"
   ]
  },
  {
   "cell_type": "code",
   "execution_count": 10,
   "metadata": {},
   "outputs": [
    {
     "data": {
      "text/html": [
       "<div>\n",
       "<style scoped>\n",
       "    .dataframe tbody tr th:only-of-type {\n",
       "        vertical-align: middle;\n",
       "    }\n",
       "\n",
       "    .dataframe tbody tr th {\n",
       "        vertical-align: top;\n",
       "    }\n",
       "\n",
       "    .dataframe thead th {\n",
       "        text-align: right;\n",
       "    }\n",
       "</style>\n",
       "<table border=\"1\" class=\"dataframe\">\n",
       "  <thead>\n",
       "    <tr style=\"text-align: right;\">\n",
       "      <th></th>\n",
       "      <th>Gene</th>\n",
       "      <th>Pearson correlation</th>\n",
       "      <th>Slide</th>\n",
       "      <th>Method</th>\n",
       "      <th>Tile_size</th>\n",
       "      <th>config</th>\n",
       "    </tr>\n",
       "  </thead>\n",
       "  <tbody>\n",
       "    <tr>\n",
       "      <th>0</th>\n",
       "      <td>ISG15</td>\n",
       "      <td>-0.014104</td>\n",
       "      <td>FFPE</td>\n",
       "      <td>STimage</td>\n",
       "      <td>299</td>\n",
       "      <td>With normalization</td>\n",
       "    </tr>\n",
       "    <tr>\n",
       "      <th>1</th>\n",
       "      <td>TNFRSF18</td>\n",
       "      <td>-0.023295</td>\n",
       "      <td>FFPE</td>\n",
       "      <td>STimage</td>\n",
       "      <td>299</td>\n",
       "      <td>With normalization</td>\n",
       "    </tr>\n",
       "    <tr>\n",
       "      <th>2</th>\n",
       "      <td>TNFRSF4</td>\n",
       "      <td>-0.131900</td>\n",
       "      <td>FFPE</td>\n",
       "      <td>STimage</td>\n",
       "      <td>299</td>\n",
       "      <td>With normalization</td>\n",
       "    </tr>\n",
       "    <tr>\n",
       "      <th>3</th>\n",
       "      <td>CALML6</td>\n",
       "      <td>-0.057468</td>\n",
       "      <td>FFPE</td>\n",
       "      <td>STimage</td>\n",
       "      <td>299</td>\n",
       "      <td>With normalization</td>\n",
       "    </tr>\n",
       "    <tr>\n",
       "      <th>4</th>\n",
       "      <td>HES5</td>\n",
       "      <td>-0.032661</td>\n",
       "      <td>FFPE</td>\n",
       "      <td>STimage</td>\n",
       "      <td>299</td>\n",
       "      <td>With normalization</td>\n",
       "    </tr>\n",
       "    <tr>\n",
       "      <th>...</th>\n",
       "      <td>...</td>\n",
       "      <td>...</td>\n",
       "      <td>...</td>\n",
       "      <td>...</td>\n",
       "      <td>...</td>\n",
       "      <td>...</td>\n",
       "    </tr>\n",
       "    <tr>\n",
       "      <th>1517</th>\n",
       "      <td>ETS2</td>\n",
       "      <td>0.011108</td>\n",
       "      <td>1160920F</td>\n",
       "      <td>STimage</td>\n",
       "      <td>299</td>\n",
       "      <td>With normalization</td>\n",
       "    </tr>\n",
       "    <tr>\n",
       "      <th>1518</th>\n",
       "      <td>MX1</td>\n",
       "      <td>-0.054176</td>\n",
       "      <td>1160920F</td>\n",
       "      <td>STimage</td>\n",
       "      <td>299</td>\n",
       "      <td>With normalization</td>\n",
       "    </tr>\n",
       "    <tr>\n",
       "      <th>1519</th>\n",
       "      <td>TMPRSS2</td>\n",
       "      <td>-0.046214</td>\n",
       "      <td>1160920F</td>\n",
       "      <td>STimage</td>\n",
       "      <td>299</td>\n",
       "      <td>With normalization</td>\n",
       "    </tr>\n",
       "    <tr>\n",
       "      <th>1520</th>\n",
       "      <td>ITGB2</td>\n",
       "      <td>0.060362</td>\n",
       "      <td>1160920F</td>\n",
       "      <td>STimage</td>\n",
       "      <td>299</td>\n",
       "      <td>With normalization</td>\n",
       "    </tr>\n",
       "    <tr>\n",
       "      <th>1521</th>\n",
       "      <td>S100B</td>\n",
       "      <td>-0.055977</td>\n",
       "      <td>1160920F</td>\n",
       "      <td>STimage</td>\n",
       "      <td>299</td>\n",
       "      <td>With normalization</td>\n",
       "    </tr>\n",
       "  </tbody>\n",
       "</table>\n",
       "<p>3044 rows × 6 columns</p>\n",
       "</div>"
      ],
      "text/plain": [
       "          Gene  Pearson correlation     Slide   Method Tile_size  \\\n",
       "0        ISG15            -0.014104      FFPE  STimage       299   \n",
       "1     TNFRSF18            -0.023295      FFPE  STimage       299   \n",
       "2      TNFRSF4            -0.131900      FFPE  STimage       299   \n",
       "3       CALML6            -0.057468      FFPE  STimage       299   \n",
       "4         HES5            -0.032661      FFPE  STimage       299   \n",
       "...        ...                  ...       ...      ...       ...   \n",
       "1517      ETS2             0.011108  1160920F  STimage       299   \n",
       "1518       MX1            -0.054176  1160920F  STimage       299   \n",
       "1519   TMPRSS2            -0.046214  1160920F  STimage       299   \n",
       "1520     ITGB2             0.060362  1160920F  STimage       299   \n",
       "1521     S100B            -0.055977  1160920F  STimage       299   \n",
       "\n",
       "                  config  \n",
       "0     With normalization  \n",
       "1     With normalization  \n",
       "2     With normalization  \n",
       "3     With normalization  \n",
       "4     With normalization  \n",
       "...                  ...  \n",
       "1517  With normalization  \n",
       "1518  With normalization  \n",
       "1519  With normalization  \n",
       "1520  With normalization  \n",
       "1521  With normalization  \n",
       "\n",
       "[3044 rows x 6 columns]"
      ]
     },
     "execution_count": 10,
     "metadata": {},
     "output_type": "execute_result"
    }
   ],
   "source": [
    "df_norm"
   ]
  },
  {
   "cell_type": "code",
   "execution_count": 11,
   "metadata": {},
   "outputs": [],
   "source": [
    "df= pd.concat([df_norm, df_no], axis=0)"
   ]
  },
  {
   "cell_type": "code",
   "execution_count": 12,
   "metadata": {},
   "outputs": [],
   "source": [
    "# top_100gene = df[df[\"config\"] == \"With normalization\"].groupby(\"Gene\")[\"Pearson correlation\"].mean().sort_values(ascending=False)[0:100].index"
   ]
  },
  {
   "cell_type": "code",
   "execution_count": 13,
   "metadata": {},
   "outputs": [],
   "source": [
    "# import pickle\n",
    "# with open(\"top100gene_norm.pickle\", \"wb\") as f:\n",
    "#     pickle.dump(top_100gene, f)"
   ]
  },
  {
   "cell_type": "code",
   "execution_count": 14,
   "metadata": {},
   "outputs": [],
   "source": [
    "#read pickle file\n",
    "with open(\"top100gene_norm.pickle\", \"rb\") as f:\n",
    "    top_100gene = pickle.load(f)"
   ]
  },
  {
   "cell_type": "code",
   "execution_count": 15,
   "metadata": {},
   "outputs": [],
   "source": [
    "df_top100 = df[df[\"Gene\"].isin(top_100gene)]"
   ]
  },
  {
   "cell_type": "code",
   "execution_count": 16,
   "metadata": {},
   "outputs": [
    {
     "data": {
      "text/plain": [
       "(0.0, 1.0)"
      ]
     },
     "execution_count": 16,
     "metadata": {},
     "output_type": "execute_result"
    },
    {
     "data": {
      "image/png": "[encoded data removed]",
      "text/plain": [
       "<Figure size 400x500 with 1 Axes>"
      ]
     },
     "metadata": {},
     "output_type": "display_data"
    }
   ],
   "source": [
    "ax, fig = plt.subplots(figsize=(4,5))\n",
    "sns.boxplot(x=\"config\", y=\"Pearson correlation\", data=df_top100)\n",
    "plt.ylim(0,1)"
   ]
  },
  {
   "cell_type": "code",
   "execution_count": 17,
   "metadata": {},
   "outputs": [],
   "source": [
    "samples = [\"1160920F\", \"FFPE\"]\n",
    "tile_size = 299"
   ]
  },
  {
   "cell_type": "code",
   "execution_count": 18,
   "metadata": {},
   "outputs": [
    {
     "name": "stderr",
     "output_type": "stream",
     "text": [
      "100%|██████████| 2/2 [01:50<00:00, 55.37s/it]\n",
      "100%|██████████| 2/2 [01:56<00:00, 58.14s/it]\n"
     ]
    },
    {
     "data": {
      "text/plain": [
       "<Figure size 640x480 with 0 Axes>"
      ]
     },
     "metadata": {},
     "output_type": "display_data"
    }
   ],
   "source": [
    "df = pd.DataFrame()\n",
    "def task1(gene):\n",
    "    return pattern_matrix(adata, gene, library_id, \"gc_b\", \"pred_b\")\n",
    "\n",
    "\n",
    "def task2(gene):\n",
    "    return calculate_correlation(adata_gc.to_df().loc[:,gene].values,\n",
    "                                       adata.to_df().loc[:,gene].values)\n",
    "\n",
    "for sample in tqdm(samples):\n",
    "    adata_all = read_h5ad(f\"/scratch/project_mnt/S0010/Xiao/9visium_no_norm/all_adata.h5ad\")\n",
    "    adata_gc = adata_all[adata_all.obs[\"library_id\"] == sample].copy()\n",
    "    adata = ad.read_h5ad(BASE_PATH / \"Q1851/Xiao/Wiener_backup/STimage_exp/stimage_no_norm\" / f\"pred_{sample}.h5ad\")\n",
    "    gc_df_2l = z_2l(adata_gc.to_df())\n",
    "    pred_df_2l = z_2l(adata.to_df())\n",
    "    adata.obsm[\"gc_b\"] = gc_df_2l\n",
    "    adata.obsm[\"pred_b\"] = pred_df_2l\n",
    "    library_id = sample\n",
    "    plt.clf()\n",
    "    with mp.Pool(25) as p:\n",
    "        for i, results in enumerate(p.map(task1, top_100gene)):\n",
    "            df = pd.concat([df, pd.Series([top_100gene[i], results, library_id, \"Customised_IoU\", \"Without Normalization\"], \n",
    "                                    index=[\"Gene\", \"Score\", \"Slide\", \"Matrix\", \"Config\"])], axis=1, ignore_index=True)\n",
    "    with mp.Pool(25) as p:\n",
    "        for i, results in enumerate(p.map(task2, top_100gene)):\n",
    "            df = pd.concat([df, pd.Series([top_100gene[i], results, library_id, \"PCC\", \"Without Normalization\"], \n",
    "                                index=[\"Gene\", \"Score\", \"Slide\", \"Matrix\", \"Config\"])], axis=1, ignore_index=True)\n",
    "\n",
    "for sample in tqdm(samples):\n",
    "    adata_all = read_h5ad(f\"/scratch/project_mnt/S0010/Xiao/9visium_norm_{tile_size}/all_adata.h5ad\")\n",
    "    adata_gc = adata_all[adata_all.obs[\"library_id\"] == sample].copy()\n",
    "    adata = ad.read_h5ad(PATH_PRED / f\"stimage_tile_size_{tile_size}\" / f\"pred_{sample}.h5ad\")\n",
    "    gc_df_2l = z_2l(adata_gc.to_df())\n",
    "    pred_df_2l = z_2l(adata.to_df())\n",
    "    adata.obsm[\"gc_b\"] = gc_df_2l\n",
    "    adata.obsm[\"pred_b\"] = pred_df_2l\n",
    "    library_id = sample\n",
    "    plt.clf()\n",
    "    with mp.Pool(25) as p:\n",
    "        for i, results in enumerate(p.map(task1, top_100gene)):\n",
    "            df = pd.concat([df, pd.Series([top_100gene[i], results, library_id, \"Customised_IoU\", \"With Normalization\"], \n",
    "                                    index=[\"Gene\", \"Score\", \"Slide\", \"Matrix\", \"Config\"])], axis=1, ignore_index=True)\n",
    "    with mp.Pool(25) as p:\n",
    "        for i, results in enumerate(p.map(task2, top_100gene)):\n",
    "            df = pd.concat([df, pd.Series([top_100gene[i], results, library_id, \"PCC\", \"With Normalization\"], \n",
    "                                index=[\"Gene\", \"Score\", \"Slide\", \"Matrix\", \"Config\"])], axis=1, ignore_index=True)\n"
   ]
  },
  {
   "cell_type": "code",
   "execution_count": 19,
   "metadata": {},
   "outputs": [],
   "source": [
    "df = df.T"
   ]
  },
  {
   "cell_type": "code",
   "execution_count": 20,
   "metadata": {},
   "outputs": [
    {
     "data": {
      "text/html": [
       "<div>\n",
       "<style scoped>\n",
       "    .dataframe tbody tr th:only-of-type {\n",
       "        vertical-align: middle;\n",
       "    }\n",
       "\n",
       "    .dataframe tbody tr th {\n",
       "        vertical-align: top;\n",
       "    }\n",
       "\n",
       "    .dataframe thead th {\n",
       "        text-align: right;\n",
       "    }\n",
       "</style>\n",
       "<table border=\"1\" class=\"dataframe\">\n",
       "  <thead>\n",
       "    <tr style=\"text-align: right;\">\n",
       "      <th></th>\n",
       "      <th>Gene</th>\n",
       "      <th>Score</th>\n",
       "      <th>Slide</th>\n",
       "      <th>Matrix</th>\n",
       "      <th>Config</th>\n",
       "    </tr>\n",
       "  </thead>\n",
       "  <tbody>\n",
       "    <tr>\n",
       "      <th>0</th>\n",
       "      <td>PROM1</td>\n",
       "      <td>0.663841</td>\n",
       "      <td>1160920F</td>\n",
       "      <td>Customised_IoU</td>\n",
       "      <td>Without Normalization</td>\n",
       "    </tr>\n",
       "    <tr>\n",
       "      <th>1</th>\n",
       "      <td>AFDN</td>\n",
       "      <td>0.755689</td>\n",
       "      <td>1160920F</td>\n",
       "      <td>Customised_IoU</td>\n",
       "      <td>Without Normalization</td>\n",
       "    </tr>\n",
       "    <tr>\n",
       "      <th>2</th>\n",
       "      <td>RAD21</td>\n",
       "      <td>0.672436</td>\n",
       "      <td>1160920F</td>\n",
       "      <td>Customised_IoU</td>\n",
       "      <td>Without Normalization</td>\n",
       "    </tr>\n",
       "    <tr>\n",
       "      <th>3</th>\n",
       "      <td>CUL1</td>\n",
       "      <td>0.813539</td>\n",
       "      <td>1160920F</td>\n",
       "      <td>Customised_IoU</td>\n",
       "      <td>Without Normalization</td>\n",
       "    </tr>\n",
       "    <tr>\n",
       "      <th>4</th>\n",
       "      <td>SRSF2</td>\n",
       "      <td>0.809304</td>\n",
       "      <td>1160920F</td>\n",
       "      <td>Customised_IoU</td>\n",
       "      <td>Without Normalization</td>\n",
       "    </tr>\n",
       "    <tr>\n",
       "      <th>...</th>\n",
       "      <td>...</td>\n",
       "      <td>...</td>\n",
       "      <td>...</td>\n",
       "      <td>...</td>\n",
       "      <td>...</td>\n",
       "    </tr>\n",
       "    <tr>\n",
       "      <th>795</th>\n",
       "      <td>PSMD2</td>\n",
       "      <td>0.350794</td>\n",
       "      <td>FFPE</td>\n",
       "      <td>PCC</td>\n",
       "      <td>With Normalization</td>\n",
       "    </tr>\n",
       "    <tr>\n",
       "      <th>796</th>\n",
       "      <td>BCR</td>\n",
       "      <td>0.191556</td>\n",
       "      <td>FFPE</td>\n",
       "      <td>PCC</td>\n",
       "      <td>With Normalization</td>\n",
       "    </tr>\n",
       "    <tr>\n",
       "      <th>797</th>\n",
       "      <td>CYFIP2</td>\n",
       "      <td>0.150902</td>\n",
       "      <td>FFPE</td>\n",
       "      <td>PCC</td>\n",
       "      <td>With Normalization</td>\n",
       "    </tr>\n",
       "    <tr>\n",
       "      <th>798</th>\n",
       "      <td>CXCL16</td>\n",
       "      <td>0.100462</td>\n",
       "      <td>FFPE</td>\n",
       "      <td>PCC</td>\n",
       "      <td>With Normalization</td>\n",
       "    </tr>\n",
       "    <tr>\n",
       "      <th>799</th>\n",
       "      <td>ETV6</td>\n",
       "      <td>0.155216</td>\n",
       "      <td>FFPE</td>\n",
       "      <td>PCC</td>\n",
       "      <td>With Normalization</td>\n",
       "    </tr>\n",
       "  </tbody>\n",
       "</table>\n",
       "<p>800 rows × 5 columns</p>\n",
       "</div>"
      ],
      "text/plain": [
       "       Gene     Score     Slide          Matrix                 Config\n",
       "0     PROM1  0.663841  1160920F  Customised_IoU  Without Normalization\n",
       "1      AFDN  0.755689  1160920F  Customised_IoU  Without Normalization\n",
       "2     RAD21  0.672436  1160920F  Customised_IoU  Without Normalization\n",
       "3      CUL1  0.813539  1160920F  Customised_IoU  Without Normalization\n",
       "4     SRSF2  0.809304  1160920F  Customised_IoU  Without Normalization\n",
       "..      ...       ...       ...             ...                    ...\n",
       "795   PSMD2  0.350794      FFPE             PCC     With Normalization\n",
       "796     BCR  0.191556      FFPE             PCC     With Normalization\n",
       "797  CYFIP2  0.150902      FFPE             PCC     With Normalization\n",
       "798  CXCL16  0.100462      FFPE             PCC     With Normalization\n",
       "799    ETV6  0.155216      FFPE             PCC     With Normalization\n",
       "\n",
       "[800 rows x 5 columns]"
      ]
     },
     "execution_count": 20,
     "metadata": {},
     "output_type": "execute_result"
    }
   ],
   "source": [
    "df"
   ]
  },
  {
   "cell_type": "code",
   "execution_count": 21,
   "metadata": {},
   "outputs": [],
   "source": [
    "df.to_csv(\"results_stain_norm.csv\")"
   ]
  },
  {
   "cell_type": "code",
   "execution_count": 22,
   "metadata": {},
   "outputs": [],
   "source": [
    "df_pcc = df[df[\"Matrix\"] == \"PCC\"]\n",
    "df_iou = df[df[\"Matrix\"] == \"Customised_IoU\"]"
   ]
  },
  {
   "cell_type": "code",
   "execution_count": 23,
   "metadata": {},
   "outputs": [
    {
     "data": {
      "text/plain": [
       "<Figure size 640x480 with 0 Axes>"
      ]
     },
     "metadata": {},
     "output_type": "display_data"
    },
    {
     "data": {
      "image/png": "[encoded data removed]",
      "text/plain": [
       "<Figure size 1000x700 with 1 Axes>"
      ]
     },
     "metadata": {},
     "output_type": "display_data"
    }
   ],
   "source": [
    "plt.clf()\n",
    "ax, fig = plt.subplots(figsize=(10,7))\n",
    "# \"Gene\", \"Score\", \"Slide\", \"Matrix\"\n",
    "sns.boxplot(x=\"Config\", y=\"Score\", hue = \"Matrix\", data=df)\n",
    "# plt.ylim(0,1)\n",
    "plt.savefig(\"results_stain_norm.pdf\", dpi=300)"
   ]
  },
  {
   "cell_type": "code",
   "execution_count": 2,
   "metadata": {},
   "outputs": [],
   "source": [
    "# plt.clf()\n",
    "# ax, fig = plt.subplots(figsize=(10,7))\n",
    "# # \"Gene\", \"Score\", \"Slide\", \"Matrix\"\n",
    "# sns.boxplot(x=\"Config\", y=\"Score\", hue = \"Matrix\", data=df_pcc)\n",
    "# # plt.ylim(0,1)\n",
    "# plt.savefig(\"results_stain_norm_df_pcc.pdf\", dpi=300)"
   ]
  },
  {
   "cell_type": "code",
   "execution_count": 1,
   "metadata": {},
   "outputs": [],
   "source": [
    "# plt.clf()\n",
    "# ax, fig = plt.subplots(figsize=(10,7))\n",
    "# # \"Gene\", \"Score\", \"Slide\", \"Matrix\"\n",
    "# sns.boxplot(x=\"Config\", y=\"Score\", hue = \"Matrix\", data=df_iou)\n",
    "# # plt.ylim(0,1)\n",
    "# plt.savefig(\"results_stain_norm_df_iou.pdf\", dpi=300)"
   ]
  },
  {
   "cell_type": "code",
   "execution_count": null,
   "metadata": {},
   "outputs": [],
   "source": []
  },
  {
   "cell_type": "code",
   "execution_count": null,
   "metadata": {},
   "outputs": [],
   "source": []
  }
 ],
 "metadata": {
  "kernelspec": {
   "display_name": "stimage_test",
   "language": "python",
   "name": "python3"
  },
  "language_info": {
   "codemirror_mode": {
    "name": "ipython",
    "version": 3
   },
   "file_extension": ".py",
   "mimetype": "text/x-python",
   "name": "python",
   "nbconvert_exporter": "python",
   "pygments_lexer": "ipython3",
   "version": "3.8.15"
  }
 },
 "nbformat": 4,
 "nbformat_minor": 2
}
