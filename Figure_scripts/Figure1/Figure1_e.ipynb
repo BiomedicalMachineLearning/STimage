{
 "cells": [
  {
   "cell_type": "code",
   "execution_count": 3,
   "id": "08dd3ae4",
   "metadata": {},
   "outputs": [
    {
     "name": "stderr",
     "output_type": "stream",
     "text": [
      "2024-09-06 11:51:10.118438: I tensorflow/core/util/port.cc:110] oneDNN custom operations are on. You may see slightly different numerical results due to floating-point round-off errors from different computation orders. To turn them off, set the environment variable `TF_ENABLE_ONEDNN_OPTS=0`.\n",
      "2024-09-06 11:51:11.667446: I tensorflow/core/platform/cpu_feature_guard.cc:182] This TensorFlow binary is optimized to use available CPU instructions in performance-critical operations.\n",
      "To enable the following instructions: SSE4.1 SSE4.2 AVX AVX2 AVX512F AVX512_VNNI AVX512_BF16 FMA, in other operations, rebuild TensorFlow with the appropriate compiler flags.\n"
     ]
    }
   ],
   "source": [
    "from pathlib import Path\n",
    "from anndata import read_h5ad\n",
    "import sys\n",
    "import scanpy\n",
    "import os\n",
    "import matplotlib.pyplot as plt\n",
    "import seaborn as sns\n",
    "\n",
    "import numpy as np\n",
    "import pandas as pd\n",
    "from scipy.stats import nbinom, pearsonr\n",
    "\n",
    "import tensorflow as tf\n",
    "from tensorflow.keras import backend as K\n",
    "from tensorflow.keras.models import load_model\n",
    "# stimage custom \n",
    "file = Path(\"../stimage\").resolve() # path to src code\n",
    "parent = file.parent\n",
    "sys.path.append(str(parent))\n",
    "\n",
    "from tqdm import tqdm\n",
    "\n",
    "from stimage._utils import gene_plot, Read10X, ReadOldST, tiling\n",
    "from stimage._model import CNN_NB_multiple_genes, negative_binomial_layer, negative_binomial_loss\n",
    "from stimage._data_generator import DataGenerator\n",
    "\n",
    "import pickle"
   ]
  },
  {
   "cell_type": "code",
   "execution_count": 4,
   "id": "1612549d",
   "metadata": {},
   "outputs": [],
   "source": [
    "from scipy import stats\n",
    "\n",
    "def plot_correlation(df, attr_1, attr_2):\n",
    "    r = stats.pearsonr(df[attr_1], \n",
    "                       df[attr_2])[0] **2\n",
    "\n",
    "    g = sns.lmplot(data=df,\n",
    "        x=attr_1, y=attr_2,\n",
    "        height=5, legend=True\n",
    "    )\n",
    "    # g.set(ylim=(0, 360), xlim=(0,360))\n",
    "\n",
    "    g.set_axis_labels(attr_1, attr_2)\n",
    "    plt.annotate(r'$R^2:{0:.2f}$'.format(r),\n",
    "                (max(df[attr_1])*0.9, max(df[attr_2])*0.9))\n",
    "    return g\n",
    "\n",
    "\n",
    "def calculate_correlation(attr_1, attr_2):\n",
    "    r = stats.pearsonr(attr_1, \n",
    "                       attr_2)[0]\n",
    "    return r\n",
    "\n",
    "def calculate_correlation_2(attr_1, attr_2):\n",
    "    r = stats.spearmanr(attr_1, \n",
    "                       attr_2)[0]\n",
    "    return r"
   ]
  },
  {
   "cell_type": "code",
   "execution_count": null,
   "id": "03944fdc",
   "metadata": {},
   "outputs": [],
   "source": [
    "DATA_PATH = Path(\"/clusterdata/uqxtan9/Xiao/STimage_100run/dataset_breast_cancer_9visium\")\n",
    "\n",
    "OUT_PATH = Path(\"/clusterdata/uqxtan9/Xiao/STimage/development/stimage_100run/results_1\")\n",
    "\n",
    "OUT_PATH.mkdir(parents=True, exist_ok=True)"
   ]
  },
  {
   "cell_type": "code",
   "execution_count": 5,
   "id": "4f8eaa0d",
   "metadata": {},
   "outputs": [],
   "source": [
    "OUT_PATH = Path(\"/scratch/project_mnt/S0010/Xiao/Q1851/Xiao/Wiener_backup/STimage_exp/stimage_100run/results_1\")"
   ]
  },
  {
   "cell_type": "code",
   "execution_count": 4,
   "id": "6290f03b",
   "metadata": {},
   "outputs": [],
   "source": [
    "adata_all = read_h5ad(DATA_PATH / \"all_adata.h5ad\")"
   ]
  },
  {
   "cell_type": "code",
   "execution_count": 5,
   "id": "22e3baff",
   "metadata": {},
   "outputs": [],
   "source": [
    "# update metadata for annadata such that it maps to the correct location\n",
    "adata_all.obs[\"tile_path\"] = adata_all.obs.tile_path.map(\n",
    "    lambda x: x.replace(\"/clusterdata/uqxtan9/Xiao/breast_cancer_9visium\",\n",
    "                        \"/scratch/imb/Xiao/STimage_100run/dataset_breast_cancer_9visium\"))"
   ]
  },
  {
   "cell_type": "code",
   "execution_count": 6,
   "id": "d4a0487f",
   "metadata": {},
   "outputs": [],
   "source": [
    "# remove FFPE and 1160920F --- the test set\n",
    "adata_all_train_valid = adata_all[adata_all.obs[\"library_id\"].isin(\n",
    "    adata_all.obs.library_id.cat.remove_categories([\"FFPE\", \"1160920F\"]).unique())]"
   ]
  },
  {
   "cell_type": "code",
   "execution_count": 7,
   "id": "2c27aa5c",
   "metadata": {},
   "outputs": [],
   "source": [
    "df_gene_ls = pd.read_csv(\"/scratch/imb/Xiao/STimage/development/stimage_100run/Intersection_marker_genes.csv\", sep=\",\")\n",
    "\n",
    "gene_list_select = df_gene_ls[\"gene_name\"].values.tolist()\n",
    "\n",
    "gene_list = adata_all.var_names.intersection(gene_list_select)"
   ]
  },
  {
   "cell_type": "code",
   "execution_count": 8,
   "id": "5e20908e",
   "metadata": {},
   "outputs": [],
   "source": [
    "n_genes = len(gene_list)\n",
    "\n",
    "training_index = adata_all_train_valid.obs.sample(frac=0.7, random_state=1).index\n",
    "training_dataset = adata_all_train_valid[training_index,].copy()\n",
    "\n",
    "valid_index = adata_all_train_valid.obs.index.isin(training_index)\n",
    "valid_dataset = adata_all_train_valid[~valid_index,].copy()\n",
    "\n",
    "test_index = adata_all.obs.library_id == \"FFPE\"\n",
    "test_dataset_1 = adata_all[test_index,].copy()\n",
    "\n",
    "test_index = adata_all.obs.library_id == \"1160920F\"\n",
    "test_dataset_2 = adata_all[test_index,].copy()"
   ]
  },
  {
   "cell_type": "code",
   "execution_count": 9,
   "id": "2c39bc1d",
   "metadata": {},
   "outputs": [],
   "source": [
    "train_gen = tf.data.Dataset.from_generator(\n",
    "            lambda: DataGenerator(adata=training_dataset, \n",
    "                          genes=gene_list, aug=False),\n",
    "            output_types=(tf.float32, tuple([tf.float32]*n_genes)), \n",
    "            output_shapes=([299,299,3], tuple([1]*n_genes))\n",
    ")\n",
    "train_gen_ = train_gen.shuffle(buffer_size=500).batch(128).repeat(3).cache().prefetch(tf.data.experimental.AUTOTUNE)\n",
    "valid_gen = tf.data.Dataset.from_generator(\n",
    "            lambda: DataGenerator(adata=valid_dataset, \n",
    "                          genes=gene_list), \n",
    "            output_types=(tf.float32, tuple([tf.float32]*n_genes)), \n",
    "            output_shapes=([299,299,3], tuple([1]*n_genes))\n",
    ")\n",
    "valid_gen_ = valid_gen.shuffle(buffer_size=500).batch(128).repeat(3).cache().prefetch(tf.data.experimental.AUTOTUNE)\n",
    "test_gen_1 = tf.data.Dataset.from_generator(\n",
    "            lambda:DataGenerator(adata=test_dataset_1, \n",
    "                          genes=gene_list), \n",
    "            output_types=(tf.float32, tuple([tf.float32]*n_genes)), \n",
    "            output_shapes=([299,299,3], tuple([1]*n_genes))\n",
    ")\n",
    "test_gen__1 = test_gen_1.batch(1)\n",
    "test_gen_2 = tf.data.Dataset.from_generator(\n",
    "            lambda: DataGenerator(adata=test_dataset_2, \n",
    "                          genes=gene_list), \n",
    "            output_types=(tf.float32, tuple([tf.float32]*n_genes)), \n",
    "            output_shapes=([299,299,3], tuple([1]*n_genes))\n",
    ")\n",
    "test_gen__2 = test_gen_2.batch(1)"
   ]
  },
  {
   "cell_type": "code",
   "execution_count": 10,
   "id": "14007cb6",
   "metadata": {},
   "outputs": [],
   "source": [
    "def get_samples_stats_geneid(np_preds, list_genes, k=1):\n",
    "    \"\"\"\n",
    "    \"\"\"\n",
    "    # mean and var functions of k...\n",
    "    nb_mean = lambda n, p, k: n*(1-p*k)/(p*k)\n",
    "    nb_var = lambda n, p, k: n*(1-p*k)/(p*p*k*k)\n",
    "    \n",
    "    res = []\n",
    "    for gene_idx, gene_name in enumerate(list_genes):\n",
    "        \n",
    "        # predicted NB params \n",
    "        n, p = np_preds[gene_idx][:,0], np_preds[gene_idx][:,1]\n",
    "        # mean (with p corrected by k factor)\n",
    "        mu = nb_mean(n, p, k)\n",
    "        # var (with p corrected by k factor)\n",
    "        var = nb_var(n, p, k)\n",
    "        \n",
    "        res.append(np.stack([n, p, mu, var], axis=1))\n",
    "        \n",
    "    return np.stack(res, axis=2)"
   ]
  },
  {
   "cell_type": "code",
   "execution_count": 11,
   "id": "e5608e7a",
   "metadata": {},
   "outputs": [],
   "source": [
    "# ensemble_results1 = []\n",
    "# ensemble_results2 = []\n",
    "\n",
    "# for e_id in tqdm(range(50)):\n",
    "#     e_id # += 1\n",
    "#     print(f\"Ensemble id {e_id}\")\n",
    "#     # load model\n",
    "#     model = None\n",
    "#     file_model = str(OUT_PATH / f'model_{e_id}.h5')\n",
    "#     model = load_model(file_model, \n",
    "#                        custom_objects={\n",
    "#                            'negative_binomial_loss': negative_binomial_loss,\n",
    "#                        }\n",
    "#                       )\n",
    "#     print(\"loaded\")\n",
    "#     # get predictions \n",
    "#     pred_test_1 = model.predict(test_gen__1)\n",
    "#     print(\"got preds1\")\n",
    "#     pred_test_2 = model.predict(test_gen__2)\n",
    "#     print(\"got preds2\")\n",
    "#     # append results \n",
    "#     ensemble_results1.append(get_samples_stats_geneid(pred_test_1, gene_list))\n",
    "#     ensemble_results2.append(get_samples_stats_geneid(pred_test_2, gene_list))\n",
    "#     print(\"appended results\")\n",
    "    \n",
    "# ensemble_results1 = np.stack(ensemble_results1, axis=3)\n",
    "# ensemble_results2 = np.stack(ensemble_results2, axis=3)"
   ]
  },
  {
   "cell_type": "code",
   "execution_count": 12,
   "id": "1efc754c",
   "metadata": {},
   "outputs": [],
   "source": [
    "# # save out results\n",
    "# with open(str(OUT_PATH / 'ensemble_results_1-all.pkl'), 'wb') as file:\n",
    "#     pickle.dump(ensemble_results1, file)\n",
    "# with open(str(OUT_PATH / 'ensemble_results_2-all.pkl'), 'wb') as file:\n",
    "#     pickle.dump(ensemble_results2, file)"
   ]
  },
  {
   "cell_type": "code",
   "execution_count": 13,
   "id": "dc264cf2",
   "metadata": {},
   "outputs": [],
   "source": [
    "adata = adata_all[adata_all.obs.library_id == \"1160920F\"][:,gene_list].copy()"
   ]
  },
  {
   "cell_type": "code",
   "execution_count": 14,
   "id": "ff054ad5",
   "metadata": {},
   "outputs": [
    {
     "name": "stderr",
     "output_type": "stream",
     "text": [
      "\r\n",
      "  0%|          | 0/1 [00:00<?, ?it/s]"
     ]
    },
    {
     "name": "stdout",
     "output_type": "stream",
     "text": [
      "Predicting Run 49:\n"
     ]
    },
    {
     "name": "stderr",
     "output_type": "stream",
     "text": [
      "100%|██████████| 1/1 [00:33<00:00, 33.15s/it]\n"
     ]
    }
   ],
   "source": [
    "for e_id in tqdm(range(49,50)):\n",
    "    df = pd.DataFrame()\n",
    "    with open(OUT_PATH / f\"ensemble_results_2_{e_id}.pkl\", 'rb') as file:\n",
    "        test_predictions = pickle.load(file)\n",
    "    print(\"Predicting Run {}:\".format(e_id))\n",
    "    y_preds_mean = []\n",
    "    y_preds_var = []\n",
    "    for i in range(len(gene_list)):\n",
    "        n = test_predictions[i][:, 0]\n",
    "        p = test_predictions[i][:, 1]\n",
    "#       y_pred = nbinom.mean(n, p)\n",
    "        y_pred_mean, y_pred_var = nbinom.stats(n, p, moments='mv')\n",
    "        y_preds_mean.append(y_pred_mean)\n",
    "        y_preds_var.append(y_pred_var)\n",
    "    adata_ = adata.copy()\n",
    "    adata_.obsm[\"predicted_gene_mean\"] = np.array(y_preds_mean).transpose()\n",
    "    adata_.obsm[\"predicted_gene_var\"] = np.array(y_preds_var).transpose()\n",
    "    adata_.X = adata_.obsm[\"predicted_gene_mean\"]\n",
    "\n",
    "    adata_.to_df().to_csv(OUT_PATH / \"prediction_df_1160920F_{}.csv\".format(e_id))\n",
    "    pred_adata = adata_\n",
    "    test_dataset = adata.copy()\n",
    "\n",
    "    for gene in pred_adata.var_names:\n",
    "        cor_val = calculate_correlation(pred_adata.to_df().loc[:,gene], test_dataset.to_df().loc[:,gene])\n",
    "        df = df.append(pd.Series([gene, cor_val, \"1160920F\",e_id], index=[\"Gene\", \"Pearson correlation\", \"Slide\", \"Run\"]),\n",
    "                  ignore_index=True)\n",
    "    df.to_csv(OUT_PATH / \"corr_df_1160920F_{}.csv\".format(e_id))"
   ]
  },
  {
   "cell_type": "code",
   "execution_count": 11,
   "id": "a66745bd",
   "metadata": {},
   "outputs": [],
   "source": [
    "# BASE_PATH = Path(\"/clusterdata/uqxtan9/Xiao/Q2051/STimage_project/STimage_dataset/RAW/10x_Xenium_breast_cancer/Visium\")\n",
    "adata = read_h5ad(\"/clusterdata/uqxtan9/Xiao/Q2051/STimage_project/STimage_dataset/RAW/10x_Xenium_breast_cancer/Visium/all_adata.h5ad\")"
   ]
  },
  {
   "cell_type": "code",
   "execution_count": null,
   "id": "2107bdda",
   "metadata": {},
   "outputs": [],
   "source": []
  },
  {
   "cell_type": "code",
   "execution_count": null,
   "id": "f158d1ba",
   "metadata": {},
   "outputs": [
    {
     "name": "stderr",
     "output_type": "stream",
     "text": [
      "\r\n",
      "  0%|          | 0/50 [00:00<?, ?it/s]"
     ]
    },
    {
     "name": "stdout",
     "output_type": "stream",
     "text": [
      "Predicting Run 0:\n"
     ]
    },
    {
     "name": "stderr",
     "output_type": "stream",
     "text": [
      "\r\n",
      "  2%|▏         | 1/50 [02:11<1:47:20, 131.44s/it]"
     ]
    },
    {
     "name": "stdout",
     "output_type": "stream",
     "text": [
      "Predicting Run 1:\n"
     ]
    },
    {
     "name": "stderr",
     "output_type": "stream",
     "text": [
      "\r\n",
      "  4%|▍         | 2/50 [04:22<1:45:00, 131.26s/it]"
     ]
    },
    {
     "name": "stdout",
     "output_type": "stream",
     "text": [
      "Predicting Run 2:\n"
     ]
    },
    {
     "name": "stderr",
     "output_type": "stream",
     "text": [
      "\r\n",
      "  6%|▌         | 3/50 [06:34<1:42:56, 131.41s/it]"
     ]
    },
    {
     "name": "stdout",
     "output_type": "stream",
     "text": [
      "Predicting Run 3:\n"
     ]
    },
    {
     "name": "stderr",
     "output_type": "stream",
     "text": [
      "\r\n",
      "  8%|▊         | 4/50 [08:43<1:40:13, 130.72s/it]"
     ]
    },
    {
     "name": "stdout",
     "output_type": "stream",
     "text": [
      "Predicting Run 4:\n"
     ]
    }
   ],
   "source": [
    "for e_id in tqdm(range(0,50)):\n",
    "    df = pd.DataFrame()\n",
    "    with open(OUT_PATH / f\"ensemble_results_3_{e_id}.pkl\", 'rb') as file:\n",
    "        test_predictions = pickle.load(file)\n",
    "    print(\"Predicting Run {}:\".format(e_id))\n",
    "    y_preds_mean = []\n",
    "    y_preds_var = []\n",
    "    for i in range(len(gene_list)):\n",
    "        n = test_predictions[i][:, 0]\n",
    "        p = test_predictions[i][:, 1]\n",
    "#       y_pred = nbinom.mean(n, p)\n",
    "        y_pred_mean, y_pred_var = nbinom.stats(n, p, moments='mv')\n",
    "        y_preds_mean.append(y_pred_mean)\n",
    "        y_preds_var.append(y_pred_var)\n",
    "    pred_adata = adata.copy()\n",
    "    pred_adata.obsm[\"predicted_gene_mean\"] = np.array(y_preds_mean).transpose()\n",
    "    pred_adata.obsm[\"predicted_gene_var\"] = np.array(y_preds_var).transpose()\n",
    "#     adata_.X = adata_.obsm[\"predicted_gene_mean\"]\n",
    "\n",
    "#     adata_.obsm[\"predicted_gene_var\"].to_csv(OUT_PATH / \"prediction_df_CFFPE_{}.csv\".format(e_id))\n",
    "\n",
    "    test_dataset = adata.copy()\n",
    "\n",
    "    for i, gene in enumerate(gene_list):\n",
    "        try:\n",
    "            cor_val = calculate_correlation(pred_adata.obsm[\"predicted_gene_mean\"][:,i], test_dataset.to_df().loc[:,gene])\n",
    "            df = df.append(pd.Series([gene, cor_val, \"CFFPE\",e_id], index=[\"Gene\", \"Pearson correlation\", \"Slide\", \"Run\"]),\n",
    "                      ignore_index=True)\n",
    "        except:\n",
    "            continue\n",
    "    df.to_csv(OUT_PATH / \"corr_df_CFFPE_{}.csv\".format(e_id))"
   ]
  },
  {
   "cell_type": "code",
   "execution_count": 14,
   "id": "ad1b3f16",
   "metadata": {
    "scrolled": true
   },
   "outputs": [
    {
     "name": "stderr",
     "output_type": "stream",
     "text": [
      "\r\n",
      "  0%|          | 0/5 [00:00<?, ?it/s]"
     ]
    },
    {
     "name": "stdout",
     "output_type": "stream",
     "text": [
      "Predicting Run 45:\n"
     ]
    },
    {
     "name": "stderr",
     "output_type": "stream",
     "text": [
      "\r\n",
      " 20%|██        | 1/5 [00:24<01:36, 24.18s/it]"
     ]
    },
    {
     "name": "stdout",
     "output_type": "stream",
     "text": [
      "Predicting Run 46:\n"
     ]
    },
    {
     "name": "stderr",
     "output_type": "stream",
     "text": [
      "\r\n",
      " 40%|████      | 2/5 [00:48<01:12, 24.24s/it]"
     ]
    },
    {
     "name": "stdout",
     "output_type": "stream",
     "text": [
      "Predicting Run 47:\n"
     ]
    },
    {
     "name": "stderr",
     "output_type": "stream",
     "text": [
      "\r\n",
      " 60%|██████    | 3/5 [01:12<00:48, 24.28s/it]"
     ]
    },
    {
     "name": "stdout",
     "output_type": "stream",
     "text": [
      "Predicting Run 48:\n"
     ]
    },
    {
     "name": "stderr",
     "output_type": "stream",
     "text": [
      "\r\n",
      " 80%|████████  | 4/5 [01:37<00:24, 24.37s/it]"
     ]
    },
    {
     "name": "stdout",
     "output_type": "stream",
     "text": [
      "Predicting Run 49:\n"
     ]
    },
    {
     "name": "stderr",
     "output_type": "stream",
     "text": [
      "100%|██████████| 5/5 [01:58<00:00, 23.79s/it]\n"
     ]
    }
   ],
   "source": [
    "# for e_id in tqdm(range(45,50)):\n",
    "#     df = pd.DataFrame()\n",
    "#     with open(OUT_PATH / f\"ensemble_results_1_{e_id}.pkl\", 'rb') as file:\n",
    "#         test_predictions = pickle.load(file)\n",
    "#     print(\"Predicting Run {}:\".format(e_id))\n",
    "#     y_preds_mean = []\n",
    "#     y_preds_var = []\n",
    "#     for i in range(len(gene_list)):\n",
    "#         n = test_predictions[i][:, 0]\n",
    "#         p = test_predictions[i][:, 1]\n",
    "# #       y_pred = nbinom.mean(n, p)\n",
    "#         y_pred_mean, y_pred_var = nbinom.stats(n, p, moments='mv')\n",
    "#         y_preds_mean.append(y_pred_mean)\n",
    "#         y_preds_var.append(y_pred_var)\n",
    "#     adata_ = adata.copy()\n",
    "#     adata_.obsm[\"predicted_gene_mean\"] = np.array(y_preds_mean).transpose()\n",
    "#     adata_.obsm[\"predicted_gene_var\"] = np.array(y_preds_var).transpose()\n",
    "#     adata_.X = adata_.obsm[\"predicted_gene_mean\"]\n",
    "\n",
    "#     adata_.to_df().to_csv(OUT_PATH / \"prediction_df_FFPE_{}.csv\".format(e_id))\n",
    "#     pred_adata = adata_\n",
    "#     test_dataset = adata.copy()\n",
    "\n",
    "#     for gene in pred_adata.var_names:\n",
    "#         cor_val = calculate_correlation(pred_adata.to_df().loc[:,gene], test_dataset.to_df().loc[:,gene])\n",
    "#         df = df.append(pd.Series([gene, cor_val, \"FFPE\",e_id], index=[\"Gene\", \"Pearson correlation\", \"Slide\", \"Run\"]),\n",
    "#                   ignore_index=True)\n",
    "#     df.to_csv(OUT_PATH / \"corr_df_FFPE_{}.csv\".format(e_id))"
   ]
  },
  {
   "cell_type": "code",
   "execution_count": null,
   "id": "8672494e",
   "metadata": {},
   "outputs": [],
   "source": []
  },
  {
   "cell_type": "code",
   "execution_count": 15,
   "id": "ad76e0db",
   "metadata": {},
   "outputs": [],
   "source": [
    "predict_df_list = [\"/clusterdata/uqxtan9/Xiao/STimage/development/stimage_100run/results_1/prediction_df_FFPE_{}.csv\".format(i) for i in range(50)]"
   ]
  },
  {
   "cell_type": "code",
   "execution_count": 17,
   "id": "3f233eb5",
   "metadata": {},
   "outputs": [],
   "source": [
    "df_ens = pd.DataFrame()\n",
    "for i in range(5):\n",
    "    df_list_ens = predict_df_list[i:i+10]\n",
    "    ens_df = sum([pd.read_csv(j,index_col=0) for j in df_list_ens]) / 10\n",
    "    ens_df.to_csv(\"/clusterdata/uqxtan9/Xiao/STimage/development/stimage_100run/results_1/prediction_df_FFPE_ens_{}.csv\".format(i))\n",
    "    pred_adata = adata[:,gene_list].copy()\n",
    "    pred_adata.X = ens_df\n",
    "    test_dataset = adata[:,gene_list].copy()\n",
    "\n",
    "    for gene in pred_adata.var_names:\n",
    "        cor_val = calculate_correlation(pred_adata.to_df().loc[:,gene], test_dataset.to_df().loc[:,gene])\n",
    "        df_ens = df_ens.append(pd.Series([gene, cor_val, \"FFPE\",i], index=[\"Gene\", \"Pearson correlation\", \"Slide\", \"Run\"]),\n",
    "                  ignore_index=True)"
   ]
  },
  {
   "cell_type": "code",
   "execution_count": null,
   "id": "d9086350",
   "metadata": {},
   "outputs": [],
   "source": [
    "df_ens[\"ens_group\"] = pd.Categorical(df_ens[\"Run\"].astype(int) +1)"
   ]
  },
  {
   "cell_type": "code",
   "execution_count": null,
   "id": "8557090d",
   "metadata": {},
   "outputs": [],
   "source": [
    "df_ens"
   ]
  },
  {
   "cell_type": "code",
   "execution_count": 18,
   "id": "003164b3",
   "metadata": {},
   "outputs": [],
   "source": [
    "df_ens.to_csv(\"./matrix_FFPE_120run_ens.csv\")"
   ]
  },
  {
   "cell_type": "code",
   "execution_count": 6,
   "id": "c89e557e",
   "metadata": {},
   "outputs": [],
   "source": [
    "df_ens = pd.read_csv(\"/scratch/project_mnt/S0010/Xiao/Q1851/Xiao/Working_project/STimage/development/matrix_FFPE_120run_ens.csv\", index_col=0)"
   ]
  },
  {
   "cell_type": "code",
   "execution_count": null,
   "id": "ca4b0f48",
   "metadata": {},
   "outputs": [],
   "source": []
  },
  {
   "cell_type": "code",
   "execution_count": 7,
   "id": "5cfda324",
   "metadata": {},
   "outputs": [
    {
     "name": "stderr",
     "output_type": "stream",
     "text": [
      "100%|██████████| 50/50 [00:00<00:00, 101.31it/s]\n"
     ]
    }
   ],
   "source": [
    "df = pd.DataFrame()\n",
    "for e_id in tqdm(range(50)):\n",
    "    ens_group = e_id // 10\n",
    "    df_ = pd.read_csv(OUT_PATH / \"corr_df_FFPE_{}.csv\".format(e_id),index_col=0)\n",
    "    df_[\"ens_group\"] = ens_group + 1\n",
    "    df = pd.concat([df, df_], ignore_index=True)\n",
    "                         "
   ]
  },
  {
   "cell_type": "code",
   "execution_count": 8,
   "id": "f16cce64",
   "metadata": {},
   "outputs": [
    {
     "data": {
      "text/html": [
       "<div>\n",
       "<style scoped>\n",
       "    .dataframe tbody tr th:only-of-type {\n",
       "        vertical-align: middle;\n",
       "    }\n",
       "\n",
       "    .dataframe tbody tr th {\n",
       "        vertical-align: top;\n",
       "    }\n",
       "\n",
       "    .dataframe thead th {\n",
       "        text-align: right;\n",
       "    }\n",
       "</style>\n",
       "<table border=\"1\" class=\"dataframe\">\n",
       "  <thead>\n",
       "    <tr style=\"text-align: right;\">\n",
       "      <th></th>\n",
       "      <th>Gene</th>\n",
       "      <th>Pearson correlation</th>\n",
       "      <th>Slide</th>\n",
       "      <th>Run</th>\n",
       "      <th>ens_group</th>\n",
       "    </tr>\n",
       "  </thead>\n",
       "  <tbody>\n",
       "    <tr>\n",
       "      <th>0</th>\n",
       "      <td>ISG15</td>\n",
       "      <td>-0.068980</td>\n",
       "      <td>FFPE</td>\n",
       "      <td>0.0</td>\n",
       "      <td>1</td>\n",
       "    </tr>\n",
       "    <tr>\n",
       "      <th>1</th>\n",
       "      <td>TNFRSF18</td>\n",
       "      <td>-0.022639</td>\n",
       "      <td>FFPE</td>\n",
       "      <td>0.0</td>\n",
       "      <td>1</td>\n",
       "    </tr>\n",
       "    <tr>\n",
       "      <th>2</th>\n",
       "      <td>TNFRSF4</td>\n",
       "      <td>0.040079</td>\n",
       "      <td>FFPE</td>\n",
       "      <td>0.0</td>\n",
       "      <td>1</td>\n",
       "    </tr>\n",
       "    <tr>\n",
       "      <th>3</th>\n",
       "      <td>CALML6</td>\n",
       "      <td>-0.020636</td>\n",
       "      <td>FFPE</td>\n",
       "      <td>0.0</td>\n",
       "      <td>1</td>\n",
       "    </tr>\n",
       "    <tr>\n",
       "      <th>4</th>\n",
       "      <td>HES5</td>\n",
       "      <td>0.002152</td>\n",
       "      <td>FFPE</td>\n",
       "      <td>0.0</td>\n",
       "      <td>1</td>\n",
       "    </tr>\n",
       "    <tr>\n",
       "      <th>...</th>\n",
       "      <td>...</td>\n",
       "      <td>...</td>\n",
       "      <td>...</td>\n",
       "      <td>...</td>\n",
       "      <td>...</td>\n",
       "    </tr>\n",
       "    <tr>\n",
       "      <th>76095</th>\n",
       "      <td>IRAK1</td>\n",
       "      <td>-0.120267</td>\n",
       "      <td>FFPE</td>\n",
       "      <td>49.0</td>\n",
       "      <td>5</td>\n",
       "    </tr>\n",
       "    <tr>\n",
       "      <th>76096</th>\n",
       "      <td>FLNA</td>\n",
       "      <td>0.039343</td>\n",
       "      <td>FFPE</td>\n",
       "      <td>49.0</td>\n",
       "      <td>5</td>\n",
       "    </tr>\n",
       "    <tr>\n",
       "      <th>76097</th>\n",
       "      <td>DNASE1L1</td>\n",
       "      <td>0.016781</td>\n",
       "      <td>FFPE</td>\n",
       "      <td>49.0</td>\n",
       "      <td>5</td>\n",
       "    </tr>\n",
       "    <tr>\n",
       "      <th>76098</th>\n",
       "      <td>G6PD</td>\n",
       "      <td>-0.148963</td>\n",
       "      <td>FFPE</td>\n",
       "      <td>49.0</td>\n",
       "      <td>5</td>\n",
       "    </tr>\n",
       "    <tr>\n",
       "      <th>76099</th>\n",
       "      <td>IKBKG</td>\n",
       "      <td>-0.004266</td>\n",
       "      <td>FFPE</td>\n",
       "      <td>49.0</td>\n",
       "      <td>5</td>\n",
       "    </tr>\n",
       "  </tbody>\n",
       "</table>\n",
       "<p>76100 rows × 5 columns</p>\n",
       "</div>"
      ],
      "text/plain": [
       "           Gene  Pearson correlation Slide   Run  ens_group\n",
       "0         ISG15            -0.068980  FFPE   0.0          1\n",
       "1      TNFRSF18            -0.022639  FFPE   0.0          1\n",
       "2       TNFRSF4             0.040079  FFPE   0.0          1\n",
       "3        CALML6            -0.020636  FFPE   0.0          1\n",
       "4          HES5             0.002152  FFPE   0.0          1\n",
       "...         ...                  ...   ...   ...        ...\n",
       "76095     IRAK1            -0.120267  FFPE  49.0          5\n",
       "76096      FLNA             0.039343  FFPE  49.0          5\n",
       "76097  DNASE1L1             0.016781  FFPE  49.0          5\n",
       "76098      G6PD            -0.148963  FFPE  49.0          5\n",
       "76099     IKBKG            -0.004266  FFPE  49.0          5\n",
       "\n",
       "[76100 rows x 5 columns]"
      ]
     },
     "execution_count": 8,
     "metadata": {},
     "output_type": "execute_result"
    }
   ],
   "source": [
    "df"
   ]
  },
  {
   "cell_type": "code",
   "execution_count": 9,
   "id": "dc19b975",
   "metadata": {},
   "outputs": [],
   "source": [
    "top_10gene_ens = df_ens.groupby(\"Gene\")[\"Pearson correlation\"].mean().sort_values(ascending=False)[0:100].index"
   ]
  },
  {
   "cell_type": "code",
   "execution_count": 10,
   "id": "2b42beb1",
   "metadata": {},
   "outputs": [],
   "source": [
    "df_top_10gene_ens = df_ens[df_ens[\"Gene\"].isin(top_10gene_ens)]"
   ]
  },
  {
   "cell_type": "code",
   "execution_count": 17,
   "id": "f23a20b6",
   "metadata": {},
   "outputs": [
    {
     "data": {
      "text/html": [
       "<div>\n",
       "<style scoped>\n",
       "    .dataframe tbody tr th:only-of-type {\n",
       "        vertical-align: middle;\n",
       "    }\n",
       "\n",
       "    .dataframe tbody tr th {\n",
       "        vertical-align: top;\n",
       "    }\n",
       "\n",
       "    .dataframe thead th {\n",
       "        text-align: right;\n",
       "    }\n",
       "</style>\n",
       "<table border=\"1\" class=\"dataframe\">\n",
       "  <thead>\n",
       "    <tr style=\"text-align: right;\">\n",
       "      <th></th>\n",
       "      <th>Gene</th>\n",
       "      <th>Pearson correlation</th>\n",
       "      <th>Slide</th>\n",
       "      <th>Run</th>\n",
       "      <th>ens_group</th>\n",
       "    </tr>\n",
       "  </thead>\n",
       "  <tbody>\n",
       "    <tr>\n",
       "      <th>20</th>\n",
       "      <td>C1QA</td>\n",
       "      <td>0.311310</td>\n",
       "      <td>FFPE</td>\n",
       "      <td>0.0</td>\n",
       "      <td>1</td>\n",
       "    </tr>\n",
       "    <tr>\n",
       "      <th>21</th>\n",
       "      <td>C1QB</td>\n",
       "      <td>0.246691</td>\n",
       "      <td>FFPE</td>\n",
       "      <td>0.0</td>\n",
       "      <td>1</td>\n",
       "    </tr>\n",
       "    <tr>\n",
       "      <th>34</th>\n",
       "      <td>CSF3R</td>\n",
       "      <td>0.223496</td>\n",
       "      <td>FFPE</td>\n",
       "      <td>0.0</td>\n",
       "      <td>1</td>\n",
       "    </tr>\n",
       "    <tr>\n",
       "      <th>63</th>\n",
       "      <td>CD53</td>\n",
       "      <td>0.249009</td>\n",
       "      <td>FFPE</td>\n",
       "      <td>0.0</td>\n",
       "      <td>1</td>\n",
       "    </tr>\n",
       "    <tr>\n",
       "      <th>76</th>\n",
       "      <td>S100A10</td>\n",
       "      <td>0.348590</td>\n",
       "      <td>FFPE</td>\n",
       "      <td>0.0</td>\n",
       "      <td>1</td>\n",
       "    </tr>\n",
       "    <tr>\n",
       "      <th>...</th>\n",
       "      <td>...</td>\n",
       "      <td>...</td>\n",
       "      <td>...</td>\n",
       "      <td>...</td>\n",
       "      <td>...</td>\n",
       "    </tr>\n",
       "    <tr>\n",
       "      <th>7530</th>\n",
       "      <td>RAC2</td>\n",
       "      <td>0.236464</td>\n",
       "      <td>FFPE</td>\n",
       "      <td>4.0</td>\n",
       "      <td>5</td>\n",
       "    </tr>\n",
       "    <tr>\n",
       "      <th>7557</th>\n",
       "      <td>CYBB</td>\n",
       "      <td>0.354487</td>\n",
       "      <td>FFPE</td>\n",
       "      <td>4.0</td>\n",
       "      <td>5</td>\n",
       "    </tr>\n",
       "    <tr>\n",
       "      <th>7592</th>\n",
       "      <td>IL13RA1</td>\n",
       "      <td>0.284365</td>\n",
       "      <td>FFPE</td>\n",
       "      <td>4.0</td>\n",
       "      <td>5</td>\n",
       "    </tr>\n",
       "    <tr>\n",
       "      <th>7598</th>\n",
       "      <td>GPC4</td>\n",
       "      <td>0.291607</td>\n",
       "      <td>FFPE</td>\n",
       "      <td>4.0</td>\n",
       "      <td>5</td>\n",
       "    </tr>\n",
       "    <tr>\n",
       "      <th>7599</th>\n",
       "      <td>PHF6</td>\n",
       "      <td>0.255262</td>\n",
       "      <td>FFPE</td>\n",
       "      <td>4.0</td>\n",
       "      <td>5</td>\n",
       "    </tr>\n",
       "  </tbody>\n",
       "</table>\n",
       "<p>500 rows × 5 columns</p>\n",
       "</div>"
      ],
      "text/plain": [
       "         Gene  Pearson correlation Slide  Run  ens_group\n",
       "20       C1QA             0.311310  FFPE  0.0          1\n",
       "21       C1QB             0.246691  FFPE  0.0          1\n",
       "34      CSF3R             0.223496  FFPE  0.0          1\n",
       "63       CD53             0.249009  FFPE  0.0          1\n",
       "76    S100A10             0.348590  FFPE  0.0          1\n",
       "...       ...                  ...   ...  ...        ...\n",
       "7530     RAC2             0.236464  FFPE  4.0          5\n",
       "7557     CYBB             0.354487  FFPE  4.0          5\n",
       "7592  IL13RA1             0.284365  FFPE  4.0          5\n",
       "7598     GPC4             0.291607  FFPE  4.0          5\n",
       "7599     PHF6             0.255262  FFPE  4.0          5\n",
       "\n",
       "[500 rows x 5 columns]"
      ]
     },
     "execution_count": 17,
     "metadata": {},
     "output_type": "execute_result"
    }
   ],
   "source": [
    "df_top_10gene_ens"
   ]
  },
  {
   "cell_type": "code",
   "execution_count": 13,
   "id": "2820188a",
   "metadata": {},
   "outputs": [
    {
     "data": {
      "text/plain": [
       "1136"
      ]
     },
     "execution_count": 13,
     "metadata": {},
     "output_type": "execute_result"
    }
   ],
   "source": [
    "(df.groupby(\"Gene\")[\"Pearson correlation\"].mean() > 0).sum()"
   ]
  },
  {
   "cell_type": "code",
   "execution_count": 14,
   "id": "401ebe05",
   "metadata": {},
   "outputs": [],
   "source": [
    "top_10gene_df = df.groupby(\"Gene\")[\"Pearson correlation\"].mean().sort_values(ascending=False)[0:100].index"
   ]
  },
  {
   "cell_type": "code",
   "execution_count": 15,
   "id": "e02bcf5b",
   "metadata": {},
   "outputs": [],
   "source": [
    "df_top_10gene_df = df[df[\"Gene\"].isin(top_10gene_df)]"
   ]
  },
  {
   "cell_type": "code",
   "execution_count": 22,
   "id": "2c6e4aa5",
   "metadata": {},
   "outputs": [
    {
     "name": "stderr",
     "output_type": "stream",
     "text": [
      "/tmp/ipykernel_181233/2457297258.py:13: FutureWarning: \n",
      "\n",
      "The `ci` parameter is deprecated. Use `errorbar='sd'` for the same effect.\n",
      "\n",
      "  sns.pointplot(data=df_top_10gene_ens, x='ens_group', y='Pearson correlation', hue='Slide', ci=\"sd\",\n"
     ]
    },
    {
     "data": {
      "image/png": "[encoded data removed]",
      "text/plain": [
       "<Figure size 1000x800 with 1 Axes>"
      ]
     },
     "metadata": {},
     "output_type": "display_data"
    }
   ],
   "source": [
    "import seaborn as sns\n",
    "sns.set_theme(style=\"whitegrid\")\n",
    "\n",
    "\n",
    "fig, ax = plt.subplots(figsize=(10,8))\n",
    "ax.set_xticks(range(1,13))\n",
    "sns.boxplot(\n",
    "    data=df_top_10gene_df,\n",
    "    x=\"ens_group\", y=\"Pearson correlation\", hue=\"Slide\", saturation=0.6,\n",
    "    ax=ax, palette=\"tab10\"\n",
    ")\n",
    "\n",
    "sns.pointplot(data=df_top_10gene_ens, x='ens_group', y='Pearson correlation', hue='Slide', ci=\"sd\",\n",
    "            #   dodge=1.8 - 1.8 / 2,\n",
    "              marker='D', ax=ax, palette=\"husl\")\n",
    "\n",
    "# sns.lineplot(data=df_ens, x=\"ens_group\", y=\"Pearson correlation\", hue=\"Slide\",\n",
    "#              marker=True, size=10, ax=ax) \n",
    "plt.savefig(\"./50run_ensemble_boxplot_100_genes.pdf\", dpi=300)\n",
    "plt.show()"
   ]
  },
  {
   "cell_type": "code",
   "execution_count": 21,
   "id": "cb0bede6",
   "metadata": {},
   "outputs": [],
   "source": [
    "top_10gene_ens = df_ens.groupby(\"Gene\")[\"Pearson correlation\"].mean().sort_values(ascending=False)[0:10].index"
   ]
  },
  {
   "cell_type": "code",
   "execution_count": 22,
   "id": "67ae108c",
   "metadata": {},
   "outputs": [],
   "source": [
    "df_top_10gene_ens = df_ens[df_ens[\"Gene\"].isin(top_10gene_ens)]"
   ]
  },
  {
   "cell_type": "code",
   "execution_count": 30,
   "id": "a1667d71",
   "metadata": {},
   "outputs": [
    {
     "data": {
      "image/png": "[encoded data removed]",
      "text/plain": [
       "<Figure size 504x216 with 1 Axes>"
      ]
     },
     "metadata": {
      "needs_background": "light"
     },
     "output_type": "display_data"
    }
   ],
   "source": [
    "fig, ax = plt.subplots(figsize=(7,3))\n",
    "sns.boxplot(x=\"Gene\", y=\"Pearson correlation\", data=df_top_10gene_ens, ax=ax)\n",
    "plt.ylim([0,1])\n",
    "plt.savefig(\"./50run_ensemble_boxplot_10_gene.pdf\", dpi=300)"
   ]
  },
  {
   "cell_type": "code",
   "execution_count": 77,
   "id": "5e6ee046",
   "metadata": {},
   "outputs": [],
   "source": [
    "df_bar = pd.DataFrame(df_ens.groupby(\"Gene\")[\"Pearson correlation\"].mean().sort_values(ascending=False)).reset_index()"
   ]
  },
  {
   "cell_type": "code",
   "execution_count": null,
   "id": "523d17e8",
   "metadata": {},
   "outputs": [],
   "source": []
  },
  {
   "cell_type": "code",
   "execution_count": 82,
   "id": "33c1d0b1",
   "metadata": {},
   "outputs": [
    {
     "data": {
      "image/png": "[encoded data removed]",
      "text/plain": [
       "<Figure size 360x1440 with 1 Axes>"
      ]
     },
     "metadata": {},
     "output_type": "display_data"
    }
   ],
   "source": [
    "fig, ax = plt.subplots(figsize=(5,20))\n",
    "sns.barplot(x=\"Pearson correlation\", y=\"Gene\", data=df_bar.iloc[0:100,:],ax=ax,\n",
    "            label=\"Total\", color=\"b\")\n",
    "plt.savefig(\"./50run_ensemble_boxplot_100_gene_bar.pdf\", dpi=300)"
   ]
  },
  {
   "cell_type": "code",
   "execution_count": null,
   "id": "52589819",
   "metadata": {},
   "outputs": [],
   "source": []
  },
  {
   "cell_type": "code",
   "execution_count": 11,
   "id": "2992ac73",
   "metadata": {
    "scrolled": true
   },
   "outputs": [
    {
     "name": "stderr",
     "output_type": "stream",
     "text": [
      "\r\n",
      "  0%|          | 0/50 [00:00<?, ?it/s]"
     ]
    },
    {
     "name": "stdout",
     "output_type": "stream",
     "text": [
      "got preds1\n"
     ]
    },
    {
     "name": "stderr",
     "output_type": "stream",
     "text": [
      "\r\n",
      "  2%|▏         | 1/50 [00:00<00:39,  1.23it/s]"
     ]
    },
    {
     "name": "stdout",
     "output_type": "stream",
     "text": [
      "got preds2\n",
      "got preds1\n"
     ]
    },
    {
     "name": "stderr",
     "output_type": "stream",
     "text": [
      "\r\n",
      "  4%|▍         | 2/50 [00:01<00:29,  1.65it/s]"
     ]
    },
    {
     "name": "stdout",
     "output_type": "stream",
     "text": [
      "got preds2\n",
      "got preds1\n"
     ]
    },
    {
     "name": "stderr",
     "output_type": "stream",
     "text": [
      "\r\n",
      "  6%|▌         | 3/50 [00:01<00:25,  1.87it/s]"
     ]
    },
    {
     "name": "stdout",
     "output_type": "stream",
     "text": [
      "got preds2\n",
      "got preds1\n"
     ]
    },
    {
     "name": "stderr",
     "output_type": "stream",
     "text": [
      "\r\n",
      "  8%|▊         | 4/50 [00:02<00:23,  1.98it/s]"
     ]
    },
    {
     "name": "stdout",
     "output_type": "stream",
     "text": [
      "got preds2\n",
      "got preds1\n"
     ]
    },
    {
     "name": "stderr",
     "output_type": "stream",
     "text": [
      "\r\n",
      " 10%|█         | 5/50 [00:02<00:21,  2.06it/s]"
     ]
    },
    {
     "name": "stdout",
     "output_type": "stream",
     "text": [
      "got preds2\n",
      "got preds1\n"
     ]
    },
    {
     "name": "stderr",
     "output_type": "stream",
     "text": [
      "\r\n",
      " 12%|█▏        | 6/50 [00:03<00:22,  1.97it/s]"
     ]
    },
    {
     "name": "stdout",
     "output_type": "stream",
     "text": [
      "got preds2\n",
      "got preds1\n"
     ]
    },
    {
     "name": "stderr",
     "output_type": "stream",
     "text": [
      "\r\n",
      " 14%|█▍        | 7/50 [00:03<00:22,  1.87it/s]"
     ]
    },
    {
     "name": "stdout",
     "output_type": "stream",
     "text": [
      "got preds2\n",
      "got preds1\n"
     ]
    },
    {
     "name": "stderr",
     "output_type": "stream",
     "text": [
      "\r\n",
      " 16%|█▌        | 8/50 [00:04<00:21,  1.92it/s]"
     ]
    },
    {
     "name": "stdout",
     "output_type": "stream",
     "text": [
      "got preds2\n",
      "got preds1\n"
     ]
    },
    {
     "name": "stderr",
     "output_type": "stream",
     "text": [
      "\r\n",
      " 18%|█▊        | 9/50 [00:04<00:20,  2.00it/s]"
     ]
    },
    {
     "name": "stdout",
     "output_type": "stream",
     "text": [
      "got preds2\n",
      "got preds1\n"
     ]
    },
    {
     "name": "stderr",
     "output_type": "stream",
     "text": [
      "\r\n",
      " 20%|██        | 10/50 [00:05<00:19,  2.08it/s]"
     ]
    },
    {
     "name": "stdout",
     "output_type": "stream",
     "text": [
      "got preds2\n",
      "got preds1\n"
     ]
    },
    {
     "name": "stderr",
     "output_type": "stream",
     "text": [
      "\r\n",
      " 22%|██▏       | 11/50 [00:05<00:19,  1.99it/s]"
     ]
    },
    {
     "name": "stdout",
     "output_type": "stream",
     "text": [
      "got preds2\n",
      "got preds1\n"
     ]
    },
    {
     "name": "stderr",
     "output_type": "stream",
     "text": [
      "\r\n",
      " 24%|██▍       | 12/50 [00:06<00:19,  1.98it/s]"
     ]
    },
    {
     "name": "stdout",
     "output_type": "stream",
     "text": [
      "got preds2\n",
      "got preds1\n"
     ]
    },
    {
     "name": "stderr",
     "output_type": "stream",
     "text": [
      "\r\n",
      " 26%|██▌       | 13/50 [00:06<00:18,  2.00it/s]"
     ]
    },
    {
     "name": "stdout",
     "output_type": "stream",
     "text": [
      "got preds2\n",
      "got preds1\n"
     ]
    },
    {
     "name": "stderr",
     "output_type": "stream",
     "text": [
      "\r\n",
      " 28%|██▊       | 14/50 [00:07<00:17,  2.03it/s]"
     ]
    },
    {
     "name": "stdout",
     "output_type": "stream",
     "text": [
      "got preds2\n",
      "got preds1\n"
     ]
    },
    {
     "name": "stderr",
     "output_type": "stream",
     "text": [
      "\r\n",
      " 30%|███       | 15/50 [00:07<00:16,  2.08it/s]"
     ]
    },
    {
     "name": "stdout",
     "output_type": "stream",
     "text": [
      "got preds2\n",
      "got preds1\n"
     ]
    },
    {
     "name": "stderr",
     "output_type": "stream",
     "text": [
      "\r\n",
      " 32%|███▏      | 16/50 [00:08<00:16,  2.10it/s]"
     ]
    },
    {
     "name": "stdout",
     "output_type": "stream",
     "text": [
      "got preds2\n",
      "got preds1\n"
     ]
    },
    {
     "name": "stderr",
     "output_type": "stream",
     "text": [
      "\r\n",
      " 34%|███▍      | 17/50 [00:08<00:15,  2.14it/s]"
     ]
    },
    {
     "name": "stdout",
     "output_type": "stream",
     "text": [
      "got preds2\n",
      "got preds1\n"
     ]
    },
    {
     "name": "stderr",
     "output_type": "stream",
     "text": [
      "\r\n",
      " 36%|███▌      | 18/50 [00:09<00:14,  2.15it/s]"
     ]
    },
    {
     "name": "stdout",
     "output_type": "stream",
     "text": [
      "got preds2\n",
      "got preds1\n"
     ]
    },
    {
     "name": "stderr",
     "output_type": "stream",
     "text": [
      "\r\n",
      " 38%|███▊      | 19/50 [00:09<00:14,  2.16it/s]"
     ]
    },
    {
     "name": "stdout",
     "output_type": "stream",
     "text": [
      "got preds2\n",
      "got preds1\n"
     ]
    },
    {
     "name": "stderr",
     "output_type": "stream",
     "text": [
      "\r\n",
      " 40%|████      | 20/50 [00:09<00:13,  2.16it/s]"
     ]
    },
    {
     "name": "stdout",
     "output_type": "stream",
     "text": [
      "got preds2\n",
      "got preds1\n"
     ]
    },
    {
     "name": "stderr",
     "output_type": "stream",
     "text": [
      "\r\n",
      " 42%|████▏     | 21/50 [00:10<00:13,  2.16it/s]"
     ]
    },
    {
     "name": "stdout",
     "output_type": "stream",
     "text": [
      "got preds2\n",
      "got preds1\n"
     ]
    },
    {
     "name": "stderr",
     "output_type": "stream",
     "text": [
      "\r\n",
      " 44%|████▍     | 22/50 [00:10<00:12,  2.18it/s]"
     ]
    },
    {
     "name": "stdout",
     "output_type": "stream",
     "text": [
      "got preds2\n",
      "got preds1\n"
     ]
    },
    {
     "name": "stderr",
     "output_type": "stream",
     "text": [
      "\r\n",
      " 46%|████▌     | 23/50 [00:11<00:12,  2.10it/s]"
     ]
    },
    {
     "name": "stdout",
     "output_type": "stream",
     "text": [
      "got preds2\n",
      "got preds1\n"
     ]
    },
    {
     "name": "stderr",
     "output_type": "stream",
     "text": [
      "\r\n",
      " 48%|████▊     | 24/50 [00:11<00:13,  1.96it/s]"
     ]
    },
    {
     "name": "stdout",
     "output_type": "stream",
     "text": [
      "got preds2\n",
      "got preds1\n"
     ]
    },
    {
     "name": "stderr",
     "output_type": "stream",
     "text": [
      "\r\n",
      " 50%|█████     | 25/50 [00:12<00:12,  1.97it/s]"
     ]
    },
    {
     "name": "stdout",
     "output_type": "stream",
     "text": [
      "got preds2\n",
      "got preds1\n"
     ]
    },
    {
     "name": "stderr",
     "output_type": "stream",
     "text": [
      "\r\n",
      " 52%|█████▏    | 26/50 [00:12<00:11,  2.02it/s]"
     ]
    },
    {
     "name": "stdout",
     "output_type": "stream",
     "text": [
      "got preds2\n",
      "got preds1\n"
     ]
    },
    {
     "name": "stderr",
     "output_type": "stream",
     "text": [
      "\r\n",
      " 54%|█████▍    | 27/50 [00:13<00:11,  1.99it/s]"
     ]
    },
    {
     "name": "stdout",
     "output_type": "stream",
     "text": [
      "got preds2\n",
      "got preds1\n"
     ]
    },
    {
     "name": "stderr",
     "output_type": "stream",
     "text": [
      "\r\n",
      " 56%|█████▌    | 28/50 [00:13<00:10,  2.00it/s]"
     ]
    },
    {
     "name": "stdout",
     "output_type": "stream",
     "text": [
      "got preds2\n",
      "got preds1\n"
     ]
    },
    {
     "name": "stderr",
     "output_type": "stream",
     "text": [
      "\r\n",
      " 58%|█████▊    | 29/50 [00:14<00:10,  2.09it/s]"
     ]
    },
    {
     "name": "stdout",
     "output_type": "stream",
     "text": [
      "got preds2\n",
      "got preds1\n"
     ]
    },
    {
     "name": "stderr",
     "output_type": "stream",
     "text": [
      "\r\n",
      " 60%|██████    | 30/50 [00:14<00:09,  2.11it/s]"
     ]
    },
    {
     "name": "stdout",
     "output_type": "stream",
     "text": [
      "got preds2\n"
     ]
    },
    {
     "name": "stderr",
     "output_type": "stream",
     "text": [
      "\r\n",
      " 62%|██████▏   | 31/50 [00:15<00:08,  2.18it/s]"
     ]
    },
    {
     "name": "stdout",
     "output_type": "stream",
     "text": [
      "got preds1\n",
      "got preds2\n",
      "got preds1\n"
     ]
    },
    {
     "name": "stderr",
     "output_type": "stream",
     "text": [
      "\r\n",
      " 64%|██████▍   | 32/50 [00:15<00:08,  2.21it/s]"
     ]
    },
    {
     "name": "stdout",
     "output_type": "stream",
     "text": [
      "got preds2\n",
      "got preds1\n"
     ]
    },
    {
     "name": "stderr",
     "output_type": "stream",
     "text": [
      "\r\n",
      " 66%|██████▌   | 33/50 [00:16<00:07,  2.21it/s]"
     ]
    },
    {
     "name": "stdout",
     "output_type": "stream",
     "text": [
      "got preds2\n",
      "got preds1\n"
     ]
    },
    {
     "name": "stderr",
     "output_type": "stream",
     "text": [
      "\r\n",
      " 68%|██████▊   | 34/50 [00:16<00:07,  2.21it/s]"
     ]
    },
    {
     "name": "stdout",
     "output_type": "stream",
     "text": [
      "got preds2\n",
      "got preds1\n"
     ]
    },
    {
     "name": "stderr",
     "output_type": "stream",
     "text": [
      "\r\n",
      " 70%|███████   | 35/50 [00:17<00:07,  2.08it/s]"
     ]
    },
    {
     "name": "stdout",
     "output_type": "stream",
     "text": [
      "got preds2\n",
      "got preds1\n"
     ]
    },
    {
     "name": "stderr",
     "output_type": "stream",
     "text": [
      "\r\n",
      " 72%|███████▏  | 36/50 [00:17<00:06,  2.11it/s]"
     ]
    },
    {
     "name": "stdout",
     "output_type": "stream",
     "text": [
      "got preds2\n",
      "got preds1\n"
     ]
    },
    {
     "name": "stderr",
     "output_type": "stream",
     "text": [
      "\r\n",
      " 74%|███████▍  | 37/50 [00:18<00:06,  2.05it/s]"
     ]
    },
    {
     "name": "stdout",
     "output_type": "stream",
     "text": [
      "got preds2\n",
      "got preds1\n"
     ]
    },
    {
     "name": "stderr",
     "output_type": "stream",
     "text": [
      "\r\n",
      " 76%|███████▌  | 38/50 [00:18<00:05,  2.05it/s]"
     ]
    },
    {
     "name": "stdout",
     "output_type": "stream",
     "text": [
      "got preds2\n",
      "got preds1\n"
     ]
    },
    {
     "name": "stderr",
     "output_type": "stream",
     "text": [
      "\r\n",
      " 78%|███████▊  | 39/50 [00:19<00:05,  2.08it/s]"
     ]
    },
    {
     "name": "stdout",
     "output_type": "stream",
     "text": [
      "got preds2\n",
      "got preds1\n"
     ]
    },
    {
     "name": "stderr",
     "output_type": "stream",
     "text": [
      "\r\n",
      " 80%|████████  | 40/50 [00:19<00:04,  2.04it/s]"
     ]
    },
    {
     "name": "stdout",
     "output_type": "stream",
     "text": [
      "got preds2\n",
      "got preds1\n"
     ]
    },
    {
     "name": "stderr",
     "output_type": "stream",
     "text": [
      "\r\n",
      " 82%|████████▏ | 41/50 [00:20<00:04,  2.03it/s]"
     ]
    },
    {
     "name": "stdout",
     "output_type": "stream",
     "text": [
      "got preds2\n",
      "got preds1\n"
     ]
    },
    {
     "name": "stderr",
     "output_type": "stream",
     "text": [
      "\r\n",
      " 84%|████████▍ | 42/50 [00:20<00:03,  2.02it/s]"
     ]
    },
    {
     "name": "stdout",
     "output_type": "stream",
     "text": [
      "got preds2\n",
      "got preds1\n"
     ]
    },
    {
     "name": "stderr",
     "output_type": "stream",
     "text": [
      "\r\n",
      " 86%|████████▌ | 43/50 [00:21<00:03,  2.08it/s]"
     ]
    },
    {
     "name": "stdout",
     "output_type": "stream",
     "text": [
      "got preds2\n",
      "got preds1\n"
     ]
    },
    {
     "name": "stderr",
     "output_type": "stream",
     "text": [
      "\r\n",
      " 88%|████████▊ | 44/50 [00:21<00:02,  2.01it/s]"
     ]
    },
    {
     "name": "stdout",
     "output_type": "stream",
     "text": [
      "got preds2\n",
      "got preds1\n"
     ]
    },
    {
     "name": "stderr",
     "output_type": "stream",
     "text": [
      "\r\n",
      " 90%|█████████ | 45/50 [00:22<00:02,  2.06it/s]"
     ]
    },
    {
     "name": "stdout",
     "output_type": "stream",
     "text": [
      "got preds2\n",
      "got preds1\n"
     ]
    },
    {
     "name": "stderr",
     "output_type": "stream",
     "text": [
      "\r\n",
      " 92%|█████████▏| 46/50 [00:22<00:01,  2.10it/s]"
     ]
    },
    {
     "name": "stdout",
     "output_type": "stream",
     "text": [
      "got preds2\n",
      "got preds1\n"
     ]
    },
    {
     "name": "stderr",
     "output_type": "stream",
     "text": [
      "\r\n",
      " 94%|█████████▍| 47/50 [00:22<00:01,  2.16it/s]"
     ]
    },
    {
     "name": "stdout",
     "output_type": "stream",
     "text": [
      "got preds2\n",
      "got preds1\n"
     ]
    },
    {
     "name": "stderr",
     "output_type": "stream",
     "text": [
      "\r\n",
      " 96%|█████████▌| 48/50 [00:23<00:00,  2.20it/s]"
     ]
    },
    {
     "name": "stdout",
     "output_type": "stream",
     "text": [
      "got preds2\n",
      "got preds1\n"
     ]
    },
    {
     "name": "stderr",
     "output_type": "stream",
     "text": [
      "\r\n",
      " 98%|█████████▊| 49/50 [00:23<00:00,  2.11it/s]"
     ]
    },
    {
     "name": "stdout",
     "output_type": "stream",
     "text": [
      "got preds2\n",
      "got preds1\n"
     ]
    },
    {
     "name": "stderr",
     "output_type": "stream",
     "text": [
      "100%|██████████| 50/50 [00:24<00:00,  2.05it/s]"
     ]
    },
    {
     "name": "stdout",
     "output_type": "stream",
     "text": [
      "got preds2\n"
     ]
    },
    {
     "name": "stderr",
     "output_type": "stream",
     "text": [
      "\n"
     ]
    }
   ],
   "source": [
    "ensemble_results1 = []\n",
    "ensemble_results2 = []\n",
    "\n",
    "for e_id in tqdm(range(50)):\n",
    "    with open(OUT_PATH / f\"ensemble_results_1_{e_id}.pkl\", 'rb') as file:\n",
    "        pred_test_1 = pickle.load(file)\n",
    "        ensemble_results1.append(get_samples_stats_geneid(pred_test_1, gene_list))\n",
    "    print(\"got preds1\")\n",
    "    with open(OUT_PATH / f\"ensemble_results_2_{e_id}.pkl\", 'rb') as file:\n",
    "        pred_test_2 = pickle.load(file)\n",
    "        ensemble_results2.append(get_samples_stats_geneid(pred_test_2, gene_list))\n",
    "    print(\"got preds2\")\n",
    "    "
   ]
  },
  {
   "cell_type": "code",
   "execution_count": 1,
   "id": "e4e3ba5d",
   "metadata": {},
   "outputs": [],
   "source": [
    "# ensemble_results1 = np.stack(ensemble_results1, axis=3)\n",
    "# ensemble_results2 = np.stack(ensemble_results2, axis=3)"
   ]
  },
  {
   "cell_type": "code",
   "execution_count": null,
   "id": "b3bc78f1",
   "metadata": {},
   "outputs": [],
   "source": [
    "ensemble_results2.shape"
   ]
  },
  {
   "cell_type": "code",
   "execution_count": 32,
   "id": "5e322a73",
   "metadata": {},
   "outputs": [],
   "source": [
    "# save out results\n",
    "with open(str(OUT_PATH / 'ensemble_results_1-rev2.pkl'), 'wb') as file:\n",
    "    pickle.dump(ensemble_results1, file)\n",
    "with open(str(OUT_PATH / 'ensemble_results_2-rev2.pkl'), 'wb') as file:\n",
    "    pickle.dump(ensemble_results2, file)"
   ]
  },
  {
   "cell_type": "code",
   "execution_count": null,
   "id": "3d2689cd",
   "metadata": {},
   "outputs": [],
   "source": [
    "df_target_1 = test_dataset_1.to_df().loc[:, gene_list]\n",
    "df_target_2 = test_dataset_2.to_df().loc[:, gene_list]"
   ]
  },
  {
   "cell_type": "code",
   "execution_count": null,
   "id": "c522ab23",
   "metadata": {},
   "outputs": [],
   "source": [
    "def get_uncertainty_components(ens_res):\n",
    "    \"\"\"\n",
    "    \"\"\"\n",
    "    # get E[E[X|f]], E[V[X|f]] \n",
    "    mean = ens_res[:,-2:,:,:].mean(axis=-1)\n",
    "    # get V[E[X|f]], V[V[X|f]] \n",
    "    var = ens_res[:,-2:,:,:].var(axis=-1)\n",
    "    # stack E(mean), V(mean), E(var), total\n",
    "    res = np.stack([mean[:,0,:], var[:,0,:], mean[:,1,:], var[:,0,:]+mean[:,1,:]], axis=1)\n",
    "    \n",
    "    return res"
   ]
  },
  {
   "cell_type": "code",
   "execution_count": null,
   "id": "43969814",
   "metadata": {},
   "outputs": [],
   "source": [
    "np_total_var1 = get_uncertainty_components(ensemble_results1)\n",
    "np_total_var2 = get_uncertainty_components(ensemble_results2)"
   ]
  },
  {
   "cell_type": "code",
   "execution_count": null,
   "id": "f13a36ff",
   "metadata": {},
   "outputs": [],
   "source": [
    "# append targets to predictions\n",
    "np_target1 = df_target_1.values.reshape(len(df_target_1), 1, len(df_target_1.columns))\n",
    "np_total_var1 = np.append(np_total_var1, np_target1, axis=1)\n",
    "\n",
    "# np_target2 = df_target_2.values.reshape(len(df_target_2), 1, len(df_target_2.columns))\n",
    "# np_total_var2 = np.append(np_total_var2, np_target2, axis=1)"
   ]
  },
  {
   "cell_type": "code",
   "execution_count": null,
   "id": "51d51138",
   "metadata": {},
   "outputs": [],
   "source": [
    "dict_res1 = {g: np_total_var1[:,:,i] for i, g in enumerate(gene_list)}\n",
    "# dict_res2 = {g: np_total_var2[:,:,i] for i, g in enumerate(gene_list)}"
   ]
  },
  {
   "cell_type": "code",
   "execution_count": null,
   "id": "fefc032d",
   "metadata": {},
   "outputs": [],
   "source": [
    "list_dfs1 = []\n",
    "for g in dict_res1.keys():\n",
    "    df = pd.DataFrame(dict_res1[g], columns=['estimate', 'epistemic_uncertainty', 'aleatoric_uncertainty', 'total_uncertainty', 'target'])\n",
    "    df['gene_name'] = g\n",
    "    df['index'] = df_target_1.index\n",
    "    list_dfs1.append(df)\n",
    "df_res1 = pd.concat(list_dfs1, axis=0)\n",
    "\n",
    "# list_dfs2 = []\n",
    "# for g in dict_res2.keys():\n",
    "#     df = pd.DataFrame(dict_res2[g], columns=['mean', 'epistemic', 'aleatoric', 'total', 'actual'])\n",
    "#     df['gene_name'] = g\n",
    "#     list_dfs2.append(df)\n",
    "# df_res2 = pd.concat(list_dfs2, axis=0)"
   ]
  },
  {
   "cell_type": "code",
   "execution_count": null,
   "id": "b51edf9c",
   "metadata": {},
   "outputs": [],
   "source": [
    "df_res1"
   ]
  },
  {
   "cell_type": "code",
   "execution_count": null,
   "id": "2a6b0d3f",
   "metadata": {},
   "outputs": [],
   "source": [
    "adata_FFPE = test_dataset_1[:, gene_list].copy()\n",
    "# adata_FFPE.obsm[\"n\"] = df.pivot_table(index='index', columns='gene_name', values='n')\n",
    "# adata_FFPE.obsm[\"p\"] = df.pivot_table(index='index', columns='gene_name', values='p')\n",
    "adata_FFPE.obsm[\"estimate\"] = df_res1.pivot_table(index='index', columns='gene_name', values='estimate')\n",
    "adata_FFPE.obsm[\"epistemic_uncertainty\"] = df_res1.pivot_table(index='index', columns='gene_name', values='epistemic_uncertainty')\n",
    "adata_FFPE.obsm[\"aleatoric_uncertainty\"] = df_res1.pivot_table(index='index', columns='gene_name', values='aleatoric_uncertainty')\n",
    "adata_FFPE.obsm[\"total_uncertainty\"] = df_res1.pivot_table(index='index', columns='gene_name', values='total_uncertainty')\n",
    "adata_FFPE.obsm[\"target\"] = df_res1.pivot_table(index='index', columns='gene_name', values='target')"
   ]
  },
  {
   "cell_type": "code",
   "execution_count": null,
   "id": "19ca373a",
   "metadata": {},
   "outputs": [],
   "source": []
  }
 ],
 "metadata": {
  "kernelspec": {
   "display_name": "stimage2",
   "language": "python",
   "name": "python3"
  },
  "language_info": {
   "codemirror_mode": {
    "name": "ipython",
    "version": 3
   },
   "file_extension": ".py",
   "mimetype": "text/x-python",
   "name": "python",
   "nbconvert_exporter": "python",
   "pygments_lexer": "ipython3",
   "version": "3.10.14"
  }
 },
 "nbformat": 4,
 "nbformat_minor": 5
}
