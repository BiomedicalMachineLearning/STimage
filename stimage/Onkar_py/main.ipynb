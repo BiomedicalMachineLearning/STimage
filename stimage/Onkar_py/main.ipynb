{
 "cells": [
  {
   "cell_type": "code",
   "execution_count": 1,
   "id": "65aa5e68-ab5b-4c69-a7fd-63434edc719f",
   "metadata": {},
   "outputs": [
    {
     "data": {
      "text/plain": [
       "'%matplotlib inline\\nimport os; import sys\\nimport math; import copy\\nimport joblib; import glob\\nimport numpy as np; from numpy import load, array, argmax\\nimport pandas as pd\\nimport scanpy as sc\\nimport seaborn as sns\\nfrom tqdm import tqdm\\nimport matplotlib.pyplot as plt\\n\\n\\nimport scipy as sp\\nfrom scipy import ndimage as ndi\\n\\n\\nfrom pathlib import Path\\nimport stlearn as st\\nst.settings.set_figure_params(dpi=300)\\nfrom stimage._utils import gene_plot, tiling\\n\\n\\nfrom pathlib import Path\\nfrom typing import Optional, Union\\nfrom anndata import AnnData\\n\\n\\nimport lime\\nfrom lime import lime_image\\nfrom PIL import Image\\nfrom skimage.color import rgb2hed\\nfrom skimage.segmentation import mark_boundaries\\nfrom skimage.segmentation import watershed\\nimport skimage\\nfrom skimage.color import rgb2hed\\nfrom skimage.feature import peak_local_max\\nfrom skimage.segmentation import watershed\\nfrom skimage.measure import label\\nfrom skimage.morphology import area_opening\\n\\n\\nfrom sklearn.multioutput import MultiOutputClassifier, MultiOutputRegressor\\nfrom sklearn.metrics import roc_auc_score, f1_score\\nfrom sklearn.preprocessing import LabelEncoder, OneHotEncoder, MinMaxScaler, LabelBinarizer\\nfrom sklearn.model_selection import train_test_split, StratifiedKFold\\nfrom sklearn.cluster import AgglomerativeClustering\\nfrom sklearn.neural_network import MLPClassifier, MLPRegressor\\n\\n\\nimport tensorflow as tf\\nfrom tensorflow.keras.applications.imagenet_utils import decode_predictions\\nfrom tensorflow.keras.preprocessing import image\\nfrom tensorflow.keras import backend\\nfrom tensorflow.keras.preprocessing.image import ImageDataGenerator\\nfrom tensorflow.keras.models import Sequential\\nfrom tensorflow.keras.layers import Conv2D, MaxPooling2D, Dense, Flatten, Dropout, BatchNormalization\\nfrom tensorflow.keras.optimizers import SGD, Adam\\nfrom tensorflow.keras.models import Model\\nfrom tensorflow.keras import regularizers\\nfrom tensorflow.keras.applications.resnet50 import ResNet50, preprocess_input\\nfrom tensorflow.keras.utils import to_categorical\\nfrom tensorflow.keras.preprocessing import image as image_fun\\n\\n\\nfrom imblearn.over_sampling import SMOTE\\nfrom tabgan.sampler import OriginalGenerator, GANGenerator\\nimport lightgbm as lgb'"
      ]
     },
     "execution_count": 1,
     "metadata": {},
     "output_type": "execute_result"
    }
   ],
   "source": [
    "\"\"\"%matplotlib inline\n",
    "import os; import sys\n",
    "import math; import copy\n",
    "import joblib; import glob\n",
    "import numpy as np; from numpy import load, array, argmax\n",
    "import pandas as pd\n",
    "import scanpy as sc\n",
    "import seaborn as sns\n",
    "from tqdm import tqdm\n",
    "import matplotlib.pyplot as plt\n",
    "\n",
    "\n",
    "import scipy as sp\n",
    "from scipy import ndimage as ndi\n",
    "\n",
    "\n",
    "from pathlib import Path\n",
    "import stlearn as st\n",
    "st.settings.set_figure_params(dpi=300)\n",
    "from stimage._utils import gene_plot, tiling\n",
    "\n",
    "\n",
    "from pathlib import Path\n",
    "from typing import Optional, Union\n",
    "from anndata import AnnData\n",
    "\n",
    "\n",
    "import lime\n",
    "from lime import lime_image\n",
    "from PIL import Image\n",
    "from skimage.color import rgb2hed\n",
    "from skimage.segmentation import mark_boundaries\n",
    "from skimage.segmentation import watershed\n",
    "import skimage\n",
    "from skimage.color import rgb2hed\n",
    "from skimage.feature import peak_local_max\n",
    "from skimage.segmentation import watershed\n",
    "from skimage.measure import label\n",
    "from skimage.morphology import area_opening\n",
    "\n",
    "\n",
    "from sklearn.multioutput import MultiOutputClassifier, MultiOutputRegressor\n",
    "from sklearn.metrics import roc_auc_score, f1_score\n",
    "from sklearn.preprocessing import LabelEncoder, OneHotEncoder, MinMaxScaler, LabelBinarizer\n",
    "from sklearn.model_selection import train_test_split, StratifiedKFold\n",
    "from sklearn.cluster import AgglomerativeClustering\n",
    "from sklearn.neural_network import MLPClassifier, MLPRegressor\n",
    "\n",
    "\n",
    "import tensorflow as tf\n",
    "from tensorflow.keras.applications.imagenet_utils import decode_predictions\n",
    "from tensorflow.keras.preprocessing import image\n",
    "from tensorflow.keras import backend\n",
    "from tensorflow.keras.preprocessing.image import ImageDataGenerator\n",
    "from tensorflow.keras.models import Sequential\n",
    "from tensorflow.keras.layers import Conv2D, MaxPooling2D, Dense, Flatten, Dropout, BatchNormalization\n",
    "from tensorflow.keras.optimizers import SGD, Adam\n",
    "from tensorflow.keras.models import Model\n",
    "from tensorflow.keras import regularizers\n",
    "from tensorflow.keras.applications.resnet50 import ResNet50, preprocess_input\n",
    "from tensorflow.keras.utils import to_categorical\n",
    "from tensorflow.keras.preprocessing import image as image_fun\n",
    "\n",
    "\n",
    "from imblearn.over_sampling import SMOTE\n",
    "from tabgan.sampler import OriginalGenerator, GANGenerator\n",
    "import lightgbm as lgb\"\"\""
   ]
  },
  {
   "cell_type": "code",
   "execution_count": 2,
   "id": "9fa3e5bd-f6dc-4c00-b724-dae2d16858ee",
   "metadata": {},
   "outputs": [
    {
     "data": {
      "text/plain": [
       "'BASE_PATH = Path(\"D:/Onkar_D/UQ/Project_Spt.Transcriptomics/Output_files\")\\n\\nTILE_PATH = BASE_PATH / \"tiles\"\\nTILE_PATH.mkdir(parents=True, exist_ok=True)\\n\\nTILE_PATH_2 = BASE_PATH / \"big_tiles\"\\nTILE_PATH_2.mkdir(parents=True, exist_ok=True)\\n\\n\\nSAMPLE = \"block1\"\\nSample1 = st.Read10X(BASE_PATH / SAMPLE, \\n                  library_id=SAMPLE, \\n                  count_file=\"V1_Breast_Cancer_Block_A_Section_1_filtered_feature_bc_matrix.h5\",\\n                  quality=\"fulres\",)\\nimg = plt.imread(BASE_PATH / SAMPLE /\"V1_Breast_Cancer_Block_A_Section_1_image.tif\", 0)\\nSample1.uns[\"spatial\"][SAMPLE][\\'images\\'][\"fulres\"] = img\\n\\n\\nSAMPLE = \"block2\"\\nSample2 = st.Read10X(BASE_PATH / SAMPLE, \\n                  library_id=SAMPLE, \\n                  count_file=\"V1_Breast_Cancer_Block_A_Section_2_filtered_feature_bc_matrix.h5\",\\n                  quality=\"fulres\",)\\n                  #source_image_path=BASE_PATH / SAMPLE /\"V1_Breast_Cancer_Block_A_Section_1_image.tif\")\\nimg = plt.imread(BASE_PATH / SAMPLE /\"V1_Breast_Cancer_Block_A_Section_2_image.tif\", 0)\\nSample2.uns[\"spatial\"][SAMPLE][\\'images\\'][\"fulres\"] = img\\n\\n\\nSAMPLE = \"FFPE_Breast_Cancer\"\\nSample3 = st.Read10X(BASE_PATH / SAMPLE, \\n                  library_id=SAMPLE, \\n                  count_file=\"Visium_FFPE_Human_Breast_Cancer_filtered_feature_bc_matrix.h5\",\\n                  quality=\"fulres\",)\\nimg = plt.imread(BASE_PATH / SAMPLE /\"Visium_FFPE_Human_Breast_Cancer_image.tif\", 0)\\nSample3.uns[\"spatial\"][SAMPLE][\\'images\\'][\"fulres\"] = img\\n\\n\\nfor adata in [Sample1, Sample2, Sample3]:\\n    st.pp.filter_genes(adata,min_cells=3)\\n    st.pp.log1p(adata)\\n    sc.pp.filter_cells(adata,min_counts=100)\\n    \\n    TILE_PATH_ = TILE_PATH / list(adata.uns[\"spatial\"].keys())[0]\\n    TILE_PATH_.mkdir(parents=True, exist_ok=True)\\n    tiling(adata, TILE_PATH_, crop_size=299)\\n    features = st.pp.extract_feature(adata)\\n    adata.obsm[\\'ResNet50_features_small\\'] = features\\n    \\nfor adata in [Sample1, Sample2]:\\n    st.pp.filter_genes(adata,min_cells=3)\\n    st.pp.log1p(adata)\\n    sc.pp.filter_cells(adata,min_counts=100)\\n    \\n    TILE_PATH_2_ = TILE_PATH_2 / list(adata.uns[\"spatial\"].keys())[0]\\n    TILE_PATH_2_.mkdir(parents=True, exist_ok=True)\\n    tiling(adata, TILE_PATH_2_, crop_size=1950)\\n    st.pp.extract_feature(adata)\\n    features = st.pp.extract_feature(adata)\\n    adata.obsm[\\'ResNet50_features_big\\'] = features\\n    \\nfor adata in [Sample3]:\\n    st.pp.filter_genes(adata,min_cells=3)\\n    st.pp.log1p(adata)\\n    sc.pp.filter_cells(adata,min_counts=100)\\n    \\n    TILE_PATH_2_ = TILE_PATH_2 / list(adata.uns[\"spatial\"].keys())[0]\\n    TILE_PATH_2_.mkdir(parents=True, exist_ok=True)\\n    tiling(adata, TILE_PATH_2_, crop_size=1650)\\n    st.pp.extract_feature(adata)\\n    adata.obsm[\\'ResNet50_features_big\\'] = features\\n    \\n    \\n# Concatenate Features\\ndef concatenate_features(Sample1):\\n    return pd.concat([[Sample1.obsm[\\'ResNet50_features_small\\']],[Sample1.obsm[\\'ResNet50_features_big\\']]], axis=1)\\n\\nX_train = concatenate_features(Sample1)\\nX_test = concatenate_features(Sample2)\\nX_test_ffpe = concatenate_features(Sample3)\\n\\n\\n\\n# Get the Clustering of all Spots\\ndef Spot_Cluster(Features,n):\\n    hc1 = AgglomerativeClustering(n_clusters = n, affinity = \\'euclidean\\', linkage = \\'ward\\')\\n    return hc1.fit_predict(Features)\\n\\nSpots1_hc = hc1.fit_predict(X_train,5)\\nSpots2_hc = hc2.fit_predict(X_test,3)\\nSpots3_hc = hc3.fit_predict(X_test_ffpe,3)'"
      ]
     },
     "execution_count": 2,
     "metadata": {},
     "output_type": "execute_result"
    }
   ],
   "source": [
    "\"\"\"BASE_PATH = Path(\"D:/Onkar_D/UQ/Project_Spt.Transcriptomics/Output_files\")\n",
    "\n",
    "TILE_PATH = BASE_PATH / \"tiles\"\n",
    "TILE_PATH.mkdir(parents=True, exist_ok=True)\n",
    "\n",
    "TILE_PATH_2 = BASE_PATH / \"big_tiles\"\n",
    "TILE_PATH_2.mkdir(parents=True, exist_ok=True)\n",
    "\n",
    "\n",
    "SAMPLE = \"block1\"\n",
    "Sample1 = st.Read10X(BASE_PATH / SAMPLE, \n",
    "                  library_id=SAMPLE, \n",
    "                  count_file=\"V1_Breast_Cancer_Block_A_Section_1_filtered_feature_bc_matrix.h5\",\n",
    "                  quality=\"fulres\",)\n",
    "img = plt.imread(BASE_PATH / SAMPLE /\"V1_Breast_Cancer_Block_A_Section_1_image.tif\", 0)\n",
    "Sample1.uns[\"spatial\"][SAMPLE]['images'][\"fulres\"] = img\n",
    "\n",
    "\n",
    "SAMPLE = \"block2\"\n",
    "Sample2 = st.Read10X(BASE_PATH / SAMPLE, \n",
    "                  library_id=SAMPLE, \n",
    "                  count_file=\"V1_Breast_Cancer_Block_A_Section_2_filtered_feature_bc_matrix.h5\",\n",
    "                  quality=\"fulres\",)\n",
    "                  #source_image_path=BASE_PATH / SAMPLE /\"V1_Breast_Cancer_Block_A_Section_1_image.tif\")\n",
    "img = plt.imread(BASE_PATH / SAMPLE /\"V1_Breast_Cancer_Block_A_Section_2_image.tif\", 0)\n",
    "Sample2.uns[\"spatial\"][SAMPLE]['images'][\"fulres\"] = img\n",
    "\n",
    "\n",
    "SAMPLE = \"FFPE_Breast_Cancer\"\n",
    "Sample3 = st.Read10X(BASE_PATH / SAMPLE, \n",
    "                  library_id=SAMPLE, \n",
    "                  count_file=\"Visium_FFPE_Human_Breast_Cancer_filtered_feature_bc_matrix.h5\",\n",
    "                  quality=\"fulres\",)\n",
    "img = plt.imread(BASE_PATH / SAMPLE /\"Visium_FFPE_Human_Breast_Cancer_image.tif\", 0)\n",
    "Sample3.uns[\"spatial\"][SAMPLE]['images'][\"fulres\"] = img\n",
    "\n",
    "\n",
    "for adata in [Sample1, Sample2, Sample3]:\n",
    "    st.pp.filter_genes(adata,min_cells=3)\n",
    "    st.pp.log1p(adata)\n",
    "    sc.pp.filter_cells(adata,min_counts=100)\n",
    "    \n",
    "    TILE_PATH_ = TILE_PATH / list(adata.uns[\"spatial\"].keys())[0]\n",
    "    TILE_PATH_.mkdir(parents=True, exist_ok=True)\n",
    "    tiling(adata, TILE_PATH_, crop_size=299)\n",
    "    features = st.pp.extract_feature(adata)\n",
    "    adata.obsm['ResNet50_features_small'] = features\n",
    "    \n",
    "for adata in [Sample1, Sample2]:\n",
    "    st.pp.filter_genes(adata,min_cells=3)\n",
    "    st.pp.log1p(adata)\n",
    "    sc.pp.filter_cells(adata,min_counts=100)\n",
    "    \n",
    "    TILE_PATH_2_ = TILE_PATH_2 / list(adata.uns[\"spatial\"].keys())[0]\n",
    "    TILE_PATH_2_.mkdir(parents=True, exist_ok=True)\n",
    "    tiling(adata, TILE_PATH_2_, crop_size=1950)\n",
    "    st.pp.extract_feature(adata)\n",
    "    features = st.pp.extract_feature(adata)\n",
    "    adata.obsm['ResNet50_features_big'] = features\n",
    "    \n",
    "for adata in [Sample3]:\n",
    "    st.pp.filter_genes(adata,min_cells=3)\n",
    "    st.pp.log1p(adata)\n",
    "    sc.pp.filter_cells(adata,min_counts=100)\n",
    "    \n",
    "    TILE_PATH_2_ = TILE_PATH_2 / list(adata.uns[\"spatial\"].keys())[0]\n",
    "    TILE_PATH_2_.mkdir(parents=True, exist_ok=True)\n",
    "    tiling(adata, TILE_PATH_2_, crop_size=1650)\n",
    "    st.pp.extract_feature(adata)\n",
    "    adata.obsm['ResNet50_features_big'] = features\n",
    "    \n",
    "    \n",
    "# Concatenate Features\n",
    "def concatenate_features(Sample1):\n",
    "    return pd.concat([[Sample1.obsm['ResNet50_features_small']],[Sample1.obsm['ResNet50_features_big']]], axis=1)\n",
    "\n",
    "X_train = concatenate_features(Sample1)\n",
    "X_test = concatenate_features(Sample2)\n",
    "X_test_ffpe = concatenate_features(Sample3)\n",
    "\n",
    "\n",
    "\n",
    "# Get the Clustering of all Spots\n",
    "def Spot_Cluster(Features,n):\n",
    "    hc1 = AgglomerativeClustering(n_clusters = n, affinity = 'euclidean', linkage = 'ward')\n",
    "    return hc1.fit_predict(Features)\n",
    "\n",
    "Spots1_hc = hc1.fit_predict(X_train,5)\n",
    "Spots2_hc = hc2.fit_predict(X_test,3)\n",
    "Spots3_hc = hc3.fit_predict(X_test_ffpe,3)\"\"\""
   ]
  },
  {
   "cell_type": "code",
   "execution_count": 3,
   "id": "51a92e56-1861-4d54-8792-90a5fc269ffe",
   "metadata": {},
   "outputs": [
    {
     "data": {
      "text/plain": [
       "'def Classifier(Sample1, Sample2, biomarker_list, model_c):\\n    \\n    MinMax_scaler_y_1 = preprocessing.MinMaxScaler(feature_range =(0, 1))\\n    MinMax_scaler_y_2 = preprocessing.MinMaxScaler(feature_range =(0, 1))\\n\\n    Y_1 = Sample1.to_df()[biomarker_list]\\n    Y_1 = MinMax_scaler_y_1.fit_transform(Y_1) \\n    Y_1 = pd.DataFrame(data=Y_1)\\n    Y_1 = Y_1.apply(lambda x: pd.cut(x, bins=[-0.01, 0.5, 1.01], labels = [0, 1]))\\n    Y_1 = Y_1.astype(\\'int64\\')\\n\\n\\n    test_Y_1 = Sample2.to_df()[biomarker_list]\\n    test_Y_1 = MinMax_scaler_y_2.fit_transform(test_Y_1)\\n    test_Y_1 = pd.DataFrame(data=test_Y_1)\\n    test_Y_1 = test_Y_1.apply(lambda x: pd.cut(x, bins=[-0.01, 0.5, 1.01], labels = [0, 1]))\\n    test_Y_1 = test_Y_1.fillna(0)\\n    test_Y_1 = test_Y_1.astype(\\'int64\\')\\n\\n    # Classifier\\n    clf = MultiOutputClassifier(model_c).fit(X_train, Y_1)\\n    return clf.predict(X_test)\\n    #joblib.dump(clf, wd+\\'New_model_clf_biomarker_10X.pkl\\')\\n    \\n    \\nbiomarker_list_1 = [\\'COX6C\\',\\'TTLL12\\',\\'PGM5\\',\\'KRT5\\',\\'SLITRK6\\', \\'CPB1\\', \"PABPC1\", \"GNAS\", \"HSP90AB1\", \"TFF3\", \"ATP1A1\", \"B2M\", \"FASN\", \"ESR1\", \"SPARC\", \"ACTG1\", \"HLA-B\", \"LINC00645\", \"MALAT1\"]\\nbiomarker_list_2 = [\\'COX6C\\',\\'TTLL12\\', \"PABPC1\", \"GNAS\", \"HSP90AB1\", \"TFF3\", \"ATP1A1\", \"B2M\", \"FASN\", \"SPARC\"]\\nmodel_c = MLPClassifier(max_iter=10000)\\n#model_r = MLPRegressor(max_iter=10000)'"
      ]
     },
     "execution_count": 3,
     "metadata": {},
     "output_type": "execute_result"
    }
   ],
   "source": [
    "\"\"\"def Classifier(Sample1, Sample2, biomarker_list, model_c):\n",
    "    \n",
    "    MinMax_scaler_y_1 = preprocessing.MinMaxScaler(feature_range =(0, 1))\n",
    "    MinMax_scaler_y_2 = preprocessing.MinMaxScaler(feature_range =(0, 1))\n",
    "\n",
    "    Y_1 = Sample1.to_df()[biomarker_list]\n",
    "    Y_1 = MinMax_scaler_y_1.fit_transform(Y_1) \n",
    "    Y_1 = pd.DataFrame(data=Y_1)\n",
    "    Y_1 = Y_1.apply(lambda x: pd.cut(x, bins=[-0.01, 0.5, 1.01], labels = [0, 1]))\n",
    "    Y_1 = Y_1.astype('int64')\n",
    "\n",
    "\n",
    "    test_Y_1 = Sample2.to_df()[biomarker_list]\n",
    "    test_Y_1 = MinMax_scaler_y_2.fit_transform(test_Y_1)\n",
    "    test_Y_1 = pd.DataFrame(data=test_Y_1)\n",
    "    test_Y_1 = test_Y_1.apply(lambda x: pd.cut(x, bins=[-0.01, 0.5, 1.01], labels = [0, 1]))\n",
    "    test_Y_1 = test_Y_1.fillna(0)\n",
    "    test_Y_1 = test_Y_1.astype('int64')\n",
    "\n",
    "    # Classifier\n",
    "    clf = MultiOutputClassifier(model_c).fit(X_train, Y_1)\n",
    "    return clf.predict(X_test)\n",
    "    #joblib.dump(clf, wd+'New_model_clf_biomarker_10X.pkl')\n",
    "    \n",
    "    \n",
    "biomarker_list_1 = ['COX6C','TTLL12','PGM5','KRT5','SLITRK6', 'CPB1', \"PABPC1\", \"GNAS\", \"HSP90AB1\", \"TFF3\", \"ATP1A1\", \"B2M\", \"FASN\", \"ESR1\", \"SPARC\", \"ACTG1\", \"HLA-B\", \"LINC00645\", \"MALAT1\"]\n",
    "biomarker_list_2 = ['COX6C','TTLL12', \"PABPC1\", \"GNAS\", \"HSP90AB1\", \"TFF3\", \"ATP1A1\", \"B2M\", \"FASN\", \"SPARC\"]\n",
    "model_c = MLPClassifier(max_iter=10000)\n",
    "#model_r = MLPRegressor(max_iter=10000)\"\"\""
   ]
  },
  {
   "cell_type": "code",
   "execution_count": 4,
   "id": "c110113d-1768-4c88-95cf-4d6c75a7a9e7",
   "metadata": {},
   "outputs": [
    {
     "data": {
      "text/plain": [
       "'# Spatial Autocorrelation\\nimport geopandas as gpd\\nimport pysal\\nfrom pysal.explore import esda\\nimport pysal.lib as lps\\nfrom esda.moran import Moran, Moran_Local, Moran_BV, Moran_Local_BV\\nimport splot\\nfrom splot.esda import moran_scatterplot, plot_moran, lisa_cluster, plot_moran_bv_simulation, plot_moran_bv, plot_local_autocorrelation\\nfrom libpysal.weights.contiguity import Queen\\nfrom libpysal import examples'"
      ]
     },
     "execution_count": 4,
     "metadata": {},
     "output_type": "execute_result"
    }
   ],
   "source": [
    "\"\"\"# Spatial Autocorrelation\n",
    "import geopandas as gpd\n",
    "import pysal\n",
    "from pysal.explore import esda\n",
    "import pysal.lib as lps\n",
    "from esda.moran import Moran, Moran_Local, Moran_BV, Moran_Local_BV\n",
    "import splot\n",
    "from splot.esda import moran_scatterplot, plot_moran, lisa_cluster, plot_moran_bv_simulation, plot_moran_bv, plot_local_autocorrelation\n",
    "from libpysal.weights.contiguity import Queen\n",
    "from libpysal import examples\"\"\""
   ]
  }
 ],
 "metadata": {
  "kernelspec": {
   "display_name": "Python 3",
   "language": "python",
   "name": "python3"
  },
  "language_info": {
   "codemirror_mode": {
    "name": "ipython",
    "version": 3
   },
   "file_extension": ".py",
   "mimetype": "text/x-python",
   "name": "python",
   "nbconvert_exporter": "python",
   "pygments_lexer": "ipython3",
   "version": "3.8.8"
  }
 },
 "nbformat": 4,
 "nbformat_minor": 5
}
