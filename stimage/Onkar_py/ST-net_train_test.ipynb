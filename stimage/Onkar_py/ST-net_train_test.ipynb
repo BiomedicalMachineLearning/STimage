{
 "cells": [
  {
   "cell_type": "markdown",
   "id": "golden-addiction",
   "metadata": {},
   "source": [
    "# Libraries and create tiles"
   ]
  },
  {
   "cell_type": "code",
   "execution_count": 2,
   "id": "welcome-bulgaria",
   "metadata": {},
   "outputs": [],
   "source": [
    "import stlearn as st\n",
    "st.settings.set_figure_params(dpi=300)\n",
    "from pathlib import Path\n",
    "import pandas as pd\n",
    "import matplotlib.pyplot as plt\n",
    "import sys; import scanpy as sc\n",
    "from pathlib import Path\n",
    "from typing import Optional, Union\n",
    "from anndata import AnnData\n",
    "import pandas as pd\n",
    "import stlearn\n",
    "from typing import Optional, Union\n",
    "from anndata import AnnData\n",
    "from pathlib import Path\n",
    "from PIL import Image\n",
    "from tqdm import tqdm\n",
    "import seaborn as sns\n",
    "import numpy as np\n",
    "import os\n",
    "from sklearn.multioutput import MultiOutputClassifier\n",
    "import pandas as pd\n",
    "import lightgbm as lgb\n",
    "from sklearn.preprocessing import LabelEncoder\n",
    "from sklearn.model_selection import train_test_split\n",
    "from sklearn import preprocessing\n",
    "from sklearn.preprocessing import LabelBinarizer\n",
    "import os\n",
    "from keras.applications.imagenet_utils import decode_predictions\n",
    "from keras.preprocessing import image\n",
    "from sklearn.metrics import roc_auc_score\n",
    "from skimage.color import rgb2hed\n",
    "%matplotlib inline\n",
    "import pandas as pd\n",
    "from keras.utils import to_categorical\n",
    "from numpy import array\n",
    "from numpy import argmax\n",
    "from sklearn.preprocessing import LabelEncoder\n",
    "from sklearn.preprocessing import OneHotEncoder\n",
    "import sys\n",
    "from numpy import load\n",
    "import tensorflow as tf\n",
    "from sklearn.model_selection import train_test_split\n",
    "from keras import backend\n",
    "from keras.preprocessing.image import ImageDataGenerator\n",
    "from keras.models import Sequential\n",
    "from keras.layers import Conv2D, MaxPooling2D, Dense, Flatten, Dropout, BatchNormalization\n",
    "from keras.optimizers import SGD, Adam\n",
    "from keras.models import Model\n",
    "from tensorflow.keras import regularizers\n",
    "from keras.applications.resnet50 import ResNet50, preprocess_input\n",
    "import numpy as np\n",
    "import matplotlib.pyplot as plt\n",
    "from PIL import Image\n",
    "import lime\n",
    "from sklearn.preprocessing import MinMaxScaler\n",
    "from lime import lime_image\n",
    "from skimage.segmentation import mark_boundaries\n",
    "from skimage.segmentation import watershed\n",
    "import glob\n",
    "import os\n",
    "from tensorflow.keras.preprocessing import image as image_fun\n",
    "from sklearn.preprocessing import OneHotEncoder\n",
    "import skimage\n",
    "from skimage.color import rgb2hed\n",
    "from skimage.feature import peak_local_max\n",
    "from skimage.segmentation import watershed\n",
    "from skimage.measure import label\n",
    "import scipy as sp\n",
    "from scipy import ndimage as ndi\n",
    "from skimage.morphology import area_opening\n",
    "import math; import copy\n",
    "\n",
    "\n",
    "def tiling(\n",
    "        adata: AnnData,\n",
    "        out_path: Union[Path, str] = \"./tiling\",\n",
    "        library_id: str = None,\n",
    "        crop_size: int = 40,\n",
    "        target_size: int = 299,\n",
    "        verbose: bool = False,\n",
    "        copy: bool = False,\n",
    ") -> Optional[AnnData]:\n",
    "    \n",
    "\n",
    "    if library_id is None:\n",
    "        library_id = list(adata.uns[\"spatial\"].keys())[0]\n",
    "\n",
    "    # Check the exist of out_path\n",
    "    if not os.path.isdir(out_path):\n",
    "        os.mkdir(out_path)\n",
    "\n",
    "    image = adata.uns[\"spatial\"][library_id][\"images\"][adata.uns[\"spatial\"][\"use_quality\"]]\n",
    "    if image.dtype == np.float32 or image.dtype == np.float64:\n",
    "        image = (image * 255).astype(np.uint8)\n",
    "    img_pillow = Image.fromarray(image)\n",
    "    tile_names = []\n",
    "\n",
    "    with tqdm(\n",
    "            total=len(adata),\n",
    "            desc=\"Tiling image\",\n",
    "            bar_format=\"{l_bar}{bar} [ time left: {remaining} ]\",\n",
    "    ) as pbar:\n",
    "        for imagerow, imagecol in zip(adata.obs[\"imagerow\"], adata.obs[\"imagecol\"]):\n",
    "            imagerow_down = imagerow - crop_size / 2\n",
    "            imagerow_up = imagerow + crop_size / 2\n",
    "            imagecol_left = imagecol - crop_size / 2\n",
    "            imagecol_right = imagecol + crop_size / 2\n",
    "            tile = img_pillow.crop(\n",
    "                (imagecol_left, imagerow_down, imagecol_right, imagerow_up)\n",
    "            )\n",
    "            # tile.thumbnail((target_size, target_size), Image.ANTIALIAS)\n",
    "            tile = tile.resize((target_size, target_size))\n",
    "            tile_name = library_id + \"-\" + str(imagecol) + \"-\" + str(imagerow) + \"-\" + str(crop_size)#np.arange(len(pd.Series(adata))+1).astype(str).str.zfill(4)+1 + \"-\" +\n",
    "            out_tile = Path(out_path) / (tile_name + \".jpeg\")\n",
    "            tile_names.append(str(out_tile))\n",
    "            if verbose:\n",
    "                print(\n",
    "                    \"generate tile at location ({}, {})\".format(\n",
    "                        str(imagecol), str(imagerow)\n",
    "                    )\n",
    "                )\n",
    "            tile.save(out_tile, \"JPEG\")\n",
    "\n",
    "            pbar.update(1)\n",
    "\n",
    "    adata.obs[\"tile_path\"] = tile_names\n",
    "    return adata if copy else None"
   ]
  },
  {
   "cell_type": "markdown",
   "id": "d62ba802-e249-48d3-86cc-6d09ea0048a9",
   "metadata": {},
   "source": [
    "# ST-Net train set"
   ]
  },
  {
   "cell_type": "code",
   "execution_count": 8,
   "id": "f1ca8d67-c611-4e82-a71e-158576e41213",
   "metadata": {
    "collapsed": true,
    "jupyter": {
     "outputs_hidden": true
    },
    "tags": []
   },
   "outputs": [
    {
     "name": "stderr",
     "output_type": "stream",
     "text": [
      "Trying to set attribute `.obs` of view, copying.\n"
     ]
    },
    {
     "name": "stdout",
     "output_type": "stream",
     "text": [
      "Added tissue image to the object!\n",
      "Log transformation step is finished in adata.X\n"
     ]
    },
    {
     "name": "stderr",
     "output_type": "stream",
     "text": [
      "Tiling image: 100%|██████████ [ time left: 00:00 ]\n",
      "Trying to set attribute `.obs` of view, copying.\n",
      "Tiling image:   0%|           [ time left: ? ]"
     ]
    },
    {
     "name": "stdout",
     "output_type": "stream",
     "text": [
      "Added tissue image to the object!\n",
      "Log transformation step is finished in adata.X\n"
     ]
    },
    {
     "name": "stderr",
     "output_type": "stream",
     "text": [
      "Tiling image: 100%|██████████ [ time left: 00:00 ]\n",
      "Trying to set attribute `.obs` of view, copying.\n"
     ]
    },
    {
     "name": "stdout",
     "output_type": "stream",
     "text": [
      "Added tissue image to the object!\n",
      "Log transformation step is finished in adata.X\n"
     ]
    },
    {
     "name": "stderr",
     "output_type": "stream",
     "text": [
      "Tiling image: 100%|██████████ [ time left: 00:00 ]\n",
      "Trying to set attribute `.obs` of view, copying.\n"
     ]
    },
    {
     "name": "stdout",
     "output_type": "stream",
     "text": [
      "Added tissue image to the object!\n",
      "Log transformation step is finished in adata.X\n"
     ]
    },
    {
     "name": "stderr",
     "output_type": "stream",
     "text": [
      "Tiling image: 100%|██████████ [ time left: 00:00 ]\n",
      "Trying to set attribute `.obs` of view, copying.\n"
     ]
    },
    {
     "name": "stdout",
     "output_type": "stream",
     "text": [
      "Added tissue image to the object!\n",
      "Log transformation step is finished in adata.X\n"
     ]
    },
    {
     "name": "stderr",
     "output_type": "stream",
     "text": [
      "Tiling image: 100%|██████████ [ time left: 00:00 ]\n",
      "Trying to set attribute `.obs` of view, copying.\n"
     ]
    },
    {
     "name": "stdout",
     "output_type": "stream",
     "text": [
      "Added tissue image to the object!\n",
      "Log transformation step is finished in adata.X\n"
     ]
    },
    {
     "name": "stderr",
     "output_type": "stream",
     "text": [
      "Tiling image: 100%|██████████ [ time left: 00:00 ]\n",
      "Trying to set attribute `.obs` of view, copying.\n"
     ]
    },
    {
     "name": "stdout",
     "output_type": "stream",
     "text": [
      "Added tissue image to the object!\n"
     ]
    },
    {
     "name": "stderr",
     "output_type": "stream",
     "text": [
      "Tiling image:   0%|           [ time left: ? ]"
     ]
    },
    {
     "name": "stdout",
     "output_type": "stream",
     "text": [
      "Log transformation step is finished in adata.X\n"
     ]
    },
    {
     "name": "stderr",
     "output_type": "stream",
     "text": [
      "Tiling image: 100%|██████████ [ time left: 00:00 ]\n",
      "Trying to set attribute `.obs` of view, copying.\n"
     ]
    },
    {
     "name": "stdout",
     "output_type": "stream",
     "text": [
      "Added tissue image to the object!\n",
      "Log transformation step is finished in adata.X\n"
     ]
    },
    {
     "name": "stderr",
     "output_type": "stream",
     "text": [
      "Tiling image: 100%|██████████ [ time left: 00:00 ]\n",
      "Trying to set attribute `.obs` of view, copying.\n"
     ]
    },
    {
     "name": "stdout",
     "output_type": "stream",
     "text": [
      "Added tissue image to the object!\n"
     ]
    },
    {
     "name": "stderr",
     "output_type": "stream",
     "text": [
      "Tiling image:   0%|           [ time left: ? ]"
     ]
    },
    {
     "name": "stdout",
     "output_type": "stream",
     "text": [
      "Log transformation step is finished in adata.X\n"
     ]
    },
    {
     "name": "stderr",
     "output_type": "stream",
     "text": [
      "Tiling image: 100%|██████████ [ time left: 00:00 ]\n",
      "Trying to set attribute `.obs` of view, copying.\n"
     ]
    },
    {
     "name": "stdout",
     "output_type": "stream",
     "text": [
      "Added tissue image to the object!\n",
      "Log transformation step is finished in adata.X\n"
     ]
    },
    {
     "name": "stderr",
     "output_type": "stream",
     "text": [
      "Tiling image: 100%|██████████ [ time left: 00:00 ]\n",
      "Trying to set attribute `.obs` of view, copying.\n"
     ]
    },
    {
     "name": "stdout",
     "output_type": "stream",
     "text": [
      "Added tissue image to the object!\n",
      "Log transformation step is finished in adata.X\n"
     ]
    },
    {
     "name": "stderr",
     "output_type": "stream",
     "text": [
      "Tiling image: 100%|██████████ [ time left: 00:00 ]\n",
      "Trying to set attribute `.obs` of view, copying.\n"
     ]
    },
    {
     "name": "stdout",
     "output_type": "stream",
     "text": [
      "Added tissue image to the object!\n",
      "Log transformation step is finished in adata.X\n"
     ]
    },
    {
     "name": "stderr",
     "output_type": "stream",
     "text": [
      "Tiling image: 100%|██████████ [ time left: 00:00 ]\n",
      "Trying to set attribute `.obs` of view, copying.\n"
     ]
    },
    {
     "name": "stdout",
     "output_type": "stream",
     "text": [
      "Added tissue image to the object!\n",
      "Log transformation step is finished in adata.X\n"
     ]
    },
    {
     "name": "stderr",
     "output_type": "stream",
     "text": [
      "Tiling image: 100%|██████████ [ time left: 00:00 ]\n",
      "Trying to set attribute `.obs` of view, copying.\n"
     ]
    },
    {
     "name": "stdout",
     "output_type": "stream",
     "text": [
      "Added tissue image to the object!\n",
      "Log transformation step is finished in adata.X\n"
     ]
    },
    {
     "name": "stderr",
     "output_type": "stream",
     "text": [
      "Tiling image: 100%|██████████ [ time left: 00:00 ]\n",
      "Trying to set attribute `.obs` of view, copying.\n"
     ]
    },
    {
     "name": "stdout",
     "output_type": "stream",
     "text": [
      "Added tissue image to the object!\n"
     ]
    },
    {
     "name": "stderr",
     "output_type": "stream",
     "text": [
      "Tiling image:   0%|           [ time left: ? ]"
     ]
    },
    {
     "name": "stdout",
     "output_type": "stream",
     "text": [
      "Log transformation step is finished in adata.X\n"
     ]
    },
    {
     "name": "stderr",
     "output_type": "stream",
     "text": [
      "Tiling image: 100%|██████████ [ time left: 00:00 ]\n",
      "Trying to set attribute `.obs` of view, copying.\n"
     ]
    },
    {
     "name": "stdout",
     "output_type": "stream",
     "text": [
      "Added tissue image to the object!\n"
     ]
    },
    {
     "name": "stderr",
     "output_type": "stream",
     "text": [
      "Tiling image:   0%|           [ time left: ? ]"
     ]
    },
    {
     "name": "stdout",
     "output_type": "stream",
     "text": [
      "Log transformation step is finished in adata.X\n"
     ]
    },
    {
     "name": "stderr",
     "output_type": "stream",
     "text": [
      "Tiling image: 100%|██████████ [ time left: 00:00 ]\n",
      "Trying to set attribute `.obs` of view, copying.\n"
     ]
    },
    {
     "name": "stdout",
     "output_type": "stream",
     "text": [
      "Added tissue image to the object!\n"
     ]
    },
    {
     "name": "stderr",
     "output_type": "stream",
     "text": [
      "Tiling image:   0%|           [ time left: ? ]"
     ]
    },
    {
     "name": "stdout",
     "output_type": "stream",
     "text": [
      "Log transformation step is finished in adata.X\n"
     ]
    },
    {
     "name": "stderr",
     "output_type": "stream",
     "text": [
      "Tiling image: 100%|██████████ [ time left: 00:00 ]\n",
      "Trying to set attribute `.obs` of view, copying.\n"
     ]
    },
    {
     "name": "stdout",
     "output_type": "stream",
     "text": [
      "Added tissue image to the object!\n",
      "Log transformation step is finished in adata.X\n"
     ]
    },
    {
     "name": "stderr",
     "output_type": "stream",
     "text": [
      "Tiling image: 100%|██████████ [ time left: 00:00 ]\n",
      "Trying to set attribute `.obs` of view, copying.\n"
     ]
    },
    {
     "name": "stdout",
     "output_type": "stream",
     "text": [
      "Added tissue image to the object!\n",
      "Log transformation step is finished in adata.X\n"
     ]
    },
    {
     "name": "stderr",
     "output_type": "stream",
     "text": [
      "Tiling image: 100%|██████████ [ time left: 00:00 ]\n",
      "Trying to set attribute `.obs` of view, copying.\n"
     ]
    },
    {
     "name": "stdout",
     "output_type": "stream",
     "text": [
      "Added tissue image to the object!\n",
      "Log transformation step is finished in adata.X\n"
     ]
    },
    {
     "name": "stderr",
     "output_type": "stream",
     "text": [
      "Tiling image: 100%|██████████ [ time left: 00:00 ]\n",
      "Trying to set attribute `.obs` of view, copying.\n"
     ]
    },
    {
     "name": "stdout",
     "output_type": "stream",
     "text": [
      "Added tissue image to the object!\n"
     ]
    },
    {
     "name": "stderr",
     "output_type": "stream",
     "text": [
      "Tiling image:   0%|           [ time left: ? ]"
     ]
    },
    {
     "name": "stdout",
     "output_type": "stream",
     "text": [
      "Log transformation step is finished in adata.X\n"
     ]
    },
    {
     "name": "stderr",
     "output_type": "stream",
     "text": [
      "Tiling image: 100%|██████████ [ time left: 00:00 ]\n"
     ]
    }
   ],
   "source": [
    "BASE_PATH = Path(\"D:/onkar/Projects/Project_Spt.Transcriptomics/29ntw7sh4r-2/data\")\n",
    "TILE_PATH = BASE_PATH / \"tiles\"\n",
    "TILE_PATH.mkdir(parents=True, exist_ok=True)\n",
    "\n",
    "\n",
    "meta = pd.read_csv(BASE_PATH / \"metadata.csv\")\n",
    "meta = meta.iloc[:21,:]\n",
    "\n",
    "adata_list = []\n",
    "for index,row in meta.iterrows():\n",
    "    cm_path = BASE_PATH / row[\"stdata\"].split(\".gz\")[0]\n",
    "    spot_path = BASE_PATH / row[\"spots\"].split(\".gz\")[0]\n",
    "    img_path = BASE_PATH / row[\"img\"]\n",
    "    Sample = row[\"pateint\"] +\"_\"+ row[\"replicate\"]\n",
    "    adata = st.read.file_table(cm_path)\n",
    "    spot_df = pd.read_csv(spot_path,index_col=0)\n",
    "    comm_index = pd.Series(list(set(spot_df.index).intersection(set(adata.obs_names))))\n",
    "    adata = adata[comm_index]\n",
    "    adata.obs[\"imagecol\"] = spot_df[\"X\"]\n",
    "    adata.obs[\"imagerow\"] = spot_df[\"Y\"]\n",
    "    st.add.image(adata, img_path, library_id=Sample)\n",
    "    adata.obs[\"type\"] = row[\"type\"]\n",
    "    \n",
    "    st.pp.filter_genes(adata,min_cells=3)\n",
    "    sc.pp.filter_cells(adata,min_counts=100)\n",
    "    st.pp.log1p(adata)\n",
    "    \n",
    "    tiling(adata, out_path=TILE_PATH, crop_size=299)\n",
    "    adata_list.append(adata)\n",
    "\n",
    "adata_all = adata_list[0].concatenate(\n",
    "    adata_list[1:],\n",
    "    batch_key=\"library_id\",\n",
    "    uns_merge=\"unique\",\n",
    "    batch_categories=[list(d.keys())[0]\n",
    "                      for d in[adata_list[i].uns[\"spatial\"] \n",
    "                      for i in range(len(adata_list))\n",
    "                              ]\n",
    "                     ],\n",
    ")"
   ]
  },
  {
   "cell_type": "code",
   "execution_count": 9,
   "id": "d847b58e-d5f6-4dc7-8f9f-e7e732553794",
   "metadata": {
    "tags": []
   },
   "outputs": [
    {
     "data": {
      "text/html": [
       "<div>\n",
       "<style scoped>\n",
       "    .dataframe tbody tr th:only-of-type {\n",
       "        vertical-align: middle;\n",
       "    }\n",
       "\n",
       "    .dataframe tbody tr th {\n",
       "        vertical-align: top;\n",
       "    }\n",
       "\n",
       "    .dataframe thead th {\n",
       "        text-align: right;\n",
       "    }\n",
       "</style>\n",
       "<table border=\"1\" class=\"dataframe\">\n",
       "  <thead>\n",
       "    <tr style=\"text-align: right;\">\n",
       "      <th></th>\n",
       "      <th>A1BG</th>\n",
       "      <th>A2M</th>\n",
       "      <th>A4GALT</th>\n",
       "      <th>AAAS</th>\n",
       "      <th>AACS</th>\n",
       "      <th>AAGAB</th>\n",
       "      <th>AAK1</th>\n",
       "      <th>AAMDC</th>\n",
       "      <th>AAMP</th>\n",
       "      <th>AAR2</th>\n",
       "      <th>...</th>\n",
       "      <th>ZSWIM8</th>\n",
       "      <th>ZW10</th>\n",
       "      <th>ZWILCH</th>\n",
       "      <th>ZWINT</th>\n",
       "      <th>ZXDB</th>\n",
       "      <th>ZXDC</th>\n",
       "      <th>ZYG11B</th>\n",
       "      <th>ZYX</th>\n",
       "      <th>ZZEF1</th>\n",
       "      <th>ZZZ3</th>\n",
       "    </tr>\n",
       "  </thead>\n",
       "  <tbody>\n",
       "    <tr>\n",
       "      <th>9x26-BC23209_C1</th>\n",
       "      <td>0.0</td>\n",
       "      <td>0.000000</td>\n",
       "      <td>0.0</td>\n",
       "      <td>0.0</td>\n",
       "      <td>0.0</td>\n",
       "      <td>0.0</td>\n",
       "      <td>0.0</td>\n",
       "      <td>0.000000</td>\n",
       "      <td>0.000000</td>\n",
       "      <td>0.000000</td>\n",
       "      <td>...</td>\n",
       "      <td>0.000000</td>\n",
       "      <td>0.0</td>\n",
       "      <td>0.0</td>\n",
       "      <td>0.0</td>\n",
       "      <td>0.0</td>\n",
       "      <td>0.0</td>\n",
       "      <td>0.000000</td>\n",
       "      <td>0.0</td>\n",
       "      <td>0.000000</td>\n",
       "      <td>0.0</td>\n",
       "    </tr>\n",
       "    <tr>\n",
       "      <th>15x13-BC23209_C1</th>\n",
       "      <td>0.0</td>\n",
       "      <td>0.000000</td>\n",
       "      <td>0.0</td>\n",
       "      <td>0.0</td>\n",
       "      <td>0.0</td>\n",
       "      <td>0.0</td>\n",
       "      <td>0.0</td>\n",
       "      <td>0.000000</td>\n",
       "      <td>0.000000</td>\n",
       "      <td>1.098612</td>\n",
       "      <td>...</td>\n",
       "      <td>0.000000</td>\n",
       "      <td>0.0</td>\n",
       "      <td>0.0</td>\n",
       "      <td>0.0</td>\n",
       "      <td>0.0</td>\n",
       "      <td>0.0</td>\n",
       "      <td>0.000000</td>\n",
       "      <td>0.0</td>\n",
       "      <td>0.000000</td>\n",
       "      <td>0.0</td>\n",
       "    </tr>\n",
       "    <tr>\n",
       "      <th>6x22-BC23209_C1</th>\n",
       "      <td>0.0</td>\n",
       "      <td>0.000000</td>\n",
       "      <td>0.0</td>\n",
       "      <td>0.0</td>\n",
       "      <td>0.0</td>\n",
       "      <td>0.0</td>\n",
       "      <td>0.0</td>\n",
       "      <td>0.000000</td>\n",
       "      <td>0.000000</td>\n",
       "      <td>0.000000</td>\n",
       "      <td>...</td>\n",
       "      <td>1.098612</td>\n",
       "      <td>0.0</td>\n",
       "      <td>0.0</td>\n",
       "      <td>0.0</td>\n",
       "      <td>0.0</td>\n",
       "      <td>0.0</td>\n",
       "      <td>0.000000</td>\n",
       "      <td>0.0</td>\n",
       "      <td>0.000000</td>\n",
       "      <td>0.0</td>\n",
       "    </tr>\n",
       "    <tr>\n",
       "      <th>10x14-BC23209_C1</th>\n",
       "      <td>0.0</td>\n",
       "      <td>0.693147</td>\n",
       "      <td>0.0</td>\n",
       "      <td>0.0</td>\n",
       "      <td>0.0</td>\n",
       "      <td>0.0</td>\n",
       "      <td>0.0</td>\n",
       "      <td>0.693147</td>\n",
       "      <td>0.000000</td>\n",
       "      <td>0.000000</td>\n",
       "      <td>...</td>\n",
       "      <td>0.000000</td>\n",
       "      <td>0.0</td>\n",
       "      <td>0.0</td>\n",
       "      <td>0.0</td>\n",
       "      <td>0.0</td>\n",
       "      <td>0.0</td>\n",
       "      <td>1.098612</td>\n",
       "      <td>0.0</td>\n",
       "      <td>0.693147</td>\n",
       "      <td>0.0</td>\n",
       "    </tr>\n",
       "    <tr>\n",
       "      <th>19x12-BC23209_C1</th>\n",
       "      <td>0.0</td>\n",
       "      <td>0.000000</td>\n",
       "      <td>0.0</td>\n",
       "      <td>0.0</td>\n",
       "      <td>0.0</td>\n",
       "      <td>0.0</td>\n",
       "      <td>0.0</td>\n",
       "      <td>0.000000</td>\n",
       "      <td>0.000000</td>\n",
       "      <td>0.000000</td>\n",
       "      <td>...</td>\n",
       "      <td>0.000000</td>\n",
       "      <td>0.0</td>\n",
       "      <td>0.0</td>\n",
       "      <td>0.0</td>\n",
       "      <td>0.0</td>\n",
       "      <td>0.0</td>\n",
       "      <td>0.000000</td>\n",
       "      <td>0.0</td>\n",
       "      <td>0.000000</td>\n",
       "      <td>0.0</td>\n",
       "    </tr>\n",
       "    <tr>\n",
       "      <th>...</th>\n",
       "      <td>...</td>\n",
       "      <td>...</td>\n",
       "      <td>...</td>\n",
       "      <td>...</td>\n",
       "      <td>...</td>\n",
       "      <td>...</td>\n",
       "      <td>...</td>\n",
       "      <td>...</td>\n",
       "      <td>...</td>\n",
       "      <td>...</td>\n",
       "      <td>...</td>\n",
       "      <td>...</td>\n",
       "      <td>...</td>\n",
       "      <td>...</td>\n",
       "      <td>...</td>\n",
       "      <td>...</td>\n",
       "      <td>...</td>\n",
       "      <td>...</td>\n",
       "      <td>...</td>\n",
       "      <td>...</td>\n",
       "      <td>...</td>\n",
       "    </tr>\n",
       "    <tr>\n",
       "      <th>26x21-BC23269_D1</th>\n",
       "      <td>0.0</td>\n",
       "      <td>0.000000</td>\n",
       "      <td>0.0</td>\n",
       "      <td>0.0</td>\n",
       "      <td>0.0</td>\n",
       "      <td>0.0</td>\n",
       "      <td>0.0</td>\n",
       "      <td>0.000000</td>\n",
       "      <td>0.000000</td>\n",
       "      <td>0.000000</td>\n",
       "      <td>...</td>\n",
       "      <td>0.000000</td>\n",
       "      <td>0.0</td>\n",
       "      <td>0.0</td>\n",
       "      <td>0.0</td>\n",
       "      <td>0.0</td>\n",
       "      <td>0.0</td>\n",
       "      <td>0.693147</td>\n",
       "      <td>0.0</td>\n",
       "      <td>0.000000</td>\n",
       "      <td>0.0</td>\n",
       "    </tr>\n",
       "    <tr>\n",
       "      <th>8x23-BC23269_D1</th>\n",
       "      <td>0.0</td>\n",
       "      <td>0.000000</td>\n",
       "      <td>0.0</td>\n",
       "      <td>0.0</td>\n",
       "      <td>0.0</td>\n",
       "      <td>0.0</td>\n",
       "      <td>0.0</td>\n",
       "      <td>0.000000</td>\n",
       "      <td>0.000000</td>\n",
       "      <td>0.000000</td>\n",
       "      <td>...</td>\n",
       "      <td>0.000000</td>\n",
       "      <td>0.0</td>\n",
       "      <td>0.0</td>\n",
       "      <td>0.0</td>\n",
       "      <td>0.0</td>\n",
       "      <td>0.0</td>\n",
       "      <td>1.098612</td>\n",
       "      <td>0.0</td>\n",
       "      <td>0.693147</td>\n",
       "      <td>0.0</td>\n",
       "    </tr>\n",
       "    <tr>\n",
       "      <th>22x23-BC23269_D1</th>\n",
       "      <td>0.0</td>\n",
       "      <td>0.000000</td>\n",
       "      <td>0.0</td>\n",
       "      <td>0.0</td>\n",
       "      <td>0.0</td>\n",
       "      <td>0.0</td>\n",
       "      <td>0.0</td>\n",
       "      <td>0.000000</td>\n",
       "      <td>0.000000</td>\n",
       "      <td>0.000000</td>\n",
       "      <td>...</td>\n",
       "      <td>0.000000</td>\n",
       "      <td>0.0</td>\n",
       "      <td>0.0</td>\n",
       "      <td>0.0</td>\n",
       "      <td>0.0</td>\n",
       "      <td>0.0</td>\n",
       "      <td>0.000000</td>\n",
       "      <td>0.0</td>\n",
       "      <td>0.000000</td>\n",
       "      <td>0.0</td>\n",
       "    </tr>\n",
       "    <tr>\n",
       "      <th>12x16-BC23269_D1</th>\n",
       "      <td>0.0</td>\n",
       "      <td>0.693147</td>\n",
       "      <td>0.0</td>\n",
       "      <td>0.0</td>\n",
       "      <td>0.0</td>\n",
       "      <td>0.0</td>\n",
       "      <td>0.0</td>\n",
       "      <td>0.693147</td>\n",
       "      <td>0.693147</td>\n",
       "      <td>0.000000</td>\n",
       "      <td>...</td>\n",
       "      <td>0.000000</td>\n",
       "      <td>0.0</td>\n",
       "      <td>0.0</td>\n",
       "      <td>0.0</td>\n",
       "      <td>0.0</td>\n",
       "      <td>0.0</td>\n",
       "      <td>1.098612</td>\n",
       "      <td>0.0</td>\n",
       "      <td>0.693147</td>\n",
       "      <td>0.0</td>\n",
       "    </tr>\n",
       "    <tr>\n",
       "      <th>23x25-BC23269_D1</th>\n",
       "      <td>0.0</td>\n",
       "      <td>0.000000</td>\n",
       "      <td>0.0</td>\n",
       "      <td>0.0</td>\n",
       "      <td>0.0</td>\n",
       "      <td>0.0</td>\n",
       "      <td>0.0</td>\n",
       "      <td>0.000000</td>\n",
       "      <td>0.000000</td>\n",
       "      <td>0.000000</td>\n",
       "      <td>...</td>\n",
       "      <td>0.000000</td>\n",
       "      <td>0.0</td>\n",
       "      <td>0.0</td>\n",
       "      <td>0.0</td>\n",
       "      <td>0.0</td>\n",
       "      <td>0.0</td>\n",
       "      <td>0.000000</td>\n",
       "      <td>0.0</td>\n",
       "      <td>0.000000</td>\n",
       "      <td>0.0</td>\n",
       "    </tr>\n",
       "  </tbody>\n",
       "</table>\n",
       "<p>7932 rows × 9718 columns</p>\n",
       "</div>"
      ],
      "text/plain": [
       "                  A1BG       A2M  A4GALT  AAAS  AACS  AAGAB  AAK1     AAMDC  \\\n",
       "9x26-BC23209_C1    0.0  0.000000     0.0   0.0   0.0    0.0   0.0  0.000000   \n",
       "15x13-BC23209_C1   0.0  0.000000     0.0   0.0   0.0    0.0   0.0  0.000000   \n",
       "6x22-BC23209_C1    0.0  0.000000     0.0   0.0   0.0    0.0   0.0  0.000000   \n",
       "10x14-BC23209_C1   0.0  0.693147     0.0   0.0   0.0    0.0   0.0  0.693147   \n",
       "19x12-BC23209_C1   0.0  0.000000     0.0   0.0   0.0    0.0   0.0  0.000000   \n",
       "...                ...       ...     ...   ...   ...    ...   ...       ...   \n",
       "26x21-BC23269_D1   0.0  0.000000     0.0   0.0   0.0    0.0   0.0  0.000000   \n",
       "8x23-BC23269_D1    0.0  0.000000     0.0   0.0   0.0    0.0   0.0  0.000000   \n",
       "22x23-BC23269_D1   0.0  0.000000     0.0   0.0   0.0    0.0   0.0  0.000000   \n",
       "12x16-BC23269_D1   0.0  0.693147     0.0   0.0   0.0    0.0   0.0  0.693147   \n",
       "23x25-BC23269_D1   0.0  0.000000     0.0   0.0   0.0    0.0   0.0  0.000000   \n",
       "\n",
       "                      AAMP      AAR2  ...    ZSWIM8  ZW10  ZWILCH  ZWINT  \\\n",
       "9x26-BC23209_C1   0.000000  0.000000  ...  0.000000   0.0     0.0    0.0   \n",
       "15x13-BC23209_C1  0.000000  1.098612  ...  0.000000   0.0     0.0    0.0   \n",
       "6x22-BC23209_C1   0.000000  0.000000  ...  1.098612   0.0     0.0    0.0   \n",
       "10x14-BC23209_C1  0.000000  0.000000  ...  0.000000   0.0     0.0    0.0   \n",
       "19x12-BC23209_C1  0.000000  0.000000  ...  0.000000   0.0     0.0    0.0   \n",
       "...                    ...       ...  ...       ...   ...     ...    ...   \n",
       "26x21-BC23269_D1  0.000000  0.000000  ...  0.000000   0.0     0.0    0.0   \n",
       "8x23-BC23269_D1   0.000000  0.000000  ...  0.000000   0.0     0.0    0.0   \n",
       "22x23-BC23269_D1  0.000000  0.000000  ...  0.000000   0.0     0.0    0.0   \n",
       "12x16-BC23269_D1  0.693147  0.000000  ...  0.000000   0.0     0.0    0.0   \n",
       "23x25-BC23269_D1  0.000000  0.000000  ...  0.000000   0.0     0.0    0.0   \n",
       "\n",
       "                  ZXDB  ZXDC    ZYG11B  ZYX     ZZEF1  ZZZ3  \n",
       "9x26-BC23209_C1    0.0   0.0  0.000000  0.0  0.000000   0.0  \n",
       "15x13-BC23209_C1   0.0   0.0  0.000000  0.0  0.000000   0.0  \n",
       "6x22-BC23209_C1    0.0   0.0  0.000000  0.0  0.000000   0.0  \n",
       "10x14-BC23209_C1   0.0   0.0  1.098612  0.0  0.693147   0.0  \n",
       "19x12-BC23209_C1   0.0   0.0  0.000000  0.0  0.000000   0.0  \n",
       "...                ...   ...       ...  ...       ...   ...  \n",
       "26x21-BC23269_D1   0.0   0.0  0.693147  0.0  0.000000   0.0  \n",
       "8x23-BC23269_D1    0.0   0.0  1.098612  0.0  0.693147   0.0  \n",
       "22x23-BC23269_D1   0.0   0.0  0.000000  0.0  0.000000   0.0  \n",
       "12x16-BC23269_D1   0.0   0.0  1.098612  0.0  0.693147   0.0  \n",
       "23x25-BC23269_D1   0.0   0.0  0.000000  0.0  0.000000   0.0  \n",
       "\n",
       "[7932 rows x 9718 columns]"
      ]
     },
     "execution_count": 9,
     "metadata": {},
     "output_type": "execute_result"
    }
   ],
   "source": [
    "ems_df = pd.read_csv(\"D:/onkar/Projects/Project_Spt.Transcriptomics/29ntw7sh4r-2/data/ensembl.tsv\", sep=\"\\t\")\n",
    "a = adata_all.var_names.intersection(ems_df[\"Ensembl ID(supplied by Ensembl)\"])\n",
    "b = ems_df[\"Approved symbol\"][ems_df[\"Ensembl ID(supplied by Ensembl)\"].isin(a)]\n",
    "var_dic = dict(zip(a,b))\n",
    "adata_all = adata_all[:,a].copy()\n",
    "adata_all.var_names = adata_all.var_names.map(var_dic)\n",
    "adata_all.to_df()"
   ]
  },
  {
   "cell_type": "markdown",
   "id": "015b5f5a-65c7-4700-ab3c-2a28bd66444f",
   "metadata": {},
   "source": [
    "# ST-Net Test Set"
   ]
  },
  {
   "cell_type": "code",
   "execution_count": 4,
   "id": "dd673f24-efe8-4189-99d0-8ffa8f8da3e1",
   "metadata": {
    "collapsed": true,
    "jupyter": {
     "outputs_hidden": true
    },
    "tags": []
   },
   "outputs": [
    {
     "name": "stderr",
     "output_type": "stream",
     "text": [
      "Trying to set attribute `.obs` of view, copying.\n"
     ]
    },
    {
     "name": "stdout",
     "output_type": "stream",
     "text": [
      "Added tissue image to the object!\n",
      "Log transformation step is finished in adata.X\n"
     ]
    },
    {
     "name": "stderr",
     "output_type": "stream",
     "text": [
      "Tiling image: 100%|██████████ [ time left: 00:00 ]\n",
      "Trying to set attribute `.obs` of view, copying.\n"
     ]
    },
    {
     "name": "stdout",
     "output_type": "stream",
     "text": [
      "Added tissue image to the object!\n",
      "Log transformation step is finished in adata.X\n"
     ]
    },
    {
     "name": "stderr",
     "output_type": "stream",
     "text": [
      "Tiling image: 100%|██████████ [ time left: 00:00 ]\n",
      "Trying to set attribute `.obs` of view, copying.\n"
     ]
    },
    {
     "name": "stdout",
     "output_type": "stream",
     "text": [
      "Added tissue image to the object!\n",
      "Log transformation step is finished in adata.X\n"
     ]
    },
    {
     "name": "stderr",
     "output_type": "stream",
     "text": [
      "Tiling image: 100%|██████████ [ time left: 00:00 ]\n",
      "Trying to set attribute `.obs` of view, copying.\n"
     ]
    },
    {
     "name": "stdout",
     "output_type": "stream",
     "text": [
      "Added tissue image to the object!\n",
      "Log transformation step is finished in adata.X\n"
     ]
    },
    {
     "name": "stderr",
     "output_type": "stream",
     "text": [
      "Tiling image: 100%|██████████ [ time left: 00:00 ]\n",
      "Trying to set attribute `.obs` of view, copying.\n"
     ]
    },
    {
     "name": "stdout",
     "output_type": "stream",
     "text": [
      "Added tissue image to the object!\n",
      "Log transformation step is finished in adata.X\n"
     ]
    },
    {
     "name": "stderr",
     "output_type": "stream",
     "text": [
      "Tiling image: 100%|██████████ [ time left: 00:00 ]\n",
      "Trying to set attribute `.obs` of view, copying.\n"
     ]
    },
    {
     "name": "stdout",
     "output_type": "stream",
     "text": [
      "Added tissue image to the object!\n",
      "Log transformation step is finished in adata.X\n"
     ]
    },
    {
     "name": "stderr",
     "output_type": "stream",
     "text": [
      "Tiling image: 100%|██████████ [ time left: 00:00 ]\n"
     ]
    }
   ],
   "source": [
    "BASE_PATH_test = Path(\"D:/onkar/Projects/Project_Spt.Transcriptomics/29ntw7sh4r-2/data\")\n",
    "TILE_PATH_test = BASE_PATH_test / \"tiles_test\"\n",
    "TILE_PATH_test.mkdir(parents=True, exist_ok=True)\n",
    "\n",
    "\n",
    "meta_test = pd.read_csv(BASE_PATH_test / \"metadata.csv\")\n",
    "meta_test = meta_test.iloc[21:27,:]\n",
    "\n",
    "adata_list_test = []\n",
    "for index,row in meta_test.iterrows():\n",
    "    cm_path_test = BASE_PATH_test / row[\"stdata\"].split(\".gz\")[0]\n",
    "    spot_path_test = BASE_PATH_test / row[\"spots\"].split(\".gz\")[0]\n",
    "    img_path_test = BASE_PATH_test / row[\"img\"]\n",
    "    Sample_test = row[\"pateint\"] +\"_\"+ row[\"replicate\"]\n",
    "    adata_test = st.read.file_table(cm_path_test)\n",
    "    spot_df_test = pd.read_csv(spot_path_test,index_col=0)\n",
    "    comm_index_test = pd.Series(list(set(spot_df_test.index).intersection(set(adata_test.obs_names))))\n",
    "    adata_test = adata_test[comm_index_test]\n",
    "    adata_test.obs[\"imagecol\"] = spot_df_test[\"X\"]\n",
    "    adata_test.obs[\"imagerow\"] = spot_df_test[\"Y\"]\n",
    "    st.add.image(adata_test, img_path_test, library_id=Sample_test)\n",
    "    adata_test.obs[\"type\"] = row[\"type\"]\n",
    "    \n",
    "    st.pp.filter_genes(adata_test,min_cells=3)\n",
    "    sc.pp.filter_cells(adata_test,min_counts=100)\n",
    "    st.pp.log1p(adata_test)\n",
    "    \n",
    "    tiling(adata_test, out_path=TILE_PATH_test, crop_size=299)\n",
    "    adata_list_test.append(adata_test)\n",
    "\n",
    "adata_all_test = adata_list_test[0].concatenate(\n",
    "    adata_list_test[1:],\n",
    "    batch_key=\"library_id\",\n",
    "    uns_merge=\"unique\",\n",
    "    batch_categories=[list(d.keys())[0]\n",
    "                      for d in[adata_list_test[i].uns[\"spatial\"] \n",
    "                      for i in range(len(adata_list_test))\n",
    "                              ]\n",
    "                     ],\n",
    ")"
   ]
  },
  {
   "cell_type": "code",
   "execution_count": 7,
   "id": "d9cc2b58-9ecf-4a0d-828c-ac38cdfaa284",
   "metadata": {},
   "outputs": [
    {
     "name": "stderr",
     "output_type": "stream",
     "text": [
      "Variable names are not unique. To make them unique, call `.var_names_make_unique`.\n"
     ]
    },
    {
     "data": {
      "text/html": [
       "<div>\n",
       "<style scoped>\n",
       "    .dataframe tbody tr th:only-of-type {\n",
       "        vertical-align: middle;\n",
       "    }\n",
       "\n",
       "    .dataframe tbody tr th {\n",
       "        vertical-align: top;\n",
       "    }\n",
       "\n",
       "    .dataframe thead th {\n",
       "        text-align: right;\n",
       "    }\n",
       "</style>\n",
       "<table border=\"1\" class=\"dataframe\">\n",
       "  <thead>\n",
       "    <tr style=\"text-align: right;\">\n",
       "      <th></th>\n",
       "      <th>A1BG</th>\n",
       "      <th>A2M</th>\n",
       "      <th>A4GALT</th>\n",
       "      <th>AAAS</th>\n",
       "      <th>AACS</th>\n",
       "      <th>AAGAB</th>\n",
       "      <th>AAK1</th>\n",
       "      <th>AAMDC</th>\n",
       "      <th>AAMP</th>\n",
       "      <th>AAR2</th>\n",
       "      <th>...</th>\n",
       "      <th>ZW10</th>\n",
       "      <th>ZWILCH</th>\n",
       "      <th>ZWINT</th>\n",
       "      <th>ZXDB</th>\n",
       "      <th>ZXDC</th>\n",
       "      <th>ZYG11A</th>\n",
       "      <th>ZYG11B</th>\n",
       "      <th>ZYX</th>\n",
       "      <th>ZZEF1</th>\n",
       "      <th>ZZZ3</th>\n",
       "    </tr>\n",
       "  </thead>\n",
       "  <tbody>\n",
       "    <tr>\n",
       "      <th>15x13-BC23272_D2</th>\n",
       "      <td>0.0</td>\n",
       "      <td>0.000000</td>\n",
       "      <td>0.000000</td>\n",
       "      <td>0.0</td>\n",
       "      <td>0.0</td>\n",
       "      <td>0.0</td>\n",
       "      <td>0.000000</td>\n",
       "      <td>0.000000</td>\n",
       "      <td>0.0</td>\n",
       "      <td>0.0</td>\n",
       "      <td>...</td>\n",
       "      <td>0.0</td>\n",
       "      <td>0.000000</td>\n",
       "      <td>0.0</td>\n",
       "      <td>0.000000</td>\n",
       "      <td>0.000000</td>\n",
       "      <td>0.000000</td>\n",
       "      <td>0.0</td>\n",
       "      <td>0.0</td>\n",
       "      <td>0.000000</td>\n",
       "      <td>0.0</td>\n",
       "    </tr>\n",
       "    <tr>\n",
       "      <th>28x26-BC23272_D2</th>\n",
       "      <td>0.0</td>\n",
       "      <td>0.000000</td>\n",
       "      <td>0.000000</td>\n",
       "      <td>0.0</td>\n",
       "      <td>0.0</td>\n",
       "      <td>0.0</td>\n",
       "      <td>0.000000</td>\n",
       "      <td>0.000000</td>\n",
       "      <td>0.0</td>\n",
       "      <td>0.0</td>\n",
       "      <td>...</td>\n",
       "      <td>0.0</td>\n",
       "      <td>0.000000</td>\n",
       "      <td>0.0</td>\n",
       "      <td>0.000000</td>\n",
       "      <td>0.693147</td>\n",
       "      <td>0.000000</td>\n",
       "      <td>0.0</td>\n",
       "      <td>0.0</td>\n",
       "      <td>0.000000</td>\n",
       "      <td>0.0</td>\n",
       "    </tr>\n",
       "    <tr>\n",
       "      <th>10x14-BC23272_D2</th>\n",
       "      <td>0.0</td>\n",
       "      <td>0.000000</td>\n",
       "      <td>0.000000</td>\n",
       "      <td>0.0</td>\n",
       "      <td>0.0</td>\n",
       "      <td>0.0</td>\n",
       "      <td>0.000000</td>\n",
       "      <td>0.000000</td>\n",
       "      <td>0.0</td>\n",
       "      <td>0.0</td>\n",
       "      <td>...</td>\n",
       "      <td>0.0</td>\n",
       "      <td>0.693147</td>\n",
       "      <td>0.0</td>\n",
       "      <td>0.000000</td>\n",
       "      <td>0.000000</td>\n",
       "      <td>0.000000</td>\n",
       "      <td>0.0</td>\n",
       "      <td>0.0</td>\n",
       "      <td>0.000000</td>\n",
       "      <td>0.0</td>\n",
       "    </tr>\n",
       "    <tr>\n",
       "      <th>10x9-BC23272_D2</th>\n",
       "      <td>0.0</td>\n",
       "      <td>0.000000</td>\n",
       "      <td>0.000000</td>\n",
       "      <td>0.0</td>\n",
       "      <td>0.0</td>\n",
       "      <td>0.0</td>\n",
       "      <td>0.000000</td>\n",
       "      <td>0.000000</td>\n",
       "      <td>0.0</td>\n",
       "      <td>0.0</td>\n",
       "      <td>...</td>\n",
       "      <td>0.0</td>\n",
       "      <td>1.386294</td>\n",
       "      <td>0.0</td>\n",
       "      <td>0.000000</td>\n",
       "      <td>0.000000</td>\n",
       "      <td>0.000000</td>\n",
       "      <td>0.0</td>\n",
       "      <td>0.0</td>\n",
       "      <td>0.000000</td>\n",
       "      <td>0.0</td>\n",
       "    </tr>\n",
       "    <tr>\n",
       "      <th>3x21-BC23272_D2</th>\n",
       "      <td>0.0</td>\n",
       "      <td>0.000000</td>\n",
       "      <td>0.000000</td>\n",
       "      <td>0.0</td>\n",
       "      <td>0.0</td>\n",
       "      <td>0.0</td>\n",
       "      <td>0.000000</td>\n",
       "      <td>0.000000</td>\n",
       "      <td>0.0</td>\n",
       "      <td>0.0</td>\n",
       "      <td>...</td>\n",
       "      <td>0.0</td>\n",
       "      <td>0.000000</td>\n",
       "      <td>0.0</td>\n",
       "      <td>0.693147</td>\n",
       "      <td>0.000000</td>\n",
       "      <td>0.000000</td>\n",
       "      <td>0.0</td>\n",
       "      <td>0.0</td>\n",
       "      <td>1.098612</td>\n",
       "      <td>0.0</td>\n",
       "    </tr>\n",
       "    <tr>\n",
       "      <th>...</th>\n",
       "      <td>...</td>\n",
       "      <td>...</td>\n",
       "      <td>...</td>\n",
       "      <td>...</td>\n",
       "      <td>...</td>\n",
       "      <td>...</td>\n",
       "      <td>...</td>\n",
       "      <td>...</td>\n",
       "      <td>...</td>\n",
       "      <td>...</td>\n",
       "      <td>...</td>\n",
       "      <td>...</td>\n",
       "      <td>...</td>\n",
       "      <td>...</td>\n",
       "      <td>...</td>\n",
       "      <td>...</td>\n",
       "      <td>...</td>\n",
       "      <td>...</td>\n",
       "      <td>...</td>\n",
       "      <td>...</td>\n",
       "      <td>...</td>\n",
       "    </tr>\n",
       "    <tr>\n",
       "      <th>26x21-BC23277_E2</th>\n",
       "      <td>0.0</td>\n",
       "      <td>0.000000</td>\n",
       "      <td>0.000000</td>\n",
       "      <td>0.0</td>\n",
       "      <td>0.0</td>\n",
       "      <td>0.0</td>\n",
       "      <td>0.000000</td>\n",
       "      <td>0.000000</td>\n",
       "      <td>0.0</td>\n",
       "      <td>0.0</td>\n",
       "      <td>...</td>\n",
       "      <td>0.0</td>\n",
       "      <td>0.000000</td>\n",
       "      <td>0.0</td>\n",
       "      <td>0.000000</td>\n",
       "      <td>0.000000</td>\n",
       "      <td>0.000000</td>\n",
       "      <td>0.0</td>\n",
       "      <td>0.0</td>\n",
       "      <td>0.693147</td>\n",
       "      <td>0.0</td>\n",
       "    </tr>\n",
       "    <tr>\n",
       "      <th>8x23-BC23277_E2</th>\n",
       "      <td>0.0</td>\n",
       "      <td>0.000000</td>\n",
       "      <td>0.693147</td>\n",
       "      <td>0.0</td>\n",
       "      <td>0.0</td>\n",
       "      <td>0.0</td>\n",
       "      <td>0.000000</td>\n",
       "      <td>0.000000</td>\n",
       "      <td>0.0</td>\n",
       "      <td>0.0</td>\n",
       "      <td>...</td>\n",
       "      <td>0.0</td>\n",
       "      <td>0.000000</td>\n",
       "      <td>0.0</td>\n",
       "      <td>0.000000</td>\n",
       "      <td>1.098612</td>\n",
       "      <td>0.000000</td>\n",
       "      <td>0.0</td>\n",
       "      <td>0.0</td>\n",
       "      <td>0.000000</td>\n",
       "      <td>0.0</td>\n",
       "    </tr>\n",
       "    <tr>\n",
       "      <th>22x23-BC23277_E2</th>\n",
       "      <td>0.0</td>\n",
       "      <td>0.000000</td>\n",
       "      <td>0.000000</td>\n",
       "      <td>0.0</td>\n",
       "      <td>0.0</td>\n",
       "      <td>0.0</td>\n",
       "      <td>0.000000</td>\n",
       "      <td>1.098612</td>\n",
       "      <td>0.0</td>\n",
       "      <td>0.0</td>\n",
       "      <td>...</td>\n",
       "      <td>0.0</td>\n",
       "      <td>0.000000</td>\n",
       "      <td>0.0</td>\n",
       "      <td>0.000000</td>\n",
       "      <td>0.000000</td>\n",
       "      <td>0.000000</td>\n",
       "      <td>0.0</td>\n",
       "      <td>0.0</td>\n",
       "      <td>0.000000</td>\n",
       "      <td>0.0</td>\n",
       "    </tr>\n",
       "    <tr>\n",
       "      <th>12x16-BC23277_E2</th>\n",
       "      <td>0.0</td>\n",
       "      <td>1.098612</td>\n",
       "      <td>0.693147</td>\n",
       "      <td>0.0</td>\n",
       "      <td>0.0</td>\n",
       "      <td>0.0</td>\n",
       "      <td>1.386294</td>\n",
       "      <td>0.000000</td>\n",
       "      <td>0.0</td>\n",
       "      <td>0.0</td>\n",
       "      <td>...</td>\n",
       "      <td>0.0</td>\n",
       "      <td>0.000000</td>\n",
       "      <td>0.0</td>\n",
       "      <td>0.000000</td>\n",
       "      <td>0.693147</td>\n",
       "      <td>0.693147</td>\n",
       "      <td>0.0</td>\n",
       "      <td>0.0</td>\n",
       "      <td>0.000000</td>\n",
       "      <td>0.0</td>\n",
       "    </tr>\n",
       "    <tr>\n",
       "      <th>16x29-BC23277_E2</th>\n",
       "      <td>0.0</td>\n",
       "      <td>0.000000</td>\n",
       "      <td>0.000000</td>\n",
       "      <td>0.0</td>\n",
       "      <td>0.0</td>\n",
       "      <td>0.0</td>\n",
       "      <td>1.098612</td>\n",
       "      <td>0.000000</td>\n",
       "      <td>0.0</td>\n",
       "      <td>0.0</td>\n",
       "      <td>...</td>\n",
       "      <td>0.0</td>\n",
       "      <td>0.000000</td>\n",
       "      <td>0.0</td>\n",
       "      <td>0.000000</td>\n",
       "      <td>0.000000</td>\n",
       "      <td>0.000000</td>\n",
       "      <td>0.0</td>\n",
       "      <td>0.0</td>\n",
       "      <td>0.000000</td>\n",
       "      <td>0.0</td>\n",
       "    </tr>\n",
       "  </tbody>\n",
       "</table>\n",
       "<p>3273 rows × 11199 columns</p>\n",
       "</div>"
      ],
      "text/plain": [
       "                  A1BG       A2M    A4GALT  AAAS  AACS  AAGAB      AAK1  \\\n",
       "15x13-BC23272_D2   0.0  0.000000  0.000000   0.0   0.0    0.0  0.000000   \n",
       "28x26-BC23272_D2   0.0  0.000000  0.000000   0.0   0.0    0.0  0.000000   \n",
       "10x14-BC23272_D2   0.0  0.000000  0.000000   0.0   0.0    0.0  0.000000   \n",
       "10x9-BC23272_D2    0.0  0.000000  0.000000   0.0   0.0    0.0  0.000000   \n",
       "3x21-BC23272_D2    0.0  0.000000  0.000000   0.0   0.0    0.0  0.000000   \n",
       "...                ...       ...       ...   ...   ...    ...       ...   \n",
       "26x21-BC23277_E2   0.0  0.000000  0.000000   0.0   0.0    0.0  0.000000   \n",
       "8x23-BC23277_E2    0.0  0.000000  0.693147   0.0   0.0    0.0  0.000000   \n",
       "22x23-BC23277_E2   0.0  0.000000  0.000000   0.0   0.0    0.0  0.000000   \n",
       "12x16-BC23277_E2   0.0  1.098612  0.693147   0.0   0.0    0.0  1.386294   \n",
       "16x29-BC23277_E2   0.0  0.000000  0.000000   0.0   0.0    0.0  1.098612   \n",
       "\n",
       "                     AAMDC  AAMP  AAR2  ...  ZW10    ZWILCH  ZWINT      ZXDB  \\\n",
       "15x13-BC23272_D2  0.000000   0.0   0.0  ...   0.0  0.000000    0.0  0.000000   \n",
       "28x26-BC23272_D2  0.000000   0.0   0.0  ...   0.0  0.000000    0.0  0.000000   \n",
       "10x14-BC23272_D2  0.000000   0.0   0.0  ...   0.0  0.693147    0.0  0.000000   \n",
       "10x9-BC23272_D2   0.000000   0.0   0.0  ...   0.0  1.386294    0.0  0.000000   \n",
       "3x21-BC23272_D2   0.000000   0.0   0.0  ...   0.0  0.000000    0.0  0.693147   \n",
       "...                    ...   ...   ...  ...   ...       ...    ...       ...   \n",
       "26x21-BC23277_E2  0.000000   0.0   0.0  ...   0.0  0.000000    0.0  0.000000   \n",
       "8x23-BC23277_E2   0.000000   0.0   0.0  ...   0.0  0.000000    0.0  0.000000   \n",
       "22x23-BC23277_E2  1.098612   0.0   0.0  ...   0.0  0.000000    0.0  0.000000   \n",
       "12x16-BC23277_E2  0.000000   0.0   0.0  ...   0.0  0.000000    0.0  0.000000   \n",
       "16x29-BC23277_E2  0.000000   0.0   0.0  ...   0.0  0.000000    0.0  0.000000   \n",
       "\n",
       "                      ZXDC    ZYG11A  ZYG11B  ZYX     ZZEF1  ZZZ3  \n",
       "15x13-BC23272_D2  0.000000  0.000000     0.0  0.0  0.000000   0.0  \n",
       "28x26-BC23272_D2  0.693147  0.000000     0.0  0.0  0.000000   0.0  \n",
       "10x14-BC23272_D2  0.000000  0.000000     0.0  0.0  0.000000   0.0  \n",
       "10x9-BC23272_D2   0.000000  0.000000     0.0  0.0  0.000000   0.0  \n",
       "3x21-BC23272_D2   0.000000  0.000000     0.0  0.0  1.098612   0.0  \n",
       "...                    ...       ...     ...  ...       ...   ...  \n",
       "26x21-BC23277_E2  0.000000  0.000000     0.0  0.0  0.693147   0.0  \n",
       "8x23-BC23277_E2   1.098612  0.000000     0.0  0.0  0.000000   0.0  \n",
       "22x23-BC23277_E2  0.000000  0.000000     0.0  0.0  0.000000   0.0  \n",
       "12x16-BC23277_E2  0.693147  0.693147     0.0  0.0  0.000000   0.0  \n",
       "16x29-BC23277_E2  0.000000  0.000000     0.0  0.0  0.000000   0.0  \n",
       "\n",
       "[3273 rows x 11199 columns]"
      ]
     },
     "execution_count": 7,
     "metadata": {},
     "output_type": "execute_result"
    }
   ],
   "source": [
    "ems_df_test = pd.read_csv(\"D:/onkar/Projects/Project_Spt.Transcriptomics/29ntw7sh4r-2/data/ensembl.tsv\", sep=\"\\t\")\n",
    "a_test = adata_all_test.var_names.intersection(ems_df_test[\"Ensembl ID(supplied by Ensembl)\"])\n",
    "b_test = ems_df_test[\"Approved symbol\"][ems_df_test[\"Ensembl ID(supplied by Ensembl)\"].isin(a)]\n",
    "var_dic_test = dict(zip(a_test,b_test))\n",
    "adata_all_test = adata_all_test[:,a_test].copy()\n",
    "adata_all_test.var_names = adata_all_test.var_names.map(var_dic_test)\n",
    "adata_all_test.to_df()"
   ]
  },
  {
   "cell_type": "markdown",
   "id": "casual-right",
   "metadata": {},
   "source": [
    "# ResNet50 Features"
   ]
  },
  {
   "cell_type": "markdown",
   "id": "3bed4208-a173-48c5-baa0-66583ea7c40c",
   "metadata": {},
   "source": [
    "## ST-Net"
   ]
  },
  {
   "cell_type": "markdown",
   "id": "69efaf4b-94d2-4b2d-b4bd-d76c05852f8c",
   "metadata": {},
   "source": [
    "### Train"
   ]
  },
  {
   "cell_type": "code",
   "execution_count": 10,
   "id": "73c3ef82-8023-40fe-ae25-0c7e09f031bc",
   "metadata": {},
   "outputs": [],
   "source": [
    "import os; import pandas as pd; import numpy as np\n",
    "import PIL; from PIL import Image\n",
    "PIL.Image.MAX_IMAGE_PIXELS = 933120000\n",
    "import os; import glob\n",
    "from PIL import Image; import matplotlib.pyplot as plt; \n",
    "from keras.utils import np_utils\n",
    "from keras.models import Sequential\n",
    "from keras.applications import VGG16, ResNet50, inception_v3, DenseNet121\n",
    "from keras.applications import imagenet_utils\n",
    "from keras.callbacks import ModelCheckpoint\n",
    "from keras.preprocessing.image import load_img\n",
    "from keras.preprocessing.image import img_to_array\n",
    "from keras.layers import Dense, Conv2D, MaxPooling2D\n",
    "from keras.layers import Dropout, Flatten, GlobalAveragePooling2D\n",
    "import warnings\n",
    "\n",
    "wd = \"D:/onkar/Projects/Project_Spt.Transcriptomics/Output_files\"\n",
    "\n",
    "def ResNet50_features_train(test, pre_model):\n",
    "    \n",
    "    x_scratch_test = []\n",
    "    for imagePath in test:\n",
    "        image = load_img(imagePath, target_size=(299,299))\n",
    "        image = img_to_array(image)\n",
    "        image = np.expand_dims(image, axis=0)\n",
    "        x_scratch_test.append(image)\n",
    "\n",
    "    x_test = np.vstack(x_scratch_test)\n",
    "    features_test = pre_model.predict(x_test, batch_size=32)\n",
    "    features_flatten_test = features_test.reshape((features_test.shape[0], 2048))\n",
    "    features_flatten_test = pd.DataFrame(features_flatten_test)\n",
    "    features_flatten_test.index = adata_all.obsm.to_df().index\n",
    "    adata_all.obsm[\"Resnet50_Train_Features\"] = features_flatten_test\n",
    "    \n",
    "train = adata_all.obs[\"tile_path\"]\n",
    "model = ResNet50(weights=\"imagenet\", include_top=False, input_shape=(299,299, 3), pooling=\"avg\")\n",
    "ResNet50_features_train(train, model)"
   ]
  },
  {
   "cell_type": "markdown",
   "id": "30893c0d-13d8-4337-94be-67b6f3d70565",
   "metadata": {},
   "source": [
    "### Test"
   ]
  },
  {
   "cell_type": "code",
   "execution_count": 12,
   "id": "d234732d-6341-43fb-abd4-c525871d0569",
   "metadata": {},
   "outputs": [],
   "source": [
    "wd = \"D:/onkar/Projects/Project_Spt.Transcriptomics/Output_files\"\n",
    "\n",
    "def ResNet50_features_test(test, pre_model):\n",
    "    \n",
    "    x_scratch_test = []\n",
    "    for imagePath in test:\n",
    "        image = load_img(imagePath, target_size=(299,299))\n",
    "        image = img_to_array(image)\n",
    "        image = np.expand_dims(image, axis=0)\n",
    "        x_scratch_test.append(image)\n",
    "\n",
    "    x_test = np.vstack(x_scratch_test)\n",
    "    features_test = pre_model.predict(x_test, batch_size=32)\n",
    "    features_flatten_test = features_test.reshape((features_test.shape[0], 2048))\n",
    "    features_flatten_test = pd.DataFrame(features_flatten_test)\n",
    "    features_flatten_test.index = adata_all_test.obsm.to_df().index\n",
    "    adata_all_test.obsm[\"Resnet50_Test_Features\"] = features_flatten_test\n",
    "    \n",
    "#train = Sample1.obs[\"tile_path\"]\n",
    "test = adata_all_test.obs[\"tile_path\"]\n",
    "ResNet50_features_test(test, model)"
   ]
  },
  {
   "cell_type": "code",
   "execution_count": 13,
   "id": "f8913db3-5edc-4e6c-b06d-2b07c3a1661e",
   "metadata": {},
   "outputs": [],
   "source": [
    "adata_all.obsm[\"Resnet50_Train_Features\"].to_csv(wd+'/Filtered_ST-Net_train.csv')\n",
    "adata_all_test.obsm[\"Resnet50_Test_Features\"].to_csv(wd+'/Filtered_ST-Net_test.csv')"
   ]
  },
  {
   "cell_type": "markdown",
   "id": "fbd68d65-4b35-4537-963b-4f7e1ff579a3",
   "metadata": {},
   "source": [
    "## ST-Net"
   ]
  },
  {
   "cell_type": "code",
   "execution_count": 14,
   "id": "79aa97b7-ff51-4c93-b41c-42443f3dd5cf",
   "metadata": {},
   "outputs": [],
   "source": [
    "wd = \"D:/onkar/Projects/Project_Spt.Transcriptomics/Output_files/\"\n",
    "biomarker_list_ST = ['COX6C', \"MALAT1\", 'TTLL12', \"PABPC1\", \"GNAS\", \"HSP90AB1\", \"ATP1A1\", \"B2M\", \"FASN\", \"ACTG1\", \"HLA-B\"]\n",
    "\n",
    "\n",
    "X_ST = adata_all.obsm[\"Resnet50_Train_Features\"]#pd.read_csv('D:/onkar/Projects/Project_Spt.Transcriptomics/Output_files/Resnet_unnorm_train.csv')#\n",
    "#X_ST = X_ST.iloc[:,1:]\n",
    "test_X_ST = adata_all_test.obsm[\"Resnet50_Test_Features\"]#Sample3.obsm[\"Resnet50_Test_Features\"]#pd.read_csv('D:/onkar/Projects/Project_Spt.Transcriptomics/Output_files/Filtered_ST-Net.csv')#\n",
    "#test_X_ST = test_X_ST.iloc[:,1:]\n",
    "\n",
    "Y_ST = adata_all.to_df()#[adata_all.to_df().sum().sort_values(ascending=False).index[:10]] \n",
    "test_Y_ST = adata_all_test.to_df()#[adata_all.to_df().sum().sort_values(ascending=False).index[:10]] \n",
    "number_of_top_genes = 10\n",
    "model = lgb.LGBMClassifier()#MLPClassifier(alpha=1, max_iter=7500)#\n",
    "\n",
    "def multiclass_roc_auc_score(truth, pred, average=\"macro\"):\n",
    "    lb = LabelBinarizer()\n",
    "    lb.fit(truth)\n",
    "    truth = lb.transform(truth)\n",
    "    pred = lb.transform(pred)\n",
    "    return roc_auc_score(truth, pred, average=average)\n",
    "\n",
    "Y_ST = Y_ST[biomarker_list_ST]#.iloc[:,:number_of_top_genes]#\n",
    "genes = Y_ST.columns\n",
    "MinMax_scaler_y_ST = preprocessing.MinMaxScaler(feature_range =(0, 1))\n",
    "Y_ST = MinMax_scaler_y_ST.fit_transform(Y_ST) \n",
    "Y_ST = pd.DataFrame(data=Y_ST)\n",
    "Y_ST = Y_ST.apply(lambda x: pd.cut(x, bins=[-0.01, 0.5, 1.05], labels = [0, 1]))\n",
    "#Y=Y.apply(lambda x: pd.qcut(x, 3,duplicates='drop',labels=False))\n",
    "\n",
    "test_Y_ST=test_Y_ST[biomarker_list_ST]#.iloc[:,:number_of_top_genes]#\n",
    "test_Y_ST=MinMax_scaler_y_ST.fit_transform(test_Y_ST)\n",
    "test_Y_ST=pd.DataFrame(data=test_Y_ST)\n",
    "test_Y_ST = test_Y_ST.apply(lambda x: pd.cut(x, bins=[-0.01, 0.5, 1.05], labels = [0, 1]))\n",
    "#test_Y=test_Y.apply(lambda x: pd.qcut(x, 3,duplicates='drop',labels=False))\n",
    "\n",
    "Y_ST = Y_ST.astype('int64')\n",
    "test_Y_ST = test_Y_ST.astype('int64')"
   ]
  },
  {
   "cell_type": "code",
   "execution_count": 15,
   "id": "a52d4b3f-1f9f-42c8-8e65-3d031b0ed075",
   "metadata": {},
   "outputs": [],
   "source": [
    "clf_2 = MultiOutputClassifier(model).fit(X_ST, Y_ST)"
   ]
  },
  {
   "cell_type": "code",
   "execution_count": 16,
   "id": "07dab8f8-e0ac-4edc-9576-422d8713a00e",
   "metadata": {},
   "outputs": [],
   "source": [
    "y_pred_test_1_ST = clf_2.predict_proba(test_X_ST)\n",
    "y_pred_test_1_ST = np.array(y_pred_test_1_ST)\n",
    "\n",
    "y_pred_test_2_ST = clf_2.predict(test_X_ST)\n",
    "y_pred_test_2_ST = pd.DataFrame(y_pred_test_2_ST)"
   ]
  },
  {
   "cell_type": "code",
   "execution_count": 17,
   "id": "34b875af-2f7d-4def-a6a4-d39b19b5e250",
   "metadata": {},
   "outputs": [],
   "source": [
    "auroc_ST = []\n",
    "for col in test_Y_ST:\n",
    "    score_multi_ST = roc_auc_score(test_Y_ST[col], y_pred_test_2_ST[col])#, average='weighted'\n",
    "    auroc_ST.append(score_multi_ST)\n",
    "    \n",
    "result_ST = pd.DataFrame()\n",
    "result_ST[\"auroc\"] = auroc_ST\n",
    "result_ST.index = genes"
   ]
  },
  {
   "cell_type": "code",
   "execution_count": 18,
   "id": "c242e442-3102-4c12-91da-a3554ccaf56a",
   "metadata": {},
   "outputs": [
    {
     "data": {
      "text/html": [
       "<div>\n",
       "<style scoped>\n",
       "    .dataframe tbody tr th:only-of-type {\n",
       "        vertical-align: middle;\n",
       "    }\n",
       "\n",
       "    .dataframe tbody tr th {\n",
       "        vertical-align: top;\n",
       "    }\n",
       "\n",
       "    .dataframe thead th {\n",
       "        text-align: right;\n",
       "    }\n",
       "</style>\n",
       "<table border=\"1\" class=\"dataframe\">\n",
       "  <thead>\n",
       "    <tr style=\"text-align: right;\">\n",
       "      <th></th>\n",
       "      <th>auroc</th>\n",
       "    </tr>\n",
       "  </thead>\n",
       "  <tbody>\n",
       "    <tr>\n",
       "      <th>COX6C</th>\n",
       "      <td>0.5</td>\n",
       "    </tr>\n",
       "    <tr>\n",
       "      <th>MALAT1</th>\n",
       "      <td>0.5</td>\n",
       "    </tr>\n",
       "    <tr>\n",
       "      <th>TTLL12</th>\n",
       "      <td>0.5</td>\n",
       "    </tr>\n",
       "    <tr>\n",
       "      <th>PABPC1</th>\n",
       "      <td>0.5</td>\n",
       "    </tr>\n",
       "    <tr>\n",
       "      <th>GNAS</th>\n",
       "      <td>0.5</td>\n",
       "    </tr>\n",
       "    <tr>\n",
       "      <th>HSP90AB1</th>\n",
       "      <td>0.5</td>\n",
       "    </tr>\n",
       "    <tr>\n",
       "      <th>ATP1A1</th>\n",
       "      <td>0.5</td>\n",
       "    </tr>\n",
       "    <tr>\n",
       "      <th>B2M</th>\n",
       "      <td>0.5</td>\n",
       "    </tr>\n",
       "    <tr>\n",
       "      <th>FASN</th>\n",
       "      <td>0.5</td>\n",
       "    </tr>\n",
       "    <tr>\n",
       "      <th>ACTG1</th>\n",
       "      <td>0.5</td>\n",
       "    </tr>\n",
       "    <tr>\n",
       "      <th>HLA-B</th>\n",
       "      <td>0.5</td>\n",
       "    </tr>\n",
       "  </tbody>\n",
       "</table>\n",
       "</div>"
      ],
      "text/plain": [
       "          auroc\n",
       "COX6C       0.5\n",
       "MALAT1      0.5\n",
       "TTLL12      0.5\n",
       "PABPC1      0.5\n",
       "GNAS        0.5\n",
       "HSP90AB1    0.5\n",
       "ATP1A1      0.5\n",
       "B2M         0.5\n",
       "FASN        0.5\n",
       "ACTG1       0.5\n",
       "HLA-B       0.5"
      ]
     },
     "execution_count": 18,
     "metadata": {},
     "output_type": "execute_result"
    }
   ],
   "source": [
    "result_ST.sort_values(\"auroc\", ascending=False)"
   ]
  },
  {
   "cell_type": "code",
   "execution_count": null,
   "id": "313bce25-9dad-444e-8208-abf0fa825109",
   "metadata": {},
   "outputs": [],
   "source": [
    "from sklearn.metrics import confusion_matrix as cm\n",
    "cm(test_Y_ST[1],y_pred_test_2_ST[1])"
   ]
  }
 ],
 "metadata": {
  "kernelspec": {
   "display_name": "Python 3",
   "language": "python",
   "name": "python3"
  },
  "language_info": {
   "codemirror_mode": {
    "name": "ipython",
    "version": 3
   },
   "file_extension": ".py",
   "mimetype": "text/x-python",
   "name": "python",
   "nbconvert_exporter": "python",
   "pygments_lexer": "ipython3",
   "version": "3.8.5"
  }
 },
 "nbformat": 4,
 "nbformat_minor": 5
}
