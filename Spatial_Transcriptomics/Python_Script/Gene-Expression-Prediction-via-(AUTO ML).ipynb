{
 "cells": [
  {
   "cell_type": "code",
   "execution_count": null,
   "metadata": {},
   "outputs": [],
   "source": [
    "df=pd.read_csv('files/UntitledFolder/gene_exp.csv')\n",
    "df=df.drop(['Unnamed: 0','X1','X2','bar_name'],axis=1)\n",
    "df2=pd.DataFrame()\n",
    "df2=df.groupby(['x','y','UMI_Count']).agg('gene_name').apply(lambda x:\" \".join(list(set(x)))).reset_index()\n",
    "df3=pd.read_csv('files/UntitledFolder/link_to_img_trial.csv')\n",
    "df7=df3\n",
    "df7.head()"
   ]
  },
  {
   "cell_type": "code",
   "execution_count": null,
   "metadata": {},
   "outputs": [],
   "source": [
    "df11 = pd.merge(df, df7, on=['x','y'], how='inner')\n",
    "df11=df11.drop(columns=['Unnamed: 0'])\n",
    "df11.head()"
   ]
  },
  {
   "cell_type": "code",
   "execution_count": null,
   "metadata": {},
   "outputs": [],
   "source": [
    "from numpy import load\n",
    "df12=pd.pivot_table(df11, values='UMI_Count', index=['Sno'],columns=['gene_name'], aggfunc=np.sum)\n",
    "df13=df12.fillna(0)\n",
    "intersect_col_genes= load('files/UntitledFolder/intersect_col_genes.npy',allow_pickle=True)\n",
    "df13=df13[intersect_col_genes]\n",
    "#df13.to_csv('Pivot_gene.csv')"
   ]
  },
  {
   "cell_type": "markdown",
   "metadata": {},
   "source": [
    "## Import Data"
   ]
  },
  {
   "cell_type": "code",
   "execution_count": 1,
   "metadata": {},
   "outputs": [],
   "source": [
    "%matplotlib inline\n",
    "import pandas as pd\n",
    "import numpy as np\n",
    "from numpy import array\n",
    "from numpy import argmax\n",
    "from keras.utils import to_categorical\n",
    "from numpy import array\n",
    "from numpy import argmax\n",
    "from sklearn.preprocessing import LabelEncoder\n",
    "from sklearn.preprocessing import OneHotEncoder\n",
    "import sys\n",
    "from numpy import load\n",
    "from matplotlib import pyplot as plt\n",
    "plt.style.use(\"ggplot\")\n",
    "import tensorflow as tf\n",
    "from sklearn.model_selection import train_test_split"
   ]
  },
  {
   "cell_type": "code",
   "execution_count": 27,
   "metadata": {},
   "outputs": [
    {
     "data": {
      "text/html": [
       "<div>\n",
       "<style scoped>\n",
       "    .dataframe tbody tr th:only-of-type {\n",
       "        vertical-align: middle;\n",
       "    }\n",
       "\n",
       "    .dataframe tbody tr th {\n",
       "        vertical-align: top;\n",
       "    }\n",
       "\n",
       "    .dataframe thead th {\n",
       "        text-align: right;\n",
       "    }\n",
       "</style>\n",
       "<table border=\"1\" class=\"dataframe\">\n",
       "  <thead>\n",
       "    <tr style=\"text-align: right;\">\n",
       "      <th></th>\n",
       "      <th>ABCC5</th>\n",
       "      <th>ADAM15</th>\n",
       "      <th>ADAR</th>\n",
       "      <th>ADIPOR1</th>\n",
       "      <th>AEBP1</th>\n",
       "      <th>ANXA2</th>\n",
       "      <th>ANXA6</th>\n",
       "      <th>APOC1</th>\n",
       "      <th>APRT</th>\n",
       "      <th>AQP3</th>\n",
       "      <th>...</th>\n",
       "      <th>VPS28</th>\n",
       "      <th>WBP1</th>\n",
       "      <th>WDR1</th>\n",
       "      <th>WWP1</th>\n",
       "      <th>XBP1</th>\n",
       "      <th>YIPF3</th>\n",
       "      <th>YWHAE</th>\n",
       "      <th>YWHAQ</th>\n",
       "      <th>ZFAS1</th>\n",
       "      <th>ZNF706</th>\n",
       "    </tr>\n",
       "  </thead>\n",
       "  <tbody>\n",
       "    <tr>\n",
       "      <th>0</th>\n",
       "      <td>A</td>\n",
       "      <td>A</td>\n",
       "      <td>A</td>\n",
       "      <td>A</td>\n",
       "      <td>A</td>\n",
       "      <td>A</td>\n",
       "      <td>A</td>\n",
       "      <td>A</td>\n",
       "      <td>A</td>\n",
       "      <td>B</td>\n",
       "      <td>...</td>\n",
       "      <td>B</td>\n",
       "      <td>A</td>\n",
       "      <td>A</td>\n",
       "      <td>A</td>\n",
       "      <td>A</td>\n",
       "      <td>A</td>\n",
       "      <td>A</td>\n",
       "      <td>A</td>\n",
       "      <td>A</td>\n",
       "      <td>A</td>\n",
       "    </tr>\n",
       "    <tr>\n",
       "      <th>1</th>\n",
       "      <td>A</td>\n",
       "      <td>A</td>\n",
       "      <td>A</td>\n",
       "      <td>A</td>\n",
       "      <td>A</td>\n",
       "      <td>A</td>\n",
       "      <td>A</td>\n",
       "      <td>A</td>\n",
       "      <td>A</td>\n",
       "      <td>A</td>\n",
       "      <td>...</td>\n",
       "      <td>A</td>\n",
       "      <td>A</td>\n",
       "      <td>A</td>\n",
       "      <td>A</td>\n",
       "      <td>A</td>\n",
       "      <td>A</td>\n",
       "      <td>A</td>\n",
       "      <td>A</td>\n",
       "      <td>A</td>\n",
       "      <td>A</td>\n",
       "    </tr>\n",
       "    <tr>\n",
       "      <th>2</th>\n",
       "      <td>A</td>\n",
       "      <td>A</td>\n",
       "      <td>A</td>\n",
       "      <td>A</td>\n",
       "      <td>A</td>\n",
       "      <td>A</td>\n",
       "      <td>A</td>\n",
       "      <td>A</td>\n",
       "      <td>A</td>\n",
       "      <td>A</td>\n",
       "      <td>...</td>\n",
       "      <td>B</td>\n",
       "      <td>B</td>\n",
       "      <td>A</td>\n",
       "      <td>A</td>\n",
       "      <td>A</td>\n",
       "      <td>A</td>\n",
       "      <td>B</td>\n",
       "      <td>A</td>\n",
       "      <td>A</td>\n",
       "      <td>B</td>\n",
       "    </tr>\n",
       "    <tr>\n",
       "      <th>3</th>\n",
       "      <td>A</td>\n",
       "      <td>A</td>\n",
       "      <td>A</td>\n",
       "      <td>A</td>\n",
       "      <td>A</td>\n",
       "      <td>A</td>\n",
       "      <td>A</td>\n",
       "      <td>A</td>\n",
       "      <td>A</td>\n",
       "      <td>A</td>\n",
       "      <td>...</td>\n",
       "      <td>A</td>\n",
       "      <td>A</td>\n",
       "      <td>A</td>\n",
       "      <td>A</td>\n",
       "      <td>A</td>\n",
       "      <td>A</td>\n",
       "      <td>A</td>\n",
       "      <td>A</td>\n",
       "      <td>A</td>\n",
       "      <td>A</td>\n",
       "    </tr>\n",
       "    <tr>\n",
       "      <th>4</th>\n",
       "      <td>A</td>\n",
       "      <td>A</td>\n",
       "      <td>A</td>\n",
       "      <td>B</td>\n",
       "      <td>A</td>\n",
       "      <td>B</td>\n",
       "      <td>B</td>\n",
       "      <td>B</td>\n",
       "      <td>A</td>\n",
       "      <td>A</td>\n",
       "      <td>...</td>\n",
       "      <td>B</td>\n",
       "      <td>A</td>\n",
       "      <td>A</td>\n",
       "      <td>B</td>\n",
       "      <td>A</td>\n",
       "      <td>B</td>\n",
       "      <td>A</td>\n",
       "      <td>A</td>\n",
       "      <td>A</td>\n",
       "      <td>A</td>\n",
       "    </tr>\n",
       "  </tbody>\n",
       "</table>\n",
       "<p>5 rows × 375 columns</p>\n",
       "</div>"
      ],
      "text/plain": [
       "  ABCC5 ADAM15 ADAR ADIPOR1 AEBP1 ANXA2 ANXA6 APOC1 APRT AQP3  ... VPS28 WBP1  \\\n",
       "0     A      A    A       A     A     A     A     A    A    B  ...     B    A   \n",
       "1     A      A    A       A     A     A     A     A    A    A  ...     A    A   \n",
       "2     A      A    A       A     A     A     A     A    A    A  ...     B    B   \n",
       "3     A      A    A       A     A     A     A     A    A    A  ...     A    A   \n",
       "4     A      A    A       B     A     B     B     B    A    A  ...     B    A   \n",
       "\n",
       "  WDR1 WWP1 XBP1 YIPF3 YWHAE YWHAQ ZFAS1 ZNF706  \n",
       "0    A    A    A     A     A     A     A      A  \n",
       "1    A    A    A     A     A     A     A      A  \n",
       "2    A    A    A     A     B     A     A      B  \n",
       "3    A    A    A     A     A     A     A      A  \n",
       "4    A    B    A     B     A     A     A      A  \n",
       "\n",
       "[5 rows x 375 columns]"
      ]
     },
     "execution_count": 27,
     "metadata": {},
     "output_type": "execute_result"
    }
   ],
   "source": [
    "from sklearn import preprocessing \n",
    "from numpy import log\n",
    "df14=pd.read_csv('files/UntitledFolder/Pivot_gene_trial.csv')\n",
    "#df14.reset_index(level=0, inplace=True)\n",
    "Sno=df14['Sno']\n",
    "df14.drop(['Sno'],axis=1,inplace=True)\n",
    "#df14=log(df14+1)\n",
    "'''min_max_scaler = preprocessing.StandardScaler()#MinMaxScaler(feature_range =(0, 1))\n",
    "min_max_scaler_y = preprocessing.StandardScaler()#MinMaxScaler(feature_range =(0, 1)) \n",
    "min_max_scaler_y.fit(df14)\n",
    "df14 = min_max_scaler.fit_transform(df14)'''\n",
    "df14=pd.DataFrame(data=df14)\n",
    "df14=df14.apply(lambda x: pd.qcut(x, 3,duplicates='drop',labels=False))\n",
    "df14=df14.astype('str')\n",
    "df14=df14.replace(['0', '1', '2'], ['A','B', 'C'])\n",
    "df14.head()"
   ]
  },
  {
   "cell_type": "code",
   "execution_count": 28,
   "metadata": {},
   "outputs": [
    {
     "data": {
      "text/plain": [
       "array([['A'],\n",
       "       ['A'],\n",
       "       ['A'],\n",
       "       ...,\n",
       "       ['C'],\n",
       "       ['C'],\n",
       "       ['C']], dtype=object)"
      ]
     },
     "execution_count": 28,
     "metadata": {},
     "output_type": "execute_result"
    }
   ],
   "source": [
    "y=df14.iloc[:,:1].values\n",
    "y"
   ]
  },
  {
   "cell_type": "code",
   "execution_count": 4,
   "metadata": {},
   "outputs": [],
   "source": [
    "# create a mapping of tags to integers given the loaded mapping file\n",
    "def create_tag_mapping(df3):\n",
    "    # create a set of all known tags\n",
    "    labels = set()\n",
    "    for i in range(len(df3)):\n",
    "        # convert spaced separated tags into an array of tags\n",
    "        gene_name = df3['gene_name'][i].split(' ')\n",
    "        # add tags to the set of known labels\n",
    "        labels.update(gene_name)\n",
    "    # convert set of labels to a list to list\n",
    "    labels = list(labels)\n",
    "    # order set alphabetically\n",
    "    labels.sort()\n",
    "    # dict that maps labels to integers, and the reverse\n",
    "    labels_map = {labels[i]:i for i in range(len(labels))}\n",
    "    inv_labels_map = {i:labels[i] for i in range(len(labels))}\n",
    "    return labels_map, inv_labels_map\n",
    "# create a mapping of filename to tags\n",
    "def create_file_mapping(df3):\n",
    "    mapping = dict()\n",
    "    for i in range(len(df3)):\n",
    "        name, gene_name = df3['Sno'][i], df3['gene_name'][i]\n",
    "        mapping[name] = gene_name.split(' ')\n",
    "    return mapping\n",
    "# create a one hot encoding for one list of tags\n",
    "def one_hot_encode(gene_name, mapping):\n",
    "    # create empty vector\n",
    "    encoding = zeros(len(mapping), dtype='uint8')\n",
    "    # mark 1 for each tag in the vector\n",
    "    for tag in gene_name:\n",
    "        encoding[mapping[tag]] = 1\n",
    "    return encoding\n",
    "def load_dataset(path, file_mapping, tag_mapping):\n",
    "    photos, targets = list(), list()\n",
    "    # enumerate files in the directory\n",
    "    for filename in listdir(folder):\n",
    "        # load image\n",
    "        photo = load_img(path + filename, target_size=(140,140))\n",
    "        # convert to numpy array\n",
    "        photo = img_to_array(photo, dtype='uint8')\n",
    "        # get tags\n",
    "        gene_name = file_mapping[filename[:-4]]\n",
    "        # one hot encode tags\n",
    "        target = one_hot_encode(gene_name, tag_mapping)\n",
    "        # store\n",
    "        photos.append(photo)\n",
    "        targets.append(target)\n",
    "    X = asarray(photos, dtype='uint8')\n",
    "    return X"
   ]
  },
  {
   "cell_type": "code",
   "execution_count": 5,
   "metadata": {},
   "outputs": [
    {
     "name": "stdout",
     "output_type": "stream",
     "text": [
      "(3501, 58800) (3798, 1)\n"
     ]
    }
   ],
   "source": [
    "from os import listdir\n",
    "from numpy import zeros\n",
    "from numpy import asarray\n",
    "from keras.preprocessing.image import load_img\n",
    "from keras.preprocessing.image import img_to_array\n",
    "df5=pd.read_csv('files/UntitledFolder/Gene_list_df5.csv')\n",
    "df5=df5.drop(columns=['Unnamed: 0'])\n",
    "mapping_csv = df5\n",
    "# create a mapping of tags to integers\n",
    "tag_mapping, _ = create_tag_mapping(mapping_csv)\n",
    "# create a mapping of filenames to tag ~lists\n",
    "file_mapping = create_file_mapping(mapping_csv)\n",
    "folder = 'files/UntitledFolder/Trainimg_breast2/'\n",
    "X= load_dataset(folder, file_mapping, tag_mapping)\n",
    "X=X.reshape([3501,58800]) \n",
    "print(X.shape, y.shape)"
   ]
  },
  {
   "cell_type": "code",
   "execution_count": 6,
   "metadata": {},
   "outputs": [
    {
     "data": {
      "text/plain": [
       "(3501, 2350)"
      ]
     },
     "execution_count": 6,
     "metadata": {},
     "output_type": "execute_result"
    }
   ],
   "source": [
    "from sklearn.decomposition import PCA\n",
    "pca = PCA(.99)\n",
    "#pca = PCA(n_components=10)\n",
    "principalComponents = pca.fit(X)\n",
    "principalC= pca.fit_transform(X)\n",
    "principalDf = pd.DataFrame(data = principalC)\n",
    "#print(pca.explained_variance_ratio_)\n",
    "principalDf.shape"
   ]
  },
  {
   "cell_type": "code",
   "execution_count": null,
   "metadata": {},
   "outputs": [],
   "source": [
    "'''correlation_matrix = principalDf.corr()\n",
    "for i in range(len(correlation_matrix .columns)):\n",
    "    for j in range(i):\n",
    "        if abs(correlation_matrix.iloc[i, j]) > 0.85:\n",
    "            colname = correlation_matrix.columns[i]\n",
    "            correlated_features.add(colname)\n",
    "            principalDf.drop(labels=correlated_features, axis=1, inplace=True)'''"
   ]
  },
  {
   "cell_type": "markdown",
   "metadata": {},
   "source": [
    "### TABNET Classifier"
   ]
  },
  {
   "cell_type": "code",
   "execution_count": null,
   "metadata": {},
   "outputs": [],
   "source": [
    "from pytorch_tabnet.tab_model import TabNetClassifier\n",
    "from sklearn import preprocessing\n",
    "from sklearn.preprocessing import LabelEncoder\n",
    "\n",
    "le = LabelEncoder()\n",
    "Y= le.fit_transform(y)\n",
    "Y=Y[0:3501]\n",
    "X_train, X_test, y_train, y_test = train_test_split(principalDf, Y.ravel(), test_size = 0.15, random_state = 0, stratify =Y)\n",
    "clasif = TabNetClassifier()\n",
    "clasif.fit(X_train, y_train)\n",
    "preds = clasif.predict(X_test)\n",
    "\n",
    "'''min_max_scaler_x = preprocessing.StandardScaler()#MinMaxScaler(feature_range =(0, 1)) \n",
    "min_max_scaler_x.fit(principalDf)\n",
    "min_max_scaler = preprocessing.StandardScaler()#MinMaxScaler(feature_range =(0, 1)) \n",
    "principalDf = min_max_scaler.fit_transform(principalDf) '''"
   ]
  },
  {
   "cell_type": "code",
   "execution_count": null,
   "metadata": {},
   "outputs": [],
   "source": [
    "from sklearn.metrics import confusion_matrix\n",
    "from sklearn.metrics import recall_score\n",
    "from sklearn.metrics import precision_score\n",
    "from sklearn.metrics import accuracy_score\n",
    "from sklearn.metrics import f1_score\n",
    "from sklearn.metrics import roc_curve\n",
    "from sklearn.metrics import roc_auc_score\n",
    "#y_pred=clf.predict(X_test)\n",
    "cm = confusion_matrix(y_test, preds)\n",
    "print('Confusion matrix\\n\\n', cm)\n",
    "#roc_auc = roc_auc_score(y_test, clf.predict_proba(X_test), multi_class=\"ovr\",average='macro')\n",
    "#print('Roc-auc score:',roc_auc)\n",
    "print(\"F1-score\",f1_score(y_test, preds, average='macro'))\n",
    "print(\"Precision\",precision_score(y_test, preds, average='macro'))\n",
    "print(\"Recall\",recall_score(y_test, preds, average='macro'))\n",
    "print(\"Accuracy\",accuracy_score(y_test, preds))"
   ]
  },
  {
   "cell_type": "code",
   "execution_count": null,
   "metadata": {},
   "outputs": [],
   "source": [
    "preds"
   ]
  },
  {
   "cell_type": "markdown",
   "metadata": {},
   "source": [
    "## LGBM Classifier"
   ]
  },
  {
   "cell_type": "code",
   "execution_count": null,
   "metadata": {},
   "outputs": [],
   "source": [
    "def countFreq(arr, n):  \n",
    "    mp = {}  \n",
    "    for i in range(n): \n",
    "        if arr[i] not in mp: \n",
    "            mp[arr[i]] = 0\n",
    "        mp[arr[i]] += 1\n",
    "    for i in range(n): \n",
    "        if (mp[arr[i]] != -1): \n",
    "            print(arr[i],mp[arr[i]]) \n",
    "        mp[arr[i]] = -1  \n",
    "        \n",
    "from sklearn.model_selection import train_test_split\n",
    "from sklearn.preprocessing import LabelEncoder\n",
    "import lightgbm as lgb\n",
    "from sklearn import preprocessing \n",
    "\n",
    "min_max_scaler = preprocessing.MinMaxScaler(feature_range =(-1, 1)) \n",
    "X = min_max_scaler.fit_transform(X) \n",
    "\n",
    "le = LabelEncoder()\n",
    "Y= le.fit_transform(y)\n",
    "\n",
    "\n",
    "\n",
    "arr=Y\n",
    "n = len(arr) \n",
    "countFreq(arr, n) "
   ]
  },
  {
   "cell_type": "code",
   "execution_count": null,
   "metadata": {},
   "outputs": [],
   "source": [
    "from imblearn.over_sampling import SMOTE\n",
    "from imblearn.under_sampling import RandomUnderSampler\n",
    "\n",
    "strategy = {0:2500, 1:2500, 2:2500}\n",
    "oversample = SMOTE(sampling_strategy=strategy)\n",
    "X, Y = oversample.fit_resample(X, Y)\n",
    "X_train, X_test, y_train, y_test = train_test_split(X[:,1:250], Y.ravel(), test_size = 0.25, random_state = 0, stratify =Y)\n",
    "clf = lgb.LGBMClassifier()\n",
    "clf.fit(X_train, y_train)\n",
    "y_pred=clf.predict(X_test)"
   ]
  },
  {
   "cell_type": "code",
   "execution_count": null,
   "metadata": {},
   "outputs": [],
   "source": [
    "from sklearn.metrics import confusion_matrix\n",
    "from sklearn.metrics import recall_score\n",
    "from sklearn.metrics import precision_score\n",
    "from sklearn.metrics import accuracy_score\n",
    "from sklearn.metrics import f1_score\n",
    "from sklearn.metrics import roc_curve\n",
    "from sklearn.metrics import roc_auc_score\n",
    "cm = confusion_matrix(y_test, y_pred)\n",
    "print('Confusion matrix\\n\\n', cm)\n",
    "roc_auc = roc_auc_score(y_test, clf.predict_proba(X_test), multi_class=\"ovr\",average='macro')\n",
    "print('Roc-auc score:',roc_auc)\n",
    "print(\"F1-score\",f1_score(y_test, y_pred, average='macro'))\n",
    "print(\"Precision\",precision_score(y_test, y_pred, average='macro'))\n",
    "print(\"Recall\",recall_score(y_test, y_pred, average='macro'))\n",
    "print(\"Accuracy\",accuracy_score(y_test, y_pred))"
   ]
  },
  {
   "cell_type": "markdown",
   "metadata": {},
   "source": [
    "## TPOT Auto ML"
   ]
  },
  {
   "cell_type": "code",
   "execution_count": null,
   "metadata": {},
   "outputs": [],
   "source": [
    "!pip install tqdm --user\n",
    "#tfds.disable_progression_bar()\n",
    "#jupyter nbextension enable --py widgetsnbextension"
   ]
  },
  {
   "cell_type": "code",
   "execution_count": null,
   "metadata": {},
   "outputs": [],
   "source": [
    "from tqdm import tqdm\n",
    "import ipywidgets \n",
    "from sklearn.model_selection import RepeatedStratifiedKFold\n",
    "from tpot import TPOTClassifier\n",
    "from sklearn.preprocessing import LabelEncoder\n",
    "le = LabelEncoder()\n",
    "Y= le.fit_transform(y)\n",
    "cv = RepeatedStratifiedKFold(n_splits=10, n_repeats=3, random_state=1)\n",
    "model = TPOTClassifier(generations=5, population_size=50, cv=cv, scoring='accuracy', verbosity=2, random_state=1, n_jobs=-1)\n",
    "model.fit(principalDf, Y)"
   ]
  },
  {
   "cell_type": "markdown",
   "metadata": {},
   "source": [
    "## H2o Auto ML"
   ]
  },
  {
   "cell_type": "code",
   "execution_count": 15,
   "metadata": {},
   "outputs": [
    {
     "name": "stdout",
     "output_type": "stream",
     "text": [
      "Checking whether there is an H2O instance running at http://localhost:54321 ..... not found.\n",
      "Attempting to start a local H2O server...\n",
      "  Java Version: java version \"11.0.7\" 2020-04-14 LTS; Java(TM) SE Runtime Environment 18.9 (build 11.0.7+8-LTS); Java HotSpot(TM) 64-Bit Server VM 18.9 (build 11.0.7+8-LTS, mixed mode)\n",
      "  Starting server from /gpfs1/homes/s4634945/.local/lib/python3.6/site-packages/h2o/backend/bin/h2o.jar\n",
      "  Ice root: /state/partition1/pbs/tmpdir/pbs.476506.tinmgr2/tmpaz0s_084\n",
      "  JVM stdout: /state/partition1/pbs/tmpdir/pbs.476506.tinmgr2/tmpaz0s_084/h2o_s4634945_started_from_python.out\n",
      "  JVM stderr: /state/partition1/pbs/tmpdir/pbs.476506.tinmgr2/tmpaz0s_084/h2o_s4634945_started_from_python.err\n",
      "  Server is running at http://127.0.0.1:54321\n",
      "Connecting to H2O server at http://127.0.0.1:54321 ... successful.\n"
     ]
    },
    {
     "data": {
      "text/html": [
       "<div style=\"overflow:auto\"><table style=\"width:50%\"><tr><td>H2O_cluster_uptime:</td>\n",
       "<td>02 secs</td></tr>\n",
       "<tr><td>H2O_cluster_timezone:</td>\n",
       "<td>Australia/Brisbane</td></tr>\n",
       "<tr><td>H2O_data_parsing_timezone:</td>\n",
       "<td>UTC</td></tr>\n",
       "<tr><td>H2O_cluster_version:</td>\n",
       "<td>3.32.0.4</td></tr>\n",
       "<tr><td>H2O_cluster_version_age:</td>\n",
       "<td>23 days </td></tr>\n",
       "<tr><td>H2O_cluster_name:</td>\n",
       "<td>H2O_from_python_s4634945_bg03n0</td></tr>\n",
       "<tr><td>H2O_cluster_total_nodes:</td>\n",
       "<td>1</td></tr>\n",
       "<tr><td>H2O_cluster_free_memory:</td>\n",
       "<td>12 Gb</td></tr>\n",
       "<tr><td>H2O_cluster_total_cores:</td>\n",
       "<td>24</td></tr>\n",
       "<tr><td>H2O_cluster_allowed_cores:</td>\n",
       "<td>24</td></tr>\n",
       "<tr><td>H2O_cluster_status:</td>\n",
       "<td>accepting new members, healthy</td></tr>\n",
       "<tr><td>H2O_connection_url:</td>\n",
       "<td>http://127.0.0.1:54321</td></tr>\n",
       "<tr><td>H2O_connection_proxy:</td>\n",
       "<td>{\"http\": null, \"https\": null}</td></tr>\n",
       "<tr><td>H2O_internal_security:</td>\n",
       "<td>False</td></tr>\n",
       "<tr><td>H2O_API_Extensions:</td>\n",
       "<td>Amazon S3, XGBoost, Algos, AutoML, Core V3, TargetEncoder, Core V4</td></tr>\n",
       "<tr><td>Python_version:</td>\n",
       "<td>3.6.5 final</td></tr></table></div>"
      ],
      "text/plain": [
       "--------------------------  ------------------------------------------------------------------\n",
       "H2O_cluster_uptime:         02 secs\n",
       "H2O_cluster_timezone:       Australia/Brisbane\n",
       "H2O_data_parsing_timezone:  UTC\n",
       "H2O_cluster_version:        3.32.0.4\n",
       "H2O_cluster_version_age:    23 days\n",
       "H2O_cluster_name:           H2O_from_python_s4634945_bg03n0\n",
       "H2O_cluster_total_nodes:    1\n",
       "H2O_cluster_free_memory:    12 Gb\n",
       "H2O_cluster_total_cores:    24\n",
       "H2O_cluster_allowed_cores:  24\n",
       "H2O_cluster_status:         accepting new members, healthy\n",
       "H2O_connection_url:         http://127.0.0.1:54321\n",
       "H2O_connection_proxy:       {\"http\": null, \"https\": null}\n",
       "H2O_internal_security:      False\n",
       "H2O_API_Extensions:         Amazon S3, XGBoost, Algos, AutoML, Core V3, TargetEncoder, Core V4\n",
       "Python_version:             3.6.5 final\n",
       "--------------------------  ------------------------------------------------------------------"
      ]
     },
     "metadata": {},
     "output_type": "display_data"
    }
   ],
   "source": [
    "#!pip install colorama==0.4.4 --user\n",
    "import h2o\n",
    "from h2o.automl import H2OAutoML\n",
    "h2o.init(\n",
    "    nthreads=-1,     # number of threads when launching a new H2O server\n",
    "    max_mem_size=12  # in gigabytes\n",
    ")"
   ]
  },
  {
   "cell_type": "code",
   "execution_count": 30,
   "metadata": {},
   "outputs": [
    {
     "name": "stdout",
     "output_type": "stream",
     "text": [
      "Parse progress: |█████████████████████████████████████████████████████████| 100%\n"
     ]
    }
   ],
   "source": [
    "from sklearn.preprocessing import LabelEncoder\n",
    "#le = LabelEncoder()\n",
    "#Y= le.fit_transform(y)\n",
    "df=pd.DataFrame(data=principalDf)\n",
    "df['UMI']=y[0:3501]\n",
    "df=df.iloc[0:3350,:].values\n",
    "df=pd.DataFrame(data=df)\n",
    "train = h2o.H2OFrame(df)\n",
    "x = train.columns\n",
    "y1 = \"2350\"\n",
    "x.remove(y1)\n",
    "train['2350'] = train['2350'].asfactor()"
   ]
  },
  {
   "cell_type": "code",
   "execution_count": 31,
   "metadata": {},
   "outputs": [
    {
     "name": "stdout",
     "output_type": "stream",
     "text": [
      "AutoML progress: |████████████████████████████████████████████████████████| 100%\n"
     ]
    }
   ],
   "source": [
    "aml = H2OAutoML(max_models=15, seed=1)\n",
    "aml.train(x=x, y=y1, training_frame=train)"
   ]
  },
  {
   "cell_type": "code",
   "execution_count": 32,
   "metadata": {},
   "outputs": [
    {
     "data": {
      "text/html": [
       "<table>\n",
       "<thead>\n",
       "<tr><th>model_id                                           </th><th style=\"text-align: right;\">  mean_per_class_error</th><th style=\"text-align: right;\">  logloss</th><th style=\"text-align: right;\">    rmse</th><th style=\"text-align: right;\">     mse</th><th style=\"text-align: right;\">  auc</th><th style=\"text-align: right;\">  aucpr</th></tr>\n",
       "</thead>\n",
       "<tbody>\n",
       "<tr><td>DeepLearning_1_AutoML_20210224_220112              </td><td style=\"text-align: right;\">              0.656024</td><td style=\"text-align: right;\">  2.45321</td><td style=\"text-align: right;\">0.733565</td><td style=\"text-align: right;\">0.538118</td><td style=\"text-align: right;\">  nan</td><td style=\"text-align: right;\">    nan</td></tr>\n",
       "<tr><td>XGBoost_grid__1_AutoML_20210224_220112_model_2     </td><td style=\"text-align: right;\">              0.66599 </td><td style=\"text-align: right;\">  1.21549</td><td style=\"text-align: right;\">0.676012</td><td style=\"text-align: right;\">0.456992</td><td style=\"text-align: right;\">  nan</td><td style=\"text-align: right;\">    nan</td></tr>\n",
       "<tr><td>DRF_1_AutoML_20210224_220112                       </td><td style=\"text-align: right;\">              0.66606 </td><td style=\"text-align: right;\">  1.09972</td><td style=\"text-align: right;\">0.661004</td><td style=\"text-align: right;\">0.436927</td><td style=\"text-align: right;\">  nan</td><td style=\"text-align: right;\">    nan</td></tr>\n",
       "<tr><td>GLM_1_AutoML_20210224_220112                       </td><td style=\"text-align: right;\">              0.666902</td><td style=\"text-align: right;\">  1.0816 </td><td style=\"text-align: right;\">0.657853</td><td style=\"text-align: right;\">0.43277 </td><td style=\"text-align: right;\">  nan</td><td style=\"text-align: right;\">    nan</td></tr>\n",
       "<tr><td>StackedEnsemble_BestOfFamily_AutoML_20210224_220112</td><td style=\"text-align: right;\">              0.667832</td><td style=\"text-align: right;\">  1.08594</td><td style=\"text-align: right;\">0.658785</td><td style=\"text-align: right;\">0.433997</td><td style=\"text-align: right;\">  nan</td><td style=\"text-align: right;\">    nan</td></tr>\n",
       "<tr><td>StackedEnsemble_AllModels_AutoML_20210224_220112   </td><td style=\"text-align: right;\">              0.668103</td><td style=\"text-align: right;\">  1.083  </td><td style=\"text-align: right;\">0.657529</td><td style=\"text-align: right;\">0.432344</td><td style=\"text-align: right;\">  nan</td><td style=\"text-align: right;\">    nan</td></tr>\n",
       "<tr><td>XGBoost_grid__1_AutoML_20210224_220112_model_1     </td><td style=\"text-align: right;\">              0.668253</td><td style=\"text-align: right;\">  1.24887</td><td style=\"text-align: right;\">0.679333</td><td style=\"text-align: right;\">0.461493</td><td style=\"text-align: right;\">  nan</td><td style=\"text-align: right;\">    nan</td></tr>\n",
       "<tr><td>GBM_2_AutoML_20210224_220112                       </td><td style=\"text-align: right;\">              0.670166</td><td style=\"text-align: right;\">  1.1204 </td><td style=\"text-align: right;\">0.664491</td><td style=\"text-align: right;\">0.441548</td><td style=\"text-align: right;\">  nan</td><td style=\"text-align: right;\">    nan</td></tr>\n",
       "<tr><td>GBM_5_AutoML_20210224_220112                       </td><td style=\"text-align: right;\">              0.671874</td><td style=\"text-align: right;\">  1.11074</td><td style=\"text-align: right;\">0.663889</td><td style=\"text-align: right;\">0.440749</td><td style=\"text-align: right;\">  nan</td><td style=\"text-align: right;\">    nan</td></tr>\n",
       "<tr><td>GBM_grid__1_AutoML_20210224_220112_model_1         </td><td style=\"text-align: right;\">              0.673303</td><td style=\"text-align: right;\">  1.10383</td><td style=\"text-align: right;\">0.662786</td><td style=\"text-align: right;\">0.439285</td><td style=\"text-align: right;\">  nan</td><td style=\"text-align: right;\">    nan</td></tr>\n",
       "<tr><td>XGBoost_1_AutoML_20210224_220112                   </td><td style=\"text-align: right;\">              0.673529</td><td style=\"text-align: right;\">  1.24749</td><td style=\"text-align: right;\">0.679619</td><td style=\"text-align: right;\">0.461882</td><td style=\"text-align: right;\">  nan</td><td style=\"text-align: right;\">    nan</td></tr>\n",
       "<tr><td>GBM_3_AutoML_20210224_220112                       </td><td style=\"text-align: right;\">              0.673616</td><td style=\"text-align: right;\">  1.13025</td><td style=\"text-align: right;\">0.666399</td><td style=\"text-align: right;\">0.444088</td><td style=\"text-align: right;\">  nan</td><td style=\"text-align: right;\">    nan</td></tr>\n",
       "<tr><td>XGBoost_2_AutoML_20210224_220112                   </td><td style=\"text-align: right;\">              0.676282</td><td style=\"text-align: right;\">  1.23397</td><td style=\"text-align: right;\">0.678203</td><td style=\"text-align: right;\">0.459959</td><td style=\"text-align: right;\">  nan</td><td style=\"text-align: right;\">    nan</td></tr>\n",
       "<tr><td>XRT_1_AutoML_20210224_220112                       </td><td style=\"text-align: right;\">              0.677177</td><td style=\"text-align: right;\">  1.10405</td><td style=\"text-align: right;\">0.662083</td><td style=\"text-align: right;\">0.438354</td><td style=\"text-align: right;\">  nan</td><td style=\"text-align: right;\">    nan</td></tr>\n",
       "<tr><td>GBM_4_AutoML_20210224_220112                       </td><td style=\"text-align: right;\">              0.678826</td><td style=\"text-align: right;\">  1.14011</td><td style=\"text-align: right;\">0.668692</td><td style=\"text-align: right;\">0.447149</td><td style=\"text-align: right;\">  nan</td><td style=\"text-align: right;\">    nan</td></tr>\n",
       "<tr><td>GBM_1_AutoML_20210224_220112                       </td><td style=\"text-align: right;\">              0.679099</td><td style=\"text-align: right;\">  1.12484</td><td style=\"text-align: right;\">0.666923</td><td style=\"text-align: right;\">0.444786</td><td style=\"text-align: right;\">  nan</td><td style=\"text-align: right;\">    nan</td></tr>\n",
       "<tr><td>XGBoost_3_AutoML_20210224_220112                   </td><td style=\"text-align: right;\">              0.686638</td><td style=\"text-align: right;\">  1.19078</td><td style=\"text-align: right;\">0.675288</td><td style=\"text-align: right;\">0.456014</td><td style=\"text-align: right;\">  nan</td><td style=\"text-align: right;\">    nan</td></tr>\n",
       "</tbody>\n",
       "</table>"
      ]
     },
     "metadata": {},
     "output_type": "display_data"
    },
    {
     "data": {
      "text/plain": []
     },
     "execution_count": 32,
     "metadata": {},
     "output_type": "execute_result"
    }
   ],
   "source": [
    "lb = aml.leaderboard\n",
    "lb.head(rows=lb.nrows)"
   ]
  },
  {
   "cell_type": "code",
   "execution_count": 33,
   "metadata": {},
   "outputs": [
    {
     "data": {
      "text/html": [
       "<table>\n",
       "<thead>\n",
       "<tr><th style=\"text-align: right;\">         0</th><th style=\"text-align: right;\">        1</th><th style=\"text-align: right;\">         2</th><th style=\"text-align: right;\">       3</th><th style=\"text-align: right;\">        4</th><th style=\"text-align: right;\">        5</th><th style=\"text-align: right;\">         6</th><th style=\"text-align: right;\">         7</th><th style=\"text-align: right;\">        8</th><th style=\"text-align: right;\">         9</th><th style=\"text-align: right;\">       10</th><th style=\"text-align: right;\">       11</th><th style=\"text-align: right;\">       12</th><th style=\"text-align: right;\">       13</th><th style=\"text-align: right;\">       14</th><th style=\"text-align: right;\">       15</th><th style=\"text-align: right;\">        16</th><th style=\"text-align: right;\">       17</th><th style=\"text-align: right;\">       18</th><th style=\"text-align: right;\">       19</th><th style=\"text-align: right;\">        20</th><th style=\"text-align: right;\">         21</th><th style=\"text-align: right;\">        22</th><th style=\"text-align: right;\">       23</th><th style=\"text-align: right;\">       24</th><th style=\"text-align: right;\">       25</th><th style=\"text-align: right;\">        26</th><th style=\"text-align: right;\">       27</th><th style=\"text-align: right;\">       28</th><th style=\"text-align: right;\">       29</th><th style=\"text-align: right;\">       30</th><th style=\"text-align: right;\">        31</th><th style=\"text-align: right;\">       32</th><th style=\"text-align: right;\">        33</th><th style=\"text-align: right;\">         34</th><th style=\"text-align: right;\">        35</th><th style=\"text-align: right;\">        36</th><th style=\"text-align: right;\">      37</th><th style=\"text-align: right;\">       38</th><th style=\"text-align: right;\">        39</th><th style=\"text-align: right;\">        40</th><th style=\"text-align: right;\">       41</th><th style=\"text-align: right;\">      42</th><th style=\"text-align: right;\">       43</th><th style=\"text-align: right;\">        44</th><th style=\"text-align: right;\">       45</th><th style=\"text-align: right;\">        46</th><th style=\"text-align: right;\">      47</th><th style=\"text-align: right;\">       48</th><th style=\"text-align: right;\">       49</th><th style=\"text-align: right;\">       50</th><th style=\"text-align: right;\">        51</th><th style=\"text-align: right;\">        52</th><th style=\"text-align: right;\">       53</th><th style=\"text-align: right;\">       54</th><th style=\"text-align: right;\">       55</th><th style=\"text-align: right;\">       56</th><th style=\"text-align: right;\">       57</th><th style=\"text-align: right;\">       58</th><th style=\"text-align: right;\">        59</th><th style=\"text-align: right;\">       60</th><th style=\"text-align: right;\">       61</th><th style=\"text-align: right;\">       62</th><th style=\"text-align: right;\">      63</th><th style=\"text-align: right;\">       64</th><th style=\"text-align: right;\">         65</th><th style=\"text-align: right;\">        66</th><th style=\"text-align: right;\">        67</th><th style=\"text-align: right;\">       68</th><th style=\"text-align: right;\">       69</th><th style=\"text-align: right;\">        70</th><th style=\"text-align: right;\">       71</th><th style=\"text-align: right;\">       72</th><th style=\"text-align: right;\">       73</th><th style=\"text-align: right;\">       74</th><th style=\"text-align: right;\">        75</th><th style=\"text-align: right;\">        76</th><th style=\"text-align: right;\">       77</th><th style=\"text-align: right;\">       78</th><th style=\"text-align: right;\">        79</th><th style=\"text-align: right;\">        80</th><th style=\"text-align: right;\">        81</th><th style=\"text-align: right;\">       82</th><th style=\"text-align: right;\">       83</th><th style=\"text-align: right;\">        84</th><th style=\"text-align: right;\">         85</th><th style=\"text-align: right;\">        86</th><th style=\"text-align: right;\">       87</th><th style=\"text-align: right;\">       88</th><th style=\"text-align: right;\">         89</th><th style=\"text-align: right;\">       90</th><th style=\"text-align: right;\">        91</th><th style=\"text-align: right;\">       92</th><th style=\"text-align: right;\">       93</th><th style=\"text-align: right;\">        94</th><th style=\"text-align: right;\">       95</th><th style=\"text-align: right;\">        96</th><th style=\"text-align: right;\">       97</th><th style=\"text-align: right;\">        98</th><th style=\"text-align: right;\">        99</th><th style=\"text-align: right;\">      100</th><th style=\"text-align: right;\">      101</th><th style=\"text-align: right;\">      102</th><th style=\"text-align: right;\">      103</th><th style=\"text-align: right;\">      104</th><th style=\"text-align: right;\">      105</th><th style=\"text-align: right;\">      106</th><th style=\"text-align: right;\">       107</th><th style=\"text-align: right;\">      108</th><th style=\"text-align: right;\">      109</th><th style=\"text-align: right;\">       110</th><th style=\"text-align: right;\">     111</th><th style=\"text-align: right;\">       112</th><th style=\"text-align: right;\">      113</th><th style=\"text-align: right;\">      114</th><th style=\"text-align: right;\">      115</th><th style=\"text-align: right;\">       116</th><th style=\"text-align: right;\">      117</th><th style=\"text-align: right;\">      118</th><th style=\"text-align: right;\">     119</th><th style=\"text-align: right;\">      120</th><th style=\"text-align: right;\">       121</th><th style=\"text-align: right;\">      122</th><th style=\"text-align: right;\">      123</th><th style=\"text-align: right;\">      124</th><th style=\"text-align: right;\">       125</th><th style=\"text-align: right;\">      126</th><th style=\"text-align: right;\">       127</th><th style=\"text-align: right;\">      128</th><th style=\"text-align: right;\">     129</th><th style=\"text-align: right;\">      130</th><th style=\"text-align: right;\">      131</th><th style=\"text-align: right;\">      132</th><th style=\"text-align: right;\">      133</th><th style=\"text-align: right;\">      134</th><th style=\"text-align: right;\">      135</th><th style=\"text-align: right;\">      136</th><th style=\"text-align: right;\">      137</th><th style=\"text-align: right;\">      138</th><th style=\"text-align: right;\">       139</th><th style=\"text-align: right;\">      140</th><th style=\"text-align: right;\">      141</th><th style=\"text-align: right;\">      142</th><th style=\"text-align: right;\">      143</th><th style=\"text-align: right;\">      144</th><th style=\"text-align: right;\">      145</th><th style=\"text-align: right;\">      146</th><th style=\"text-align: right;\">      147</th><th style=\"text-align: right;\">      148</th><th style=\"text-align: right;\">      149</th><th style=\"text-align: right;\">      150</th><th style=\"text-align: right;\">      151</th><th style=\"text-align: right;\">      152</th><th style=\"text-align: right;\">      153</th><th style=\"text-align: right;\">      154</th><th style=\"text-align: right;\">      155</th><th style=\"text-align: right;\">      156</th><th style=\"text-align: right;\">       157</th><th style=\"text-align: right;\">       158</th><th style=\"text-align: right;\">      159</th><th style=\"text-align: right;\">      160</th><th style=\"text-align: right;\">      161</th><th style=\"text-align: right;\">       162</th><th style=\"text-align: right;\">       163</th><th style=\"text-align: right;\">      164</th><th style=\"text-align: right;\">      165</th><th style=\"text-align: right;\">      166</th><th style=\"text-align: right;\">      167</th><th style=\"text-align: right;\">      168</th><th style=\"text-align: right;\">      169</th><th style=\"text-align: right;\">      170</th><th style=\"text-align: right;\">       171</th><th style=\"text-align: right;\">      172</th><th style=\"text-align: right;\">      173</th><th style=\"text-align: right;\">      174</th><th style=\"text-align: right;\">     175</th><th style=\"text-align: right;\">      176</th><th style=\"text-align: right;\">      177</th><th style=\"text-align: right;\">       178</th><th style=\"text-align: right;\">      179</th><th style=\"text-align: right;\">      180</th><th style=\"text-align: right;\">      181</th><th style=\"text-align: right;\">     182</th><th style=\"text-align: right;\">      183</th><th style=\"text-align: right;\">      184</th><th style=\"text-align: right;\">     185</th><th style=\"text-align: right;\">      186</th><th style=\"text-align: right;\">         187</th><th style=\"text-align: right;\">      188</th><th style=\"text-align: right;\">     189</th><th style=\"text-align: right;\">       190</th><th style=\"text-align: right;\">       191</th><th style=\"text-align: right;\">       192</th><th style=\"text-align: right;\">      193</th><th style=\"text-align: right;\">      194</th><th style=\"text-align: right;\">       195</th><th style=\"text-align: right;\">      196</th><th style=\"text-align: right;\">       197</th><th style=\"text-align: right;\">     198</th><th style=\"text-align: right;\">      199</th></tr>\n",
       "</thead>\n",
       "<tbody>\n",
       "<tr><td style=\"text-align: right;\">-1735.8   </td><td style=\"text-align: right;\">1916.81  </td><td style=\"text-align: right;\"> 1190.35  </td><td style=\"text-align: right;\"> 136.215</td><td style=\"text-align: right;\"> 396.595 </td><td style=\"text-align: right;\">  479.078</td><td style=\"text-align: right;\">-704.004  </td><td style=\"text-align: right;\">  269.868 </td><td style=\"text-align: right;\"> 184.366 </td><td style=\"text-align: right;\">  151.223 </td><td style=\"text-align: right;\">-233.273 </td><td style=\"text-align: right;\"> -13.3867</td><td style=\"text-align: right;\"> 742.381 </td><td style=\"text-align: right;\"> 709.745 </td><td style=\"text-align: right;\">1464.66  </td><td style=\"text-align: right;\"> 784.972 </td><td style=\"text-align: right;\"> -334.628 </td><td style=\"text-align: right;\"> 149.465 </td><td style=\"text-align: right;\">-341.069 </td><td style=\"text-align: right;\">-174.476 </td><td style=\"text-align: right;\"> -384.454 </td><td style=\"text-align: right;\">  372.957  </td><td style=\"text-align: right;\">  396.073 </td><td style=\"text-align: right;\">-380.51  </td><td style=\"text-align: right;\">  44.9882</td><td style=\"text-align: right;\">  254.222</td><td style=\"text-align: right;\">-214.447  </td><td style=\"text-align: right;\"> -77.3286</td><td style=\"text-align: right;\"> 234.886 </td><td style=\"text-align: right;\"> 305.71  </td><td style=\"text-align: right;\">-279.448 </td><td style=\"text-align: right;\"> 353.572  </td><td style=\"text-align: right;\">-467.72  </td><td style=\"text-align: right;\">  -46.9827</td><td style=\"text-align: right;\">  141.623  </td><td style=\"text-align: right;\"> -263.654 </td><td style=\"text-align: right;\">   38.275 </td><td style=\"text-align: right;\"> 273.865</td><td style=\"text-align: right;\">-344.128 </td><td style=\"text-align: right;\"> -160.28  </td><td style=\"text-align: right;\"> -296.171 </td><td style=\"text-align: right;\">-172.289 </td><td style=\"text-align: right;\">-155.369</td><td style=\"text-align: right;\"> 232.085 </td><td style=\"text-align: right;\">  322.551 </td><td style=\"text-align: right;\">-217.296 </td><td style=\"text-align: right;\">-185.128  </td><td style=\"text-align: right;\">-471.455</td><td style=\"text-align: right;\"> 384.156 </td><td style=\"text-align: right;\">-135.293 </td><td style=\"text-align: right;\"> 161.237 </td><td style=\"text-align: right;\">  41.2837 </td><td style=\"text-align: right;\">  -7.91631</td><td style=\"text-align: right;\"> 344.89  </td><td style=\"text-align: right;\">-203.57  </td><td style=\"text-align: right;\"> -244.405</td><td style=\"text-align: right;\"> 203.276 </td><td style=\"text-align: right;\">-115.635 </td><td style=\"text-align: right;\"> 170.647 </td><td style=\"text-align: right;\">  198.815 </td><td style=\"text-align: right;\">-193.735 </td><td style=\"text-align: right;\"> -122.196</td><td style=\"text-align: right;\"> -54.051 </td><td style=\"text-align: right;\">-120.722</td><td style=\"text-align: right;\"> 151.631 </td><td style=\"text-align: right;\">   -5.74798</td><td style=\"text-align: right;\">  -7.09617</td><td style=\"text-align: right;\">  -93.214 </td><td style=\"text-align: right;\"> -386.907</td><td style=\"text-align: right;\"> 150.271 </td><td style=\"text-align: right;\">  103.533 </td><td style=\"text-align: right;\">-103.519 </td><td style=\"text-align: right;\"> -21.7133</td><td style=\"text-align: right;\"> 305.292 </td><td style=\"text-align: right;\">-147.945 </td><td style=\"text-align: right;\"> -164.128 </td><td style=\"text-align: right;\"> -167.893 </td><td style=\"text-align: right;\"> 313.454 </td><td style=\"text-align: right;\">  90.5143</td><td style=\"text-align: right;\">  -4.52665</td><td style=\"text-align: right;\">  206.867 </td><td style=\"text-align: right;\">   1.30048</td><td style=\"text-align: right;\">-169.821 </td><td style=\"text-align: right;\"> 201.67  </td><td style=\"text-align: right;\"> -103.821 </td><td style=\"text-align: right;\">   69.4897 </td><td style=\"text-align: right;\">  141.439 </td><td style=\"text-align: right;\">-167.178 </td><td style=\"text-align: right;\"> 255.104 </td><td style=\"text-align: right;\">  -81.9475 </td><td style=\"text-align: right;\">  93.3062</td><td style=\"text-align: right;\">  79.8971 </td><td style=\"text-align: right;\"> 296.094 </td><td style=\"text-align: right;\">  31.0739</td><td style=\"text-align: right;\"> -81.0616 </td><td style=\"text-align: right;\"> -75.2293</td><td style=\"text-align: right;\">  -18.7859</td><td style=\"text-align: right;\">  38.6992</td><td style=\"text-align: right;\">-151.987  </td><td style=\"text-align: right;\"> -47.2363 </td><td style=\"text-align: right;\">-202.427 </td><td style=\"text-align: right;\"> 254.216 </td><td style=\"text-align: right;\">-251.005 </td><td style=\"text-align: right;\"> -38.4468</td><td style=\"text-align: right;\">-287.75  </td><td style=\"text-align: right;\">  60.7355</td><td style=\"text-align: right;\">  143.414</td><td style=\"text-align: right;\"> 209.729  </td><td style=\"text-align: right;\"> 167.594 </td><td style=\"text-align: right;\">-140.717 </td><td style=\"text-align: right;\">  -2.01877</td><td style=\"text-align: right;\"> 128.742</td><td style=\"text-align: right;\">   30.3198</td><td style=\"text-align: right;\"> -93.4142</td><td style=\"text-align: right;\">-169.997 </td><td style=\"text-align: right;\">-218.267 </td><td style=\"text-align: right;\">-171.179  </td><td style=\"text-align: right;\"> -10.9385</td><td style=\"text-align: right;\">  43.239 </td><td style=\"text-align: right;\">-123.263</td><td style=\"text-align: right;\"> -18.1847</td><td style=\"text-align: right;\">  80.9657 </td><td style=\"text-align: right;\"> 138.473 </td><td style=\"text-align: right;\"> -10.2389</td><td style=\"text-align: right;\"> -75.3772</td><td style=\"text-align: right;\">  85.4118 </td><td style=\"text-align: right;\">  26.8345</td><td style=\"text-align: right;\">   1.03436</td><td style=\"text-align: right;\">  33.0181</td><td style=\"text-align: right;\"> 167.049</td><td style=\"text-align: right;\">-252.138 </td><td style=\"text-align: right;\"> 188.431 </td><td style=\"text-align: right;\"> 104.733 </td><td style=\"text-align: right;\">  19.9386</td><td style=\"text-align: right;\"> 141.416 </td><td style=\"text-align: right;\"> 121.122 </td><td style=\"text-align: right;\">-151.279 </td><td style=\"text-align: right;\">  20.75  </td><td style=\"text-align: right;\"> -49.5024</td><td style=\"text-align: right;\"> -56.4702 </td><td style=\"text-align: right;\">  79.3763</td><td style=\"text-align: right;\"> 172.008 </td><td style=\"text-align: right;\">  29.7033</td><td style=\"text-align: right;\"> 182.51  </td><td style=\"text-align: right;\">-104.168 </td><td style=\"text-align: right;\"> -29.499 </td><td style=\"text-align: right;\"> 127.924 </td><td style=\"text-align: right;\"> -25.8602</td><td style=\"text-align: right;\"> 212.368 </td><td style=\"text-align: right;\">   57.423</td><td style=\"text-align: right;\">-218.617 </td><td style=\"text-align: right;\">-156.755 </td><td style=\"text-align: right;\"> -66.1829</td><td style=\"text-align: right;\">  75.5676</td><td style=\"text-align: right;\"> 127.192 </td><td style=\"text-align: right;\"> -28.3858</td><td style=\"text-align: right;\">-269.383 </td><td style=\"text-align: right;\">   2.61219</td><td style=\"text-align: right;\">  40.0197 </td><td style=\"text-align: right;\">  72.836 </td><td style=\"text-align: right;\">  17.3805</td><td style=\"text-align: right;\">  95.0578</td><td style=\"text-align: right;\">-100.539  </td><td style=\"text-align: right;\"> -17.2523 </td><td style=\"text-align: right;\"> 107.952 </td><td style=\"text-align: right;\">-129.657 </td><td style=\"text-align: right;\"> 113.194 </td><td style=\"text-align: right;\">  85.0651</td><td style=\"text-align: right;\"> 427.835 </td><td style=\"text-align: right;\"> -35.7436</td><td style=\"text-align: right;\">  81.6404</td><td style=\"text-align: right;\"> -63.774  </td><td style=\"text-align: right;\"> -89.6454</td><td style=\"text-align: right;\"> -59.9389</td><td style=\"text-align: right;\">  84.9331</td><td style=\"text-align: right;\">-207.958</td><td style=\"text-align: right;\">  11.7826</td><td style=\"text-align: right;\"> -26.4274</td><td style=\"text-align: right;\">  -9.41773</td><td style=\"text-align: right;\"> -92.7043</td><td style=\"text-align: right;\"> -49.2147</td><td style=\"text-align: right;\">-217.597 </td><td style=\"text-align: right;\">-107.642</td><td style=\"text-align: right;\"> -52.7994</td><td style=\"text-align: right;\">  23.2873</td><td style=\"text-align: right;\">-259.312</td><td style=\"text-align: right;\"> -62.7704</td><td style=\"text-align: right;\">   8.92639  </td><td style=\"text-align: right;\">-142.622 </td><td style=\"text-align: right;\"> 108.748</td><td style=\"text-align: right;\"> -66.4035 </td><td style=\"text-align: right;\">-116.828  </td><td style=\"text-align: right;\">-151.213  </td><td style=\"text-align: right;\">  18.0332</td><td style=\"text-align: right;\"> -77.6514</td><td style=\"text-align: right;\">   16.3355</td><td style=\"text-align: right;\">  25.7061</td><td style=\"text-align: right;\"> -50.8269 </td><td style=\"text-align: right;\">-126.684</td><td style=\"text-align: right;\">-197.909 </td></tr>\n",
       "<tr><td style=\"text-align: right;\"> 8256.59  </td><td style=\"text-align: right;\">-228.814 </td><td style=\"text-align: right;\"> 1199.97  </td><td style=\"text-align: right;\">1578.12 </td><td style=\"text-align: right;\"> 714.135 </td><td style=\"text-align: right;\"> -727.522</td><td style=\"text-align: right;\">-263.663  </td><td style=\"text-align: right;\">  132.391 </td><td style=\"text-align: right;\">1647.52  </td><td style=\"text-align: right;\"> 1734.65  </td><td style=\"text-align: right;\"> 272.855 </td><td style=\"text-align: right;\">-604.559 </td><td style=\"text-align: right;\"> 410.343 </td><td style=\"text-align: right;\">-657.124 </td><td style=\"text-align: right;\">1476.99  </td><td style=\"text-align: right;\">-208.817 </td><td style=\"text-align: right;\">  321.625 </td><td style=\"text-align: right;\">1033.62  </td><td style=\"text-align: right;\">-216.414 </td><td style=\"text-align: right;\">-482.884 </td><td style=\"text-align: right;\"> -381.12  </td><td style=\"text-align: right;\"> -455.127  </td><td style=\"text-align: right;\"> -137.713 </td><td style=\"text-align: right;\">1094.73  </td><td style=\"text-align: right;\">1122.78  </td><td style=\"text-align: right;\">-1135.19 </td><td style=\"text-align: right;\">-615.041  </td><td style=\"text-align: right;\">-768.324 </td><td style=\"text-align: right;\">-259.377 </td><td style=\"text-align: right;\">-636.611 </td><td style=\"text-align: right;\">-136.302 </td><td style=\"text-align: right;\">-101.277  </td><td style=\"text-align: right;\">-582.572 </td><td style=\"text-align: right;\"> -417.02  </td><td style=\"text-align: right;\">  250.833  </td><td style=\"text-align: right;\">-1587.63  </td><td style=\"text-align: right;\">-1304.33  </td><td style=\"text-align: right;\">1314.42 </td><td style=\"text-align: right;\"> 255.695 </td><td style=\"text-align: right;\">-1574.07  </td><td style=\"text-align: right;\"> 1701.17  </td><td style=\"text-align: right;\"> 675.126 </td><td style=\"text-align: right;\">-622.305</td><td style=\"text-align: right;\">-505.459 </td><td style=\"text-align: right;\"> -816.464 </td><td style=\"text-align: right;\"> 445.139 </td><td style=\"text-align: right;\">   3.57531</td><td style=\"text-align: right;\"> 747.666</td><td style=\"text-align: right;\">-950.312 </td><td style=\"text-align: right;\"> 201.658 </td><td style=\"text-align: right;\">-727.585 </td><td style=\"text-align: right;\"> 599.493  </td><td style=\"text-align: right;\"> 513.49   </td><td style=\"text-align: right;\">-353.09  </td><td style=\"text-align: right;\"> 277.062 </td><td style=\"text-align: right;\"> 1042.83 </td><td style=\"text-align: right;\">-129.99  </td><td style=\"text-align: right;\">-937.511 </td><td style=\"text-align: right;\"> -72.8497</td><td style=\"text-align: right;\">-1700.01  </td><td style=\"text-align: right;\">-711.323 </td><td style=\"text-align: right;\"> -817.899</td><td style=\"text-align: right;\"> 311.459 </td><td style=\"text-align: right;\"> 420.623</td><td style=\"text-align: right;\">-984.144 </td><td style=\"text-align: right;\">-1125.66   </td><td style=\"text-align: right;\"> 206.533  </td><td style=\"text-align: right;\">-1229.36  </td><td style=\"text-align: right;\">  414.494</td><td style=\"text-align: right;\"> 717.364 </td><td style=\"text-align: right;\">-1295.96  </td><td style=\"text-align: right;\">1255.39  </td><td style=\"text-align: right;\"> 496.163 </td><td style=\"text-align: right;\"> 819.128 </td><td style=\"text-align: right;\">-146.322 </td><td style=\"text-align: right;\">-1069.79  </td><td style=\"text-align: right;\">-1008.55  </td><td style=\"text-align: right;\">-434.918 </td><td style=\"text-align: right;\">-401.805 </td><td style=\"text-align: right;\">-430.155  </td><td style=\"text-align: right;\">-1057.61  </td><td style=\"text-align: right;\">-581.613  </td><td style=\"text-align: right;\">-316.522 </td><td style=\"text-align: right;\">-252.651 </td><td style=\"text-align: right;\">  636.23  </td><td style=\"text-align: right;\">-1573.07   </td><td style=\"text-align: right;\">  624.886 </td><td style=\"text-align: right;\"> 425.899 </td><td style=\"text-align: right;\"> 268.195 </td><td style=\"text-align: right;\">  590.79   </td><td style=\"text-align: right;\"> 191.972 </td><td style=\"text-align: right;\">-570.6    </td><td style=\"text-align: right;\">1892.57  </td><td style=\"text-align: right;\">-591.286 </td><td style=\"text-align: right;\">-367.365  </td><td style=\"text-align: right;\"> 425.25  </td><td style=\"text-align: right;\">  283.444 </td><td style=\"text-align: right;\"> 694.637 </td><td style=\"text-align: right;\">-653.155  </td><td style=\"text-align: right;\"> 386.057  </td><td style=\"text-align: right;\">  75.6656</td><td style=\"text-align: right;\"> 187.681 </td><td style=\"text-align: right;\"> -95.6654</td><td style=\"text-align: right;\"> 679.97  </td><td style=\"text-align: right;\"> 417.347 </td><td style=\"text-align: right;\">1188.51  </td><td style=\"text-align: right;\">-1099.6  </td><td style=\"text-align: right;\">-383.522  </td><td style=\"text-align: right;\"> 608.135 </td><td style=\"text-align: right;\">-225.114 </td><td style=\"text-align: right;\">1430.02   </td><td style=\"text-align: right;\">-177.185</td><td style=\"text-align: right;\">-1722     </td><td style=\"text-align: right;\">-563.995 </td><td style=\"text-align: right;\"> 400.753 </td><td style=\"text-align: right;\"> 837.158 </td><td style=\"text-align: right;\"> 305.097  </td><td style=\"text-align: right;\"> 571.946 </td><td style=\"text-align: right;\"> 854.079 </td><td style=\"text-align: right;\">-436.516</td><td style=\"text-align: right;\"> 135.432 </td><td style=\"text-align: right;\"> 600.83   </td><td style=\"text-align: right;\"> 607.98  </td><td style=\"text-align: right;\"> -55.4355</td><td style=\"text-align: right;\"> 105.436 </td><td style=\"text-align: right;\">-121.923  </td><td style=\"text-align: right;\">-337.058 </td><td style=\"text-align: right;\">-237.722  </td><td style=\"text-align: right;\">-566.81  </td><td style=\"text-align: right;\">1018.62 </td><td style=\"text-align: right;\">-350.886 </td><td style=\"text-align: right;\"> 311.989 </td><td style=\"text-align: right;\"> 338.501 </td><td style=\"text-align: right;\">-287.988 </td><td style=\"text-align: right;\">-415.626 </td><td style=\"text-align: right;\">  96.1642</td><td style=\"text-align: right;\"> -11.6648</td><td style=\"text-align: right;\">-148.117 </td><td style=\"text-align: right;\">-854.429 </td><td style=\"text-align: right;\">-316.044  </td><td style=\"text-align: right;\"> 646.841 </td><td style=\"text-align: right;\"> 444.018 </td><td style=\"text-align: right;\">  64.763 </td><td style=\"text-align: right;\">-549.359 </td><td style=\"text-align: right;\">  82.1267</td><td style=\"text-align: right;\">-780.822 </td><td style=\"text-align: right;\">-122.774 </td><td style=\"text-align: right;\"> 128.629 </td><td style=\"text-align: right;\"> 230.881 </td><td style=\"text-align: right;\">-1256.01 </td><td style=\"text-align: right;\"> -53.8049</td><td style=\"text-align: right;\">-566.39  </td><td style=\"text-align: right;\">-279.276 </td><td style=\"text-align: right;\"> 166.681 </td><td style=\"text-align: right;\">-270.494 </td><td style=\"text-align: right;\"> -62.023 </td><td style=\"text-align: right;\">-670.375 </td><td style=\"text-align: right;\">  18.7271 </td><td style=\"text-align: right;\">-512.122  </td><td style=\"text-align: right;\"> 746.076 </td><td style=\"text-align: right;\">-252.968 </td><td style=\"text-align: right;\"> 450.583 </td><td style=\"text-align: right;\">-147.194  </td><td style=\"text-align: right;\">   5.07358</td><td style=\"text-align: right;\">-526.682 </td><td style=\"text-align: right;\">-660.036 </td><td style=\"text-align: right;\">  32.9112</td><td style=\"text-align: right;\">-367.926 </td><td style=\"text-align: right;\">-105.798 </td><td style=\"text-align: right;\"> -74.0324</td><td style=\"text-align: right;\"> 291.373 </td><td style=\"text-align: right;\"> 630.293  </td><td style=\"text-align: right;\"> 206.337 </td><td style=\"text-align: right;\">  78.4135</td><td style=\"text-align: right;\">-265.78  </td><td style=\"text-align: right;\">-341.684</td><td style=\"text-align: right;\"> 434.303 </td><td style=\"text-align: right;\"> 353.697 </td><td style=\"text-align: right;\"> 313.807  </td><td style=\"text-align: right;\">-739.572 </td><td style=\"text-align: right;\"> 100.728 </td><td style=\"text-align: right;\"> 690.008 </td><td style=\"text-align: right;\">-734.61 </td><td style=\"text-align: right;\">  29.9274</td><td style=\"text-align: right;\"> 145.744 </td><td style=\"text-align: right;\"> 315.179</td><td style=\"text-align: right;\"> 230.483 </td><td style=\"text-align: right;\">-311.795    </td><td style=\"text-align: right;\">-277.973 </td><td style=\"text-align: right;\"> 575.244</td><td style=\"text-align: right;\">-533.556  </td><td style=\"text-align: right;\">  -3.86468</td><td style=\"text-align: right;\"> -80.8102 </td><td style=\"text-align: right;\"> 445.61  </td><td style=\"text-align: right;\"> 332.986 </td><td style=\"text-align: right;\">   27.86  </td><td style=\"text-align: right;\"> 204.859 </td><td style=\"text-align: right;\">-394.339  </td><td style=\"text-align: right;\"> 221.567</td><td style=\"text-align: right;\"> 663.548 </td></tr>\n",
       "<tr><td style=\"text-align: right;\">-5465.08  </td><td style=\"text-align: right;\">-261.836 </td><td style=\"text-align: right;\">  188.832 </td><td style=\"text-align: right;\">-213.096</td><td style=\"text-align: right;\"> -59.2275</td><td style=\"text-align: right;\">  553.291</td><td style=\"text-align: right;\"> 133.025  </td><td style=\"text-align: right;\">  413.788 </td><td style=\"text-align: right;\"> -95.2302</td><td style=\"text-align: right;\">   67.3437</td><td style=\"text-align: right;\"> 470.8   </td><td style=\"text-align: right;\"> 525.448 </td><td style=\"text-align: right;\">  24.8703</td><td style=\"text-align: right;\">  96.5021</td><td style=\"text-align: right;\"> 216.557 </td><td style=\"text-align: right;\"> -64.2355</td><td style=\"text-align: right;\">   16.1934</td><td style=\"text-align: right;\"> -90.4557</td><td style=\"text-align: right;\"> 269.246 </td><td style=\"text-align: right;\">  51.4625</td><td style=\"text-align: right;\">  -61.2893</td><td style=\"text-align: right;\">    8.54559</td><td style=\"text-align: right;\">   76.8345</td><td style=\"text-align: right;\">-210.111 </td><td style=\"text-align: right;\">-322.7   </td><td style=\"text-align: right;\"> -250.197</td><td style=\"text-align: right;\"> 100.025  </td><td style=\"text-align: right;\"> -58.7064</td><td style=\"text-align: right;\"> -16.5067</td><td style=\"text-align: right;\"> 380.175 </td><td style=\"text-align: right;\">-293.612 </td><td style=\"text-align: right;\">-112.154  </td><td style=\"text-align: right;\">-353.778 </td><td style=\"text-align: right;\">   64.3363</td><td style=\"text-align: right;\"> -465.706  </td><td style=\"text-align: right;\">  279.837 </td><td style=\"text-align: right;\"> -207.572 </td><td style=\"text-align: right;\"> 260.41 </td><td style=\"text-align: right;\">  98.3696</td><td style=\"text-align: right;\"> -340.228 </td><td style=\"text-align: right;\"> -203.282 </td><td style=\"text-align: right;\"> 311.059 </td><td style=\"text-align: right;\"> 150.587</td><td style=\"text-align: right;\"> -48.0176</td><td style=\"text-align: right;\">  -48.2282</td><td style=\"text-align: right;\"> 281.401 </td><td style=\"text-align: right;\"> 173.893  </td><td style=\"text-align: right;\"> 111.279</td><td style=\"text-align: right;\"> -54.7516</td><td style=\"text-align: right;\"> 400.465 </td><td style=\"text-align: right;\">-658.42  </td><td style=\"text-align: right;\"> 113.203  </td><td style=\"text-align: right;\">-114.09   </td><td style=\"text-align: right;\">  25.3063</td><td style=\"text-align: right;\"> 258.908 </td><td style=\"text-align: right;\"> -150.114</td><td style=\"text-align: right;\">-158.839 </td><td style=\"text-align: right;\">-509.604 </td><td style=\"text-align: right;\"> -69.2813</td><td style=\"text-align: right;\">   46.3335</td><td style=\"text-align: right;\"> 330.979 </td><td style=\"text-align: right;\"> -118.843</td><td style=\"text-align: right;\">  44.0416</td><td style=\"text-align: right;\"> 299.814</td><td style=\"text-align: right;\"> 302.211 </td><td style=\"text-align: right;\">  168.146  </td><td style=\"text-align: right;\">  35.4712 </td><td style=\"text-align: right;\">  135.297 </td><td style=\"text-align: right;\">  -78.532</td><td style=\"text-align: right;\"> -20.5287</td><td style=\"text-align: right;\">  -34.8377</td><td style=\"text-align: right;\"> 330.407 </td><td style=\"text-align: right;\">-185.314 </td><td style=\"text-align: right;\"> -31.9967</td><td style=\"text-align: right;\"> 155.081 </td><td style=\"text-align: right;\"> -292.675 </td><td style=\"text-align: right;\">  -97.9374</td><td style=\"text-align: right;\"> -38.4168</td><td style=\"text-align: right;\"> -43.8906</td><td style=\"text-align: right;\">-178.8    </td><td style=\"text-align: right;\">  -86.959 </td><td style=\"text-align: right;\">  -5.38911</td><td style=\"text-align: right;\">  67.1944</td><td style=\"text-align: right;\"> -60.7511</td><td style=\"text-align: right;\"> -120.812 </td><td style=\"text-align: right;\"> -145.526  </td><td style=\"text-align: right;\">  168.738 </td><td style=\"text-align: right;\">  43.861 </td><td style=\"text-align: right;\"> -57.5401</td><td style=\"text-align: right;\"> -309.153  </td><td style=\"text-align: right;\"> 226.852 </td><td style=\"text-align: right;\">-114.924  </td><td style=\"text-align: right;\"> 237.426 </td><td style=\"text-align: right;\">-128.787 </td><td style=\"text-align: right;\">   2.23953</td><td style=\"text-align: right;\"> 327.566 </td><td style=\"text-align: right;\"> -169.659 </td><td style=\"text-align: right;\">  59.962 </td><td style=\"text-align: right;\">  -5.09668</td><td style=\"text-align: right;\">   8.84863</td><td style=\"text-align: right;\">  73.0733</td><td style=\"text-align: right;\">-157.033 </td><td style=\"text-align: right;\">-260.714 </td><td style=\"text-align: right;\">-426.438 </td><td style=\"text-align: right;\"> 107.355 </td><td style=\"text-align: right;\"> -93.3768</td><td style=\"text-align: right;\"> -288.406</td><td style=\"text-align: right;\">-130.433  </td><td style=\"text-align: right;\">-279.287 </td><td style=\"text-align: right;\"> -47.4695</td><td style=\"text-align: right;\"> -77.5671 </td><td style=\"text-align: right;\">-279.581</td><td style=\"text-align: right;\">   54.5289</td><td style=\"text-align: right;\">  93.4333</td><td style=\"text-align: right;\">  39.3463</td><td style=\"text-align: right;\"> -96.9391</td><td style=\"text-align: right;\">   9.34714</td><td style=\"text-align: right;\"> 275.704 </td><td style=\"text-align: right;\"> -32.3373</td><td style=\"text-align: right;\">-158.503</td><td style=\"text-align: right;\">-128.034 </td><td style=\"text-align: right;\">-394.786  </td><td style=\"text-align: right;\"> 122.012 </td><td style=\"text-align: right;\"> -42.4183</td><td style=\"text-align: right;\">-102.381 </td><td style=\"text-align: right;\"> 237.777  </td><td style=\"text-align: right;\">-502.073 </td><td style=\"text-align: right;\"> 142.281  </td><td style=\"text-align: right;\"> 347.471 </td><td style=\"text-align: right;\"> 311.927</td><td style=\"text-align: right;\">-416.074 </td><td style=\"text-align: right;\">  42.7473</td><td style=\"text-align: right;\"> -76.1226</td><td style=\"text-align: right;\">-268.757 </td><td style=\"text-align: right;\"> 409.901 </td><td style=\"text-align: right;\"> -28.4935</td><td style=\"text-align: right;\">-291.077 </td><td style=\"text-align: right;\">-142.317 </td><td style=\"text-align: right;\">  93.976 </td><td style=\"text-align: right;\">-133.863  </td><td style=\"text-align: right;\"> 504.302 </td><td style=\"text-align: right;\"> 204.096 </td><td style=\"text-align: right;\"> -88.7919</td><td style=\"text-align: right;\">  88.1329</td><td style=\"text-align: right;\">-105.413 </td><td style=\"text-align: right;\">  33.9004</td><td style=\"text-align: right;\"> 394.349 </td><td style=\"text-align: right;\">  71.8694</td><td style=\"text-align: right;\"> 272.312 </td><td style=\"text-align: right;\">   13.912</td><td style=\"text-align: right;\"> 125.811 </td><td style=\"text-align: right;\">-286.541 </td><td style=\"text-align: right;\"> -34.3754</td><td style=\"text-align: right;\"> 144.72  </td><td style=\"text-align: right;\"> 130.352 </td><td style=\"text-align: right;\">-193.486 </td><td style=\"text-align: right;\"> 152.523 </td><td style=\"text-align: right;\"> -13.6089 </td><td style=\"text-align: right;\">  -5.93401</td><td style=\"text-align: right;\">  90.1342</td><td style=\"text-align: right;\">-178.316 </td><td style=\"text-align: right;\">-311.791 </td><td style=\"text-align: right;\">   1.27805</td><td style=\"text-align: right;\"> 237.331  </td><td style=\"text-align: right;\"> -13.0148</td><td style=\"text-align: right;\">-145.97  </td><td style=\"text-align: right;\">-180.973 </td><td style=\"text-align: right;\"> -62.4294</td><td style=\"text-align: right;\"> 159.95  </td><td style=\"text-align: right;\">-189.914 </td><td style=\"text-align: right;\"> 145.642 </td><td style=\"text-align: right;\"> -47.8098 </td><td style=\"text-align: right;\"> -33.0046</td><td style=\"text-align: right;\">-262.185 </td><td style=\"text-align: right;\"> 130.522 </td><td style=\"text-align: right;\"> 131.839</td><td style=\"text-align: right;\"> 311.469 </td><td style=\"text-align: right;\"> 148.734 </td><td style=\"text-align: right;\">  87.2787 </td><td style=\"text-align: right;\"> -56.8053</td><td style=\"text-align: right;\">-103.367 </td><td style=\"text-align: right;\"> -95.3054</td><td style=\"text-align: right;\"> 104.339</td><td style=\"text-align: right;\"> 191.988 </td><td style=\"text-align: right;\">-261.4   </td><td style=\"text-align: right;\">-103.831</td><td style=\"text-align: right;\">-251.812 </td><td style=\"text-align: right;\"> -35.8844   </td><td style=\"text-align: right;\">-279.927 </td><td style=\"text-align: right;\">-291.634</td><td style=\"text-align: right;\"> 117.192  </td><td style=\"text-align: right;\">-457.096  </td><td style=\"text-align: right;\"> -52.9084 </td><td style=\"text-align: right;\"> 277.906 </td><td style=\"text-align: right;\">-234.81  </td><td style=\"text-align: right;\"> -255.339 </td><td style=\"text-align: right;\"> 123.289 </td><td style=\"text-align: right;\">  -3.14648</td><td style=\"text-align: right;\"> 183.927</td><td style=\"text-align: right;\"> 235.11  </td></tr>\n",
       "<tr><td style=\"text-align: right;\">10236.6   </td><td style=\"text-align: right;\">1700.51  </td><td style=\"text-align: right;\">  -57.5691</td><td style=\"text-align: right;\">-142.762</td><td style=\"text-align: right;\">-708.839 </td><td style=\"text-align: right;\">  543.311</td><td style=\"text-align: right;\">   3.22104</td><td style=\"text-align: right;\"> -254.657 </td><td style=\"text-align: right;\">-330.183 </td><td style=\"text-align: right;\">  784.277 </td><td style=\"text-align: right;\"> 307.576 </td><td style=\"text-align: right;\"> 801.53  </td><td style=\"text-align: right;\">-586.391 </td><td style=\"text-align: right;\">-134.902 </td><td style=\"text-align: right;\">1392.86  </td><td style=\"text-align: right;\"> -99.6937</td><td style=\"text-align: right;\">  142.581 </td><td style=\"text-align: right;\">-298.446 </td><td style=\"text-align: right;\">  64.0437</td><td style=\"text-align: right;\"> 132.869 </td><td style=\"text-align: right;\">  429.97  </td><td style=\"text-align: right;\"> -464.235  </td><td style=\"text-align: right;\">  422.717 </td><td style=\"text-align: right;\"> 530.22  </td><td style=\"text-align: right;\"> 336.546 </td><td style=\"text-align: right;\">  123.802</td><td style=\"text-align: right;\">-255.404  </td><td style=\"text-align: right;\"> 345.741 </td><td style=\"text-align: right;\">-294.569 </td><td style=\"text-align: right;\">-215.854 </td><td style=\"text-align: right;\">-577.871 </td><td style=\"text-align: right;\"> -36.0434 </td><td style=\"text-align: right;\"> 129.881 </td><td style=\"text-align: right;\">  209.078 </td><td style=\"text-align: right;\">   -8.26237</td><td style=\"text-align: right;\"> -258.516 </td><td style=\"text-align: right;\">  -61.8423</td><td style=\"text-align: right;\"> 141.431</td><td style=\"text-align: right;\">-571.557 </td><td style=\"text-align: right;\"> -153.297 </td><td style=\"text-align: right;\">   46.1861</td><td style=\"text-align: right;\"> 263.32  </td><td style=\"text-align: right;\">-577.378</td><td style=\"text-align: right;\"> -67.6275</td><td style=\"text-align: right;\"> -229.872 </td><td style=\"text-align: right;\"> 356.928 </td><td style=\"text-align: right;\"> 271.234  </td><td style=\"text-align: right;\"> 138.512</td><td style=\"text-align: right;\">-487.486 </td><td style=\"text-align: right;\">  53.7333</td><td style=\"text-align: right;\">1083.27  </td><td style=\"text-align: right;\"> 585.381  </td><td style=\"text-align: right;\"> 685.373  </td><td style=\"text-align: right;\"> 677.602 </td><td style=\"text-align: right;\">-532.925 </td><td style=\"text-align: right;\">  137.664</td><td style=\"text-align: right;\">  70.9781</td><td style=\"text-align: right;\"> -22.7542</td><td style=\"text-align: right;\"> 374.417 </td><td style=\"text-align: right;\"> -352.516 </td><td style=\"text-align: right;\">  52.5965</td><td style=\"text-align: right;\">-1004.39 </td><td style=\"text-align: right;\">-471.59  </td><td style=\"text-align: right;\"> -86.813</td><td style=\"text-align: right;\"> 347.142 </td><td style=\"text-align: right;\"> -222.07   </td><td style=\"text-align: right;\">-240.071  </td><td style=\"text-align: right;\"> -370.978 </td><td style=\"text-align: right;\">  351.18 </td><td style=\"text-align: right;\"> 774.518 </td><td style=\"text-align: right;\">  266.75  </td><td style=\"text-align: right;\">-598.267 </td><td style=\"text-align: right;\"> 576.404 </td><td style=\"text-align: right;\">-110.944 </td><td style=\"text-align: right;\"> 145.786 </td><td style=\"text-align: right;\">   39.5737</td><td style=\"text-align: right;\"> -531.279 </td><td style=\"text-align: right;\">-126.303 </td><td style=\"text-align: right;\"> -32.7458</td><td style=\"text-align: right;\">  82.158  </td><td style=\"text-align: right;\"> -339.03  </td><td style=\"text-align: right;\"> -41.2204 </td><td style=\"text-align: right;\">-131.026 </td><td style=\"text-align: right;\"> -45.1254</td><td style=\"text-align: right;\">  703.477 </td><td style=\"text-align: right;\">  -17.0607 </td><td style=\"text-align: right;\">  262.713 </td><td style=\"text-align: right;\">-194.314 </td><td style=\"text-align: right;\">-492.595 </td><td style=\"text-align: right;\"> -436.754  </td><td style=\"text-align: right;\"> 133.003 </td><td style=\"text-align: right;\">-867.514  </td><td style=\"text-align: right;\">  57.6188</td><td style=\"text-align: right;\">-316.446 </td><td style=\"text-align: right;\"> 192.421  </td><td style=\"text-align: right;\"> -73.8195</td><td style=\"text-align: right;\">   14.3228</td><td style=\"text-align: right;\">  20.3189</td><td style=\"text-align: right;\">-223.25   </td><td style=\"text-align: right;\">-174.03   </td><td style=\"text-align: right;\"> -27.365 </td><td style=\"text-align: right;\">-445.615 </td><td style=\"text-align: right;\"> 133.461 </td><td style=\"text-align: right;\">-177.235 </td><td style=\"text-align: right;\"> 155.58  </td><td style=\"text-align: right;\"> 468.403 </td><td style=\"text-align: right;\"> -262.944</td><td style=\"text-align: right;\">-496.2    </td><td style=\"text-align: right;\"> 364.075 </td><td style=\"text-align: right;\"> -66.1475</td><td style=\"text-align: right;\"> 168.017  </td><td style=\"text-align: right;\">-183.772</td><td style=\"text-align: right;\">   35.6675</td><td style=\"text-align: right;\">-147.057 </td><td style=\"text-align: right;\">-329.711 </td><td style=\"text-align: right;\"> 391.516 </td><td style=\"text-align: right;\"> -41.9737 </td><td style=\"text-align: right;\"> 278.251 </td><td style=\"text-align: right;\">-128.371 </td><td style=\"text-align: right;\">-519.091</td><td style=\"text-align: right;\">-449.318 </td><td style=\"text-align: right;\"> 399.504  </td><td style=\"text-align: right;\">  72.6533</td><td style=\"text-align: right;\"> 163.342 </td><td style=\"text-align: right;\">  70.2781</td><td style=\"text-align: right;\">-233.833  </td><td style=\"text-align: right;\"> -47.3144</td><td style=\"text-align: right;\">  15.8256 </td><td style=\"text-align: right;\">-306.824 </td><td style=\"text-align: right;\"> 216.116</td><td style=\"text-align: right;\"> 365.133 </td><td style=\"text-align: right;\">  92.0654</td><td style=\"text-align: right;\"> -79.482 </td><td style=\"text-align: right;\"> -82.9462</td><td style=\"text-align: right;\">  32.9762</td><td style=\"text-align: right;\"> 210.405 </td><td style=\"text-align: right;\">-155.812 </td><td style=\"text-align: right;\">-200.163 </td><td style=\"text-align: right;\"> -83.8114</td><td style=\"text-align: right;\"> 102.043  </td><td style=\"text-align: right;\">-138.278 </td><td style=\"text-align: right;\"> 230.3   </td><td style=\"text-align: right;\"> -22.6844</td><td style=\"text-align: right;\"> -34.1621</td><td style=\"text-align: right;\"> -42.4455</td><td style=\"text-align: right;\"> 461.033 </td><td style=\"text-align: right;\"> 330.863 </td><td style=\"text-align: right;\">-354.518 </td><td style=\"text-align: right;\"> 215.325 </td><td style=\"text-align: right;\"> -135.405</td><td style=\"text-align: right;\"> 389.017 </td><td style=\"text-align: right;\">-393.835 </td><td style=\"text-align: right;\">-259.898 </td><td style=\"text-align: right;\"> 264.698 </td><td style=\"text-align: right;\">-314.597 </td><td style=\"text-align: right;\">-393.362 </td><td style=\"text-align: right;\">-633.425 </td><td style=\"text-align: right;\">-244.847  </td><td style=\"text-align: right;\"> 407.409  </td><td style=\"text-align: right;\"> 410.853 </td><td style=\"text-align: right;\">-208.549 </td><td style=\"text-align: right;\">-356.886 </td><td style=\"text-align: right;\">-270.646  </td><td style=\"text-align: right;\"> 211.693  </td><td style=\"text-align: right;\"> -39.2228</td><td style=\"text-align: right;\"> -46.6908</td><td style=\"text-align: right;\">-117.748 </td><td style=\"text-align: right;\">-363.326 </td><td style=\"text-align: right;\"> -51.758 </td><td style=\"text-align: right;\">-149.692 </td><td style=\"text-align: right;\">-175.748 </td><td style=\"text-align: right;\"> 275.691  </td><td style=\"text-align: right;\">-297.139 </td><td style=\"text-align: right;\"> 140.135 </td><td style=\"text-align: right;\">-168.158 </td><td style=\"text-align: right;\">  90.245</td><td style=\"text-align: right;\">  87.2362</td><td style=\"text-align: right;\"> 246.888 </td><td style=\"text-align: right;\"> 678.716  </td><td style=\"text-align: right;\">  68.8684</td><td style=\"text-align: right;\">-196.212 </td><td style=\"text-align: right;\"> 276.256 </td><td style=\"text-align: right;\"> 297.997</td><td style=\"text-align: right;\">  35.8958</td><td style=\"text-align: right;\">  68.1014</td><td style=\"text-align: right;\">-231.714</td><td style=\"text-align: right;\"> 245.543 </td><td style=\"text-align: right;\">  75.3814   </td><td style=\"text-align: right;\"> 344.603 </td><td style=\"text-align: right;\"> 110.991</td><td style=\"text-align: right;\"> 335.608  </td><td style=\"text-align: right;\">  82.7925 </td><td style=\"text-align: right;\"> 125.744  </td><td style=\"text-align: right;\">-159.591 </td><td style=\"text-align: right;\">  91.7084</td><td style=\"text-align: right;\">   65.796 </td><td style=\"text-align: right;\">-104.809 </td><td style=\"text-align: right;\">-165.468  </td><td style=\"text-align: right;\"> 379.491</td><td style=\"text-align: right;\"> -61.5143</td></tr>\n",
       "<tr><td style=\"text-align: right;\">  -43.2728</td><td style=\"text-align: right;\"> 228.315 </td><td style=\"text-align: right;\">  665.012 </td><td style=\"text-align: right;\">1689.64 </td><td style=\"text-align: right;\"> 424.087 </td><td style=\"text-align: right;\">-1084.71 </td><td style=\"text-align: right;\"> 476.78   </td><td style=\"text-align: right;\">   76.8836</td><td style=\"text-align: right;\">  45.4209</td><td style=\"text-align: right;\">   84.8116</td><td style=\"text-align: right;\">-834.563 </td><td style=\"text-align: right;\">-331.909 </td><td style=\"text-align: right;\"> 809.126 </td><td style=\"text-align: right;\">-375.127 </td><td style=\"text-align: right;\">-394.578 </td><td style=\"text-align: right;\"> 301.397 </td><td style=\"text-align: right;\">  570.303 </td><td style=\"text-align: right;\"> 219.533 </td><td style=\"text-align: right;\">-275.26  </td><td style=\"text-align: right;\">-478.617 </td><td style=\"text-align: right;\">  -71.2721</td><td style=\"text-align: right;\"> -480.663  </td><td style=\"text-align: right;\"> -279.357 </td><td style=\"text-align: right;\">-368.035 </td><td style=\"text-align: right;\"> 202.783 </td><td style=\"text-align: right;\"> -370.893</td><td style=\"text-align: right;\">   7.44811</td><td style=\"text-align: right;\"> 294.976 </td><td style=\"text-align: right;\">-299.579 </td><td style=\"text-align: right;\"> -94.4595</td><td style=\"text-align: right;\">  19.1072</td><td style=\"text-align: right;\"> -54.2578 </td><td style=\"text-align: right;\"> -11.8496</td><td style=\"text-align: right;\">  413.45  </td><td style=\"text-align: right;\">  744.853  </td><td style=\"text-align: right;\"> -173.309 </td><td style=\"text-align: right;\"> -319.699 </td><td style=\"text-align: right;\">-712.432</td><td style=\"text-align: right;\">-227.94  </td><td style=\"text-align: right;\"> -249.31  </td><td style=\"text-align: right;\">  183.457 </td><td style=\"text-align: right;\"> 296.437 </td><td style=\"text-align: right;\"> 426.232</td><td style=\"text-align: right;\"> -31.9434</td><td style=\"text-align: right;\"> -272.223 </td><td style=\"text-align: right;\">  87.425 </td><td style=\"text-align: right;\"> 498.232  </td><td style=\"text-align: right;\">-347.381</td><td style=\"text-align: right;\"> 543.96  </td><td style=\"text-align: right;\">-199.157 </td><td style=\"text-align: right;\">-326.439 </td><td style=\"text-align: right;\">  -1.23378</td><td style=\"text-align: right;\"> 646.427  </td><td style=\"text-align: right;\"> 111.749 </td><td style=\"text-align: right;\">  39.3562</td><td style=\"text-align: right;\">  271.904</td><td style=\"text-align: right;\"> 162.964 </td><td style=\"text-align: right;\"> 216.794 </td><td style=\"text-align: right;\">  83.0166</td><td style=\"text-align: right;\">  892.281 </td><td style=\"text-align: right;\"> 846.768 </td><td style=\"text-align: right;\">  187.127</td><td style=\"text-align: right;\"> 370.036 </td><td style=\"text-align: right;\">-134.925</td><td style=\"text-align: right;\"> 101.001 </td><td style=\"text-align: right;\">  334.888  </td><td style=\"text-align: right;\">-313.317  </td><td style=\"text-align: right;\">  120.249 </td><td style=\"text-align: right;\">  391.05 </td><td style=\"text-align: right;\">-171.021 </td><td style=\"text-align: right;\">  179.045 </td><td style=\"text-align: right;\">  98.1265</td><td style=\"text-align: right;\"> 688.163 </td><td style=\"text-align: right;\"> 371.822 </td><td style=\"text-align: right;\">  11.1772</td><td style=\"text-align: right;\"> -513.026 </td><td style=\"text-align: right;\"> -337.982 </td><td style=\"text-align: right;\"> 293.968 </td><td style=\"text-align: right;\"> 114.005 </td><td style=\"text-align: right;\"> 569.334  </td><td style=\"text-align: right;\">  388.499 </td><td style=\"text-align: right;\">-289.935  </td><td style=\"text-align: right;\">-337.074 </td><td style=\"text-align: right;\">-475.42  </td><td style=\"text-align: right;\">  132.4   </td><td style=\"text-align: right;\"> -167.665  </td><td style=\"text-align: right;\">  113.23  </td><td style=\"text-align: right;\">-256.093 </td><td style=\"text-align: right;\"> 449.094 </td><td style=\"text-align: right;\">  237.935  </td><td style=\"text-align: right;\"> 360.609 </td><td style=\"text-align: right;\"> 305.279  </td><td style=\"text-align: right;\">-139.89  </td><td style=\"text-align: right;\"> 180.64  </td><td style=\"text-align: right;\"> 386.607  </td><td style=\"text-align: right;\"> 413.87  </td><td style=\"text-align: right;\">-1175.03  </td><td style=\"text-align: right;\">  19.7034</td><td style=\"text-align: right;\">-543.702  </td><td style=\"text-align: right;\"> 129.003  </td><td style=\"text-align: right;\">-138.553 </td><td style=\"text-align: right;\"> 430.068 </td><td style=\"text-align: right;\"> -98.6747</td><td style=\"text-align: right;\">-132.925 </td><td style=\"text-align: right;\">-698.34  </td><td style=\"text-align: right;\"> 362.071 </td><td style=\"text-align: right;\">  -41.177</td><td style=\"text-align: right;\">-707.567  </td><td style=\"text-align: right;\"> -80.36  </td><td style=\"text-align: right;\">-213.845 </td><td style=\"text-align: right;\"> 159.552  </td><td style=\"text-align: right;\"> 705.247</td><td style=\"text-align: right;\"> -120.859 </td><td style=\"text-align: right;\"> 639.784 </td><td style=\"text-align: right;\">-152.822 </td><td style=\"text-align: right;\">-176.571 </td><td style=\"text-align: right;\"> 282.677  </td><td style=\"text-align: right;\">-219.609 </td><td style=\"text-align: right;\"> 865.156 </td><td style=\"text-align: right;\">-298.044</td><td style=\"text-align: right;\">-372.315 </td><td style=\"text-align: right;\">   8.39891</td><td style=\"text-align: right;\">-142.627 </td><td style=\"text-align: right;\"> 132.803 </td><td style=\"text-align: right;\"> 784.592 </td><td style=\"text-align: right;\"> 435.437  </td><td style=\"text-align: right;\"> 208.49  </td><td style=\"text-align: right;\"> 395.988  </td><td style=\"text-align: right;\">-373.705 </td><td style=\"text-align: right;\"> 429.636</td><td style=\"text-align: right;\">-759.435 </td><td style=\"text-align: right;\"> 282.027 </td><td style=\"text-align: right;\"> 110.155 </td><td style=\"text-align: right;\">-146.995 </td><td style=\"text-align: right;\">  34.3383</td><td style=\"text-align: right;\"> -54.6105</td><td style=\"text-align: right;\"> 107.693 </td><td style=\"text-align: right;\"> 128.078 </td><td style=\"text-align: right;\"> 193.487 </td><td style=\"text-align: right;\">   9.06016</td><td style=\"text-align: right;\"> 207.463 </td><td style=\"text-align: right;\"> 412.62  </td><td style=\"text-align: right;\">-184.511 </td><td style=\"text-align: right;\">-412.186 </td><td style=\"text-align: right;\">-248.239 </td><td style=\"text-align: right;\">-335.258 </td><td style=\"text-align: right;\"> 124.538 </td><td style=\"text-align: right;\"> -93.9499</td><td style=\"text-align: right;\">-134.327 </td><td style=\"text-align: right;\">  190.156</td><td style=\"text-align: right;\"> 294.995 </td><td style=\"text-align: right;\">  32.2854</td><td style=\"text-align: right;\"> 114.878 </td><td style=\"text-align: right;\"> 370.109 </td><td style=\"text-align: right;\">  44.0168</td><td style=\"text-align: right;\"> 239.044 </td><td style=\"text-align: right;\"> 175.859 </td><td style=\"text-align: right;\">  97.853  </td><td style=\"text-align: right;\">-536.296  </td><td style=\"text-align: right;\">  89.8358</td><td style=\"text-align: right;\">  87.0763</td><td style=\"text-align: right;\">-345.646 </td><td style=\"text-align: right;\"> -41.6251 </td><td style=\"text-align: right;\">-462.678  </td><td style=\"text-align: right;\"> 442.668 </td><td style=\"text-align: right;\">-289.752 </td><td style=\"text-align: right;\">-250.848 </td><td style=\"text-align: right;\"> 124.231 </td><td style=\"text-align: right;\">  22.8855</td><td style=\"text-align: right;\"> 420.246 </td><td style=\"text-align: right;\"> 193.999 </td><td style=\"text-align: right;\">-203.873  </td><td style=\"text-align: right;\"> 313.135 </td><td style=\"text-align: right;\">-715.141 </td><td style=\"text-align: right;\"> 119.951 </td><td style=\"text-align: right;\"> 317.827</td><td style=\"text-align: right;\"> -94.609 </td><td style=\"text-align: right;\">-108.697 </td><td style=\"text-align: right;\">-333.166  </td><td style=\"text-align: right;\">-152.998 </td><td style=\"text-align: right;\">-195.482 </td><td style=\"text-align: right;\">-165.871 </td><td style=\"text-align: right;\">-295.705</td><td style=\"text-align: right;\">  31.2062</td><td style=\"text-align: right;\"> 554.553 </td><td style=\"text-align: right;\"> 181.55 </td><td style=\"text-align: right;\"> 111.49  </td><td style=\"text-align: right;\">   0.0112108</td><td style=\"text-align: right;\">  63.9794</td><td style=\"text-align: right;\">-385.659</td><td style=\"text-align: right;\">-121.06   </td><td style=\"text-align: right;\">-203.899  </td><td style=\"text-align: right;\">   1.39255</td><td style=\"text-align: right;\">-547.792 </td><td style=\"text-align: right;\"> 427.398 </td><td style=\"text-align: right;\">  361.933 </td><td style=\"text-align: right;\"> 411.648 </td><td style=\"text-align: right;\"> 326.32   </td><td style=\"text-align: right;\">-579.947</td><td style=\"text-align: right;\">-378.387 </td></tr>\n",
       "<tr><td style=\"text-align: right;\">  371.66  </td><td style=\"text-align: right;\">  64.8735</td><td style=\"text-align: right;\">-1814.54  </td><td style=\"text-align: right;\">-996.062</td><td style=\"text-align: right;\">1188.15  </td><td style=\"text-align: right;\">  222.665</td><td style=\"text-align: right;\">-208.817  </td><td style=\"text-align: right;\">  382.855 </td><td style=\"text-align: right;\">-769.63  </td><td style=\"text-align: right;\">  270.525 </td><td style=\"text-align: right;\"> 267.237 </td><td style=\"text-align: right;\">  32.8905</td><td style=\"text-align: right;\"> 325.043 </td><td style=\"text-align: right;\"> 141.61  </td><td style=\"text-align: right;\">-161.01  </td><td style=\"text-align: right;\">-417.249 </td><td style=\"text-align: right;\"> -330.885 </td><td style=\"text-align: right;\">-397.34  </td><td style=\"text-align: right;\">-111.995 </td><td style=\"text-align: right;\">  24.1203</td><td style=\"text-align: right;\">  702.39  </td><td style=\"text-align: right;\"> -246.117  </td><td style=\"text-align: right;\">-1393.87  </td><td style=\"text-align: right;\">  68.8043</td><td style=\"text-align: right;\">-385.459 </td><td style=\"text-align: right;\"> -469.638</td><td style=\"text-align: right;\">  -2.60573</td><td style=\"text-align: right;\">-486.77  </td><td style=\"text-align: right;\">-168.048 </td><td style=\"text-align: right;\">-716.598 </td><td style=\"text-align: right;\"> -98.801 </td><td style=\"text-align: right;\">  37.0968 </td><td style=\"text-align: right;\">-247.842 </td><td style=\"text-align: right;\">  168.73  </td><td style=\"text-align: right;\">  190.995  </td><td style=\"text-align: right;\">  513.852 </td><td style=\"text-align: right;\"> -187.175 </td><td style=\"text-align: right;\">-380.198</td><td style=\"text-align: right;\"> 266.648 </td><td style=\"text-align: right;\">  322.902 </td><td style=\"text-align: right;\"> -518.866 </td><td style=\"text-align: right;\">  61.1031</td><td style=\"text-align: right;\"> 451.346</td><td style=\"text-align: right;\"> -49.7229</td><td style=\"text-align: right;\">  787.954 </td><td style=\"text-align: right;\">-299.006 </td><td style=\"text-align: right;\">  21.5203 </td><td style=\"text-align: right;\"> 200.748</td><td style=\"text-align: right;\">-196.796 </td><td style=\"text-align: right;\"> 450.578 </td><td style=\"text-align: right;\"> -99.6985</td><td style=\"text-align: right;\">-132.744  </td><td style=\"text-align: right;\">-125.994  </td><td style=\"text-align: right;\"> 162.83  </td><td style=\"text-align: right;\"> 241.948 </td><td style=\"text-align: right;\">  353.267</td><td style=\"text-align: right;\"> 295.424 </td><td style=\"text-align: right;\"> 369.449 </td><td style=\"text-align: right;\">  94.1938</td><td style=\"text-align: right;\">  770.908 </td><td style=\"text-align: right;\"> -56.2073</td><td style=\"text-align: right;\"> -202.982</td><td style=\"text-align: right;\"> 311.689 </td><td style=\"text-align: right;\">-131.266</td><td style=\"text-align: right;\"> 108.924 </td><td style=\"text-align: right;\">  397.98   </td><td style=\"text-align: right;\"> -86.0697 </td><td style=\"text-align: right;\">  235.544 </td><td style=\"text-align: right;\">  397.886</td><td style=\"text-align: right;\"> 109.271 </td><td style=\"text-align: right;\">  142.617 </td><td style=\"text-align: right;\"> -23.9104</td><td style=\"text-align: right;\"> 479.007 </td><td style=\"text-align: right;\"> 406.813 </td><td style=\"text-align: right;\">-578.41  </td><td style=\"text-align: right;\"> -763.168 </td><td style=\"text-align: right;\"> -490.266 </td><td style=\"text-align: right;\">-504.824 </td><td style=\"text-align: right;\"> 389.731 </td><td style=\"text-align: right;\"> 828.03   </td><td style=\"text-align: right;\"> -349.836 </td><td style=\"text-align: right;\">  59.3006 </td><td style=\"text-align: right;\">-284.48  </td><td style=\"text-align: right;\"> 234.22  </td><td style=\"text-align: right;\">  221.57  </td><td style=\"text-align: right;\">   56.884  </td><td style=\"text-align: right;\">   89.1587</td><td style=\"text-align: right;\">-564.367 </td><td style=\"text-align: right;\">-216.406 </td><td style=\"text-align: right;\">   -2.00382</td><td style=\"text-align: right;\"> 268.814 </td><td style=\"text-align: right;\">  57.9686 </td><td style=\"text-align: right;\">-846.351 </td><td style=\"text-align: right;\">-151.351 </td><td style=\"text-align: right;\">-391.77   </td><td style=\"text-align: right;\">-333.342 </td><td style=\"text-align: right;\"> -234.344 </td><td style=\"text-align: right;\"> 221.539 </td><td style=\"text-align: right;\">  17.8574 </td><td style=\"text-align: right;\"> 269.105  </td><td style=\"text-align: right;\">-265.161 </td><td style=\"text-align: right;\"> 138.993 </td><td style=\"text-align: right;\"> 181.201 </td><td style=\"text-align: right;\"> 118.539 </td><td style=\"text-align: right;\"> 611.583 </td><td style=\"text-align: right;\"> 142.594 </td><td style=\"text-align: right;\"> -142.306</td><td style=\"text-align: right;\">-134.584  </td><td style=\"text-align: right;\">-219.756 </td><td style=\"text-align: right;\"> 142.678 </td><td style=\"text-align: right;\"> -55.1042 </td><td style=\"text-align: right;\">-186.781</td><td style=\"text-align: right;\">  215.777 </td><td style=\"text-align: right;\"> 346.608 </td><td style=\"text-align: right;\"> -67.319 </td><td style=\"text-align: right;\">-273.703 </td><td style=\"text-align: right;\">-693.22   </td><td style=\"text-align: right;\">-255.751 </td><td style=\"text-align: right;\">-194.813 </td><td style=\"text-align: right;\"> 748.22 </td><td style=\"text-align: right;\">  24.7727</td><td style=\"text-align: right;\">-307.704  </td><td style=\"text-align: right;\">  92.8561</td><td style=\"text-align: right;\"> 383.056 </td><td style=\"text-align: right;\">-227.776 </td><td style=\"text-align: right;\"> 133.582  </td><td style=\"text-align: right;\"> 706.185 </td><td style=\"text-align: right;\">-220.92   </td><td style=\"text-align: right;\"> 222.566 </td><td style=\"text-align: right;\">-853.39 </td><td style=\"text-align: right;\">  31.7956</td><td style=\"text-align: right;\">  25.8273</td><td style=\"text-align: right;\"> 273.185 </td><td style=\"text-align: right;\">  27.0438</td><td style=\"text-align: right;\"> 140.235 </td><td style=\"text-align: right;\">  22.2373</td><td style=\"text-align: right;\">-494.767 </td><td style=\"text-align: right;\">-249.284 </td><td style=\"text-align: right;\">-149.547 </td><td style=\"text-align: right;\">-203.711  </td><td style=\"text-align: right;\"> 300.789 </td><td style=\"text-align: right;\"> -84.3501</td><td style=\"text-align: right;\">-363.214 </td><td style=\"text-align: right;\">-465.05  </td><td style=\"text-align: right;\">-448.476 </td><td style=\"text-align: right;\"> 163.283 </td><td style=\"text-align: right;\"> 460.52  </td><td style=\"text-align: right;\">-480.59  </td><td style=\"text-align: right;\"> 509.372 </td><td style=\"text-align: right;\"> -532.779</td><td style=\"text-align: right;\"> 283.418 </td><td style=\"text-align: right;\">-179.576 </td><td style=\"text-align: right;\">  19.6702</td><td style=\"text-align: right;\"> 188.338 </td><td style=\"text-align: right;\">  27.3851</td><td style=\"text-align: right;\">-284.322 </td><td style=\"text-align: right;\"> 143.188 </td><td style=\"text-align: right;\">-126.2    </td><td style=\"text-align: right;\"> 592.218  </td><td style=\"text-align: right;\"> 178.983 </td><td style=\"text-align: right;\">-322.605 </td><td style=\"text-align: right;\">  76.842 </td><td style=\"text-align: right;\">-422.141  </td><td style=\"text-align: right;\">  82.3488 </td><td style=\"text-align: right;\"> 579.715 </td><td style=\"text-align: right;\"> 181.486 </td><td style=\"text-align: right;\"> 379.761 </td><td style=\"text-align: right;\">  75.3587</td><td style=\"text-align: right;\"> 315.848 </td><td style=\"text-align: right;\"> 696.122 </td><td style=\"text-align: right;\">-537.153 </td><td style=\"text-align: right;\">  -7.38593</td><td style=\"text-align: right;\">-779.02  </td><td style=\"text-align: right;\"> 273.301 </td><td style=\"text-align: right;\"> 148.659 </td><td style=\"text-align: right;\"> 425.215</td><td style=\"text-align: right;\"> 142.251 </td><td style=\"text-align: right;\"> 190.517 </td><td style=\"text-align: right;\">-405.54   </td><td style=\"text-align: right;\">-537.104 </td><td style=\"text-align: right;\">-162.482 </td><td style=\"text-align: right;\">-269.082 </td><td style=\"text-align: right;\"> 281.949</td><td style=\"text-align: right;\"> -79.1728</td><td style=\"text-align: right;\">-253.556 </td><td style=\"text-align: right;\">-149.684</td><td style=\"text-align: right;\"> -52.2434</td><td style=\"text-align: right;\">  16.9156   </td><td style=\"text-align: right;\">-227.142 </td><td style=\"text-align: right;\">-311.568</td><td style=\"text-align: right;\">-254.193  </td><td style=\"text-align: right;\"> 142.787  </td><td style=\"text-align: right;\"> -52.4106 </td><td style=\"text-align: right;\"> 290.004 </td><td style=\"text-align: right;\">-149.188 </td><td style=\"text-align: right;\"> -312.747 </td><td style=\"text-align: right;\"> 220.248 </td><td style=\"text-align: right;\">-531.141  </td><td style=\"text-align: right;\"> 203.342</td><td style=\"text-align: right;\">-413.679 </td></tr>\n",
       "<tr><td style=\"text-align: right;\">  244.39  </td><td style=\"text-align: right;\"> 907.934 </td><td style=\"text-align: right;\">  -65.3862</td><td style=\"text-align: right;\">-576.557</td><td style=\"text-align: right;\">-688.039 </td><td style=\"text-align: right;\">  480.673</td><td style=\"text-align: right;\">-264.178  </td><td style=\"text-align: right;\">  -36.2038</td><td style=\"text-align: right;\"> 133.068 </td><td style=\"text-align: right;\">-1104.66  </td><td style=\"text-align: right;\"> 224.035 </td><td style=\"text-align: right;\">-987.424 </td><td style=\"text-align: right;\">-413.531 </td><td style=\"text-align: right;\">-252.996 </td><td style=\"text-align: right;\"> 235.321 </td><td style=\"text-align: right;\">  30.4871</td><td style=\"text-align: right;\">-1376.42  </td><td style=\"text-align: right;\">-218.14  </td><td style=\"text-align: right;\"> 141.353 </td><td style=\"text-align: right;\"> -45.9656</td><td style=\"text-align: right;\">-1588.51  </td><td style=\"text-align: right;\">-1054.59   </td><td style=\"text-align: right;\">  938.126 </td><td style=\"text-align: right;\">-927.011 </td><td style=\"text-align: right;\">-450.604 </td><td style=\"text-align: right;\"> 1428.3  </td><td style=\"text-align: right;\">  10.3065 </td><td style=\"text-align: right;\"> -69.9503</td><td style=\"text-align: right;\">-832.678 </td><td style=\"text-align: right;\">-923.201 </td><td style=\"text-align: right;\">1668.19  </td><td style=\"text-align: right;\"> 693.035  </td><td style=\"text-align: right;\"> 238.636 </td><td style=\"text-align: right;\">  504.036 </td><td style=\"text-align: right;\">-1532.81   </td><td style=\"text-align: right;\"> -754.033 </td><td style=\"text-align: right;\">  540.141 </td><td style=\"text-align: right;\">-397.521</td><td style=\"text-align: right;\">1410.75  </td><td style=\"text-align: right;\">   67.2469</td><td style=\"text-align: right;\">  528.727 </td><td style=\"text-align: right;\"> -14.4036</td><td style=\"text-align: right;\"> 922.333</td><td style=\"text-align: right;\">-489.481 </td><td style=\"text-align: right;\"> -505.722 </td><td style=\"text-align: right;\"> 269.175 </td><td style=\"text-align: right;\">-850.396  </td><td style=\"text-align: right;\">-941.878</td><td style=\"text-align: right;\"> 312.231 </td><td style=\"text-align: right;\"> 922.453 </td><td style=\"text-align: right;\">-134.479 </td><td style=\"text-align: right;\"> -74.309  </td><td style=\"text-align: right;\">-419.473  </td><td style=\"text-align: right;\"> 489.596 </td><td style=\"text-align: right;\">1259.86  </td><td style=\"text-align: right;\">-1787.43 </td><td style=\"text-align: right;\"> -25.4127</td><td style=\"text-align: right;\"> -91.4352</td><td style=\"text-align: right;\">-171.933 </td><td style=\"text-align: right;\">  862.196 </td><td style=\"text-align: right;\"> -37.055 </td><td style=\"text-align: right;\"> -272.741</td><td style=\"text-align: right;\"> 294.624 </td><td style=\"text-align: right;\">-642.397</td><td style=\"text-align: right;\"> -32.0038</td><td style=\"text-align: right;\"> -185.572  </td><td style=\"text-align: right;\"> 487.46   </td><td style=\"text-align: right;\"> -800.178 </td><td style=\"text-align: right;\">  522.455</td><td style=\"text-align: right;\">  50.6118</td><td style=\"text-align: right;\"> -103.84  </td><td style=\"text-align: right;\">-698.193 </td><td style=\"text-align: right;\">-325.489 </td><td style=\"text-align: right;\">-476.624 </td><td style=\"text-align: right;\"> 242.922 </td><td style=\"text-align: right;\">  550.191 </td><td style=\"text-align: right;\"> -414.992 </td><td style=\"text-align: right;\">  -7.7861</td><td style=\"text-align: right;\">-387.23  </td><td style=\"text-align: right;\">-756.612  </td><td style=\"text-align: right;\">  402.676 </td><td style=\"text-align: right;\">-660.823  </td><td style=\"text-align: right;\"> 278.22  </td><td style=\"text-align: right;\"> 237.271 </td><td style=\"text-align: right;\">  -68.6336</td><td style=\"text-align: right;\"> -429.918  </td><td style=\"text-align: right;\">-1732.93  </td><td style=\"text-align: right;\"> -41.2611</td><td style=\"text-align: right;\"> 772.701 </td><td style=\"text-align: right;\">-1033.28   </td><td style=\"text-align: right;\"> 741.632 </td><td style=\"text-align: right;\">  26.7998 </td><td style=\"text-align: right;\">-467.803 </td><td style=\"text-align: right;\">  95.4172</td><td style=\"text-align: right;\"> 726.417  </td><td style=\"text-align: right;\">-908.948 </td><td style=\"text-align: right;\"> -879.422 </td><td style=\"text-align: right;\"> 181.381 </td><td style=\"text-align: right;\">1569.14   </td><td style=\"text-align: right;\">-306.575  </td><td style=\"text-align: right;\"> 301.945 </td><td style=\"text-align: right;\">-702.623 </td><td style=\"text-align: right;\"> 310.919 </td><td style=\"text-align: right;\"> 936.615 </td><td style=\"text-align: right;\"> 604.58  </td><td style=\"text-align: right;\"> -59.6126</td><td style=\"text-align: right;\"> -609.723</td><td style=\"text-align: right;\">  -6.35165</td><td style=\"text-align: right;\">  29.0319</td><td style=\"text-align: right;\"> 724.159 </td><td style=\"text-align: right;\">-152.658  </td><td style=\"text-align: right;\">-949.186</td><td style=\"text-align: right;\"> -657.671 </td><td style=\"text-align: right;\"> 599.241 </td><td style=\"text-align: right;\"> 314.605 </td><td style=\"text-align: right;\"> 438.404 </td><td style=\"text-align: right;\"> 339.939  </td><td style=\"text-align: right;\">  86.4822</td><td style=\"text-align: right;\"> 174.052 </td><td style=\"text-align: right;\"> 696.499</td><td style=\"text-align: right;\">-447.672 </td><td style=\"text-align: right;\">-219.741  </td><td style=\"text-align: right;\"> 368.85  </td><td style=\"text-align: right;\">-229.804 </td><td style=\"text-align: right;\">-781.385 </td><td style=\"text-align: right;\"> 566.172  </td><td style=\"text-align: right;\"> 171.123 </td><td style=\"text-align: right;\"> 314.291  </td><td style=\"text-align: right;\">-758.717 </td><td style=\"text-align: right;\">-568.522</td><td style=\"text-align: right;\">-602.06  </td><td style=\"text-align: right;\">-399.665 </td><td style=\"text-align: right;\">-341.912 </td><td style=\"text-align: right;\"> 134.45  </td><td style=\"text-align: right;\">-470.338 </td><td style=\"text-align: right;\"> 366.269 </td><td style=\"text-align: right;\"> 224.931 </td><td style=\"text-align: right;\">  18.9348</td><td style=\"text-align: right;\"> 128.714 </td><td style=\"text-align: right;\">1806.67   </td><td style=\"text-align: right;\"> 189.026 </td><td style=\"text-align: right;\"> 919.569 </td><td style=\"text-align: right;\">  93.6477</td><td style=\"text-align: right;\">-348.911 </td><td style=\"text-align: right;\"> -25.7779</td><td style=\"text-align: right;\"> -63.5054</td><td style=\"text-align: right;\">-759.941 </td><td style=\"text-align: right;\"> 427.172 </td><td style=\"text-align: right;\"> 573.176 </td><td style=\"text-align: right;\">  377.767</td><td style=\"text-align: right;\">-152.914 </td><td style=\"text-align: right;\">-107.786 </td><td style=\"text-align: right;\"> 836.922 </td><td style=\"text-align: right;\">-341.214 </td><td style=\"text-align: right;\">-169.916 </td><td style=\"text-align: right;\"> 418.011 </td><td style=\"text-align: right;\">-262.432 </td><td style=\"text-align: right;\">-589.994  </td><td style=\"text-align: right;\">-413.233  </td><td style=\"text-align: right;\">-151.446 </td><td style=\"text-align: right;\">  73.8919</td><td style=\"text-align: right;\">-170.773 </td><td style=\"text-align: right;\">-118.413  </td><td style=\"text-align: right;\"> 211.801  </td><td style=\"text-align: right;\"> 582.745 </td><td style=\"text-align: right;\">-214.491 </td><td style=\"text-align: right;\">-620.777 </td><td style=\"text-align: right;\"> 455.606 </td><td style=\"text-align: right;\"> 817.25  </td><td style=\"text-align: right;\">-186.96  </td><td style=\"text-align: right;\"> 156.068 </td><td style=\"text-align: right;\"> -50.74   </td><td style=\"text-align: right;\"> 262.106 </td><td style=\"text-align: right;\">-282.073 </td><td style=\"text-align: right;\">-352.423 </td><td style=\"text-align: right;\"> 222.26 </td><td style=\"text-align: right;\">-452.148 </td><td style=\"text-align: right;\"> 203.437 </td><td style=\"text-align: right;\"> 639.158  </td><td style=\"text-align: right;\"> 250.697 </td><td style=\"text-align: right;\"> 151.005 </td><td style=\"text-align: right;\"> 160.888 </td><td style=\"text-align: right;\">-666.611</td><td style=\"text-align: right;\">-490.427 </td><td style=\"text-align: right;\"> 332.637 </td><td style=\"text-align: right;\">-198.098</td><td style=\"text-align: right;\">-524.786 </td><td style=\"text-align: right;\"> -83.9347   </td><td style=\"text-align: right;\">-538.017 </td><td style=\"text-align: right;\">-101.944</td><td style=\"text-align: right;\"> 314.105  </td><td style=\"text-align: right;\">-111.805  </td><td style=\"text-align: right;\">-803.74   </td><td style=\"text-align: right;\"> 108.618 </td><td style=\"text-align: right;\">  24.582 </td><td style=\"text-align: right;\">-1016.95  </td><td style=\"text-align: right;\"> 403.039 </td><td style=\"text-align: right;\">-533.941  </td><td style=\"text-align: right;\"> 108.895</td><td style=\"text-align: right;\">-803.663 </td></tr>\n",
       "<tr><td style=\"text-align: right;\">-5688.7   </td><td style=\"text-align: right;\"> 113.096 </td><td style=\"text-align: right;\">   63.67  </td><td style=\"text-align: right;\">-104.841</td><td style=\"text-align: right;\">-213.532 </td><td style=\"text-align: right;\"> -128.284</td><td style=\"text-align: right;\">-147.579  </td><td style=\"text-align: right;\">   23.4639</td><td style=\"text-align: right;\"> 226.597 </td><td style=\"text-align: right;\">  264.553 </td><td style=\"text-align: right;\">  60.4092</td><td style=\"text-align: right;\">-195.607 </td><td style=\"text-align: right;\">  95.0226</td><td style=\"text-align: right;\"> 237.174 </td><td style=\"text-align: right;\"> -31.4063</td><td style=\"text-align: right;\"> 149.964 </td><td style=\"text-align: right;\">   10.2082</td><td style=\"text-align: right;\">-141.667 </td><td style=\"text-align: right;\">-258.332 </td><td style=\"text-align: right;\"> -58.1042</td><td style=\"text-align: right;\"> -140.362 </td><td style=\"text-align: right;\">   27.3197 </td><td style=\"text-align: right;\"> -170.27  </td><td style=\"text-align: right;\"> -67.4288</td><td style=\"text-align: right;\">-321.061 </td><td style=\"text-align: right;\"> -286.386</td><td style=\"text-align: right;\">-212.296  </td><td style=\"text-align: right;\">-141.391 </td><td style=\"text-align: right;\"> -35.7324</td><td style=\"text-align: right;\"> -35.9028</td><td style=\"text-align: right;\"> 235.716 </td><td style=\"text-align: right;\">  -8.45533</td><td style=\"text-align: right;\">-237.687 </td><td style=\"text-align: right;\"> -152.508 </td><td style=\"text-align: right;\">   83.7766 </td><td style=\"text-align: right;\">  -23.8428</td><td style=\"text-align: right;\">  -37.3696</td><td style=\"text-align: right;\"> 217.959</td><td style=\"text-align: right;\"> 183.963 </td><td style=\"text-align: right;\"> -155.202 </td><td style=\"text-align: right;\">  150.468 </td><td style=\"text-align: right;\"> 394.121 </td><td style=\"text-align: right;\"> 182.663</td><td style=\"text-align: right;\">  28.4218</td><td style=\"text-align: right;\">  -59.4424</td><td style=\"text-align: right;\"> -29.9969</td><td style=\"text-align: right;\">  -5.37685</td><td style=\"text-align: right;\"> 222.227</td><td style=\"text-align: right;\">-196.994 </td><td style=\"text-align: right;\">-300.635 </td><td style=\"text-align: right;\">  23.3323</td><td style=\"text-align: right;\">  24.7223 </td><td style=\"text-align: right;\">  97.1466 </td><td style=\"text-align: right;\">-138.048 </td><td style=\"text-align: right;\">-211.263 </td><td style=\"text-align: right;\">  508.36 </td><td style=\"text-align: right;\">-108.656 </td><td style=\"text-align: right;\">-353.398 </td><td style=\"text-align: right;\">  67.2269</td><td style=\"text-align: right;\">  -70.9184</td><td style=\"text-align: right;\"> -76.946 </td><td style=\"text-align: right;\"> -400.15 </td><td style=\"text-align: right;\"> 180.342 </td><td style=\"text-align: right;\">-185.861</td><td style=\"text-align: right;\"> 191.245 </td><td style=\"text-align: right;\"> -205.552  </td><td style=\"text-align: right;\"> 338.694  </td><td style=\"text-align: right;\">  126.763 </td><td style=\"text-align: right;\">  284.919</td><td style=\"text-align: right;\"> 430.92  </td><td style=\"text-align: right;\">  210.962 </td><td style=\"text-align: right;\">-147.524 </td><td style=\"text-align: right;\"> 186.515 </td><td style=\"text-align: right;\">  40.9326</td><td style=\"text-align: right;\"> 262.524 </td><td style=\"text-align: right;\">  -99.879 </td><td style=\"text-align: right;\">  140.519 </td><td style=\"text-align: right;\"> -77.0823</td><td style=\"text-align: right;\"> 171.827 </td><td style=\"text-align: right;\"> -94.9205 </td><td style=\"text-align: right;\"> -264.225 </td><td style=\"text-align: right;\"> 177.935  </td><td style=\"text-align: right;\">-329.671 </td><td style=\"text-align: right;\">  55.0762</td><td style=\"text-align: right;\">  -76.3776</td><td style=\"text-align: right;\">  -49.3187 </td><td style=\"text-align: right;\">  350.858 </td><td style=\"text-align: right;\"> -74.5547</td><td style=\"text-align: right;\">  12.6776</td><td style=\"text-align: right;\"> -188.783  </td><td style=\"text-align: right;\"> 183.266 </td><td style=\"text-align: right;\">  59.071  </td><td style=\"text-align: right;\"> 337.336 </td><td style=\"text-align: right;\"> -65.7001</td><td style=\"text-align: right;\">-192.351  </td><td style=\"text-align: right;\">-151.411 </td><td style=\"text-align: right;\">  150.373 </td><td style=\"text-align: right;\">  64.2528</td><td style=\"text-align: right;\"> 292.061  </td><td style=\"text-align: right;\"> 251.042  </td><td style=\"text-align: right;\"> 103.328 </td><td style=\"text-align: right;\">  74.3374</td><td style=\"text-align: right;\">-179.07  </td><td style=\"text-align: right;\"> 135.829 </td><td style=\"text-align: right;\">  42.3132</td><td style=\"text-align: right;\"> -39.2968</td><td style=\"text-align: right;\">  272.679</td><td style=\"text-align: right;\"> -43.5177 </td><td style=\"text-align: right;\"> 604.169 </td><td style=\"text-align: right;\"> 465.619 </td><td style=\"text-align: right;\">  99.0524 </td><td style=\"text-align: right;\"> 423.998</td><td style=\"text-align: right;\"> -122.534 </td><td style=\"text-align: right;\">-112.61  </td><td style=\"text-align: right;\">-303.409 </td><td style=\"text-align: right;\">   8.8018</td><td style=\"text-align: right;\"> 235.181  </td><td style=\"text-align: right;\">  47.8745</td><td style=\"text-align: right;\">  90.4397</td><td style=\"text-align: right;\">-304.083</td><td style=\"text-align: right;\"> 392.595 </td><td style=\"text-align: right;\"> -18.8001 </td><td style=\"text-align: right;\">-314.79  </td><td style=\"text-align: right;\">-102.601 </td><td style=\"text-align: right;\">-168.066 </td><td style=\"text-align: right;\">   3.45921</td><td style=\"text-align: right;\">  53.9208</td><td style=\"text-align: right;\">-118.795  </td><td style=\"text-align: right;\"> 235.474 </td><td style=\"text-align: right;\"> 154.454</td><td style=\"text-align: right;\"> -26.055 </td><td style=\"text-align: right;\"> -26.5496</td><td style=\"text-align: right;\">-383.229 </td><td style=\"text-align: right;\">-133.902 </td><td style=\"text-align: right;\"> 362.795 </td><td style=\"text-align: right;\">-226.074 </td><td style=\"text-align: right;\"> 316.668 </td><td style=\"text-align: right;\"> 167.17  </td><td style=\"text-align: right;\"> -40.0913</td><td style=\"text-align: right;\">-168.898  </td><td style=\"text-align: right;\"> 244.471 </td><td style=\"text-align: right;\"> 124.624 </td><td style=\"text-align: right;\"> -45.6195</td><td style=\"text-align: right;\">-523.742 </td><td style=\"text-align: right;\"> 168.437 </td><td style=\"text-align: right;\"> -27.1277</td><td style=\"text-align: right;\"> 364.742 </td><td style=\"text-align: right;\"> 160.83  </td><td style=\"text-align: right;\">  36.6585</td><td style=\"text-align: right;\">  194.133</td><td style=\"text-align: right;\"> 128.321 </td><td style=\"text-align: right;\">-396.974 </td><td style=\"text-align: right;\"> 185.727 </td><td style=\"text-align: right;\">-223.986 </td><td style=\"text-align: right;\"> 222.877 </td><td style=\"text-align: right;\"> 151.688 </td><td style=\"text-align: right;\"> -38.7439</td><td style=\"text-align: right;\">  95.2112 </td><td style=\"text-align: right;\"> -15.9936 </td><td style=\"text-align: right;\">  62.5635</td><td style=\"text-align: right;\"> 323.11  </td><td style=\"text-align: right;\">-346.518 </td><td style=\"text-align: right;\"> 244.384  </td><td style=\"text-align: right;\">  22.0808 </td><td style=\"text-align: right;\"> 147.877 </td><td style=\"text-align: right;\"> -37.938 </td><td style=\"text-align: right;\">-185.391 </td><td style=\"text-align: right;\">  38.5999</td><td style=\"text-align: right;\">-277.44  </td><td style=\"text-align: right;\"> 388.611 </td><td style=\"text-align: right;\">-206.768 </td><td style=\"text-align: right;\">  37.8209 </td><td style=\"text-align: right;\"> 114.803 </td><td style=\"text-align: right;\">   5.4289</td><td style=\"text-align: right;\">-105.85  </td><td style=\"text-align: right;\">-125.259</td><td style=\"text-align: right;\">-183.831 </td><td style=\"text-align: right;\">-354.644 </td><td style=\"text-align: right;\"> -14.3844 </td><td style=\"text-align: right;\">-225.54  </td><td style=\"text-align: right;\"> 319.709 </td><td style=\"text-align: right;\">-306.712 </td><td style=\"text-align: right;\">  12.327</td><td style=\"text-align: right;\">-103     </td><td style=\"text-align: right;\">-143.831 </td><td style=\"text-align: right;\"> 214.14 </td><td style=\"text-align: right;\">  70.2633</td><td style=\"text-align: right;\"> -93.2701   </td><td style=\"text-align: right;\">-134.791 </td><td style=\"text-align: right;\"> -54.591</td><td style=\"text-align: right;\">  -6.15153</td><td style=\"text-align: right;\"> -70.3178 </td><td style=\"text-align: right;\">-147.635  </td><td style=\"text-align: right;\">-191.019 </td><td style=\"text-align: right;\"> 356.059 </td><td style=\"text-align: right;\"> -220.698 </td><td style=\"text-align: right;\"> -65.6875</td><td style=\"text-align: right;\"> 331.518  </td><td style=\"text-align: right;\"> -55.738</td><td style=\"text-align: right;\">-388.978 </td></tr>\n",
       "<tr><td style=\"text-align: right;\"> 3728.43  </td><td style=\"text-align: right;\">-527.755 </td><td style=\"text-align: right;\">  728.289 </td><td style=\"text-align: right;\">-408.69 </td><td style=\"text-align: right;\">1238.06  </td><td style=\"text-align: right;\"> -142.754</td><td style=\"text-align: right;\"> 319.063  </td><td style=\"text-align: right;\">-1102.29  </td><td style=\"text-align: right;\">1412.61  </td><td style=\"text-align: right;\"> 1118.04  </td><td style=\"text-align: right;\"> 412.168 </td><td style=\"text-align: right;\">-216.513 </td><td style=\"text-align: right;\"> 333.263 </td><td style=\"text-align: right;\">-758.96  </td><td style=\"text-align: right;\">-198.507 </td><td style=\"text-align: right;\"> -70.8132</td><td style=\"text-align: right;\"> -700.345 </td><td style=\"text-align: right;\">-712.249 </td><td style=\"text-align: right;\">1362.96  </td><td style=\"text-align: right;\">-305.342 </td><td style=\"text-align: right;\">   14.4691</td><td style=\"text-align: right;\">  426.05   </td><td style=\"text-align: right;\">  -60.0119</td><td style=\"text-align: right;\">1897.41  </td><td style=\"text-align: right;\"> 351.487 </td><td style=\"text-align: right;\">  658.078</td><td style=\"text-align: right;\">-668.483  </td><td style=\"text-align: right;\"> 812.096 </td><td style=\"text-align: right;\">1068.28  </td><td style=\"text-align: right;\">-901.874 </td><td style=\"text-align: right;\"> 270.649 </td><td style=\"text-align: right;\">-428.052  </td><td style=\"text-align: right;\">-424.747 </td><td style=\"text-align: right;\">-1069.68  </td><td style=\"text-align: right;\"> 1405.21   </td><td style=\"text-align: right;\">-1280.78  </td><td style=\"text-align: right;\"> 1089.53  </td><td style=\"text-align: right;\">-739.631</td><td style=\"text-align: right;\"> 772.41  </td><td style=\"text-align: right;\"> 1912.54  </td><td style=\"text-align: right;\">-1034.56  </td><td style=\"text-align: right;\"> 533.097 </td><td style=\"text-align: right;\">1146.97 </td><td style=\"text-align: right;\"> 868.265 </td><td style=\"text-align: right;\">-1133.38  </td><td style=\"text-align: right;\">-271.358 </td><td style=\"text-align: right;\">-259.123  </td><td style=\"text-align: right;\">-779.583</td><td style=\"text-align: right;\"> 323.289 </td><td style=\"text-align: right;\">-663.826 </td><td style=\"text-align: right;\"> 221.727 </td><td style=\"text-align: right;\">1261.61   </td><td style=\"text-align: right;\"> 414.836  </td><td style=\"text-align: right;\">-778.71  </td><td style=\"text-align: right;\"> 428.65  </td><td style=\"text-align: right;\">  365.491</td><td style=\"text-align: right;\">-558.677 </td><td style=\"text-align: right;\">-176.916 </td><td style=\"text-align: right;\">-648.462 </td><td style=\"text-align: right;\">  889.527 </td><td style=\"text-align: right;\">-337.85  </td><td style=\"text-align: right;\"> -482.148</td><td style=\"text-align: right;\">-494.636 </td><td style=\"text-align: right;\">-599.383</td><td style=\"text-align: right;\"> 337.7   </td><td style=\"text-align: right;\">  -42.975  </td><td style=\"text-align: right;\"> 572.294  </td><td style=\"text-align: right;\">  381.69  </td><td style=\"text-align: right;\"> -166.556</td><td style=\"text-align: right;\">-330.445 </td><td style=\"text-align: right;\"> -288.613 </td><td style=\"text-align: right;\">-195.122 </td><td style=\"text-align: right;\"> 316.669 </td><td style=\"text-align: right;\">-190.577 </td><td style=\"text-align: right;\"> 368.666 </td><td style=\"text-align: right;\">  223.895 </td><td style=\"text-align: right;\"> -282.052 </td><td style=\"text-align: right;\">  18.7713</td><td style=\"text-align: right;\"> 663.808 </td><td style=\"text-align: right;\">-582.98   </td><td style=\"text-align: right;\">  -95.0951</td><td style=\"text-align: right;\"> 617.56   </td><td style=\"text-align: right;\"> 253.432 </td><td style=\"text-align: right;\">-254.634 </td><td style=\"text-align: right;\"> -445.15  </td><td style=\"text-align: right;\">    9.55983</td><td style=\"text-align: right;\">   56.0448</td><td style=\"text-align: right;\">-156.719 </td><td style=\"text-align: right;\"> 942.828 </td><td style=\"text-align: right;\"> 1371.51   </td><td style=\"text-align: right;\">1061.17  </td><td style=\"text-align: right;\"> 868.287  </td><td style=\"text-align: right;\"> 462.366 </td><td style=\"text-align: right;\">-534.34  </td><td style=\"text-align: right;\">-446.698  </td><td style=\"text-align: right;\">1171.99  </td><td style=\"text-align: right;\"> 1033.3   </td><td style=\"text-align: right;\">-719.413 </td><td style=\"text-align: right;\">-443.13   </td><td style=\"text-align: right;\"> 164.23   </td><td style=\"text-align: right;\"> 266.076 </td><td style=\"text-align: right;\">-287.507 </td><td style=\"text-align: right;\"> 578.097 </td><td style=\"text-align: right;\"> 253.971 </td><td style=\"text-align: right;\">-692.832 </td><td style=\"text-align: right;\"> -84.9092</td><td style=\"text-align: right;\">  237.265</td><td style=\"text-align: right;\">-688.511  </td><td style=\"text-align: right;\"> -53.7957</td><td style=\"text-align: right;\"> 713.874 </td><td style=\"text-align: right;\"> 640.263  </td><td style=\"text-align: right;\">-322.734</td><td style=\"text-align: right;\">  844.559 </td><td style=\"text-align: right;\">-781.81  </td><td style=\"text-align: right;\"> 373.716 </td><td style=\"text-align: right;\"> 367.798 </td><td style=\"text-align: right;\"> 975.55   </td><td style=\"text-align: right;\"> 328.147 </td><td style=\"text-align: right;\">  95.1393</td><td style=\"text-align: right;\">-255.185</td><td style=\"text-align: right;\">-142.192 </td><td style=\"text-align: right;\"> 316.911  </td><td style=\"text-align: right;\"> 640.449 </td><td style=\"text-align: right;\"> 206.88  </td><td style=\"text-align: right;\"> 848.171 </td><td style=\"text-align: right;\">-661.846  </td><td style=\"text-align: right;\">-737.571 </td><td style=\"text-align: right;\"> -93.0811 </td><td style=\"text-align: right;\">-489.896 </td><td style=\"text-align: right;\"> 456.802</td><td style=\"text-align: right;\"> 206.458 </td><td style=\"text-align: right;\">-971.611 </td><td style=\"text-align: right;\">-320.953 </td><td style=\"text-align: right;\">  32.1521</td><td style=\"text-align: right;\">-276.411 </td><td style=\"text-align: right;\">-279.749 </td><td style=\"text-align: right;\">-721.257 </td><td style=\"text-align: right;\"> 223.791 </td><td style=\"text-align: right;\"> 162.689 </td><td style=\"text-align: right;\">-496.704  </td><td style=\"text-align: right;\">-471.174 </td><td style=\"text-align: right;\">-458.595 </td><td style=\"text-align: right;\">-206.439 </td><td style=\"text-align: right;\">-200.151 </td><td style=\"text-align: right;\"> 769.377 </td><td style=\"text-align: right;\">-426.24  </td><td style=\"text-align: right;\"> -78.8331</td><td style=\"text-align: right;\"> 440.194 </td><td style=\"text-align: right;\"> 359.265 </td><td style=\"text-align: right;\">  452.608</td><td style=\"text-align: right;\"> 753.518 </td><td style=\"text-align: right;\"> 525.487 </td><td style=\"text-align: right;\"> 430.156 </td><td style=\"text-align: right;\">-279.459 </td><td style=\"text-align: right;\"> 232.59  </td><td style=\"text-align: right;\"> 139.119 </td><td style=\"text-align: right;\"> 416.391 </td><td style=\"text-align: right;\">-465.93   </td><td style=\"text-align: right;\">-395.027  </td><td style=\"text-align: right;\"> -77.1428</td><td style=\"text-align: right;\"> 979.713 </td><td style=\"text-align: right;\">-149.501 </td><td style=\"text-align: right;\">-416.592  </td><td style=\"text-align: right;\">-264.195  </td><td style=\"text-align: right;\">-760.502 </td><td style=\"text-align: right;\"> -42.2461</td><td style=\"text-align: right;\"> 607.94  </td><td style=\"text-align: right;\"> 498.325 </td><td style=\"text-align: right;\">-522.461 </td><td style=\"text-align: right;\">1315.95  </td><td style=\"text-align: right;\"> 264.638 </td><td style=\"text-align: right;\">-351.447  </td><td style=\"text-align: right;\">-521.945 </td><td style=\"text-align: right;\"> 837.871 </td><td style=\"text-align: right;\"> -90.0437</td><td style=\"text-align: right;\"> 192.977</td><td style=\"text-align: right;\"> 418.253 </td><td style=\"text-align: right;\">-421.045 </td><td style=\"text-align: right;\">-101.318  </td><td style=\"text-align: right;\"> 443.022 </td><td style=\"text-align: right;\">-434.087 </td><td style=\"text-align: right;\">-332.865 </td><td style=\"text-align: right;\">-412.127</td><td style=\"text-align: right;\">-100.039 </td><td style=\"text-align: right;\"> 538.101 </td><td style=\"text-align: right;\">-183.127</td><td style=\"text-align: right;\"> -27.2412</td><td style=\"text-align: right;\"> -87.6474   </td><td style=\"text-align: right;\">-510.38  </td><td style=\"text-align: right;\"> 147.175</td><td style=\"text-align: right;\">-407.334  </td><td style=\"text-align: right;\">-735.778  </td><td style=\"text-align: right;\">-367.157  </td><td style=\"text-align: right;\"> 329.697 </td><td style=\"text-align: right;\"> 294.452 </td><td style=\"text-align: right;\">  428.004 </td><td style=\"text-align: right;\"> 459.762 </td><td style=\"text-align: right;\">-446.881  </td><td style=\"text-align: right;\"> 248.262</td><td style=\"text-align: right;\">-214.561 </td></tr>\n",
       "<tr><td style=\"text-align: right;\">-4146.33  </td><td style=\"text-align: right;\">-388.283 </td><td style=\"text-align: right;\">  909.787 </td><td style=\"text-align: right;\"> 537.304</td><td style=\"text-align: right;\">-100.483 </td><td style=\"text-align: right;\">  315.182</td><td style=\"text-align: right;\"> 517.593  </td><td style=\"text-align: right;\">  423.332 </td><td style=\"text-align: right;\"> 341.297 </td><td style=\"text-align: right;\">  512.377 </td><td style=\"text-align: right;\">-560.473 </td><td style=\"text-align: right;\"> 412.988 </td><td style=\"text-align: right;\"> 567.899 </td><td style=\"text-align: right;\">-399.029 </td><td style=\"text-align: right;\"> 106.108 </td><td style=\"text-align: right;\"> 399.261 </td><td style=\"text-align: right;\"> -201.82  </td><td style=\"text-align: right;\">-564.436 </td><td style=\"text-align: right;\">-176.973 </td><td style=\"text-align: right;\"> 245.668 </td><td style=\"text-align: right;\">   49.9684</td><td style=\"text-align: right;\"> -570.003  </td><td style=\"text-align: right;\"> -138.011 </td><td style=\"text-align: right;\">  40.0671</td><td style=\"text-align: right;\">-146.688 </td><td style=\"text-align: right;\"> -267.363</td><td style=\"text-align: right;\">-121.504  </td><td style=\"text-align: right;\"> 119.588 </td><td style=\"text-align: right;\"> -74.3308</td><td style=\"text-align: right;\"> 279.384 </td><td style=\"text-align: right;\">-896.739 </td><td style=\"text-align: right;\">-205.076  </td><td style=\"text-align: right;\">-133.718 </td><td style=\"text-align: right;\"> -404.064 </td><td style=\"text-align: right;\"> 1061.18   </td><td style=\"text-align: right;\">  175.254 </td><td style=\"text-align: right;\">-1328.46  </td><td style=\"text-align: right;\">-540.29 </td><td style=\"text-align: right;\">-530.393 </td><td style=\"text-align: right;\">  328.751 </td><td style=\"text-align: right;\"> -616.627 </td><td style=\"text-align: right;\"> 237.584 </td><td style=\"text-align: right;\">-215.56 </td><td style=\"text-align: right;\">-501.547 </td><td style=\"text-align: right;\">  541.018 </td><td style=\"text-align: right;\">  38.8103</td><td style=\"text-align: right;\">  84.1536 </td><td style=\"text-align: right;\"> 493.508</td><td style=\"text-align: right;\">-932.9   </td><td style=\"text-align: right;\">-597.087 </td><td style=\"text-align: right;\">-702.593 </td><td style=\"text-align: right;\"> 784.73   </td><td style=\"text-align: right;\"> 411.725  </td><td style=\"text-align: right;\"> 338.973 </td><td style=\"text-align: right;\"> 332.426 </td><td style=\"text-align: right;\">  208.819</td><td style=\"text-align: right;\">-102.375 </td><td style=\"text-align: right;\"> -11.8661</td><td style=\"text-align: right;\"> 219.754 </td><td style=\"text-align: right;\">  338.31  </td><td style=\"text-align: right;\">-887.398 </td><td style=\"text-align: right;\"> -543.344</td><td style=\"text-align: right;\"> 332.967 </td><td style=\"text-align: right;\"> 154.615</td><td style=\"text-align: right;\">-435.126 </td><td style=\"text-align: right;\">  -43.0496 </td><td style=\"text-align: right;\"> 588.906  </td><td style=\"text-align: right;\">   45.2355</td><td style=\"text-align: right;\">-1014    </td><td style=\"text-align: right;\"> 227.455 </td><td style=\"text-align: right;\">  532.962 </td><td style=\"text-align: right;\"> 390.893 </td><td style=\"text-align: right;\">  10.9487</td><td style=\"text-align: right;\">  44.2257</td><td style=\"text-align: right;\">  64.935 </td><td style=\"text-align: right;\"> -768.266 </td><td style=\"text-align: right;\"> -599.547 </td><td style=\"text-align: right;\">-854.182 </td><td style=\"text-align: right;\">-113.988 </td><td style=\"text-align: right;\">-577.461  </td><td style=\"text-align: right;\"> -532.746 </td><td style=\"text-align: right;\"> -37.1373 </td><td style=\"text-align: right;\"> 124.1   </td><td style=\"text-align: right;\"> -22.5906</td><td style=\"text-align: right;\">-1052.81  </td><td style=\"text-align: right;\">  -53.4986 </td><td style=\"text-align: right;\"> -551.641 </td><td style=\"text-align: right;\">1069.59  </td><td style=\"text-align: right;\"> 768.452 </td><td style=\"text-align: right;\">  929.096  </td><td style=\"text-align: right;\"> 559.987 </td><td style=\"text-align: right;\">   5.92555</td><td style=\"text-align: right;\"> 528.633 </td><td style=\"text-align: right;\"> 101.079 </td><td style=\"text-align: right;\"> 246.571  </td><td style=\"text-align: right;\"> 342.443 </td><td style=\"text-align: right;\"> -461.474 </td><td style=\"text-align: right;\">-763.686 </td><td style=\"text-align: right;\">-351.644  </td><td style=\"text-align: right;\"> 508.033  </td><td style=\"text-align: right;\">  87.1966</td><td style=\"text-align: right;\">-558.272 </td><td style=\"text-align: right;\"> 942.707 </td><td style=\"text-align: right;\"> 827.759 </td><td style=\"text-align: right;\">-201.525 </td><td style=\"text-align: right;\">-171.537 </td><td style=\"text-align: right;\">  827.81 </td><td style=\"text-align: right;\">-363.849  </td><td style=\"text-align: right;\">-632.649 </td><td style=\"text-align: right;\">-734.602 </td><td style=\"text-align: right;\">-395.777  </td><td style=\"text-align: right;\"> -93.999</td><td style=\"text-align: right;\">  391.665 </td><td style=\"text-align: right;\">-786.272 </td><td style=\"text-align: right;\"> 587.174 </td><td style=\"text-align: right;\"> 580.397 </td><td style=\"text-align: right;\">-280.899  </td><td style=\"text-align: right;\"> 389.266 </td><td style=\"text-align: right;\">-743.379 </td><td style=\"text-align: right;\">-272.121</td><td style=\"text-align: right;\"> 180.097 </td><td style=\"text-align: right;\">-896.565  </td><td style=\"text-align: right;\">-505.731 </td><td style=\"text-align: right;\"> 319.13  </td><td style=\"text-align: right;\">-119.734 </td><td style=\"text-align: right;\">-165.934  </td><td style=\"text-align: right;\">-181.105 </td><td style=\"text-align: right;\"> 466.084  </td><td style=\"text-align: right;\">-435.703 </td><td style=\"text-align: right;\">-511.463</td><td style=\"text-align: right;\"> 210.454 </td><td style=\"text-align: right;\">-966.256 </td><td style=\"text-align: right;\">-104.742 </td><td style=\"text-align: right;\"> 474.162 </td><td style=\"text-align: right;\">-257.484 </td><td style=\"text-align: right;\"> 842.049 </td><td style=\"text-align: right;\">-580.182 </td><td style=\"text-align: right;\">-274.787 </td><td style=\"text-align: right;\">-215.718 </td><td style=\"text-align: right;\"> -52.9522 </td><td style=\"text-align: right;\">-257.814 </td><td style=\"text-align: right;\"> 135.819 </td><td style=\"text-align: right;\">-372.663 </td><td style=\"text-align: right;\">-508.807 </td><td style=\"text-align: right;\">1015.61  </td><td style=\"text-align: right;\">  77.774 </td><td style=\"text-align: right;\"> 410.929 </td><td style=\"text-align: right;\">-544.554 </td><td style=\"text-align: right;\"> -34.0979</td><td style=\"text-align: right;\">  159.97 </td><td style=\"text-align: right;\">-186.831 </td><td style=\"text-align: right;\">-301.207 </td><td style=\"text-align: right;\"> 490.685 </td><td style=\"text-align: right;\">-391.486 </td><td style=\"text-align: right;\"> 189.918 </td><td style=\"text-align: right;\"> 842.199 </td><td style=\"text-align: right;\"> 550.823 </td><td style=\"text-align: right;\">-655.314  </td><td style=\"text-align: right;\"> 288.152  </td><td style=\"text-align: right;\">-165.725 </td><td style=\"text-align: right;\"> -78.1492</td><td style=\"text-align: right;\"> 447.526 </td><td style=\"text-align: right;\">-359.679  </td><td style=\"text-align: right;\"> 244.609  </td><td style=\"text-align: right;\">-325.489 </td><td style=\"text-align: right;\"> -27.1533</td><td style=\"text-align: right;\"> 385.329 </td><td style=\"text-align: right;\">-612.517 </td><td style=\"text-align: right;\"> 533.769 </td><td style=\"text-align: right;\">-650.922 </td><td style=\"text-align: right;\">-450.486 </td><td style=\"text-align: right;\">-349.73   </td><td style=\"text-align: right;\">-631.014 </td><td style=\"text-align: right;\"> 335.466 </td><td style=\"text-align: right;\"> -88.0271</td><td style=\"text-align: right;\">-588.051</td><td style=\"text-align: right;\">-553.101 </td><td style=\"text-align: right;\"> 708.666 </td><td style=\"text-align: right;\">-130.231  </td><td style=\"text-align: right;\"> 574.794 </td><td style=\"text-align: right;\">-770.627 </td><td style=\"text-align: right;\">-113.081 </td><td style=\"text-align: right;\">-287.961</td><td style=\"text-align: right;\">-161.004 </td><td style=\"text-align: right;\">-464.335 </td><td style=\"text-align: right;\">-253.894</td><td style=\"text-align: right;\"> 300.822 </td><td style=\"text-align: right;\"> -10.668    </td><td style=\"text-align: right;\">1384.02  </td><td style=\"text-align: right;\"> 960.939</td><td style=\"text-align: right;\">-277.511  </td><td style=\"text-align: right;\">-336.858  </td><td style=\"text-align: right;\"> 511.275  </td><td style=\"text-align: right;\">-202.343 </td><td style=\"text-align: right;\"> 606.002 </td><td style=\"text-align: right;\"> -206.658 </td><td style=\"text-align: right;\"> 473.983 </td><td style=\"text-align: right;\"> -61.3438 </td><td style=\"text-align: right;\">-495.292</td><td style=\"text-align: right;\"> 842.558 </td></tr>\n",
       "</tbody>\n",
       "</table>"
      ]
     },
     "metadata": {},
     "output_type": "display_data"
    },
    {
     "data": {
      "text/plain": []
     },
     "execution_count": 33,
     "metadata": {},
     "output_type": "execute_result"
    }
   ],
   "source": [
    "train.head()"
   ]
  },
  {
   "cell_type": "code",
   "execution_count": 34,
   "metadata": {},
   "outputs": [
    {
     "name": "stdout",
     "output_type": "stream",
     "text": [
      "Parse progress: |█████████████████████████████████████████████████████████| 100%\n"
     ]
    }
   ],
   "source": [
    "test=pd.DataFrame(data=principalDf)\n",
    "test['UMI']=y[0:3501]\n",
    "test=test.iloc[3350:,:-1].values\n",
    "test=pd.DataFrame(data=test)\n",
    "test = h2o.H2OFrame(test)"
   ]
  },
  {
   "cell_type": "code",
   "execution_count": 35,
   "metadata": {},
   "outputs": [
    {
     "name": "stdout",
     "output_type": "stream",
     "text": [
      "deeplearning prediction progress: |███████████████████████████████████████| 100%\n"
     ]
    },
    {
     "data": {
      "text/html": [
       "<div>\n",
       "<style scoped>\n",
       "    .dataframe tbody tr th:only-of-type {\n",
       "        vertical-align: middle;\n",
       "    }\n",
       "\n",
       "    .dataframe tbody tr th {\n",
       "        vertical-align: top;\n",
       "    }\n",
       "\n",
       "    .dataframe thead th {\n",
       "        text-align: right;\n",
       "    }\n",
       "</style>\n",
       "<table border=\"1\" class=\"dataframe\">\n",
       "  <thead>\n",
       "    <tr style=\"text-align: right;\">\n",
       "      <th></th>\n",
       "      <th>predict</th>\n",
       "      <th>A</th>\n",
       "      <th>B</th>\n",
       "      <th>C</th>\n",
       "    </tr>\n",
       "  </thead>\n",
       "  <tbody>\n",
       "    <tr>\n",
       "      <th>0</th>\n",
       "      <td>A</td>\n",
       "      <td>9.989075e-01</td>\n",
       "      <td>0.000005</td>\n",
       "      <td>0.001087</td>\n",
       "    </tr>\n",
       "    <tr>\n",
       "      <th>1</th>\n",
       "      <td>A</td>\n",
       "      <td>6.822846e-01</td>\n",
       "      <td>0.241947</td>\n",
       "      <td>0.075768</td>\n",
       "    </tr>\n",
       "    <tr>\n",
       "      <th>2</th>\n",
       "      <td>C</td>\n",
       "      <td>7.550037e-02</td>\n",
       "      <td>0.000255</td>\n",
       "      <td>0.924245</td>\n",
       "    </tr>\n",
       "    <tr>\n",
       "      <th>3</th>\n",
       "      <td>A</td>\n",
       "      <td>9.731309e-01</td>\n",
       "      <td>0.026512</td>\n",
       "      <td>0.000357</td>\n",
       "    </tr>\n",
       "    <tr>\n",
       "      <th>4</th>\n",
       "      <td>A</td>\n",
       "      <td>9.177736e-01</td>\n",
       "      <td>0.072987</td>\n",
       "      <td>0.009239</td>\n",
       "    </tr>\n",
       "    <tr>\n",
       "      <th>...</th>\n",
       "      <td>...</td>\n",
       "      <td>...</td>\n",
       "      <td>...</td>\n",
       "      <td>...</td>\n",
       "    </tr>\n",
       "    <tr>\n",
       "      <th>146</th>\n",
       "      <td>C</td>\n",
       "      <td>4.027726e-03</td>\n",
       "      <td>0.005101</td>\n",
       "      <td>0.990871</td>\n",
       "    </tr>\n",
       "    <tr>\n",
       "      <th>147</th>\n",
       "      <td>C</td>\n",
       "      <td>1.788934e-09</td>\n",
       "      <td>0.000016</td>\n",
       "      <td>0.999984</td>\n",
       "    </tr>\n",
       "    <tr>\n",
       "      <th>148</th>\n",
       "      <td>C</td>\n",
       "      <td>2.140450e-01</td>\n",
       "      <td>0.018453</td>\n",
       "      <td>0.767502</td>\n",
       "    </tr>\n",
       "    <tr>\n",
       "      <th>149</th>\n",
       "      <td>A</td>\n",
       "      <td>5.845253e-01</td>\n",
       "      <td>0.061359</td>\n",
       "      <td>0.354115</td>\n",
       "    </tr>\n",
       "    <tr>\n",
       "      <th>150</th>\n",
       "      <td>A</td>\n",
       "      <td>9.951330e-01</td>\n",
       "      <td>0.000174</td>\n",
       "      <td>0.004693</td>\n",
       "    </tr>\n",
       "  </tbody>\n",
       "</table>\n",
       "<p>151 rows × 4 columns</p>\n",
       "</div>"
      ],
      "text/plain": [
       "    predict             A         B         C\n",
       "0         A  9.989075e-01  0.000005  0.001087\n",
       "1         A  6.822846e-01  0.241947  0.075768\n",
       "2         C  7.550037e-02  0.000255  0.924245\n",
       "3         A  9.731309e-01  0.026512  0.000357\n",
       "4         A  9.177736e-01  0.072987  0.009239\n",
       "..      ...           ...       ...       ...\n",
       "146       C  4.027726e-03  0.005101  0.990871\n",
       "147       C  1.788934e-09  0.000016  0.999984\n",
       "148       C  2.140450e-01  0.018453  0.767502\n",
       "149       A  5.845253e-01  0.061359  0.354115\n",
       "150       A  9.951330e-01  0.000174  0.004693\n",
       "\n",
       "[151 rows x 4 columns]"
      ]
     },
     "execution_count": 35,
     "metadata": {},
     "output_type": "execute_result"
    }
   ],
   "source": [
    "import seaborn as sns\n",
    "preds = aml.leader.predict(test)\n",
    "pred = h2o.as_list(preds, use_pandas=True)\n",
    "#sns.lineplot(data=y[3350:])\n",
    "#sns.lineplot(data=pred)\n",
    "pred"
   ]
  },
  {
   "cell_type": "code",
   "execution_count": 42,
   "metadata": {},
   "outputs": [
    {
     "name": "stdout",
     "output_type": "stream",
     "text": [
      "Confusion matrix\n",
      "\n",
      " [[ 0  1  1]\n",
      " [18  9 11]\n",
      " [50 22 39]]\n",
      "F1-score 0.2462081128747796\n",
      "Precision 0.3486519607843137\n",
      "Recall 0.19606448553816977\n",
      "Accuracy 0.31788079470198677\n"
     ]
    }
   ],
   "source": [
    "from sklearn.metrics import confusion_matrix\n",
    "from sklearn.metrics import recall_score\n",
    "from sklearn.metrics import precision_score\n",
    "from sklearn.metrics import accuracy_score\n",
    "from sklearn.metrics import f1_score\n",
    "cm = confusion_matrix(y[3350:3501], pred['predict'])\n",
    "print('Confusion matrix\\n\\n', cm)\n",
    "print(\"F1-score\",f1_score(y[3350:3501,], pred['predict'], average='macro'))\n",
    "print(\"Precision\",precision_score(y[3350:3501], pred['predict'], average='macro'))\n",
    "print(\"Recall\",recall_score(y[3350:3501], pred['predict'], average='macro'))\n",
    "print(\"Accuracy\",accuracy_score(y[3350:3501], pred['predict']))"
   ]
  },
  {
   "cell_type": "markdown",
   "metadata": {},
   "source": [
    "## LGBM Regressor"
   ]
  },
  {
   "cell_type": "code",
   "execution_count": null,
   "metadata": {},
   "outputs": [],
   "source": [
    "import lightgbm as lgb\n",
    "from sklearn.model_selection import train_test_split\n",
    "from sklearn.metrics import mean_squared_log_error\n",
    "from sklearn import preprocessing\n",
    "#from sklearn.preprocessing import StandardScaler, PolynomialFeatures, Imputer\n",
    "from sklearn.model_selection import cross_val_score, cross_val_predict\n",
    "\n",
    "\n",
    "hyper_params = {\n",
    "    'task': 'train',\n",
    "    'boosting_type': 'gbdt',\n",
    "    'objective': 'regression',\n",
    "    'metric': ['l2', 'auc'],\n",
    "    'learning_rate': 0.05,\n",
    "    'feature_fraction': 0.9,\n",
    "    'bagging_fraction': 0.7,\n",
    "    'bagging_freq': 10,\n",
    "    'verbose': 0,\n",
    "    \"max_depth\": 32,\n",
    "    \"num_leaves\": 256,  \n",
    "    \"max_bin\": 1024,\n",
    "    \"num_iterations\": 100000,\n",
    "    \"n_estimators\": 1000\n",
    "}"
   ]
  },
  {
   "cell_type": "code",
   "execution_count": null,
   "metadata": {},
   "outputs": [],
   "source": [
    "trainX, testX, trainY, testY = train_test_split(principalDf, y, test_size=0.20, random_state=1)\n",
    "\n",
    "trainY=trainY.reshape([2725,])\n",
    "trainY=trainY.ravel()\n",
    "testY=testY.reshape([682,])\n",
    "testY=testY.ravel()\n",
    "\n",
    "gbm = lgb.LGBMRegressor(**hyper_params)\n",
    "gbm.fit(trainX, trainY,\n",
    "        eval_set=[(testX, testY)],\n",
    "        eval_metric='l2',\n",
    "        early_stopping_rounds=1000)\n",
    "y_pred = gbm.predict(testX, num_iteration=gbm.best_iteration_)"
   ]
  },
  {
   "cell_type": "code",
   "execution_count": null,
   "metadata": {},
   "outputs": [],
   "source": [
    "plt.scatter(x=trainX[2], y=trainY, color ='blue')\n",
    "plt.scatter(x=testX[2], y=y_pred, color ='red')\n",
    "\n",
    "import sklearn.metrics as sm\n",
    "print(\"Mean absolute error =\", round(sm.mean_absolute_error(testY, y_pred), 2)) \n",
    "print(\"Mean squared error =\", round(sm.mean_squared_error(testY, y_pred), 2)) \n",
    "print(\"Median absolute error =\", round(sm.median_absolute_error(testY, y_pred), 2)) \n",
    "print(\"Explain variance score =\", round(sm.explained_variance_score(testY, y_pred), 2)) \n",
    "print(\"R2 score =\", round(sm.r2_score(testY, y_pred), 2))"
   ]
  },
  {
   "cell_type": "markdown",
   "metadata": {},
   "source": [
    "## Multivariate LGBM Regressor"
   ]
  },
  {
   "cell_type": "code",
   "execution_count": null,
   "metadata": {},
   "outputs": [],
   "source": [
    "from numpy import mean\n",
    "from numpy import std\n",
    "from numpy import absolute\n",
    "from sklearn.datasets import make_regression\n",
    "from sklearn.model_selection import cross_val_score\n",
    "from sklearn.model_selection import RepeatedKFold\n",
    "from sklearn.multioutput import MultiOutputRegressor\n",
    "from sklearn.svm import LinearSVR\n",
    "import lightgbm as lgb\n",
    "\n",
    "hyper_params = {\n",
    "    'task': 'train',\n",
    "    'boosting_type': 'gbdt',\n",
    "    'objective': 'regression',\n",
    "    'metric': ['l2', 'auc'],\n",
    "    'learning_rate': 0.05,\n",
    "    'feature_fraction': 0.9,\n",
    "    'bagging_fraction': 0.7,\n",
    "    'bagging_freq': 10,\n",
    "    'verbose': 0,\n",
    "    \"max_depth\": 8,\n",
    "    \"num_leaves\": 128,  \n",
    "    \"max_bin\": 512,\n",
    "    \"num_iterations\": 100000,\n",
    "    \"n_estimators\": 1000\n",
    "}\n",
    "\n",
    "y=df13.iloc[:,0:5].values\n",
    "y=y.astype(int)\n",
    "\n",
    "model = lgb.LGBMRegressor(**hyper_params)\n",
    "wrapper = MultiOutputRegressor(model)\n",
    "cv = RepeatedKFold(n_splits=10, n_repeats=3, random_state=1)\n",
    "n_scores = cross_val_score(wrapper, principalDf, y, scoring='neg_mean_squared_error', cv=cv, n_jobs=-1)\n",
    "n_scores = absolute(n_scores)\n",
    "print('MAE: %.3f (%.3f)' % (mean(n_scores), std(n_scores)))"
   ]
  },
  {
   "cell_type": "code",
   "execution_count": null,
   "metadata": {},
   "outputs": [],
   "source": [
    "wrapper = MultiOutputRegressor(model)\n",
    "wrapper.fit(X, y)\n",
    "yhat = wrapper.predict(testY)"
   ]
  },
  {
   "cell_type": "code",
   "execution_count": null,
   "metadata": {},
   "outputs": [],
   "source": [
    "import sklearn.metrics as sm\n",
    "print(\"Mean absolute error =\", round(sm.mean_absolute_error(testY, y_pred), 2)) \n",
    "print(\"Mean squared error =\", round(sm.mean_squared_error(testY, y_pred), 2)) \n",
    "print(\"Median absolute error =\", round(sm.median_absolute_error(testY, y_pred), 2)) \n",
    "print(\"Explain variance score =\", round(sm.explained_variance_score(testY, y_pred), 2)) \n",
    "print(\"R2 score =\", round(sm.r2_score(testY, y_pred), 2))"
   ]
  },
  {
   "cell_type": "markdown",
   "metadata": {},
   "source": [
    "### Polynomial Regression"
   ]
  },
  {
   "cell_type": "code",
   "execution_count": null,
   "metadata": {},
   "outputs": [],
   "source": [
    "from sklearn.linear_model import LinearRegression\n",
    "from sklearn.model_selection import train_test_split\n",
    "from sklearn.preprocessing import StandardScaler\n",
    "from sklearn.ensemble import RandomForestRegressor\n",
    "from sklearn.preprocessing import PolynomialFeatures\n",
    "from sklearn.svm import SVR\n",
    "\n",
    "#X = df.iloc[:, :-1].values\n",
    "#y = df.iloc[:, 58800].values\n",
    "#y=df13.iloc[:,:1].values\n",
    "#y=y.astype(int)\n",
    "\n",
    "trainX, testX, trainY, testY = train_test_split(principalDf, y, test_size=0.20, random_state=1)\n",
    "sc = StandardScaler()\n",
    "trainX = sc.fit_transform(trainX)\n",
    "testX = sc.transform(testX)\n",
    "#trainY = sc.fit_transform(trainY)\n",
    "#testY = sc.fit_transform(testY)\n",
    "poly_reg = PolynomialFeatures(degree = 5)\n",
    "X_poly = poly_reg.fit_transform(trainX)\n",
    "poly_reg.fit(X_poly, trainY)\n",
    "\n",
    "y_pred = regressor.predict(testX)"
   ]
  },
  {
   "cell_type": "code",
   "execution_count": null,
   "metadata": {},
   "outputs": [],
   "source": [
    "import seaborn as sns\n",
    "#preds = model.predict(testX)\n",
    "'''y_preds = y_pred\n",
    "plt.scatter(x=list(range(0, 682)), y=testY, color ='blue')\n",
    "plt.scatter(x=list(range(0, 682)), y=y_preds, color ='red')'''\n",
    "sns.lineplot(data=testY)\n",
    "sns.lineplot(data=y_pred)"
   ]
  },
  {
   "cell_type": "code",
   "execution_count": null,
   "metadata": {},
   "outputs": [],
   "source": [
    "import sklearn.metrics as sm\n",
    "print(\"Mean absolute error =\", round(sm.mean_absolute_error(testY, y_pred), 2)) \n",
    "print(\"Mean squared error =\", round(sm.mean_squared_error(testY, y_pred), 2)) \n",
    "print(\"Median absolute error =\", round(sm.median_absolute_error(testY, y_pred), 2)) \n",
    "print(\"Explain variance score =\", round(sm.explained_variance_score(testY, y_pred), 2)) \n",
    "print(\"R2 score =\", round(sm.r2_score(testY, y_pred), 2))"
   ]
  },
  {
   "cell_type": "markdown",
   "metadata": {},
   "source": [
    "# AutoML"
   ]
  },
  {
   "cell_type": "code",
   "execution_count": null,
   "metadata": {},
   "outputs": [],
   "source": [
    "import sklearn.datasets\n",
    "import sklearn.metrics\n",
    "from sklearn.model_selection import train_test_split\n",
    "from sklearn.metrics import mean_absolute_error\n",
    "from autosklearn.regression import AutoSklearnRegressor\n",
    "from autosklearn.metrics import mean_absolute_error as auto_mean_absolute_error\n",
    "from sklearn.model_selection import train_test_split"
   ]
  },
  {
   "cell_type": "code",
   "execution_count": null,
   "metadata": {},
   "outputs": [],
   "source": [
    "trainX, testX, trainY, testY = train_test_split(principalDf, y, test_size=0.20, random_state=1)\n",
    "# define search\n",
    "model = AutoSklearnRegressor(time_left_for_this_task=5*60, per_run_time_limit=30, n_jobs=8)\n",
    "# perform the search\n",
    "model.fit(trainX, trainY)"
   ]
  },
  {
   "cell_type": "markdown",
   "metadata": {},
   "source": [
    "## TBANET-Regressor"
   ]
  },
  {
   "cell_type": "code",
   "execution_count": null,
   "metadata": {},
   "outputs": [],
   "source": [
    "import pandas as pd\n",
    "import numpy  as np\n",
    "import torch\n",
    "from pytorch_tabnet.tab_model import TabNetRegressor\n",
    "from sklearn.model_selection import KFold"
   ]
  },
  {
   "cell_type": "code",
   "execution_count": null,
   "metadata": {},
   "outputs": [],
   "source": [
    "from sklearn.model_selection import train_test_split\n",
    "trainX, testX, trainY, testY = train_test_split(principalDf, y, test_size=0.20, random_state=1)\n",
    "X      = trainX.to_numpy()\n",
    "#y      = trainY.to_numpy()\n",
    "X_test = testX.to_numpy()\n",
    "kf = KFold(n_splits=2, random_state=42, shuffle=True)\n",
    "predictions_array =[]\n",
    "CV_score_array    =[]\n",
    "for train_index, test_index in kf.split(X):\n",
    "    X_train, X_valid = X[train_index], X[test_index]\n",
    "    y_train, y_valid = y[train_index], y[test_index]\n",
    "    regressor = TabNetRegressor(n_d=512,n_a=512,scheduler_fn=torch.optim.lr_scheduler.MultiStepLR,scheduler_params = {\"milestones\": [150,250,300,350,400,450],'gamma':0.2},verbose=1,seed=42)\n",
    "    regressor.fit(X_train=X_train, y_train=y_train,\n",
    "              eval_set=[(X_valid, y_valid)],\n",
    "              patience=200, max_epochs=20,\n",
    "              eval_metric=['rmse'])\n",
    "    CV_score_array.append(regressor.best_cost)\n",
    "    predictions_array.append(regressor.predict(X_test))\n",
    "predictions = np.mean(predictions_array,axis=0)"
   ]
  },
  {
   "cell_type": "code",
   "execution_count": null,
   "metadata": {},
   "outputs": [],
   "source": [
    "import sklearn.metrics as sm\n",
    "print(\"Mean absolute error =\", round(sm.mean_absolute_error(testY, predictions_array[1]), 2)) \n",
    "print(\"Mean squared error =\", round(sm.mean_squared_error(testY, predictions_array[1]), 2)) \n",
    "print(\"Median absolute error =\", round(sm.median_absolute_error(testY, predictions_array[1]), 2)) \n",
    "print(\"Explain variance score =\", round(sm.explained_variance_score(testY, predictions_array[1]), 2)) \n",
    "print(\"R2 score =\", round(sm.r2_score(testY, predictions_array[1]), 2))"
   ]
  },
  {
   "cell_type": "markdown",
   "metadata": {},
   "source": [
    "## H20 AutoML"
   ]
  },
  {
   "cell_type": "code",
   "execution_count": null,
   "metadata": {},
   "outputs": [],
   "source": [
    "#!pip install colorama==0.4.4 --user\n",
    "import h2o\n",
    "from h2o.automl import H2OAutoML"
   ]
  },
  {
   "cell_type": "code",
   "execution_count": null,
   "metadata": {},
   "outputs": [],
   "source": [
    "h2o.init(\n",
    "    nthreads=-1,     # number of threads when launching a new H2O server\n",
    "    max_mem_size=12  # in gigabytes\n",
    ")"
   ]
  },
  {
   "cell_type": "code",
   "execution_count": null,
   "metadata": {},
   "outputs": [],
   "source": [
    "df=pd.DataFrame(data=principalDf)\n",
    "df['UMI']=y\n",
    "df=df.iloc[0:3350,:].values\n",
    "df=pd.DataFrame(data=df)\n",
    "train = h2o.H2OFrame(df)\n",
    "x = train.columns\n",
    "y1 = \"2228\"\n",
    "x.remove(y1)"
   ]
  },
  {
   "cell_type": "code",
   "execution_count": null,
   "metadata": {},
   "outputs": [],
   "source": [
    "aml = H2OAutoML(max_models=15, seed=1)\n",
    "aml.train(x=x, y=y1, training_frame=train)"
   ]
  },
  {
   "cell_type": "code",
   "execution_count": null,
   "metadata": {},
   "outputs": [],
   "source": [
    "lb = aml.leaderboard\n",
    "lb.head(rows=lb.nrows)"
   ]
  },
  {
   "cell_type": "code",
   "execution_count": null,
   "metadata": {},
   "outputs": [],
   "source": [
    "test=pd.DataFrame(data=principalDf)\n",
    "test['UMI']=y\n",
    "test=test.iloc[3350:,:-1].values\n",
    "test=pd.DataFrame(data=test)\n",
    "test = h2o.H2OFrame(test)\n",
    "test.head()"
   ]
  },
  {
   "cell_type": "code",
   "execution_count": null,
   "metadata": {},
   "outputs": [],
   "source": [
    "#preds = aml.leader.predict(test)\n",
    "import seaborn as sns\n",
    "pred = h2o.as_list(preds, use_pandas=True)\n",
    "sns.lineplot(data=y[3350:])\n",
    "sns.lineplot(data=pred)"
   ]
  }
 ],
 "metadata": {
  "kernelspec": {
   "display_name": "myenv",
   "language": "python",
   "name": "myenv"
  },
  "language_info": {
   "codemirror_mode": {
    "name": "ipython",
    "version": 3
   },
   "file_extension": ".py",
   "mimetype": "text/x-python",
   "name": "python",
   "nbconvert_exporter": "python",
   "pygments_lexer": "ipython3",
   "version": "3.6.5"
  }
 },
 "nbformat": 4,
 "nbformat_minor": 2
}
