{
 "cells": [
  {
   "cell_type": "markdown",
   "metadata": {},
   "source": [
    "## Import Data"
   ]
  },
  {
   "cell_type": "code",
   "execution_count": 1,
   "metadata": {},
   "outputs": [],
   "source": [
    "%matplotlib inline\n",
    "import pandas as pd\n",
    "import numpy as np\n",
    "from numpy import array\n",
    "from numpy import argmax\n",
    "from keras.utils import to_categorical\n",
    "from numpy import array\n",
    "from numpy import argmax\n",
    "from sklearn.preprocessing import LabelEncoder\n",
    "from sklearn.preprocessing import OneHotEncoder\n",
    "import sys\n",
    "from numpy import load\n",
    "from matplotlib import pyplot as plt\n",
    "plt.style.use(\"ggplot\")\n",
    "import tensorflow as tf\n",
    "from sklearn.model_selection import train_test_split"
   ]
  },
  {
   "cell_type": "code",
   "execution_count": 2,
   "metadata": {},
   "outputs": [
    {
     "data": {
      "text/html": [
       "<div>\n",
       "<style scoped>\n",
       "    .dataframe tbody tr th:only-of-type {\n",
       "        vertical-align: middle;\n",
       "    }\n",
       "\n",
       "    .dataframe tbody tr th {\n",
       "        vertical-align: top;\n",
       "    }\n",
       "\n",
       "    .dataframe thead th {\n",
       "        text-align: right;\n",
       "    }\n",
       "</style>\n",
       "<table border=\"1\" class=\"dataframe\">\n",
       "  <thead>\n",
       "    <tr style=\"text-align: right;\">\n",
       "      <th></th>\n",
       "      <th>Unnamed: 0</th>\n",
       "      <th>x</th>\n",
       "      <th>y</th>\n",
       "      <th>Sno</th>\n",
       "    </tr>\n",
       "  </thead>\n",
       "  <tbody>\n",
       "    <tr>\n",
       "      <th>0</th>\n",
       "      <td>0</td>\n",
       "      <td>4046</td>\n",
       "      <td>10350</td>\n",
       "      <td>0001img</td>\n",
       "    </tr>\n",
       "    <tr>\n",
       "      <th>1</th>\n",
       "      <td>1</td>\n",
       "      <td>4047</td>\n",
       "      <td>10623</td>\n",
       "      <td>0002img</td>\n",
       "    </tr>\n",
       "    <tr>\n",
       "      <th>2</th>\n",
       "      <td>2</td>\n",
       "      <td>4047</td>\n",
       "      <td>10896</td>\n",
       "      <td>0003img</td>\n",
       "    </tr>\n",
       "    <tr>\n",
       "      <th>3</th>\n",
       "      <td>3</td>\n",
       "      <td>4048</td>\n",
       "      <td>11169</td>\n",
       "      <td>0004img</td>\n",
       "    </tr>\n",
       "    <tr>\n",
       "      <th>4</th>\n",
       "      <td>4</td>\n",
       "      <td>4048</td>\n",
       "      <td>11442</td>\n",
       "      <td>0005img</td>\n",
       "    </tr>\n",
       "  </tbody>\n",
       "</table>\n",
       "</div>"
      ],
      "text/plain": [
       "   Unnamed: 0     x      y      Sno\n",
       "0           0  4046  10350  0001img\n",
       "1           1  4047  10623  0002img\n",
       "2           2  4047  10896  0003img\n",
       "3           3  4048  11169  0004img\n",
       "4           4  4048  11442  0005img"
      ]
     },
     "execution_count": 2,
     "metadata": {},
     "output_type": "execute_result"
    }
   ],
   "source": [
    "df=pd.read_csv('gene_exp.csv')\n",
    "df=df.drop(['Unnamed: 0','X1','X2','bar_name'],axis=1)\n",
    "df2=pd.DataFrame()\n",
    "df2=df.groupby(['x','y','UMI_Count']).agg('gene_name').apply(lambda x:\" \".join(list(set(x)))).reset_index()\n",
    "df3=pd.read_csv('link_to_img_trial.csv')\n",
    "df7=df3\n",
    "df7.head()"
   ]
  },
  {
   "cell_type": "code",
   "execution_count": 3,
   "metadata": {},
   "outputs": [
    {
     "data": {
      "text/html": [
       "<div>\n",
       "<style scoped>\n",
       "    .dataframe tbody tr th:only-of-type {\n",
       "        vertical-align: middle;\n",
       "    }\n",
       "\n",
       "    .dataframe tbody tr th {\n",
       "        vertical-align: top;\n",
       "    }\n",
       "\n",
       "    .dataframe thead th {\n",
       "        text-align: right;\n",
       "    }\n",
       "</style>\n",
       "<table border=\"1\" class=\"dataframe\">\n",
       "  <thead>\n",
       "    <tr style=\"text-align: right;\">\n",
       "      <th></th>\n",
       "      <th>UMI_Count</th>\n",
       "      <th>gene_name</th>\n",
       "      <th>x</th>\n",
       "      <th>y</th>\n",
       "      <th>Sno</th>\n",
       "    </tr>\n",
       "  </thead>\n",
       "  <tbody>\n",
       "    <tr>\n",
       "      <th>0</th>\n",
       "      <td>1</td>\n",
       "      <td>SAMD11</td>\n",
       "      <td>15937</td>\n",
       "      <td>17428</td>\n",
       "      <td>2552img</td>\n",
       "    </tr>\n",
       "    <tr>\n",
       "      <th>1</th>\n",
       "      <td>1</td>\n",
       "      <td>NOC2L</td>\n",
       "      <td>15937</td>\n",
       "      <td>17428</td>\n",
       "      <td>2552img</td>\n",
       "    </tr>\n",
       "    <tr>\n",
       "      <th>2</th>\n",
       "      <td>3</td>\n",
       "      <td>HES4</td>\n",
       "      <td>15937</td>\n",
       "      <td>17428</td>\n",
       "      <td>2552img</td>\n",
       "    </tr>\n",
       "    <tr>\n",
       "      <th>3</th>\n",
       "      <td>22</td>\n",
       "      <td>ISG15</td>\n",
       "      <td>15937</td>\n",
       "      <td>17428</td>\n",
       "      <td>2552img</td>\n",
       "    </tr>\n",
       "    <tr>\n",
       "      <th>4</th>\n",
       "      <td>1</td>\n",
       "      <td>C1orf159</td>\n",
       "      <td>15937</td>\n",
       "      <td>17428</td>\n",
       "      <td>2552img</td>\n",
       "    </tr>\n",
       "  </tbody>\n",
       "</table>\n",
       "</div>"
      ],
      "text/plain": [
       "   UMI_Count gene_name      x      y      Sno\n",
       "0          1    SAMD11  15937  17428  2552img\n",
       "1          1     NOC2L  15937  17428  2552img\n",
       "2          3      HES4  15937  17428  2552img\n",
       "3         22     ISG15  15937  17428  2552img\n",
       "4          1  C1orf159  15937  17428  2552img"
      ]
     },
     "execution_count": 3,
     "metadata": {},
     "output_type": "execute_result"
    }
   ],
   "source": [
    "df11 = pd.merge(df, df7, on=['x','y'], how='inner')\n",
    "df11=df11.drop(columns=['Unnamed: 0'])\n",
    "df11.head()"
   ]
  },
  {
   "cell_type": "code",
   "execution_count": 4,
   "metadata": {},
   "outputs": [],
   "source": [
    "from numpy import load\n",
    "df12=pd.pivot_table(df11, values='UMI_Count', index=['Sno'],columns=['gene_name'], aggfunc=np.sum)\n",
    "df13=df12.fillna(0)\n",
    "intersect_col_genes= load('intersect_col_genes.npy',allow_pickle=True)\n",
    "df13=df13[intersect_col_genes]\n",
    "df13.to_csv('Pivot_gene_trial.csv')"
   ]
  },
  {
   "cell_type": "code",
   "execution_count": 184,
   "metadata": {},
   "outputs": [
    {
     "name": "stderr",
     "output_type": "stream",
     "text": [
      "<ipython-input-184-0df0094368eb>:5: RuntimeWarning: divide by zero encountered in log\n",
      "  df14=np.log(df14)\n"
     ]
    },
    {
     "data": {
      "text/html": [
       "<div>\n",
       "<style scoped>\n",
       "    .dataframe tbody tr th:only-of-type {\n",
       "        vertical-align: middle;\n",
       "    }\n",
       "\n",
       "    .dataframe tbody tr th {\n",
       "        vertical-align: top;\n",
       "    }\n",
       "\n",
       "    .dataframe thead th {\n",
       "        text-align: right;\n",
       "    }\n",
       "</style>\n",
       "<table border=\"1\" class=\"dataframe\">\n",
       "  <thead>\n",
       "    <tr style=\"text-align: right;\">\n",
       "      <th></th>\n",
       "      <th>ABCC5</th>\n",
       "      <th>ADAM15</th>\n",
       "      <th>ADAR</th>\n",
       "      <th>ADIPOR1</th>\n",
       "      <th>AEBP1</th>\n",
       "      <th>ANXA2</th>\n",
       "      <th>ANXA6</th>\n",
       "      <th>APOC1</th>\n",
       "      <th>APRT</th>\n",
       "      <th>AQP3</th>\n",
       "      <th>...</th>\n",
       "      <th>VPS28</th>\n",
       "      <th>WBP1</th>\n",
       "      <th>WDR1</th>\n",
       "      <th>WWP1</th>\n",
       "      <th>XBP1</th>\n",
       "      <th>YIPF3</th>\n",
       "      <th>YWHAE</th>\n",
       "      <th>YWHAQ</th>\n",
       "      <th>ZFAS1</th>\n",
       "      <th>ZNF706</th>\n",
       "    </tr>\n",
       "  </thead>\n",
       "  <tbody>\n",
       "    <tr>\n",
       "      <th>0</th>\n",
       "      <td>Low</td>\n",
       "      <td>Low</td>\n",
       "      <td>Low</td>\n",
       "      <td>Low</td>\n",
       "      <td>Low</td>\n",
       "      <td>Low</td>\n",
       "      <td>Low</td>\n",
       "      <td>Low</td>\n",
       "      <td>Low</td>\n",
       "      <td>Low</td>\n",
       "      <td>...</td>\n",
       "      <td>Low</td>\n",
       "      <td>Low</td>\n",
       "      <td>Low</td>\n",
       "      <td>Low</td>\n",
       "      <td>Low</td>\n",
       "      <td>Low</td>\n",
       "      <td>Low</td>\n",
       "      <td>Low</td>\n",
       "      <td>Low</td>\n",
       "      <td>Low</td>\n",
       "    </tr>\n",
       "    <tr>\n",
       "      <th>1</th>\n",
       "      <td>Low</td>\n",
       "      <td>Low</td>\n",
       "      <td>Low</td>\n",
       "      <td>Low</td>\n",
       "      <td>Low</td>\n",
       "      <td>Low</td>\n",
       "      <td>Low</td>\n",
       "      <td>Low</td>\n",
       "      <td>Low</td>\n",
       "      <td>Low</td>\n",
       "      <td>...</td>\n",
       "      <td>Low</td>\n",
       "      <td>Low</td>\n",
       "      <td>Low</td>\n",
       "      <td>Low</td>\n",
       "      <td>Low</td>\n",
       "      <td>Low</td>\n",
       "      <td>Low</td>\n",
       "      <td>Low</td>\n",
       "      <td>Low</td>\n",
       "      <td>Low</td>\n",
       "    </tr>\n",
       "    <tr>\n",
       "      <th>2</th>\n",
       "      <td>Low</td>\n",
       "      <td>Low</td>\n",
       "      <td>Low</td>\n",
       "      <td>Low</td>\n",
       "      <td>Low</td>\n",
       "      <td>Low</td>\n",
       "      <td>Low</td>\n",
       "      <td>Low</td>\n",
       "      <td>Low</td>\n",
       "      <td>Low</td>\n",
       "      <td>...</td>\n",
       "      <td>High</td>\n",
       "      <td>Low</td>\n",
       "      <td>Low</td>\n",
       "      <td>Low</td>\n",
       "      <td>Low</td>\n",
       "      <td>Low</td>\n",
       "      <td>Low</td>\n",
       "      <td>Low</td>\n",
       "      <td>Low</td>\n",
       "      <td>Low</td>\n",
       "    </tr>\n",
       "    <tr>\n",
       "      <th>3</th>\n",
       "      <td>Low</td>\n",
       "      <td>Low</td>\n",
       "      <td>Low</td>\n",
       "      <td>Low</td>\n",
       "      <td>Low</td>\n",
       "      <td>Low</td>\n",
       "      <td>Low</td>\n",
       "      <td>Low</td>\n",
       "      <td>Low</td>\n",
       "      <td>Low</td>\n",
       "      <td>...</td>\n",
       "      <td>Low</td>\n",
       "      <td>Low</td>\n",
       "      <td>Low</td>\n",
       "      <td>Low</td>\n",
       "      <td>Low</td>\n",
       "      <td>Low</td>\n",
       "      <td>Low</td>\n",
       "      <td>Low</td>\n",
       "      <td>Low</td>\n",
       "      <td>Low</td>\n",
       "    </tr>\n",
       "    <tr>\n",
       "      <th>4</th>\n",
       "      <td>Low</td>\n",
       "      <td>Low</td>\n",
       "      <td>Low</td>\n",
       "      <td>High</td>\n",
       "      <td>Low</td>\n",
       "      <td>Low</td>\n",
       "      <td>Low</td>\n",
       "      <td>Low</td>\n",
       "      <td>Low</td>\n",
       "      <td>Low</td>\n",
       "      <td>...</td>\n",
       "      <td>High</td>\n",
       "      <td>Low</td>\n",
       "      <td>Low</td>\n",
       "      <td>Low</td>\n",
       "      <td>Low</td>\n",
       "      <td>Low</td>\n",
       "      <td>Low</td>\n",
       "      <td>Low</td>\n",
       "      <td>Low</td>\n",
       "      <td>Low</td>\n",
       "    </tr>\n",
       "  </tbody>\n",
       "</table>\n",
       "<p>5 rows × 375 columns</p>\n",
       "</div>"
      ],
      "text/plain": [
       "  ABCC5 ADAM15 ADAR ADIPOR1 AEBP1 ANXA2 ANXA6 APOC1 APRT AQP3  ... VPS28 WBP1  \\\n",
       "0   Low    Low  Low     Low   Low   Low   Low   Low  Low  Low  ...   Low  Low   \n",
       "1   Low    Low  Low     Low   Low   Low   Low   Low  Low  Low  ...   Low  Low   \n",
       "2   Low    Low  Low     Low   Low   Low   Low   Low  Low  Low  ...  High  Low   \n",
       "3   Low    Low  Low     Low   Low   Low   Low   Low  Low  Low  ...   Low  Low   \n",
       "4   Low    Low  Low    High   Low   Low   Low   Low  Low  Low  ...  High  Low   \n",
       "\n",
       "  WDR1 WWP1 XBP1 YIPF3 YWHAE YWHAQ ZFAS1 ZNF706  \n",
       "0  Low  Low  Low   Low   Low   Low   Low    Low  \n",
       "1  Low  Low  Low   Low   Low   Low   Low    Low  \n",
       "2  Low  Low  Low   Low   Low   Low   Low    Low  \n",
       "3  Low  Low  Low   Low   Low   Low   Low    Low  \n",
       "4  Low  Low  Low   Low   Low   Low   Low    Low  \n",
       "\n",
       "[5 rows x 375 columns]"
      ]
     },
     "execution_count": 184,
     "metadata": {},
     "output_type": "execute_result"
    }
   ],
   "source": [
    "df14=pd.read_csv('Pivot_gene_trial.csv')\n",
    "#df14.reset_index(level=0, inplace=True)\n",
    "Sno=df14['Sno']\n",
    "df14.drop(['Sno'],axis=1,inplace=True)\n",
    "df14=np.log(df14)\n",
    "df14=df14.replace([np.inf, -np.inf], np.nan)\n",
    "df14=df14.fillna(0).astype('float64')\n",
    "#binning= ['Low','Medium','High','Very_High']\n",
    "df14=df14.apply(lambda x: pd.qcut(x, 2,duplicates='drop',labels=False))\n",
    "df14=df14.astype('str')\n",
    "df14=df14.replace(['0', '1'], ['Low','High'])\n",
    "df14.head()"
   ]
  },
  {
   "cell_type": "code",
   "execution_count": 185,
   "metadata": {},
   "outputs": [
    {
     "data": {
      "text/plain": [
       "array([['Low'],\n",
       "       ['Low'],\n",
       "       ['Low'],\n",
       "       ...,\n",
       "       ['High'],\n",
       "       ['High'],\n",
       "       ['High']], dtype=object)"
      ]
     },
     "execution_count": 185,
     "metadata": {},
     "output_type": "execute_result"
    }
   ],
   "source": [
    "y=df14.iloc[:,:1].values\n",
    "y"
   ]
  },
  {
   "cell_type": "markdown",
   "metadata": {},
   "source": [
    "## Gene Expression Visualisation"
   ]
  },
  {
   "cell_type": "code",
   "execution_count": 7,
   "metadata": {},
   "outputs": [
    {
     "data": {
      "text/html": [
       "<div>\n",
       "<style scoped>\n",
       "    .dataframe tbody tr th:only-of-type {\n",
       "        vertical-align: middle;\n",
       "    }\n",
       "\n",
       "    .dataframe tbody tr th {\n",
       "        vertical-align: top;\n",
       "    }\n",
       "\n",
       "    .dataframe thead th {\n",
       "        text-align: right;\n",
       "    }\n",
       "</style>\n",
       "<table border=\"1\" class=\"dataframe\">\n",
       "  <thead>\n",
       "    <tr style=\"text-align: right;\">\n",
       "      <th></th>\n",
       "      <th>Unnamed: 0</th>\n",
       "      <th>x</th>\n",
       "      <th>y</th>\n",
       "      <th>Sno</th>\n",
       "      <th>ABCC5</th>\n",
       "      <th>ADAM15</th>\n",
       "      <th>ADAR</th>\n",
       "      <th>ADIPOR1</th>\n",
       "      <th>AEBP1</th>\n",
       "      <th>ANXA2</th>\n",
       "      <th>...</th>\n",
       "      <th>VPS28</th>\n",
       "      <th>WBP1</th>\n",
       "      <th>WDR1</th>\n",
       "      <th>WWP1</th>\n",
       "      <th>XBP1</th>\n",
       "      <th>YIPF3</th>\n",
       "      <th>YWHAE</th>\n",
       "      <th>YWHAQ</th>\n",
       "      <th>ZFAS1</th>\n",
       "      <th>ZNF706</th>\n",
       "    </tr>\n",
       "  </thead>\n",
       "  <tbody>\n",
       "    <tr>\n",
       "      <th>0</th>\n",
       "      <td>0</td>\n",
       "      <td>4046</td>\n",
       "      <td>10350</td>\n",
       "      <td>0001img</td>\n",
       "      <td>1.0</td>\n",
       "      <td>2.0</td>\n",
       "      <td>2.0</td>\n",
       "      <td>1.0</td>\n",
       "      <td>1.0</td>\n",
       "      <td>3.0</td>\n",
       "      <td>...</td>\n",
       "      <td>4.0</td>\n",
       "      <td>2.0</td>\n",
       "      <td>1.0</td>\n",
       "      <td>1.0</td>\n",
       "      <td>10.0</td>\n",
       "      <td>0.0</td>\n",
       "      <td>3.0</td>\n",
       "      <td>1.0</td>\n",
       "      <td>2.0</td>\n",
       "      <td>2.0</td>\n",
       "    </tr>\n",
       "    <tr>\n",
       "      <th>1</th>\n",
       "      <td>1</td>\n",
       "      <td>4047</td>\n",
       "      <td>10623</td>\n",
       "      <td>0002img</td>\n",
       "      <td>2.0</td>\n",
       "      <td>0.0</td>\n",
       "      <td>4.0</td>\n",
       "      <td>1.0</td>\n",
       "      <td>2.0</td>\n",
       "      <td>3.0</td>\n",
       "      <td>...</td>\n",
       "      <td>0.0</td>\n",
       "      <td>1.0</td>\n",
       "      <td>0.0</td>\n",
       "      <td>2.0</td>\n",
       "      <td>9.0</td>\n",
       "      <td>0.0</td>\n",
       "      <td>0.0</td>\n",
       "      <td>2.0</td>\n",
       "      <td>2.0</td>\n",
       "      <td>2.0</td>\n",
       "    </tr>\n",
       "    <tr>\n",
       "      <th>2</th>\n",
       "      <td>2</td>\n",
       "      <td>4047</td>\n",
       "      <td>10896</td>\n",
       "      <td>0003img</td>\n",
       "      <td>3.0</td>\n",
       "      <td>1.0</td>\n",
       "      <td>2.0</td>\n",
       "      <td>1.0</td>\n",
       "      <td>2.0</td>\n",
       "      <td>1.0</td>\n",
       "      <td>...</td>\n",
       "      <td>5.0</td>\n",
       "      <td>3.0</td>\n",
       "      <td>1.0</td>\n",
       "      <td>3.0</td>\n",
       "      <td>12.0</td>\n",
       "      <td>1.0</td>\n",
       "      <td>7.0</td>\n",
       "      <td>1.0</td>\n",
       "      <td>0.0</td>\n",
       "      <td>3.0</td>\n",
       "    </tr>\n",
       "    <tr>\n",
       "      <th>3</th>\n",
       "      <td>3</td>\n",
       "      <td>4048</td>\n",
       "      <td>11169</td>\n",
       "      <td>0004img</td>\n",
       "      <td>2.0</td>\n",
       "      <td>2.0</td>\n",
       "      <td>3.0</td>\n",
       "      <td>1.0</td>\n",
       "      <td>2.0</td>\n",
       "      <td>1.0</td>\n",
       "      <td>...</td>\n",
       "      <td>1.0</td>\n",
       "      <td>1.0</td>\n",
       "      <td>1.0</td>\n",
       "      <td>1.0</td>\n",
       "      <td>14.0</td>\n",
       "      <td>0.0</td>\n",
       "      <td>1.0</td>\n",
       "      <td>2.0</td>\n",
       "      <td>2.0</td>\n",
       "      <td>1.0</td>\n",
       "    </tr>\n",
       "    <tr>\n",
       "      <th>4</th>\n",
       "      <td>4</td>\n",
       "      <td>4048</td>\n",
       "      <td>11442</td>\n",
       "      <td>0005img</td>\n",
       "      <td>0.0</td>\n",
       "      <td>0.0</td>\n",
       "      <td>2.0</td>\n",
       "      <td>5.0</td>\n",
       "      <td>0.0</td>\n",
       "      <td>4.0</td>\n",
       "      <td>...</td>\n",
       "      <td>5.0</td>\n",
       "      <td>1.0</td>\n",
       "      <td>2.0</td>\n",
       "      <td>4.0</td>\n",
       "      <td>9.0</td>\n",
       "      <td>3.0</td>\n",
       "      <td>1.0</td>\n",
       "      <td>1.0</td>\n",
       "      <td>0.0</td>\n",
       "      <td>1.0</td>\n",
       "    </tr>\n",
       "  </tbody>\n",
       "</table>\n",
       "<p>5 rows × 379 columns</p>\n",
       "</div>"
      ],
      "text/plain": [
       "   Unnamed: 0     x      y      Sno  ABCC5  ADAM15  ADAR  ADIPOR1  AEBP1  \\\n",
       "0           0  4046  10350  0001img    1.0     2.0   2.0      1.0    1.0   \n",
       "1           1  4047  10623  0002img    2.0     0.0   4.0      1.0    2.0   \n",
       "2           2  4047  10896  0003img    3.0     1.0   2.0      1.0    2.0   \n",
       "3           3  4048  11169  0004img    2.0     2.0   3.0      1.0    2.0   \n",
       "4           4  4048  11442  0005img    0.0     0.0   2.0      5.0    0.0   \n",
       "\n",
       "   ANXA2  ...  VPS28  WBP1  WDR1  WWP1  XBP1  YIPF3  YWHAE  YWHAQ  ZFAS1  \\\n",
       "0    3.0  ...    4.0   2.0   1.0   1.0  10.0    0.0    3.0    1.0    2.0   \n",
       "1    3.0  ...    0.0   1.0   0.0   2.0   9.0    0.0    0.0    2.0    2.0   \n",
       "2    1.0  ...    5.0   3.0   1.0   3.0  12.0    1.0    7.0    1.0    0.0   \n",
       "3    1.0  ...    1.0   1.0   1.0   1.0  14.0    0.0    1.0    2.0    2.0   \n",
       "4    4.0  ...    5.0   1.0   2.0   4.0   9.0    3.0    1.0    1.0    0.0   \n",
       "\n",
       "   ZNF706  \n",
       "0     2.0  \n",
       "1     2.0  \n",
       "2     3.0  \n",
       "3     1.0  \n",
       "4     1.0  \n",
       "\n",
       "[5 rows x 379 columns]"
      ]
     },
     "execution_count": 7,
     "metadata": {},
     "output_type": "execute_result"
    }
   ],
   "source": [
    "df14=pd.read_csv('Pivot_gene_trial.csv')\n",
    "Gene_exp=pd.merge(df7,df14,on=['Sno'],how='inner')\n",
    "Gene_exp.head()"
   ]
  },
  {
   "cell_type": "code",
   "execution_count": 8,
   "metadata": {},
   "outputs": [
    {
     "data": {
      "image/png": "[encoded data removed]",
      "text/plain": [
       "<Figure size 432x288 with 2 Axes>"
      ]
     },
     "metadata": {},
     "output_type": "display_data"
    }
   ],
   "source": [
    "from matplotlib import pyplot as plt\n",
    "from matplotlib import pylab as pl\n",
    "from matplotlib import cm as cm\n",
    "x = Gene_exp['x']\n",
    "y = Gene_exp['y']\n",
    "c = Gene_exp['ADAM15']\n",
    "plt.hexbin(x, y, C=c, cmap=cm.plasma, gridsize=50,bins='log')\n",
    "plt.xlabel('x coordinates')\n",
    "plt.ylabel('y coordinates')\n",
    "plt.xlim(max(x), min(x)) \n",
    "#plt.ylim(max(x), min(x)) \n",
    "plt.colorbar()\n",
    "plt.show() "
   ]
  },
  {
   "cell_type": "markdown",
   "metadata": {},
   "source": [
    "## Intersection"
   ]
  },
  {
   "cell_type": "code",
   "execution_count": null,
   "metadata": {},
   "outputs": [],
   "source": [
    "from numpy import savez_compressed\n",
    "from numpy import asarray\n",
    "from numpy import save\n",
    "col_UMI=df13.columns.to_numpy()\n",
    "col_UMI=asarray(col_UMI)\n",
    "save('col_UMI.npy', col_UMI)"
   ]
  },
  {
   "cell_type": "code",
   "execution_count": null,
   "metadata": {},
   "outputs": [],
   "source": [
    "from numpy import load\n",
    "from numpy import asarray\n",
    "col_Trues = load('col_Trues.npy',allow_pickle=True)\n",
    "col_UMI=df13.columns.to_numpy()\n",
    "col_UMI=asarray(col_UMI)\n",
    "intersect_col_genes=np.intersect1d(col_UMI, col_Trues)\n",
    "len(intersect_col_genes)"
   ]
  },
  {
   "cell_type": "code",
   "execution_count": 9,
   "metadata": {},
   "outputs": [],
   "source": [
    "# create a mapping of tags to integers given the loaded mapping file\n",
    "def create_tag_mapping(df3):\n",
    "    # create a set of all known tags\n",
    "    labels = set()\n",
    "    for i in range(len(df3)):\n",
    "        # convert spaced separated tags into an array of tags\n",
    "        gene_name = df3['gene_name'][i].split(' ')\n",
    "        # add tags to the set of known labels\n",
    "        labels.update(gene_name)\n",
    "    # convert set of labels to a list to list\n",
    "    labels = list(labels)\n",
    "    # order set alphabetically\n",
    "    labels.sort()\n",
    "    # dict that maps labels to integers, and the reverse\n",
    "    labels_map = {labels[i]:i for i in range(len(labels))}\n",
    "    inv_labels_map = {i:labels[i] for i in range(len(labels))}\n",
    "    return labels_map, inv_labels_map\n",
    "# create a mapping of filename to tags\n",
    "def create_file_mapping(df3):\n",
    "    mapping = dict()\n",
    "    for i in range(len(df3)):\n",
    "        name, gene_name = df3['Sno'][i], df3['gene_name'][i]\n",
    "        mapping[name] = gene_name.split(' ')\n",
    "    return mapping\n",
    "# create a one hot encoding for one list of tags\n",
    "def one_hot_encode(gene_name, mapping):\n",
    "    # create empty vector\n",
    "    encoding = zeros(len(mapping), dtype='uint8')\n",
    "    # mark 1 for each tag in the vector\n",
    "    for tag in gene_name:\n",
    "        encoding[mapping[tag]] = 1\n",
    "    return encoding\n",
    "def load_dataset(path, file_mapping, tag_mapping):\n",
    "    photos, targets = list(), list()\n",
    "    # enumerate files in the directory\n",
    "    for filename in listdir(folder):\n",
    "        # load image\n",
    "        photo = load_img(path + filename, target_size=(140,140))\n",
    "        # convert to numpy array\n",
    "        photo = img_to_array(photo, dtype='uint8')\n",
    "        # get tags\n",
    "        gene_name = file_mapping[filename[:-4]]\n",
    "        # one hot encode tags\n",
    "        target = one_hot_encode(gene_name, tag_mapping)\n",
    "        # store\n",
    "        photos.append(photo)\n",
    "        targets.append(target)\n",
    "    X = asarray(photos, dtype='uint8')\n",
    "    return X"
   ]
  },
  {
   "cell_type": "code",
   "execution_count": null,
   "metadata": {},
   "outputs": [],
   "source": [
    "'''X11=X.reshape([3798,58800])\n",
    "X11=pd.DataFrame(data=X11)\n",
    "X11.head()\n",
    "X11.to_csv('Img_arr.csv')'''"
   ]
  },
  {
   "cell_type": "markdown",
   "metadata": {},
   "source": [
    "## Dimensionality Reduction"
   ]
  },
  {
   "cell_type": "code",
   "execution_count": null,
   "metadata": {},
   "outputs": [],
   "source": [
    "import umap.umap_ as umap\n",
    "umap_data = umap.UMAP(n_neighbors=5, min_dist=0.3, n_components=3).fit_transform(df.iloc[:,:-1].values)\n",
    "plt.figure(figsize=(12,8))\n",
    "plt.title('Decomposition using UMAP')\n",
    "plt.scatter(umap_data[:,0], umap_data[:,1])\n",
    "plt.scatter(umap_data[:,1], umap_data[:,2])\n",
    "plt.scatter(umap_data[:,2], umap_data[:,0])"
   ]
  },
  {
   "cell_type": "code",
   "execution_count": null,
   "metadata": {},
   "outputs": [],
   "source": [
    "from sklearn.decomposition import TruncatedSVD \n",
    "svd = TruncatedSVD(n_components=3, random_state=42).fit_transform(df.iloc[:,:-1].values)\n",
    "plt.figure(figsize=(12,8))\n",
    "plt.title('SVD Components')\n",
    "plt.scatter(svd[:,0], svd[:,1])\n",
    "plt.scatter(svd[:,1], svd[:,2])\n",
    "plt.scatter(svd[:,2],svd[:,0])"
   ]
  },
  {
   "cell_type": "code",
   "execution_count": 10,
   "metadata": {},
   "outputs": [
    {
     "name": "stdout",
     "output_type": "stream",
     "text": [
      "(3798, 58800) (3798,)\n"
     ]
    }
   ],
   "source": [
    "from os import listdir\n",
    "from numpy import zeros\n",
    "from numpy import asarray\n",
    "from keras.preprocessing.image import load_img\n",
    "from keras.preprocessing.image import img_to_array\n",
    "df5=pd.read_csv('Gene_list_df5.csv')\n",
    "df5=df5.drop(columns=['Unnamed: 0'])\n",
    "mapping_csv = df5\n",
    "# create a mapping of tags to integers\n",
    "tag_mapping, _ = create_tag_mapping(mapping_csv)\n",
    "# create a mapping of filenames to tag lists\n",
    "file_mapping = create_file_mapping(mapping_csv)\n",
    "folder = 'C:/Users/Onkar/UntitledFolder/Trainimg_breast2/'\n",
    "X= load_dataset(folder, file_mapping, tag_mapping)\n",
    "X=X.reshape([3798,58800]) #(3407,140,140,3) --> reshape --> (3407,58800), #Umap->DR #CNN/CapsNet\n",
    "#y=df13.iloc[:,0:5].values\n",
    "#y=y.astype(int)\n",
    "print(X.shape, y.shape)"
   ]
  },
  {
   "cell_type": "code",
   "execution_count": 69,
   "metadata": {},
   "outputs": [
    {
     "data": {
      "text/plain": [
       "(3798, 544)"
      ]
     },
     "execution_count": 69,
     "metadata": {},
     "output_type": "execute_result"
    }
   ],
   "source": [
    "from sklearn.decomposition import PCA\n",
    "pca = PCA(.80)\n",
    "#pca = PCA(n_components=100)\n",
    "X=X/255\n",
    "principalComponents = pca.fit(X)\n",
    "principalC= pca.fit_transform(X)\n",
    "principalDf = pd.DataFrame(data = principalC)\n",
    "#print(pca.explained_variance_ratio_)\n",
    "principalDf.shape"
   ]
  },
  {
   "cell_type": "markdown",
   "metadata": {},
   "source": [
    "## LGBM Classifier"
   ]
  },
  {
   "cell_type": "code",
   "execution_count": 187,
   "metadata": {},
   "outputs": [
    {
     "name": "stderr",
     "output_type": "stream",
     "text": [
      "C:\\Users\\Onkar\\anaconda3\\lib\\site-packages\\sklearn\\utils\\validation.py:72: DataConversionWarning: A column-vector y was passed when a 1d array was expected. Please change the shape of y to (n_samples, ), for example using ravel().\n",
      "  return f(**kwargs)\n"
     ]
    }
   ],
   "source": [
    "from sklearn.model_selection import train_test_split\n",
    "from sklearn.preprocessing import LabelEncoder\n",
    "le = LabelEncoder()\n",
    "Y= le.fit_transform(y)\n",
    "X_train, X_test, y_train, y_test = train_test_split(principalDf, Y, test_size = 0.25, random_state = 0, stratify =Y)"
   ]
  },
  {
   "cell_type": "code",
   "execution_count": 188,
   "metadata": {},
   "outputs": [
    {
     "name": "stdout",
     "output_type": "stream",
     "text": [
      "[LightGBM] [Warning] Accuracy may be bad since you didn't explicitly set num_leaves OR 2^max_depth > num_leaves. (num_leaves=31).\n"
     ]
    },
    {
     "data": {
      "text/plain": [
       "LGBMClassifier(learning_rate=0.01, max_depth=10)"
      ]
     },
     "execution_count": 188,
     "metadata": {},
     "output_type": "execute_result"
    }
   ],
   "source": [
    "import lightgbm as lgb\n",
    "clf = lgb.LGBMClassifier( num_leaves=31, max_depth= 10,learning_rate=0.01)\n",
    "clf.fit(X_train, y_train)"
   ]
  },
  {
   "cell_type": "code",
   "execution_count": 189,
   "metadata": {},
   "outputs": [],
   "source": [
    "y_pred=clf.predict(X_test)\n",
    "#y_pred = [np.argmax(line) for line in y_pred]"
   ]
  },
  {
   "cell_type": "code",
   "execution_count": 190,
   "metadata": {},
   "outputs": [
    {
     "name": "stdout",
     "output_type": "stream",
     "text": [
      "Confusion matrix\n",
      "\n",
      " [[388  86]\n",
      " [143 333]]\n",
      "LightGBM Model f1 score: 0.7589\n",
      "LightGBM Model recall score: 0.7589\n",
      "LightGBM Model precision score: 0.7589\n",
      "LightGBM Model accuracy score: 0.7589\n"
     ]
    }
   ],
   "source": [
    "from sklearn.metrics import confusion_matrix\n",
    "from sklearn.metrics import recall_score\n",
    "from sklearn.metrics import precision_score\n",
    "from sklearn.metrics import accuracy_score\n",
    "from sklearn.metrics import f1_score\n",
    "\n",
    "cm = confusion_matrix(y_test, y_pred)\n",
    "print('Confusion matrix\\n\\n', cm)\n",
    "f1score = f1_score(y_test, y_pred,average='micro')\n",
    "print('LightGBM Model f1 score: {0:0.4f}'.format(f1score))\n",
    "recall = recall_score(y_test, y_pred,average='micro')\n",
    "print('LightGBM Model recall score: {0:0.4f}'.format(recall))\n",
    "precision = precision_score(y_test, y_pred,average='micro')\n",
    "print('LightGBM Model precision score: {0:0.4f}'.format(precision))\n",
    "accuracy=accuracy_score(y_pred, y_test)\n",
    "print('LightGBM Model accuracy score: {0:0.4f}'.format(accuracy))"
   ]
  },
  {
   "cell_type": "markdown",
   "metadata": {},
   "source": [
    "## SVM"
   ]
  },
  {
   "cell_type": "code",
   "execution_count": 77,
   "metadata": {},
   "outputs": [],
   "source": [
    "from sklearn.preprocessing import StandardScaler\n",
    "sc = StandardScaler()\n",
    "X_train = sc.fit_transform(X_train)\n",
    "X_test = sc.transform(X_test)\n",
    "from sklearn.svm import SVC\n",
    "classifier = SVC(kernel = 'rbf', random_state = 0)\n",
    "classifier.fit(X_train, y_train)\n",
    "y_pred = classifier.predict(X_test)"
   ]
  },
  {
   "cell_type": "markdown",
   "metadata": {},
   "source": [
    "## TPOT AutoML"
   ]
  },
  {
   "cell_type": "code",
   "execution_count": null,
   "metadata": {},
   "outputs": [],
   "source": [
    "from sklearn.model_selection import RepeatedStratifiedKFold\n",
    "from tpot import TPOTClassifier\n",
    "from sklearn.preprocessing import LabelEncoder\n",
    "le = LabelEncoder()\n",
    "Y= le.fit_transform(y)\n",
    "cv = RepeatedStratifiedKFold(n_splits=10, n_repeats=3, random_state=1)\n",
    "model = TPOTClassifier(generations=5, population_size=50, cv=cv, scoring='accuracy', verbosity=2, random_state=1, n_jobs=-1)\n",
    "model.fit(principalDf, Y)"
   ]
  },
  {
   "cell_type": "code",
   "execution_count": null,
   "metadata": {},
   "outputs": [],
   "source": [
    "'''df=pd.DataFrame(data=X)\n",
    "df['UMI']=y\n",
    "df.head()\n",
    "'''\n",
    "correlation_matrix = principalDf.corr()\n",
    "for i in range(len(correlation_matrix .columns)):\n",
    "    for j in range(i):\n",
    "        if abs(correlation_matrix.iloc[i, j]) > 0.75:\n",
    "            colname = correlation_matrix.columns[i]\n",
    "            correlated_features.add(colname)\n",
    "principalDf.drop(labels=correlated_features, axis=1, inplace=True)"
   ]
  },
  {
   "cell_type": "code",
   "execution_count": null,
   "metadata": {},
   "outputs": [],
   "source": [
    "principalDf['UMI']=y\n",
    "X = principalDf.iloc[:, :-1].values\n",
    "y = principalDf.iloc[:, 585].values\n",
    "trainX, testX, trainY, testY = train_test_split(X, y, test_size=0.20, random_state=1)\n",
    "sc = StandardScaler()\n",
    "trainX = sc.fit_transform(trainX)\n",
    "testX = sc.transform(testX)\n",
    "regressor = LinearRegression()\n",
    "regressor.fit(trainX, trainY)\n",
    "y_pred = regressor.predict(testX)\n",
    "import sklearn.metrics as sm\n",
    "print(\"Mean absolute error =\", round(sm.mean_absolute_error(testY, y_pred), 2)) \n",
    "print(\"Mean squared error =\", round(sm.mean_squared_error(testY, y_pred), 2)) \n",
    "print(\"Median absolute error =\", round(sm.median_absolute_error(testY, y_pred), 2)) \n",
    "print(\"Explain variance score =\", round(sm.explained_variance_score(testY, y_pred), 2)) \n",
    "print(\"R2 score =\", round(sm.r2_score(testY, y_pred), 2))"
   ]
  },
  {
   "cell_type": "markdown",
   "metadata": {},
   "source": [
    "## ANN"
   ]
  },
  {
   "cell_type": "code",
   "execution_count": null,
   "metadata": {},
   "outputs": [],
   "source": [
    "from os import listdir\n",
    "from numpy import zeros\n",
    "from numpy import asarray\n",
    "from keras.preprocessing.image import load_img\n",
    "from keras.preprocessing.image import img_to_array\n",
    "df5=pd.read_csv('df5.csv')\n",
    "df5=df5.drop(columns=['Unnamed: 0'])\n",
    "mapping_csv = df5\n",
    "# create a mapping of tags to integers\n",
    "tag_mapping, _ = create_tag_mapping(mapping_csv)\n",
    "# create a mapping of filenames to tag lists\n",
    "file_mapping = create_file_mapping(mapping_csv)\n",
    "folder = 'C:/Users/Onkar/UntitledFolder/Trainimg_breast/'\n",
    "X= load_dataset(folder, file_mapping, tag_mapping)\n",
    "print(X.shape, y.shape)\n",
    "X=X.reshape([3407,58800]) #(3407,140,140,3) --> reshape --> (3407,58800), #Umap->DR #CNN/CapsNet\n",
    "y=df13.iloc[:,0:1].values\n",
    "y=y.astype(int)"
   ]
  },
  {
   "cell_type": "code",
   "execution_count": 193,
   "metadata": {},
   "outputs": [
    {
     "name": "stdout",
     "output_type": "stream",
     "text": [
      "Epoch 1/10\n",
      "45/45 [==============================] - 1s 32ms/step - loss: 0.6731 - auc: 0.7280 - val_loss: 0.5772 - val_auc: 0.8200\n",
      "Epoch 2/10\n",
      "45/45 [==============================] - 1s 21ms/step - loss: 0.5805 - auc: 0.7830 - val_loss: 0.5410 - val_auc: 0.8207\n",
      "Epoch 3/10\n",
      "45/45 [==============================] - 1s 21ms/step - loss: 0.5433 - auc: 0.8065 - val_loss: 0.5361 - val_auc: 0.8208\n",
      "Epoch 4/10\n",
      "45/45 [==============================] - 1s 20ms/step - loss: 0.5390 - auc: 0.8080 - val_loss: 0.5324 - val_auc: 0.8212\n",
      "Epoch 5/10\n",
      "45/45 [==============================] - 1s 22ms/step - loss: 0.5099 - auc: 0.8297 - val_loss: 0.5466 - val_auc: 0.8245\n",
      "Epoch 6/10\n",
      "45/45 [==============================] - 1s 21ms/step - loss: 0.4968 - auc: 0.8383 - val_loss: 0.5505 - val_auc: 0.8259\n",
      "Epoch 7/10\n",
      "45/45 [==============================] - 1s 21ms/step - loss: 0.5011 - auc: 0.8372 - val_loss: 0.5438 - val_auc: 0.8256\n",
      "Epoch 8/10\n",
      "45/45 [==============================] - 1s 21ms/step - loss: 0.4903 - auc: 0.8442 - val_loss: 0.5381 - val_auc: 0.8232\n",
      "Epoch 9/10\n",
      "45/45 [==============================] - 1s 21ms/step - loss: 0.4857 - auc: 0.8471 - val_loss: 0.5368 - val_auc: 0.8244\n",
      "Epoch 10/10\n",
      "45/45 [==============================] - 1s 20ms/step - loss: 0.4793 - auc: 0.8504 - val_loss: 0.5370 - val_auc: 0.8250\n"
     ]
    },
    {
     "data": {
      "text/plain": [
       "<tensorflow.python.keras.callbacks.History at 0x2c3efa06dc0>"
      ]
     },
     "execution_count": 193,
     "metadata": {},
     "output_type": "execute_result"
    }
   ],
   "source": [
    "from keras.models import Sequential\n",
    "from keras.layers import Conv2D\n",
    "from keras.layers import MaxPooling2D\n",
    "from keras.layers import Dense\n",
    "from keras.layers import Flatten\n",
    "from keras.layers import Dropout\n",
    "from keras.models import Model\n",
    "from sklearn.model_selection import train_test_split\n",
    "from sklearn.preprocessing import StandardScaler\n",
    "from sklearn.preprocessing import LabelEncoder\n",
    "from keras.utils import np_utils\n",
    "from keras.optimizers import SGD\n",
    "from keras.constraints import maxnorm\n",
    "\n",
    "encoder = LabelEncoder()\n",
    "encoder.fit(Y)\n",
    "encoded_Y = encoder.transform(Y)\n",
    "dummy_y = np_utils.to_categorical(encoded_Y)\n",
    "trainX, testX, trainY, testY = train_test_split(principalDf, dummy_y, test_size=0.25, random_state=1)\n",
    "#sc = StandardScaler()\n",
    "#trainX = sc.fit_transform(trainX)\n",
    "#testX = sc.transform(testX)\n",
    "model = Sequential()\n",
    "model.add(Dense(600, input_dim=544, kernel_initializer='normal', activation='elu'))\n",
    "model.add(Dropout(0.35))\n",
    "model.add(Dense(500, kernel_initializer='normal', activation='elu'))\n",
    "model.add(Dropout(0.35))\n",
    "model.add(Dense(400, kernel_initializer='normal', activation='elu'))\n",
    "model.add(Dropout(0.35))\n",
    "model.add(Dense(300, kernel_initializer='normal', activation='elu'))\n",
    "model.add(Dropout(0.35))\n",
    "model.add(Dense(200, kernel_initializer='normal', activation='elu'))\n",
    "model.add(Dropout(0.35))\n",
    "model.add(Dense(100, kernel_initializer='normal', activation='elu'))\n",
    "model.add(Dropout(0.35))\n",
    "model.add(Dense(2,  activation='softmax'))\n",
    "\n",
    "sgd = SGD(lr=0.01, momentum=0.8)\n",
    "model.compile(loss='categorical_crossentropy', optimizer=sgd, metrics= ['AUC'])\n",
    "model.fit(trainX, trainY,\n",
    "          batch_size=64,\n",
    "          epochs=10,\n",
    "          verbose=1,\n",
    "          validation_data=(testX, testY))"
   ]
  },
  {
   "cell_type": "code",
   "execution_count": 175,
   "metadata": {},
   "outputs": [
    {
     "name": "stdout",
     "output_type": "stream",
     "text": [
      "30/30 [==============================] - 0s 3ms/step - loss: 0.8635 - auc: 0.7831\n",
      "[0.8635242581367493, 0.7830564975738525]\n"
     ]
    }
   ],
   "source": [
    "score=model.evaluate(testX,testY)\n",
    "print(score)\n",
    "y_pred = model.predict(testX)"
   ]
  },
  {
   "cell_type": "code",
   "execution_count": null,
   "metadata": {},
   "outputs": [],
   "source": [
    "import sklearn.metrics as sm\n",
    "print(\"Mean absolute error =\", round(sm.mean_absolute_error(testY, preds), 2)) \n",
    "print(\"Mean squared error =\", round(sm.mean_squared_error(testY, preds), 2)) \n",
    "print(\"Median absolute error =\", round(sm.median_absolute_error(testY, preds), 2)) \n",
    "print(\"Explain variance score =\", round(sm.explained_variance_score(testY, preds), 2)) \n",
    "print(\"R2 score =\", round(sm.r2_score(testY, preds), 2))"
   ]
  },
  {
   "cell_type": "code",
   "execution_count": null,
   "metadata": {},
   "outputs": [],
   "source": [
    "import seaborn as sns\n",
    "residuals = testY - preds\n",
    "sns.distplot(residuals)"
   ]
  },
  {
   "cell_type": "code",
   "execution_count": null,
   "metadata": {},
   "outputs": [],
   "source": [
    "t.test(testY,preds)\n",
    "var.test(testY,preds)"
   ]
  },
  {
   "cell_type": "markdown",
   "metadata": {},
   "source": [
    "## Linear Regression"
   ]
  },
  {
   "cell_type": "code",
   "execution_count": null,
   "metadata": {},
   "outputs": [],
   "source": [
    "from os import listdir\n",
    "from numpy import zeros\n",
    "from numpy import asarray\n",
    "from keras.preprocessing.image import load_img\n",
    "from keras.preprocessing.image import img_to_array\n",
    "df5=pd.read_csv('df5.csv')\n",
    "df5=df5.drop(columns=['Unnamed: 0'])\n",
    "mapping_csv = df5\n",
    "# create a mapping of tags to integers\n",
    "tag_mapping, _ = create_tag_mapping(mapping_csv)\n",
    "# create a mapping of filenames to tag lists\n",
    "file_mapping = create_file_mapping(mapping_csv)\n",
    "folder = 'C:/Users/Onkar/UntitledFolder/Trainimg_breast/'\n",
    "X= load_dataset(folder, file_mapping, tag_mapping)\n",
    "print(X.shape, y.shape)\n",
    "X=X.reshape([3407,58800]) \n",
    "#X=X/255\n",
    "y=df13.iloc[:,0:1].values\n",
    "y=y.astype(int)"
   ]
  },
  {
   "cell_type": "code",
   "execution_count": null,
   "metadata": {},
   "outputs": [],
   "source": [
    "from sklearn.linear_model import LinearRegression\n",
    "from sklearn.model_selection import train_test_split\n",
    "from sklearn.preprocessing import StandardScaler\n",
    "from sklearn.ensemble import RandomForestRegressor\n",
    "from sklearn.preprocessing import PolynomialFeatures\n",
    "from sklearn.svm import SVR\n",
    "\n",
    "#X = df.iloc[:, :-1].values\n",
    "#y = df.iloc[:, 58800].values\n",
    "trainX, testX, trainY, testY = train_test_split(principalDf, y, test_size=0.20, random_state=1)\n",
    "sc = StandardScaler()\n",
    "#trainX = sc.fit_transform(trainX)\n",
    "#testX = sc.transform(testX)\n",
    "#trainY = sc.fit_transform(trainY)\n",
    "#testY = sc.fit_transform(testY)\n",
    "poly_reg = PolynomialFeatures(degree = 2)\n",
    "X_poly = poly_reg.fit_transform(trainX)\n",
    "poly_reg.fit(X_poly, trainY)\n",
    "#lin_reg_2 = LinearRegression()\n",
    "#lin_reg_2.fit(X_poly, y)\n",
    "\n",
    "#regressor = SVR(kernel = 'poly')\n",
    "#regressor.fit(trainX, trainY)\n",
    "\n",
    "y_pred = regressor.predict(testX)"
   ]
  },
  {
   "cell_type": "code",
   "execution_count": null,
   "metadata": {},
   "outputs": [],
   "source": [
    "'''\n",
    "regressor = LinearRegression()\n",
    "regressor.fit(trainX, trainY)\n",
    "y_pred = regressor.predict(testX)\n",
    "y_pred''' "
   ]
  },
  {
   "cell_type": "code",
   "execution_count": null,
   "metadata": {},
   "outputs": [],
   "source": [
    "import sklearn.metrics as sm\n",
    "print(\"Mean absolute error =\", round(sm.mean_absolute_error(testY, y_pred), 2)) \n",
    "print(\"Mean squared error =\", round(sm.mean_squared_error(testY, y_pred), 2)) \n",
    "print(\"Median absolute error =\", round(sm.median_absolute_error(testY, y_pred), 2)) \n",
    "print(\"Explain variance score =\", round(sm.explained_variance_score(testY, y_pred), 2)) \n",
    "print(\"R2 score =\", round(sm.r2_score(testY, y_pred), 2))"
   ]
  },
  {
   "cell_type": "code",
   "execution_count": null,
   "metadata": {},
   "outputs": [],
   "source": [
    "y_preds = y_pred\n",
    "plt.scatter(x=list(range(0, 682)), y=testY, color ='blue')\n",
    "plt.scatter(x=list(range(0, 682)), y=y_preds, color ='red')"
   ]
  },
  {
   "cell_type": "code",
   "execution_count": null,
   "metadata": {},
   "outputs": [],
   "source": [
    "import seaborn as sns\n",
    "residuals = testY - y_pred\n",
    "sns.distplot(residuals)"
   ]
  },
  {
   "cell_type": "markdown",
   "metadata": {},
   "source": [
    "## LGBM Regression"
   ]
  },
  {
   "cell_type": "code",
   "execution_count": null,
   "metadata": {},
   "outputs": [],
   "source": [
    "import lightgbm as lgb\n",
    "from sklearn.model_selection import train_test_split\n",
    "from sklearn.metrics import mean_squared_log_error\n",
    "from sklearn import preprocessing\n",
    "#from sklearn.preprocessing import StandardScaler, PolynomialFeatures, Imputer\n",
    "from sklearn.model_selection import cross_val_score, cross_val_predict\n",
    "\n",
    "\n",
    "hyper_params = {\n",
    "    'task': 'train',\n",
    "    'boosting_type': 'gbdt',\n",
    "    'objective': 'regression',\n",
    "    'metric': ['l2', 'auc'],\n",
    "    'learning_rate': 0.005,\n",
    "    'feature_fraction': 0.9,\n",
    "    'bagging_fraction': 0.7,\n",
    "    'bagging_freq': 10,\n",
    "    'verbose': 0,\n",
    "    \"max_depth\": 8,\n",
    "    \"num_leaves\": 128,  \n",
    "    \"max_bin\": 512,\n",
    "    \"num_iterations\": 100000,\n",
    "    \"n_estimators\": 1000\n",
    "}"
   ]
  },
  {
   "cell_type": "code",
   "execution_count": null,
   "metadata": {},
   "outputs": [],
   "source": [
    "trainX, testX, trainY, testY = train_test_split(principalDf, y, test_size=0.20, random_state=1)\n",
    "\n",
    "trainY=trainY.reshape([2725,])\n",
    "trainY=trainY.ravel()\n",
    "testY=testY.reshape([682,])\n",
    "testY=testY.ravel()\n",
    "\n",
    "gbm = lgb.LGBMRegressor(**hyper_params)\n",
    "gbm.fit(trainX, trainY,\n",
    "        eval_set=[(testX, testY)],\n",
    "        eval_metric='l1',\n",
    "        early_stopping_rounds=1000)\n",
    "y_pred = gbm.predict(testX, num_iteration=gbm.best_iteration_)"
   ]
  },
  {
   "cell_type": "code",
   "execution_count": null,
   "metadata": {},
   "outputs": [],
   "source": [
    "import seaborn as sns\n",
    "#preds = model.predict(testX)\n",
    "'''y_preds = y_pred'''\n",
    "#plt.scatter(x=trainX[2], y=trainY, color ='blue')\n",
    "#plt.scatter(x=testX[2], y=y_pred, color ='red')\n",
    "sns.lineplot(data=testY)\n",
    "sns.lineplot(data=y_pred)"
   ]
  },
  {
   "cell_type": "code",
   "execution_count": null,
   "metadata": {},
   "outputs": [],
   "source": [
    "plot_prediction(testY, y_pred)"
   ]
  },
  {
   "cell_type": "code",
   "execution_count": null,
   "metadata": {},
   "outputs": [],
   "source": [
    "import sklearn.metrics as sm\n",
    "print(\"Mean absolute error =\", round(sm.mean_absolute_error(testY, y_pred), 2)) \n",
    "print(\"Mean squared error =\", round(sm.mean_squared_error(testY, y_pred), 2)) \n",
    "print(\"Median absolute error =\", round(sm.median_absolute_error(testY, y_pred), 2)) \n",
    "print(\"Explain variance score =\", round(sm.explained_variance_score(testY, y_pred), 2)) \n",
    "print(\"R2 score =\", round(sm.r2_score(testY, y_pred), 2))"
   ]
  },
  {
   "cell_type": "markdown",
   "metadata": {},
   "source": [
    "## Multivariate Regression"
   ]
  },
  {
   "cell_type": "code",
   "execution_count": null,
   "metadata": {},
   "outputs": [],
   "source": [
    "from numpy import mean\n",
    "from numpy import std\n",
    "from numpy import absolute\n",
    "from sklearn.datasets import make_regression\n",
    "from sklearn.model_selection import cross_val_score\n",
    "from sklearn.model_selection import RepeatedKFold\n",
    "from sklearn.multioutput import MultiOutputRegressor\n",
    "from sklearn.svm import LinearSVR\n",
    "import lightgbm as lgb\n",
    "\n",
    "hyper_params = {\n",
    "    'task': 'train',\n",
    "    'boosting_type': 'gbdt',\n",
    "    'objective': 'regression',\n",
    "    'metric': ['l2', 'auc'],\n",
    "    'learning_rate': 0.005,\n",
    "    'feature_fraction': 0.9,\n",
    "    'bagging_fraction': 0.7,\n",
    "    'bagging_freq': 10,\n",
    "    'verbose': 0,\n",
    "    \"max_depth\": 8,\n",
    "    \"num_leaves\": 128,  \n",
    "    \"max_bin\": 512,\n",
    "    \"num_iterations\": 100000,\n",
    "    \"n_estimators\": 1000\n",
    "}\n",
    "\n",
    "model = lgb.LGBMRegressor(**hyper_params)\n",
    "wrapper = MultiOutputRegressor(model)\n",
    "cv = RepeatedKFold(n_splits=10, n_repeats=3, random_state=1)\n",
    "n_scores = cross_val_score(wrapper, principalDf, y, scoring='neg_mean_squared_error', cv=cv, n_jobs=-1)\n",
    "n_scores = absolute(n_scores)\n",
    "print('MAE: %.3f (%.3f)' % (mean(n_scores), std(n_scores)))"
   ]
  },
  {
   "cell_type": "code",
   "execution_count": null,
   "metadata": {},
   "outputs": [],
   "source": [
    "#principalDf.to_csv('X.csv')\n",
    "#np.savetxt(\"y.csv\", y, delimiter=\",\")\n",
    "#y\n",
    "#y=pd.DataFrame(data=y)\n",
    "#y.to_csv('y.csv')\n",
    "import pandas as pd\n",
    "from sklearn.model_selection import train_test_split\n",
    "\n",
    "X=pd.read_csv('X.csv')\n",
    "y=pd.read_csv('y.csv')\n",
    "y=y.iloc[:,0:5].values\n",
    "trainX, testX, trainY, testY = train_test_split(X, y, test_size=0.20, random_state=1)"
   ]
  },
  {
   "cell_type": "markdown",
   "metadata": {},
   "source": [
    "## TABNET-Regressor"
   ]
  },
  {
   "cell_type": "code",
   "execution_count": null,
   "metadata": {},
   "outputs": [],
   "source": [
    "import pandas as pd\n",
    "import numpy  as np\n",
    "import torch\n",
    "from pytorch_tabnet.tab_model import TabNetRegressor\n",
    "from sklearn.model_selection import KFold"
   ]
  },
  {
   "cell_type": "code",
   "execution_count": null,
   "metadata": {},
   "outputs": [],
   "source": [
    "from sklearn.model_selection import train_test_split\n",
    "trainX, testX, trainY, testY = train_test_split(principalDf, y, test_size=0.20, random_state=1)\n",
    "X      = trainX.to_numpy()\n",
    "#y      = trainY.to_numpy()\n",
    "X_test = testX.to_numpy()\n",
    "kf = KFold(n_splits=2, random_state=42, shuffle=True)\n",
    "predictions_array =[]\n",
    "CV_score_array    =[]\n",
    "for train_index, test_index in kf.split(X):\n",
    "    X_train, X_valid = X[train_index], X[test_index]\n",
    "    y_train, y_valid = y[train_index], y[test_index]\n",
    "    regressor = TabNetRegressor(n_d=512,n_a=512,scheduler_fn=torch.optim.lr_scheduler.MultiStepLR,scheduler_params = {\"milestones\": [150,250,300,350,400,450],'gamma':0.2},verbose=1,seed=42)\n",
    "    regressor.fit(X_train=X_train, y_train=y_train,\n",
    "              eval_set=[(X_valid, y_valid)],\n",
    "              patience=200, max_epochs=20,\n",
    "              eval_metric=['rmse'])\n",
    "    CV_score_array.append(regressor.best_cost)\n",
    "    predictions_array.append(regressor.predict(X_test))\n",
    "predictions = np.mean(predictions_array,axis=0)"
   ]
  },
  {
   "cell_type": "code",
   "execution_count": null,
   "metadata": {},
   "outputs": [],
   "source": [
    "import seaborn as sns\n",
    "sns.lineplot(data=testY)\n",
    "sns.lineplot(data=predictions_array[1])"
   ]
  },
  {
   "cell_type": "code",
   "execution_count": null,
   "metadata": {},
   "outputs": [],
   "source": [
    "plot_prediction(testY, predictions_array[1])"
   ]
  },
  {
   "cell_type": "code",
   "execution_count": null,
   "metadata": {},
   "outputs": [],
   "source": [
    "import sklearn.metrics as sm\n",
    "print(\"Mean absolute error =\", round(sm.mean_absolute_error(testY, predictions_array[1]), 2)) \n",
    "print(\"Mean squared error =\", round(sm.mean_squared_error(testY, predictions_array[1]), 2)) \n",
    "print(\"Median absolute error =\", round(sm.median_absolute_error(testY, predictions_array[1]), 2)) \n",
    "print(\"Explain variance score =\", round(sm.explained_variance_score(testY, predictions_array[1]), 2)) \n",
    "print(\"R2 score =\", round(sm.r2_score(testY, predictions_array[1]), 2))"
   ]
  },
  {
   "cell_type": "markdown",
   "metadata": {},
   "source": [
    "## Conv 1-D Regression"
   ]
  },
  {
   "cell_type": "code",
   "execution_count": null,
   "metadata": {},
   "outputs": [],
   "source": [
    "import tensorflow as tf\n",
    "from tensorflow import keras"
   ]
  },
  {
   "cell_type": "code",
   "execution_count": null,
   "metadata": {},
   "outputs": [],
   "source": [
    "train_data=principalDf.iloc[0:3000,:].values\n",
    "test_data=principalDf.iloc[3000:3407,:].values"
   ]
  },
  {
   "cell_type": "code",
   "execution_count": null,
   "metadata": {},
   "outputs": [],
   "source": [
    "mean = train_data.mean(axis=0)\n",
    "std = train_data.std(axis=0)\n",
    "train_data = (train_data - mean) / std\n",
    "test_data = (test_data - mean) / std"
   ]
  },
  {
   "cell_type": "code",
   "execution_count": null,
   "metadata": {},
   "outputs": [],
   "source": [
    "def build_model():\n",
    "    model = keras.Sequential([\n",
    "    keras.layers.Input(shape=(train_data.shape[1],)),                  \n",
    "    keras.layers.Dense(64, activation=tf.nn.relu),\n",
    "    keras.layers.Dense(64, activation=tf.nn.relu),\n",
    "    keras.layers.Dense(1)], name=\"MLP_model\")\n",
    "    optimizer = tf.keras.optimizers.RMSprop(0.001)\n",
    "    model.compile(loss='mse',\n",
    "                optimizer=optimizer,\n",
    "                metrics=['mse'])\n",
    "    return model\n",
    "model = build_model()\n",
    "model.summary()"
   ]
  },
  {
   "cell_type": "code",
   "execution_count": null,
   "metadata": {},
   "outputs": [],
   "source": [
    "train_labels = y[0:3000]\n",
    "EPOCHS = 500\n",
    "history = model.fit(train_data, train_labels, epochs=EPOCHS,\n",
    "                    validation_split=0.2, verbose=1)"
   ]
  },
  {
   "cell_type": "code",
   "execution_count": null,
   "metadata": {},
   "outputs": [],
   "source": [
    "import matplotlib.pyplot as plt\n",
    "def plot_history(history):\n",
    "  plt.figure()\n",
    "  plt.xlabel('Epoch')\n",
    "  plt.ylabel('Mean Abs Error [1000$]')\n",
    "  plt.plot(history.epoch, np.array(history.history['mse']), \n",
    "           label='Train')\n",
    "  plt.plot(history.epoch, np.array(history.history['val_mse']),\n",
    "           label = 'Val')\n",
    "  plt.legend()\n",
    "  plt.ylim([0,max(history.history['val_mse'])])\n",
    "\n",
    "def plot_prediction(test_labels, test_predictions):\n",
    "  plt.figure()\n",
    "  plt.scatter(test_labels, test_predictions)\n",
    "  plt.xlabel('True Values [1000$]')\n",
    "  plt.ylabel('Predictions [1000$]')\n",
    "  plt.axis('equal')\n",
    "  plt.xlim(plt.xlim())\n",
    "  plt.ylim(plt.ylim())\n",
    "  _ = plt.plot([-100, 100],[-100,100])\n",
    "\n",
    "  plt.figure()\n",
    "  error = test_predictions - test_labels\n",
    "  plt.hist(error, bins = 50)\n",
    "  plt.xlabel(\"Prediction Error [1000$]\")\n",
    "  _ = plt.ylabel(\"Count\")\n",
    "plot_history(history)"
   ]
  },
  {
   "cell_type": "code",
   "execution_count": null,
   "metadata": {},
   "outputs": [],
   "source": [
    "test_labels = y[3000:3407]\n",
    "[loss, mae] = model.evaluate(test_data, test_labels, verbose=1)\n",
    "print(\"Testing set Mean Sqr Error: ${:7.2f}\".format(mae))"
   ]
  },
  {
   "cell_type": "code",
   "execution_count": null,
   "metadata": {},
   "outputs": [],
   "source": [
    "test_predictions = model.predict(test_data).flatten()\n",
    "test_predictions[test_predictions<0] = 0\n",
    "plot_prediction(test_labels, test_predictions)"
   ]
  },
  {
   "cell_type": "code",
   "execution_count": null,
   "metadata": {},
   "outputs": [],
   "source": [
    "import seaborn as sns\n",
    "sns.lineplot(data=test_labels)\n",
    "sns.lineplot(data=test_predictions)"
   ]
  },
  {
   "cell_type": "code",
   "execution_count": null,
   "metadata": {},
   "outputs": [],
   "source": [
    "import sklearn.metrics as sm\n",
    "test_predictions[test_predictions<0] = 0\n",
    "print(\"Mean absolute error =\", round(sm.mean_absolute_error(test_labels, test_predictions), 2)) \n",
    "print(\"Mean squared error =\", round(sm.mean_squared_error(test_labels, test_predictions), 2)) \n",
    "print(\"Median absolute error =\", round(sm.median_absolute_error(test_labels, test_predictions), 2)) \n",
    "print(\"Explain variance score =\", round(sm.explained_variance_score(test_labels, test_predictions), 2)) \n",
    "print(\"R2 score =\", round(sm.r2_score(test_labels, test_predictions), 2))"
   ]
  },
  {
   "cell_type": "markdown",
   "metadata": {},
   "source": [
    "## LOWESS/LOESS Rgression (Non-Parametric)"
   ]
  },
  {
   "cell_type": "code",
   "execution_count": null,
   "metadata": {},
   "outputs": [],
   "source": [
    "import pandas as pd \n",
    "import numpy as np \n",
    "from sklearn.linear_model import LinearRegression \n",
    "import plotly.graph_objects as go \n",
    "import plotly.express as px \n",
    "import statsmodels.api as sm \n",
    "from scipy.interpolate import interp1d "
   ]
  },
  {
   "cell_type": "code",
   "execution_count": null,
   "metadata": {},
   "outputs": [],
   "source": [
    "import statsmodels.api as sm\n",
    "lowess = sm.nonparametric.lowess\n",
    "trainX, testX, trainY, testY = train_test_split(principalDf1, y, test_size=0.20, random_state=1)\n",
    "\n",
    "model1 = LinearRegression()\n",
    "LR = model1.fit(trainX, trainY)\n",
    "\n",
    "x_range = np.linspace(X.min(), X.max(), 20) \n",
    "y_range = model1.predict(x_range.reshape(-1, 1))\n",
    "\n",
    "\n",
    "trainY=np.reshape(trainY, (2725))\n",
    "trainX=np.reshape(trainX, (2725))"
   ]
  },
  {
   "cell_type": "code",
   "execution_count": null,
   "metadata": {},
   "outputs": [],
   "source": [
    "trainX[\"PCA\"] = trainX[0]\n",
    "trainX.drop([0],axis=1,inplace=True)\n",
    "trainX=trainX['PCA'].values"
   ]
  },
  {
   "cell_type": "code",
   "execution_count": null,
   "metadata": {},
   "outputs": [],
   "source": [
    "y_hat1 = lowess(trainY, trainX) \n",
    "y_hat2 = lowess(trainY, trainX, frac=1/5)"
   ]
  },
  {
   "cell_type": "code",
   "execution_count": null,
   "metadata": {},
   "outputs": [],
   "source": [
    "fig = px.scatter(df, x=trainX, y=trainY)\n",
    "x_range = np.linspace(trainX.min(), trainX.max(), 20) \n",
    "y_range = model1.predict(x_range.reshape(-1, 1))\n",
    "\n",
    "fig.add_traces(go.Scatter(x=x_range, y=y_range, name='Linear Regression', line=dict(color='limegreen')))\n",
    "fig.add_traces(go.Scatter(x=y_hat1[:,0], y=y_hat1[:,1], name='LOWESS, frac=2/3', line=dict(color='red')))\n",
    "fig.add_traces(go.Scatter(x=y_hat2[:,0], y=y_hat2[:,1], name='LOWESS, frac=1/5', line=dict(color='orange')))\n",
    "\n",
    "# Update axes lines\n",
    "fig.update_xaxes(showgrid=True, gridwidth=1, gridcolor='lightgrey', \n",
    "                 zeroline=True, zerolinewidth=1, zerolinecolor='lightgrey', \n",
    "                 showline=True, linewidth=1, linecolor='black')\n",
    "\n",
    "fig.update_yaxes(showgrid=True, gridwidth=1, gridcolor='lightgrey', \n",
    "                 zeroline=True, zerolinewidth=1, zerolinecolor='lightgrey', \n",
    "                 showline=True, linewidth=1, linecolor='black')\n",
    "\n",
    "# Set figure title\n",
    "fig.update_layout(title=dict(text=\"Scatter Plot\", \n",
    "                             font=dict(color='black')))\n",
    "\n",
    "# Update marker size\n",
    "fig.update_traces(marker=dict(size=3))\n",
    "\n",
    "fig.show()"
   ]
  },
  {
   "cell_type": "code",
   "execution_count": null,
   "metadata": {},
   "outputs": [],
   "source": [
    "f_linear = interp1d(y_hat1[:,0], y=y_hat1[:,1], bounds_error=False, kind='linear', fill_value='extrapolate') \n",
    "f_nearest = interp1d(y_hat1[:,0], y=y_hat1[:,1], bounds_error=False, kind='nearest', fill_value='extrapolate') \n",
    "\n",
    "testX=np.reshape(testX, (682))\n",
    "\n",
    "ynew_linear = f_linear(testX)\n",
    "ynew_nearest = f_nearest(testX)\n",
    "\n",
    "print(ynew_linear)\n",
    "print(ynew_nearest)"
   ]
  },
  {
   "cell_type": "code",
   "execution_count": null,
   "metadata": {},
   "outputs": [],
   "source": [
    "import seaborn as sns\n",
    "sns.lineplot(data=test_labels)\n",
    "sns.lineplot(data=ynew_nearest)"
   ]
  },
  {
   "cell_type": "markdown",
   "metadata": {},
   "source": [
    "## Image to Signal"
   ]
  },
  {
   "cell_type": "code",
   "execution_count": null,
   "metadata": {},
   "outputs": [],
   "source": [
    "import seaborn as sns\n",
    "fig, axes = plt.subplots(2, 3, figsize=(20,10))\n",
    "sns.lineplot(ax=axes[0, 0], data=X[])\n",
    "sns.lineplot(ax=axes[0, 1], data=X[9])\n",
    "sns.lineplot(ax=axes[0, 2], data=X[10])\n",
    "sns.lineplot(ax=axes[1, 0], data=X[3])\n",
    "sns.lineplot(ax=axes[1, 1], data=X[4])\n",
    "sns.lineplot(ax=axes[1, 2], data=X[5])"
   ]
  },
  {
   "cell_type": "markdown",
   "metadata": {},
   "source": [
    "## LGBM -R PCA =1 "
   ]
  },
  {
   "cell_type": "code",
   "execution_count": null,
   "metadata": {},
   "outputs": [],
   "source": [
    "trainX, testX, trainY, testY = train_test_split(principalDf1, y, test_size=0.20, random_state=1)\n",
    "\n",
    "trainY=trainY.reshape([2725,])\n",
    "trainY=trainY.ravel()\n",
    "testY=testY.reshape([682,])\n",
    "testY=testY.ravel()\n",
    "\n",
    "gbm = lgb.LGBMRegressor(**hyper_params)\n",
    "gbm.fit(trainX, trainY,\n",
    "        eval_set=[(testX, testY)],\n",
    "        eval_metric='l1',\n",
    "        early_stopping_rounds=1000)\n",
    "y_pred = gbm.predict(testX, num_iteration=gbm.best_iteration_)"
   ]
  },
  {
   "cell_type": "code",
   "execution_count": null,
   "metadata": {},
   "outputs": [],
   "source": [
    "import seaborn as sns\n",
    "sns.lineplot(data=testY)\n",
    "sns.lineplot(data=y_pred)"
   ]
  },
  {
   "cell_type": "code",
   "execution_count": null,
   "metadata": {},
   "outputs": [],
   "source": [
    "import sklearn.metrics as sm\n",
    "print(\"Mean absolute error =\", round(sm.mean_absolute_error(testY, y_pred), 2)) \n",
    "print(\"Mean squared error =\", round(sm.mean_squared_error(testY, y_pred), 2)) \n",
    "print(\"Median absolute error =\", round(sm.median_absolute_error(testY, y_pred), 2)) \n",
    "print(\"Explain variance score =\", round(sm.explained_variance_score(testY, y_pred), 2)) \n",
    "print(\"R2 score =\", round(sm.r2_score(testY, y_pred), 2))"
   ]
  },
  {
   "cell_type": "code",
   "execution_count": null,
   "metadata": {},
   "outputs": [],
   "source": [
    "y_test"
   ]
  }
 ],
 "metadata": {
  "kernelspec": {
   "display_name": "Python 3",
   "language": "python",
   "name": "python3"
  },
  "language_info": {
   "codemirror_mode": {
    "name": "ipython",
    "version": 3
   },
   "file_extension": ".py",
   "mimetype": "text/x-python",
   "name": "python",
   "nbconvert_exporter": "python",
   "pygments_lexer": "ipython3",
   "version": "3.8.5"
  }
 },
 "nbformat": 4,
 "nbformat_minor": 4
}
