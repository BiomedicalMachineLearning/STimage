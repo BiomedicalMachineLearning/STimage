{
 "cells": [
  {
   "cell_type": "markdown",
   "id": "golden-addiction",
   "metadata": {},
   "source": [
    "# Libraries and create tiles"
   ]
  },
  {
   "cell_type": "code",
   "execution_count": 1,
   "id": "welcome-bulgaria",
   "metadata": {},
   "outputs": [],
   "source": [
    "import stlearn as st\n",
    "st.settings.set_figure_params(dpi=300)\n",
    "from pathlib import Path\n",
    "import pandas as pd\n",
    "import matplotlib.pyplot as plt\n",
    "import sys; import scanpy as sc\n",
    "from pathlib import Path\n",
    "from typing import Optional, Union\n",
    "from anndata import AnnData\n",
    "import pandas as pd\n",
    "import stlearn\n",
    "from typing import Optional, Union\n",
    "from anndata import AnnData\n",
    "from pathlib import Path\n",
    "from PIL import Image\n",
    "from tqdm import tqdm\n",
    "import seaborn as sns\n",
    "import numpy as np\n",
    "import os\n",
    "from sklearn.multioutput import MultiOutputClassifier\n",
    "import pandas as pd\n",
    "import lightgbm as lgb\n",
    "from sklearn.preprocessing import LabelEncoder\n",
    "from sklearn.model_selection import train_test_split\n",
    "from sklearn import preprocessing\n",
    "from sklearn.preprocessing import LabelBinarizer\n",
    "import os\n",
    "from keras.applications.imagenet_utils import decode_predictions\n",
    "from keras.preprocessing import image\n",
    "from sklearn.metrics import roc_auc_score\n",
    "from skimage.color import rgb2hed\n",
    "%matplotlib inline\n",
    "import pandas as pd\n",
    "from keras.utils import to_categorical\n",
    "from numpy import array\n",
    "from numpy import argmax\n",
    "from sklearn.preprocessing import LabelEncoder\n",
    "from sklearn.preprocessing import OneHotEncoder\n",
    "import sys\n",
    "from numpy import load\n",
    "import tensorflow as tf\n",
    "from sklearn.model_selection import train_test_split\n",
    "from keras import backend\n",
    "from keras.preprocessing.image import ImageDataGenerator\n",
    "from keras.models import Sequential\n",
    "from keras.layers import Conv2D, MaxPooling2D, Dense, Flatten, Dropout, BatchNormalization\n",
    "from keras.optimizers import SGD, Adam\n",
    "from keras.models import Model\n",
    "from tensorflow.keras import regularizers\n",
    "from keras.applications.resnet50 import ResNet50, preprocess_input\n",
    "import numpy as np\n",
    "import matplotlib.pyplot as plt\n",
    "from PIL import Image\n",
    "import lime\n",
    "from sklearn.preprocessing import MinMaxScaler\n",
    "from lime import lime_image\n",
    "from skimage.segmentation import mark_boundaries\n",
    "from skimage.segmentation import watershed\n",
    "import glob\n",
    "import os\n",
    "from tensorflow.keras.preprocessing import image as image_fun\n",
    "from sklearn.preprocessing import OneHotEncoder\n",
    "import skimage\n",
    "from skimage.color import rgb2hed\n",
    "from skimage.feature import peak_local_max\n",
    "from skimage.segmentation import watershed\n",
    "from skimage.measure import label\n",
    "import scipy as sp\n",
    "from scipy import ndimage as ndi\n",
    "from skimage.morphology import area_opening\n",
    "import math; import copy\n",
    "\n",
    "\n",
    "def tiling(\n",
    "        adata: AnnData,\n",
    "        out_path: Union[Path, str] = \"./tiling\",\n",
    "        library_id: str = None,\n",
    "        crop_size: int = 40,\n",
    "        target_size: int = 299,\n",
    "        verbose: bool = False,\n",
    "        copy: bool = False,\n",
    ") -> Optional[AnnData]:\n",
    "    \n",
    "\n",
    "    if library_id is None:\n",
    "        library_id = list(adata.uns[\"spatial\"].keys())[0]\n",
    "\n",
    "    # Check the exist of out_path\n",
    "    if not os.path.isdir(out_path):\n",
    "        os.mkdir(out_path)\n",
    "\n",
    "    image = adata.uns[\"spatial\"][library_id][\"images\"][adata.uns[\"spatial\"][\"use_quality\"]]\n",
    "    if image.dtype == np.float32 or image.dtype == np.float64:\n",
    "        image = (image * 255).astype(np.uint8)\n",
    "    img_pillow = Image.fromarray(image)\n",
    "    tile_names = []\n",
    "\n",
    "    with tqdm(\n",
    "            total=len(adata),\n",
    "            desc=\"Tiling image\",\n",
    "            bar_format=\"{l_bar}{bar} [ time left: {remaining} ]\",\n",
    "    ) as pbar:\n",
    "        for imagerow, imagecol in zip(adata.obs[\"imagerow\"], adata.obs[\"imagecol\"]):\n",
    "            imagerow_down = imagerow - crop_size / 2\n",
    "            imagerow_up = imagerow + crop_size / 2\n",
    "            imagecol_left = imagecol - crop_size / 2\n",
    "            imagecol_right = imagecol + crop_size / 2\n",
    "            tile = img_pillow.crop(\n",
    "                (imagecol_left, imagerow_down, imagecol_right, imagerow_up)\n",
    "            )\n",
    "            # tile.thumbnail((target_size, target_size), Image.ANTIALIAS)\n",
    "            tile = tile.resize((target_size, target_size))\n",
    "            tile_name = library_id + \"-\" + str(imagecol) + \"-\" + str(imagerow) + \"-\" + str(crop_size)#np.arange(len(pd.Series(adata))+1).astype(str).str.zfill(4)+1 + \"-\" +\n",
    "            out_tile = Path(out_path) / (tile_name + \".jpeg\")\n",
    "            tile_names.append(str(out_tile))\n",
    "            if verbose:\n",
    "                print(\n",
    "                    \"generate tile at location ({}, {})\".format(\n",
    "                        str(imagecol), str(imagerow)\n",
    "                    )\n",
    "                )\n",
    "            tile.save(out_tile, \"JPEG\")\n",
    "\n",
    "            pbar.update(1)\n",
    "\n",
    "    adata.obs[\"tile_path\"] = tile_names\n",
    "    return adata if copy else None"
   ]
  },
  {
   "cell_type": "markdown",
   "id": "d62ba802-e249-48d3-86cc-6d09ea0048a9",
   "metadata": {},
   "source": [
    "# ST-Net train set"
   ]
  },
  {
   "cell_type": "code",
   "execution_count": 2,
   "id": "f1ca8d67-c611-4e82-a71e-158576e41213",
   "metadata": {
    "tags": []
   },
   "outputs": [
    {
     "name": "stderr",
     "output_type": "stream",
     "text": [
      "Trying to set attribute `.obs` of view, copying.\n"
     ]
    },
    {
     "name": "stdout",
     "output_type": "stream",
     "text": [
      "Added tissue image to the object!\n",
      "Log transformation step is finished in adata.X\n"
     ]
    },
    {
     "name": "stderr",
     "output_type": "stream",
     "text": [
      "Trying to set attribute `.obs` of view, copying.\n"
     ]
    },
    {
     "name": "stdout",
     "output_type": "stream",
     "text": [
      "Added tissue image to the object!\n",
      "Log transformation step is finished in adata.X\n"
     ]
    },
    {
     "name": "stderr",
     "output_type": "stream",
     "text": [
      "Trying to set attribute `.obs` of view, copying.\n"
     ]
    },
    {
     "name": "stdout",
     "output_type": "stream",
     "text": [
      "Added tissue image to the object!\n",
      "Log transformation step is finished in adata.X\n"
     ]
    },
    {
     "name": "stderr",
     "output_type": "stream",
     "text": [
      "Trying to set attribute `.obs` of view, copying.\n"
     ]
    },
    {
     "name": "stdout",
     "output_type": "stream",
     "text": [
      "Added tissue image to the object!\n",
      "Log transformation step is finished in adata.X\n"
     ]
    },
    {
     "name": "stderr",
     "output_type": "stream",
     "text": [
      "Trying to set attribute `.obs` of view, copying.\n"
     ]
    },
    {
     "name": "stdout",
     "output_type": "stream",
     "text": [
      "Added tissue image to the object!\n",
      "Log transformation step is finished in adata.X\n"
     ]
    },
    {
     "name": "stderr",
     "output_type": "stream",
     "text": [
      "Trying to set attribute `.obs` of view, copying.\n"
     ]
    },
    {
     "name": "stdout",
     "output_type": "stream",
     "text": [
      "Added tissue image to the object!\n",
      "Log transformation step is finished in adata.X\n"
     ]
    },
    {
     "name": "stderr",
     "output_type": "stream",
     "text": [
      "Trying to set attribute `.obs` of view, copying.\n"
     ]
    },
    {
     "name": "stdout",
     "output_type": "stream",
     "text": [
      "Added tissue image to the object!\n",
      "Log transformation step is finished in adata.X\n"
     ]
    },
    {
     "name": "stderr",
     "output_type": "stream",
     "text": [
      "Trying to set attribute `.obs` of view, copying.\n"
     ]
    },
    {
     "name": "stdout",
     "output_type": "stream",
     "text": [
      "Added tissue image to the object!\n",
      "Log transformation step is finished in adata.X\n"
     ]
    },
    {
     "name": "stderr",
     "output_type": "stream",
     "text": [
      "Trying to set attribute `.obs` of view, copying.\n"
     ]
    },
    {
     "name": "stdout",
     "output_type": "stream",
     "text": [
      "Added tissue image to the object!\n",
      "Log transformation step is finished in adata.X\n"
     ]
    },
    {
     "name": "stderr",
     "output_type": "stream",
     "text": [
      "Trying to set attribute `.obs` of view, copying.\n"
     ]
    },
    {
     "name": "stdout",
     "output_type": "stream",
     "text": [
      "Added tissue image to the object!\n",
      "Log transformation step is finished in adata.X\n"
     ]
    },
    {
     "name": "stderr",
     "output_type": "stream",
     "text": [
      "Trying to set attribute `.obs` of view, copying.\n"
     ]
    },
    {
     "name": "stdout",
     "output_type": "stream",
     "text": [
      "Added tissue image to the object!\n",
      "Log transformation step is finished in adata.X\n"
     ]
    },
    {
     "name": "stderr",
     "output_type": "stream",
     "text": [
      "Trying to set attribute `.obs` of view, copying.\n"
     ]
    },
    {
     "name": "stdout",
     "output_type": "stream",
     "text": [
      "Added tissue image to the object!\n",
      "Log transformation step is finished in adata.X\n"
     ]
    },
    {
     "name": "stderr",
     "output_type": "stream",
     "text": [
      "Trying to set attribute `.obs` of view, copying.\n"
     ]
    },
    {
     "name": "stdout",
     "output_type": "stream",
     "text": [
      "Added tissue image to the object!\n",
      "Log transformation step is finished in adata.X\n"
     ]
    },
    {
     "name": "stderr",
     "output_type": "stream",
     "text": [
      "Trying to set attribute `.obs` of view, copying.\n"
     ]
    },
    {
     "name": "stdout",
     "output_type": "stream",
     "text": [
      "Added tissue image to the object!\n",
      "Log transformation step is finished in adata.X\n"
     ]
    },
    {
     "name": "stderr",
     "output_type": "stream",
     "text": [
      "Trying to set attribute `.obs` of view, copying.\n"
     ]
    },
    {
     "name": "stdout",
     "output_type": "stream",
     "text": [
      "Added tissue image to the object!\n",
      "Log transformation step is finished in adata.X\n"
     ]
    },
    {
     "name": "stderr",
     "output_type": "stream",
     "text": [
      "Trying to set attribute `.obs` of view, copying.\n"
     ]
    },
    {
     "name": "stdout",
     "output_type": "stream",
     "text": [
      "Added tissue image to the object!\n",
      "Log transformation step is finished in adata.X\n"
     ]
    },
    {
     "name": "stderr",
     "output_type": "stream",
     "text": [
      "Trying to set attribute `.obs` of view, copying.\n"
     ]
    },
    {
     "name": "stdout",
     "output_type": "stream",
     "text": [
      "Added tissue image to the object!\n",
      "Log transformation step is finished in adata.X\n"
     ]
    },
    {
     "name": "stderr",
     "output_type": "stream",
     "text": [
      "Trying to set attribute `.obs` of view, copying.\n"
     ]
    },
    {
     "name": "stdout",
     "output_type": "stream",
     "text": [
      "Added tissue image to the object!\n",
      "Log transformation step is finished in adata.X\n"
     ]
    },
    {
     "name": "stderr",
     "output_type": "stream",
     "text": [
      "Trying to set attribute `.obs` of view, copying.\n"
     ]
    },
    {
     "name": "stdout",
     "output_type": "stream",
     "text": [
      "Added tissue image to the object!\n",
      "Log transformation step is finished in adata.X\n"
     ]
    },
    {
     "name": "stderr",
     "output_type": "stream",
     "text": [
      "Trying to set attribute `.obs` of view, copying.\n"
     ]
    },
    {
     "name": "stdout",
     "output_type": "stream",
     "text": [
      "Added tissue image to the object!\n",
      "Log transformation step is finished in adata.X\n"
     ]
    },
    {
     "name": "stderr",
     "output_type": "stream",
     "text": [
      "Trying to set attribute `.obs` of view, copying.\n"
     ]
    },
    {
     "name": "stdout",
     "output_type": "stream",
     "text": [
      "Added tissue image to the object!\n",
      "Log transformation step is finished in adata.X\n"
     ]
    },
    {
     "name": "stderr",
     "output_type": "stream",
     "text": [
      "Trying to set attribute `.obs` of view, copying.\n"
     ]
    },
    {
     "name": "stdout",
     "output_type": "stream",
     "text": [
      "Added tissue image to the object!\n",
      "Log transformation step is finished in adata.X\n"
     ]
    },
    {
     "name": "stderr",
     "output_type": "stream",
     "text": [
      "Trying to set attribute `.obs` of view, copying.\n"
     ]
    },
    {
     "name": "stdout",
     "output_type": "stream",
     "text": [
      "Added tissue image to the object!\n",
      "Log transformation step is finished in adata.X\n"
     ]
    },
    {
     "name": "stderr",
     "output_type": "stream",
     "text": [
      "Trying to set attribute `.obs` of view, copying.\n"
     ]
    },
    {
     "name": "stdout",
     "output_type": "stream",
     "text": [
      "Added tissue image to the object!\n",
      "Log transformation step is finished in adata.X\n"
     ]
    },
    {
     "name": "stderr",
     "output_type": "stream",
     "text": [
      "Trying to set attribute `.obs` of view, copying.\n"
     ]
    },
    {
     "name": "stdout",
     "output_type": "stream",
     "text": [
      "Added tissue image to the object!\n",
      "Log transformation step is finished in adata.X\n"
     ]
    },
    {
     "name": "stderr",
     "output_type": "stream",
     "text": [
      "Trying to set attribute `.obs` of view, copying.\n"
     ]
    },
    {
     "name": "stdout",
     "output_type": "stream",
     "text": [
      "Added tissue image to the object!\n",
      "Log transformation step is finished in adata.X\n"
     ]
    },
    {
     "name": "stderr",
     "output_type": "stream",
     "text": [
      "Trying to set attribute `.obs` of view, copying.\n"
     ]
    },
    {
     "name": "stdout",
     "output_type": "stream",
     "text": [
      "Added tissue image to the object!\n",
      "Log transformation step is finished in adata.X\n"
     ]
    },
    {
     "name": "stderr",
     "output_type": "stream",
     "text": [
      "Trying to set attribute `.obs` of view, copying.\n"
     ]
    },
    {
     "name": "stdout",
     "output_type": "stream",
     "text": [
      "Added tissue image to the object!\n",
      "Log transformation step is finished in adata.X\n"
     ]
    },
    {
     "name": "stderr",
     "output_type": "stream",
     "text": [
      "Trying to set attribute `.obs` of view, copying.\n"
     ]
    },
    {
     "name": "stdout",
     "output_type": "stream",
     "text": [
      "Added tissue image to the object!\n",
      "Log transformation step is finished in adata.X\n"
     ]
    },
    {
     "name": "stderr",
     "output_type": "stream",
     "text": [
      "Trying to set attribute `.obs` of view, copying.\n"
     ]
    },
    {
     "name": "stdout",
     "output_type": "stream",
     "text": [
      "Added tissue image to the object!\n",
      "Log transformation step is finished in adata.X\n"
     ]
    }
   ],
   "source": [
    "BASE_PATH = Path(\"D:/onkar/Projects/Project_Spt.Transcriptomics/29ntw7sh4r-2/data\")\n",
    "TILE_PATH = BASE_PATH / \"tiles\"\n",
    "TILE_PATH.mkdir(parents=True, exist_ok=True)\n",
    "\n",
    "\n",
    "meta = pd.read_csv(BASE_PATH / \"metadata.csv\")\n",
    "meta = meta.iloc[:30,:]\n",
    "\n",
    "adata_list = []\n",
    "for index,row in meta.iterrows():\n",
    "    cm_path = BASE_PATH / row[\"stdata\"].split(\".gz\")[0]\n",
    "    spot_path = BASE_PATH / row[\"spots\"].split(\".gz\")[0]\n",
    "    img_path = BASE_PATH / row[\"img\"]\n",
    "    Sample = row[\"pateint\"] +\"_\"+ row[\"replicate\"]\n",
    "    adata = st.read.file_table(cm_path)\n",
    "    spot_df = pd.read_csv(spot_path,index_col=0)\n",
    "    comm_index = pd.Series(list(set(spot_df.index).intersection(set(adata.obs_names))))\n",
    "    adata = adata[comm_index]\n",
    "    adata.obs[\"imagecol\"] = spot_df[\"X\"]\n",
    "    adata.obs[\"imagerow\"] = spot_df[\"Y\"]\n",
    "    st.add.image(adata, img_path, library_id=Sample)\n",
    "    adata.obs[\"type\"] = row[\"type\"]\n",
    "    \n",
    "    st.pp.filter_genes(adata,min_cells=3)\n",
    "    sc.pp.filter_cells(adata,min_counts=100)\n",
    "    st.pp.log1p(adata)\n",
    "\n",
    "    \n",
    "    tiling(adata, out_path=TILE_PATH, crop_size=299)\n",
    "    st.pp.extract_feature(adata)\n",
    "    adata_list.append(adata)\n",
    "\n",
    "adata_all = adata_list[0].concatenate(\n",
    "    adata_list[1:],\n",
    "    batch_key=\"library_id\",\n",
    "    uns_merge=\"unique\",\n",
    "    batch_categories=[list(d.keys())[0]\n",
    "                      for d in[adata_list[i].uns[\"spatial\"] \n",
    "                      for i in range(len(adata_list))\n",
    "                              ]\n",
    "                     ],\n",
    ")"
   ]
  },
  {
   "cell_type": "code",
   "execution_count": 3,
   "id": "4d794c16-6030-4213-aa00-51d790d68faa",
   "metadata": {},
   "outputs": [],
   "source": [
    "#pd.DataFrame(adata_all.obsm['X_tile_feature']).to_csv('D:/onkar/Projects/Project_Spt.Transcriptomics/Output_files/Sample_adata_ST-Net.csv')"
   ]
  },
  {
   "cell_type": "code",
   "execution_count": 4,
   "id": "d847b58e-d5f6-4dc7-8f9f-e7e732553794",
   "metadata": {
    "tags": []
   },
   "outputs": [
    {
     "data": {
      "text/html": [
       "<div>\n",
       "<style scoped>\n",
       "    .dataframe tbody tr th:only-of-type {\n",
       "        vertical-align: middle;\n",
       "    }\n",
       "\n",
       "    .dataframe tbody tr th {\n",
       "        vertical-align: top;\n",
       "    }\n",
       "\n",
       "    .dataframe thead th {\n",
       "        text-align: right;\n",
       "    }\n",
       "</style>\n",
       "<table border=\"1\" class=\"dataframe\">\n",
       "  <thead>\n",
       "    <tr style=\"text-align: right;\">\n",
       "      <th></th>\n",
       "      <th>A1BG</th>\n",
       "      <th>A2M</th>\n",
       "      <th>A4GALT</th>\n",
       "      <th>AAAS</th>\n",
       "      <th>AACS</th>\n",
       "      <th>AAGAB</th>\n",
       "      <th>AAK1</th>\n",
       "      <th>AAMDC</th>\n",
       "      <th>AAMP</th>\n",
       "      <th>AAR2</th>\n",
       "      <th>...</th>\n",
       "      <th>ZSWIM7</th>\n",
       "      <th>ZSWIM8</th>\n",
       "      <th>ZW10</th>\n",
       "      <th>ZWINT</th>\n",
       "      <th>ZXDB</th>\n",
       "      <th>ZXDC</th>\n",
       "      <th>ZYG11B</th>\n",
       "      <th>ZYX</th>\n",
       "      <th>ZZEF1</th>\n",
       "      <th>ZZZ3</th>\n",
       "    </tr>\n",
       "  </thead>\n",
       "  <tbody>\n",
       "    <tr>\n",
       "      <th>12x18-BC23209_C1</th>\n",
       "      <td>0.0</td>\n",
       "      <td>0.693147</td>\n",
       "      <td>0.0</td>\n",
       "      <td>0.000000</td>\n",
       "      <td>0.0</td>\n",
       "      <td>0.000000</td>\n",
       "      <td>0.000000</td>\n",
       "      <td>0.0</td>\n",
       "      <td>0.0</td>\n",
       "      <td>0.0</td>\n",
       "      <td>...</td>\n",
       "      <td>0.000000</td>\n",
       "      <td>0.0</td>\n",
       "      <td>0.0</td>\n",
       "      <td>0.0</td>\n",
       "      <td>0.0</td>\n",
       "      <td>0.0</td>\n",
       "      <td>0.000000</td>\n",
       "      <td>0.0</td>\n",
       "      <td>0.0</td>\n",
       "      <td>0.0</td>\n",
       "    </tr>\n",
       "    <tr>\n",
       "      <th>7x23-BC23209_C1</th>\n",
       "      <td>0.0</td>\n",
       "      <td>0.000000</td>\n",
       "      <td>0.0</td>\n",
       "      <td>0.000000</td>\n",
       "      <td>0.0</td>\n",
       "      <td>0.000000</td>\n",
       "      <td>0.000000</td>\n",
       "      <td>0.0</td>\n",
       "      <td>0.0</td>\n",
       "      <td>0.0</td>\n",
       "      <td>...</td>\n",
       "      <td>0.000000</td>\n",
       "      <td>0.0</td>\n",
       "      <td>0.0</td>\n",
       "      <td>0.0</td>\n",
       "      <td>0.0</td>\n",
       "      <td>0.0</td>\n",
       "      <td>0.693147</td>\n",
       "      <td>0.0</td>\n",
       "      <td>0.0</td>\n",
       "      <td>0.0</td>\n",
       "    </tr>\n",
       "    <tr>\n",
       "      <th>11x21-BC23209_C1</th>\n",
       "      <td>0.0</td>\n",
       "      <td>0.693147</td>\n",
       "      <td>0.0</td>\n",
       "      <td>0.000000</td>\n",
       "      <td>0.0</td>\n",
       "      <td>0.000000</td>\n",
       "      <td>1.609438</td>\n",
       "      <td>0.0</td>\n",
       "      <td>0.0</td>\n",
       "      <td>0.0</td>\n",
       "      <td>...</td>\n",
       "      <td>0.693147</td>\n",
       "      <td>0.0</td>\n",
       "      <td>0.0</td>\n",
       "      <td>0.0</td>\n",
       "      <td>0.0</td>\n",
       "      <td>0.0</td>\n",
       "      <td>0.000000</td>\n",
       "      <td>0.0</td>\n",
       "      <td>0.0</td>\n",
       "      <td>0.0</td>\n",
       "    </tr>\n",
       "    <tr>\n",
       "      <th>15x20-BC23209_C1</th>\n",
       "      <td>0.0</td>\n",
       "      <td>0.000000</td>\n",
       "      <td>0.0</td>\n",
       "      <td>0.000000</td>\n",
       "      <td>0.0</td>\n",
       "      <td>0.693147</td>\n",
       "      <td>0.000000</td>\n",
       "      <td>0.0</td>\n",
       "      <td>0.0</td>\n",
       "      <td>0.0</td>\n",
       "      <td>...</td>\n",
       "      <td>0.693147</td>\n",
       "      <td>0.0</td>\n",
       "      <td>0.0</td>\n",
       "      <td>0.0</td>\n",
       "      <td>0.0</td>\n",
       "      <td>0.0</td>\n",
       "      <td>0.000000</td>\n",
       "      <td>0.0</td>\n",
       "      <td>0.0</td>\n",
       "      <td>0.0</td>\n",
       "    </tr>\n",
       "    <tr>\n",
       "      <th>21x13-BC23209_C1</th>\n",
       "      <td>0.0</td>\n",
       "      <td>0.693147</td>\n",
       "      <td>0.0</td>\n",
       "      <td>0.693147</td>\n",
       "      <td>0.0</td>\n",
       "      <td>0.000000</td>\n",
       "      <td>0.000000</td>\n",
       "      <td>0.0</td>\n",
       "      <td>0.0</td>\n",
       "      <td>0.0</td>\n",
       "      <td>...</td>\n",
       "      <td>0.000000</td>\n",
       "      <td>0.0</td>\n",
       "      <td>0.0</td>\n",
       "      <td>0.0</td>\n",
       "      <td>0.0</td>\n",
       "      <td>0.0</td>\n",
       "      <td>0.000000</td>\n",
       "      <td>0.0</td>\n",
       "      <td>0.0</td>\n",
       "      <td>0.0</td>\n",
       "    </tr>\n",
       "    <tr>\n",
       "      <th>...</th>\n",
       "      <td>...</td>\n",
       "      <td>...</td>\n",
       "      <td>...</td>\n",
       "      <td>...</td>\n",
       "      <td>...</td>\n",
       "      <td>...</td>\n",
       "      <td>...</td>\n",
       "      <td>...</td>\n",
       "      <td>...</td>\n",
       "      <td>...</td>\n",
       "      <td>...</td>\n",
       "      <td>...</td>\n",
       "      <td>...</td>\n",
       "      <td>...</td>\n",
       "      <td>...</td>\n",
       "      <td>...</td>\n",
       "      <td>...</td>\n",
       "      <td>...</td>\n",
       "      <td>...</td>\n",
       "      <td>...</td>\n",
       "      <td>...</td>\n",
       "    </tr>\n",
       "    <tr>\n",
       "      <th>9x30-BC23287_D1</th>\n",
       "      <td>0.0</td>\n",
       "      <td>0.000000</td>\n",
       "      <td>0.0</td>\n",
       "      <td>0.000000</td>\n",
       "      <td>0.0</td>\n",
       "      <td>0.000000</td>\n",
       "      <td>0.000000</td>\n",
       "      <td>0.0</td>\n",
       "      <td>0.0</td>\n",
       "      <td>0.0</td>\n",
       "      <td>...</td>\n",
       "      <td>0.000000</td>\n",
       "      <td>0.0</td>\n",
       "      <td>0.0</td>\n",
       "      <td>0.0</td>\n",
       "      <td>0.0</td>\n",
       "      <td>0.0</td>\n",
       "      <td>0.000000</td>\n",
       "      <td>0.0</td>\n",
       "      <td>0.0</td>\n",
       "      <td>0.0</td>\n",
       "    </tr>\n",
       "    <tr>\n",
       "      <th>11x19-BC23287_D1</th>\n",
       "      <td>0.0</td>\n",
       "      <td>0.000000</td>\n",
       "      <td>0.0</td>\n",
       "      <td>0.000000</td>\n",
       "      <td>0.0</td>\n",
       "      <td>0.000000</td>\n",
       "      <td>0.693147</td>\n",
       "      <td>0.0</td>\n",
       "      <td>0.0</td>\n",
       "      <td>0.0</td>\n",
       "      <td>...</td>\n",
       "      <td>0.000000</td>\n",
       "      <td>0.0</td>\n",
       "      <td>0.0</td>\n",
       "      <td>0.0</td>\n",
       "      <td>0.0</td>\n",
       "      <td>0.0</td>\n",
       "      <td>0.693147</td>\n",
       "      <td>0.0</td>\n",
       "      <td>0.0</td>\n",
       "      <td>0.0</td>\n",
       "    </tr>\n",
       "    <tr>\n",
       "      <th>7x21-BC23287_D1</th>\n",
       "      <td>0.0</td>\n",
       "      <td>0.000000</td>\n",
       "      <td>0.0</td>\n",
       "      <td>0.000000</td>\n",
       "      <td>0.0</td>\n",
       "      <td>0.000000</td>\n",
       "      <td>0.000000</td>\n",
       "      <td>0.0</td>\n",
       "      <td>0.0</td>\n",
       "      <td>0.0</td>\n",
       "      <td>...</td>\n",
       "      <td>0.000000</td>\n",
       "      <td>0.0</td>\n",
       "      <td>0.0</td>\n",
       "      <td>0.0</td>\n",
       "      <td>0.0</td>\n",
       "      <td>0.0</td>\n",
       "      <td>0.000000</td>\n",
       "      <td>0.0</td>\n",
       "      <td>0.0</td>\n",
       "      <td>0.0</td>\n",
       "    </tr>\n",
       "    <tr>\n",
       "      <th>13x20-BC23287_D1</th>\n",
       "      <td>0.0</td>\n",
       "      <td>0.000000</td>\n",
       "      <td>0.0</td>\n",
       "      <td>0.000000</td>\n",
       "      <td>0.0</td>\n",
       "      <td>0.000000</td>\n",
       "      <td>0.000000</td>\n",
       "      <td>0.0</td>\n",
       "      <td>0.0</td>\n",
       "      <td>0.0</td>\n",
       "      <td>...</td>\n",
       "      <td>0.000000</td>\n",
       "      <td>0.0</td>\n",
       "      <td>0.0</td>\n",
       "      <td>0.0</td>\n",
       "      <td>0.0</td>\n",
       "      <td>0.0</td>\n",
       "      <td>0.000000</td>\n",
       "      <td>0.0</td>\n",
       "      <td>0.0</td>\n",
       "      <td>0.0</td>\n",
       "    </tr>\n",
       "    <tr>\n",
       "      <th>13x23-BC23287_D1</th>\n",
       "      <td>0.0</td>\n",
       "      <td>0.000000</td>\n",
       "      <td>0.0</td>\n",
       "      <td>0.000000</td>\n",
       "      <td>0.0</td>\n",
       "      <td>0.000000</td>\n",
       "      <td>0.000000</td>\n",
       "      <td>0.0</td>\n",
       "      <td>0.0</td>\n",
       "      <td>0.0</td>\n",
       "      <td>...</td>\n",
       "      <td>0.000000</td>\n",
       "      <td>0.0</td>\n",
       "      <td>0.0</td>\n",
       "      <td>0.0</td>\n",
       "      <td>0.0</td>\n",
       "      <td>0.0</td>\n",
       "      <td>0.000000</td>\n",
       "      <td>0.0</td>\n",
       "      <td>0.0</td>\n",
       "      <td>0.0</td>\n",
       "    </tr>\n",
       "  </tbody>\n",
       "</table>\n",
       "<p>12151 rows × 8937 columns</p>\n",
       "</div>"
      ],
      "text/plain": [
       "                  A1BG       A2M  A4GALT      AAAS  AACS     AAGAB      AAK1  \\\n",
       "12x18-BC23209_C1   0.0  0.693147     0.0  0.000000   0.0  0.000000  0.000000   \n",
       "7x23-BC23209_C1    0.0  0.000000     0.0  0.000000   0.0  0.000000  0.000000   \n",
       "11x21-BC23209_C1   0.0  0.693147     0.0  0.000000   0.0  0.000000  1.609438   \n",
       "15x20-BC23209_C1   0.0  0.000000     0.0  0.000000   0.0  0.693147  0.000000   \n",
       "21x13-BC23209_C1   0.0  0.693147     0.0  0.693147   0.0  0.000000  0.000000   \n",
       "...                ...       ...     ...       ...   ...       ...       ...   \n",
       "9x30-BC23287_D1    0.0  0.000000     0.0  0.000000   0.0  0.000000  0.000000   \n",
       "11x19-BC23287_D1   0.0  0.000000     0.0  0.000000   0.0  0.000000  0.693147   \n",
       "7x21-BC23287_D1    0.0  0.000000     0.0  0.000000   0.0  0.000000  0.000000   \n",
       "13x20-BC23287_D1   0.0  0.000000     0.0  0.000000   0.0  0.000000  0.000000   \n",
       "13x23-BC23287_D1   0.0  0.000000     0.0  0.000000   0.0  0.000000  0.000000   \n",
       "\n",
       "                  AAMDC  AAMP  AAR2  ...    ZSWIM7  ZSWIM8  ZW10  ZWINT  ZXDB  \\\n",
       "12x18-BC23209_C1    0.0   0.0   0.0  ...  0.000000     0.0   0.0    0.0   0.0   \n",
       "7x23-BC23209_C1     0.0   0.0   0.0  ...  0.000000     0.0   0.0    0.0   0.0   \n",
       "11x21-BC23209_C1    0.0   0.0   0.0  ...  0.693147     0.0   0.0    0.0   0.0   \n",
       "15x20-BC23209_C1    0.0   0.0   0.0  ...  0.693147     0.0   0.0    0.0   0.0   \n",
       "21x13-BC23209_C1    0.0   0.0   0.0  ...  0.000000     0.0   0.0    0.0   0.0   \n",
       "...                 ...   ...   ...  ...       ...     ...   ...    ...   ...   \n",
       "9x30-BC23287_D1     0.0   0.0   0.0  ...  0.000000     0.0   0.0    0.0   0.0   \n",
       "11x19-BC23287_D1    0.0   0.0   0.0  ...  0.000000     0.0   0.0    0.0   0.0   \n",
       "7x21-BC23287_D1     0.0   0.0   0.0  ...  0.000000     0.0   0.0    0.0   0.0   \n",
       "13x20-BC23287_D1    0.0   0.0   0.0  ...  0.000000     0.0   0.0    0.0   0.0   \n",
       "13x23-BC23287_D1    0.0   0.0   0.0  ...  0.000000     0.0   0.0    0.0   0.0   \n",
       "\n",
       "                  ZXDC    ZYG11B  ZYX  ZZEF1  ZZZ3  \n",
       "12x18-BC23209_C1   0.0  0.000000  0.0    0.0   0.0  \n",
       "7x23-BC23209_C1    0.0  0.693147  0.0    0.0   0.0  \n",
       "11x21-BC23209_C1   0.0  0.000000  0.0    0.0   0.0  \n",
       "15x20-BC23209_C1   0.0  0.000000  0.0    0.0   0.0  \n",
       "21x13-BC23209_C1   0.0  0.000000  0.0    0.0   0.0  \n",
       "...                ...       ...  ...    ...   ...  \n",
       "9x30-BC23287_D1    0.0  0.000000  0.0    0.0   0.0  \n",
       "11x19-BC23287_D1   0.0  0.693147  0.0    0.0   0.0  \n",
       "7x21-BC23287_D1    0.0  0.000000  0.0    0.0   0.0  \n",
       "13x20-BC23287_D1   0.0  0.000000  0.0    0.0   0.0  \n",
       "13x23-BC23287_D1   0.0  0.000000  0.0    0.0   0.0  \n",
       "\n",
       "[12151 rows x 8937 columns]"
      ]
     },
     "execution_count": 4,
     "metadata": {},
     "output_type": "execute_result"
    }
   ],
   "source": [
    "ems_df = pd.read_csv(\"D:/onkar/Projects/Project_Spt.Transcriptomics/29ntw7sh4r-2/data/ensembl.tsv\", sep=\"\\t\")\n",
    "a = adata_all.var_names.intersection(ems_df[\"Ensembl ID(supplied by Ensembl)\"])\n",
    "b = ems_df[\"Approved symbol\"][ems_df[\"Ensembl ID(supplied by Ensembl)\"].isin(a)]\n",
    "var_dic = dict(zip(a,b))\n",
    "adata_all = adata_all[:,a].copy()\n",
    "adata_all.var_names = adata_all.var_names.map(var_dic)\n",
    "adata_all.to_df()"
   ]
  },
  {
   "cell_type": "markdown",
   "id": "fbd68d65-4b35-4537-963b-4f7e1ff579a3",
   "metadata": {},
   "source": [
    "## ST-Net"
   ]
  },
  {
   "cell_type": "code",
   "execution_count": 15,
   "id": "79aa97b7-ff51-4c93-b41c-42443f3dd5cf",
   "metadata": {},
   "outputs": [],
   "source": [
    "wd = \"D:/onkar/Projects/Project_Spt.Transcriptomics/Output_files/\"\n",
    "biomarker_list_ST = ['COX6C', \"MALAT1\", 'TTLL12', \"PABPC1\"]#, \"GNAS\", \"HSP90AB1\", \"ATP1A1\", \"B2M\", \"FASN\", \"ACTG1\", \"HLA-B\"]\n",
    "\n",
    "\n",
    "X_ST = pd.read_csv('D:/onkar/Projects/Project_Spt.Transcriptomics/Output_files/Sample_adata_ST-Net.csv')#adata_all.obsm[\"Resnet50_Train_Features\"]#\n",
    "X_ST = X_ST.iloc[:,1:]\n",
    "#test_X_ST = Sample3.obsm[\"Resnet50_Test_Features\"]#pd.read_csv('D:/onkar/Projects/Project_Spt.Transcriptomics/Output_files/Filtered_ST-Net.csv')#adata_all_test.obsm[\"Resnet50_Test_Features\"]#\n",
    "#test_X_ST = test_X_ST.iloc[:,1:]\n",
    "\n",
    "Y_ST = adata_all.to_df()#[adata_all.to_df().sum().sort_values(ascending=False).index[:10]] \n",
    "#test_Y_ST = adata_all_test.to_df()#[adata_all.to_df().sum().sort_values(ascending=False).index[:10]] \n",
    "number_of_top_genes = 10\n",
    "model = lgb.LGBMClassifier()#MLPClassifier(alpha=1, max_iter=7500)#\n",
    "\n",
    "def multiclass_roc_auc_score(truth, pred, average=\"macro\"):\n",
    "    lb = LabelBinarizer()\n",
    "    lb.fit(truth)\n",
    "    truth = lb.transform(truth)\n",
    "    pred = lb.transform(pred)\n",
    "    return roc_auc_score(truth, pred, average=average)\n",
    "\n",
    "Y_ST = Y_ST[biomarker_list_ST]#.iloc[:,:number_of_top_genes]#\n",
    "genes = Y_ST.columns\n",
    "MinMax_scaler_y_ST = preprocessing.MinMaxScaler(feature_range =(0, 1))\n",
    "\n",
    "#Y=Y.apply(lambda x: pd.qcut(x, 3,duplicates='drop',labels=False))\n",
    "\n",
    "X_train, X_test, y_train, y_test = train_test_split(X_ST, Y_ST, test_size=0.30, random_state=42)\n",
    "\n",
    "y_train = MinMax_scaler_y_ST.fit_transform(y_train) \n",
    "y_train = pd.DataFrame(data=y_train)\n",
    "y_train = y_train.apply(lambda x: pd.cut(x, bins=[-0.1, 0.5, 1.3], labels = [0, 1]))\n",
    "\n",
    "y_test = MinMax_scaler_y_ST.transform(y_test) \n",
    "y_test = pd.DataFrame(data=y_test)\n",
    "y_test = y_test.apply(lambda x: pd.cut(x, bins=[-0.1, 0.5, 1.3], labels = [0, 1]))\n",
    "\n",
    "y_train = y_train.astype('int64')\n",
    "y_test = y_test.astype('int64')"
   ]
  },
  {
   "cell_type": "code",
   "execution_count": 16,
   "id": "a52d4b3f-1f9f-42c8-8e65-3d031b0ed075",
   "metadata": {},
   "outputs": [],
   "source": [
    "clf_2 = MultiOutputClassifier(model).fit(X_train, y_train)"
   ]
  },
  {
   "cell_type": "code",
   "execution_count": 17,
   "id": "07dab8f8-e0ac-4edc-9576-422d8713a00e",
   "metadata": {},
   "outputs": [],
   "source": [
    "y_pred_test_1_ST = clf_2.predict_proba(X_test)\n",
    "y_pred_test_1_ST = np.array(y_pred_test_1_ST)\n",
    "\n",
    "y_pred_test_2_ST = clf_2.predict(X_test)\n",
    "y_pred_test_2_ST = pd.DataFrame(y_pred_test_2_ST)"
   ]
  },
  {
   "cell_type": "code",
   "execution_count": 18,
   "id": "34b875af-2f7d-4def-a6a4-d39b19b5e250",
   "metadata": {},
   "outputs": [],
   "source": [
    "auroc_ST = []\n",
    "for col in y_test:\n",
    "    score_multi_ST = roc_auc_score(y_test[col], y_pred_test_2_ST[col])#, average='weighted'\n",
    "    auroc_ST.append(score_multi_ST)\n",
    "    \n",
    "result_ST = pd.DataFrame()\n",
    "result_ST[\"auroc\"] = auroc_ST\n",
    "result_ST.index = genes"
   ]
  },
  {
   "cell_type": "code",
   "execution_count": 19,
   "id": "c242e442-3102-4c12-91da-a3554ccaf56a",
   "metadata": {},
   "outputs": [
    {
     "data": {
      "text/html": [
       "<div>\n",
       "<style scoped>\n",
       "    .dataframe tbody tr th:only-of-type {\n",
       "        vertical-align: middle;\n",
       "    }\n",
       "\n",
       "    .dataframe tbody tr th {\n",
       "        vertical-align: top;\n",
       "    }\n",
       "\n",
       "    .dataframe thead th {\n",
       "        text-align: right;\n",
       "    }\n",
       "</style>\n",
       "<table border=\"1\" class=\"dataframe\">\n",
       "  <thead>\n",
       "    <tr style=\"text-align: right;\">\n",
       "      <th></th>\n",
       "      <th>auroc</th>\n",
       "    </tr>\n",
       "  </thead>\n",
       "  <tbody>\n",
       "    <tr>\n",
       "      <th>MALAT1</th>\n",
       "      <td>0.503190</td>\n",
       "    </tr>\n",
       "    <tr>\n",
       "      <th>PABPC1</th>\n",
       "      <td>0.502646</td>\n",
       "    </tr>\n",
       "    <tr>\n",
       "      <th>TTLL12</th>\n",
       "      <td>0.500000</td>\n",
       "    </tr>\n",
       "    <tr>\n",
       "      <th>COX6C</th>\n",
       "      <td>0.499861</td>\n",
       "    </tr>\n",
       "  </tbody>\n",
       "</table>\n",
       "</div>"
      ],
      "text/plain": [
       "           auroc\n",
       "MALAT1  0.503190\n",
       "PABPC1  0.502646\n",
       "TTLL12  0.500000\n",
       "COX6C   0.499861"
      ]
     },
     "execution_count": 19,
     "metadata": {},
     "output_type": "execute_result"
    }
   ],
   "source": [
    "result_ST.sort_values(\"auroc\", ascending=False)"
   ]
  },
  {
   "cell_type": "code",
   "execution_count": null,
   "id": "313bce25-9dad-444e-8208-abf0fa825109",
   "metadata": {},
   "outputs": [],
   "source": [
    "from sklearn.metrics import confusion_matrix as cm\n",
    "cm(test_Y_ST[1],y_pred_test_2_ST[1])"
   ]
  }
 ],
 "metadata": {
  "kernelspec": {
   "display_name": "Python 3",
   "language": "python",
   "name": "python3"
  },
  "language_info": {
   "codemirror_mode": {
    "name": "ipython",
    "version": 3
   },
   "file_extension": ".py",
   "mimetype": "text/x-python",
   "name": "python",
   "nbconvert_exporter": "python",
   "pygments_lexer": "ipython3",
   "version": "3.8.5"
  }
 },
 "nbformat": 4,
 "nbformat_minor": 5
}
