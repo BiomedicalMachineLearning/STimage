{
  "cells": [
    {
      "cell_type": "code",
      "execution_count": null,
      "metadata": {
        "colab": {
          "base_uri": "https://localhost:8080/"
        },
        "id": "MDomsmUH-XRt",
        "outputId": "e26c9305-8b72-4b0a-f123-4d3e2324d3fb"
      },
      "outputs": [
        {
          "output_type": "stream",
          "name": "stdout",
          "text": [
            "Looking in indexes: https://pypi.org/simple, https://us-python.pkg.dev/colab-wheels/public/simple/\n",
            "Requirement already satisfied: lime in /usr/local/lib/python3.7/dist-packages (0.2.0.1)\n",
            "Requirement already satisfied: tqdm in /usr/local/lib/python3.7/dist-packages (from lime) (4.64.0)\n",
            "Requirement already satisfied: numpy in /usr/local/lib/python3.7/dist-packages (from lime) (1.21.6)\n",
            "Requirement already satisfied: scikit-image>=0.12 in /usr/local/lib/python3.7/dist-packages (from lime) (0.18.3)\n",
            "Requirement already satisfied: scipy in /usr/local/lib/python3.7/dist-packages (from lime) (1.4.1)\n",
            "Requirement already satisfied: scikit-learn>=0.18 in /usr/local/lib/python3.7/dist-packages (from lime) (1.0.2)\n",
            "Requirement already satisfied: matplotlib in /usr/local/lib/python3.7/dist-packages (from lime) (3.2.2)\n",
            "Requirement already satisfied: pillow!=7.1.0,!=7.1.1,>=4.3.0 in /usr/local/lib/python3.7/dist-packages (from scikit-image>=0.12->lime) (7.1.2)\n",
            "Requirement already satisfied: networkx>=2.0 in /usr/local/lib/python3.7/dist-packages (from scikit-image>=0.12->lime) (2.6.3)\n",
            "Requirement already satisfied: tifffile>=2019.7.26 in /usr/local/lib/python3.7/dist-packages (from scikit-image>=0.12->lime) (2021.11.2)\n",
            "Requirement already satisfied: PyWavelets>=1.1.1 in /usr/local/lib/python3.7/dist-packages (from scikit-image>=0.12->lime) (1.3.0)\n",
            "Requirement already satisfied: imageio>=2.3.0 in /usr/local/lib/python3.7/dist-packages (from scikit-image>=0.12->lime) (2.4.1)\n",
            "Requirement already satisfied: cycler>=0.10 in /usr/local/lib/python3.7/dist-packages (from matplotlib->lime) (0.11.0)\n",
            "Requirement already satisfied: python-dateutil>=2.1 in /usr/local/lib/python3.7/dist-packages (from matplotlib->lime) (2.8.2)\n",
            "Requirement already satisfied: pyparsing!=2.0.4,!=2.1.2,!=2.1.6,>=2.0.1 in /usr/local/lib/python3.7/dist-packages (from matplotlib->lime) (3.0.9)\n",
            "Requirement already satisfied: kiwisolver>=1.0.1 in /usr/local/lib/python3.7/dist-packages (from matplotlib->lime) (1.4.2)\n",
            "Requirement already satisfied: typing-extensions in /usr/local/lib/python3.7/dist-packages (from kiwisolver>=1.0.1->matplotlib->lime) (4.2.0)\n",
            "Requirement already satisfied: six>=1.5 in /usr/local/lib/python3.7/dist-packages (from python-dateutil>=2.1->matplotlib->lime) (1.15.0)\n",
            "Requirement already satisfied: joblib>=0.11 in /usr/local/lib/python3.7/dist-packages (from scikit-learn>=0.18->lime) (1.1.0)\n",
            "Requirement already satisfied: threadpoolctl>=2.0.0 in /usr/local/lib/python3.7/dist-packages (from scikit-learn>=0.18->lime) (3.1.0)\n"
          ]
        }
      ],
      "source": [
        "!pip install lime"
      ]
    },
    {
      "cell_type": "code",
      "execution_count": null,
      "metadata": {
        "colab": {
          "base_uri": "https://localhost:8080/"
        },
        "id": "RgG0JerV-cAS",
        "outputId": "a699f7e7-b4a2-49ab-ec37-980e1ce9061a"
      },
      "outputs": [
        {
          "output_type": "stream",
          "name": "stderr",
          "text": [
            "/usr/local/lib/python3.7/dist-packages/statsmodels/tools/_testing.py:19: FutureWarning: pandas.util.testing is deprecated. Use the functions in the public API at pandas.testing instead.\n",
            "  import pandas.util.testing as tm\n"
          ]
        }
      ],
      "source": [
        "%matplotlib inline\n",
        "\n",
        "import glob\n",
        "import os\n",
        "import sys\n",
        "import math\n",
        "import copy\n",
        "import joblib\n",
        "\n",
        "\n",
        "import scipy as sp\n",
        "from scipy import ndimage as ndi\n",
        "from scipy.stats import fisher_exact\n",
        "from statsmodels.stats.contingency_tables import mcnemar\n",
        "\n",
        "from pathlib import Path\n",
        "import pandas as pd\n",
        "import matplotlib.pyplot as plt\n",
        "from matplotlib import cm as cm\n",
        "\n",
        "import sys; \n",
        "import numpy as np\n",
        "from PIL import Image\n",
        "from tqdm import tqdm\n",
        "import seaborn as sns\n",
        "from typing import Optional, Union\n",
        "from numpy import array, argmax, load\n",
        "\n",
        "import warnings\n",
        "warnings.filterwarnings(\"ignore\")\n",
        "Path=\"/content/drive/MyDrive/\"\n",
        "\n",
        "import cv2\n",
        "from matplotlib import pyplot as plt\n",
        "from PIL import Image\n",
        "from io import BytesIO\n",
        "import numpy as np\n",
        "import zipfile\n",
        "import joblib\n",
        "from matplotlib import pyplot as plt\n",
        "import scipy as sp\n",
        "import seaborn as sns\n",
        "from sklearn.cluster import AgglomerativeClustering\n",
        "from sklearn import preprocessing\n",
        "from sklearn.linear_model import LogisticRegression\n",
        "from sklearn.preprocessing import LabelEncoder, OneHotEncoder, MinMaxScaler, LabelBinarizer\n",
        "from sklearn.model_selection import train_test_split\n",
        "from sklearn import preprocessing\n",
        "from sklearn.multioutput import MultiOutputClassifier, MultiOutputRegressor\n",
        "from sklearn.metrics import precision_score, recall_score, f1_score, roc_auc_score\n",
        "from sklearn.neural_network import MLPClassifier\n",
        "from sklearn.preprocessing import LabelBinarizer\n",
        "from tensorflow.keras.applications.resnet50 import ResNet50, preprocess_input\n",
        "from tensorflow.keras.preprocessing.image import load_img, img_to_array\n",
        "from tensorflow.keras.preprocessing import image as image_fun\n",
        "from sklearn.metrics import precision_score, recall_score, f1_score, accuracy_score\n",
        "\n",
        "\n",
        "import skimage\n",
        "from skimage.color import rgb2hed\n",
        "from skimage.color import rgb2hed\n",
        "from skimage.feature import peak_local_max\n",
        "from skimage.segmentation import watershed\n",
        "from skimage.measure import label\n",
        "from skimage.segmentation import mark_boundaries\n",
        "from skimage.segmentation import watershed\n",
        "from skimage.morphology import area_opening\n",
        "from skimage.segmentation import mark_boundaries\n",
        "\n",
        "import lime; from lime import lime_image"
      ]
    },
    {
      "cell_type": "code",
      "execution_count": null,
      "metadata": {
        "id": "uaLqxMGH-f3m"
      },
      "outputs": [],
      "source": [
        "clf_resnet = joblib.load(Path+'resnet_block1_log_scaled.pkl')"
      ]
    },
    {
      "cell_type": "code",
      "execution_count": null,
      "metadata": {
        "id": "F99fby_r-omw"
      },
      "outputs": [],
      "source": [
        "gene_list_2 = ['CD74','CD24','CD63','CD81','CD151', 'COX6C','TP53','PABPC1','GNAS','B2M']\n",
        "resnet_model1 = ResNet50(weights=\"imagenet\", include_top=False, input_shape=(299, 299, 3), pooling=\"avg\")\n",
        "\n",
        "def model_predict_gene(gene):\n",
        "    i = gene_list_2.index(gene)\n",
        "    def combine_model_predict(tile1):\n",
        "        feature1 = resnet_model1.predict(tile1)\n",
        "        prediction = clf_resnet.predict_proba(feature1)#[0]\n",
        "        return prediction[i]#.reshape(-1,1)\n",
        "    return combine_model_predict\n",
        "\n",
        "def watershed_segment(image):\n",
        "    annotation_hed = rgb2hed(image)\n",
        "    annotation_h = annotation_hed[:,:,0]\n",
        "    annotation_h *= 255.0 / np.percentile(annotation_h, q=0.01)\n",
        "    thresh = skimage.filters.threshold_otsu(annotation_h)*0.7\n",
        "    im_fgnd_mask = sp.ndimage.morphology.binary_fill_holes(\n",
        "        annotation_h < thresh\n",
        "    )\n",
        "    distance = ndi.distance_transform_edt(im_fgnd_mask)\n",
        "    coords = peak_local_max(distance, footprint=np.ones((5, 5)), labels=im_fgnd_mask)\n",
        "    mask = np.zeros(distance.shape, dtype=bool)\n",
        "    mask[tuple(coords.T)] = True\n",
        "    markers, _ = ndi.label(mask)\n",
        "    labels = watershed(annotation_h, markers, mask=im_fgnd_mask)\n",
        "    im_nuclei_seg_mask = area_opening(labels, area_threshold=64).astype(np.int)\n",
        "    map_dic = dict(zip(np.unique(im_nuclei_seg_mask), np.arange(len(np.unique(im_nuclei_seg_mask)))))\n",
        "    im_nuclei_seg_mask = np.vectorize(map_dic.get)(im_nuclei_seg_mask)\n",
        "    return im_nuclei_seg_mask\n",
        "\n",
        "def cell_summary(file_path,cell_type_input):\n",
        "    cell_summary_tile = pd.read_csv(file_path)\n",
        "    return cell_summary_tile.loc[(cell_summary_tile['cell_type'].isin(cell_type_input))]\n",
        "\n",
        "def true_tumor_nuclie_mask(img_path):\n",
        "    image = cv2.imread(img_path)\n",
        "    lower = np.array([0, 255, 0], dtype=\"uint8\")\n",
        "    upper = np.array([0, 255, 0], dtype=\"uint8\")\n",
        "    mask = cv2.inRange(image, lower, upper)\n",
        "    mask[mask==255] = 1\n",
        "    return mask\n",
        "\n",
        "def true_immune_nuclei_mask(img_path):\n",
        "    image = cv2.imread(img_path)\n",
        "    image[:,:,1] = 0\n",
        "    mask = cv2.cvtColor(image, cv2.COLOR_BGR2GRAY)\n",
        "    mask[mask==105] = 0\n",
        "    mask[mask>0] = 1\n",
        "    return mask\n",
        "\n",
        "def IOU_mask_per_gene(True_mask, Lime_mask):\n",
        "    Lime_mask[Lime_mask == -1] = 0\n",
        "    true_masks = True_mask+Lime_mask\n",
        "    false_masks = Lime_mask-True_mask\n",
        "    TP = (true_masks==2).sum()\n",
        "    TN = (true_masks==0).sum()\n",
        "    FP = (false_masks==1).sum()\n",
        "    FN = (false_masks==-1).sum()\n",
        "    confusion_matrix = [[TN, FP], [FN, TP]]\n",
        "    return confusion_matrix\n",
        "\n",
        "def IOU_mask_multiple_gene(True_mask, Lime_mask):\n",
        "    Lime_mask[Lime_mask > 0] = 1\n",
        "    Lime_mask[Lime_mask < 0] = 0\n",
        "    true_masks = True_mask+Lime_mask\n",
        "    false_masks = Lime_mask-True_mask\n",
        "    TP = (true_masks==2).sum()\n",
        "    TN = (true_masks==0).sum()\n",
        "    FP = (false_masks==1).sum()\n",
        "    FN = (false_masks==-1).sum()\n",
        "    confusion_matrix = [[TN, FP], [FN, TP]]\n",
        "    return confusion_matrix\n",
        "\n",
        "def IOU_coordinates(Ref_mask,Lime_mask):\n",
        "    Lime_mask[Lime_mask == -1] = 0\n",
        "    coordinate_x = np.array(round(Ref_mask['coordinate_x'])).astype('int64')\n",
        "    coordinate_y = np.array(round(Ref_mask['coordinate_y'])).astype('int64')\n",
        "    mask_initialised = np.array([[0]*299]*299)\n",
        "    mask_initialised[coordinate_x,coordinate_y] = 1\n",
        "    overlap = mask_initialised*Lime_mask # Logical AND\n",
        "    return overlap.sum()/float(mask_initialised.sum())\n",
        "\n",
        "def LIME_p_value(heatmap_cancer, heatmap_immune, cell_summary_Tumor, cell_summary_lymphocyte_stroma):\n",
        "\n",
        "    tumor_lime_score = []; immune_lime_score = []; tumor = []; immune = []\n",
        "\n",
        "    for i in range(0,len(cell_summary_Tumor)):\n",
        "      xt_cord = np.round(cell_summary_Tumor['coordinate_x'][i]).astype('int64')  \n",
        "      yt_cord = np.round(cell_summary_Tumor['coordinate_y'][i]).astype('int64')\n",
        "      if heatmap_cancer[xt_cord][yt_cord]>0:\n",
        "        tumor_lime_score.append(heatmap_cancer[xt_cord][yt_cord])\n",
        "\n",
        "    for j in range(0,len(cell_summary_lymphocyte_stroma)):\n",
        "      xi_cord = np.round(cell_summary_lymphocyte_stroma['coordinate_x'][j]).astype('int64')  \n",
        "      yi_cord = np.round(cell_summary_lymphocyte_stroma['coordinate_y'][j]).astype('int64')\n",
        "      if heatmap_immune[xi_cord][yi_cord]>0:\n",
        "        immune_lime_score.append(heatmap_immune[xi_cord][yi_cord])\n",
        "\n",
        "    incorrect_tumor = len(cell_summary_Tumor)-len(tumor_lime_score)\n",
        "    correct_tumor = len(tumor_lime_score)\n",
        "    incorrect_immune = len(cell_summary_lymphocyte_stroma)-len(immune_lime_score)\n",
        "    correct_immune = len(immune_lime_score)\n",
        "    score_table = [[correct_tumor,incorrect_tumor],[incorrect_immune,correct_immune]]\n",
        "\n",
        "    accuracy = [\"Accuracy of Tumor Nuclei is:\",correct_tumor/len(cell_summary_Tumor),\"Accuracy of Immune Nuclei is:\",correct_immune/len(cell_summary_lymphocyte_stroma),\n",
        "              \"Average Accuracy of LIME Model is:\",(correct_tumor+correct_immune)/(len(cell_summary_Tumor)+len(cell_summary_lymphocyte_stroma))]\n",
        "\n",
        "    return score_table, accuracy\n",
        "\n",
        "explainer = lime_image.LimeImageExplainer()"
      ]
    },
    {
      "cell_type": "code",
      "execution_count": null,
      "metadata": {
        "id": "aX_UXlbR-rFB"
      },
      "outputs": [],
      "source": [
        "images = []\n",
        "image_dir = glob.glob(os.path.join(Path, \"LIME/FFPE/*.jpeg\"))\n",
        "for image in image_dir:\n",
        "  images.append(np.asarray(image_fun.load_img(image)))\n",
        "images = [images[0],images[1], images[2], images[3], images[4]]\n",
        "\n",
        "immune_genes = ['CD74','CD24']\n",
        "cancer_genes = ['COX6C','PABPC1']\n",
        "\n",
        "immune_masks = []; immune_temp = []; heatmap_immune = []\n",
        "cancer_masks = []; cancer_temp = []; heatmap_cancer = []\n",
        "for n in range(0,len(images)):\n",
        "  for i in range(0,len(immune_genes)):\n",
        "    explanation_i = explainer.explain_instance(images[n], model_predict_gene(immune_genes[i]), top_labels=2, hide_color=0, num_samples=500, segmentation_fn=watershed_segment)\n",
        "    temp_i, mask_i = explanation_i.get_image_and_mask(1, positive_only=False, num_features=10000, hide_rest=True)\n",
        "    immune_masks.append(mask_i)\n",
        "    immune_temp.append(temp_i)\n",
        "    dict_heatmap_i = dict(explanation_i.local_exp[1])\n",
        "    heatmap_i = np.vectorize(dict_heatmap_i.get)(explanation_i.segments)\n",
        "    heatmap_immune.append(heatmap_i)\n",
        "  for j in range(0,len(cancer_genes)):\n",
        "    explanation_c = explainer.explain_instance(images[n], model_predict_gene(cancer_genes[j]), top_labels=2, hide_color=0, num_samples=100, segmentation_fn=watershed_segment)\n",
        "    temp_c, mask_c = explanation_c.get_image_and_mask(1, positive_only=False, num_features=10000, hide_rest=True)\n",
        "    cancer_masks.append(mask_c)\n",
        "    cancer_temp.append(temp_c)\n",
        "    dict_heatmap_c = dict(explanation_c.local_exp[1])\n",
        "    heatmap_c = np.vectorize(dict_heatmap_c.get)(explanation_c.segments)\n",
        "    heatmap_cancer.append(heatmap_c)"
      ]
    },
    {
      "cell_type": "code",
      "execution_count": null,
      "metadata": {
        "id": "haAppXoI0yQC"
      },
      "outputs": [],
      "source": [
        "plt.imshow(immune_masks[0])\n",
        "plt.colorbar()"
      ]
    },
    {
      "cell_type": "markdown",
      "metadata": {
        "id": "3emDU5Ve3P6M"
      },
      "source": [
        "### Old"
      ]
    },
    {
      "cell_type": "code",
      "execution_count": null,
      "metadata": {
        "id": "Bq7_azwny4fo"
      },
      "outputs": [],
      "source": [
        "all_files = glob.glob(os.path.join(Path, \"LIME/FFPE/*.csv\"))\n",
        "\n",
        "\n",
        "cell_summary_tumor = []\n",
        "cell_summary_immune = []\n",
        "\n",
        "for filename in all_files:\n",
        "    histology_web_tool_csv = pd.read_csv(filename, index_col=None, header=0)\n",
        "    cell_summary_tumor.append(histology_web_tool_csv.loc[(histology_web_tool_csv['cell_type'].isin([\"Tumor\"]))].reset_index())\n",
        "    cell_summary_immune.append(histology_web_tool_csv.loc[(histology_web_tool_csv['cell_type'].isin([\"Stroma\",\"Lymphocyte\"]))].reset_index())\n"
      ]
    },
    {
      "cell_type": "code",
      "execution_count": null,
      "metadata": {
        "id": "gIp_F_ZPYg49"
      },
      "outputs": [],
      "source": [
        "immune_score = []\n",
        "start_j=0; start_i = 0; iter = -1\n",
        "for j in range(start_j,len(cell_summary_immune)):\n",
        "  counter = 0;\n",
        "  for i in range(start_i,len(immune_masks)):\n",
        "    iter+=1\n",
        "    counter+=1\n",
        "    i=iter\n",
        "    #print(\"iteration\",iter)\n",
        "    #print(\"count\",counter)\n",
        "    #print(\"j\",l1[j])\n",
        "    #print(\"i\",l2[i])\n",
        "    immune_score.append(IOU(cell_summary_immune[j],immune_masks[i]))\n",
        "    if counter == len(immune_genes):\n",
        "      break\n",
        "\n",
        "tumor_score = []\n",
        "start_j=0; start_i = 0; iter = -1\n",
        "for j in range(start_j,len(cell_summary_tumor)):\n",
        "  counter = 0;\n",
        "  for i in range(start_i,len(cancer_masks)):\n",
        "    iter+=1\n",
        "    counter+=1\n",
        "    i=iter\n",
        "    tumor_score.append(IOU(cell_summary_tumor[j],cancer_masks[i]))\n",
        "    if counter == len(cancer_genes):\n",
        "      break"
      ]
    },
    {
      "cell_type": "code",
      "execution_count": null,
      "metadata": {
        "id": "IqZBdXMfroEX"
      },
      "outputs": [],
      "source": [
        "immune_score_rev = []\n",
        "start_j=0; start_i = 0; iter = -1\n",
        "for j in range(start_j,len(cell_summary_tumor)):\n",
        "  counter = 0;\n",
        "  for i in range(start_i,len(immune_masks)):\n",
        "    iter+=1\n",
        "    counter+=1\n",
        "    i=iter\n",
        "    immune_score_rev.append(IOU(cell_summary_tumor[j],immune_masks[i]))\n",
        "    if counter == len(immune_genes):\n",
        "      break\n",
        "\n",
        "tumor_score_rev = []\n",
        "start_j=0; start_i = 0; iter = -1\n",
        "for j in range(start_j,len(cell_summary_immune)):\n",
        "  counter = 0;\n",
        "  for i in range(start_i,len(cancer_masks)):\n",
        "    iter+=1\n",
        "    counter+=1\n",
        "    i=iter\n",
        "    tumor_score_rev.append(IOU(cell_summary_immune[j],cancer_masks[i]))\n",
        "    if counter == len(cancer_genes):\n",
        "      break"
      ]
    },
    {
      "cell_type": "code",
      "execution_count": null,
      "metadata": {
        "id": "2dUS50vN7d_s"
      },
      "outputs": [],
      "source": [
        "heatmap_cancer_gene_total = np.add.reduceat(heatmap_cancer, np.arange(0, len(heatmap_cancer), len(cancer_genes)))\n",
        "heatmap_cancer_gene_total[heatmap_cancer_gene_total<0]=0\n",
        "\n",
        "heatmap_immune_gene_total = np.add.reduceat(heatmap_immune, np.arange(0, len(heatmap_immune), len(immune_genes)))\n",
        "heatmap_immune_gene_total[heatmap_immune_gene_total<0]=0\n",
        "\n",
        "immune_masks_combined = np.add.reduceat(immune_masks, np.arange(0, len(immune_masks), len(immune_genes)))/len(immune_genes)\n",
        "cancer_masks_combined = np.add.reduceat(cancer_masks, np.arange(0, len(cancer_masks), len(cancer_genes)))/len(cancer_genes)\n",
        "\n",
        "accuracy = []; score_table = []\n",
        "for i in range(0,len(images)):\n",
        "  heatmap_cancer_gene_total_i = heatmap_cancer_gene_total[i]\n",
        "  heatmap_immune_gene_total_i = heatmap_immune_gene_total[i]\n",
        "  cell_summary_tumor_i = cell_summary_tumor[i]\n",
        "  cell_summary_immune_i = cell_summary_immune[i]\n",
        "  cancer_masks_combined_i = cancer_masks_combined[i]\n",
        "  immune_masks_combined_i = immune_masks_combined[i]\n",
        "  score_table_lime, accuracy_lime = LIME_p_value(heatmap_cancer_gene_total_i, heatmap_immune_gene_total_i, cell_summary_tumor_i, cell_summary_immune_i)\n",
        "  score_table_lime.append(score_table_lime)\n",
        "  accuracy.append(accuracy_lime)"
      ]
    },
    {
      "cell_type": "markdown",
      "metadata": {
        "id": "94Imbj6f3XL9"
      },
      "source": [
        "### New"
      ]
    },
    {
      "cell_type": "code",
      "execution_count": null,
      "metadata": {
        "id": "2oWy7Kmb3sqq"
      },
      "outputs": [],
      "source": [
        "true_img_masks_dir = glob.glob(os.path.join(Path, \"LIME/FFPE/*.png\"))\n",
        "true_img_masks_dir = [true_img_masks_dir[0],true_img_masks_dir[1]]\n",
        "true_tumor_masks_webtool = []; true_immune_masks_webtool = []\n",
        "for image in true_img_masks_dir:\n",
        "  true_tumor_masks_webtool.append(true_tumor_nuclie_mask(image))\n",
        "  true_immune_masks_webtool.append(true_immune_nuclei_mask(image))"
      ]
    },
    {
      "cell_type": "code",
      "execution_count": null,
      "metadata": {
        "id": "GVhJDPLD3a2U"
      },
      "outputs": [],
      "source": [
        "cm_per_gene_tumor = []; cm_per_gene_immune = []\n",
        "for i in range(0,len(true_tumor_masks_webtool)):\n",
        "  cm_per_gene_tumor.append(IOU_mask_per_gene(true_tumor_masks_webtool[i],cancer_masks[i]))\n",
        "  cm_per_gene_immune.append(IOU_mask_per_gene(true_immune_masks_webtool[i],immune_masks[i]))"
      ]
    },
    {
      "cell_type": "code",
      "execution_count": null,
      "metadata": {
        "id": "-8NUQzcb_M9y"
      },
      "outputs": [],
      "source": [
        "heatmap_cancer_gene_total = np.add.reduceat(heatmap_cancer, np.arange(0, len(heatmap_cancer), len(cancer_genes)))\n",
        "heatmap_immune_gene_total = np.add.reduceat(heatmap_immune, np.arange(0, len(heatmap_immune), len(immune_genes)))\n",
        "\n",
        "cm_multiple_gene_tumor = []; cm_multiple_gene_immune = []\n",
        "for i in range(0,len(true_tumor_masks_webtool)):\n",
        "  cm_multiple_gene_tumor.append(IOU_mask_multiple_gene(true_tumor_masks_webtool[i],heatmap_cancer_gene_total[i]))\n",
        "  cm_multiple_gene_immune.append(IOU_mask_multiple_gene(true_immune_masks_webtool[i],heatmap_immune_gene_total[i]))"
      ]
    },
    {
      "cell_type": "code",
      "source": [
        "p_val_immune_fisher_exact = []; p_val_tumor_fisher_exact = []\n",
        "sensitivity_immune = []; specificity_immune = []; precision_immune = []\n",
        "sensitivity_tumor = []; specificity_tumor = []; precision_tumor = []\n",
        "\n",
        "for i in range(0,len(cm_multiple_gene_immune)):\n",
        "  p_val_immune_fisher_exact.append(fisher_exact(cm_multiple_gene_immune[i], alternative='two-sided')[1])\n",
        "  p_val_tumor_fisher_exact.append(fisher_exact(cm_multiple_gene_tumor[i], alternative='two-sided')[1])\n",
        "\n",
        "  sensitivity_immune.append((cm_multiple_gene_immune[i][1][1])/(cm_multiple_gene_immune[i][1][1]+cm_multiple_gene_immune[i][1][0]))\n",
        "  sensitivity_tumor.append((cm_multiple_gene_tumor[i][1][1])/(cm_multiple_gene_tumor[i][1][1]+cm_multiple_gene_tumor[i][1][0]))\n",
        "\n",
        "  specificity_immune.append((cm_multiple_gene_immune[i][0][0])/((cm_multiple_gene_immune[i][0][0])+(cm_multiple_gene_immune[i][0][1])))\n",
        "  specificity_tumor.append((cm_multiple_gene_tumor[i][0][0])/((cm_multiple_gene_tumor[i][0][0])+(cm_multiple_gene_tumor[i][0][1])))\n",
        "\n",
        "  precision_immune.append((cm_multiple_gene_immune[i][1][1])/((cm_multiple_gene_immune[i][1][1])+(cm_multiple_gene_immune[i][0][1])))\n",
        "  precision_tumor.append((cm_multiple_gene_tumor[i][1][1])/((cm_multiple_gene_tumor[i][1][1])+(cm_multiple_gene_tumor[i][0][1])))"
      ],
      "metadata": {
        "id": "j9zdUd7xhcw0"
      },
      "execution_count": null,
      "outputs": []
    },
    {
      "cell_type": "code",
      "execution_count": null,
      "metadata": {
        "id": "yxb61pgTqh9o"
      },
      "outputs": [],
      "source": [
        "all_scores_immune = [sensitivity_immune, specificity_immune, \n",
        "                     precision_immune]\n",
        "\n",
        "all_scores_tumor = [sensitivity_tumor, specificity_tumor,\n",
        "                    precision_tumor]\n",
        "\n",
        "sns.boxplot(data=all_scores_immune)\n",
        "sns.stripplot(data=all_scores_immune,color = 'black',alpha = 0.5)"
      ]
    },
    {
      "cell_type": "code",
      "execution_count": null,
      "metadata": {
        "id": "VJZhO3Os2RQ1"
      },
      "outputs": [],
      "source": [
        "sns.boxplot(data=all_scores_tumor)\n",
        "sns.stripplot(data=all_scores_tumor,color = 'black',alpha = 0.5)"
      ]
    },
    {
      "cell_type": "code",
      "source": [
        "fisher_exact_test_p_val = [p_val_immune_fisher_exact, p_val_tumor_fisher_exact]\n",
        "sns.boxplot(data=fisher_exact_test_p_val)\n",
        "sns.stripplot(data=fisher_exact_test_p_val,color = 'black',alpha = 0.5)"
      ],
      "metadata": {
        "id": "s_qrR4NcmYy8"
      },
      "execution_count": null,
      "outputs": []
    }
  ],
  "metadata": {
    "colab": {
      "collapsed_sections": [
        "3emDU5Ve3P6M"
      ],
      "name": "LIME_STimage_2",
      "provenance": []
    },
    "kernelspec": {
      "display_name": "Python 3",
      "name": "python3"
    },
    "language_info": {
      "name": "python"
    }
  },
  "nbformat": 4,
  "nbformat_minor": 0
}