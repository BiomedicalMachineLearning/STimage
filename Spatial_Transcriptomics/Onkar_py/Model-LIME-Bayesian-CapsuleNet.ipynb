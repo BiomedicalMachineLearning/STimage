{
 "cells": [
  {
   "cell_type": "code",
   "execution_count": 1,
   "metadata": {},
   "outputs": [],
   "source": [
    "%matplotlib inline\n",
    "import pandas as pd\n",
    "import numpy as np\n",
    "from numpy import array\n",
    "from numpy import argmax\n",
    "from keras.utils import to_categorical\n",
    "from numpy import array\n",
    "from numpy import argmax\n",
    "from sklearn.preprocessing import LabelEncoder\n",
    "from sklearn.preprocessing import OneHotEncoder\n",
    "import sys\n",
    "from numpy import load\n",
    "from matplotlib import pyplot as plt\n",
    "import tensorflow as tf\n",
    "from sklearn.model_selection import train_test_split\n",
    "from keras import backend\n",
    "from keras.preprocessing.image import ImageDataGenerator\n",
    "from keras.models import Sequential\n",
    "from keras.layers import Conv2D, MaxPooling2D, Dense, Flatten, Dropout, BatchNormalization\n",
    "from keras.optimizers import SGD, Adam\n",
    "from keras.models import Model\n",
    "from tensorflow.keras import regularizers\n",
    "from keras.applications.inception_v3 import InceptionV3, preprocess_input\n",
    "from keras.applications.resnet50 import ResNet50, preprocess_input\n",
    "from keras.applications.mobilenet_v2 import preprocess_input, MobileNetV2"
   ]
  },
  {
   "cell_type": "code",
   "execution_count": null,
   "metadata": {},
   "outputs": [],
   "source": [
    "df=pd.read_csv(\"/90days/s4634945/files/UntitledFolder/CNN_dataframe_gene_expression_3.csv\")\n",
    "df_test=pd.read_csv(\"/90days/s4634945/files/UntitledFolder/CNN_dataframe_gene_expression_test_3.csv\")\n",
    "df['Cluster'] = df['Cluster'].astype('str')\n",
    "df_test['Cluster']= df_test['Cluster'].astype('str')\n",
    "datagen=ImageDataGenerator(rescale=1./255,validation_split = 0.2, featurewise_center=True,\n",
    "            featurewise_std_normalization=True,\n",
    "            rotation_range=0)\n",
    "            #width_shift_range=0.2,\n",
    "            #height_shift_range=0.2,\n",
    "            #horizontal_flip=True,\n",
    "            #vertical_flip=True)\n",
    "test_datagen = ImageDataGenerator(rescale=1./255,featurewise_center=True)\n",
    "train_generator=datagen.flow_from_dataframe(dataframe=df, directory=\"/90days/s4634945/files/UntitledFolder/Sharpened_1A\", x_col=\"Image\", y_col=\"Cluster\", class_mode=\"categorical\", target_size=(290,290), batch_size=16, subset=\"training\")\n",
    "valid_generator = datagen.flow_from_dataframe(dataframe=df, directory=\"/90days/s4634945/files/UntitledFolder/Sharpened_1A\", x_col=\"Image\", y_col=\"Cluster\", class_mode=\"categorical\", target_size=(290,290), batch_size=16, subset=\"validation\")\n",
    "test_generator = test_datagen.flow_from_dataframe(dataframe=df_test, directory=\"/90days/s4634945/files/UntitledFolder/Trainimg_breast_test_299\", x_col=\"Image\", y_col=\"Cluster\", class_mode=\"categorical\", target_size=(290,290), batch_size=32)"
   ]
  },
  {
   "cell_type": "code",
   "execution_count": null,
   "metadata": {},
   "outputs": [],
   "source": [
    "'''\n",
    "model = Sequential([\n",
    "    \n",
    "    # First convolution\n",
    "        Conv2D(16, (3,3), activation='relu', input_shape=(290,290, 3), kernel_regularizer=regularizers.l2(0.02)),\n",
    "        #Conv2D(16, (3,3), activation='relu'),\n",
    "        MaxPooling2D(2, 2),\n",
    "    \n",
    "    # Second convolution\n",
    "        Conv2D(32, (3,3), activation='relu', kernel_regularizer=regularizers.l2(0.02)),\n",
    "        #Conv2D(32, (3,3), activation='relu'),\n",
    "        MaxPooling2D(2,2),\n",
    "        BatchNormalization(),\n",
    "    \n",
    "    # Third convolution\n",
    "        Conv2D(64, (3,3), activation='relu', kernel_regularizer=regularizers.l2(0.02)),\n",
    "        #Conv2D(64, (3,3), activation='relu'),\n",
    "        MaxPooling2D(2,2),\n",
    "       \n",
    "\n",
    "    \n",
    "    # Fourth convolution\n",
    "        Conv2D(128, (3,3), activation='relu'),\n",
    "        MaxPooling2D(2,2),\n",
    "        BatchNormalization(),\n",
    "    \n",
    "        Flatten(),\n",
    "    \n",
    "    # Dense hidden layer\n",
    "        Dense(128, activation='relu'),\n",
    "        Dropout(0.5),\n",
    " \n",
    "    # Output neuron. \n",
    "        Dense(3, activation='softmax')])\n",
    "\n",
    "'''\n",
    "\n",
    "model = MobileNetV2(include_top=False, input_shape=(290,290,3), weights = \"imagenet\")\n",
    "        \n",
    "flat1 = Flatten()(model.layers[-1].output)\n",
    "\n",
    "output = Dense(3, activation='softmax')(flat1)\n",
    "model = Model(inputs=model.inputs, outputs=output)\n",
    "opt = Adam(learning_rate=0.00001)\n",
    "model.compile(loss='categorical_crossentropy', optimizer=opt, metrics=['accuracy'])\n",
    "history = model.fit(train_generator,validation_data=valid_generator,epochs=5)"
   ]
  },
  {
   "cell_type": "code",
   "execution_count": null,
   "metadata": {},
   "outputs": [],
   "source": [
    "import matplotlib.pyplot as plt\n",
    "def plot_training(history):\n",
    "    acc = history.history['accuracy']\n",
    "    val_acc = history.history['val_accuracy']\n",
    "    loss = history.history['loss']\n",
    "    val_loss = history.history['val_loss']\n",
    "    epochs = range(len(acc))\n",
    "\n",
    "    plt.plot(epochs, acc, 'b')\n",
    "    plt.plot(epochs, val_acc, 'r')\n",
    "    plt.title('Training and validation accuracy')\n",
    "\n",
    "    plt.show()\n",
    "    \n",
    "plot_training(history)"
   ]
  },
  {
   "cell_type": "code",
   "execution_count": null,
   "metadata": {},
   "outputs": [],
   "source": [
    "model.summary()"
   ]
  },
  {
   "cell_type": "code",
   "execution_count": null,
   "metadata": {},
   "outputs": [],
   "source": [
    "import h5py\n",
    "from keras.models import load_model \n",
    "#model.save('Scratch_model_1')\n",
    "model = load_model(\"Scratch_model_1\") \n",
    "#print(loaded_model.evaluate(test_generator))"
   ]
  },
  {
   "cell_type": "code",
   "execution_count": null,
   "metadata": {},
   "outputs": [],
   "source": [
    "import tensorflow as tf\n",
    "import tensorflow.keras.backend as K\n",
    "from tensorflow.keras.applications.inception_resnet_v2 import InceptionResNetV2\n",
    "from tensorflow.keras.preprocessing import image\n",
    "from tensorflow.keras.applications.inception_resnet_v2 import preprocess_input, decode_predictions\n",
    "import numpy as np\n",
    "import os\n",
    "import matplotlib.pyplot as plt\n",
    "import cv2\n",
    "\n",
    "model = model \n",
    "\n",
    "img = image.load_img('/90days/s4634945/files/UntitledFolder/Trainimg_breast_2_299/1000img.tif', target_size=(290,290))\n",
    "x = image.img_to_array(img)\n",
    "x = np.expand_dims(x, axis=0)\n",
    "x = preprocess_input(x)\n",
    "#print(decode_predictions(predicted_vals[0,:]))\n",
    "with tf.GradientTape() as tape:\n",
    "    last_conv_layer = model.get_layer('max_pooling2d_7')\n",
    "    iterate = tf.keras.models.Model([model.inputs], [model.output, last_conv_layer.output])\n",
    "    model_out, last_conv_layer = iterate(x)\n",
    "    class_out = model_out[:, np.argmax(model_out[0])]\n",
    "    grads = tape.gradient(class_out, last_conv_layer)\n",
    "    pooled_grads = K.mean(grads, axis=(0, 1, 2))\n",
    "heatmap = tf.reduce_mean(tf.multiply(pooled_grads, last_conv_layer), axis=-1)\n",
    "heatmap = np.maximum(heatmap, 0)\n",
    "heatmap /= np.max(heatmap)\n",
    "heatmap = heatmap.reshape((16,16))\n",
    "plt.matshow(heatmap)\n",
    "plt.show()"
   ]
  },
  {
   "cell_type": "code",
   "execution_count": null,
   "metadata": {},
   "outputs": [],
   "source": [
    "from keras.preprocessing import image\n",
    "def transform_img_fn(path_list):\n",
    "    out = []\n",
    "    for img_path in path_list:\n",
    "        img = image.load_img(img_path, target_size=(290, 290))\n",
    "        x = image.img_to_array(img)\n",
    "        x = np.expand_dims(x, axis=0)\n",
    "        #x = inet_model.preprocess_input(x)\n",
    "        out.append(x)\n",
    "    return np.vstack(out)"
   ]
  },
  {
   "cell_type": "code",
   "execution_count": null,
   "metadata": {},
   "outputs": [],
   "source": [
    "import os\n",
    "from keras.applications.imagenet_utils import decode_predictions\n",
    "images = transform_img_fn([os.path.join('/90days/s4634945/files/UntitledFolder/Trainimg_breast_2_299','0032img.tif')])\n",
    "plt.imshow(images[0])\n",
    "preds = model.predict(images)"
   ]
  },
  {
   "cell_type": "code",
   "execution_count": null,
   "metadata": {},
   "outputs": [],
   "source": [
    "%%time\n",
    "%load_ext autoreload\n",
    "%autoreload 2\n",
    "import os,sys\n",
    "try:\n",
    "    import lime\n",
    "except:\n",
    "    sys.path.append(os.path.join('..', '..')) # add the current directory\n",
    "    import lime\n",
    "from lime import lime_image\n",
    "explainer = lime_image.LimeImageExplainer()\n",
    "# Hide color is the color for a superpixel turned OFF. Alternatively, if it is NONE, the superpixel will be replaced by the average of its pixels\n",
    "explanation = explainer.explain_instance(images[0].astype('double'), model.predict, top_labels=3, hide_color=0, num_samples=3)"
   ]
  },
  {
   "cell_type": "code",
   "execution_count": null,
   "metadata": {},
   "outputs": [],
   "source": [
    "from skimage.segmentation import mark_boundaries\n",
    "temp, mask = explanation.get_image_and_mask(explanation.top_labels[0], positive_only=False, num_features=100, hide_rest=False)\n",
    "plt.imshow(mark_boundaries(temp / 2 + 0.5, mask))"
   ]
  },
  {
   "cell_type": "code",
   "execution_count": null,
   "metadata": {},
   "outputs": [],
   "source": [
    "ind =  explanation.top_labels[0]\n",
    "\n",
    "#Map each explanation weight to the corresponding superpixel\n",
    "dict_heatmap = dict(explanation.local_exp[ind])\n",
    "heatmap = np.vectorize(dict_heatmap.get)(explanation.segments) \n",
    "\n",
    "#Plot. The visualization makes more sense if a symmetrical colorbar is used.\n",
    "plt.imshow(heatmap, cmap = 'RdBu', vmin  = -heatmap.max(), vmax = heatmap.max())\n",
    "plt.colorbar()"
   ]
  },
  {
   "cell_type": "code",
   "execution_count": null,
   "metadata": {},
   "outputs": [],
   "source": [
    "import os\n",
    "from keras.applications.imagenet_utils import decode_predictions\n",
    "images = transform_img_fn([os.path.join('/90days/s4634945/files/UntitledFolder/Trainimg_breast_2_299','1000img.tif')])\n",
    "plt.imshow(images[0])\n",
    "preds = model.predict(images)"
   ]
  },
  {
   "cell_type": "code",
   "execution_count": null,
   "metadata": {},
   "outputs": [],
   "source": [
    "%%time\n",
    "%load_ext autoreload\n",
    "%autoreload 2\n",
    "import os,sys\n",
    "try:\n",
    "    import lime\n",
    "except:\n",
    "    sys.path.append(os.path.join('..', '..')) # add the current directory\n",
    "    import lime\n",
    "from lime import lime_image\n",
    "explainer = lime_image.LimeImageExplainer()\n",
    "# Hide color is the color for a superpixel turned OFF. Alternatively, if it is NONE, the superpixel will be replaced by the average of its pixels\n",
    "explanation = explainer.explain_instance(images[0].astype('double'), model.predict, top_labels=3, hide_color=0, num_samples=3)"
   ]
  },
  {
   "cell_type": "code",
   "execution_count": null,
   "metadata": {},
   "outputs": [],
   "source": [
    "ind =  explanation.top_labels[0]\n",
    "\n",
    "#Map each explanation weight to the corresponding superpixel\n",
    "dict_heatmap = dict(explanation.local_exp[ind])\n",
    "heatmap = np.vectorize(dict_heatmap.get)(explanation.segments) \n",
    "\n",
    "#Plot. The visualization makes more sense if a symmetrical colorbar is used.\n",
    "plt.imshow(heatmap, cmap = 'RdBu', vmin  = -heatmap.max(), vmax = heatmap.max())\n",
    "plt.colorbar()"
   ]
  },
  {
   "cell_type": "code",
   "execution_count": null,
   "metadata": {},
   "outputs": [],
   "source": [
    "import os\n",
    "from keras.applications.imagenet_utils import decode_predictions\n",
    "images = transform_img_fn([os.path.join('/90days/s4634945/files/UntitledFolder/Trainimg_breast_2_299','0055img.tif')])\n",
    "plt.imshow(images[0])\n",
    "preds = model.predict(images)"
   ]
  },
  {
   "cell_type": "code",
   "execution_count": null,
   "metadata": {},
   "outputs": [],
   "source": [
    "%%time\n",
    "%load_ext autoreload\n",
    "%autoreload 2\n",
    "import os,sys\n",
    "try:\n",
    "    import lime\n",
    "except:\n",
    "    sys.path.append(os.path.join('..', '..')) # add the current directory\n",
    "    import lime\n",
    "from lime import lime_image\n",
    "explainer = lime_image.LimeImageExplainer()\n",
    "# Hide color is the color for a superpixel turned OFF. Alternatively, if it is NONE, the superpixel will be replaced by the average of its pixels\n",
    "explanation = explainer.explain_instance(images[0].astype('double'), model.predict, top_labels=3, hide_color=0, num_samples=3)"
   ]
  },
  {
   "cell_type": "code",
   "execution_count": null,
   "metadata": {},
   "outputs": [],
   "source": [
    "ind =  explanation.top_labels[0]\n",
    "\n",
    "#Map each explanation weight to the corresponding superpixel\n",
    "dict_heatmap = dict(explanation.local_exp[ind])\n",
    "heatmap = np.vectorize(dict_heatmap.get)(explanation.segments) \n",
    "\n",
    "#Plot. The visualization makes more sense if a symmetrical colorbar is used.\n",
    "plt.imshow(heatmap, cmap = 'RdBu', vmin  = -heatmap.max(), vmax = heatmap.max())\n",
    "plt.colorbar()"
   ]
  },
  {
   "cell_type": "code",
   "execution_count": null,
   "metadata": {},
   "outputs": [],
   "source": [
    "plt.imsave('/90days/s4634945/files/UntitledFolder/LIME/Fibrous/Low/54_0.png',heatmap, cmap = 'RdBu', vmin  = -heatmap.max(), vmax = heatmap.max())"
   ]
  },
  {
   "cell_type": "code",
   "execution_count": null,
   "metadata": {},
   "outputs": [],
   "source": [
    "from sklearn.metrics import confusion_matrix\n",
    "from sklearn.metrics import recall_score\n",
    "from sklearn.metrics import precision_score\n",
    "from sklearn.metrics import accuracy_score\n",
    "from sklearn.metrics import f1_score\n",
    "from sklearn.metrics import log_loss\n",
    "from sklearn.metrics import roc_curve\n",
    "from sklearn.metrics import roc_auc_score\n",
    "from sklearn.metrics import classification_report\n",
    "from sklearn.metrics import roc_auc_score\n",
    "from sklearn.preprocessing import LabelBinarizer\n",
    "def multiclass_roc_auc_score(truth, pred, average=\"macro\"):\n",
    "    lb = LabelBinarizer()\n",
    "    lb.fit(truth)\n",
    "    truth = lb.transform(truth)\n",
    "    pred = lb.transform(pred)\n",
    "    return roc_auc_score(truth, pred, average=average)\n",
    "\n",
    "preds = model.predict(test_generator)\n",
    "test_pred = np.argmax(preds, axis=1)\n",
    "cm = confusion_matrix(df_test['Cluster'].astype('int64'), test_pred)\n",
    "print('Confusion matrix\\n\\n', cm)\n",
    "classifier_report = classification_report(df_test['Cluster'].astype('int64'), test_pred)\n",
    "print(classifier_report)\n",
    "multiclass_roc_score = multiclass_roc_auc_score(df_test['Cluster'].astype('int64'), test_pred, average=\"weighted\")\n",
    "print(\"Multiclass_roc_score\")\n",
    "print(multiclass_roc_score)\n",
    "logloss = log_loss(df_test['Cluster'].astype('int64'), preds)\n",
    "print(logloss)"
   ]
  },
  {
   "cell_type": "markdown",
   "metadata": {},
   "source": [
    "# Bayesian CNN"
   ]
  },
  {
   "cell_type": "code",
   "execution_count": 2,
   "metadata": {},
   "outputs": [],
   "source": [
    "import tensorflow as tf\n",
    "import tensorflow_probability as tfp\n",
    "import matplotlib.pyplot as plt\n",
    "import pandas as pd\n",
    "import numpy as np\n",
    "import tensorflow as tf\n",
    "import tensorflow_probability as tfp\n",
    "dist = tfp.distributions\n",
    "tfpl = tfp.layers\n",
    "import time\n",
    "from PIL import Image\n",
    "import glob"
   ]
  },
  {
   "cell_type": "code",
   "execution_count": 3,
   "metadata": {},
   "outputs": [
    {
     "name": "stdout",
     "output_type": "stream",
     "text": [
      "(3798, 290, 290, 4)\n"
     ]
    }
   ],
   "source": [
    "image_paths = sorted(glob.glob(\"K_2_breast_train299/*.png\"))\n",
    "images_ = [np.array(Image.open(im)) for im in image_paths]\n",
    "images_ = np.array(images_) # convert list of images to single array [(126,126,1)] --> (836, 126, 126, 1)\n",
    "print(images_.shape)\n",
    "\n",
    "\n",
    "train_Y = pd.read_csv('train_Y.csv')\n",
    "train_Y = train_Y.sort_values(by='Sno')\n",
    "train_Y = train_Y.reset_index(drop=True)\n",
    "labels = train_Y['COX6C']"
   ]
  },
  {
   "cell_type": "code",
   "execution_count": 9,
   "metadata": {},
   "outputs": [
    {
     "name": "stdout",
     "output_type": "stream",
     "text": [
      "Model: \"sequential\"\n",
      "_________________________________________________________________\n",
      "Layer (type)                 Output Shape              Param #   \n",
      "=================================================================\n",
      "conv_tfp_1a (Conv2DFlipout)  (None, 97, 97, 16)        3216      \n",
      "_________________________________________________________________\n",
      "max_pooling2d (MaxPooling2D) (None, 25, 25, 16)        0         \n",
      "_________________________________________________________________\n",
      "conv_tfp_1b (Conv2DFlipout)  (None, 9, 9, 32)          9248      \n",
      "_________________________________________________________________\n",
      "max_pooling2d_1 (MaxPooling2 (None, 3, 3, 32)          0         \n",
      "_________________________________________________________________\n",
      "conv_tfp_1c (Conv2DFlipout)  (None, 1, 1, 64)          36928     \n",
      "_________________________________________________________________\n",
      "max_pooling2d_2 (MaxPooling2 (None, 1, 1, 64)          0         \n",
      "_________________________________________________________________\n",
      "flatten (Flatten)            (None, 64)                0         \n",
      "_________________________________________________________________\n",
      "dense_flipout (DenseFlipout) (None, 1)                 129       \n",
      "=================================================================\n",
      "Total params: 49,521\n",
      "Trainable params: 49,521\n",
      "Non-trainable params: 0\n",
      "_________________________________________________________________\n"
     ]
    }
   ],
   "source": [
    "tf.keras.backend.clear_session()\n",
    "\n",
    "kl_divergence_function = lambda q, p, _: dist.kl_divergence(q, p) / tf.cast(3798, dtype=tf.float32)\n",
    "\n",
    "model = tf.keras.Sequential([\n",
    "    tf.keras.Input(shape=(290,290,4),name=\"rocket\"),\n",
    "    \n",
    "    tfp.layers.Convolution2DFlipout(16, kernel_size=5, strides=(3,3), data_format=\"channels_last\", \n",
    "                                    padding=\"same\", activation=tf.nn.relu, name=\"conv_tfp_1a\", \n",
    "                                    kernel_divergence_fn=kl_divergence_function),\n",
    "    tf.keras.layers.MaxPool2D(strides=(4,4), pool_size=(4,4), padding=\"same\"),\n",
    "    \n",
    "    tfp.layers.Convolution2DFlipout(32, kernel_size=3, strides=(3,3), data_format=\"channels_last\", \n",
    "                                    padding=\"same\", activation=tf.nn.relu, name=\"conv_tfp_1b\", \n",
    "                                    kernel_divergence_fn=kl_divergence_function),\n",
    "    tf.keras.layers.MaxPool2D(strides=(4,4), pool_size=(4,4), padding=\"same\"),\n",
    "    \n",
    "    tfp.layers.Convolution2DFlipout(64, kernel_size=3, strides=(3,3), data_format=\"channels_last\", \n",
    "                                    padding=\"same\", activation=tf.nn.relu, name=\"conv_tfp_1c\", \n",
    "                                    kernel_divergence_fn=kl_divergence_function),\n",
    "    tf.keras.layers.MaxPool2D(strides=(4,4), pool_size=(4,4), padding=\"same\"),\n",
    "\n",
    "    tf.keras.layers.Flatten(),\n",
    "    tfp.layers.DenseFlipout(1, kernel_divergence_fn=kl_divergence_function),\n",
    "])\n",
    "\n",
    "learning_rate = 1.0e-3\n",
    "model.compile(loss='mse',\n",
    "              optimizer=tf.keras.optimizers.Adam(learning_rate),\n",
    "              metrics=['mse'])\n",
    "model.summary()"
   ]
  },
  {
   "cell_type": "code",
   "execution_count": 8,
   "metadata": {},
   "outputs": [],
   "source": [
    "from tensorflow.keras.optimizers import Adam\n",
    "\n",
    "def negative_log_likelihood(y_true, y_pred):\n",
    "    return -y_pred.log_prob(y_true)\n",
    "\n",
    "model.compile(loss = negative_log_likelihood,\n",
    "              optimizer = Adam(learning_rate=0.005),\n",
    "              metrics = ['accuracy'],\n",
    "              experimental_run_tf_function = False)"
   ]
  },
  {
   "cell_type": "code",
   "execution_count": 10,
   "metadata": {},
   "outputs": [
    {
     "name": "stdout",
     "output_type": "stream",
     "text": [
      "Epoch 1/25\n",
      "214/214 [==============================] - 24s 100ms/step - loss: 98992.7328 - mse: 98976.3130\n",
      "Epoch 2/25\n",
      "214/214 [==============================] - 21s 99ms/step - loss: 87908.6213 - mse: 87892.1991\n",
      "Epoch 3/25\n",
      "214/214 [==============================] - 20s 92ms/step - loss: 76270.1634 - mse: 76253.7546\n",
      "Epoch 4/25\n",
      "214/214 [==============================] - 19s 87ms/step - loss: 76007.3583 - mse: 75990.9574\n",
      "Epoch 5/25\n",
      "214/214 [==============================] - 23s 108ms/step - loss: 70314.2749 - mse: 70297.8887 - val_loss: 36345.9531 - val_mse: 36329.5703\n",
      "Epoch 6/25\n",
      "214/214 [==============================] - 20s 94ms/step - loss: 67791.9027 - mse: 67775.5350\n",
      "Epoch 7/25\n",
      "214/214 [==============================] - 22s 104ms/step - loss: 67518.3744 - mse: 67501.9893\n",
      "Epoch 8/25\n",
      "214/214 [==============================] - 21s 99ms/step - loss: 63181.9380 - mse: 63165.5537\n",
      "Epoch 9/25\n",
      "214/214 [==============================] - 21s 99ms/step - loss: 64836.9579 - mse: 64820.5865\n",
      "Epoch 10/25\n",
      "214/214 [==============================] - 22s 102ms/step - loss: 63313.3603 - mse: 63297.0103 - val_loss: 35611.3789 - val_mse: 35595.0195\n",
      "Epoch 11/25\n",
      "214/214 [==============================] - 21s 97ms/step - loss: 59865.6508 - mse: 59849.2882 4s - loss: 5 - ETA: 1s - loss: 59785.5011\n",
      "Epoch 12/25\n",
      "214/214 [==============================] - 20s 96ms/step - loss: 55774.0476 - mse: 55757.7104\n",
      "Epoch 13/25\n",
      "214/214 [==============================] - 22s 101ms/step - loss: 59769.9745 - mse: 59753.6375\n",
      "Epoch 14/25\n",
      "214/214 [==============================] - 22s 101ms/step - loss: 57553.6032 - mse: 57537.2500\n",
      "Epoch 15/25\n",
      "214/214 [==============================] - 22s 101ms/step - loss: 59588.2484 - mse: 59571.9007 - val_loss: 59667.4102 - val_mse: 59651.0586\n",
      "Epoch 16/25\n",
      "214/214 [==============================] - 21s 98ms/step - loss: 67592.2792 - mse: 67575.9186\n",
      "Epoch 17/25\n",
      "214/214 [==============================] - 22s 104ms/step - loss: 56561.5605 - mse: 56545.2112\n",
      "Epoch 18/25\n",
      "214/214 [==============================] - 22s 104ms/step - loss: 55601.2727 - mse: 55584.9232\n",
      "Epoch 19/25\n",
      "214/214 [==============================] - 23s 110ms/step - loss: 56863.4454 - mse: 56847.10933s - \n",
      "Epoch 20/25\n",
      "214/214 [==============================] - 24s 111ms/step - loss: 58002.8502 - mse: 57986.5185 - val_loss: 48527.1562 - val_mse: 48510.8086\n",
      "Epoch 21/25\n",
      "214/214 [==============================] - 22s 103ms/step - loss: 56776.8750 - mse: 56760.5167\n",
      "Epoch 22/25\n",
      "214/214 [==============================] - 22s 105ms/step - loss: 55945.0982 - mse: 55928.7575\n",
      "Epoch 23/25\n",
      "214/214 [==============================] - 22s 105ms/step - loss: 52005.9560 - mse: 51989.6030\n",
      "Epoch 24/25\n",
      "214/214 [==============================] - 22s 104ms/step - loss: 53047.5886 - mse: 53031.2619\n",
      "Epoch 25/25\n",
      "214/214 [==============================] - 23s 106ms/step - loss: 49941.1876 - mse: 49924.8336 - val_loss: 40487.8789 - val_mse: 40471.5273\n"
     ]
    }
   ],
   "source": [
    "batch_size = 16\n",
    "history = model.fit(x=images_, \n",
    "                    y=np.array(labels),\n",
    "                    epochs=25, \n",
    "                    verbose=1, \n",
    "                    batch_size=batch_size,\n",
    "                    validation_split=0.1,\n",
    "                    validation_freq=5)"
   ]
  },
  {
   "cell_type": "code",
   "execution_count": 42,
   "metadata": {},
   "outputs": [
    {
     "name": "stderr",
     "output_type": "stream",
     "text": [
      "Clipping input data to the valid range for imshow with RGB data ([0..1] for floats or [0..255] for integers).\n"
     ]
    },
    {
     "data": {
      "image/png": "[encoded data removed]",
      "text/plain": [
       "<Figure size 432x288 with 1 Axes>"
      ]
     },
     "metadata": {
      "needs_background": "light"
     },
     "output_type": "display_data"
    }
   ],
   "source": [
    "from keras.preprocessing import image\n",
    "from tensorflow.keras.applications.resnet50 import preprocess_input\n",
    "import numpy as np\n",
    "import matplotlib.pyplot as plt\n",
    "def transform_img_fn(path_list):\n",
    "    out = []\n",
    "    for img_path in path_list:\n",
    "        img = image.load_img(img_path, target_size=(290, 290))\n",
    "        x = image.img_to_array(img)\n",
    "        x = np.expand_dims(x, axis=0)\n",
    "        x = preprocess_input(x)\n",
    "        out.append(x)\n",
    "    return np.vstack(out)\n",
    "import os\n",
    "from keras.applications.imagenet_utils import decode_predictions\n",
    "images = transform_img_fn([os.path.join('Trainimg_breast_2_299','0074img.tif')])\n",
    "plt.imshow(images[0]/2 + 0.5)\n",
    "preds = model.predict(images)"
   ]
  },
  {
   "cell_type": "code",
   "execution_count": 43,
   "metadata": {},
   "outputs": [
    {
     "name": "stdout",
     "output_type": "stream",
     "text": [
      "The autoreload extension is already loaded. To reload it, use:\n",
      "  %reload_ext autoreload\n"
     ]
    },
    {
     "data": {
      "application/vnd.jupyter.widget-view+json": {
       "model_id": "bf191e3cc30547ce988c35889028ebaf",
       "version_major": 2,
       "version_minor": 0
      },
      "text/plain": [
       "  0%|          | 0/1 [00:00<?, ?it/s]"
      ]
     },
     "metadata": {},
     "output_type": "display_data"
    },
    {
     "name": "stdout",
     "output_type": "stream",
     "text": [
      "Wall time: 2.24 s\n"
     ]
    },
    {
     "name": "stderr",
     "output_type": "stream",
     "text": [
      "C:\\Users\\Onkar\\anaconda3\\lib\\site-packages\\sklearn\\metrics\\_regression.py:594: UndefinedMetricWarning: R^2 score is not well-defined with less than two samples.\n",
      "  warnings.warn(msg, UndefinedMetricWarning)\n"
     ]
    }
   ],
   "source": [
    "%%time\n",
    "%load_ext autoreload\n",
    "%autoreload 2\n",
    "import os,sys\n",
    "try:\n",
    "    import lime\n",
    "except:\n",
    "    sys.path.append(os.path.join('..', '..')) # add the current directory\n",
    "    import lime\n",
    "from lime import lime_image\n",
    "explainer = lime_image.LimeImageExplainer()\n",
    "explanation = explainer.explain_instance(images[0].astype('double'), model.predict, top_labels=1, hide_color=0, num_samples=1)"
   ]
  },
  {
   "cell_type": "code",
   "execution_count": 49,
   "metadata": {},
   "outputs": [
    {
     "name": "stderr",
     "output_type": "stream",
     "text": [
      "Clipping input data to the valid range for imshow with RGB data ([0..1] for floats or [0..255] for integers).\n"
     ]
    },
    {
     "data": {
      "text/plain": [
       "<matplotlib.image.AxesImage at 0x1e4c6215a90>"
      ]
     },
     "execution_count": 49,
     "metadata": {},
     "output_type": "execute_result"
    },
    {
     "data": {
      "image/png": "[encoded data removed]",
      "text/plain": [
       "<Figure size 432x288 with 1 Axes>"
      ]
     },
     "metadata": {
      "needs_background": "light"
     },
     "output_type": "display_data"
    }
   ],
   "source": [
    "from skimage.segmentation import mark_boundaries\n",
    "temp, mask = explanation.get_image_and_mask(explanation.top_labels[0], positive_only=False, num_features=100, hide_rest=False)\n",
    "plt.imshow(mark_boundaries(temp / 2 + 0.5, mask))"
   ]
  },
  {
   "cell_type": "code",
   "execution_count": 50,
   "metadata": {},
   "outputs": [
    {
     "data": {
      "text/plain": [
       "<matplotlib.colorbar.Colorbar at 0x1e501b31cd0>"
      ]
     },
     "execution_count": 50,
     "metadata": {},
     "output_type": "execute_result"
    },
    {
     "data": {
      "image/png": "[encoded data removed]",
      "text/plain": [
       "<Figure size 432x288 with 2 Axes>"
      ]
     },
     "metadata": {
      "needs_background": "light"
     },
     "output_type": "display_data"
    }
   ],
   "source": [
    "ind =  explanation.top_labels[0]\n",
    "dict_heatmap = dict(explanation.local_exp[ind])\n",
    "heatmap = np.vectorize(dict_heatmap.get)(explanation.segments) \n",
    "plt.imshow(heatmap, cmap = 'RdBu', vmin  = -heatmap.max(), vmax = heatmap.max())\n",
    "plt.colorbar()"
   ]
  },
  {
   "cell_type": "markdown",
   "metadata": {},
   "source": [
    "# Tansfer Learning"
   ]
  },
  {
   "cell_type": "code",
   "execution_count": 62,
   "metadata": {},
   "outputs": [
    {
     "name": "stdout",
     "output_type": "stream",
     "text": [
      "Found 3039 validated image filenames.\n",
      "Found 759 validated image filenames.\n"
     ]
    }
   ],
   "source": [
    "import pandas as pd\n",
    "train_Y= pd.read_csv('train_Y.csv')\n",
    "train_Y = train_Y.sort_values(by='Sno')\n",
    "train_Y = train_Y.reset_index(drop=True)\n",
    "train_Y.drop(columns=['Unnamed: 0'], inplace=True)\n",
    "train_Y['Sno'] = train_Y['Sno'] + str(\".tif\")\n",
    "\n",
    "datagen=ImageDataGenerator(rescale=1./255, validation_split = 0.2, featurewise_center=True,\n",
    "            featurewise_std_normalization=False,\n",
    "            rotation_range=90,\n",
    "            width_shift_range=0.2,\n",
    "            height_shift_range=0.2,\n",
    "            horizontal_flip=True,\n",
    "            vertical_flip=True)\n",
    "test_datagen = ImageDataGenerator(rescale=1./255,featurewise_center=True)\n",
    "train_generator=datagen.flow_from_dataframe(dataframe=train_Y, directory=\"Trainimg_breast_2_299\", x_col=\"Sno\", y_col=\"COX6C\", class_mode=\"raw\", target_size=(290,290), batch_size=32, subset=\"training\")\n",
    "valid_generator = datagen.flow_from_dataframe(dataframe=train_Y, directory=\"Trainimg_breast_2_299\", x_col=\"Sno\", y_col=\"COX6C\", class_mode=\"raw\", target_size=(290,290), batch_size=32, subset=\"validation\")\n",
    "#test_generator = test_datagen.flow_from_dataframe(dataframe=df_test, directory=\"Trainimg_breast_test_299\", x_col=\"Image\", y_col=\"Cluster\", class_mode=\"categorical\", target_size=(290,290), batch_size=32)"
   ]
  },
  {
   "cell_type": "code",
   "execution_count": null,
   "metadata": {},
   "outputs": [],
   "source": [
    "model = Sequential([\n",
    "    \n",
    "    # First convolution\n",
    "        Conv2D(16, (3,3), activation='relu', input_shape=(290, 290, 3), kernel_regularizer=regularizers.l2(0.02)),\n",
    "        Conv2D(16, (3,3), activation='relu'),\n",
    "        MaxPooling2D(2, 2),\n",
    "    \n",
    "    # Second convolution\n",
    "        Conv2D(32, (3,3), activation='relu'),\n",
    "        Conv2D(32, (3,3), activation='relu'),\n",
    "        MaxPooling2D(2,2),\n",
    "        #BatchNormalization(),\n",
    "    \n",
    "    # Third convolution\n",
    "        Conv2D(64, (3,3), activation='relu'),\n",
    "        MaxPooling2D(2,2),\n",
    "        #BatchNormalization(),\n",
    "\n",
    "    \n",
    "    # Fourth convolution\n",
    "        Conv2D(128, (3,3), activation='relu'),\n",
    "        MaxPooling2D(2,2),\n",
    "    \n",
    "    # Fifth Convolution\n",
    "        Conv2D(64, (3,3), activation='relu'),\n",
    "        MaxPooling2D(2,2),\n",
    "    \n",
    "        Flatten(),\n",
    "    \n",
    "    # Dense hidden layer\n",
    "        Dense(64, activation='relu'),\n",
    "        Dropout(0.5),\n",
    "    \n",
    "    # Output neuron. \n",
    "        Dense(1) \n",
    "])\n",
    "\n",
    "model.compile(loss='mse',\n",
    "              optimizer='adam',\n",
    "              metrics=['mse'])\n",
    "\n",
    "history = model.fit(train_generator,validation_data=valid_generator,epochs=5)"
   ]
  },
  {
   "cell_type": "code",
   "execution_count": null,
   "metadata": {},
   "outputs": [],
   "source": [
    "model = InceptionV3(include_top=False, input_shape=(290,290,3), weights = \"imagenet\")\n",
    "flat1 = Flatten()(model.layers[-1].output)\n",
    "dense = Dense(256, activation='relu')(flat1)\n",
    "drop = Dropout(0.5)(dense)\n",
    "output = Dense(2, activation='softmax')(drop)\n",
    "model = Model(inputs=model.inputs, outputs=output)\n",
    "\n",
    "model.compile(loss='mse',\n",
    "              optimizer='adam',\n",
    "              metrics=['mse'])\n",
    "\n",
    "history = model.fit(train_generator,validation_data=valid_generator,epochs=5)"
   ]
  },
  {
   "cell_type": "markdown",
   "metadata": {},
   "source": [
    "# Capsule Net"
   ]
  },
  {
   "cell_type": "code",
   "execution_count": null,
   "metadata": {},
   "outputs": [],
   "source": [
    "import numpy as np\n",
    "import tensorflow as tf"
   ]
  },
  {
   "cell_type": "code",
   "execution_count": null,
   "metadata": {},
   "outputs": [],
   "source": [
    "input_image = tf.placeholder(shape = [None,290,290,3], dtype = float32)\n",
    "conv1 = tf.layers.conv2D(input_image, 10, kernel_size = 9, stride=1,padding=“)\n",
    "conv1 = tf.layer.conv2D(activation= ‘relu’)\n",
    "conv2 = tf.layers.conv2D(input_image, 256, kernel_size = 9, stride=2,padding=“none”)\n",
    "conv2 = tf.layer.conv2D(activation= ‘relu’)\n",
    "capsule_1= tf.reshape(conv2,[-1,1152,8]) "
   ]
  },
  {
   "cell_type": "code",
   "execution_count": null,
   "metadata": {},
   "outputs": [],
   "source": [
    "def squash(s, name=None): \n",
    "with tf.name_scope(name, default_name=\"squash\"): \n",
    "squared_norm = tf.reduce_sum(tf.square(s), axis=-1,     keep_dims=True)\n",
    "safe_norm = tf.sqrt(squared_norm + 1e-7)\n",
    "squash_factor = squared_norm / (1. + squared_norm) unit_vector = s / safe_norm return squash_factor * unit_vector\n",
    "caps1_out = squash(capsule_1)"
   ]
  },
  {
   "cell_type": "code",
   "execution_count": null,
   "metadata": {},
   "outputs": [],
   "source": [
    "W_init = tf.random_normal(shape=(1, caps1_n_caps, caps2_n_caps, caps2_n_dims, caps1_n_dims), stddev=init_sigma, dtype=tf.float32, name=\"W_init\") W = tf.Variable(W_init, name=\"W\")\n",
    "\n",
    "batch_size = tf.shape(X)[0] W_tiled = tf.tile(W, [batch_size, 1, 1, 1, 1], name=\"W_tiled\")"
   ]
  },
  {
   "cell_type": "code",
   "execution_count": null,
   "metadata": {},
   "outputs": [],
   "source": [
    "caps1_output_enlarge = tf.expand_dims(caps1_output, -1)\n",
    "caps1_output_tile = tf.expand_dims(caps1_output_expanded)\n",
    "caps1_output_tiled = tf.tile(caps1_output_tile, [1, 1, caps2_n_caps, 1, 1])\n",
    "\n",
    "print(W_tiled)\n",
    "print(caps1_output_tiled)"
   ]
  },
  {
   "cell_type": "code",
   "execution_count": null,
   "metadata": {},
   "outputs": [],
   "source": [
    "caps2_predicted = tf.matmul(W_tiled, caps1_output_tiled)\n",
    "print(caps2_predicted)"
   ]
  },
  {
   "cell_type": "code",
   "execution_count": null,
   "metadata": {},
   "outputs": [],
   "source": [
    "raw_weights = tf.zeros([batch_size, caps1_n_caps, caps2_n_caps, 1, 1], dtype=np.float32, name=\"raw_weights\")\n",
    "\n",
    "routing_weights = tf.nn.softmax(raw_weights, dim=2, name=\"routing_weights\")\n",
    "\n",
    "weighted_predictions = tf.multiply(routing_weights, caps2_predicted, name=\"weighted_predictions\") weighted_sum = tf.reduce_sum(weighted_predictions, axis=1, keep_dims=True, name=\"weighted_sum\")\n",
    "\n",
    "\n",
    "Round 2 Routing: \n",
    "\n",
    "\n",
    "caps2_output_round_1_tiled = tf.tile( caps2_output_round_1, [1, caps1_n_caps, 1, 1, 1], name=\"caps2_output_round_1_tiled\")\n",
    "\n",
    "agreement = tf.matmul(caps2_predicted, caps2_output_round_1_tiled, transpose_a=True, name=\"agreement\")\n",
    "\n",
    "raw_weights_round_2 = tf.add(raw_weights, agreement, name=\"raw_weights_round_2\")\n",
    "\n",
    "routing_weights_round_2 = tf.nn.softmax(raw_weights_round_2, dim=2, name=\"routing_weights_round_2\")\n",
    "\n",
    "weighted_predictions_round_2 = tf.multiply(routing_weights_round_2, caps2_predicted, name=\"weighted_predictions_round_2\") \n",
    "\n",
    "weighted_sum_round_2 = tf.reduce_sum(weighted_predictions_round_2, axis=1, keep_dims=True, name=\"weighted_sum_round_2\") \n",
    "\n",
    "caps2_output_round_2 = squash(weighted_sum_round_2, axis=-2, name=\"caps2_output_round_2\")\n",
    "\n",
    "\n",
    " y = tf.placeholder(shape=[None], dtype=tf.int64, name=\"y\")"
   ]
  },
  {
   "cell_type": "code",
   "execution_count": null,
   "metadata": {},
   "outputs": [],
   "source": [
    "m_plus = 0.9\n",
    "m_minus = 0.1\n",
    "lambda_ = 0.5 \n",
    "\n",
    "T = tf.one_hot(y, depth=caps2_n_caps, name=\"T\")\n",
    "\n",
    "caps2_output_norm = safe_norm(caps2_output, axis=-2, keep_dims=True, name=\"caps2_output_norm\")\n",
    "\n",
    "present_error_raw = tf.square(tf.maximum(0., m_plus - caps2_output_norm), name=\"present_error_raw\")\n",
    "\n",
    "present_error = tf.reshape(present_error_raw, shape=(-1, 10), name=\"present_error\")\n",
    "\n",
    "absent_error_raw = tf.square(tf.maximum(0., caps2_output_norm - m_minus), name=\"absent_error_raw\")\n",
    "\n",
    "absent_error = tf.reshape(absent_error_raw, shape=(-1, 10), name=\"absent_error\")\n",
    "\n",
    "L = tf.add(T * present_error, lambda_ * (1.0 - T) * absent_error, name=\"L\")\n",
    "\n",
    "margin_loss = tf.reduce_mean(tf.reduce_sum(L, axis=1), name=\"margin_loss\")"
   ]
  },
  {
   "cell_type": "code",
   "execution_count": null,
   "metadata": {},
   "outputs": [],
   "source": [
    "mask_with_labels=tf.placeholder_with_default(False,shape=(),name=\"mask_with_labels\")\n",
    "reconstruction_targets = tf.cond(mask_with_labels, lambda: y, lambda: y_pred) \n",
    "\n",
    "Reconstruction_mask=tf.one_hot(reconstruction_targets,depth=caps2_n_caps,name=\"reconstruction_mask\")\n",
    "\n",
    "reconstruction_mask_reshaped=tf.reshape(reconstruction_mask,[-1,1,caps2_n_caps, 1, 1], name=\"reconstruction_mask_reshaped\")\n",
    "\n",
    "caps2_output_masked=tf.multiply(caps2_output,reconstruction_mask_reshaped,name=\"caps2_output_masked\")\n",
    "\n",
    "decoder_input=tf.reshape(caps2_output_masked,[-1,caps2_n_caps*caps2_n_dims], name=\"decoder_input\")\n",
    "\n",
    "\n",
    "With tf.name_scope(\"decoder\"): \n",
    "\n",
    "hidden1=tf.layers.dense(decoder_input,512,activation=’relu’,name=\"hidden1\")\n",
    "          hidden2 = tf.layers.dense(hidden1,1024, activation=’relu’, name=\"hidden2\") \n",
    "decoder_output=tf.layers.dense(hidden2,28X28,activation=’sigmoid’,name=\"decoder_output\")\n",
    "\n",
    "\n",
    "X_flat = tf.reshape(X, [-1, n_output], name=\"X_flat\")\n",
    "\n",
    "squared_difference=tf.square(X_flat-decoder_output,name=\"squared_difference\") reconstruction_loss=tf.reduce_mean(squared_difference,name=\"reconstruction_loss\")\n",
    "\n",
    "loss = tf.add(margin_loss, 0.001 * reconstruction_loss, name=\"loss\")"
   ]
  },
  {
   "cell_type": "code",
   "execution_count": null,
   "metadata": {},
   "outputs": [],
   "source": [
    "n_epochs = 10\n",
    "batch_size = 32\n",
    "with tf.Session() as sess:\n",
    "    if restore_checkpoint and tf.train.checkpoint_exists(checkpoint_path):\n",
    "        saver.restore(sess, checkpoint_path)\n",
    "    else:\n",
    "        init.run()\n",
    "    loss_vals = []\n",
    "        acc_vals = []\n",
    "        for iteration in range(1, n_iterations_validation + 1):\n",
    "            X_batch, y_batch = mnist.validation.next_batch(batch_size)\n",
    "            loss_val, acc_val = sess.run(\n",
    "                    [loss, accuracy],\n",
    "                    feed_dict={X: X_batch.reshape([-1, 28, 28, 1]),\n",
    "                               y: y_batch})\n",
    "            loss_vals.append(loss_val)\n",
    "            acc_vals.append(acc_val)\n",
    "            print(\"\\rEvaluating the model: {}/{} ({:.1f}%)\".format(\n",
    "                      iteration, n_iterations_validation,\n",
    "                      iteration * 100 / n_iterations_validation),\n",
    "                  end=\" \" * 10)\n",
    "        loss_val = np.mean(loss_vals)\n",
    "        acc_val = np.mean(acc_vals)\n",
    "        print(\"\\rEpoch: {}  Val accuracy: {:.4f}%  Loss: {:.6f}{}\".format(\n",
    "            epoch + 1, acc_val * 100, loss_val)"
   ]
  },
  {
   "cell_type": "code",
   "execution_count": null,
   "metadata": {},
   "outputs": [],
   "source": [
    "n_iterations_test = mnist.test.num_examples\n",
    "loss_tests = []\n",
    "acc_tests = []\n",
    "for iteration in range(1, n_iterations_test + 1):\n",
    "        X_batch, y_batch = mnist.test.next_batch(batch_size)\n",
    "        loss_test, acc_test = sess.run(\n",
    "                [loss, accuracy],\n",
    "                feed_dict={X: X_batch.reshape([-1, 28, 28, 1]),\n",
    "                           y: y_batch})\n",
    "        loss_tests.append(loss_test)\n",
    "        acc_tests.append(acc_test)\n",
    "        print(\"\\rEvaluating the model: {}/{} ({:.1f}%)\".format(\n",
    "                  iteration, n_iterations_test,\n",
    "                  iteration * 100 / n_iterations_test),\n",
    "              end=\" \" * 10)\n",
    "    loss_test = np.mean(loss_tests)\n",
    "    acc_test = np.mean(acc_tests)\n",
    "    print(\"\\rFinal test accuracy: {:.4f}%  Loss: {:.6f}\".format(\n",
    "        acc_test * 100, loss_test))"
   ]
  },
  {
   "cell_type": "code",
   "execution_count": null,
   "metadata": {},
   "outputs": [],
   "source": [
    "sample_images = sample_images.reshape(-1, 28, 28)\n",
    "reconstructions = decoder_output_value.reshape([-1, 28, 28])\n",
    "\n",
    "plt.figure(figsize=(n_samples * 2, 3))\n",
    "for index in range(n_samples):\n",
    "    plt.subplot(1, n_samples, index + 1)\n",
    "    plt.imshow(sample_images[index], cmap=\"binary\")\n",
    "    plt.title(\"Label:\" + str(mnist.test.labels[index]))\n",
    "    plt.axis(\"off\")\n",
    "plt.show()\n",
    "\n",
    "plt.figure(figsize=(n_samples * 2, 3))\n",
    "for index in range(n_samples):\n",
    "    plt.subplot(1, n_samples, index + 1)\n",
    "    plt.title(\"Predicted:\" + str(y_pred_value[index]))\n",
    "    plt.imshow(reconstructions[index], cmap=\"binary\")\n",
    "    plt.axis(\"off\")\n",
    "plt.show()"
   ]
  },
  {
   "cell_type": "markdown",
   "metadata": {},
   "source": [
    "# Cancer vs Non-Cancer LIME"
   ]
  },
  {
   "cell_type": "code",
   "execution_count": null,
   "metadata": {},
   "outputs": [],
   "source": []
  },
  {
   "cell_type": "code",
   "execution_count": null,
   "metadata": {},
   "outputs": [],
   "source": []
  },
  {
   "cell_type": "code",
   "execution_count": null,
   "metadata": {},
   "outputs": [],
   "source": []
  },
  {
   "cell_type": "code",
   "execution_count": null,
   "metadata": {},
   "outputs": [],
   "source": []
  }
 ],
 "metadata": {
  "kernelspec": {
   "display_name": "Python 3",
   "language": "python",
   "name": "python3"
  },
  "language_info": {
   "codemirror_mode": {
    "name": "ipython",
    "version": 3
   },
   "file_extension": ".py",
   "mimetype": "text/x-python",
   "name": "python",
   "nbconvert_exporter": "python",
   "pygments_lexer": "ipython3",
   "version": "3.8.5"
  }
 },
 "nbformat": 4,
 "nbformat_minor": 4
}
