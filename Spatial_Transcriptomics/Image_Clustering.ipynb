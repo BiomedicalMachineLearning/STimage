{
 "cells": [
  {
   "cell_type": "markdown",
   "metadata": {},
   "source": [
    "## Libraries"
   ]
  },
  {
   "cell_type": "code",
   "execution_count": 1,
   "metadata": {},
   "outputs": [],
   "source": [
    "import os\n",
    "import numpy as np\n",
    "import matplotlib.pyplot as plt\n",
    "import matplotlib.image as image\n",
    "%matplotlib inline\n",
    "plt.style.use(\"ggplot\")\n",
    "from skimage import io\n",
    "from sklearn.cluster import KMeans\n",
    "from ipywidgets import interact, interactive, fixed, interact_manual, IntSlider\n",
    "import ipywidgets as widgets\n",
    "import rasterio as rio\n",
    "from rasterio.plot import show\n",
    "from sklearn import cluster\n",
    "import matplotlib.pyplot as plt\n",
    "import numpy as np\n",
    "from sklearn.cluster import KMeans\n",
    "import matplotlib.pyplot as plt\n",
    "import argparse\n",
    "import utils\n",
    "import cv2\n",
    "import numpy as np\n",
    "import cv2\n",
    "import numpy as np\n",
    "import tensorflow as tf\n",
    "import matplotlib.pyplot as plt\n",
    "from sklearn.cluster import KMeans\n",
    "from sklearn.metrics import silhouette_score\n",
    "import cv2\n",
    "import os, glob, shutil\n",
    "import numpy as np\n",
    "import matplotlib.pyplot as plt\n",
    "import scipy.cluster.hierarchy as sch\n",
    "from sklearn.cluster import AgglomerativeClustering\n",
    "from sklearn.cluster import KMeans"
   ]
  },
  {
   "cell_type": "markdown",
   "metadata": {},
   "source": [
    "# K-Means Hierarchial Image + Gene-Expression"
   ]
  },
  {
   "cell_type": "code",
   "execution_count": 3,
   "metadata": {},
   "outputs": [
    {
     "data": {
      "text/html": [
       "<div>\n",
       "<style scoped>\n",
       "    .dataframe tbody tr th:only-of-type {\n",
       "        vertical-align: middle;\n",
       "    }\n",
       "\n",
       "    .dataframe tbody tr th {\n",
       "        vertical-align: top;\n",
       "    }\n",
       "\n",
       "    .dataframe thead th {\n",
       "        text-align: right;\n",
       "    }\n",
       "</style>\n",
       "<table border=\"1\" class=\"dataframe\">\n",
       "  <thead>\n",
       "    <tr style=\"text-align: right;\">\n",
       "      <th></th>\n",
       "      <th>Unnamed: 0</th>\n",
       "      <th>0</th>\n",
       "      <th>1</th>\n",
       "      <th>2</th>\n",
       "      <th>3</th>\n",
       "      <th>4</th>\n",
       "      <th>5</th>\n",
       "      <th>6</th>\n",
       "      <th>7</th>\n",
       "      <th>8</th>\n",
       "      <th>...</th>\n",
       "      <th>619</th>\n",
       "      <th>620</th>\n",
       "      <th>621</th>\n",
       "      <th>622</th>\n",
       "      <th>623</th>\n",
       "      <th>624</th>\n",
       "      <th>625</th>\n",
       "      <th>626</th>\n",
       "      <th>627</th>\n",
       "      <th>628</th>\n",
       "    </tr>\n",
       "  </thead>\n",
       "  <tbody>\n",
       "    <tr>\n",
       "      <th>0</th>\n",
       "      <td>0</td>\n",
       "      <td>215</td>\n",
       "      <td>211</td>\n",
       "      <td>205</td>\n",
       "      <td>209</td>\n",
       "      <td>204</td>\n",
       "      <td>198</td>\n",
       "      <td>198</td>\n",
       "      <td>191</td>\n",
       "      <td>182</td>\n",
       "      <td>...</td>\n",
       "      <td>0.0</td>\n",
       "      <td>1.0</td>\n",
       "      <td>10.0</td>\n",
       "      <td>3.0</td>\n",
       "      <td>2.0</td>\n",
       "      <td>3.0</td>\n",
       "      <td>11.0</td>\n",
       "      <td>2.0</td>\n",
       "      <td>5.0</td>\n",
       "      <td>2.0</td>\n",
       "    </tr>\n",
       "    <tr>\n",
       "      <th>1</th>\n",
       "      <td>1</td>\n",
       "      <td>192</td>\n",
       "      <td>192</td>\n",
       "      <td>191</td>\n",
       "      <td>191</td>\n",
       "      <td>192</td>\n",
       "      <td>191</td>\n",
       "      <td>191</td>\n",
       "      <td>194</td>\n",
       "      <td>191</td>\n",
       "      <td>...</td>\n",
       "      <td>1.0</td>\n",
       "      <td>2.0</td>\n",
       "      <td>9.0</td>\n",
       "      <td>0.0</td>\n",
       "      <td>3.0</td>\n",
       "      <td>0.0</td>\n",
       "      <td>6.0</td>\n",
       "      <td>2.0</td>\n",
       "      <td>10.0</td>\n",
       "      <td>2.0</td>\n",
       "    </tr>\n",
       "    <tr>\n",
       "      <th>2</th>\n",
       "      <td>2</td>\n",
       "      <td>185</td>\n",
       "      <td>185</td>\n",
       "      <td>186</td>\n",
       "      <td>185</td>\n",
       "      <td>187</td>\n",
       "      <td>187</td>\n",
       "      <td>184</td>\n",
       "      <td>185</td>\n",
       "      <td>186</td>\n",
       "      <td>...</td>\n",
       "      <td>3.0</td>\n",
       "      <td>3.0</td>\n",
       "      <td>12.0</td>\n",
       "      <td>3.0</td>\n",
       "      <td>2.0</td>\n",
       "      <td>7.0</td>\n",
       "      <td>8.0</td>\n",
       "      <td>0.0</td>\n",
       "      <td>12.0</td>\n",
       "      <td>3.0</td>\n",
       "    </tr>\n",
       "    <tr>\n",
       "      <th>3</th>\n",
       "      <td>3</td>\n",
       "      <td>181</td>\n",
       "      <td>182</td>\n",
       "      <td>175</td>\n",
       "      <td>187</td>\n",
       "      <td>187</td>\n",
       "      <td>183</td>\n",
       "      <td>186</td>\n",
       "      <td>189</td>\n",
       "      <td>186</td>\n",
       "      <td>...</td>\n",
       "      <td>0.0</td>\n",
       "      <td>1.0</td>\n",
       "      <td>14.0</td>\n",
       "      <td>1.0</td>\n",
       "      <td>4.0</td>\n",
       "      <td>1.0</td>\n",
       "      <td>9.0</td>\n",
       "      <td>2.0</td>\n",
       "      <td>8.0</td>\n",
       "      <td>1.0</td>\n",
       "    </tr>\n",
       "    <tr>\n",
       "      <th>4</th>\n",
       "      <td>4</td>\n",
       "      <td>175</td>\n",
       "      <td>174</td>\n",
       "      <td>174</td>\n",
       "      <td>178</td>\n",
       "      <td>174</td>\n",
       "      <td>173</td>\n",
       "      <td>178</td>\n",
       "      <td>174</td>\n",
       "      <td>170</td>\n",
       "      <td>...</td>\n",
       "      <td>2.0</td>\n",
       "      <td>4.0</td>\n",
       "      <td>9.0</td>\n",
       "      <td>1.0</td>\n",
       "      <td>1.0</td>\n",
       "      <td>1.0</td>\n",
       "      <td>15.0</td>\n",
       "      <td>0.0</td>\n",
       "      <td>9.0</td>\n",
       "      <td>1.0</td>\n",
       "    </tr>\n",
       "  </tbody>\n",
       "</table>\n",
       "<p>5 rows × 59430 columns</p>\n",
       "</div>"
      ],
      "text/plain": [
       "   Unnamed: 0    0    1    2    3    4    5    6    7    8  ...  619  620  \\\n",
       "0           0  215  211  205  209  204  198  198  191  182  ...  0.0  1.0   \n",
       "1           1  192  192  191  191  192  191  191  194  191  ...  1.0  2.0   \n",
       "2           2  185  185  186  185  187  187  184  185  186  ...  3.0  3.0   \n",
       "3           3  181  182  175  187  187  183  186  189  186  ...  0.0  1.0   \n",
       "4           4  175  174  174  178  174  173  178  174  170  ...  2.0  4.0   \n",
       "\n",
       "    621  622  623  624   625  626   627  628  \n",
       "0  10.0  3.0  2.0  3.0  11.0  2.0   5.0  2.0  \n",
       "1   9.0  0.0  3.0  0.0   6.0  2.0  10.0  2.0  \n",
       "2  12.0  3.0  2.0  7.0   8.0  0.0  12.0  3.0  \n",
       "3  14.0  1.0  4.0  1.0   9.0  2.0   8.0  1.0  \n",
       "4   9.0  1.0  1.0  1.0  15.0  0.0   9.0  1.0  \n",
       "\n",
       "[5 rows x 59430 columns]"
      ]
     },
     "execution_count": 3,
     "metadata": {},
     "output_type": "execute_result"
    }
   ],
   "source": [
    "import pandas as pd\n",
    "import numpy as np\n",
    "df=pd.read_csv('gene_exp.csv')\n",
    "df=df.drop(['Unnamed: 0','X1','X2','bar_name'],axis=1)\n",
    "df2=pd.DataFrame()\n",
    "df2=df.groupby(['x','y','UMI_Count']).agg('gene_name').apply(lambda x:\" \".join(list(set(x)))).reset_index()\n",
    "df3=pd.read_csv('link_to_img_trial.csv')\n",
    "df7=df3\n",
    "df11 = pd.merge(df, df7, on=['x','y'], how='inner')\n",
    "df11=df11.drop(columns=['Unnamed: 0'])\n",
    "\n",
    "df12=pd.pivot_table(df11, values='UMI_Count', index=['Sno'],columns=['gene_name'], aggfunc=np.sum)\n",
    "df13=df12.fillna(0)\n",
    "df13.drop([col for col, val in df13.sum().iteritems() if val < 20000], axis=1, inplace=True)\n",
    "#df13.to_csv('Pivot_gene.csv')\n",
    "df13.reset_index(level=0, inplace=True)\n",
    "X=df13.iloc[:,1:].values\n",
    "Img=pd.read_csv('Img_arr2.csv')\n",
    "X=pd.DataFrame(data =X)\n",
    "result = pd.concat([Img, X], axis=1)\n",
    "result.head()"
   ]
  },
  {
   "cell_type": "code",
   "execution_count": 4,
   "metadata": {},
   "outputs": [
    {
     "data": {
      "text/plain": [
       "\"dendrogram = sch.dendrogram(sch.linkage(result, method = 'ward'))\\nplt.title('Dendrogram')\\nplt.xlabel('Customers')\\nplt.ylabel('Euclidean distances')\\nplt.show()\""
      ]
     },
     "execution_count": 4,
     "metadata": {},
     "output_type": "execute_result"
    }
   ],
   "source": [
    "from sklearn.decomposition import PCA\n",
    "pca = PCA(.95)\n",
    "result = pca.fit_transform(result)\n",
    "result = pd.DataFrame(data = result)\n",
    "'''dendrogram = sch.dendrogram(sch.linkage(result, method = 'ward'))\n",
    "plt.title('Dendrogram')\n",
    "plt.xlabel('Customers')\n",
    "plt.ylabel('Euclidean distances')\n",
    "plt.show()'''"
   ]
  },
  {
   "cell_type": "code",
   "execution_count": 5,
   "metadata": {},
   "outputs": [
    {
     "data": {
      "text/plain": [
       "'\\nresult = np.array(result)\\nplt.scatter(result[y_hc == 0, 0], result[y_hc == 0, 1], s = 25, c = \\'red\\', marker =\"^\", edgecolor =\"yellow\", label = \\'Cluster 1\\')\\nplt.scatter(result[y_hc == 1, 0], result[y_hc == 1, 1], s = 25, c = \\'blue\\', edgecolor =\"green\", label = \\'Cluster 2\\')\\nplt.scatter(result[y_hc == 2, 0], result[y_hc == 2, 1], s = 25, c = \\'green\\', edgecolor =\"red\", label = \\'Cluster 3\\')\\n\\nplt.legend()\\nplt.show()'"
      ]
     },
     "execution_count": 5,
     "metadata": {},
     "output_type": "execute_result"
    }
   ],
   "source": [
    "from sklearn.cluster import AgglomerativeClustering\n",
    "hc = AgglomerativeClustering(n_clusters = 4, affinity = 'euclidean', linkage = 'ward')\n",
    "y_hc = hc.fit_predict(result)\n",
    "'''\n",
    "result = np.array(result)\n",
    "plt.scatter(result[y_hc == 0, 0], result[y_hc == 0, 1], s = 25, c = 'red', marker =\"^\", edgecolor =\"yellow\", label = 'Cluster 1')\n",
    "plt.scatter(result[y_hc == 1, 0], result[y_hc == 1, 1], s = 25, c = 'blue', edgecolor =\"green\", label = 'Cluster 2')\n",
    "plt.scatter(result[y_hc == 2, 0], result[y_hc == 2, 1], s = 25, c = 'green', edgecolor =\"red\", label = 'Cluster 3')\n",
    "\n",
    "plt.legend()\n",
    "plt.show()'''"
   ]
  },
  {
   "cell_type": "markdown",
   "metadata": {},
   "source": [
    "## Saving Data"
   ]
  },
  {
   "cell_type": "code",
   "execution_count": 6,
   "metadata": {},
   "outputs": [],
   "source": [
    "Clustered = pd.DataFrame()\n",
    "Clustered['Sno'] = df13['Sno']\n",
    "Clustered['Cluster'] = y_hc\n",
    "Clustered.shape\n",
    "Clustered.to_csv('Cluster_Img_trial.csv')\n",
    "import pandas as pd\n",
    "Cluster_img2=pd.read_csv('Cluster_Img_trial.csv')\n",
    "df3=pd.read_csv('link_to_img_trial.csv')\n",
    "df7=df3\n",
    "Spots_Cluster2 = pd.merge(Cluster_img2, df7, on=['Sno'], how='inner')\n",
    "Spots_Cluster2.drop(['Unnamed: 0_x'],axis=1,inplace=True)\n",
    "Spots_Cluster2.drop(['Unnamed: 0_y'],axis=1,inplace=True)\n",
    "Spots_Cluster2.to_csv('Spots_Cluster_trial.csv')"
   ]
  },
  {
   "cell_type": "code",
   "execution_count": null,
   "metadata": {},
   "outputs": [],
   "source": [
    "input_dir = 'Trainimg_breast2'\n",
    "glob_dir = input_dir + '/*.tif'\n",
    "images = [cv2.resize(cv2.imread(file), (140,140)) for file in glob.glob(glob_dir)]\n",
    "paths = [file for file in glob.glob(glob_dir)]\n",
    "shutil.rmtree('output4')\n",
    "for i in range(3798):\n",
    "    os.makedirs(\"output4\\cluster\" + str(i))\n",
    "for i in range(len(paths)):\n",
    "    shutil.copy2(paths[i], \"output4\\cluster\"+str(y_hc[i]))"
   ]
  },
  {
   "cell_type": "markdown",
   "metadata": {},
   "source": [
    "## Cluster with Spots"
   ]
  },
  {
   "cell_type": "code",
   "execution_count": 9,
   "metadata": {},
   "outputs": [
    {
     "data": {
      "text/html": [
       "<div>\n",
       "<style scoped>\n",
       "    .dataframe tbody tr th:only-of-type {\n",
       "        vertical-align: middle;\n",
       "    }\n",
       "\n",
       "    .dataframe tbody tr th {\n",
       "        vertical-align: top;\n",
       "    }\n",
       "\n",
       "    .dataframe thead th {\n",
       "        text-align: right;\n",
       "    }\n",
       "</style>\n",
       "<table border=\"1\" class=\"dataframe\">\n",
       "  <thead>\n",
       "    <tr style=\"text-align: right;\">\n",
       "      <th></th>\n",
       "      <th>Sno</th>\n",
       "      <th>Cluster</th>\n",
       "      <th>x</th>\n",
       "      <th>y</th>\n",
       "    </tr>\n",
       "  </thead>\n",
       "  <tbody>\n",
       "    <tr>\n",
       "      <th>0</th>\n",
       "      <td>0001img</td>\n",
       "      <td>3</td>\n",
       "      <td>4046</td>\n",
       "      <td>10350</td>\n",
       "    </tr>\n",
       "    <tr>\n",
       "      <th>1</th>\n",
       "      <td>0002img</td>\n",
       "      <td>3</td>\n",
       "      <td>4047</td>\n",
       "      <td>10623</td>\n",
       "    </tr>\n",
       "    <tr>\n",
       "      <th>2</th>\n",
       "      <td>0003img</td>\n",
       "      <td>3</td>\n",
       "      <td>4047</td>\n",
       "      <td>10896</td>\n",
       "    </tr>\n",
       "    <tr>\n",
       "      <th>3</th>\n",
       "      <td>0004img</td>\n",
       "      <td>3</td>\n",
       "      <td>4048</td>\n",
       "      <td>11169</td>\n",
       "    </tr>\n",
       "    <tr>\n",
       "      <th>4</th>\n",
       "      <td>0005img</td>\n",
       "      <td>1</td>\n",
       "      <td>4048</td>\n",
       "      <td>11442</td>\n",
       "    </tr>\n",
       "  </tbody>\n",
       "</table>\n",
       "</div>"
      ],
      "text/plain": [
       "       Sno  Cluster     x      y\n",
       "0  0001img        3  4046  10350\n",
       "1  0002img        3  4047  10623\n",
       "2  0003img        3  4047  10896\n",
       "3  0004img        3  4048  11169\n",
       "4  0005img        1  4048  11442"
      ]
     },
     "execution_count": 9,
     "metadata": {},
     "output_type": "execute_result"
    }
   ],
   "source": [
    "import pandas as pd\n",
    "Cluster_img=pd.read_csv('Cluster_Img_trial.csv')\n",
    "df3=pd.read_csv('link_to_img_trial.csv')\n",
    "df7=df3\n",
    "Spots_Cluster = pd.merge(Cluster_img, df7, on=['Sno'], how='inner')\n",
    "Spots_Cluster.drop(['Unnamed: 0_x','Unnamed: 0_y'],axis=1,inplace=True)\n",
    "Spots_Cluster.head()\n",
    "#Spots_Cluster.to_csv('Spots_Cluster.csv')"
   ]
  },
  {
   "cell_type": "code",
   "execution_count": 10,
   "metadata": {},
   "outputs": [
    {
     "data": {
      "text/html": [
       "<div>\n",
       "<style scoped>\n",
       "    .dataframe tbody tr th:only-of-type {\n",
       "        vertical-align: middle;\n",
       "    }\n",
       "\n",
       "    .dataframe tbody tr th {\n",
       "        vertical-align: top;\n",
       "    }\n",
       "\n",
       "    .dataframe thead th {\n",
       "        text-align: right;\n",
       "    }\n",
       "</style>\n",
       "<table border=\"1\" class=\"dataframe\">\n",
       "  <thead>\n",
       "    <tr style=\"text-align: right;\">\n",
       "      <th></th>\n",
       "      <th>Unnamed: 0_x</th>\n",
       "      <th>Sno</th>\n",
       "      <th>Cluster</th>\n",
       "      <th>x_x</th>\n",
       "      <th>y_x</th>\n",
       "      <th>Unnamed: 0_y</th>\n",
       "      <th>x_y</th>\n",
       "      <th>y_y</th>\n",
       "      <th>left</th>\n",
       "      <th>up</th>\n",
       "      <th>right</th>\n",
       "      <th>down</th>\n",
       "    </tr>\n",
       "  </thead>\n",
       "  <tbody>\n",
       "    <tr>\n",
       "      <th>0</th>\n",
       "      <td>0</td>\n",
       "      <td>0001img</td>\n",
       "      <td>3</td>\n",
       "      <td>4046</td>\n",
       "      <td>10350</td>\n",
       "      <td>0</td>\n",
       "      <td>4046</td>\n",
       "      <td>10350</td>\n",
       "      <td>3976</td>\n",
       "      <td>10280</td>\n",
       "      <td>4116</td>\n",
       "      <td>10420</td>\n",
       "    </tr>\n",
       "    <tr>\n",
       "      <th>1</th>\n",
       "      <td>1</td>\n",
       "      <td>0002img</td>\n",
       "      <td>3</td>\n",
       "      <td>4047</td>\n",
       "      <td>10623</td>\n",
       "      <td>1</td>\n",
       "      <td>4047</td>\n",
       "      <td>10623</td>\n",
       "      <td>3977</td>\n",
       "      <td>10553</td>\n",
       "      <td>4117</td>\n",
       "      <td>10693</td>\n",
       "    </tr>\n",
       "    <tr>\n",
       "      <th>2</th>\n",
       "      <td>2</td>\n",
       "      <td>0003img</td>\n",
       "      <td>3</td>\n",
       "      <td>4047</td>\n",
       "      <td>10896</td>\n",
       "      <td>2</td>\n",
       "      <td>4047</td>\n",
       "      <td>10896</td>\n",
       "      <td>3977</td>\n",
       "      <td>10826</td>\n",
       "      <td>4117</td>\n",
       "      <td>10966</td>\n",
       "    </tr>\n",
       "    <tr>\n",
       "      <th>3</th>\n",
       "      <td>3</td>\n",
       "      <td>0004img</td>\n",
       "      <td>3</td>\n",
       "      <td>4048</td>\n",
       "      <td>11169</td>\n",
       "      <td>3</td>\n",
       "      <td>4048</td>\n",
       "      <td>11169</td>\n",
       "      <td>3978</td>\n",
       "      <td>11099</td>\n",
       "      <td>4118</td>\n",
       "      <td>11239</td>\n",
       "    </tr>\n",
       "    <tr>\n",
       "      <th>4</th>\n",
       "      <td>4</td>\n",
       "      <td>0005img</td>\n",
       "      <td>1</td>\n",
       "      <td>4048</td>\n",
       "      <td>11442</td>\n",
       "      <td>4</td>\n",
       "      <td>4048</td>\n",
       "      <td>11442</td>\n",
       "      <td>3978</td>\n",
       "      <td>11372</td>\n",
       "      <td>4118</td>\n",
       "      <td>11512</td>\n",
       "    </tr>\n",
       "  </tbody>\n",
       "</table>\n",
       "</div>"
      ],
      "text/plain": [
       "   Unnamed: 0_x      Sno  Cluster   x_x    y_x  Unnamed: 0_y   x_y    y_y  \\\n",
       "0             0  0001img        3  4046  10350             0  4046  10350   \n",
       "1             1  0002img        3  4047  10623             1  4047  10623   \n",
       "2             2  0003img        3  4047  10896             2  4047  10896   \n",
       "3             3  0004img        3  4048  11169             3  4048  11169   \n",
       "4             4  0005img        1  4048  11442             4  4048  11442   \n",
       "\n",
       "   left     up  right   down  \n",
       "0  3976  10280   4116  10420  \n",
       "1  3977  10553   4117  10693  \n",
       "2  3977  10826   4117  10966  \n",
       "3  3978  11099   4118  11239  \n",
       "4  3978  11372   4118  11512  "
      ]
     },
     "execution_count": 10,
     "metadata": {},
     "output_type": "execute_result"
    }
   ],
   "source": [
    "import pandas as pd\n",
    "Vals=pd.read_csv('link_to_img_trial.csv')\n",
    "Vals['left']=Vals['x']-70\n",
    "Vals['up']=Vals['y']-70\n",
    "Vals['right']=Vals['x']+70\n",
    "Vals['down']=Vals['y']+70\n",
    "Spots_Cluster2=pd.read_csv('Spots_Cluster_trial.csv')\n",
    "Spot_vals=pd.merge(Spots_Cluster2, Vals, on=['Sno'], how='inner')\n",
    "Spot_vals.head()"
   ]
  },
  {
   "cell_type": "code",
   "execution_count": 11,
   "metadata": {},
   "outputs": [],
   "source": [
    "# Read in the image \n",
    "import cv2\n",
    "import matplotlib.pyplot as plt\n",
    "image = cv2.imread(\"D:/onkar/Projects/Project_Spt.Transcriptomics/Input_files/V1_Breast_Cancer_Block_A_Section_1_image.tif\") \n",
    "image = cv2.cvtColor(image, cv2.COLOR_BGR2RGB) \n",
    "#plt.imshow(image)"
   ]
  },
  {
   "cell_type": "code",
   "execution_count": 12,
   "metadata": {},
   "outputs": [
    {
     "data": {
      "text/plain": [
       "\"Spot_vals14=Spot_vals[Spot_vals['Cluster'] == 14]\\nSpot_vals14=Spot_vals14.values\""
      ]
     },
     "execution_count": 12,
     "metadata": {},
     "output_type": "execute_result"
    }
   ],
   "source": [
    "Spot_vals0=Spot_vals[Spot_vals['Cluster'] == 0]\n",
    "Spot_vals0=Spot_vals0.values\n",
    "Spot_vals1=Spot_vals[Spot_vals['Cluster'] == 1]\n",
    "Spot_vals1=Spot_vals1.values\n",
    "\n",
    "Spot_vals2=Spot_vals[Spot_vals['Cluster'] == 2]\n",
    "Spot_vals2=Spot_vals2.values\n",
    "Spot_vals3=Spot_vals[Spot_vals['Cluster'] == 3]\n",
    "Spot_vals3=Spot_vals3.values\n",
    "'''\n",
    "Spot_vals4=Spot_vals[Spot_vals['Cluster'] == 4]\n",
    "Spot_vals4=Spot_vals4.values\n",
    "Spot_vals5=Spot_vals[Spot_vals['Cluster'] == 5]\n",
    "Spot_vals5=Spot_vals5.values\n",
    "Spot_vals6=Spot_vals[Spot_vals['Cluster'] == 6]\n",
    "Spot_vals6=Spot_vals6.values\n",
    "Spot_vals7=Spot_vals[Spot_vals['Cluster'] == 7]\n",
    "Spot_vals7=Spot_vals7.values\n",
    "Spot_vals8=Spot_vals[Spot_vals['Cluster'] == 8]\n",
    "Spot_vals8=Spot_vals8.values\n",
    "Spot_vals9=Spot_vals[Spot_vals['Cluster'] == 9]\n",
    "Spot_vals9=Spot_vals9.values\n",
    "Spot_vals10=Spot_vals[Spot_vals['Cluster'] == 10]\n",
    "Spot_vals10=Spot_vals10.values\n",
    "Spot_vals11=Spot_vals[Spot_vals['Cluster'] == 11]\n",
    "Spot_vals11=Spot_vals11.values\n",
    "Spot_vals12=Spot_vals[Spot_vals['Cluster'] == 12]\n",
    "Spot_vals12=Spot_vals12.values\n",
    "Spot_vals13=Spot_vals[Spot_vals['Cluster'] == 13]\n",
    "Spot_vals13=Spot_vals13.values'''\n",
    "'''Spot_vals14=Spot_vals[Spot_vals['Cluster'] == 14]\n",
    "Spot_vals14=Spot_vals14.values'''"
   ]
  },
  {
   "cell_type": "code",
   "execution_count": 22,
   "metadata": {},
   "outputs": [
    {
     "data": {
      "text/plain": [
       "True"
      ]
     },
     "execution_count": 22,
     "metadata": {},
     "output_type": "execute_result"
    }
   ],
   "source": [
    "#Vals=Vals.values\n",
    "x = Spot_vals0[:,3].astype('int64')\n",
    "y = Spot_vals0[:,4].astype('int64')\n",
    "box = (y,x)\n",
    "import numpy as np\n",
    "numpy_array = np.array(box)\n",
    "transpose = numpy_array.T\n",
    "box = transpose.tolist()\n",
    "x1 = Spot_vals1[:,3].astype('int64')\n",
    "y1 = Spot_vals1[:,4].astype('int64')\n",
    "box1 = (y1,x1)\n",
    "numpy_array1 = np.array(box1)\n",
    "transpose1 = numpy_array1.T\n",
    "box1 = transpose1.tolist()\n",
    "x2 = Spot_vals2[:,3].astype('int64')\n",
    "y2 = Spot_vals2[:,4].astype('int64')\n",
    "box2 = (y2,x2)\n",
    "numpy_array2 = np.array(box2)\n",
    "transpose2 = numpy_array2.T\n",
    "box2 = transpose2.tolist()\n",
    "x3 = Spot_vals3[:,3].astype('int64')\n",
    "y3 = Spot_vals3[:,4].astype('int64')\n",
    "box3 = (y3,x3)\n",
    "numpy_array3 = np.array(box3)\n",
    "transpose3 = numpy_array3.T\n",
    "box3 = transpose3.tolist()\n",
    "'''x4 = Spot_vals4[:,3].astype('int64')\n",
    "y4 = Spot_vals4[:,4].astype('int64')\n",
    "box4 = (x4,y4)\n",
    "numpy_array4 = np.array(box4)\n",
    "transpose4 = numpy_array4.T\n",
    "box4 = transpose4.tolist()\n",
    "x5 = Spot_vals5[:,3].astype('int64')\n",
    "y5 = Spot_vals5[:,4].astype('int64')\n",
    "box5 = (x5,y5)\n",
    "numpy_array5 = np.array(box5)\n",
    "transpose5 = numpy_array5.T\n",
    "box5 = transpose5.tolist()\n",
    "x6 = Spot_vals6[:,3].astype('int64')\n",
    "y6 = Spot_vals6[:,4].astype('int64')\n",
    "box6 = (x6,y6)\n",
    "numpy_array6 = np.array(box6)\n",
    "transpose6 = numpy_array6.T\n",
    "box6 = transpose6.tolist()\n",
    "x7 = Spot_vals7[:,3].astype('int64')\n",
    "y7 = Spot_vals7[:,4].astype('int64')\n",
    "box7 = (x7,y7)\n",
    "numpy_array7 = np.array(box7)\n",
    "transpose7 = numpy_array7.T\n",
    "box7 = transpose7.tolist()\n",
    "x8 = Spot_vals8[:,3].astype('int64')\n",
    "y8 = Spot_vals8[:,4].astype('int64')\n",
    "box8 = (x8,y8)\n",
    "numpy_array8 = np.array(box8)\n",
    "transpose8 = numpy_array8.T\n",
    "box8 = transpose8.tolist()\n",
    "x9 = Spot_vals9[:,3].astype('int64')\n",
    "y9 = Spot_vals9[:,4].astype('int64')\n",
    "box9 = (x9,y9)\n",
    "numpy_array9 = np.array(box9)\n",
    "transpose9 = numpy_array9.T\n",
    "box9 = transpose9.tolist()\n",
    "x10 = Spot_vals10[:,3].astype('int64')\n",
    "y10 = Spot_vals10[:,4].astype('int64')\n",
    "box10 = (x10,y10)\n",
    "numpy_array10 = np.array(box10)\n",
    "transpose10 = numpy_array10.T\n",
    "box10 = transpose10.tolist()\n",
    "x11 = Spot_vals11[:,3].astype('int64')\n",
    "y11 = Spot_vals11[:,4].astype('int64')\n",
    "box11 = (x11,y11)\n",
    "numpy_array11 = np.array(box11)\n",
    "transpose11 = numpy_array11.T\n",
    "box11 = transpose11.tolist()\n",
    "x12 = Spot_vals12[:,3].astype('int64')\n",
    "y12 = Spot_vals12[:,4].astype('int64')\n",
    "box12 = (x12,y12)\n",
    "numpy_array12 = np.array(box12)\n",
    "transpose12 = numpy_array12.T\n",
    "box12 = transpose12.tolist()\n",
    "x13 = Spot_vals13[:,3].astype('int64')\n",
    "y13 = Spot_vals13[:,4].astype('int64')\n",
    "box13 = (x13,y13)\n",
    "numpy_array13 = np.array(box13)\n",
    "transpose13 = numpy_array13.T\n",
    "box13 = transpose13.tolist()'''\n",
    "\n",
    "for i in range(0,len(box)):\n",
    "    image=cv2.circle(image, tuple(box[i]), 50,(255,0,0), -1)\n",
    "for i in range(0,len(box1)):\n",
    "    image=cv2.circle(image, tuple(box1[i]), 50,(0,255,0), -1)\n",
    "for i in range(0,len(box2)):\n",
    "    image=cv2.circle(image, tuple(box2[i]), 50,(0,0,255), -1)\n",
    "for i in range(0,len(box3)):\n",
    "    image=cv2.circle(image, tuple(box3[i]), 50,(255,255,0), -1)\n",
    "'''for i in range(0,len(box4)):\n",
    "    image=cv2.circle(image, tuple(box4[i]), 50,(0,255,255), -1)\n",
    "for i in range(0,len(box5)):\n",
    "    image=cv2.circle(image, tuple(box5[i]), 50,(255,0,255), -1)\n",
    "for i in range(0,len(box6)):\n",
    "    image=cv2.circle(image, tuple(box6[i]), 50,(255,255,255), -1)\n",
    "for i in range(0,len(box7)):\n",
    "    image=cv2.circle(image, tuple(box7[i]), 50,(0,0,0), -1)\n",
    "for i in range(0,len(box8)):\n",
    "    image=cv2.circle(image, tuple(box8[i]), 50,(125,0,0), -1)\n",
    "for i in range(0,len(box9)):\n",
    "    image=cv2.circle(image, tuple(box9[i]), 50,(0,125,0), -1)\n",
    "for i in range(0,len(box10)):\n",
    "    image=cv2.circle(image, tuple(box10[i]), 50,(0,0,125), -1)\n",
    "for i in range(0,len(box11)):\n",
    "    image=cv2.circle(image, tuple(box11[i]), 50,(125,125,0), -1)\n",
    "for i in range(0,len(box12)):\n",
    "    image=cv2.circle(image, tuple(box12[i]), 50,(125,0,125), -1)\n",
    "for i in range(0,len(box13)):\n",
    "    image=cv2.circle(image, tuple(box13[i]), 50,(0,125,125), -1)'''\n",
    "    \n",
    "cv2.imwrite(\"Gene_Clustering.png\",image)"
   ]
  },
  {
   "cell_type": "markdown",
   "metadata": {},
   "source": [
    "# K-means & Hierarchial Clustering Gene Expression Way"
   ]
  },
  {
   "cell_type": "code",
   "execution_count": null,
   "metadata": {},
   "outputs": [],
   "source": [
    "import pandas as pd\n",
    "import numpy as np\n",
    "df=pd.read_csv('gene_exp.csv')\n",
    "df=df.drop(['Unnamed: 0','X1','X2','bar_name'],axis=1)\n",
    "df2=pd.DataFrame()\n",
    "df2=df.groupby(['x','y','UMI_Count']).agg('gene_name').apply(lambda x:\" \".join(list(set(x)))).reset_index()\n",
    "df3=pd.read_csv('link_to_img.csv')\n",
    "df6=df3.iloc[46:]\n",
    "df7=df6.iloc[:-345]\n",
    "df11 = pd.merge(df, df7, on=['x','y'], how='inner')\n",
    "df11=df11.drop(columns=['Unnamed: 0'])\n",
    "df12=pd.pivot_table(df11, values='UMI_Count', index=['Sno'],columns=['gene_name'], aggfunc=np.sum)\n",
    "df13=df12.fillna(0)\n",
    "#df13.drop([col for col, val in df13.sum().iteritems() if val < 20000], axis=1, inplace=True)\n",
    "#df13.to_csv('Pivot_gene.csv')\n",
    "df13.shape"
   ]
  },
  {
   "cell_type": "code",
   "execution_count": null,
   "metadata": {},
   "outputs": [],
   "source": [
    "df13.reset_index(level=0, inplace=True)\n",
    "df13.head()"
   ]
  },
  {
   "cell_type": "code",
   "execution_count": null,
   "metadata": {},
   "outputs": [],
   "source": [
    "X=df13.iloc[:,1:].values\n",
    "from sklearn.decomposition import PCA\n",
    "pca = PCA(.99)\n",
    "#pca = PCA(n_components=1000)\n",
    "principalC= pca.fit_transform(X)\n",
    "X = pd.DataFrame(data = principalC)"
   ]
  },
  {
   "cell_type": "code",
   "execution_count": null,
   "metadata": {},
   "outputs": [],
   "source": [
    "dendrogram = sch.dendrogram(sch.linkage(X, method = 'ward'))\n",
    "plt.title('Dendrogram')\n",
    "plt.xlabel('Customers')\n",
    "plt.ylabel('Euclidean distances')\n",
    "plt.show()"
   ]
  },
  {
   "cell_type": "code",
   "execution_count": null,
   "metadata": {},
   "outputs": [],
   "source": [
    "wcss = []\n",
    "for i in range(1, 15):\n",
    "    kmeans = KMeans(n_clusters = i, init = 'k-means++', random_state = 42)\n",
    "    kmeans.fit(X)\n",
    "    wcss.append(kmeans.inertia_)\n",
    "plt.plot(range(1, 15), wcss)\n",
    "plt.title('The Elbow Method')\n",
    "plt.xlabel('Number of clusters')\n",
    "plt.ylabel('WCSS')\n",
    "plt.show()"
   ]
  },
  {
   "cell_type": "code",
   "execution_count": null,
   "metadata": {},
   "outputs": [],
   "source": [
    "from sklearn.cluster import AgglomerativeClustering\n",
    "hc = AgglomerativeClustering(n_clusters = 14, affinity = 'euclidean', linkage = 'ward')\n",
    "y_hc = hc.fit_predict(X)\n",
    "X = np.array(X)\n",
    "'''\n",
    "plt.scatter(X[y_hc == 0, 0], X[y_hc == 0, 1], s = 100, c = 'red', label = 'Cluster 1')\n",
    "plt.scatter(X[y_hc == 1, 0], X[y_hc == 1, 1], s = 100, c = 'blue', label = 'Cluster 2')\n",
    "plt.scatter(X[y_hc == 2, 0], X[y_hc == 2, 1], s = 100, c = 'green', label = 'Cluster 3')\n",
    "#plt.scatter(X[y_hc == 3, 0], X[y_hc == 3, 1], s = 100, c = 'cyan', label = 'Cluster 4')\n",
    "\n",
    "plt.legend()\n",
    "plt.show()'''"
   ]
  },
  {
   "cell_type": "code",
   "execution_count": null,
   "metadata": {},
   "outputs": [],
   "source": [
    "# Visualising the clusters\n",
    "kmeans = KMeans(n_clusters = 14, init = 'k-means++', random_state = 42)\n",
    "y_hc = kmeans.fit_predict(X)\n",
    "'''plt.scatter(X[y_kmeans == 0, 0], X[y_kmeans == 0, 1], s = 100, c = 'red', label = 'Cluster 1')\n",
    "plt.scatter(X[y_kmeans == 1, 0], X[y_kmeans == 1, 1], s = 100, c = 'blue', label = 'Cluster 2')\n",
    "plt.scatter(X[y_kmeans == 2, 0], X[y_kmeans == 2, 1], s = 100, c = 'green', label = 'Cluster 3')\n",
    "plt.scatter(X[y_kmeans == 3, 0], X[y_kmeans == 3, 1], s = 100, c = 'cyan', label = 'Cluster 4')\n",
    "\n",
    "plt.legend()\n",
    "plt.show()'''"
   ]
  },
  {
   "cell_type": "markdown",
   "metadata": {},
   "source": [
    "# Coloured Bar Histogram"
   ]
  },
  {
   "cell_type": "code",
   "execution_count": null,
   "metadata": {},
   "outputs": [],
   "source": [
    "image = cv2.imread('D:/onkar/Projects/Project_Spt.Transcriptomics/Input_files/V1_Breast_Cancer_Block_A_Section_1_image.tif')\n",
    "image = cv2.cvtColor(image, cv2.COLOR_BGR2RGB)\n",
    "# show our image\n",
    "#plt.figure()\n",
    "#plt.axis(\"off\")\n",
    "#plt.imshow(image)"
   ]
  },
  {
   "cell_type": "code",
   "execution_count": null,
   "metadata": {},
   "outputs": [],
   "source": [
    "#img = cv2.imread('D:/onkar/Projects/Project_Spt.Transcriptomics/Input_files/V1_Breast_Cancer_Block_A_Section_1_image.tif',0)\n",
    "hist = cv2.calcHist([image],[0],None,[256],[0,256])\n",
    "plt.plot(hist) \n",
    "plt.show() "
   ]
  },
  {
   "cell_type": "code",
   "execution_count": null,
   "metadata": {},
   "outputs": [],
   "source": [
    "image = image.reshape(24240*24240, 3)\n",
    "clt = KMeans(n_clusters = 2)\n",
    "clt.fit(image)"
   ]
  },
  {
   "cell_type": "code",
   "execution_count": null,
   "metadata": {},
   "outputs": [],
   "source": [
    "\n",
    "def centroid_histogram(clt):\n",
    "    # grab the number of different clusters and create a histogram\n",
    "    # based on the number of pixels assigned to each cluster\n",
    "    numLabels = np.arange(0, len(np.unique(clt.labels_)) + 1)\n",
    "    (hist, _) = np.histogram(clt.labels_, bins = numLabels)\n",
    "    # normalize the histogram, such that it sums to one\n",
    "    hist = hist.astype(\"float\")\n",
    "    hist /= hist.sum()\n",
    "    # return the histogram\n",
    "    return hist\n",
    "def plot_colors(hist, centroids):\n",
    "    # initialize the bar chart representing the relative frequency\n",
    "    # of each of the colors\n",
    "    bar = np.zeros((50, 300, 3), dtype = \"uint8\")\n",
    "    startX = 0\n",
    "    # loop over the percentage of each cluster and the color of\n",
    "    # each cluster\n",
    "    for (percent, color) in zip(hist, centroids):\n",
    "        # plot the relative percentage of each cluster\n",
    "        endX = startX + (percent * 300)\n",
    "        cv2.rectangle(bar, (int(startX), 0), (int(endX), 50),color.astype(\"uint8\").tolist(), -1)\n",
    "        startX = endX\n",
    "\n",
    "    # return the bar chart\n",
    "    return bar"
   ]
  },
  {
   "cell_type": "code",
   "execution_count": null,
   "metadata": {},
   "outputs": [],
   "source": [
    "hist = utils.centroid_histogram(clt)\n",
    "bar = utils.plot_colors(hist, clt.cluster_centers_)\n",
    "# show our color bart\n",
    "plt.figure()\n",
    "plt.axis(\"off\")\n",
    "plt.imshow(bar)\n",
    "plt.show()"
   ]
  },
  {
   "cell_type": "markdown",
   "metadata": {},
   "source": [
    "# Rasterio Clustering - 1 In-Image"
   ]
  },
  {
   "cell_type": "code",
   "execution_count": null,
   "metadata": {},
   "outputs": [],
   "source": [
    "elhas_raster = rio.open(\"D:/onkar/Projects/Project_Spt.Transcriptomics/Input_files/final_equ_img.jpg\")\n",
    "print(elhas_raster.meta)"
   ]
  },
  {
   "cell_type": "code",
   "execution_count": null,
   "metadata": {},
   "outputs": [],
   "source": [
    "elhas_arr = elhas_raster.read() # read the opened image\n",
    "vmin, vmax = np.nanpercentile(elhas_arr, (5,95))  # 5-95% contrast stretch\n",
    "# show the enhanced image\n",
    "plt.figure(figsize=[20,20])\n",
    "show(elhas_raster, cmap='gray', vmin=vmin, vmax=vmax)\n",
    "plt.show()"
   ]
  },
  {
   "cell_type": "code",
   "execution_count": null,
   "metadata": {},
   "outputs": [],
   "source": [
    "imgxyb = np.empty((elhas_raster.height, elhas_raster.width, elhas_raster.count), elhas_raster.meta['dtype'])\n",
    "# loop through the raster's bands to fill the empty array\n",
    "for band in range(imgxyb.shape[2]):\n",
    "    imgxyb[:,:,band] = elhas_raster.read(band+1)\n",
    "img1d=imgxyb[:,:,:3].reshape((imgxyb.shape[0]*imgxyb.shape[1],imgxyb.shape[2]))"
   ]
  },
  {
   "cell_type": "code",
   "execution_count": null,
   "metadata": {},
   "outputs": [],
   "source": [
    "cl = cluster.KMeans(n_clusters=2) # create an object of the classifier\n",
    "param = cl.fit(img1d) # train it\n",
    "img_cl = cl.labels_ # get the labels of the classes\n",
    "img_cl = img_cl.reshape(imgxyb[:,:,0].shape) # reshape labels to a 3d array (one band only)"
   ]
  },
  {
   "cell_type": "code",
   "execution_count": null,
   "metadata": {},
   "outputs": [],
   "source": [
    "# Create a custom color map to represent our different 4 classes\n",
    "cmap = mc.LinearSegmentedColormap.from_list(\"\", [\"black\",\"red\",\"green\",\"yellow\"])\n",
    "# Show the resulting array and save it as jpg image\n",
    "plt.figure(figsize=[20,20])\n",
    "plt.imshow(img_cl, cmap=cmap)\n",
    "plt.axis('off')\n",
    "plt.savefig(\"elhas_clustered.jpg\", bbox_inches='tight')\n",
    "plt.show()"
   ]
  },
  {
   "cell_type": "markdown",
   "metadata": {},
   "source": [
    "# Transfer Learning + K-Means Clustering into Folders"
   ]
  },
  {
   "cell_type": "code",
   "execution_count": null,
   "metadata": {},
   "outputs": [],
   "source": [
    "input_dir = 'Trainimg_breast'\n",
    "glob_dir = input_dir + '/*.tif'\n",
    "images = [cv2.resize(cv2.imread(file), (140,140)) for file in glob.glob(glob_dir)]\n",
    "paths = [file for file in glob.glob(glob_dir)]\n",
    "images = np.array(np.float32(images).reshape(len(images), -1)/255)"
   ]
  },
  {
   "cell_type": "code",
   "execution_count": null,
   "metadata": {},
   "outputs": [],
   "source": [
    "model = tf.keras.applications.MobileNetV2(include_top=False,\n",
    "weights='imagenet', input_shape=(140,140, 3))\n",
    "predictions = model.predict(images.reshape(-1, 140,140, 3))\n",
    "pred_images = predictions.reshape(images.shape[0], -1)"
   ]
  },
  {
   "cell_type": "code",
   "execution_count": null,
   "metadata": {},
   "outputs": [],
   "source": [
    "k = 3\n",
    "kmodel = KMeans(n_clusters = k, n_jobs=-1, random_state=728)\n",
    "kmodel.fit(pred_images)\n",
    "kpredictions = kmodel.predict(pred_images)\n",
    "shutil.rmtree('output3')\n",
    "for i in range(k):\n",
    "    os.makedirs(\"output3\\cluster\" + str(i))\n",
    "for i in range(len(paths)):\n",
    "    shutil.copy2(paths[i], \"output3\\cluster\"+str(kpredictions[i]))"
   ]
  },
  {
   "cell_type": "code",
   "execution_count": null,
   "metadata": {},
   "outputs": [],
   "source": [
    "sil = []\n",
    "kl = []\n",
    "kmax = 10\n",
    "for k in range(2, kmax+1):\n",
    "    kmeans2 = KMeans(n_clusters = k).fit(pred_images)\n",
    "    labels = kmeans2.labels_\n",
    "    sil.append(silhouette_score(pred_images, labels, metric =  'euclidean'))\n",
    "    kl.append(k)"
   ]
  },
  {
   "cell_type": "code",
   "execution_count": null,
   "metadata": {},
   "outputs": [],
   "source": [
    "plt.plot(kl, sil)\n",
    "plt.ylabel('Silhoutte Score')\n",
    "plt.ylabel('K')\n",
    "plt.show()"
   ]
  },
  {
   "cell_type": "code",
   "execution_count": null,
   "metadata": {},
   "outputs": [],
   "source": [
    "model = tf.keras.applications.InceptionResNetV2(include_top=False,input_shape=(140,140, 3))\n",
    "predictions = model.predict(images.reshape(-1, 140,140, 3))\n",
    "pred_images = predictions.reshape(images.shape[0], -1)"
   ]
  },
  {
   "cell_type": "markdown",
   "metadata": {},
   "source": [
    "# CLustering- In Image/ Image Processing "
   ]
  },
  {
   "cell_type": "code",
   "execution_count": null,
   "metadata": {},
   "outputs": [],
   "source": [
    "# Read in the image \n",
    "image = cv2.imread(\"D:/onkar/Projects/Project_Spt.Transcriptomics/Input_files/V1_Breast_Cancer_Block_A_Section_1_image.tif\") \n",
    "  \n",
    "# Change color to RGB (from BGR) \n",
    "image = cv2.cvtColor(image, cv2.COLOR_BGR2RGB) \n",
    "plt.imshow(image)"
   ]
  },
  {
   "cell_type": "code",
   "execution_count": null,
   "metadata": {},
   "outputs": [],
   "source": [
    "#b = image[:,:,0]\n",
    "#g = image[:,:,1]\n",
    "#r = image[:,:,2]\n",
    "for i, col in enumerate(['b', 'g', 'r']):\n",
    "    hist = cv2.calcHist([image], [i], None, [256], [100, 256])\n",
    "    plt.plot(hist, color = col)\n",
    "    plt.xlim([0, 256])\n",
    "plt.show()\n",
    "#plt.imshow(image, cmap='gray')"
   ]
  },
  {
   "cell_type": "code",
   "execution_count": null,
   "metadata": {},
   "outputs": [],
   "source": [
    "gray_img = cv2.cvtColor(image, cv2.COLOR_BGR2GRAY)\n",
    "plt.imshow(gray_img)"
   ]
  },
  {
   "cell_type": "code",
   "execution_count": null,
   "metadata": {},
   "outputs": [],
   "source": [
    "# Split into channels\n",
    "blue, green, red = cv2.split(image)\n",
    "\n",
    "# Calculate histogram of each channel\n",
    "hist_blue = cv2.calcHist([blue], [0], None, [256], [0, 256])\n",
    "hist_green = cv2.calcHist([green], [0], None, [256], [0, 256])\n",
    "hist_red = cv2.calcHist([red], [0], None, [256], [0, 256])\n",
    "\n",
    "# Calculate the CDF for each histogram channel\n",
    "cdf_blue = hist_blue.cumsum()\n",
    "cdf_green = hist_green.cumsum()\n",
    "cdf_red = hist_red.cumsum()\n",
    "\n",
    "# Mask null values \n",
    "cdf_blue_masked = np.ma.masked_equal(cdf_blue, 0)\n",
    "cdf_green_masked = np.ma.masked_equal(cdf_green, 0)\n",
    "cdf_red_masked = np.ma.masked_equal(cdf_red, 0)\n",
    "\n",
    "# Apply Equalization Formula to all none masked values: (y - ymin)*255 / (ymax - ymin)\n",
    "cdf_blue_masked = (cdf_blue_masked - cdf_blue_masked.min())*255 / (cdf_blue_masked.max() - cdf_blue_masked.min())\n",
    "cdf_green_masked = (cdf_green_masked - cdf_green_masked.min())*255 / (cdf_green_masked.max() - cdf_green_masked.min())\n",
    "cdf_red_masked = (cdf_red_masked - cdf_red_masked.min())*255 / (cdf_red_masked.max() - cdf_red_masked.min())\n",
    "\n",
    "cdf_final_b = np.ma.filled(cdf_blue_masked, 0).astype('uint8')\n",
    "cdf_final_g = np.ma.filled(cdf_green_masked, 0).astype('uint8')\n",
    "cdf_final_r = np.ma.filled(cdf_red_masked, 0).astype('uint8')\n",
    "\n",
    "# Merge all channels:\n",
    "blue_img = cdf_final_b[blue]\n",
    "green_img = cdf_final_g[green]\n",
    "red_img = cdf_final_r[red]\n",
    "\n",
    "# Final output, equalized image obtained from merging the respective channels \n",
    "final_equ_img = cv2.merge((blue_img, green_img, red_img))\n",
    "plt.imshow(final_equ_img)"
   ]
  },
  {
   "cell_type": "code",
   "execution_count": null,
   "metadata": {},
   "outputs": [],
   "source": [
    "xp = [0, 64, 128, 192, 255]\n",
    "fp = [0, 16, 128, 240, 255]\n",
    "x = np.arange(256)\n",
    "table = np.interp(x, xp, fp).astype('uint8')\n",
    "img = cv2.LUT(final_equ_img, table)\n",
    "plt.imshow(img)"
   ]
  },
  {
   "cell_type": "code",
   "execution_count": null,
   "metadata": {},
   "outputs": [],
   "source": [
    "#for gamma in [0.1, 0.5, 1.2, 2.2]:  \n",
    "gamma_corrected = np.array(255*(final_equ_img / 255) ** 1.0 , dtype = 'uint8') \n",
    "plt.imshow(gamma_corrected)"
   ]
  },
  {
   "cell_type": "code",
   "execution_count": null,
   "metadata": {},
   "outputs": [],
   "source": [
    "histr = cv2.calcHist([img],[0],None,[256],[0,256]) \n",
    "plt.plot(histr)"
   ]
  },
  {
   "cell_type": "code",
   "execution_count": null,
   "metadata": {},
   "outputs": [],
   "source": [
    "cv2.imwrite('final_equ_img.jpg', final_equ_img) "
   ]
  },
  {
   "cell_type": "code",
   "execution_count": null,
   "metadata": {},
   "outputs": [],
   "source": [
    "Spot_vals.head()"
   ]
  }
 ],
 "metadata": {
  "kernelspec": {
   "display_name": "Python 3",
   "language": "python",
   "name": "python3"
  },
  "language_info": {
   "codemirror_mode": {
    "name": "ipython",
    "version": 3
   },
   "file_extension": ".py",
   "mimetype": "text/x-python",
   "name": "python",
   "nbconvert_exporter": "python",
   "pygments_lexer": "ipython3",
   "version": "3.8.5"
  }
 },
 "nbformat": 4,
 "nbformat_minor": 4
}
