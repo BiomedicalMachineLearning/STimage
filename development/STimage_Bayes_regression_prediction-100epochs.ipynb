{
 "cells": [
  {
   "cell_type": "markdown",
   "id": "4d9f76ce",
   "metadata": {},
   "source": [
    "## Prediction\n",
    "Upload models in sequence, append their predictions in sequence, and then evaluate required results\n",
    "\n",
    "1. [done] Deterministic write pipeline for producing df w [mean, std, actual]\n",
    "2. [done] Train ensemble\n",
    "3. [done] Bayesian write pipeline for producing df w [epistemic, aleatoric, total_uncertainty, expectation, variance, actual]\n",
    "4. Produce plot showing the selective prediction w uncertainty thresholding\n",
    "5. Produce plot showing histology slide with companion aleatoric, epistemic, and total\n",
    "\n",
    "RE 4. and 5. : \"Outputs would include <br>\n",
    "    a. revised uncertainty thresholding curves (i.e. , selective prediction), and <br>\n",
    "    b. a few histopathology slides visualised, whereby each slide is shown 4 views: (1) RBG image, (2) mean estimate for each spot, (3) aleatoric uncertainty, (4) epistemic uncertainty\"\n",
    "\n",
    "Note that the quality of calculating the two separate components of uncertainty is contingent on the assumption that gene expressions are distributed following the negative binomial likelihood. \n",
    "\n",
    "Point I am unsure of: \n",
    "I understand it that the expectation of the posterior predictive will be closer to the true mean, regardless of whether the likelihood is or is not actually NB. However, I am not certain about this point since I have only read vague commentary about it. It would be nice to know and word this point properly, since if it is true, I think it is an appealing property of Bayesian inference. \n",
    "\n",
    "Enjoy the weekend"
   ]
  },
  {
   "cell_type": "code",
   "execution_count": 2,
   "id": "d67985c4",
   "metadata": {},
   "outputs": [],
   "source": [
    "from pathlib import Path\n",
    "from anndata import read_h5ad\n",
    "import sys\n",
    "import scanpy\n",
    "import os\n",
    "import matplotlib.pyplot as plt\n",
    "\n",
    "import numpy as np\n",
    "import pandas as pd\n",
    "from scipy.stats import nbinom, pearsonr\n",
    "\n",
    "import tensorflow as tf\n",
    "from tensorflow.keras import backend as K\n",
    "from tensorflow.keras.models import load_model\n",
    "# stimage custom \n",
    "file = Path(\"../stimage\").resolve() # path to src code\n",
    "parent = file.parent\n",
    "sys.path.append(str(parent))\n",
    "\n",
    "from tqdm import tqdm\n",
    "\n",
    "from stimage._utils import gene_plot, Read10X, ReadOldST, tiling\n",
    "from stimage._model import CNN_NB_multiple_genes, negative_binomial_layer, negative_binomial_loss\n",
    "from stimage._data_generator import DataGenerator\n",
    "\n",
    "import pickle"
   ]
  },
  {
   "cell_type": "code",
   "execution_count": 3,
   "id": "430b6e36",
   "metadata": {},
   "outputs": [],
   "source": [
    "import seaborn as sns\n",
    "sns.set_theme(style=\"whitegrid\")"
   ]
  },
  {
   "cell_type": "markdown",
   "id": "7286ecec",
   "metadata": {},
   "source": [
    "## Constants"
   ]
  },
  {
   "cell_type": "code",
   "execution_count": 4,
   "id": "8907a4f7",
   "metadata": {},
   "outputs": [],
   "source": [
    "DATA_PATH = Path(\"/scratch/smp/uqsmac12/dataset_breast_cancer_9visium\")\n",
    "\n",
    "OUT_PATH = Path(\"/scratch/smp/uqsmac12/results\")\n",
    "\n",
    "OUT_PATH.mkdir(parents=True, exist_ok=True)"
   ]
  },
  {
   "cell_type": "code",
   "execution_count": 5,
   "id": "8391eb60",
   "metadata": {
    "scrolled": false
   },
   "outputs": [],
   "source": [
    "gene_list=[\"COX6C\",\"TTLL12\", \"PABPC1\", \"GNAS\", \"HSP90AB1\", \"TFF3\", \"ATP1A1\", \"B2M\", \"FASN\", \"SPARC\", \"CD74\", \"CD63\", \"CD24\", \"CD81\"]"
   ]
  },
  {
   "cell_type": "markdown",
   "id": "60d8da62",
   "metadata": {},
   "source": [
    "## Data loader"
   ]
  },
  {
   "cell_type": "code",
   "execution_count": 5,
   "id": "7307edfb",
   "metadata": {
    "scrolled": true
   },
   "outputs": [
    {
     "data": {
      "text/plain": [
       "True"
      ]
     },
     "execution_count": 5,
     "metadata": {},
     "output_type": "execute_result"
    }
   ],
   "source": [
    "(DATA_PATH / \"all_adata.h5ad\").exists()"
   ]
  },
  {
   "cell_type": "code",
   "execution_count": 6,
   "id": "2626e4fc",
   "metadata": {},
   "outputs": [],
   "source": [
    "adata_all = read_h5ad(DATA_PATH / \"all_adata.h5ad\")"
   ]
  },
  {
   "cell_type": "markdown",
   "id": "5b2c6aa5",
   "metadata": {},
   "source": [
    "The annadata object `adata_all` contains STexpression readings for each spot (represented in a spotXexpression matrix). The bellow script accesses cell attribute information and updates the path."
   ]
  },
  {
   "cell_type": "code",
   "execution_count": 7,
   "id": "e60dd2df",
   "metadata": {},
   "outputs": [],
   "source": [
    "# update metadata for annadata such that it maps to the correct location\n",
    "adata_all.obs[\"tile_path\"] = adata_all.obs.tile_path.map(\n",
    "    lambda x: x.replace(\"/clusterdata/uqxtan9/Xiao/breast_cancer_9visium\",\n",
    "                        \"/scratch/smp/uqsmac12/dataset_breast_cancer_9visium\"))"
   ]
  },
  {
   "cell_type": "code",
   "execution_count": 8,
   "id": "69337828",
   "metadata": {},
   "outputs": [
    {
     "data": {
      "text/plain": [
       "'/scratch/smp/uqsmac12/dataset_breast_cancer_9visium/tiles/1142243F-12601-4511-299.jpeg'"
      ]
     },
     "execution_count": 8,
     "metadata": {},
     "output_type": "execute_result"
    }
   ],
   "source": [
    "adata_all.obs[\"tile_path\"][0]"
   ]
  },
  {
   "cell_type": "code",
   "execution_count": 9,
   "id": "96f1aeb1",
   "metadata": {},
   "outputs": [],
   "source": [
    "# remove FFPE and 1160920F --- the test set\n",
    "adata_all_train_valid = adata_all[adata_all.obs[\"library_id\"].isin(\n",
    "    adata_all.obs.library_id.cat.remove_categories([\"FFPE\", \"1160920F\"]).unique())]"
   ]
  },
  {
   "cell_type": "code",
   "execution_count": 10,
   "id": "5b9f30ad",
   "metadata": {},
   "outputs": [],
   "source": [
    "n_genes = len(gene_list)\n",
    "\n",
    "training_index = adata_all_train_valid.obs.sample(frac=0.7, random_state=1).index\n",
    "training_dataset = adata_all_train_valid[training_index,].copy()\n",
    "\n",
    "valid_index = adata_all_train_valid.obs.index.isin(training_index)\n",
    "valid_dataset = adata_all_train_valid[~valid_index,].copy()\n",
    "\n",
    "test_index = adata_all.obs.library_id == \"FFPE\"\n",
    "test_dataset_1 = adata_all[test_index,].copy()\n",
    "\n",
    "test_index = adata_all.obs.library_id == \"1160920F\"\n",
    "test_dataset_2 = adata_all[test_index,].copy()"
   ]
  },
  {
   "cell_type": "code",
   "execution_count": 11,
   "id": "f625d923",
   "metadata": {},
   "outputs": [],
   "source": [
    "train_gen = tf.data.Dataset.from_generator(\n",
    "            lambda: DataGenerator(adata=training_dataset, \n",
    "                          genes=gene_list, aug=False),\n",
    "            output_types=(tf.float32, tuple([tf.float32]*n_genes)), \n",
    "            output_shapes=([299,299,3], tuple([1]*n_genes))\n",
    ")\n",
    "train_gen_ = train_gen.shuffle(buffer_size=500).batch(128).repeat(3).cache().prefetch(tf.data.experimental.AUTOTUNE)\n",
    "valid_gen = tf.data.Dataset.from_generator(\n",
    "            lambda: DataGenerator(adata=valid_dataset, \n",
    "                          genes=gene_list), \n",
    "            output_types=(tf.float32, tuple([tf.float32]*n_genes)), \n",
    "            output_shapes=([299,299,3], tuple([1]*n_genes))\n",
    ")\n",
    "valid_gen_ = valid_gen.shuffle(buffer_size=500).batch(128).repeat(3).cache().prefetch(tf.data.experimental.AUTOTUNE)\n",
    "test_gen_1 = tf.data.Dataset.from_generator(\n",
    "            lambda:DataGenerator(adata=test_dataset_1, \n",
    "                          genes=gene_list), \n",
    "            output_types=(tf.float32, tuple([tf.float32]*n_genes)), \n",
    "            output_shapes=([299,299,3], tuple([1]*n_genes))\n",
    ")\n",
    "test_gen__1 = test_gen_1.batch(1)\n",
    "test_gen_2 = tf.data.Dataset.from_generator(\n",
    "            lambda: DataGenerator(adata=test_dataset_2, \n",
    "                          genes=gene_list), \n",
    "            output_types=(tf.float32, tuple([tf.float32]*n_genes)), \n",
    "            output_shapes=([299,299,3], tuple([1]*n_genes))\n",
    ")\n",
    "test_gen__2 = test_gen_2.batch(1)"
   ]
  },
  {
   "cell_type": "code",
   "execution_count": 49,
   "id": "cd80c2d6",
   "metadata": {},
   "outputs": [
    {
     "data": {
      "text/plain": [
       "TensorShape([1, 299, 299, 3])"
      ]
     },
     "execution_count": 49,
     "metadata": {},
     "output_type": "execute_result"
    }
   ],
   "source": [
    "x.shape"
   ]
  },
  {
   "cell_type": "markdown",
   "id": "9936a516",
   "metadata": {},
   "source": [
    "## Get results from ensembles"
   ]
  },
  {
   "cell_type": "code",
   "execution_count": 6,
   "id": "a17ecdf6",
   "metadata": {},
   "outputs": [],
   "source": [
    "def get_samples_stats_geneid(np_preds, list_genes, k=1):\n",
    "    \"\"\"\n",
    "    \"\"\"\n",
    "    # mean and var functions of k...\n",
    "    nb_mean = lambda n, p, k: n*(1-p*k)/(p*k)\n",
    "    nb_var = lambda n, p, k: n*(1-p*k)/(p*p*k*k)\n",
    "    \n",
    "    res = []\n",
    "    for gene_idx, gene_name in enumerate(list_genes):\n",
    "        \n",
    "        # predicted NB params \n",
    "        n, p = np_preds[gene_idx][:,0], np_preds[gene_idx][:,1]\n",
    "        # mean (with p corrected by k factor)\n",
    "        mu = nb_mean(n, p, k)\n",
    "        # var (with p corrected by k factor)\n",
    "        var = nb_var(n, p, k)\n",
    "        \n",
    "        res.append(np.stack([n, p, mu, var], axis=1))\n",
    "        \n",
    "    return np.stack(res, axis=2)"
   ]
  },
  {
   "cell_type": "code",
   "execution_count": null,
   "id": "50aa4c57",
   "metadata": {},
   "outputs": [],
   "source": []
  },
  {
   "cell_type": "code",
   "execution_count": null,
   "id": "91a85a3e",
   "metadata": {},
   "outputs": [
    {
     "name": "stderr",
     "output_type": "stream",
     "text": [
      "\r",
      "  0%|          | 0/11 [00:00<?, ?it/s]"
     ]
    },
    {
     "name": "stdout",
     "output_type": "stream",
     "text": [
      "Ensemble id 0\n",
      "loaded\n",
      "got preds1\n"
     ]
    }
   ],
   "source": [
    "ensemble_results1 = []\n",
    "ensemble_results2 = []\n",
    "\n",
    "for e_id in tqdm(range(11)):\n",
    "    e_id # += 1\n",
    "    print(f\"Ensemble id {e_id}\")\n",
    "    # load model\n",
    "    model = None\n",
    "    file_model = str(OUT_PATH / f'resnet50_{e_id}-rev1.h5')\n",
    "    model = load_model(file_model, \n",
    "                       custom_objects={\n",
    "                           'negative_binomial_loss': negative_binomial_loss,\n",
    "                       }\n",
    "                      )\n",
    "    print(\"loaded\")\n",
    "    # get predictions \n",
    "    pred_test_1 = model.predict(test_gen__1)\n",
    "    print(\"got preds1\")\n",
    "    pred_test_2 = model.predict(test_gen__2)\n",
    "    print(\"got preds2\")\n",
    "    # append results \n",
    "    ensemble_results1.append(get_samples_stats_geneid(pred_test_1, gene_list))\n",
    "    ensemble_results2.append(get_samples_stats_geneid(pred_test_2, gene_list))\n",
    "    print(\"appended results\")\n",
    "    \n",
    "ensemble_results1 = np.stack(ensemble_results1, axis=3)\n",
    "ensemble_results2 = np.stack(ensemble_results2, axis=3)"
   ]
  },
  {
   "cell_type": "markdown",
   "id": "5c978ed2",
   "metadata": {},
   "source": [
    "### Save results"
   ]
  },
  {
   "cell_type": "code",
   "execution_count": 19,
   "id": "77410917",
   "metadata": {},
   "outputs": [],
   "source": [
    "# save out results\n",
    "with open(str(OUT_PATH / 'ensemble_results_1-rev1.pkl'), 'wb') as file:\n",
    "    pickle.dump(ensemble_results1, file)\n",
    "    \n",
    "with open(str(OUT_PATH / 'ensemble_results_2-rev1.pkl'), 'wb') as file:\n",
    "    pickle.dump(ensemble_results2, file)"
   ]
  },
  {
   "cell_type": "markdown",
   "id": "c1babfec",
   "metadata": {},
   "source": [
    "### Save ground truth"
   ]
  },
  {
   "cell_type": "raw",
   "id": "e64c30cf",
   "metadata": {},
   "source": [
    "# ground truth / target information\n",
    "df_target_1 = test_dataset_1.to_df().loc[:, gene_list]\n",
    "df_target_2 = test_dataset_2.to_df().loc[:, gene_list]"
   ]
  },
  {
   "cell_type": "raw",
   "id": "786c22fe",
   "metadata": {},
   "source": [
    "with open(str(OUT_PATH / 'df_target_1.pkl'), 'wb') as file:\n",
    "    pickle.dump(df_target_1, file)\n",
    "\n",
    "with open(str(OUT_PATH / 'df_target_2.pkl'), 'wb') as file:\n",
    "    pickle.dump(df_target_2, file)"
   ]
  },
  {
   "cell_type": "markdown",
   "id": "0effe698",
   "metadata": {},
   "source": [
    "### Load results"
   ]
  },
  {
   "cell_type": "code",
   "execution_count": 7,
   "id": "f4410f1a",
   "metadata": {},
   "outputs": [],
   "source": [
    "with open(str(OUT_PATH / 'ensemble_results_1-rev1.pkl'), 'rb') as f:\n",
    "    ensemble_results1 = pickle.load(f)\n",
    "\n",
    "with open(str(OUT_PATH / 'ensemble_results_2-rev1.pkl'), 'rb') as f:\n",
    "    ensemble_results2 = pickle.load(f)"
   ]
  },
  {
   "cell_type": "markdown",
   "id": "56ef77c0",
   "metadata": {},
   "source": [
    "### Load ground truth"
   ]
  },
  {
   "cell_type": "code",
   "execution_count": 8,
   "id": "a2c9db39",
   "metadata": {},
   "outputs": [],
   "source": [
    "with open(str(OUT_PATH / 'df_target_1.pkl'), 'rb') as f:\n",
    "    df_target_1 = pickle.load(f)\n",
    "\n",
    "with open(str(OUT_PATH / 'df_target_2.pkl'), 'rb') as f:\n",
    "    df_target_2 = pickle.load(f)"
   ]
  },
  {
   "cell_type": "markdown",
   "id": "9f98071d",
   "metadata": {},
   "source": [
    "## understanding `ensemble_results{e_id}`"
   ]
  },
  {
   "cell_type": "markdown",
   "id": "f7c8a2c1",
   "metadata": {},
   "source": [
    "`ensemble_results1` is a np array with 4 axes: `(samples, [n, p, mu, var], genes, simulations)`"
   ]
  },
  {
   "cell_type": "code",
   "execution_count": 22,
   "id": "d7bf86a5",
   "metadata": {},
   "outputs": [
    {
     "data": {
      "text/plain": [
       "(2338, 4, 14, 11)"
      ]
     },
     "execution_count": 22,
     "metadata": {},
     "output_type": "execute_result"
    }
   ],
   "source": [
    "ensemble_results1.shape"
   ]
  },
  {
   "cell_type": "markdown",
   "id": "226e2743",
   "metadata": {},
   "source": [
    "# Obtain uncertainty components\n",
    "First we need to estimate $\\mu_{\\theta}(X) = \\mathbb{E}[X|\\theta]= r(1-p)/p$, as well as $\\sigma^2_{\\theta}(X) = \\mathbb{V}[X|\\theta]=r(1-p)/p^2$."
   ]
  },
  {
   "cell_type": "raw",
   "id": "9656dc2f",
   "metadata": {},
   "source": [
    "def get_nb_stats_with_correction(ens_res, min_k=.5, max_k=1.5):\n",
    "    nb_mean = lambda n, p, k: n*(1-p*k)/(p*k)\n",
    "    nb_var = lambda n, p, k: n*(1-p*k)/(p*p*k*k)\n",
    "    \n",
    "    dict_res_k = {}\n",
    "    \n",
    "    # n, p have shape (samples, genes, sims)\n",
    "    n_, p_ = ens_res[:, 0, :, :], ens_res[:, 1, :, :]\n",
    "    \n",
    "    for k in np.arange(min_k, max_k, .01):\n",
    "        k = round(k,2)\n",
    "        \n",
    "        mean_k = nb_mean(n_, p_, k)\n",
    "        var_k = nb_var(n_, p_, k)\n",
    "        \n",
    "        dict_res_k[k] = np.stack([n_, p_, mean_k, var_k], axis=1)\n",
    "        \n",
    "    return dict_res_k"
   ]
  },
  {
   "cell_type": "raw",
   "id": "2c6b628d",
   "metadata": {},
   "source": [
    "min_k = 0.5\n",
    "max_k = 1.5\n",
    "\n",
    "dict_res_k_1 = get_nb_stats_with_correction(ensemble_results1, min_k=.5, max_k=1.5)\n",
    "dict_res_k_2 = get_nb_stats_with_correction(ensemble_results2, min_k=.5, max_k=1.5)"
   ]
  },
  {
   "cell_type": "raw",
   "id": "78087595",
   "metadata": {},
   "source": [
    "dict_res_k_1[1].shape"
   ]
  },
  {
   "cell_type": "markdown",
   "id": "a48c9762",
   "metadata": {},
   "source": [
    "we have the mean and variance of multiple simulations and for multiple correction factors values k... lets test risk shedding for one single k first and then determine the best for all k."
   ]
  },
  {
   "cell_type": "markdown",
   "id": "50db3425",
   "metadata": {},
   "source": [
    "$\\mathbb{V}(X) = \\mathbb{E}[{\\mathbb{V}(X|\\theta)}] + \\mathbb{V}[{\\mathbb{E}(X|\\theta)}]$"
   ]
  },
  {
   "cell_type": "code",
   "execution_count": 9,
   "id": "c12ef9e3",
   "metadata": {},
   "outputs": [
    {
     "data": {
      "text/plain": [
       "(2338, 4, 14, 11)"
      ]
     },
     "execution_count": 9,
     "metadata": {},
     "output_type": "execute_result"
    }
   ],
   "source": [
    "ensemble_results1.shape"
   ]
  },
  {
   "cell_type": "code",
   "execution_count": 11,
   "id": "55aaf0ce",
   "metadata": {},
   "outputs": [],
   "source": [
    "def get_uncertainty_components(ens_res):\n",
    "    \"\"\"\n",
    "    \"\"\"\n",
    "    n = ens_res[:, 0, :, :].mean(axis=-1)\n",
    "    p = ens_res[:, 1, :, :].mean(axis=-1)\n",
    "    \n",
    "    # get E[E[X|f]], E[V[X|f]]\n",
    "    mean = ens_res[:,-2:,:,:].mean(axis=-1)\n",
    "    \n",
    "    # get V[E[X|f]], V[V[X|f]]\n",
    "    var = ens_res[:,-2:,:,:].var(axis=-1)\n",
    "    \n",
    "    # stack n, p, E(mean), V(mean), E(var), total\n",
    "    res = np.stack([n, p, mean[:,0,:], var[:,0,:], mean[:,1,:], var[:,0,:] + mean[:,1,:]], axis=1)\n",
    "    \n",
    "    return res"
   ]
  },
  {
   "cell_type": "raw",
   "id": "1c184614",
   "metadata": {},
   "source": [
    "np_total_var1 = get_uncertainty_components(dict_res_k_1[1])\n",
    "np_total_var2 = get_uncertainty_components(dict_res_k_2[1])"
   ]
  },
  {
   "cell_type": "code",
   "execution_count": 12,
   "id": "330a29a8",
   "metadata": {},
   "outputs": [],
   "source": [
    "np_total_var1 = get_uncertainty_components(ensemble_results1)\n",
    "np_total_var2 = get_uncertainty_components(ensemble_results2)"
   ]
  },
  {
   "cell_type": "code",
   "execution_count": null,
   "id": "d2e9195e",
   "metadata": {},
   "outputs": [],
   "source": []
  },
  {
   "cell_type": "code",
   "execution_count": 73,
   "id": "f7a32468",
   "metadata": {},
   "outputs": [],
   "source": [
    "# np_total_var = np_total_var1.copy()\n",
    "# df_target_all_genes = df_target_1.copy()\n",
    "\n",
    "def stack_results(np_total_var, df_target_all_genes):\n",
    "\n",
    "    list_dfs = []\n",
    "    \n",
    "    for i, g in enumerate(gene_list):\n",
    "        df_res_temp = pd.DataFrame(\n",
    "            np_total_var[:,:,i], \n",
    "            columns=['n', 'p', 'estimate', 'epistemic_uncertainty', 'aleatoric_uncertainty', 'total_uncertainty'])\n",
    "        # add target data\n",
    "        df_target_temp = df_target_all_genes[g].reset_index()\n",
    "        df_target_temp.columns = ['index', 'target']\n",
    "\n",
    "        cols_ = list(df_res_temp.columns) + list(df_target_temp.columns)\n",
    "        df_res_temp = pd.concat([df_res_temp, df_target_temp], axis=1, ignore_index=True)\n",
    "        df_res_temp.columns = cols_\n",
    "        df_res_temp.set_index('index', inplace=True)\n",
    "        # add gene name\n",
    "        df_res_temp['gene_name'] = g\n",
    "        # append result\n",
    "        list_dfs.append(df_res_temp)\n",
    "    \n",
    "    return pd.concat(list_dfs, axis=0)"
   ]
  },
  {
   "cell_type": "code",
   "execution_count": 74,
   "id": "9fd32a2a",
   "metadata": {},
   "outputs": [],
   "source": [
    "df_res1 = stack_results(np_total_var=np_total_var1, df_target_all_genes=df_target_1)\n",
    "df_res2 = stack_results(np_total_var=np_total_var2, df_target_all_genes=df_target_2)"
   ]
  },
  {
   "cell_type": "code",
   "execution_count": 83,
   "id": "d01a623d",
   "metadata": {},
   "outputs": [],
   "source": [
    "df_res1.to_csv(str(OUT_PATH / 'ens_results-ffpe-rev2.csv'))\n",
    "df_res2.to_csv(str(OUT_PATH / 'ens_results-1160920F-rev2.csv'))"
   ]
  },
  {
   "cell_type": "code",
   "execution_count": 78,
   "id": "1f590816",
   "metadata": {},
   "outputs": [],
   "source": [
    "df_res1 = pd.read_csv(str(OUT_PATH / 'ens_results-ffpe-rev2.csv'), index_col=0)\n",
    "df_res2 = pd.read_csv(str(OUT_PATH / 'ens_results-1160920F-rev2.csv'), index_col=0)"
   ]
  },
  {
   "cell_type": "code",
   "execution_count": 85,
   "id": "d2e3c632",
   "metadata": {},
   "outputs": [
    {
     "data": {
      "text/html": [
       "<div>\n",
       "<style scoped>\n",
       "    .dataframe tbody tr th:only-of-type {\n",
       "        vertical-align: middle;\n",
       "    }\n",
       "\n",
       "    .dataframe tbody tr th {\n",
       "        vertical-align: top;\n",
       "    }\n",
       "\n",
       "    .dataframe thead th {\n",
       "        text-align: right;\n",
       "    }\n",
       "</style>\n",
       "<table border=\"1\" class=\"dataframe\">\n",
       "  <thead>\n",
       "    <tr style=\"text-align: right;\">\n",
       "      <th></th>\n",
       "      <th>n</th>\n",
       "      <th>p</th>\n",
       "      <th>estimate</th>\n",
       "      <th>epistemic_uncertainty</th>\n",
       "      <th>aleatoric_uncertainty</th>\n",
       "      <th>total_uncertainty</th>\n",
       "      <th>target</th>\n",
       "      <th>gene_name</th>\n",
       "    </tr>\n",
       "    <tr>\n",
       "      <th>index</th>\n",
       "      <th></th>\n",
       "      <th></th>\n",
       "      <th></th>\n",
       "      <th></th>\n",
       "      <th></th>\n",
       "      <th></th>\n",
       "      <th></th>\n",
       "      <th></th>\n",
       "    </tr>\n",
       "  </thead>\n",
       "  <tbody>\n",
       "    <tr>\n",
       "      <th>AAACAAGTATCTCCCA-1-FFPE</th>\n",
       "      <td>68.022150</td>\n",
       "      <td>0.955732</td>\n",
       "      <td>3.157081</td>\n",
       "      <td>0.190603</td>\n",
       "      <td>3.305968</td>\n",
       "      <td>3.496571</td>\n",
       "      <td>2.944439</td>\n",
       "      <td>COX6C</td>\n",
       "    </tr>\n",
       "    <tr>\n",
       "      <th>AAACACCAATAACTGC-1-FFPE</th>\n",
       "      <td>50.969517</td>\n",
       "      <td>0.935787</td>\n",
       "      <td>3.493685</td>\n",
       "      <td>0.102785</td>\n",
       "      <td>3.735849</td>\n",
       "      <td>3.838634</td>\n",
       "      <td>1.098612</td>\n",
       "      <td>COX6C</td>\n",
       "    </tr>\n",
       "    <tr>\n",
       "      <th>AAACAGAGCGACTCCT-1-FFPE</th>\n",
       "      <td>63.437500</td>\n",
       "      <td>0.944742</td>\n",
       "      <td>3.717044</td>\n",
       "      <td>0.445012</td>\n",
       "      <td>3.941640</td>\n",
       "      <td>4.386652</td>\n",
       "      <td>2.079442</td>\n",
       "      <td>COX6C</td>\n",
       "    </tr>\n",
       "    <tr>\n",
       "      <th>AAACAGCTTTCAGAAG-1-FFPE</th>\n",
       "      <td>50.010986</td>\n",
       "      <td>0.917057</td>\n",
       "      <td>4.518036</td>\n",
       "      <td>0.063192</td>\n",
       "      <td>4.928509</td>\n",
       "      <td>4.991701</td>\n",
       "      <td>1.098612</td>\n",
       "      <td>COX6C</td>\n",
       "    </tr>\n",
       "    <tr>\n",
       "      <th>AAACAGGGTCTATATT-1-FFPE</th>\n",
       "      <td>56.169567</td>\n",
       "      <td>0.948815</td>\n",
       "      <td>3.030791</td>\n",
       "      <td>0.103657</td>\n",
       "      <td>3.196149</td>\n",
       "      <td>3.299807</td>\n",
       "      <td>0.693147</td>\n",
       "      <td>COX6C</td>\n",
       "    </tr>\n",
       "  </tbody>\n",
       "</table>\n",
       "</div>"
      ],
      "text/plain": [
       "                                 n         p  estimate  epistemic_uncertainty  \\\n",
       "index                                                                           \n",
       "AAACAAGTATCTCCCA-1-FFPE  68.022150  0.955732  3.157081               0.190603   \n",
       "AAACACCAATAACTGC-1-FFPE  50.969517  0.935787  3.493685               0.102785   \n",
       "AAACAGAGCGACTCCT-1-FFPE  63.437500  0.944742  3.717044               0.445012   \n",
       "AAACAGCTTTCAGAAG-1-FFPE  50.010986  0.917057  4.518036               0.063192   \n",
       "AAACAGGGTCTATATT-1-FFPE  56.169567  0.948815  3.030791               0.103657   \n",
       "\n",
       "                         aleatoric_uncertainty  total_uncertainty    target  \\\n",
       "index                                                                         \n",
       "AAACAAGTATCTCCCA-1-FFPE               3.305968           3.496571  2.944439   \n",
       "AAACACCAATAACTGC-1-FFPE               3.735849           3.838634  1.098612   \n",
       "AAACAGAGCGACTCCT-1-FFPE               3.941640           4.386652  2.079442   \n",
       "AAACAGCTTTCAGAAG-1-FFPE               4.928509           4.991701  1.098612   \n",
       "AAACAGGGTCTATATT-1-FFPE               3.196149           3.299807  0.693147   \n",
       "\n",
       "                        gene_name  \n",
       "index                              \n",
       "AAACAAGTATCTCCCA-1-FFPE     COX6C  \n",
       "AAACACCAATAACTGC-1-FFPE     COX6C  \n",
       "AAACAGAGCGACTCCT-1-FFPE     COX6C  \n",
       "AAACAGCTTTCAGAAG-1-FFPE     COX6C  \n",
       "AAACAGGGTCTATATT-1-FFPE     COX6C  "
      ]
     },
     "execution_count": 85,
     "metadata": {},
     "output_type": "execute_result"
    }
   ],
   "source": [
    "df_res1.head()"
   ]
  },
  {
   "cell_type": "code",
   "execution_count": 82,
   "id": "db42bbd4",
   "metadata": {},
   "outputs": [
    {
     "data": {
      "text/plain": [
       "[]"
      ]
     },
     "execution_count": 82,
     "metadata": {},
     "output_type": "execute_result"
    },
    {
     "data": {
      "image/png": "[encoded data removed]",
      "text/plain": [
       "<Figure size 432x288 with 1 Axes>"
      ]
     },
     "metadata": {},
     "output_type": "display_data"
    }
   ],
   "source": [
    "df_corr1 = df_res1.groupby('gene_name').apply(lambda x: pearsonr(x['estimate'], x['target'])[0])\n",
    "df_corr1.plot.hist(bins=5)\n",
    "plt.plot()"
   ]
  },
  {
   "cell_type": "code",
   "execution_count": 84,
   "id": "53f481d9",
   "metadata": {},
   "outputs": [
    {
     "data": {
      "text/plain": [
       "[]"
      ]
     },
     "execution_count": 84,
     "metadata": {},
     "output_type": "execute_result"
    },
    {
     "data": {
      "image/png": "[encoded data removed]",
      "text/plain": [
       "<Figure size 432x288 with 1 Axes>"
      ]
     },
     "metadata": {},
     "output_type": "display_data"
    }
   ],
   "source": [
    "df_corr2 = df_res2.groupby('gene_name').apply(lambda x: pearsonr(x['estimate'], x['target'])[0])\n",
    "df_corr2.plot.hist(bins=5)\n",
    "plt.plot()"
   ]
  },
  {
   "cell_type": "code",
   "execution_count": 65,
   "id": "c9dcd434",
   "metadata": {},
   "outputs": [
    {
     "data": {
      "text/html": [
       "<div>\n",
       "<style scoped>\n",
       "    .dataframe tbody tr th:only-of-type {\n",
       "        vertical-align: middle;\n",
       "    }\n",
       "\n",
       "    .dataframe tbody tr th {\n",
       "        vertical-align: top;\n",
       "    }\n",
       "\n",
       "    .dataframe thead th {\n",
       "        text-align: right;\n",
       "    }\n",
       "</style>\n",
       "<table border=\"1\" class=\"dataframe\">\n",
       "  <thead>\n",
       "    <tr style=\"text-align: right;\">\n",
       "      <th></th>\n",
       "      <th>index</th>\n",
       "      <th>target</th>\n",
       "    </tr>\n",
       "  </thead>\n",
       "  <tbody>\n",
       "    <tr>\n",
       "      <th>0</th>\n",
       "      <td>AAACAAGTATCTCCCA-1-FFPE</td>\n",
       "      <td>2.944439</td>\n",
       "    </tr>\n",
       "    <tr>\n",
       "      <th>1</th>\n",
       "      <td>AAACACCAATAACTGC-1-FFPE</td>\n",
       "      <td>1.098612</td>\n",
       "    </tr>\n",
       "    <tr>\n",
       "      <th>2</th>\n",
       "      <td>AAACAGAGCGACTCCT-1-FFPE</td>\n",
       "      <td>2.079442</td>\n",
       "    </tr>\n",
       "    <tr>\n",
       "      <th>3</th>\n",
       "      <td>AAACAGCTTTCAGAAG-1-FFPE</td>\n",
       "      <td>1.098612</td>\n",
       "    </tr>\n",
       "    <tr>\n",
       "      <th>4</th>\n",
       "      <td>AAACAGGGTCTATATT-1-FFPE</td>\n",
       "      <td>0.693147</td>\n",
       "    </tr>\n",
       "  </tbody>\n",
       "</table>\n",
       "</div>"
      ],
      "text/plain": [
       "                     index    target\n",
       "0  AAACAAGTATCTCCCA-1-FFPE  2.944439\n",
       "1  AAACACCAATAACTGC-1-FFPE  1.098612\n",
       "2  AAACAGAGCGACTCCT-1-FFPE  2.079442\n",
       "3  AAACAGCTTTCAGAAG-1-FFPE  1.098612\n",
       "4  AAACAGGGTCTATATT-1-FFPE  0.693147"
      ]
     },
     "execution_count": 65,
     "metadata": {},
     "output_type": "execute_result"
    }
   ],
   "source": [
    "df_target_temp.head()"
   ]
  },
  {
   "cell_type": "code",
   "execution_count": 67,
   "id": "b76eaed7",
   "metadata": {},
   "outputs": [
    {
     "data": {
      "text/plain": [
       "['n',\n",
       " 'p',\n",
       " 'estimate',\n",
       " 'epistemic_uncertainty',\n",
       " 'aleatoric_uncertainty',\n",
       " 'total_uncertainty',\n",
       " 'index',\n",
       " 'target']"
      ]
     },
     "execution_count": 67,
     "metadata": {},
     "output_type": "execute_result"
    }
   ],
   "source": [
    "cols_"
   ]
  },
  {
   "cell_type": "code",
   "execution_count": 66,
   "id": "3adc9d9a",
   "metadata": {},
   "outputs": [
    {
     "data": {
      "text/plain": [
       "Index(['index', 'target'], dtype='object')"
      ]
     },
     "execution_count": 66,
     "metadata": {},
     "output_type": "execute_result"
    }
   ],
   "source": [
    "df_target_temp.columns"
   ]
  },
  {
   "cell_type": "code",
   "execution_count": 62,
   "id": "72cce848",
   "metadata": {},
   "outputs": [
    {
     "data": {
      "text/html": [
       "<div>\n",
       "<style scoped>\n",
       "    .dataframe tbody tr th:only-of-type {\n",
       "        vertical-align: middle;\n",
       "    }\n",
       "\n",
       "    .dataframe tbody tr th {\n",
       "        vertical-align: top;\n",
       "    }\n",
       "\n",
       "    .dataframe thead th {\n",
       "        text-align: right;\n",
       "    }\n",
       "</style>\n",
       "<table border=\"1\" class=\"dataframe\">\n",
       "  <thead>\n",
       "    <tr style=\"text-align: right;\">\n",
       "      <th></th>\n",
       "      <th>index</th>\n",
       "      <th>COX6C</th>\n",
       "    </tr>\n",
       "  </thead>\n",
       "  <tbody>\n",
       "    <tr>\n",
       "      <th>0</th>\n",
       "      <td>AAACAAGTATCTCCCA-1-FFPE</td>\n",
       "      <td>2.944439</td>\n",
       "    </tr>\n",
       "    <tr>\n",
       "      <th>1</th>\n",
       "      <td>AAACACCAATAACTGC-1-FFPE</td>\n",
       "      <td>1.098612</td>\n",
       "    </tr>\n",
       "    <tr>\n",
       "      <th>2</th>\n",
       "      <td>AAACAGAGCGACTCCT-1-FFPE</td>\n",
       "      <td>2.079442</td>\n",
       "    </tr>\n",
       "    <tr>\n",
       "      <th>3</th>\n",
       "      <td>AAACAGCTTTCAGAAG-1-FFPE</td>\n",
       "      <td>1.098612</td>\n",
       "    </tr>\n",
       "    <tr>\n",
       "      <th>4</th>\n",
       "      <td>AAACAGGGTCTATATT-1-FFPE</td>\n",
       "      <td>0.693147</td>\n",
       "    </tr>\n",
       "  </tbody>\n",
       "</table>\n",
       "</div>"
      ],
      "text/plain": [
       "                     index     COX6C\n",
       "0  AAACAAGTATCTCCCA-1-FFPE  2.944439\n",
       "1  AAACACCAATAACTGC-1-FFPE  1.098612\n",
       "2  AAACAGAGCGACTCCT-1-FFPE  2.079442\n",
       "3  AAACAGCTTTCAGAAG-1-FFPE  1.098612\n",
       "4  AAACAGGGTCTATATT-1-FFPE  0.693147"
      ]
     },
     "execution_count": 62,
     "metadata": {},
     "output_type": "execute_result"
    }
   ],
   "source": [
    "df_target_temp = df_target_all_genes[g].reset_index()\n",
    "df_target_temp.head()"
   ]
  },
  {
   "cell_type": "code",
   "execution_count": 56,
   "id": "cceced3f",
   "metadata": {},
   "outputs": [
    {
     "ename": "KeyError",
     "evalue": "\"None of ['index'] are in the columns\"",
     "output_type": "error",
     "traceback": [
      "\u001b[0;31m---------------------------------------------------------------------------\u001b[0m",
      "\u001b[0;31mKeyError\u001b[0m                                  Traceback (most recent call last)",
      "\u001b[0;32m<ipython-input-56-ffd99d4d13f2>\u001b[0m in \u001b[0;36m<module>\u001b[0;34m\u001b[0m\n\u001b[1;32m      8\u001b[0m     \u001b[0mcols1_\u001b[0m \u001b[0;34m=\u001b[0m \u001b[0mlist\u001b[0m\u001b[0;34m(\u001b[0m\u001b[0mdf_res_temp1\u001b[0m\u001b[0;34m.\u001b[0m\u001b[0mcolumns\u001b[0m\u001b[0;34m)\u001b[0m \u001b[0;34m+\u001b[0m \u001b[0mlist\u001b[0m\u001b[0;34m(\u001b[0m\u001b[0mdf_target_temp\u001b[0m\u001b[0;34m.\u001b[0m\u001b[0mcolumns\u001b[0m\u001b[0;34m)\u001b[0m\u001b[0;34m\u001b[0m\u001b[0;34m\u001b[0m\u001b[0m\n\u001b[1;32m      9\u001b[0m     \u001b[0mdf_res_temp1\u001b[0m \u001b[0;34m=\u001b[0m \u001b[0mpd\u001b[0m\u001b[0;34m.\u001b[0m\u001b[0mconcat\u001b[0m\u001b[0;34m(\u001b[0m\u001b[0;34m[\u001b[0m\u001b[0mdf_res_temp1\u001b[0m\u001b[0;34m,\u001b[0m \u001b[0mdf_target_1\u001b[0m\u001b[0;34m[\u001b[0m\u001b[0mg\u001b[0m\u001b[0;34m]\u001b[0m\u001b[0;34m.\u001b[0m\u001b[0mreset_index\u001b[0m\u001b[0;34m(\u001b[0m\u001b[0;34m)\u001b[0m\u001b[0;34m]\u001b[0m\u001b[0;34m,\u001b[0m \u001b[0maxis\u001b[0m\u001b[0;34m=\u001b[0m\u001b[0;36m1\u001b[0m\u001b[0;34m,\u001b[0m \u001b[0mignore_index\u001b[0m\u001b[0;34m=\u001b[0m\u001b[0;32mTrue\u001b[0m\u001b[0;34m)\u001b[0m\u001b[0;34m\u001b[0m\u001b[0;34m\u001b[0m\u001b[0m\n\u001b[0;32m---> 10\u001b[0;31m     \u001b[0mdf_res_temp1\u001b[0m\u001b[0;34m.\u001b[0m\u001b[0mset_index\u001b[0m\u001b[0;34m(\u001b[0m\u001b[0;34m'index'\u001b[0m\u001b[0;34m,\u001b[0m \u001b[0minplace\u001b[0m\u001b[0;34m=\u001b[0m\u001b[0;32mTrue\u001b[0m\u001b[0;34m)\u001b[0m\u001b[0;34m\u001b[0m\u001b[0;34m\u001b[0m\u001b[0m\n\u001b[0m\u001b[1;32m     11\u001b[0m     \u001b[0;31m# add gene name\u001b[0m\u001b[0;34m\u001b[0m\u001b[0;34m\u001b[0m\u001b[0;34m\u001b[0m\u001b[0m\n\u001b[1;32m     12\u001b[0m     \u001b[0mdf_res_temp1\u001b[0m\u001b[0;34m[\u001b[0m\u001b[0;34m'gene_name'\u001b[0m\u001b[0;34m]\u001b[0m \u001b[0;34m=\u001b[0m \u001b[0mg\u001b[0m\u001b[0;34m\u001b[0m\u001b[0;34m\u001b[0m\u001b[0m\n",
      "\u001b[0;32m/scratch/smp/uqsmac12/.conda/env/stimage/lib/python3.8/site-packages/pandas/util/_decorators.py\u001b[0m in \u001b[0;36mwrapper\u001b[0;34m(*args, **kwargs)\u001b[0m\n\u001b[1;32m    309\u001b[0m                     \u001b[0mstacklevel\u001b[0m\u001b[0;34m=\u001b[0m\u001b[0mstacklevel\u001b[0m\u001b[0;34m,\u001b[0m\u001b[0;34m\u001b[0m\u001b[0;34m\u001b[0m\u001b[0m\n\u001b[1;32m    310\u001b[0m                 )\n\u001b[0;32m--> 311\u001b[0;31m             \u001b[0;32mreturn\u001b[0m \u001b[0mfunc\u001b[0m\u001b[0;34m(\u001b[0m\u001b[0;34m*\u001b[0m\u001b[0margs\u001b[0m\u001b[0;34m,\u001b[0m \u001b[0;34m**\u001b[0m\u001b[0mkwargs\u001b[0m\u001b[0;34m)\u001b[0m\u001b[0;34m\u001b[0m\u001b[0;34m\u001b[0m\u001b[0m\n\u001b[0m\u001b[1;32m    312\u001b[0m \u001b[0;34m\u001b[0m\u001b[0m\n\u001b[1;32m    313\u001b[0m         \u001b[0;32mreturn\u001b[0m \u001b[0mwrapper\u001b[0m\u001b[0;34m\u001b[0m\u001b[0;34m\u001b[0m\u001b[0m\n",
      "\u001b[0;32m/scratch/smp/uqsmac12/.conda/env/stimage/lib/python3.8/site-packages/pandas/core/frame.py\u001b[0m in \u001b[0;36mset_index\u001b[0;34m(self, keys, drop, append, inplace, verify_integrity)\u001b[0m\n\u001b[1;32m   5444\u001b[0m \u001b[0;34m\u001b[0m\u001b[0m\n\u001b[1;32m   5445\u001b[0m         \u001b[0;32mif\u001b[0m \u001b[0mmissing\u001b[0m\u001b[0;34m:\u001b[0m\u001b[0;34m\u001b[0m\u001b[0;34m\u001b[0m\u001b[0m\n\u001b[0;32m-> 5446\u001b[0;31m             \u001b[0;32mraise\u001b[0m \u001b[0mKeyError\u001b[0m\u001b[0;34m(\u001b[0m\u001b[0;34mf\"None of {missing} are in the columns\"\u001b[0m\u001b[0;34m)\u001b[0m\u001b[0;34m\u001b[0m\u001b[0;34m\u001b[0m\u001b[0m\n\u001b[0m\u001b[1;32m   5447\u001b[0m \u001b[0;34m\u001b[0m\u001b[0m\n\u001b[1;32m   5448\u001b[0m         \u001b[0;32mif\u001b[0m \u001b[0minplace\u001b[0m\u001b[0;34m:\u001b[0m\u001b[0;34m\u001b[0m\u001b[0;34m\u001b[0m\u001b[0m\n",
      "\u001b[0;31mKeyError\u001b[0m: \"None of ['index'] are in the columns\""
     ]
    }
   ],
   "source": [
    "    df_res_temp2 = pd.DataFrame(\n",
    "        np_total_var2[:,:,i],\n",
    "        columns=['n', 'p', 'estimate', 'epistemic_uncertainty', 'aleatoric_uncertainty', 'total_uncertainty']\n",
    "    )\n",
    "    # add target data\n",
    "    cols1_ = list(df_res_temp2.columns) + list(df_target_temp.columns)\n",
    "    df_res_temp2 = pd.concat([df_res_temp2, df_target_2[g].reset_index()], axis=1, ignore_index=True)\n",
    "    df_res_temp2.set_index('index', inplace=True)\n",
    "    # add gene name\n",
    "    df_res_temp2['gene_name'] = g\n",
    "    # append result\n",
    "    list_dfs2.append(df_res_temp2)\n",
    "\n",
    "# df_res1 = pd.concat(list_dfs1)\n",
    "# df_res2 = pd.concat(list_dfs2)"
   ]
  },
  {
   "cell_type": "code",
   "execution_count": 42,
   "id": "6e37a7db",
   "metadata": {},
   "outputs": [],
   "source": [
    "df_target_temp = df_target_1[g].reset_index()\n",
    "df_target_temp.columns = ['index', 'target']"
   ]
  },
  {
   "cell_type": "code",
   "execution_count": null,
   "id": "c4b0a799",
   "metadata": {},
   "outputs": [],
   "source": [
    "df_ = pd.concat([df_res_temp1, df_target_temp], axis=1, ignore_index=True)"
   ]
  },
  {
   "cell_type": "code",
   "execution_count": 50,
   "id": "e3b4b319",
   "metadata": {},
   "outputs": [],
   "source": [
    "df_.columns = list(df_res_temp1.columns) + list(df_target_temp.columns)"
   ]
  },
  {
   "cell_type": "code",
   "execution_count": 54,
   "id": "7cf09821",
   "metadata": {},
   "outputs": [
    {
     "data": {
      "text/html": [
       "<div>\n",
       "<style scoped>\n",
       "    .dataframe tbody tr th:only-of-type {\n",
       "        vertical-align: middle;\n",
       "    }\n",
       "\n",
       "    .dataframe tbody tr th {\n",
       "        vertical-align: top;\n",
       "    }\n",
       "\n",
       "    .dataframe thead th {\n",
       "        text-align: right;\n",
       "    }\n",
       "</style>\n",
       "<table border=\"1\" class=\"dataframe\">\n",
       "  <thead>\n",
       "    <tr style=\"text-align: right;\">\n",
       "      <th></th>\n",
       "      <th>n</th>\n",
       "      <th>p</th>\n",
       "      <th>estimate</th>\n",
       "      <th>epistemic_uncertainty</th>\n",
       "      <th>aleatoric_uncertainty</th>\n",
       "      <th>total_uncertainty</th>\n",
       "      <th>gene_name</th>\n",
       "      <th>target</th>\n",
       "    </tr>\n",
       "    <tr>\n",
       "      <th>index</th>\n",
       "      <th></th>\n",
       "      <th></th>\n",
       "      <th></th>\n",
       "      <th></th>\n",
       "      <th></th>\n",
       "      <th></th>\n",
       "      <th></th>\n",
       "      <th></th>\n",
       "    </tr>\n",
       "  </thead>\n",
       "  <tbody>\n",
       "    <tr>\n",
       "      <th>AAACAAGTATCTCCCA-1-FFPE</th>\n",
       "      <td>68.022148</td>\n",
       "      <td>0.955732</td>\n",
       "      <td>3.157081</td>\n",
       "      <td>0.190603</td>\n",
       "      <td>3.305968</td>\n",
       "      <td>3.496571</td>\n",
       "      <td>COX6C</td>\n",
       "      <td>2.944439</td>\n",
       "    </tr>\n",
       "    <tr>\n",
       "      <th>AAACACCAATAACTGC-1-FFPE</th>\n",
       "      <td>50.969517</td>\n",
       "      <td>0.935787</td>\n",
       "      <td>3.493685</td>\n",
       "      <td>0.102785</td>\n",
       "      <td>3.735849</td>\n",
       "      <td>3.838634</td>\n",
       "      <td>COX6C</td>\n",
       "      <td>1.098612</td>\n",
       "    </tr>\n",
       "    <tr>\n",
       "      <th>AAACAGAGCGACTCCT-1-FFPE</th>\n",
       "      <td>63.437500</td>\n",
       "      <td>0.944742</td>\n",
       "      <td>3.717044</td>\n",
       "      <td>0.445012</td>\n",
       "      <td>3.941640</td>\n",
       "      <td>4.386652</td>\n",
       "      <td>COX6C</td>\n",
       "      <td>2.079442</td>\n",
       "    </tr>\n",
       "    <tr>\n",
       "      <th>AAACAGCTTTCAGAAG-1-FFPE</th>\n",
       "      <td>50.010986</td>\n",
       "      <td>0.917057</td>\n",
       "      <td>4.518036</td>\n",
       "      <td>0.063192</td>\n",
       "      <td>4.928509</td>\n",
       "      <td>4.991701</td>\n",
       "      <td>COX6C</td>\n",
       "      <td>1.098612</td>\n",
       "    </tr>\n",
       "    <tr>\n",
       "      <th>AAACAGGGTCTATATT-1-FFPE</th>\n",
       "      <td>56.169567</td>\n",
       "      <td>0.948815</td>\n",
       "      <td>3.030791</td>\n",
       "      <td>0.103657</td>\n",
       "      <td>3.196149</td>\n",
       "      <td>3.299807</td>\n",
       "      <td>COX6C</td>\n",
       "      <td>0.693147</td>\n",
       "    </tr>\n",
       "    <tr>\n",
       "      <th>...</th>\n",
       "      <td>...</td>\n",
       "      <td>...</td>\n",
       "      <td>...</td>\n",
       "      <td>...</td>\n",
       "      <td>...</td>\n",
       "      <td>...</td>\n",
       "      <td>...</td>\n",
       "      <td>...</td>\n",
       "    </tr>\n",
       "    <tr>\n",
       "      <th>TTGTTCAGTGTGCTAC-1-FFPE</th>\n",
       "      <td>43.965149</td>\n",
       "      <td>0.906536</td>\n",
       "      <td>4.536594</td>\n",
       "      <td>0.186190</td>\n",
       "      <td>5.008612</td>\n",
       "      <td>5.194802</td>\n",
       "      <td>COX6C</td>\n",
       "      <td>1.945910</td>\n",
       "    </tr>\n",
       "    <tr>\n",
       "      <th>TTGTTGTGTGTCAAGA-1-FFPE</th>\n",
       "      <td>58.251095</td>\n",
       "      <td>0.946763</td>\n",
       "      <td>3.275933</td>\n",
       "      <td>0.119631</td>\n",
       "      <td>3.462245</td>\n",
       "      <td>3.581875</td>\n",
       "      <td>COX6C</td>\n",
       "      <td>1.945910</td>\n",
       "    </tr>\n",
       "    <tr>\n",
       "      <th>TTGTTTCACATCCAGG-1-FFPE</th>\n",
       "      <td>46.814674</td>\n",
       "      <td>0.925026</td>\n",
       "      <td>3.799981</td>\n",
       "      <td>0.222935</td>\n",
       "      <td>4.112468</td>\n",
       "      <td>4.335403</td>\n",
       "      <td>COX6C</td>\n",
       "      <td>1.098612</td>\n",
       "    </tr>\n",
       "    <tr>\n",
       "      <th>TTGTTTCATTAGTCTA-1-FFPE</th>\n",
       "      <td>49.421951</td>\n",
       "      <td>0.923468</td>\n",
       "      <td>4.099104</td>\n",
       "      <td>0.305809</td>\n",
       "      <td>4.445463</td>\n",
       "      <td>4.751272</td>\n",
       "      <td>COX6C</td>\n",
       "      <td>2.397895</td>\n",
       "    </tr>\n",
       "    <tr>\n",
       "      <th>TTGTTTCCATACAACT-1-FFPE</th>\n",
       "      <td>52.672363</td>\n",
       "      <td>0.957317</td>\n",
       "      <td>2.349408</td>\n",
       "      <td>0.053261</td>\n",
       "      <td>2.455128</td>\n",
       "      <td>2.508389</td>\n",
       "      <td>COX6C</td>\n",
       "      <td>1.098612</td>\n",
       "    </tr>\n",
       "  </tbody>\n",
       "</table>\n",
       "<p>2338 rows × 8 columns</p>\n",
       "</div>"
      ],
      "text/plain": [
       "                                 n         p  estimate  epistemic_uncertainty  \\\n",
       "index                                                                           \n",
       "AAACAAGTATCTCCCA-1-FFPE  68.022148  0.955732  3.157081               0.190603   \n",
       "AAACACCAATAACTGC-1-FFPE  50.969517  0.935787  3.493685               0.102785   \n",
       "AAACAGAGCGACTCCT-1-FFPE  63.437500  0.944742  3.717044               0.445012   \n",
       "AAACAGCTTTCAGAAG-1-FFPE  50.010986  0.917057  4.518036               0.063192   \n",
       "AAACAGGGTCTATATT-1-FFPE  56.169567  0.948815  3.030791               0.103657   \n",
       "...                            ...       ...       ...                    ...   \n",
       "TTGTTCAGTGTGCTAC-1-FFPE  43.965149  0.906536  4.536594               0.186190   \n",
       "TTGTTGTGTGTCAAGA-1-FFPE  58.251095  0.946763  3.275933               0.119631   \n",
       "TTGTTTCACATCCAGG-1-FFPE  46.814674  0.925026  3.799981               0.222935   \n",
       "TTGTTTCATTAGTCTA-1-FFPE  49.421951  0.923468  4.099104               0.305809   \n",
       "TTGTTTCCATACAACT-1-FFPE  52.672363  0.957317  2.349408               0.053261   \n",
       "\n",
       "                         aleatoric_uncertainty  total_uncertainty gene_name  \\\n",
       "index                                                                         \n",
       "AAACAAGTATCTCCCA-1-FFPE               3.305968           3.496571     COX6C   \n",
       "AAACACCAATAACTGC-1-FFPE               3.735849           3.838634     COX6C   \n",
       "AAACAGAGCGACTCCT-1-FFPE               3.941640           4.386652     COX6C   \n",
       "AAACAGCTTTCAGAAG-1-FFPE               4.928509           4.991701     COX6C   \n",
       "AAACAGGGTCTATATT-1-FFPE               3.196149           3.299807     COX6C   \n",
       "...                                        ...                ...       ...   \n",
       "TTGTTCAGTGTGCTAC-1-FFPE               5.008612           5.194802     COX6C   \n",
       "TTGTTGTGTGTCAAGA-1-FFPE               3.462245           3.581875     COX6C   \n",
       "TTGTTTCACATCCAGG-1-FFPE               4.112468           4.335403     COX6C   \n",
       "TTGTTTCATTAGTCTA-1-FFPE               4.445463           4.751272     COX6C   \n",
       "TTGTTTCCATACAACT-1-FFPE               2.455128           2.508389     COX6C   \n",
       "\n",
       "                           target  \n",
       "index                              \n",
       "AAACAAGTATCTCCCA-1-FFPE  2.944439  \n",
       "AAACACCAATAACTGC-1-FFPE  1.098612  \n",
       "AAACAGAGCGACTCCT-1-FFPE  2.079442  \n",
       "AAACAGCTTTCAGAAG-1-FFPE  1.098612  \n",
       "AAACAGGGTCTATATT-1-FFPE  0.693147  \n",
       "...                           ...  \n",
       "TTGTTCAGTGTGCTAC-1-FFPE  1.945910  \n",
       "TTGTTGTGTGTCAAGA-1-FFPE  1.945910  \n",
       "TTGTTTCACATCCAGG-1-FFPE  1.098612  \n",
       "TTGTTTCATTAGTCTA-1-FFPE  2.397895  \n",
       "TTGTTTCCATACAACT-1-FFPE  1.098612  \n",
       "\n",
       "[2338 rows x 8 columns]"
      ]
     },
     "execution_count": 54,
     "metadata": {},
     "output_type": "execute_result"
    }
   ],
   "source": [
    "df_.set_index('index')"
   ]
  },
  {
   "cell_type": "code",
   "execution_count": 40,
   "id": "1be95fe4",
   "metadata": {},
   "outputs": [
    {
     "data": {
      "text/html": [
       "<div>\n",
       "<style scoped>\n",
       "    .dataframe tbody tr th:only-of-type {\n",
       "        vertical-align: middle;\n",
       "    }\n",
       "\n",
       "    .dataframe tbody tr th {\n",
       "        vertical-align: top;\n",
       "    }\n",
       "\n",
       "    .dataframe thead th {\n",
       "        text-align: right;\n",
       "    }\n",
       "</style>\n",
       "<table border=\"1\" class=\"dataframe\">\n",
       "  <thead>\n",
       "    <tr style=\"text-align: right;\">\n",
       "      <th></th>\n",
       "      <th>0</th>\n",
       "      <th>1</th>\n",
       "      <th>2</th>\n",
       "      <th>3</th>\n",
       "      <th>4</th>\n",
       "      <th>5</th>\n",
       "      <th>6</th>\n",
       "      <th>7</th>\n",
       "      <th>8</th>\n",
       "    </tr>\n",
       "  </thead>\n",
       "  <tbody>\n",
       "    <tr>\n",
       "      <th>0</th>\n",
       "      <td>68.022148</td>\n",
       "      <td>0.955732</td>\n",
       "      <td>3.157081</td>\n",
       "      <td>0.190603</td>\n",
       "      <td>3.305968</td>\n",
       "      <td>3.496571</td>\n",
       "      <td>COX6C</td>\n",
       "      <td>AAACAAGTATCTCCCA-1-FFPE</td>\n",
       "      <td>2.944439</td>\n",
       "    </tr>\n",
       "    <tr>\n",
       "      <th>1</th>\n",
       "      <td>50.969517</td>\n",
       "      <td>0.935787</td>\n",
       "      <td>3.493685</td>\n",
       "      <td>0.102785</td>\n",
       "      <td>3.735849</td>\n",
       "      <td>3.838634</td>\n",
       "      <td>COX6C</td>\n",
       "      <td>AAACACCAATAACTGC-1-FFPE</td>\n",
       "      <td>1.098612</td>\n",
       "    </tr>\n",
       "    <tr>\n",
       "      <th>2</th>\n",
       "      <td>63.437500</td>\n",
       "      <td>0.944742</td>\n",
       "      <td>3.717044</td>\n",
       "      <td>0.445012</td>\n",
       "      <td>3.941640</td>\n",
       "      <td>4.386652</td>\n",
       "      <td>COX6C</td>\n",
       "      <td>AAACAGAGCGACTCCT-1-FFPE</td>\n",
       "      <td>2.079442</td>\n",
       "    </tr>\n",
       "    <tr>\n",
       "      <th>3</th>\n",
       "      <td>50.010986</td>\n",
       "      <td>0.917057</td>\n",
       "      <td>4.518036</td>\n",
       "      <td>0.063192</td>\n",
       "      <td>4.928509</td>\n",
       "      <td>4.991701</td>\n",
       "      <td>COX6C</td>\n",
       "      <td>AAACAGCTTTCAGAAG-1-FFPE</td>\n",
       "      <td>1.098612</td>\n",
       "    </tr>\n",
       "    <tr>\n",
       "      <th>4</th>\n",
       "      <td>56.169567</td>\n",
       "      <td>0.948815</td>\n",
       "      <td>3.030791</td>\n",
       "      <td>0.103657</td>\n",
       "      <td>3.196149</td>\n",
       "      <td>3.299807</td>\n",
       "      <td>COX6C</td>\n",
       "      <td>AAACAGGGTCTATATT-1-FFPE</td>\n",
       "      <td>0.693147</td>\n",
       "    </tr>\n",
       "  </tbody>\n",
       "</table>\n",
       "</div>"
      ],
      "text/plain": [
       "           0         1         2         3         4         5      6  \\\n",
       "0  68.022148  0.955732  3.157081  0.190603  3.305968  3.496571  COX6C   \n",
       "1  50.969517  0.935787  3.493685  0.102785  3.735849  3.838634  COX6C   \n",
       "2  63.437500  0.944742  3.717044  0.445012  3.941640  4.386652  COX6C   \n",
       "3  50.010986  0.917057  4.518036  0.063192  4.928509  4.991701  COX6C   \n",
       "4  56.169567  0.948815  3.030791  0.103657  3.196149  3.299807  COX6C   \n",
       "\n",
       "                         7         8  \n",
       "0  AAACAAGTATCTCCCA-1-FFPE  2.944439  \n",
       "1  AAACACCAATAACTGC-1-FFPE  1.098612  \n",
       "2  AAACAGAGCGACTCCT-1-FFPE  2.079442  \n",
       "3  AAACAGCTTTCAGAAG-1-FFPE  1.098612  \n",
       "4  AAACAGGGTCTATATT-1-FFPE  0.693147  "
      ]
     },
     "execution_count": 40,
     "metadata": {},
     "output_type": "execute_result"
    }
   ],
   "source": [
    "df_.head()"
   ]
  },
  {
   "cell_type": "code",
   "execution_count": 37,
   "id": "6a64f1a4",
   "metadata": {},
   "outputs": [
    {
     "data": {
      "text/html": [
       "<div>\n",
       "<style scoped>\n",
       "    .dataframe tbody tr th:only-of-type {\n",
       "        vertical-align: middle;\n",
       "    }\n",
       "\n",
       "    .dataframe tbody tr th {\n",
       "        vertical-align: top;\n",
       "    }\n",
       "\n",
       "    .dataframe thead th {\n",
       "        text-align: right;\n",
       "    }\n",
       "</style>\n",
       "<table border=\"1\" class=\"dataframe\">\n",
       "  <thead>\n",
       "    <tr style=\"text-align: right;\">\n",
       "      <th></th>\n",
       "      <th>0</th>\n",
       "      <th>1</th>\n",
       "      <th>2</th>\n",
       "      <th>3</th>\n",
       "      <th>4</th>\n",
       "      <th>5</th>\n",
       "      <th>6</th>\n",
       "      <th>7</th>\n",
       "      <th>8</th>\n",
       "    </tr>\n",
       "  </thead>\n",
       "  <tbody>\n",
       "    <tr>\n",
       "      <th>0</th>\n",
       "      <td>68.022148</td>\n",
       "      <td>0.955732</td>\n",
       "      <td>3.157081</td>\n",
       "      <td>0.190603</td>\n",
       "      <td>3.305968</td>\n",
       "      <td>3.496571</td>\n",
       "      <td>COX6C</td>\n",
       "      <td>AAACAAGTATCTCCCA-1-FFPE</td>\n",
       "      <td>2.944439</td>\n",
       "    </tr>\n",
       "    <tr>\n",
       "      <th>1</th>\n",
       "      <td>50.969517</td>\n",
       "      <td>0.935787</td>\n",
       "      <td>3.493685</td>\n",
       "      <td>0.102785</td>\n",
       "      <td>3.735849</td>\n",
       "      <td>3.838634</td>\n",
       "      <td>COX6C</td>\n",
       "      <td>AAACACCAATAACTGC-1-FFPE</td>\n",
       "      <td>1.098612</td>\n",
       "    </tr>\n",
       "    <tr>\n",
       "      <th>2</th>\n",
       "      <td>63.437500</td>\n",
       "      <td>0.944742</td>\n",
       "      <td>3.717044</td>\n",
       "      <td>0.445012</td>\n",
       "      <td>3.941640</td>\n",
       "      <td>4.386652</td>\n",
       "      <td>COX6C</td>\n",
       "      <td>AAACAGAGCGACTCCT-1-FFPE</td>\n",
       "      <td>2.079442</td>\n",
       "    </tr>\n",
       "    <tr>\n",
       "      <th>3</th>\n",
       "      <td>50.010986</td>\n",
       "      <td>0.917057</td>\n",
       "      <td>4.518036</td>\n",
       "      <td>0.063192</td>\n",
       "      <td>4.928509</td>\n",
       "      <td>4.991701</td>\n",
       "      <td>COX6C</td>\n",
       "      <td>AAACAGCTTTCAGAAG-1-FFPE</td>\n",
       "      <td>1.098612</td>\n",
       "    </tr>\n",
       "    <tr>\n",
       "      <th>4</th>\n",
       "      <td>56.169567</td>\n",
       "      <td>0.948815</td>\n",
       "      <td>3.030791</td>\n",
       "      <td>0.103657</td>\n",
       "      <td>3.196149</td>\n",
       "      <td>3.299807</td>\n",
       "      <td>COX6C</td>\n",
       "      <td>AAACAGGGTCTATATT-1-FFPE</td>\n",
       "      <td>0.693147</td>\n",
       "    </tr>\n",
       "    <tr>\n",
       "      <th>...</th>\n",
       "      <td>...</td>\n",
       "      <td>...</td>\n",
       "      <td>...</td>\n",
       "      <td>...</td>\n",
       "      <td>...</td>\n",
       "      <td>...</td>\n",
       "      <td>...</td>\n",
       "      <td>...</td>\n",
       "      <td>...</td>\n",
       "    </tr>\n",
       "    <tr>\n",
       "      <th>2333</th>\n",
       "      <td>43.965149</td>\n",
       "      <td>0.906536</td>\n",
       "      <td>4.536594</td>\n",
       "      <td>0.186190</td>\n",
       "      <td>5.008612</td>\n",
       "      <td>5.194802</td>\n",
       "      <td>COX6C</td>\n",
       "      <td>TTGTTCAGTGTGCTAC-1-FFPE</td>\n",
       "      <td>1.945910</td>\n",
       "    </tr>\n",
       "    <tr>\n",
       "      <th>2334</th>\n",
       "      <td>58.251095</td>\n",
       "      <td>0.946763</td>\n",
       "      <td>3.275933</td>\n",
       "      <td>0.119631</td>\n",
       "      <td>3.462245</td>\n",
       "      <td>3.581875</td>\n",
       "      <td>COX6C</td>\n",
       "      <td>TTGTTGTGTGTCAAGA-1-FFPE</td>\n",
       "      <td>1.945910</td>\n",
       "    </tr>\n",
       "    <tr>\n",
       "      <th>2335</th>\n",
       "      <td>46.814674</td>\n",
       "      <td>0.925026</td>\n",
       "      <td>3.799981</td>\n",
       "      <td>0.222935</td>\n",
       "      <td>4.112468</td>\n",
       "      <td>4.335403</td>\n",
       "      <td>COX6C</td>\n",
       "      <td>TTGTTTCACATCCAGG-1-FFPE</td>\n",
       "      <td>1.098612</td>\n",
       "    </tr>\n",
       "    <tr>\n",
       "      <th>2336</th>\n",
       "      <td>49.421951</td>\n",
       "      <td>0.923468</td>\n",
       "      <td>4.099104</td>\n",
       "      <td>0.305809</td>\n",
       "      <td>4.445463</td>\n",
       "      <td>4.751272</td>\n",
       "      <td>COX6C</td>\n",
       "      <td>TTGTTTCATTAGTCTA-1-FFPE</td>\n",
       "      <td>2.397895</td>\n",
       "    </tr>\n",
       "    <tr>\n",
       "      <th>2337</th>\n",
       "      <td>52.672363</td>\n",
       "      <td>0.957317</td>\n",
       "      <td>2.349408</td>\n",
       "      <td>0.053261</td>\n",
       "      <td>2.455128</td>\n",
       "      <td>2.508389</td>\n",
       "      <td>COX6C</td>\n",
       "      <td>TTGTTTCCATACAACT-1-FFPE</td>\n",
       "      <td>1.098612</td>\n",
       "    </tr>\n",
       "  </tbody>\n",
       "</table>\n",
       "<p>2338 rows × 9 columns</p>\n",
       "</div>"
      ],
      "text/plain": [
       "              0         1         2         3         4         5      6  \\\n",
       "0     68.022148  0.955732  3.157081  0.190603  3.305968  3.496571  COX6C   \n",
       "1     50.969517  0.935787  3.493685  0.102785  3.735849  3.838634  COX6C   \n",
       "2     63.437500  0.944742  3.717044  0.445012  3.941640  4.386652  COX6C   \n",
       "3     50.010986  0.917057  4.518036  0.063192  4.928509  4.991701  COX6C   \n",
       "4     56.169567  0.948815  3.030791  0.103657  3.196149  3.299807  COX6C   \n",
       "...         ...       ...       ...       ...       ...       ...    ...   \n",
       "2333  43.965149  0.906536  4.536594  0.186190  5.008612  5.194802  COX6C   \n",
       "2334  58.251095  0.946763  3.275933  0.119631  3.462245  3.581875  COX6C   \n",
       "2335  46.814674  0.925026  3.799981  0.222935  4.112468  4.335403  COX6C   \n",
       "2336  49.421951  0.923468  4.099104  0.305809  4.445463  4.751272  COX6C   \n",
       "2337  52.672363  0.957317  2.349408  0.053261  2.455128  2.508389  COX6C   \n",
       "\n",
       "                            7         8  \n",
       "0     AAACAAGTATCTCCCA-1-FFPE  2.944439  \n",
       "1     AAACACCAATAACTGC-1-FFPE  1.098612  \n",
       "2     AAACAGAGCGACTCCT-1-FFPE  2.079442  \n",
       "3     AAACAGCTTTCAGAAG-1-FFPE  1.098612  \n",
       "4     AAACAGGGTCTATATT-1-FFPE  0.693147  \n",
       "...                       ...       ...  \n",
       "2333  TTGTTCAGTGTGCTAC-1-FFPE  1.945910  \n",
       "2334  TTGTTGTGTGTCAAGA-1-FFPE  1.945910  \n",
       "2335  TTGTTTCACATCCAGG-1-FFPE  1.098612  \n",
       "2336  TTGTTTCATTAGTCTA-1-FFPE  2.397895  \n",
       "2337  TTGTTTCCATACAACT-1-FFPE  1.098612  \n",
       "\n",
       "[2338 rows x 9 columns]"
      ]
     },
     "execution_count": 37,
     "metadata": {},
     "output_type": "execute_result"
    }
   ],
   "source": [
    "df_.reset_index(index=)"
   ]
  },
  {
   "cell_type": "code",
   "execution_count": 21,
   "id": "247fe158",
   "metadata": {},
   "outputs": [
    {
     "data": {
      "text/html": [
       "<div>\n",
       "<style scoped>\n",
       "    .dataframe tbody tr th:only-of-type {\n",
       "        vertical-align: middle;\n",
       "    }\n",
       "\n",
       "    .dataframe tbody tr th {\n",
       "        vertical-align: top;\n",
       "    }\n",
       "\n",
       "    .dataframe thead th {\n",
       "        text-align: right;\n",
       "    }\n",
       "</style>\n",
       "<table border=\"1\" class=\"dataframe\">\n",
       "  <thead>\n",
       "    <tr style=\"text-align: right;\">\n",
       "      <th></th>\n",
       "      <th>COX6C</th>\n",
       "      <th>TTLL12</th>\n",
       "      <th>PABPC1</th>\n",
       "      <th>GNAS</th>\n",
       "      <th>HSP90AB1</th>\n",
       "      <th>TFF3</th>\n",
       "      <th>ATP1A1</th>\n",
       "      <th>B2M</th>\n",
       "      <th>FASN</th>\n",
       "      <th>SPARC</th>\n",
       "      <th>CD74</th>\n",
       "      <th>CD63</th>\n",
       "      <th>CD24</th>\n",
       "      <th>CD81</th>\n",
       "    </tr>\n",
       "  </thead>\n",
       "  <tbody>\n",
       "    <tr>\n",
       "      <th>AAACAAGTATCTCCCA-1-FFPE</th>\n",
       "      <td>2.944439</td>\n",
       "      <td>0.693147</td>\n",
       "      <td>4.890349</td>\n",
       "      <td>2.484907</td>\n",
       "      <td>2.079442</td>\n",
       "      <td>0.000000</td>\n",
       "      <td>2.397895</td>\n",
       "      <td>4.127134</td>\n",
       "      <td>0.000000</td>\n",
       "      <td>1.791759</td>\n",
       "      <td>2.639057</td>\n",
       "      <td>3.367296</td>\n",
       "      <td>3.871201</td>\n",
       "      <td>3.258096</td>\n",
       "    </tr>\n",
       "    <tr>\n",
       "      <th>AAACACCAATAACTGC-1-FFPE</th>\n",
       "      <td>1.098612</td>\n",
       "      <td>0.000000</td>\n",
       "      <td>3.044523</td>\n",
       "      <td>2.079442</td>\n",
       "      <td>1.609438</td>\n",
       "      <td>0.000000</td>\n",
       "      <td>0.693147</td>\n",
       "      <td>3.610918</td>\n",
       "      <td>0.693147</td>\n",
       "      <td>2.302585</td>\n",
       "      <td>3.555348</td>\n",
       "      <td>2.833213</td>\n",
       "      <td>1.386294</td>\n",
       "      <td>1.791759</td>\n",
       "    </tr>\n",
       "    <tr>\n",
       "      <th>AAACAGAGCGACTCCT-1-FFPE</th>\n",
       "      <td>2.079442</td>\n",
       "      <td>1.098612</td>\n",
       "      <td>3.332205</td>\n",
       "      <td>2.639057</td>\n",
       "      <td>1.791759</td>\n",
       "      <td>0.693147</td>\n",
       "      <td>0.693147</td>\n",
       "      <td>4.430817</td>\n",
       "      <td>0.000000</td>\n",
       "      <td>3.637586</td>\n",
       "      <td>2.890372</td>\n",
       "      <td>1.945910</td>\n",
       "      <td>3.178054</td>\n",
       "      <td>2.197225</td>\n",
       "    </tr>\n",
       "    <tr>\n",
       "      <th>AAACAGCTTTCAGAAG-1-FFPE</th>\n",
       "      <td>1.098612</td>\n",
       "      <td>0.000000</td>\n",
       "      <td>3.091043</td>\n",
       "      <td>2.197225</td>\n",
       "      <td>1.386294</td>\n",
       "      <td>0.000000</td>\n",
       "      <td>1.098612</td>\n",
       "      <td>3.737670</td>\n",
       "      <td>0.000000</td>\n",
       "      <td>3.761200</td>\n",
       "      <td>3.178054</td>\n",
       "      <td>2.302585</td>\n",
       "      <td>1.098612</td>\n",
       "      <td>1.098612</td>\n",
       "    </tr>\n",
       "    <tr>\n",
       "      <th>AAACAGGGTCTATATT-1-FFPE</th>\n",
       "      <td>0.693147</td>\n",
       "      <td>0.000000</td>\n",
       "      <td>2.708050</td>\n",
       "      <td>1.386294</td>\n",
       "      <td>1.098612</td>\n",
       "      <td>0.000000</td>\n",
       "      <td>0.000000</td>\n",
       "      <td>3.367296</td>\n",
       "      <td>0.000000</td>\n",
       "      <td>2.079442</td>\n",
       "      <td>2.944439</td>\n",
       "      <td>1.791759</td>\n",
       "      <td>1.098612</td>\n",
       "      <td>1.791759</td>\n",
       "    </tr>\n",
       "  </tbody>\n",
       "</table>\n",
       "</div>"
      ],
      "text/plain": [
       "                            COX6C    TTLL12    PABPC1      GNAS  HSP90AB1  \\\n",
       "AAACAAGTATCTCCCA-1-FFPE  2.944439  0.693147  4.890349  2.484907  2.079442   \n",
       "AAACACCAATAACTGC-1-FFPE  1.098612  0.000000  3.044523  2.079442  1.609438   \n",
       "AAACAGAGCGACTCCT-1-FFPE  2.079442  1.098612  3.332205  2.639057  1.791759   \n",
       "AAACAGCTTTCAGAAG-1-FFPE  1.098612  0.000000  3.091043  2.197225  1.386294   \n",
       "AAACAGGGTCTATATT-1-FFPE  0.693147  0.000000  2.708050  1.386294  1.098612   \n",
       "\n",
       "                             TFF3    ATP1A1       B2M      FASN     SPARC  \\\n",
       "AAACAAGTATCTCCCA-1-FFPE  0.000000  2.397895  4.127134  0.000000  1.791759   \n",
       "AAACACCAATAACTGC-1-FFPE  0.000000  0.693147  3.610918  0.693147  2.302585   \n",
       "AAACAGAGCGACTCCT-1-FFPE  0.693147  0.693147  4.430817  0.000000  3.637586   \n",
       "AAACAGCTTTCAGAAG-1-FFPE  0.000000  1.098612  3.737670  0.000000  3.761200   \n",
       "AAACAGGGTCTATATT-1-FFPE  0.000000  0.000000  3.367296  0.000000  2.079442   \n",
       "\n",
       "                             CD74      CD63      CD24      CD81  \n",
       "AAACAAGTATCTCCCA-1-FFPE  2.639057  3.367296  3.871201  3.258096  \n",
       "AAACACCAATAACTGC-1-FFPE  3.555348  2.833213  1.386294  1.791759  \n",
       "AAACAGAGCGACTCCT-1-FFPE  2.890372  1.945910  3.178054  2.197225  \n",
       "AAACAGCTTTCAGAAG-1-FFPE  3.178054  2.302585  1.098612  1.098612  \n",
       "AAACAGGGTCTATATT-1-FFPE  2.944439  1.791759  1.098612  1.791759  "
      ]
     },
     "execution_count": 21,
     "metadata": {},
     "output_type": "execute_result"
    }
   ],
   "source": [
    "df_target_1.head()"
   ]
  },
  {
   "cell_type": "code",
   "execution_count": 20,
   "id": "26ee7344",
   "metadata": {},
   "outputs": [
    {
     "data": {
      "text/html": [
       "<div>\n",
       "<style scoped>\n",
       "    .dataframe tbody tr th:only-of-type {\n",
       "        vertical-align: middle;\n",
       "    }\n",
       "\n",
       "    .dataframe tbody tr th {\n",
       "        vertical-align: top;\n",
       "    }\n",
       "\n",
       "    .dataframe thead th {\n",
       "        text-align: right;\n",
       "    }\n",
       "</style>\n",
       "<table border=\"1\" class=\"dataframe\">\n",
       "  <thead>\n",
       "    <tr style=\"text-align: right;\">\n",
       "      <th></th>\n",
       "      <th>n</th>\n",
       "      <th>p</th>\n",
       "      <th>estimate</th>\n",
       "      <th>epistemic_uncertainty</th>\n",
       "      <th>aleatoric_uncertainty</th>\n",
       "      <th>total_uncertainty</th>\n",
       "      <th>gene_name</th>\n",
       "    </tr>\n",
       "  </thead>\n",
       "  <tbody>\n",
       "    <tr>\n",
       "      <th>0</th>\n",
       "      <td>68.022148</td>\n",
       "      <td>0.955732</td>\n",
       "      <td>3.157081</td>\n",
       "      <td>0.190603</td>\n",
       "      <td>3.305968</td>\n",
       "      <td>3.496571</td>\n",
       "      <td>COX6C</td>\n",
       "    </tr>\n",
       "    <tr>\n",
       "      <th>1</th>\n",
       "      <td>50.969517</td>\n",
       "      <td>0.935787</td>\n",
       "      <td>3.493685</td>\n",
       "      <td>0.102785</td>\n",
       "      <td>3.735849</td>\n",
       "      <td>3.838634</td>\n",
       "      <td>COX6C</td>\n",
       "    </tr>\n",
       "    <tr>\n",
       "      <th>2</th>\n",
       "      <td>63.437500</td>\n",
       "      <td>0.944742</td>\n",
       "      <td>3.717044</td>\n",
       "      <td>0.445012</td>\n",
       "      <td>3.941640</td>\n",
       "      <td>4.386652</td>\n",
       "      <td>COX6C</td>\n",
       "    </tr>\n",
       "    <tr>\n",
       "      <th>3</th>\n",
       "      <td>50.010986</td>\n",
       "      <td>0.917057</td>\n",
       "      <td>4.518036</td>\n",
       "      <td>0.063192</td>\n",
       "      <td>4.928509</td>\n",
       "      <td>4.991701</td>\n",
       "      <td>COX6C</td>\n",
       "    </tr>\n",
       "    <tr>\n",
       "      <th>4</th>\n",
       "      <td>56.169567</td>\n",
       "      <td>0.948815</td>\n",
       "      <td>3.030791</td>\n",
       "      <td>0.103657</td>\n",
       "      <td>3.196149</td>\n",
       "      <td>3.299807</td>\n",
       "      <td>COX6C</td>\n",
       "    </tr>\n",
       "  </tbody>\n",
       "</table>\n",
       "</div>"
      ],
      "text/plain": [
       "           n         p  estimate  epistemic_uncertainty  \\\n",
       "0  68.022148  0.955732  3.157081               0.190603   \n",
       "1  50.969517  0.935787  3.493685               0.102785   \n",
       "2  63.437500  0.944742  3.717044               0.445012   \n",
       "3  50.010986  0.917057  4.518036               0.063192   \n",
       "4  56.169567  0.948815  3.030791               0.103657   \n",
       "\n",
       "   aleatoric_uncertainty  total_uncertainty gene_name  \n",
       "0               3.305968           3.496571     COX6C  \n",
       "1               3.735849           3.838634     COX6C  \n",
       "2               3.941640           4.386652     COX6C  \n",
       "3               4.928509           4.991701     COX6C  \n",
       "4               3.196149           3.299807     COX6C  "
      ]
     },
     "execution_count": 20,
     "metadata": {},
     "output_type": "execute_result"
    }
   ],
   "source": [
    "df_res1.head()"
   ]
  },
  {
   "cell_type": "code",
   "execution_count": 19,
   "id": "2153f36d",
   "metadata": {},
   "outputs": [
    {
     "data": {
      "text/html": [
       "<div>\n",
       "<style scoped>\n",
       "    .dataframe tbody tr th:only-of-type {\n",
       "        vertical-align: middle;\n",
       "    }\n",
       "\n",
       "    .dataframe tbody tr th {\n",
       "        vertical-align: top;\n",
       "    }\n",
       "\n",
       "    .dataframe thead th {\n",
       "        text-align: right;\n",
       "    }\n",
       "</style>\n",
       "<table border=\"1\" class=\"dataframe\">\n",
       "  <thead>\n",
       "    <tr style=\"text-align: right;\">\n",
       "      <th></th>\n",
       "      <th>n</th>\n",
       "      <th>p</th>\n",
       "      <th>estimate</th>\n",
       "      <th>epistemic_uncertainty</th>\n",
       "      <th>aleatoric_uncertainty</th>\n",
       "      <th>total_uncertainty</th>\n",
       "      <th>gene_name</th>\n",
       "    </tr>\n",
       "  </thead>\n",
       "  <tbody>\n",
       "    <tr>\n",
       "      <th>0</th>\n",
       "      <td>42.208500</td>\n",
       "      <td>0.912315</td>\n",
       "      <td>4.059605</td>\n",
       "      <td>0.166927</td>\n",
       "      <td>4.453730</td>\n",
       "      <td>4.620656</td>\n",
       "      <td>COX6C</td>\n",
       "    </tr>\n",
       "    <tr>\n",
       "      <th>1</th>\n",
       "      <td>47.396957</td>\n",
       "      <td>0.927660</td>\n",
       "      <td>3.692304</td>\n",
       "      <td>0.131095</td>\n",
       "      <td>3.983540</td>\n",
       "      <td>4.114635</td>\n",
       "      <td>COX6C</td>\n",
       "    </tr>\n",
       "    <tr>\n",
       "      <th>2</th>\n",
       "      <td>43.644535</td>\n",
       "      <td>0.905602</td>\n",
       "      <td>4.545694</td>\n",
       "      <td>0.132639</td>\n",
       "      <td>5.023244</td>\n",
       "      <td>5.155883</td>\n",
       "      <td>COX6C</td>\n",
       "    </tr>\n",
       "    <tr>\n",
       "      <th>3</th>\n",
       "      <td>43.883083</td>\n",
       "      <td>0.938049</td>\n",
       "      <td>2.895897</td>\n",
       "      <td>0.060861</td>\n",
       "      <td>3.088686</td>\n",
       "      <td>3.149547</td>\n",
       "      <td>COX6C</td>\n",
       "    </tr>\n",
       "    <tr>\n",
       "      <th>4</th>\n",
       "      <td>44.996078</td>\n",
       "      <td>0.946431</td>\n",
       "      <td>2.541441</td>\n",
       "      <td>0.026143</td>\n",
       "      <td>2.686132</td>\n",
       "      <td>2.712275</td>\n",
       "      <td>COX6C</td>\n",
       "    </tr>\n",
       "  </tbody>\n",
       "</table>\n",
       "</div>"
      ],
      "text/plain": [
       "           n         p  estimate  epistemic_uncertainty  \\\n",
       "0  42.208500  0.912315  4.059605               0.166927   \n",
       "1  47.396957  0.927660  3.692304               0.131095   \n",
       "2  43.644535  0.905602  4.545694               0.132639   \n",
       "3  43.883083  0.938049  2.895897               0.060861   \n",
       "4  44.996078  0.946431  2.541441               0.026143   \n",
       "\n",
       "   aleatoric_uncertainty  total_uncertainty gene_name  \n",
       "0               4.453730           4.620656     COX6C  \n",
       "1               3.983540           4.114635     COX6C  \n",
       "2               5.023244           5.155883     COX6C  \n",
       "3               3.088686           3.149547     COX6C  \n",
       "4               2.686132           2.712275     COX6C  "
      ]
     },
     "execution_count": 19,
     "metadata": {},
     "output_type": "execute_result"
    }
   ],
   "source": [
    "df_res2.head()"
   ]
  },
  {
   "cell_type": "code",
   "execution_count": null,
   "id": "5126c5ef",
   "metadata": {},
   "outputs": [],
   "source": []
  },
  {
   "cell_type": "markdown",
   "id": "08338d04",
   "metadata": {},
   "source": [
    "# Sanity check across all samples\n",
    "\n",
    "## ...for `FFPE`"
   ]
  },
  {
   "cell_type": "code",
   "execution_count": 29,
   "id": "b12c179f",
   "metadata": {},
   "outputs": [
    {
     "data": {
      "text/html": [
       "<div>\n",
       "<style scoped>\n",
       "    .dataframe tbody tr th:only-of-type {\n",
       "        vertical-align: middle;\n",
       "    }\n",
       "\n",
       "    .dataframe tbody tr th {\n",
       "        vertical-align: top;\n",
       "    }\n",
       "\n",
       "    .dataframe thead th {\n",
       "        text-align: right;\n",
       "    }\n",
       "</style>\n",
       "<table border=\"1\" class=\"dataframe\">\n",
       "  <thead>\n",
       "    <tr style=\"text-align: right;\">\n",
       "      <th></th>\n",
       "      <th>COX6C</th>\n",
       "      <th>TTLL12</th>\n",
       "      <th>PABPC1</th>\n",
       "      <th>GNAS</th>\n",
       "      <th>HSP90AB1</th>\n",
       "      <th>TFF3</th>\n",
       "      <th>ATP1A1</th>\n",
       "      <th>B2M</th>\n",
       "      <th>FASN</th>\n",
       "      <th>SPARC</th>\n",
       "      <th>CD74</th>\n",
       "      <th>CD63</th>\n",
       "      <th>CD24</th>\n",
       "      <th>CD81</th>\n",
       "    </tr>\n",
       "  </thead>\n",
       "  <tbody>\n",
       "    <tr>\n",
       "      <th>AAACAAGTATCTCCCA-1-FFPE</th>\n",
       "      <td>2.944439</td>\n",
       "      <td>0.693147</td>\n",
       "      <td>4.890349</td>\n",
       "      <td>2.484907</td>\n",
       "      <td>2.079442</td>\n",
       "      <td>0.0</td>\n",
       "      <td>2.397895</td>\n",
       "      <td>4.127134</td>\n",
       "      <td>0.000000</td>\n",
       "      <td>1.791759</td>\n",
       "      <td>2.639057</td>\n",
       "      <td>3.367296</td>\n",
       "      <td>3.871201</td>\n",
       "      <td>3.258096</td>\n",
       "    </tr>\n",
       "    <tr>\n",
       "      <th>AAACACCAATAACTGC-1-FFPE</th>\n",
       "      <td>1.098612</td>\n",
       "      <td>0.000000</td>\n",
       "      <td>3.044523</td>\n",
       "      <td>2.079442</td>\n",
       "      <td>1.609438</td>\n",
       "      <td>0.0</td>\n",
       "      <td>0.693147</td>\n",
       "      <td>3.610918</td>\n",
       "      <td>0.693147</td>\n",
       "      <td>2.302585</td>\n",
       "      <td>3.555348</td>\n",
       "      <td>2.833213</td>\n",
       "      <td>1.386294</td>\n",
       "      <td>1.791759</td>\n",
       "    </tr>\n",
       "  </tbody>\n",
       "</table>\n",
       "</div>"
      ],
      "text/plain": [
       "                            COX6C    TTLL12    PABPC1      GNAS  HSP90AB1  \\\n",
       "AAACAAGTATCTCCCA-1-FFPE  2.944439  0.693147  4.890349  2.484907  2.079442   \n",
       "AAACACCAATAACTGC-1-FFPE  1.098612  0.000000  3.044523  2.079442  1.609438   \n",
       "\n",
       "                         TFF3    ATP1A1       B2M      FASN     SPARC  \\\n",
       "AAACAAGTATCTCCCA-1-FFPE   0.0  2.397895  4.127134  0.000000  1.791759   \n",
       "AAACACCAATAACTGC-1-FFPE   0.0  0.693147  3.610918  0.693147  2.302585   \n",
       "\n",
       "                             CD74      CD63      CD24      CD81  \n",
       "AAACAAGTATCTCCCA-1-FFPE  2.639057  3.367296  3.871201  3.258096  \n",
       "AAACACCAATAACTGC-1-FFPE  3.555348  2.833213  1.386294  1.791759  "
      ]
     },
     "execution_count": 29,
     "metadata": {},
     "output_type": "execute_result"
    }
   ],
   "source": [
    "df_target_1.head(2)"
   ]
  },
  {
   "cell_type": "code",
   "execution_count": 30,
   "id": "a493304c",
   "metadata": {},
   "outputs": [
    {
     "data": {
      "image/png": "[encoded data removed]",
      "text/plain": [
       "<Figure size 1440x2160 with 70 Axes>"
      ]
     },
     "metadata": {},
     "output_type": "display_data"
    }
   ],
   "source": [
    "# mean = ensemble_results1[:,-2:,:,:].mean(axis=-1)\n",
    "# var = ensemble_results1[:,-2:,:,:].var(axis=-1)\n",
    "# np_total_var = np.stack([mean[:,0,:], var[:,0,:], mean[:,1,:], var[:,0,:]+mean[:,1,:]], axis=1)\n",
    "\n",
    "# E(mean), V(mean), E(var), total\n",
    "\n",
    "fig, ax = plt.subplots(nrows=len(gene_list), ncols=5, figsize=(20, 30))\n",
    "\n",
    "ax[0][0].set_title(\"epistemic uncertainty (std)\")\n",
    "ax[0][1].set_title(\"aleatoric uncertainty (std)\")\n",
    "ax[0][2].set_title(\"total uncertainty (std)\")\n",
    "ax[0][3].set_title(\"mean estimate\")\n",
    "ax[0][4].set_title(\"target\")\n",
    "\n",
    "for gid, gname in enumerate(gene_list):\n",
    "    ax[gid][0].set_ylabel(gname)\n",
    "    ax[gid][0].hist(np.sqrt(np_total_var1[:,1,gid]), bins=50, color='b')\n",
    "    ax[gid][1].hist(np.sqrt(np_total_var1[:,2,gid]), bins=50, color='r')\n",
    "    ax[gid][2].hist(np.sqrt(np_total_var1[:,3,gid]), bins=50, color='g')\n",
    "    ax[gid][3].hist(np_total_var1[:,0,gid], bins=50, color='k')\n",
    "    ax[gid][4].hist(df_target_1[gname], bins=25, color='k', alpha=0.7)\n",
    "fig.show()"
   ]
  },
  {
   "cell_type": "markdown",
   "id": "2218d381",
   "metadata": {},
   "source": [
    "## ...for `1160920F`"
   ]
  },
  {
   "cell_type": "code",
   "execution_count": 31,
   "id": "b0a5ae55",
   "metadata": {},
   "outputs": [
    {
     "data": {
      "image/png": "[encoded data removed]",
      "text/plain": [
       "<Figure size 1440x2160 with 70 Axes>"
      ]
     },
     "metadata": {},
     "output_type": "display_data"
    }
   ],
   "source": [
    "# mean = ensemble_results2[:,-2:,:,:].mean(axis=-1)\n",
    "# var = ensemble_results2[:,-2:,:,:].var(axis=-1)\n",
    "# np_total_var = np.stack([mean[:,0,:], var[:,0,:], mean[:,1,:], var[:,0,:]+mean[:,1,:]], axis=1)\n",
    "\n",
    "# E(mean), V(mean), E(var), total\n",
    "\n",
    "fig, ax = plt.subplots(nrows=len(gene_list), ncols=5, figsize=(20, 30))\n",
    "\n",
    "ax[0][0].set_title(\"epistemic uncertainty (std)\")\n",
    "ax[0][1].set_title(\"aleatoric uncertainty (std)\")\n",
    "ax[0][2].set_title(\"total uncertainty (std)\")\n",
    "ax[0][3].set_title(\"mean estimate\")\n",
    "ax[0][4].set_title(\"target\")\n",
    "\n",
    "for gid, gname in enumerate(gene_list):\n",
    "    ax[gid][0].set_ylabel(gname)\n",
    "    ax[gid][0].hist(np.sqrt(np_total_var2[:,1,gid]), bins=50, color='b')\n",
    "    ax[gid][1].hist(np.sqrt(np_total_var2[:,2,gid]), bins=50, color='r')\n",
    "    ax[gid][2].hist(np.sqrt(np_total_var2[:,3,gid]), bins=50, color='g')\n",
    "    ax[gid][3].hist(np_total_var2[:,0,gid], bins=50, color='k')\n",
    "    ax[gid][4].hist(df_target_2[gname], bins=25, color='k', alpha=.7)\n",
    "    \n",
    "fig.show()"
   ]
  },
  {
   "cell_type": "code",
   "execution_count": 161,
   "id": "665d07ab",
   "metadata": {
    "scrolled": true
   },
   "outputs": [
    {
     "data": {
      "text/plain": [
       "(2338, 14)"
      ]
     },
     "execution_count": 161,
     "metadata": {},
     "output_type": "execute_result"
    }
   ],
   "source": [
    "m1_res_1 = ensemble_results1[:,2,:,2]"
   ]
  },
  {
   "cell_type": "markdown",
   "id": "b2f3ebb4",
   "metadata": {},
   "source": [
    "## Performance of individual models, for `FFPE`"
   ]
  },
  {
   "cell_type": "code",
   "execution_count": 78,
   "id": "8215b50e",
   "metadata": {},
   "outputs": [
    {
     "data": {
      "text/plain": [
       "(2338, 4, 14, 11)"
      ]
     },
     "execution_count": 78,
     "metadata": {},
     "output_type": "execute_result"
    }
   ],
   "source": [
    "ensemble_results1.shape"
   ]
  },
  {
   "cell_type": "code",
   "execution_count": 94,
   "id": "5588f563",
   "metadata": {},
   "outputs": [
    {
     "data": {
      "text/html": [
       "<div>\n",
       "<style scoped>\n",
       "    .dataframe tbody tr th:only-of-type {\n",
       "        vertical-align: middle;\n",
       "    }\n",
       "\n",
       "    .dataframe tbody tr th {\n",
       "        vertical-align: top;\n",
       "    }\n",
       "\n",
       "    .dataframe thead th {\n",
       "        text-align: right;\n",
       "    }\n",
       "</style>\n",
       "<table border=\"1\" class=\"dataframe\">\n",
       "  <thead>\n",
       "    <tr style=\"text-align: right;\">\n",
       "      <th></th>\n",
       "      <th>COX6C</th>\n",
       "      <th>TTLL12</th>\n",
       "      <th>PABPC1</th>\n",
       "      <th>GNAS</th>\n",
       "      <th>HSP90AB1</th>\n",
       "      <th>TFF3</th>\n",
       "      <th>ATP1A1</th>\n",
       "      <th>B2M</th>\n",
       "      <th>FASN</th>\n",
       "      <th>SPARC</th>\n",
       "      <th>CD74</th>\n",
       "      <th>CD63</th>\n",
       "      <th>CD24</th>\n",
       "      <th>CD81</th>\n",
       "    </tr>\n",
       "  </thead>\n",
       "  <tbody>\n",
       "    <tr>\n",
       "      <th>0</th>\n",
       "      <td>0.139547</td>\n",
       "      <td>0.186397</td>\n",
       "      <td>0.316249</td>\n",
       "      <td>0.337307</td>\n",
       "      <td>0.161544</td>\n",
       "      <td>0.151927</td>\n",
       "      <td>0.513706</td>\n",
       "      <td>0.140513</td>\n",
       "      <td>0.158906</td>\n",
       "      <td>0.143436</td>\n",
       "      <td>0.163681</td>\n",
       "      <td>0.416360</td>\n",
       "      <td>0.361009</td>\n",
       "      <td>0.165504</td>\n",
       "    </tr>\n",
       "    <tr>\n",
       "      <th>1</th>\n",
       "      <td>0.123925</td>\n",
       "      <td>0.084675</td>\n",
       "      <td>0.257134</td>\n",
       "      <td>0.222731</td>\n",
       "      <td>0.223982</td>\n",
       "      <td>0.091678</td>\n",
       "      <td>0.497930</td>\n",
       "      <td>0.182033</td>\n",
       "      <td>0.295498</td>\n",
       "      <td>0.027895</td>\n",
       "      <td>0.214692</td>\n",
       "      <td>0.343477</td>\n",
       "      <td>0.339312</td>\n",
       "      <td>0.255092</td>\n",
       "    </tr>\n",
       "    <tr>\n",
       "      <th>2</th>\n",
       "      <td>0.317771</td>\n",
       "      <td>-0.004201</td>\n",
       "      <td>0.204629</td>\n",
       "      <td>0.289257</td>\n",
       "      <td>0.207338</td>\n",
       "      <td>0.124791</td>\n",
       "      <td>0.400347</td>\n",
       "      <td>0.037605</td>\n",
       "      <td>0.204257</td>\n",
       "      <td>0.105388</td>\n",
       "      <td>0.165745</td>\n",
       "      <td>0.338346</td>\n",
       "      <td>0.440502</td>\n",
       "      <td>0.100353</td>\n",
       "    </tr>\n",
       "    <tr>\n",
       "      <th>3</th>\n",
       "      <td>0.150910</td>\n",
       "      <td>0.021942</td>\n",
       "      <td>0.338665</td>\n",
       "      <td>0.374401</td>\n",
       "      <td>0.389266</td>\n",
       "      <td>0.181813</td>\n",
       "      <td>0.385211</td>\n",
       "      <td>-0.035997</td>\n",
       "      <td>0.181926</td>\n",
       "      <td>0.120840</td>\n",
       "      <td>0.267368</td>\n",
       "      <td>0.256934</td>\n",
       "      <td>0.439550</td>\n",
       "      <td>0.257852</td>\n",
       "    </tr>\n",
       "    <tr>\n",
       "      <th>4</th>\n",
       "      <td>-0.000607</td>\n",
       "      <td>0.031863</td>\n",
       "      <td>0.238377</td>\n",
       "      <td>0.161800</td>\n",
       "      <td>0.154354</td>\n",
       "      <td>0.225942</td>\n",
       "      <td>0.407755</td>\n",
       "      <td>0.081731</td>\n",
       "      <td>0.376732</td>\n",
       "      <td>0.132807</td>\n",
       "      <td>0.265156</td>\n",
       "      <td>0.328340</td>\n",
       "      <td>0.300731</td>\n",
       "      <td>0.280443</td>\n",
       "    </tr>\n",
       "    <tr>\n",
       "      <th>5</th>\n",
       "      <td>0.154981</td>\n",
       "      <td>0.026994</td>\n",
       "      <td>0.372224</td>\n",
       "      <td>0.288180</td>\n",
       "      <td>0.099225</td>\n",
       "      <td>0.219160</td>\n",
       "      <td>0.386081</td>\n",
       "      <td>0.072542</td>\n",
       "      <td>0.186181</td>\n",
       "      <td>0.049851</td>\n",
       "      <td>0.259104</td>\n",
       "      <td>0.316055</td>\n",
       "      <td>0.232843</td>\n",
       "      <td>0.287329</td>\n",
       "    </tr>\n",
       "    <tr>\n",
       "      <th>6</th>\n",
       "      <td>0.119853</td>\n",
       "      <td>0.104548</td>\n",
       "      <td>0.222625</td>\n",
       "      <td>0.229433</td>\n",
       "      <td>0.302833</td>\n",
       "      <td>0.259761</td>\n",
       "      <td>0.547934</td>\n",
       "      <td>0.274443</td>\n",
       "      <td>0.170512</td>\n",
       "      <td>-0.075814</td>\n",
       "      <td>0.250447</td>\n",
       "      <td>0.333331</td>\n",
       "      <td>0.370864</td>\n",
       "      <td>0.216199</td>\n",
       "    </tr>\n",
       "    <tr>\n",
       "      <th>7</th>\n",
       "      <td>0.229745</td>\n",
       "      <td>0.009301</td>\n",
       "      <td>0.284664</td>\n",
       "      <td>0.063863</td>\n",
       "      <td>0.244463</td>\n",
       "      <td>0.181471</td>\n",
       "      <td>0.489323</td>\n",
       "      <td>0.122938</td>\n",
       "      <td>0.177519</td>\n",
       "      <td>0.100802</td>\n",
       "      <td>0.306914</td>\n",
       "      <td>0.249089</td>\n",
       "      <td>0.378967</td>\n",
       "      <td>0.287279</td>\n",
       "    </tr>\n",
       "    <tr>\n",
       "      <th>8</th>\n",
       "      <td>0.197104</td>\n",
       "      <td>0.070517</td>\n",
       "      <td>0.242708</td>\n",
       "      <td>0.363101</td>\n",
       "      <td>0.264537</td>\n",
       "      <td>0.129829</td>\n",
       "      <td>0.380756</td>\n",
       "      <td>0.231013</td>\n",
       "      <td>0.361614</td>\n",
       "      <td>-0.000619</td>\n",
       "      <td>0.213910</td>\n",
       "      <td>0.368531</td>\n",
       "      <td>0.500597</td>\n",
       "      <td>0.283482</td>\n",
       "    </tr>\n",
       "    <tr>\n",
       "      <th>9</th>\n",
       "      <td>0.098272</td>\n",
       "      <td>0.105270</td>\n",
       "      <td>-0.037093</td>\n",
       "      <td>0.201640</td>\n",
       "      <td>0.325062</td>\n",
       "      <td>0.163868</td>\n",
       "      <td>0.525843</td>\n",
       "      <td>0.179143</td>\n",
       "      <td>0.286770</td>\n",
       "      <td>0.158998</td>\n",
       "      <td>0.220739</td>\n",
       "      <td>0.264304</td>\n",
       "      <td>0.405564</td>\n",
       "      <td>0.169744</td>\n",
       "    </tr>\n",
       "  </tbody>\n",
       "</table>\n",
       "</div>"
      ],
      "text/plain": [
       "      COX6C    TTLL12    PABPC1      GNAS  HSP90AB1      TFF3    ATP1A1  \\\n",
       "0  0.139547  0.186397  0.316249  0.337307  0.161544  0.151927  0.513706   \n",
       "1  0.123925  0.084675  0.257134  0.222731  0.223982  0.091678  0.497930   \n",
       "2  0.317771 -0.004201  0.204629  0.289257  0.207338  0.124791  0.400347   \n",
       "3  0.150910  0.021942  0.338665  0.374401  0.389266  0.181813  0.385211   \n",
       "4 -0.000607  0.031863  0.238377  0.161800  0.154354  0.225942  0.407755   \n",
       "5  0.154981  0.026994  0.372224  0.288180  0.099225  0.219160  0.386081   \n",
       "6  0.119853  0.104548  0.222625  0.229433  0.302833  0.259761  0.547934   \n",
       "7  0.229745  0.009301  0.284664  0.063863  0.244463  0.181471  0.489323   \n",
       "8  0.197104  0.070517  0.242708  0.363101  0.264537  0.129829  0.380756   \n",
       "9  0.098272  0.105270 -0.037093  0.201640  0.325062  0.163868  0.525843   \n",
       "\n",
       "        B2M      FASN     SPARC      CD74      CD63      CD24      CD81  \n",
       "0  0.140513  0.158906  0.143436  0.163681  0.416360  0.361009  0.165504  \n",
       "1  0.182033  0.295498  0.027895  0.214692  0.343477  0.339312  0.255092  \n",
       "2  0.037605  0.204257  0.105388  0.165745  0.338346  0.440502  0.100353  \n",
       "3 -0.035997  0.181926  0.120840  0.267368  0.256934  0.439550  0.257852  \n",
       "4  0.081731  0.376732  0.132807  0.265156  0.328340  0.300731  0.280443  \n",
       "5  0.072542  0.186181  0.049851  0.259104  0.316055  0.232843  0.287329  \n",
       "6  0.274443  0.170512 -0.075814  0.250447  0.333331  0.370864  0.216199  \n",
       "7  0.122938  0.177519  0.100802  0.306914  0.249089  0.378967  0.287279  \n",
       "8  0.231013  0.361614 -0.000619  0.213910  0.368531  0.500597  0.283482  \n",
       "9  0.179143  0.286770  0.158998  0.220739  0.264304  0.405564  0.169744  "
      ]
     },
     "execution_count": 94,
     "metadata": {},
     "output_type": "execute_result"
    }
   ],
   "source": [
    "df_corr_ffpe"
   ]
  },
  {
   "cell_type": "code",
   "execution_count": 93,
   "id": "6ba39bd4",
   "metadata": {},
   "outputs": [
    {
     "data": {
      "text/html": [
       "<div>\n",
       "<style scoped>\n",
       "    .dataframe tbody tr th:only-of-type {\n",
       "        vertical-align: middle;\n",
       "    }\n",
       "\n",
       "    .dataframe tbody tr th {\n",
       "        vertical-align: top;\n",
       "    }\n",
       "\n",
       "    .dataframe thead th {\n",
       "        text-align: right;\n",
       "    }\n",
       "</style>\n",
       "<table border=\"1\" class=\"dataframe\">\n",
       "  <thead>\n",
       "    <tr style=\"text-align: right;\">\n",
       "      <th></th>\n",
       "      <th>mean</th>\n",
       "      <th>std</th>\n",
       "    </tr>\n",
       "  </thead>\n",
       "  <tbody>\n",
       "    <tr>\n",
       "      <th>COX6C</th>\n",
       "      <td>0.153150</td>\n",
       "      <td>0.084135</td>\n",
       "    </tr>\n",
       "    <tr>\n",
       "      <th>TTLL12</th>\n",
       "      <td>0.063731</td>\n",
       "      <td>0.058321</td>\n",
       "    </tr>\n",
       "    <tr>\n",
       "      <th>PABPC1</th>\n",
       "      <td>0.244018</td>\n",
       "      <td>0.112300</td>\n",
       "    </tr>\n",
       "    <tr>\n",
       "      <th>GNAS</th>\n",
       "      <td>0.253171</td>\n",
       "      <td>0.097022</td>\n",
       "    </tr>\n",
       "    <tr>\n",
       "      <th>HSP90AB1</th>\n",
       "      <td>0.237260</td>\n",
       "      <td>0.087332</td>\n",
       "    </tr>\n",
       "    <tr>\n",
       "      <th>TFF3</th>\n",
       "      <td>0.173024</td>\n",
       "      <td>0.051574</td>\n",
       "    </tr>\n",
       "    <tr>\n",
       "      <th>ATP1A1</th>\n",
       "      <td>0.453489</td>\n",
       "      <td>0.067042</td>\n",
       "    </tr>\n",
       "    <tr>\n",
       "      <th>B2M</th>\n",
       "      <td>0.128596</td>\n",
       "      <td>0.093127</td>\n",
       "    </tr>\n",
       "    <tr>\n",
       "      <th>FASN</th>\n",
       "      <td>0.239992</td>\n",
       "      <td>0.082737</td>\n",
       "    </tr>\n",
       "    <tr>\n",
       "      <th>SPARC</th>\n",
       "      <td>0.076358</td>\n",
       "      <td>0.074586</td>\n",
       "    </tr>\n",
       "    <tr>\n",
       "      <th>CD74</th>\n",
       "      <td>0.232776</td>\n",
       "      <td>0.045755</td>\n",
       "    </tr>\n",
       "    <tr>\n",
       "      <th>CD63</th>\n",
       "      <td>0.321477</td>\n",
       "      <td>0.052575</td>\n",
       "    </tr>\n",
       "    <tr>\n",
       "      <th>CD24</th>\n",
       "      <td>0.376994</td>\n",
       "      <td>0.076269</td>\n",
       "    </tr>\n",
       "    <tr>\n",
       "      <th>CD81</th>\n",
       "      <td>0.230328</td>\n",
       "      <td>0.065120</td>\n",
       "    </tr>\n",
       "  </tbody>\n",
       "</table>\n",
       "</div>"
      ],
      "text/plain": [
       "              mean       std\n",
       "COX6C     0.153150  0.084135\n",
       "TTLL12    0.063731  0.058321\n",
       "PABPC1    0.244018  0.112300\n",
       "GNAS      0.253171  0.097022\n",
       "HSP90AB1  0.237260  0.087332\n",
       "TFF3      0.173024  0.051574\n",
       "ATP1A1    0.453489  0.067042\n",
       "B2M       0.128596  0.093127\n",
       "FASN      0.239992  0.082737\n",
       "SPARC     0.076358  0.074586\n",
       "CD74      0.232776  0.045755\n",
       "CD63      0.321477  0.052575\n",
       "CD24      0.376994  0.076269\n",
       "CD81      0.230328  0.065120"
      ]
     },
     "execution_count": 93,
     "metadata": {},
     "output_type": "execute_result"
    }
   ],
   "source": [
    "dict_corr_ffpe = {g: [] for g in gene_list}\n",
    "for m in range(10):\n",
    "    # select the prediction, E(mean), and model, m\n",
    "    m1_res_1 = ensemble_results1[:,-2,:,m]\n",
    "    \n",
    "    for i, g in enumerate(gene_list):\n",
    "        dict_corr_ffpe[g].append(pearsonr(df_target_1[g], m1_res_1[:, i])[0])\n",
    "\n",
    "df_corr_ffpe = pd.DataFrame(dict_corr_ffpe)\n",
    "df_corr_ffpe\n",
    "\n",
    "df_ffpe = pd.concat([df_corr_ffpe.mean(), df_corr_ffpe.std()], axis=1)\n",
    "df_ffpe.columns = ['mean', 'std']\n",
    "df_ffpe"
   ]
  },
  {
   "cell_type": "markdown",
   "id": "0189725e",
   "metadata": {},
   "source": [
    "E(corr(X)) < corr(E(X))"
   ]
  },
  {
   "cell_type": "markdown",
   "id": "d3b4f321",
   "metadata": {},
   "source": [
    "## Performance of individual models, `1160920F`"
   ]
  },
  {
   "cell_type": "code",
   "execution_count": 77,
   "id": "1d563726",
   "metadata": {},
   "outputs": [
    {
     "data": {
      "text/html": [
       "<div>\n",
       "<style scoped>\n",
       "    .dataframe tbody tr th:only-of-type {\n",
       "        vertical-align: middle;\n",
       "    }\n",
       "\n",
       "    .dataframe tbody tr th {\n",
       "        vertical-align: top;\n",
       "    }\n",
       "\n",
       "    .dataframe thead th {\n",
       "        text-align: right;\n",
       "    }\n",
       "</style>\n",
       "<table border=\"1\" class=\"dataframe\">\n",
       "  <thead>\n",
       "    <tr style=\"text-align: right;\">\n",
       "      <th></th>\n",
       "      <th>mean</th>\n",
       "      <th>std</th>\n",
       "    </tr>\n",
       "  </thead>\n",
       "  <tbody>\n",
       "    <tr>\n",
       "      <th>COX6C</th>\n",
       "      <td>0.037908</td>\n",
       "      <td>0.048363</td>\n",
       "    </tr>\n",
       "    <tr>\n",
       "      <th>TTLL12</th>\n",
       "      <td>-0.060850</td>\n",
       "      <td>0.010546</td>\n",
       "    </tr>\n",
       "    <tr>\n",
       "      <th>PABPC1</th>\n",
       "      <td>0.272562</td>\n",
       "      <td>0.038240</td>\n",
       "    </tr>\n",
       "    <tr>\n",
       "      <th>GNAS</th>\n",
       "      <td>0.270916</td>\n",
       "      <td>0.028505</td>\n",
       "    </tr>\n",
       "    <tr>\n",
       "      <th>HSP90AB1</th>\n",
       "      <td>0.063141</td>\n",
       "      <td>0.039127</td>\n",
       "    </tr>\n",
       "    <tr>\n",
       "      <th>TFF3</th>\n",
       "      <td>0.073719</td>\n",
       "      <td>0.003150</td>\n",
       "    </tr>\n",
       "    <tr>\n",
       "      <th>ATP1A1</th>\n",
       "      <td>0.259830</td>\n",
       "      <td>0.026446</td>\n",
       "    </tr>\n",
       "    <tr>\n",
       "      <th>B2M</th>\n",
       "      <td>-0.170772</td>\n",
       "      <td>0.054331</td>\n",
       "    </tr>\n",
       "    <tr>\n",
       "      <th>FASN</th>\n",
       "      <td>-0.127813</td>\n",
       "      <td>0.009449</td>\n",
       "    </tr>\n",
       "    <tr>\n",
       "      <th>SPARC</th>\n",
       "      <td>0.212401</td>\n",
       "      <td>0.021337</td>\n",
       "    </tr>\n",
       "    <tr>\n",
       "      <th>CD74</th>\n",
       "      <td>0.275664</td>\n",
       "      <td>0.012271</td>\n",
       "    </tr>\n",
       "    <tr>\n",
       "      <th>CD63</th>\n",
       "      <td>-0.014582</td>\n",
       "      <td>0.031046</td>\n",
       "    </tr>\n",
       "    <tr>\n",
       "      <th>CD24</th>\n",
       "      <td>0.127327</td>\n",
       "      <td>0.050848</td>\n",
       "    </tr>\n",
       "    <tr>\n",
       "      <th>CD81</th>\n",
       "      <td>-0.009647</td>\n",
       "      <td>0.047533</td>\n",
       "    </tr>\n",
       "  </tbody>\n",
       "</table>\n",
       "</div>"
      ],
      "text/plain": [
       "              mean       std\n",
       "COX6C     0.037908  0.048363\n",
       "TTLL12   -0.060850  0.010546\n",
       "PABPC1    0.272562  0.038240\n",
       "GNAS      0.270916  0.028505\n",
       "HSP90AB1  0.063141  0.039127\n",
       "TFF3      0.073719  0.003150\n",
       "ATP1A1    0.259830  0.026446\n",
       "B2M      -0.170772  0.054331\n",
       "FASN     -0.127813  0.009449\n",
       "SPARC     0.212401  0.021337\n",
       "CD74      0.275664  0.012271\n",
       "CD63     -0.014582  0.031046\n",
       "CD24      0.127327  0.050848\n",
       "CD81     -0.009647  0.047533"
      ]
     },
     "execution_count": 77,
     "metadata": {},
     "output_type": "execute_result"
    }
   ],
   "source": [
    "dict_corr_s2 = {g: [] for g in gene_list}\n",
    "for m in range(10):\n",
    "    \n",
    "    # select the prediction, E(mean), and model, m\n",
    "    m1_res_2 = ensemble_results2[:,2,:,m]\n",
    "    \n",
    "    for i, g in enumerate(gene_list):\n",
    "        dict_corr_s2[g].append(pearsonr(df_target_2[g], m1_res_2[:, i])[0])\n",
    "\n",
    "df_corr_s2 = pd.DataFrame(dict_corr_s2)\n",
    "df_corr_s2\n",
    "\n",
    "df_s2 = pd.concat([df_corr_s2.mean(), df_corr_s2.std()], axis=1)\n",
    "df_s2.columns = ['mean', 'std']\n",
    "df_s2"
   ]
  },
  {
   "cell_type": "markdown",
   "id": "34951993",
   "metadata": {},
   "source": [
    "# "
   ]
  },
  {
   "cell_type": "code",
   "execution_count": null,
   "id": "7df40e95",
   "metadata": {},
   "outputs": [],
   "source": [
    "# # this is uploaded above\n",
    "# # ground truth / target information\n",
    "# df_target_1 = test_dataset_1.to_df().loc[:, gene_list]\n",
    "# df_target_2 = test_dataset_2.to_df().loc[:, gene_list]"
   ]
  },
  {
   "cell_type": "code",
   "execution_count": 82,
   "id": "d5d67674",
   "metadata": {},
   "outputs": [],
   "source": [
    "np_total_var1 = get_uncertainty_components(ensemble_results1)\n",
    "np_total_var2 = get_uncertainty_components(ensemble_results2)"
   ]
  },
  {
   "cell_type": "code",
   "execution_count": 83,
   "id": "2dcf00e0",
   "metadata": {
    "scrolled": true
   },
   "outputs": [],
   "source": [
    "# append targets to predictions\n",
    "np_target1 = df_target_1.values.reshape(len(df_target_1), 1, len(df_target_1.columns))\n",
    "np_total_var1 = np.append(np_total_var1, np_target1, axis=1)\n",
    "\n",
    "np_target2 = df_target_2.values.reshape(len(df_target_2), 1, len(df_target_2.columns))\n",
    "np_total_var2 = np.append(np_total_var2, np_target2, axis=1)"
   ]
  },
  {
   "cell_type": "code",
   "execution_count": 104,
   "id": "94114afe",
   "metadata": {},
   "outputs": [
    {
     "data": {
      "text/plain": [
       "(2338, 5, 14)"
      ]
     },
     "execution_count": 104,
     "metadata": {},
     "output_type": "execute_result"
    }
   ],
   "source": []
  },
  {
   "cell_type": "code",
   "execution_count": 85,
   "id": "b721b870",
   "metadata": {},
   "outputs": [],
   "source": [
    "dict_res1 = {g: np_total_var1[:,:,i] for i, g in enumerate(gene_list)}\n",
    "dict_res2 = {g: np_total_var2[:,:,i] for i, g in enumerate(gene_list)}"
   ]
  },
  {
   "cell_type": "code",
   "execution_count": 97,
   "id": "e31e6f5d",
   "metadata": {},
   "outputs": [
    {
     "data": {
      "text/plain": [
       "(2338, 5, 14)"
      ]
     },
     "execution_count": 97,
     "metadata": {},
     "output_type": "execute_result"
    }
   ],
   "source": [
    "np_total_var1.shape"
   ]
  },
  {
   "cell_type": "code",
   "execution_count": 98,
   "id": "6e64ec9c",
   "metadata": {},
   "outputs": [
    {
     "data": {
      "text/plain": [
       "array([3.1570814 , 0.19060269, 3.3059683 , 3.496571  , 2.944439  ],\n",
       "      dtype=float32)"
      ]
     },
     "execution_count": 98,
     "metadata": {},
     "output_type": "execute_result"
    }
   ],
   "source": [
    "np_total_var1[0,:,0]"
   ]
  },
  {
   "cell_type": "code",
   "execution_count": null,
   "id": "164ed2c6",
   "metadata": {},
   "outputs": [],
   "source": []
  },
  {
   "cell_type": "code",
   "execution_count": 106,
   "id": "3925b9ca",
   "metadata": {
    "scrolled": true
   },
   "outputs": [
    {
     "data": {
      "text/plain": [
       "<AxesSubplot:>"
      ]
     },
     "execution_count": 106,
     "metadata": {},
     "output_type": "execute_result"
    },
    {
     "data": {
      "image/png": "[encoded data removed]",
      "text/plain": [
       "<Figure size 432x288 with 1 Axes>"
      ]
     },
     "metadata": {},
     "output_type": "display_data"
    }
   ],
   "source": [
    "dict_cor1 = {}\n",
    "for g in dict_res1.keys():\n",
    "    # recall columns: [E(mean), V(mean), E(var), total, target]\n",
    "    dict_cor1[g] = pearsonr(dict_res1[g][:, 0], dict_res1[g][:, -1])[0]\n",
    "df_cor1 = pd.Series(dict_cor1)\n",
    "df_cor1.name = 'pearsonr'\n",
    "df_cor1.plot.bar()"
   ]
  },
  {
   "cell_type": "code",
   "execution_count": 105,
   "id": "9f32f762",
   "metadata": {},
   "outputs": [
    {
     "data": {
      "text/plain": [
       "<AxesSubplot:>"
      ]
     },
     "execution_count": 105,
     "metadata": {},
     "output_type": "execute_result"
    },
    {
     "data": {
      "image/png": "[encoded data removed]",
      "text/plain": [
       "<Figure size 432x288 with 1 Axes>"
      ]
     },
     "metadata": {},
     "output_type": "display_data"
    }
   ],
   "source": [
    "dict_cor2 = {}\n",
    "for g in dict_res2.keys():\n",
    "    \n",
    "    dict_cor2[g] = pearsonr(dict_res2[g][:, 0], dict_res2[g][:, -1])[0]\n",
    "df_cor2 = pd.Series(dict_cor2)\n",
    "df_cor2.name = 'pearsonr'\n",
    "df_cor2.plot.bar()"
   ]
  },
  {
   "cell_type": "markdown",
   "id": "96ec0ec4",
   "metadata": {},
   "source": [
    "D = mean(X) - k.std(X) <br> \n",
    "Apply this to each prediction, i.e. the (spot, gene) pair, and plot the correlation scatter over variable levels of k. "
   ]
  },
  {
   "cell_type": "code",
   "execution_count": 183,
   "id": "0a749f79",
   "metadata": {},
   "outputs": [],
   "source": [
    "dict_selective1 ={g: {'pearsonr': [], 'n': [], 'k': []} for g in gene_list}\n",
    "for k in np.arange(.25,4,0.01): \n",
    "    k = round(k,2)\n",
    "    for g in gene_list:\n",
    "        # get results for gene g\n",
    "        res = dict_res1[g]\n",
    "        # separate/clarify stats\n",
    "        assert res.shape[1] == 5\n",
    "        mean = res[:,0]\n",
    "        epi = res[:,1]\n",
    "        ale = res[:,2]\n",
    "        tot = res[:,3]\n",
    "        act = res[:,4]\n",
    "        # calculate decision\n",
    "        mask_D = mean < k * np.sqrt(ale)\n",
    "        mean_filtered = mean[mask_D]\n",
    "        act_filtered = act[mask_D]\n",
    "        try:\n",
    "            dict_selective1[g]['k'].append(k)\n",
    "            dict_selective1[g]['n'].append(mask_D.sum())\n",
    "            dict_selective1[g]['pearsonr'].append(pearsonr(mean_filtered, act_filtered)[0])\n",
    "        except ValueError as e:\n",
    "            continue"
   ]
  },
  {
   "cell_type": "code",
   "execution_count": 184,
   "id": "2b08b69a",
   "metadata": {},
   "outputs": [
    {
     "data": {
      "image/png": "[encoded data removed]",
      "text/plain": [
       "<Figure size 432x288 with 1 Axes>"
      ]
     },
     "metadata": {},
     "output_type": "display_data"
    }
   ],
   "source": [
    "for g in gene_list:\n",
    "    num_iterations = len(dict_selective1[g]['pearsonr'])\n",
    "    plt.plot(dict_selective1[g]['k'][:num_iterations], dict_selective1[g]['pearsonr'])\n",
    "\n",
    "plt.show()"
   ]
  },
  {
   "cell_type": "code",
   "execution_count": 143,
   "id": "ec35e941",
   "metadata": {},
   "outputs": [
    {
     "data": {
      "text/plain": [
       "'2.4.0'"
      ]
     },
     "execution_count": 143,
     "metadata": {},
     "output_type": "execute_result"
    }
   ],
   "source": [
    "tf.__version__"
   ]
  },
  {
   "cell_type": "code",
   "execution_count": 139,
   "id": "2144ead4",
   "metadata": {},
   "outputs": [
    {
     "data": {
      "text/plain": [
       "1.8"
      ]
     },
     "execution_count": 139,
     "metadata": {},
     "output_type": "execute_result"
    }
   ],
   "source": [
    "k"
   ]
  },
  {
   "cell_type": "code",
   "execution_count": 140,
   "id": "e3d88b44",
   "metadata": {},
   "outputs": [
    {
     "data": {
      "text/plain": [
       "(2338,)"
      ]
     },
     "execution_count": 140,
     "metadata": {},
     "output_type": "execute_result"
    }
   ],
   "source": [
    "mean[mask_D]"
   ]
  },
  {
   "cell_type": "code",
   "execution_count": 141,
   "id": "04db6487",
   "metadata": {},
   "outputs": [
    {
     "data": {
      "text/plain": [
       "1194"
      ]
     },
     "execution_count": 141,
     "metadata": {},
     "output_type": "execute_result"
    }
   ],
   "source": [
    "mask_D.sum()"
   ]
  },
  {
   "cell_type": "code",
   "execution_count": 121,
   "id": "679435c2",
   "metadata": {},
   "outputs": [
    {
     "data": {
      "text/plain": [
       "3"
      ]
     },
     "execution_count": 121,
     "metadata": {},
     "output_type": "execute_result"
    }
   ],
   "source": [
    "(D < 0).sum()"
   ]
  },
  {
   "cell_type": "code",
   "execution_count": 102,
   "id": "178e6444",
   "metadata": {},
   "outputs": [
    {
     "data": {
      "text/plain": [
       "(2338, 5)"
      ]
     },
     "execution_count": 102,
     "metadata": {},
     "output_type": "execute_result"
    }
   ],
   "source": [
    "res.shape"
   ]
  },
  {
   "cell_type": "markdown",
   "id": "66fce5f8",
   "metadata": {},
   "source": [
    "Use results to produce"
   ]
  },
  {
   "cell_type": "code",
   "execution_count": 56,
   "id": "fc6364be",
   "metadata": {},
   "outputs": [],
   "source": [
    "list_dfs1 = []\n",
    "for g in dict_res1.keys():\n",
    "    df = pd.DataFrame(dict_res1[g], columns=['mean', 'epistemic', 'aleatoric', 'total', 'actual'])\n",
    "    df['gene_name'] = g\n",
    "    list_dfs1.append(df)\n",
    "df_res1 = pd.concat(list_dfs1, axis=0)\n",
    "\n",
    "list_dfs2 = []\n",
    "for g in dict_res2.keys():\n",
    "    df = pd.DataFrame(dict_res2[g], columns=['mean', 'epistemic', 'aleatoric', 'total', 'actual'])\n",
    "    df['gene_name'] = g\n",
    "    list_dfs2.append(df)\n",
    "df_res2 = pd.concat(list_dfs2, axis=0)"
   ]
  },
  {
   "cell_type": "code",
   "execution_count": 57,
   "id": "4dcf84ea",
   "metadata": {
    "scrolled": false
   },
   "outputs": [
    {
     "data": {
      "text/html": [
       "<div>\n",
       "<style scoped>\n",
       "    .dataframe tbody tr th:only-of-type {\n",
       "        vertical-align: middle;\n",
       "    }\n",
       "\n",
       "    .dataframe tbody tr th {\n",
       "        vertical-align: top;\n",
       "    }\n",
       "\n",
       "    .dataframe thead th {\n",
       "        text-align: right;\n",
       "    }\n",
       "</style>\n",
       "<table border=\"1\" class=\"dataframe\">\n",
       "  <thead>\n",
       "    <tr style=\"text-align: right;\">\n",
       "      <th></th>\n",
       "      <th>mean</th>\n",
       "      <th>epistemic</th>\n",
       "      <th>aleatoric</th>\n",
       "      <th>total</th>\n",
       "      <th>actual</th>\n",
       "      <th>gene_name</th>\n",
       "    </tr>\n",
       "  </thead>\n",
       "  <tbody>\n",
       "    <tr>\n",
       "      <th>0</th>\n",
       "      <td>3.157081</td>\n",
       "      <td>0.190603</td>\n",
       "      <td>3.305968</td>\n",
       "      <td>3.496571</td>\n",
       "      <td>2.944439</td>\n",
       "      <td>COX6C</td>\n",
       "    </tr>\n",
       "    <tr>\n",
       "      <th>1</th>\n",
       "      <td>3.493685</td>\n",
       "      <td>0.102785</td>\n",
       "      <td>3.735849</td>\n",
       "      <td>3.838634</td>\n",
       "      <td>1.098612</td>\n",
       "      <td>COX6C</td>\n",
       "    </tr>\n",
       "  </tbody>\n",
       "</table>\n",
       "</div>"
      ],
      "text/plain": [
       "       mean  epistemic  aleatoric     total    actual gene_name\n",
       "0  3.157081   0.190603   3.305968  3.496571  2.944439     COX6C\n",
       "1  3.493685   0.102785   3.735849  3.838634  1.098612     COX6C"
      ]
     },
     "execution_count": 57,
     "metadata": {},
     "output_type": "execute_result"
    }
   ],
   "source": [
    "df_res1.head(2)"
   ]
  },
  {
   "cell_type": "code",
   "execution_count": 58,
   "id": "bf31d465",
   "metadata": {
    "scrolled": true
   },
   "outputs": [
    {
     "data": {
      "text/html": [
       "<div>\n",
       "<style scoped>\n",
       "    .dataframe tbody tr th:only-of-type {\n",
       "        vertical-align: middle;\n",
       "    }\n",
       "\n",
       "    .dataframe tbody tr th {\n",
       "        vertical-align: top;\n",
       "    }\n",
       "\n",
       "    .dataframe thead th {\n",
       "        text-align: right;\n",
       "    }\n",
       "</style>\n",
       "<table border=\"1\" class=\"dataframe\">\n",
       "  <thead>\n",
       "    <tr style=\"text-align: right;\">\n",
       "      <th></th>\n",
       "      <th>mean</th>\n",
       "      <th>epistemic</th>\n",
       "      <th>aleatoric</th>\n",
       "      <th>total</th>\n",
       "      <th>actual</th>\n",
       "      <th>gene_name</th>\n",
       "    </tr>\n",
       "  </thead>\n",
       "  <tbody>\n",
       "    <tr>\n",
       "      <th>0</th>\n",
       "      <td>4.059605</td>\n",
       "      <td>0.166927</td>\n",
       "      <td>4.45373</td>\n",
       "      <td>4.620656</td>\n",
       "      <td>0.000000</td>\n",
       "      <td>COX6C</td>\n",
       "    </tr>\n",
       "    <tr>\n",
       "      <th>1</th>\n",
       "      <td>3.692304</td>\n",
       "      <td>0.131095</td>\n",
       "      <td>3.98354</td>\n",
       "      <td>4.114635</td>\n",
       "      <td>0.693147</td>\n",
       "      <td>COX6C</td>\n",
       "    </tr>\n",
       "  </tbody>\n",
       "</table>\n",
       "</div>"
      ],
      "text/plain": [
       "       mean  epistemic  aleatoric     total    actual gene_name\n",
       "0  4.059605   0.166927    4.45373  4.620656  0.000000     COX6C\n",
       "1  3.692304   0.131095    3.98354  4.114635  0.693147     COX6C"
      ]
     },
     "execution_count": 58,
     "metadata": {},
     "output_type": "execute_result"
    }
   ],
   "source": [
    "df_res2.head(2)"
   ]
  },
  {
   "cell_type": "code",
   "execution_count": 59,
   "id": "44fec233",
   "metadata": {},
   "outputs": [],
   "source": [
    "df_res1['sample_name'] = 'FFPE'\n",
    "df_res2['sample_name'] = '1160920F'"
   ]
  },
  {
   "cell_type": "code",
   "execution_count": 60,
   "id": "678b39c0",
   "metadata": {},
   "outputs": [],
   "source": [
    "df_res = pd.concat([df_res1, df_res2], axis=0)"
   ]
  },
  {
   "cell_type": "code",
   "execution_count": 53,
   "id": "16e71647",
   "metadata": {
    "scrolled": true
   },
   "outputs": [
    {
     "data": {
      "text/html": [
       "<div>\n",
       "<style scoped>\n",
       "    .dataframe tbody tr th:only-of-type {\n",
       "        vertical-align: middle;\n",
       "    }\n",
       "\n",
       "    .dataframe tbody tr th {\n",
       "        vertical-align: top;\n",
       "    }\n",
       "\n",
       "    .dataframe thead th {\n",
       "        text-align: right;\n",
       "    }\n",
       "</style>\n",
       "<table border=\"1\" class=\"dataframe\">\n",
       "  <thead>\n",
       "    <tr style=\"text-align: right;\">\n",
       "      <th></th>\n",
       "      <th>mean</th>\n",
       "      <th>epistemic</th>\n",
       "      <th>aleatoric</th>\n",
       "      <th>total</th>\n",
       "      <th>actual</th>\n",
       "      <th>gene_name</th>\n",
       "      <th>sample_name</th>\n",
       "    </tr>\n",
       "  </thead>\n",
       "  <tbody>\n",
       "    <tr>\n",
       "      <th>0</th>\n",
       "      <td>3.264449</td>\n",
       "      <td>0.356792</td>\n",
       "      <td>3.558751</td>\n",
       "      <td>3.915543</td>\n",
       "      <td>2.944439</td>\n",
       "      <td>COX6C</td>\n",
       "      <td>FFPE</td>\n",
       "    </tr>\n",
       "    <tr>\n",
       "      <th>1</th>\n",
       "      <td>3.660281</td>\n",
       "      <td>0.328427</td>\n",
       "      <td>4.163891</td>\n",
       "      <td>4.492318</td>\n",
       "      <td>1.098612</td>\n",
       "      <td>COX6C</td>\n",
       "      <td>FFPE</td>\n",
       "    </tr>\n",
       "  </tbody>\n",
       "</table>\n",
       "</div>"
      ],
      "text/plain": [
       "       mean  epistemic  aleatoric     total    actual gene_name sample_name\n",
       "0  3.264449   0.356792   3.558751  3.915543  2.944439     COX6C        FFPE\n",
       "1  3.660281   0.328427   4.163891  4.492318  1.098612     COX6C        FFPE"
      ]
     },
     "execution_count": 53,
     "metadata": {},
     "output_type": "execute_result"
    }
   ],
   "source": [
    "df_res.head(2)"
   ]
  },
  {
   "cell_type": "code",
   "execution_count": 62,
   "id": "440309f2",
   "metadata": {},
   "outputs": [
    {
     "data": {
      "image/png": "[encoded data removed]",
      "text/plain": [
       "<Figure size 1440x720 with 1 Axes>"
      ]
     },
     "metadata": {},
     "output_type": "display_data"
    }
   ],
   "source": [
    "# pearsonr(df_res_all['target'], df_res_all['mean'])\n",
    "df_sample_gene = df_res.groupby(['sample_name', 'gene_name']).apply(lambda x: pearsonr(x['actual'], x['mean'])[0])\n",
    "df_sample_gene.name = 'pearsonr'\n",
    "df_sample_gene = df_sample_gene.reset_index()\n",
    "\n",
    "fig, ax = plt.subplots(figsize=(20,10))\n",
    "sns.barplot(x=\"gene_name\", y=\"pearsonr\", hue=\"sample_name\", data=df_sample_gene, ax=ax)\n",
    "fig.show()"
   ]
  },
  {
   "cell_type": "code",
   "execution_count": 64,
   "id": "00beacf5",
   "metadata": {},
   "outputs": [
    {
     "data": {
      "text/html": [
       "<div>\n",
       "<style scoped>\n",
       "    .dataframe tbody tr th:only-of-type {\n",
       "        vertical-align: middle;\n",
       "    }\n",
       "\n",
       "    .dataframe tbody tr th {\n",
       "        vertical-align: top;\n",
       "    }\n",
       "\n",
       "    .dataframe thead th {\n",
       "        text-align: right;\n",
       "    }\n",
       "</style>\n",
       "<table border=\"1\" class=\"dataframe\">\n",
       "  <thead>\n",
       "    <tr style=\"text-align: right;\">\n",
       "      <th></th>\n",
       "      <th>mean</th>\n",
       "      <th>epistemic</th>\n",
       "      <th>aleatoric</th>\n",
       "      <th>total</th>\n",
       "      <th>actual</th>\n",
       "      <th>gene_name</th>\n",
       "      <th>sample_name</th>\n",
       "    </tr>\n",
       "  </thead>\n",
       "  <tbody>\n",
       "    <tr>\n",
       "      <th>0</th>\n",
       "      <td>3.157081</td>\n",
       "      <td>0.190603</td>\n",
       "      <td>3.305968</td>\n",
       "      <td>3.496571</td>\n",
       "      <td>2.944439</td>\n",
       "      <td>COX6C</td>\n",
       "      <td>FFPE</td>\n",
       "    </tr>\n",
       "    <tr>\n",
       "      <th>1</th>\n",
       "      <td>3.493685</td>\n",
       "      <td>0.102785</td>\n",
       "      <td>3.735849</td>\n",
       "      <td>3.838634</td>\n",
       "      <td>1.098612</td>\n",
       "      <td>COX6C</td>\n",
       "      <td>FFPE</td>\n",
       "    </tr>\n",
       "  </tbody>\n",
       "</table>\n",
       "</div>"
      ],
      "text/plain": [
       "       mean  epistemic  aleatoric     total    actual gene_name sample_name\n",
       "0  3.157081   0.190603   3.305968  3.496571  2.944439     COX6C        FFPE\n",
       "1  3.493685   0.102785   3.735849  3.838634  1.098612     COX6C        FFPE"
      ]
     },
     "execution_count": 64,
     "metadata": {},
     "output_type": "execute_result"
    }
   ],
   "source": [
    "df_res.head(2)"
   ]
  },
  {
   "cell_type": "code",
   "execution_count": 67,
   "id": "4120ca9e",
   "metadata": {},
   "outputs": [],
   "source": [
    "df_res_ffpe = df_res.loc[df_res.sample_name == 'FFPE', ].copy()"
   ]
  },
  {
   "cell_type": "code",
   "execution_count": 68,
   "id": "3911a2b4",
   "metadata": {
    "scrolled": true
   },
   "outputs": [],
   "source": [
    "dict_corr_genes = {}\n",
    "for g in gene_list:\n",
    "    df_ = df_res_ffpe.loc[df_res_ffpe.gene_name == g,:]\n",
    "    dict_corr_genes[g] = pearsonr(df_['actual'], df_['mean'])[0]\n",
    "sr_correlations_gene_ffpe = pd.Series(dict_corr_genes,)"
   ]
  },
  {
   "cell_type": "code",
   "execution_count": 69,
   "id": "4dc57cf5",
   "metadata": {},
   "outputs": [
    {
     "data": {
      "text/plain": [
       "(0.8225559694474094, 0.0)"
      ]
     },
     "execution_count": 69,
     "metadata": {},
     "output_type": "execute_result"
    }
   ],
   "source": [
    "# what is the correlation of the mean predictor?\n",
    "sr_mean_ = df_res_ffpe.groupby('gene_name')['actual'].mean()\n",
    "\n",
    "df_res_ffpe['mean_pred'] = df_res_ffpe['gene_name'].apply(lambda x: sr_mean_[x])\n",
    "\n",
    "pearsonr(df_res_ffpe['mean_pred'], df_res_ffpe['actual'])"
   ]
  },
  {
   "cell_type": "code",
   "execution_count": 70,
   "id": "392318a7",
   "metadata": {},
   "outputs": [
    {
     "data": {
      "text/plain": [
       "<AxesSubplot:>"
      ]
     },
     "execution_count": 70,
     "metadata": {},
     "output_type": "execute_result"
    },
    {
     "data": {
      "image/png": "[encoded data removed]",
      "text/plain": [
       "<Figure size 432x288 with 1 Axes>"
      ]
     },
     "metadata": {},
     "output_type": "display_data"
    }
   ],
   "source": [
    "sr_correlations_gene_ffpe.plot.bar()"
   ]
  },
  {
   "cell_type": "code",
   "execution_count": 86,
   "id": "351f56c6",
   "metadata": {
    "scrolled": true
   },
   "outputs": [
    {
     "data": {
      "text/html": [
       "<div>\n",
       "<style scoped>\n",
       "    .dataframe tbody tr th:only-of-type {\n",
       "        vertical-align: middle;\n",
       "    }\n",
       "\n",
       "    .dataframe tbody tr th {\n",
       "        vertical-align: top;\n",
       "    }\n",
       "\n",
       "    .dataframe thead th {\n",
       "        text-align: right;\n",
       "    }\n",
       "</style>\n",
       "<table border=\"1\" class=\"dataframe\">\n",
       "  <thead>\n",
       "    <tr style=\"text-align: right;\">\n",
       "      <th></th>\n",
       "      <th>COX6C</th>\n",
       "      <th>TTLL12</th>\n",
       "      <th>PABPC1</th>\n",
       "      <th>GNAS</th>\n",
       "      <th>HSP90AB1</th>\n",
       "      <th>TFF3</th>\n",
       "      <th>ATP1A1</th>\n",
       "      <th>B2M</th>\n",
       "      <th>FASN</th>\n",
       "      <th>SPARC</th>\n",
       "      <th>CD74</th>\n",
       "      <th>CD63</th>\n",
       "      <th>CD24</th>\n",
       "      <th>CD81</th>\n",
       "    </tr>\n",
       "  </thead>\n",
       "  <tbody>\n",
       "    <tr>\n",
       "      <th>0</th>\n",
       "      <td>1.538435e-01</td>\n",
       "      <td>0.055776</td>\n",
       "      <td>1.812005e-01</td>\n",
       "      <td>2.757381e-01</td>\n",
       "      <td>2.366861e-01</td>\n",
       "      <td>2.489440e-01</td>\n",
       "      <td>4.920678e-01</td>\n",
       "      <td>1.677009e-01</td>\n",
       "      <td>3.019957e-01</td>\n",
       "      <td>0.064396</td>\n",
       "      <td>3.142338e-01</td>\n",
       "      <td>3.015430e-01</td>\n",
       "      <td>4.052342e-01</td>\n",
       "      <td>2.517394e-01</td>\n",
       "    </tr>\n",
       "    <tr>\n",
       "      <th>1</th>\n",
       "      <td>7.468318e-14</td>\n",
       "      <td>0.006984</td>\n",
       "      <td>1.046128e-18</td>\n",
       "      <td>4.597234e-42</td>\n",
       "      <td>3.951759e-31</td>\n",
       "      <td>2.323991e-34</td>\n",
       "      <td>7.784128e-143</td>\n",
       "      <td>3.285650e-16</td>\n",
       "      <td>1.682809e-50</td>\n",
       "      <td>0.001838</td>\n",
       "      <td>9.593998e-55</td>\n",
       "      <td>2.394182e-50</td>\n",
       "      <td>4.126877e-93</td>\n",
       "      <td>4.018083e-35</td>\n",
       "    </tr>\n",
       "  </tbody>\n",
       "</table>\n",
       "</div>"
      ],
      "text/plain": [
       "          COX6C    TTLL12        PABPC1          GNAS      HSP90AB1  \\\n",
       "0  1.538435e-01  0.055776  1.812005e-01  2.757381e-01  2.366861e-01   \n",
       "1  7.468318e-14  0.006984  1.046128e-18  4.597234e-42  3.951759e-31   \n",
       "\n",
       "           TFF3         ATP1A1           B2M          FASN     SPARC  \\\n",
       "0  2.489440e-01   4.920678e-01  1.677009e-01  3.019957e-01  0.064396   \n",
       "1  2.323991e-34  7.784128e-143  3.285650e-16  1.682809e-50  0.001838   \n",
       "\n",
       "           CD74          CD63          CD24          CD81  \n",
       "0  3.142338e-01  3.015430e-01  4.052342e-01  2.517394e-01  \n",
       "1  9.593998e-55  2.394182e-50  4.126877e-93  4.018083e-35  "
      ]
     },
     "execution_count": 86,
     "metadata": {},
     "output_type": "execute_result"
    }
   ],
   "source": [
    "df_correlations_gene_ffpe"
   ]
  },
  {
   "cell_type": "code",
   "execution_count": 71,
   "id": "d615c9d8",
   "metadata": {},
   "outputs": [],
   "source": [
    "df_sample = df_res.groupby(['sample_name']).apply(lambda x: pearsonr(x['actual'], x['mean'])[0])\n",
    "df_sample.name = 'pearsonr'\n",
    "df_sample = df_sample.reset_index()"
   ]
  },
  {
   "cell_type": "code",
   "execution_count": 72,
   "id": "7da370b3",
   "metadata": {},
   "outputs": [
    {
     "data": {
      "image/png": "[encoded data removed]",
      "text/plain": [
       "<Figure size 216x360 with 1 Axes>"
      ]
     },
     "metadata": {},
     "output_type": "display_data"
    }
   ],
   "source": [
    "fig, ax = plt.subplots(figsize=(3,5))\n",
    "sns.barplot(x=\"sample_name\", y=\"pearsonr\", data=df_sample, ax=ax)\n",
    "fig.show()"
   ]
  },
  {
   "cell_type": "code",
   "execution_count": 73,
   "id": "7a4a71f5",
   "metadata": {},
   "outputs": [
    {
     "data": {
      "text/html": [
       "<div>\n",
       "<style scoped>\n",
       "    .dataframe tbody tr th:only-of-type {\n",
       "        vertical-align: middle;\n",
       "    }\n",
       "\n",
       "    .dataframe tbody tr th {\n",
       "        vertical-align: top;\n",
       "    }\n",
       "\n",
       "    .dataframe thead th {\n",
       "        text-align: right;\n",
       "    }\n",
       "</style>\n",
       "<table border=\"1\" class=\"dataframe\">\n",
       "  <thead>\n",
       "    <tr style=\"text-align: right;\">\n",
       "      <th></th>\n",
       "      <th>sample_name</th>\n",
       "      <th>pearsonr</th>\n",
       "    </tr>\n",
       "  </thead>\n",
       "  <tbody>\n",
       "    <tr>\n",
       "      <th>0</th>\n",
       "      <td>1160920F</td>\n",
       "      <td>0.622512</td>\n",
       "    </tr>\n",
       "    <tr>\n",
       "      <th>1</th>\n",
       "      <td>FFPE</td>\n",
       "      <td>0.515410</td>\n",
       "    </tr>\n",
       "  </tbody>\n",
       "</table>\n",
       "</div>"
      ],
      "text/plain": [
       "  sample_name  pearsonr\n",
       "0    1160920F  0.622512\n",
       "1        FFPE  0.515410"
      ]
     },
     "execution_count": 73,
     "metadata": {},
     "output_type": "execute_result"
    }
   ],
   "source": [
    "df_sample.head()"
   ]
  },
  {
   "cell_type": "code",
   "execution_count": 89,
   "id": "be287519",
   "metadata": {},
   "outputs": [
    {
     "data": {
      "text/plain": [
       "0.5689612171123308"
      ]
     },
     "execution_count": 89,
     "metadata": {},
     "output_type": "execute_result"
    }
   ],
   "source": [
    "df_res.groupby(['sample_name']).apply(lambda x: pearsonr(x['actual'], x['mean'])[0]).mean()"
   ]
  },
  {
   "cell_type": "code",
   "execution_count": null,
   "id": "5910247c",
   "metadata": {},
   "outputs": [],
   "source": []
  },
  {
   "cell_type": "code",
   "execution_count": null,
   "id": "d2459628",
   "metadata": {},
   "outputs": [],
   "source": []
  },
  {
   "cell_type": "code",
   "execution_count": null,
   "id": "03d06739",
   "metadata": {},
   "outputs": [],
   "source": []
  },
  {
   "cell_type": "code",
   "execution_count": null,
   "id": "a20ee5b3",
   "metadata": {},
   "outputs": [],
   "source": []
  },
  {
   "cell_type": "code",
   "execution_count": null,
   "id": "0bd55027",
   "metadata": {},
   "outputs": [],
   "source": []
  },
  {
   "cell_type": "code",
   "execution_count": null,
   "id": "53e4c4a7",
   "metadata": {},
   "outputs": [],
   "source": []
  },
  {
   "cell_type": "code",
   "execution_count": 69,
   "id": "cb21223f",
   "metadata": {},
   "outputs": [
    {
     "ename": "NameError",
     "evalue": "name 'model' is not defined",
     "output_type": "error",
     "traceback": [
      "\u001b[0;31m---------------------------------------------------------------------------\u001b[0m",
      "\u001b[0;31mNameError\u001b[0m                                 Traceback (most recent call last)",
      "\u001b[0;32m<ipython-input-69-d2735926d35c>\u001b[0m in \u001b[0;36m<module>\u001b[0;34m\u001b[0m\n\u001b[1;32m      1\u001b[0m \u001b[0;31m# get predictions\u001b[0m\u001b[0;34m\u001b[0m\u001b[0;34m\u001b[0m\u001b[0;34m\u001b[0m\u001b[0m\n\u001b[0;32m----> 2\u001b[0;31m \u001b[0mpred_test_1\u001b[0m \u001b[0;34m=\u001b[0m \u001b[0mmodel\u001b[0m\u001b[0;34m.\u001b[0m\u001b[0mpredict\u001b[0m\u001b[0;34m(\u001b[0m\u001b[0mtest_gen__1\u001b[0m\u001b[0;34m)\u001b[0m\u001b[0;34m\u001b[0m\u001b[0;34m\u001b[0m\u001b[0m\n\u001b[0m\u001b[1;32m      3\u001b[0m \u001b[0mpred_test_2\u001b[0m \u001b[0;34m=\u001b[0m \u001b[0mmodel\u001b[0m\u001b[0;34m.\u001b[0m\u001b[0mpredict\u001b[0m\u001b[0;34m(\u001b[0m\u001b[0mtest_gen__2\u001b[0m\u001b[0;34m)\u001b[0m\u001b[0;34m\u001b[0m\u001b[0;34m\u001b[0m\u001b[0m\n",
      "\u001b[0;31mNameError\u001b[0m: name 'model' is not defined"
     ]
    }
   ],
   "source": [
    "# get predictions \n",
    "pred_test_1 = model.predict(test_gen__1)\n",
    "pred_test_2 = model.predict(test_gen__2)"
   ]
  },
  {
   "cell_type": "code",
   "execution_count": 30,
   "id": "b2292cbd",
   "metadata": {
    "scrolled": true
   },
   "outputs": [
    {
     "data": {
      "text/plain": [
       "(2338, 2)"
      ]
     },
     "execution_count": 30,
     "metadata": {},
     "output_type": "execute_result"
    }
   ],
   "source": [
    "pred_test_1[0].shape"
   ]
  },
  {
   "cell_type": "code",
   "execution_count": null,
   "id": "36a6ac26",
   "metadata": {},
   "outputs": [],
   "source": [
    "pred_test_1.shape"
   ]
  },
  {
   "cell_type": "code",
   "execution_count": 32,
   "id": "9848837b",
   "metadata": {},
   "outputs": [],
   "source": [
    "res = get_samples_stats_geneid(pred_test_1, gene_list)"
   ]
  },
  {
   "cell_type": "code",
   "execution_count": 33,
   "id": "da565ff0",
   "metadata": {},
   "outputs": [
    {
     "data": {
      "text/plain": [
       "(2338, 4, 14)"
      ]
     },
     "execution_count": 33,
     "metadata": {},
     "output_type": "execute_result"
    }
   ],
   "source": [
    "res.shape"
   ]
  },
  {
   "cell_type": "code",
   "execution_count": 114,
   "id": "a78dd6b1",
   "metadata": {},
   "outputs": [],
   "source": [
    "def get_results(df_target, np_preds, list_genes):\n",
    "    \n",
    "    # instantiate dictionary\n",
    "    dict_results = {}\n",
    "    \n",
    "    for gene_idx, gene_name in enumerate(list_genes):\n",
    "        \n",
    "        # actual \n",
    "        target = df_target[gene_name]\n",
    "\n",
    "        # predicted NB params \n",
    "        n, p = np_preds[gene_idx][:,0], np_preds[gene_idx][:,1]\n",
    "        \n",
    "        # mean, var, std \n",
    "        mu, var = nbinom.stats(n, p, moments='mv')\n",
    "        std = np.sqrt(var)\n",
    "\n",
    "        # create dataframe\n",
    "        df_temp = pd.DataFrame(\n",
    "            data=np.stack([mu, var, std, target], axis=1), \n",
    "            columns=['mean', 'var', 'std', 'target'],\n",
    "            index= df_target.index\n",
    "        )\n",
    "        \n",
    "        # append dictionary\n",
    "        dict_results[gene_name] = df_temp\n",
    "        \n",
    "    return dict_results"
   ]
  },
  {
   "cell_type": "code",
   "execution_count": 135,
   "id": "98fe1eda",
   "metadata": {},
   "outputs": [],
   "source": [
    "tf.random.set_seed()"
   ]
  },
  {
   "cell_type": "code",
   "execution_count": 22,
   "id": "cf189288",
   "metadata": {
    "scrolled": true
   },
   "outputs": [
    {
     "data": {
      "image/png": "[encoded data removed]",
      "text/plain": [
       "<Figure size 432x288 with 1 Axes>"
      ]
     },
     "metadata": {
      "needs_background": "light"
     },
     "output_type": "display_data"
    }
   ],
   "source": [
    "plt.plot(train_history.history['loss'])\n",
    "plt.plot(train_history.history['val_loss'])\n",
    "plt.legend(['loss', 'val_loss'])\n",
    "plt.xlabel('Epochs')\n",
    "plt.show()"
   ]
  },
  {
   "cell_type": "code",
   "execution_count": 34,
   "id": "d8969d30",
   "metadata": {},
   "outputs": [],
   "source": [
    "test_dataset_1??"
   ]
  },
  {
   "cell_type": "code",
   "execution_count": 45,
   "id": "368c508f",
   "metadata": {},
   "outputs": [
    {
     "data": {
      "text/plain": [
       "(2338, 14)"
      ]
     },
     "execution_count": 45,
     "metadata": {},
     "output_type": "execute_result"
    }
   ],
   "source": [
    "# TO DO\n",
    "\n",
    "# 1. deterministic write pipeline for producing df w [mean, std, actual]\n",
    "# 1.5. train ensemble\n",
    "# 2. Bayesian write pipeline for producing df w [epistemic, aleatoric, total_uncertainty, expectation, variance, actual]\n",
    "# 3. produce plot showing the selective prediction w uncertainty thresholding\n",
    "# 4. produce plot showing histology slide with companion aleatoric, epistemic, and total\n",
    "\n",
    "# \n",
    "# Draft results by end of week 2 (Feb-17th)"
   ]
  },
  {
   "cell_type": "code",
   "execution_count": null,
   "id": "317153b2",
   "metadata": {},
   "outputs": [],
   "source": [
    "test_dataset_1"
   ]
  },
  {
   "cell_type": "code",
   "execution_count": 87,
   "id": "4bea892c",
   "metadata": {},
   "outputs": [],
   "source": []
  },
  {
   "cell_type": "code",
   "execution_count": 89,
   "id": "b2a2bec5",
   "metadata": {},
   "outputs": [
    {
     "data": {
      "text/html": [
       "<div>\n",
       "<style scoped>\n",
       "    .dataframe tbody tr th:only-of-type {\n",
       "        vertical-align: middle;\n",
       "    }\n",
       "\n",
       "    .dataframe tbody tr th {\n",
       "        vertical-align: top;\n",
       "    }\n",
       "\n",
       "    .dataframe thead th {\n",
       "        text-align: right;\n",
       "    }\n",
       "</style>\n",
       "<table border=\"1\" class=\"dataframe\">\n",
       "  <thead>\n",
       "    <tr style=\"text-align: right;\">\n",
       "      <th></th>\n",
       "      <th>mean</th>\n",
       "      <th>var</th>\n",
       "      <th>std</th>\n",
       "      <th>target</th>\n",
       "    </tr>\n",
       "  </thead>\n",
       "  <tbody>\n",
       "    <tr>\n",
       "      <th>0</th>\n",
       "      <td>2.935439</td>\n",
       "      <td>4.074678</td>\n",
       "      <td>2.018583</td>\n",
       "      <td>2.944439</td>\n",
       "    </tr>\n",
       "    <tr>\n",
       "      <th>1</th>\n",
       "      <td>5.838997</td>\n",
       "      <td>11.633478</td>\n",
       "      <td>3.410788</td>\n",
       "      <td>1.098612</td>\n",
       "    </tr>\n",
       "    <tr>\n",
       "      <th>2</th>\n",
       "      <td>7.910624</td>\n",
       "      <td>17.247154</td>\n",
       "      <td>4.152969</td>\n",
       "      <td>2.079442</td>\n",
       "    </tr>\n",
       "    <tr>\n",
       "      <th>3</th>\n",
       "      <td>4.063245</td>\n",
       "      <td>6.980574</td>\n",
       "      <td>2.642078</td>\n",
       "      <td>1.098612</td>\n",
       "    </tr>\n",
       "    <tr>\n",
       "      <th>4</th>\n",
       "      <td>4.097795</td>\n",
       "      <td>6.987684</td>\n",
       "      <td>2.643423</td>\n",
       "      <td>0.693147</td>\n",
       "    </tr>\n",
       "  </tbody>\n",
       "</table>\n",
       "</div>"
      ],
      "text/plain": [
       "       mean        var       std    target\n",
       "0  2.935439   4.074678  2.018583  2.944439\n",
       "1  5.838997  11.633478  3.410788  1.098612\n",
       "2  7.910624  17.247154  4.152969  2.079442\n",
       "3  4.063245   6.980574  2.642078  1.098612\n",
       "4  4.097795   6.987684  2.643423  0.693147"
      ]
     },
     "execution_count": 89,
     "metadata": {},
     "output_type": "execute_result"
    }
   ],
   "source": [
    "df_temp.head()"
   ]
  },
  {
   "cell_type": "code",
   "execution_count": 98,
   "id": "d02aef23",
   "metadata": {},
   "outputs": [],
   "source": [
    "df_target = df_target_1.copy()\n",
    "np_preds = pred_test_1.copy()\n",
    "list_genes = gene_list.copy()"
   ]
  },
  {
   "cell_type": "code",
   "execution_count": 107,
   "id": "8d9e39f6",
   "metadata": {},
   "outputs": [],
   "source": [
    "dict_res1 = get_results(\n",
    "    df_target = df_target_1, \n",
    "    np_preds = pred_test_1,\n",
    "    list_genes = gene_list\n",
    ")"
   ]
  },
  {
   "cell_type": "code",
   "execution_count": 115,
   "id": "fd763b5c",
   "metadata": {
    "scrolled": true
   },
   "outputs": [],
   "source": [
    "dict_res2 = get_results(\n",
    "    df_target = df_target_2, \n",
    "    np_preds = pred_test_2,\n",
    "    list_genes = gene_list\n",
    ")"
   ]
  },
  {
   "cell_type": "code",
   "execution_count": 128,
   "id": "c7f9fffd",
   "metadata": {},
   "outputs": [],
   "source": [
    "df_res1_all = pd.concat([dict_res1[g] for g in dict_res1.keys()], axis=0)\n",
    "df_res2_all = pd.concat([dict_res2[g] for g in dict_res2.keys()], axis=0)"
   ]
  },
  {
   "cell_type": "code",
   "execution_count": 129,
   "id": "9e84b4cd",
   "metadata": {},
   "outputs": [],
   "source": [
    "df_res_all = pd.concat([df_res1_all, df_res2_all], axis=0)"
   ]
  },
  {
   "cell_type": "code",
   "execution_count": 131,
   "id": "5d25670d",
   "metadata": {
    "scrolled": true
   },
   "outputs": [
    {
     "data": {
      "text/plain": [
       "(0.2762159394096582, 0.0)"
      ]
     },
     "execution_count": 131,
     "metadata": {},
     "output_type": "execute_result"
    }
   ],
   "source": [
    "pearsonr(df_res1_all['target'], df_res1_all['mean'])"
   ]
  },
  {
   "cell_type": "code",
   "execution_count": 132,
   "id": "8bb83626",
   "metadata": {
    "scrolled": true
   },
   "outputs": [
    {
     "data": {
      "text/plain": [
       "(0.5736514250260873, 0.0)"
      ]
     },
     "execution_count": 132,
     "metadata": {},
     "output_type": "execute_result"
    }
   ],
   "source": [
    "pearsonr(df_res2_all['target'], df_res2_all['mean'])"
   ]
  },
  {
   "cell_type": "code",
   "execution_count": 130,
   "id": "32c01a7a",
   "metadata": {
    "scrolled": true
   },
   "outputs": [
    {
     "data": {
      "text/plain": [
       "(0.4494130066977668, 0.0)"
      ]
     },
     "execution_count": 130,
     "metadata": {},
     "output_type": "execute_result"
    }
   ],
   "source": [
    "pearsonr(df_res_all['target'], df_res_all['mean'])"
   ]
  },
  {
   "cell_type": "code",
   "execution_count": 121,
   "id": "40519971",
   "metadata": {},
   "outputs": [
    {
     "data": {
      "text/plain": [
       "(-0.1027875138788497, 1.0353204570941155e-12)"
      ]
     },
     "execution_count": 121,
     "metadata": {},
     "output_type": "execute_result"
    }
   ],
   "source": [
    "pearsonr(dict_res2['COX6C']['mean'], dict_res2['COX6C']['target'])"
   ]
  },
  {
   "cell_type": "code",
   "execution_count": 117,
   "id": "7ad68680",
   "metadata": {},
   "outputs": [
    {
     "data": {
      "text/html": [
       "<div>\n",
       "<style scoped>\n",
       "    .dataframe tbody tr th:only-of-type {\n",
       "        vertical-align: middle;\n",
       "    }\n",
       "\n",
       "    .dataframe tbody tr th {\n",
       "        vertical-align: top;\n",
       "    }\n",
       "\n",
       "    .dataframe thead th {\n",
       "        text-align: right;\n",
       "    }\n",
       "</style>\n",
       "<table border=\"1\" class=\"dataframe\">\n",
       "  <thead>\n",
       "    <tr style=\"text-align: right;\">\n",
       "      <th></th>\n",
       "      <th>mean</th>\n",
       "      <th>var</th>\n",
       "      <th>std</th>\n",
       "      <th>target</th>\n",
       "    </tr>\n",
       "  </thead>\n",
       "  <tbody>\n",
       "    <tr>\n",
       "      <th>TGGTACCGGCACAGCC-1-1160920F</th>\n",
       "      <td>3.259137</td>\n",
       "      <td>5.483247</td>\n",
       "      <td>2.341633</td>\n",
       "      <td>0.000000</td>\n",
       "    </tr>\n",
       "    <tr>\n",
       "      <th>GCGCGTTTAAATCGTA-1-1160920F</th>\n",
       "      <td>2.897606</td>\n",
       "      <td>4.424093</td>\n",
       "      <td>2.103353</td>\n",
       "      <td>0.693147</td>\n",
       "    </tr>\n",
       "    <tr>\n",
       "      <th>TGCCTTGCCCTTACGG-1-1160920F</th>\n",
       "      <td>4.820837</td>\n",
       "      <td>9.262687</td>\n",
       "      <td>3.043466</td>\n",
       "      <td>1.098612</td>\n",
       "    </tr>\n",
       "    <tr>\n",
       "      <th>GACGACTTTCCAAGAA-1-1160920F</th>\n",
       "      <td>3.893397</td>\n",
       "      <td>6.666375</td>\n",
       "      <td>2.581932</td>\n",
       "      <td>1.791759</td>\n",
       "    </tr>\n",
       "    <tr>\n",
       "      <th>CCAGTGAGCTCCTTGT-1-1160920F</th>\n",
       "      <td>1.962099</td>\n",
       "      <td>2.708454</td>\n",
       "      <td>1.645738</td>\n",
       "      <td>0.000000</td>\n",
       "    </tr>\n",
       "  </tbody>\n",
       "</table>\n",
       "</div>"
      ],
      "text/plain": [
       "                                 mean       var       std    target\n",
       "TGGTACCGGCACAGCC-1-1160920F  3.259137  5.483247  2.341633  0.000000\n",
       "GCGCGTTTAAATCGTA-1-1160920F  2.897606  4.424093  2.103353  0.693147\n",
       "TGCCTTGCCCTTACGG-1-1160920F  4.820837  9.262687  3.043466  1.098612\n",
       "GACGACTTTCCAAGAA-1-1160920F  3.893397  6.666375  2.581932  1.791759\n",
       "CCAGTGAGCTCCTTGT-1-1160920F  1.962099  2.708454  1.645738  0.000000"
      ]
     },
     "execution_count": 117,
     "metadata": {},
     "output_type": "execute_result"
    }
   ],
   "source": [
    "dict_res2['COX6C'].head()"
   ]
  },
  {
   "cell_type": "markdown",
   "id": "c5569362",
   "metadata": {},
   "source": [
    "# SUPERSEDED"
   ]
  },
  {
   "cell_type": "raw",
   "id": "446a7ca6",
   "metadata": {},
   "source": [
    "# instantiate model\n",
    "K.clear_session()\n",
    "model = CNN_NB_multiple_genes((299, 299, 3), n_genes, cnnbase=\"resnet50\")\n",
    "callback = tf.keras.callbacks.EarlyStopping(\n",
    "    monitor='val_loss', patience=20,\n",
    "    restore_best_weights=False\n",
    ")"
   ]
  },
  {
   "cell_type": "raw",
   "id": "0b123641",
   "metadata": {
    "scrolled": false
   },
   "source": [
    "devices = tf.config.list_physical_devices(\"GPU\")\n",
    "if len(devices) > 0:\n",
    "    print(\"GPU is available\")\n",
    "else:\n",
    "    print(\"GPU is not available\")"
   ]
  },
  {
   "cell_type": "raw",
   "id": "f3eacabd",
   "metadata": {
    "scrolled": false
   },
   "source": [
    "fig, ax = plt.subplots(nrows=len(gene_list), ncols=2, figsize=(10,30))\n",
    "for gid, gn in enumerate(gene_list):\n",
    "    \n",
    "    p_all = ensemble_results1[:, 1, gid, :].reshape(-1)\n",
    "    n_all = ensemble_results1[:, 0, gid, :].reshape(-1)\n",
    "    \n",
    "    ax[gid][0].hist(n_all, bins=20, label='n (all samples)', color='b', alpha=0.6, density=True)\n",
    "    ax[gid][1].hist(p_all, bins=20, label='p (all samples)', color='r', alpha=0.6, density=True)\n",
    "    # plt.hist(n_all, bins=100, label='n (all samples)', color='b', alpha=0.6)\n",
    "    # plt.hist(p_all, bins=100, label='p (all samples)', color='r', alpha=0.6)\n",
    "    ax[gid][0].set_xlim([0,ensemble_results1[:, 0, :, :].max()])\n",
    "    ax[gid][1].set_xlim([0,1])\n",
    "    ax[gid][0].legend()\n",
    "    ax[gid][1].legend()\n",
    "    ax[gid][0].set_ylabel(gn)\n",
    "    \n",
    "fig.suptitle('FFPE', fontsize=20, y=0.9)\n",
    "fig.show()"
   ]
  },
  {
   "cell_type": "raw",
   "id": "d5861688",
   "metadata": {
    "scrolled": false
   },
   "source": [
    "fig, ax = plt.subplots(nrows=len(gene_list), ncols=2, figsize=(10,30))\n",
    "for gid, gn in enumerate(gene_list):\n",
    "    \n",
    "    p_all = ensemble_results2[:, 1, gid, :].reshape(-1)\n",
    "    n_all = ensemble_results2[:, 0, gid, :].reshape(-1)\n",
    "    \n",
    "    ax[gid][0].hist(n_all, bins=20, label='n (all samples)', color='b', alpha=0.6, density=True)\n",
    "    ax[gid][1].hist(p_all, bins=20, label='p (all samples)', color='r', alpha=0.6, density=True)\n",
    "    # plt.hist(n_all, bins=100, label='n (all samples)', color='b', alpha=0.6)\n",
    "    # plt.hist(p_all, bins=100, label='p (all samples)', color='r', alpha=0.6)\n",
    "    ax[gid][0].set_xlim([0,ensemble_results2[:, 0, :, :].max()])\n",
    "    ax[gid][1].set_xlim([0,1])\n",
    "    ax[gid][0].legend()\n",
    "    ax[gid][1].legend()\n",
    "    ax[gid][0].set_ylabel(gn)\n",
    "fig.suptitle('1160920F', fontsize=20, y=.9)\n",
    "fig.show()"
   ]
  }
 ],
 "metadata": {
  "kernelspec": {
   "display_name": "Python 3",
   "language": "python",
   "name": "python3"
  },
  "language_info": {
   "codemirror_mode": {
    "name": "ipython",
    "version": 3
   },
   "file_extension": ".py",
   "mimetype": "text/x-python",
   "name": "python",
   "nbconvert_exporter": "python",
   "pygments_lexer": "ipython3",
   "version": "3.8.6"
  }
 },
 "nbformat": 4,
 "nbformat_minor": 5
}
