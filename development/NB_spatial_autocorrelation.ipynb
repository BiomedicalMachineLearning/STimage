{
 "cells": [
  {
   "cell_type": "code",
   "execution_count": null,
   "id": "boolean-nursery",
   "metadata": {},
   "outputs": [],
   "source": [
    "import sys\n",
    "import stlearn as st\n",
    "st.settings.set_figure_params(dpi=300)\n",
    "from pathlib import Path\n",
    "import pandas as pd\n",
    "import matplotlib.pyplot as plt\n",
    "import matplotlib\n",
    "import sys\n",
    "file = Path(\"../stimage\").resolve()\n",
    "parent= file.parent\n",
    "sys.path.append(str(parent))\n",
    "from PIL import Image\n",
    "from stimage._utils import gene_plot, Read10X, ReadOldST, tiling\n",
    "from stimage._model import CNN_NB_multiple_genes\n",
    "from stimage._data_generator import DataGenerator\n",
    "import tensorflow as tf\n",
    "import seaborn as sns\n",
    "sns.set_style(\"white\")\n",
    "import matplotlib.pyplot as plt\n",
    "from scipy import stats\n",
    "import numpy as np"
   ]
  },
  {
   "cell_type": "code",
   "execution_count": null,
   "id": "equipped-delight",
   "metadata": {},
   "outputs": [],
   "source": [
    "from scipy import stats\n",
    "\n",
    "def plot_correlation(df, attr_1, attr_2):\n",
    "    r = stats.pearsonr(df[attr_1], \n",
    "                       df[attr_2])[0] **2\n",
    "\n",
    "    g = sns.lmplot(data=df,\n",
    "        x=attr_1, y=attr_2,\n",
    "        height=5, legend=True\n",
    "    )\n",
    "    # g.set(ylim=(0, 360), xlim=(0,360))\n",
    "\n",
    "    g.set_axis_labels(attr_1, attr_2)\n",
    "    plt.annotate(r'$R^2:{0:.2f}$'.format(r),\n",
    "                (max(df[attr_1])*0.9, max(df[attr_2])*0.9))\n",
    "    return g"
   ]
  },
  {
   "cell_type": "code",
   "execution_count": null,
   "id": "civil-gamma",
   "metadata": {},
   "outputs": [],
   "source": [
    "BASE_PATH = Path(\"/clusterdata/uqxtan9/Xiao/STimage/dataset/breast_cancer_10x_visium\")\n",
    "TILE_PATH = Path(\"/tmp\") / \"tiles\"\n",
    "TILE_PATH.mkdir(parents=True, exist_ok=True)\n",
    "\n",
    "SAMPLE = \"block1\"\n",
    "Sample1 = st.Read10X(BASE_PATH / SAMPLE, \n",
    "                  library_id=SAMPLE, \n",
    "                  count_file=\"V1_Breast_Cancer_Block_A_Section_1_filtered_feature_bc_matrix.h5\",\n",
    "                  quality=\"fulres\",)\n",
    "                  #source_image_path=BASE_PATH / SAMPLE /\"V1_Breast_Cancer_Block_A_Section_1_image.tif\")\n",
    "img = plt.imread(BASE_PATH / SAMPLE /\"V1_Breast_Cancer_Block_A_Section_1_image.tif\", 0)\n",
    "Sample1.uns[\"spatial\"][SAMPLE]['images'][\"fulres\"] = img\n",
    "\n",
    "SAMPLE = \"block2\"\n",
    "Sample2 = st.Read10X(BASE_PATH / SAMPLE, \n",
    "                  library_id=SAMPLE, \n",
    "                  count_file=\"V1_Breast_Cancer_Block_A_Section_2_filtered_feature_bc_matrix.h5\",\n",
    "                  quality=\"fulres\",)\n",
    "                  #source_image_path=BASE_PATH / SAMPLE /\"V1_Breast_Cancer_Block_A_Section_1_image.tif\")\n",
    "img = plt.imread(BASE_PATH / SAMPLE /\"V1_Breast_Cancer_Block_A_Section_2_image.tif\", 0)\n",
    "Sample2.uns[\"spatial\"][SAMPLE]['images'][\"fulres\"] = img"
   ]
  },
  {
   "cell_type": "code",
   "execution_count": null,
   "id": "familiar-lambda",
   "metadata": {},
   "outputs": [],
   "source": [
    "Sample1"
   ]
  },
  {
   "cell_type": "code",
   "execution_count": null,
   "id": "arabic-casting",
   "metadata": {},
   "outputs": [],
   "source": [
    "Sample2"
   ]
  },
  {
   "cell_type": "code",
   "execution_count": null,
   "id": "infinite-financing",
   "metadata": {},
   "outputs": [],
   "source": [
    "gene_list=[\"SLITRK6\", \"PGM5\", \"LINC00645\", \n",
    "           \"TTLL12\", \"COX6C\", \"CPB1\",\n",
    "           \"KRT5\", \"MALAT1\"]\n",
    "gene_list"
   ]
  },
  {
   "cell_type": "code",
   "execution_count": null,
   "id": "enormous-carbon",
   "metadata": {
    "scrolled": true
   },
   "outputs": [],
   "source": [
    "for adata in [\n",
    "    Sample1,\n",
    "    Sample2,\n",
    "]:\n",
    "#     count_df = adata.to_df()\n",
    "#     count_df[count_df <=1] = 0\n",
    "#     count_df[count_df >1] = 1\n",
    "#     adata.X = count_df\n",
    "#     adata[:,gene_list]\n",
    "    st.pp.filter_genes(adata,min_cells=3)\n",
    "#     st.pp.normalize_total(adata)\n",
    "    st.pp.log1p(adata)\n",
    "#     st.pp.scale(adata)\n",
    "\n",
    "    # pre-processing for spot image\n",
    "    TILE_PATH_ = TILE_PATH / list(adata.uns[\"spatial\"].keys())[0]\n",
    "    TILE_PATH_.mkdir(parents=True, exist_ok=True)\n",
    "    tiling(adata, TILE_PATH_, crop_size=299)"
   ]
  },
  {
   "cell_type": "code",
   "execution_count": null,
   "id": "tight-dubai",
   "metadata": {},
   "outputs": [],
   "source": [
    "n_genes = len(gene_list)\n",
    "training_index = Sample1.obs.sample(frac=0.7, random_state=1).index\n",
    "training_dataset = Sample1[training_index,].copy()\n",
    "\n",
    "valid_index = Sample1.obs.index.isin(training_index)\n",
    "valid_dataset = Sample1[~valid_index,].copy()\n",
    "\n",
    "test_dataset = Sample2.copy()\n",
    "\n",
    "train_gen = tf.data.Dataset.from_generator(\n",
    "            lambda:DataGenerator(adata=training_dataset, \n",
    "                          genes=gene_list, aug=False),\n",
    "            output_types=(tf.float32, tuple([tf.float32]*n_genes)), \n",
    "            output_shapes=([299,299,3], tuple([1]*n_genes))\n",
    ")\n",
    "train_gen_ = train_gen.shuffle(buffer_size=500).batch(128).repeat(3).cache().prefetch(tf.data.experimental.AUTOTUNE)\n",
    "valid_gen = tf.data.Dataset.from_generator(\n",
    "            lambda:DataGenerator(adata=valid_dataset, \n",
    "                          genes=gene_list), \n",
    "            output_types=(tf.float32, tuple([tf.float32]*n_genes)), \n",
    "            output_shapes=([299,299,3], tuple([1]*n_genes))\n",
    ")\n",
    "valid_gen_ = valid_gen.shuffle(buffer_size=500).batch(128).repeat(3).cache().prefetch(tf.data.experimental.AUTOTUNE)\n",
    "test_gen = tf.data.Dataset.from_generator(\n",
    "            lambda:DataGenerator(adata=test_dataset, \n",
    "                          genes=gene_list), \n",
    "            output_types=(tf.float32, tuple([tf.float32]*n_genes)), \n",
    "            output_shapes=([299,299,3], tuple([1]*n_genes))\n",
    ")\n",
    "test_gen_ = test_gen.batch(1)"
   ]
  },
  {
   "cell_type": "code",
   "execution_count": null,
   "id": "direct-minimum",
   "metadata": {},
   "outputs": [],
   "source": []
  },
  {
   "cell_type": "code",
   "execution_count": null,
   "id": "indonesian-norman",
   "metadata": {},
   "outputs": [],
   "source": [
    "model = CNN_NB_multiple_genes((299, 299, 3), n_genes)\n",
    "callback = tf.keras.callbacks.EarlyStopping(monitor='val_loss', patience=20,\n",
    "                                            restore_best_weights=False)"
   ]
  },
  {
   "cell_type": "code",
   "execution_count": null,
   "id": "animal-present",
   "metadata": {
    "scrolled": true
   },
   "outputs": [],
   "source": [
    "train_history = model.fit(train_gen_,\n",
    "                          epochs=50,\n",
    "                          validation_data=valid_gen_,\n",
    "                          callbacks=[callback]\n",
    "                          )"
   ]
  },
  {
   "cell_type": "code",
   "execution_count": null,
   "id": "organizational-mexico",
   "metadata": {},
   "outputs": [],
   "source": [
    "test_predictions = model.predict(test_gen_)\n",
    "from scipy.stats import nbinom\n",
    "y_preds = []\n",
    "for i in range(n_genes):\n",
    "    n = test_predictions[i][:, 0]\n",
    "    p = test_predictions[i][:, 1]\n",
    "    y_pred = nbinom.mean(n, p)\n",
    "    y_preds.append(y_pred)\n",
    "test_dataset.obsm[\"predicted_gene\"] = np.array(y_preds).transpose()"
   ]
  },
  {
   "cell_type": "code",
   "execution_count": null,
   "id": "affected-values",
   "metadata": {},
   "outputs": [],
   "source": [
    "test_dataset_ = test_dataset[:,gene_list].copy()\n",
    "test_dataset_.X = test_dataset_.obsm[\"predicted_gene\"]"
   ]
  },
  {
   "cell_type": "code",
   "execution_count": null,
   "id": "educational-advisory",
   "metadata": {
    "scrolled": true
   },
   "outputs": [],
   "source": [
    "for i in gene_list:\n",
    "    print(i)\n",
    "    gene_plot(test_dataset_, genes=i, spot_size=8)"
   ]
  },
  {
   "cell_type": "code",
   "execution_count": null,
   "id": "experienced-allen",
   "metadata": {
    "scrolled": true
   },
   "outputs": [],
   "source": [
    "gene_plot(test_dataset, genes=\"COX6C\", spot_size=8)"
   ]
  },
  {
   "cell_type": "code",
   "execution_count": null,
   "id": "thousand-westminster",
   "metadata": {},
   "outputs": [],
   "source": [
    "gene_plot(test_dataset, genes=\"KRT5\", spot_size=8)"
   ]
  },
  {
   "cell_type": "code",
   "execution_count": null,
   "id": "still-sodium",
   "metadata": {},
   "outputs": [],
   "source": [
    "gene_list[6]"
   ]
  },
  {
   "cell_type": "code",
   "execution_count": null,
   "id": "latter-artist",
   "metadata": {},
   "outputs": [],
   "source": [
    "def model_predict_gene(gene):\n",
    "    i = gene_list.index(gene)\n",
    "    from scipy.stats import nbinom\n",
    "    def model_predict(x):\n",
    "        test_predictions = model.predict(x)\n",
    "        n = test_predictions[i][:, 0]\n",
    "        p = test_predictions[i][:, 1]\n",
    "        y_pred = nbinom.mean(n, p)\n",
    "        return y_pred.reshape(-1,1)\n",
    "    return model_predict"
   ]
  },
  {
   "cell_type": "code",
   "execution_count": null,
   "id": "preceding-watts",
   "metadata": {},
   "outputs": [],
   "source": [
    "import matplotlib.pyplot as plt\n",
    "from libpysal.weights.contiguity import Queen\n",
    "from libpysal import examples\n",
    "import numpy as np\n",
    "import pandas as pd\n",
    "import geopandas as gpd\n",
    "import os\n",
    "import splot\n",
    "from splot.esda import moran_scatterplot, lisa_cluster\n",
    "from esda.moran import Moran, Moran_Local\n",
    "from esda.moran import Moran_BV, Moran_Local_BV\n",
    "from splot.esda import plot_moran_bv_simulation, plot_moran_bv, plot_local_autocorrelation"
   ]
  },
  {
   "cell_type": "code",
   "execution_count": null,
   "id": "efficient-first",
   "metadata": {},
   "outputs": [],
   "source": [
    "gene = gene_list[4]"
   ]
  },
  {
   "cell_type": "code",
   "execution_count": null,
   "id": "impaired-stick",
   "metadata": {},
   "outputs": [],
   "source": [
    "test_dataset_.obsm[\"gpd\"] = gpd.GeoDataFrame(test_dataset_.obs,\n",
    "                                             geometry=gpd.points_from_xy(\n",
    "                                                 test_dataset_.obs.imagecol, \n",
    "                                                 test_dataset_.obs.imagerow))\n"
   ]
  },
  {
   "cell_type": "code",
   "execution_count": null,
   "id": "governing-metropolitan",
   "metadata": {},
   "outputs": [],
   "source": [
    "test_dataset_.obsm[\"gpd\"]"
   ]
  },
  {
   "cell_type": "code",
   "execution_count": null,
   "id": "british-affiliation",
   "metadata": {},
   "outputs": [],
   "source": [
    "x = test_dataset.to_df()[gene].values\n",
    "y = test_dataset_.to_df()[gene].values\n",
    "w = Queen.from_dataframe(test_dataset_.obsm[\"gpd\"])"
   ]
  },
  {
   "cell_type": "code",
   "execution_count": null,
   "id": "racial-anatomy",
   "metadata": {},
   "outputs": [],
   "source": [
    "test_dataset_.obsm[\"gpd\"][\"gc_{}\".format(gene)] = x\n",
    "test_dataset_.obsm[\"gpd\"][\"pred_{}\".format(gene)] = y\n",
    "tissue_image = test_dataset_.uns[\"spatial\"][\"block2\"][\"images\"][\"fulres\"]"
   ]
  },
  {
   "cell_type": "code",
   "execution_count": null,
   "id": "established-quarter",
   "metadata": {},
   "outputs": [],
   "source": [
    "moran = Moran(y,w)\n",
    "moran_bv = Moran_BV(y, x, w)\n",
    "moran_loc = Moran_Local(y, w)\n",
    "moran_loc_bv = Moran_Local_BV(y, x, w)"
   ]
  },
  {
   "cell_type": "code",
   "execution_count": null,
   "id": "weird-casino",
   "metadata": {},
   "outputs": [],
   "source": [
    "plot_correlation(test_dataset_.obsm[\"gpd\"],\n",
    "                 \"pred_{}\".format(gene),\n",
    "                 \"gc_{}\".format(gene))\n",
    "plt.show()"
   ]
  },
  {
   "cell_type": "code",
   "execution_count": null,
   "id": "average-speech",
   "metadata": {},
   "outputs": [],
   "source": [
    "fig, ax = plt.subplots(figsize=(5,5))\n",
    "moran_scatterplot(moran_bv, ax=ax)\n",
    "ax.set_xlabel('prediction of gene {}'.format(gene))\n",
    "ax.set_ylabel('Spatial lag of ground truth of gene {}'.format(gene))\n",
    "plt.tight_layout()\n",
    "plt.show()"
   ]
  },
  {
   "cell_type": "code",
   "execution_count": null,
   "id": "bacterial-williams",
   "metadata": {},
   "outputs": [],
   "source": [
    "fig, ax = plt.subplots(figsize=(5,5))\n",
    "moran_scatterplot(moran_loc_bv, p=0.05, ax=ax)\n",
    "ax.set_xlabel('prediction of gene {}'.format(gene))\n",
    "ax.set_ylabel('Spatial lag of ground truth of gene {}'.format(gene))\n",
    "plt.tight_layout()\n",
    "plt.show()"
   ]
  },
  {
   "cell_type": "code",
   "execution_count": null,
   "id": "extreme-ebony",
   "metadata": {},
   "outputs": [],
   "source": [
    "def plot_choropleth(gdf, \n",
    "                    attribute_1,\n",
    "                    attribute_2,\n",
    "                    bg_img,\n",
    "                    alpha=0.5,\n",
    "                    scheme='Quantiles', \n",
    "                    cmap='YlGnBu', \n",
    "                    legend=True):\n",
    "    \n",
    "    fig, axs = plt.subplots(2,1, figsize=(5, 8),\n",
    "                            subplot_kw={'adjustable':'datalim'})\n",
    "    \n",
    "    # Choropleth for attribute_1\n",
    "    gdf.plot(column=attribute_1, scheme=scheme, cmap=cmap,\n",
    "             legend=legend, legend_kwds={'loc': 'upper left',\n",
    "                                         'bbox_to_anchor': (0.92, 0.8)},\n",
    "             ax=axs[0], alpha=alpha, markersize=2)\n",
    "    \n",
    "    axs[0].imshow(bg_img)\n",
    "    axs[0].set_title('choropleth plot for {}'.format(attribute_1), y=0.8)\n",
    "    axs[0].set_axis_off()\n",
    "    \n",
    "    # Choropleth for attribute_2\n",
    "    gdf.plot(column=attribute_2, scheme=scheme, cmap=cmap,\n",
    "             legend=legend, legend_kwds={'loc': 'upper left',\n",
    "                                         'bbox_to_anchor': (0.92, 0.8)},\n",
    "             ax=axs[1], alpha=alpha, markersize=2)\n",
    "    \n",
    "    axs[1].imshow(bg_img)\n",
    "    axs[1].set_title('choropleth plot for {}'.format(attribute_2), y=0.8)\n",
    "    axs[1].set_axis_off()\n",
    "    \n",
    "    plt.tight_layout()\n",
    "    \n",
    "    return fig, ax "
   ]
  },
  {
   "cell_type": "code",
   "execution_count": null,
   "id": "painful-sessions",
   "metadata": {},
   "outputs": [],
   "source": [
    "plot_choropleth(test_dataset_.obsm[\"gpd\"], \n",
    "                \"gc_{}\".format(gene),\n",
    "                \"pred_{}\".format(gene),\n",
    "                tissue_image)\n",
    "plt.show()"
   ]
  },
  {
   "cell_type": "code",
   "execution_count": null,
   "id": "exposed-disco",
   "metadata": {},
   "outputs": [],
   "source": [
    "lisa_cluster(moran_loc_bv, test_dataset_.obsm[\"gpd\"], p=0.05, \n",
    "             figsize = (9,9), markersize=12, **{\"alpha\":0.8})\n",
    "plt.imshow(test_dataset_.uns[\"spatial\"][\"block2\"][\"images\"][\"fulres\"])\n",
    "plt.show()"
   ]
  },
  {
   "cell_type": "code",
   "execution_count": null,
   "id": "primary-statement",
   "metadata": {},
   "outputs": [],
   "source": []
  },
  {
   "cell_type": "code",
   "execution_count": null,
   "id": "beneficial-recycling",
   "metadata": {},
   "outputs": [],
   "source": []
  },
  {
   "cell_type": "code",
   "execution_count": null,
   "id": "everyday-coral",
   "metadata": {},
   "outputs": [],
   "source": []
  }
 ],
 "metadata": {
  "kernelspec": {
   "display_name": "Python 3",
   "language": "python",
   "name": "python3"
  },
  "language_info": {
   "codemirror_mode": {
    "name": "ipython",
    "version": 3
   },
   "file_extension": ".py",
   "mimetype": "text/x-python",
   "name": "python",
   "nbconvert_exporter": "python",
   "pygments_lexer": "ipython3",
   "version": "3.8.6"
  }
 },
 "nbformat": 4,
 "nbformat_minor": 5
}
