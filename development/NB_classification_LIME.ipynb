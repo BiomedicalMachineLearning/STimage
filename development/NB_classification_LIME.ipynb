{
 "cells": [
  {
   "cell_type": "code",
   "execution_count": null,
   "id": "boolean-nursery",
   "metadata": {},
   "outputs": [],
   "source": [
    "import sys\n",
    "import stlearn as st\n",
    "st.settings.set_figure_params(dpi=300)\n",
    "from pathlib import Path\n",
    "import pandas as pd\n",
    "import matplotlib.pyplot as plt\n",
    "import matplotlib\n",
    "import sys\n",
    "file = Path(\"../stimage\").resolve()\n",
    "parent= file.parent\n",
    "sys.path.append(str(parent))\n",
    "from PIL import Image\n",
    "from stimage._utils import gene_plot, Read10X, ReadOldST, tiling\n",
    "from stimage._model import CNN_NB_multiple_genes\n",
    "from stimage._data_generator import DataGenerator\n",
    "import tensorflow as tf\n",
    "import seaborn as sns\n",
    "import matplotlib.pyplot as plt\n",
    "from scipy import stats\n",
    "import numpy as np\n",
    "import scanpy as sc"
   ]
  },
  {
   "cell_type": "code",
   "execution_count": null,
   "id": "equipped-delight",
   "metadata": {},
   "outputs": [],
   "source": [
    "from typing import Optional, Union\n",
    "from anndata import AnnData\n",
    "from PIL import Image\n",
    "from pathlib import Path\n",
    "from sklearn.preprocessing import StandardScaler\n",
    "\n",
    "\n",
    "def low_high_bin(\n",
    "        adata: AnnData,\n",
    "        verbose: bool = False,\n",
    "        copy: bool = False,\n",
    ") -> Optional[AnnData]:\n",
    "    scaler = StandardScaler()\n",
    "    x_z = scaler.fit_transform(adata.to_df())\n",
    "    x_z[x_z>0] = 1\n",
    "    x_z[x_z<0] = 0\n",
    "    adata.X = x_z\n",
    "    return adata if copy else None"
   ]
  },
  {
   "cell_type": "code",
   "execution_count": null,
   "id": "equal-dealing",
   "metadata": {},
   "outputs": [],
   "source": [
    "import tensorflow as tf\n",
    "from tensorflow import keras\n",
    "from tensorflow.keras.applications.densenet import DenseNet121\n",
    "from tensorflow.keras.applications.inception_v3 import InceptionV3\n",
    "from tensorflow.keras.applications.mobilenet_v2 import MobileNetV2\n",
    "from tensorflow.keras.applications.resnet50 import ResNet50\n",
    "from tensorflow.keras.applications.vgg16 import VGG16\n",
    "from tensorflow.keras.applications.xception import Xception\n",
    "from tensorflow.keras.layers import Dense, GlobalAveragePooling2D, Input, Dropout, Lambda\n",
    "from tensorflow.keras.models import Model\n",
    "\n",
    "def CNN_bin_multiple_genes(tile_shape, n_genes, cnnbase=\"resnet50\", ft=True):\n",
    "    tile_input = Input(shape=tile_shape, name=\"tile_input\")\n",
    "    if cnnbase == \"resnet50\":\n",
    "        cnn_base = ResNet50(input_tensor=tile_input, weights='imagenet', include_top=False)\n",
    "    elif cnnbase == \"vgg16\":\n",
    "        cnn_base = VGG16(input_tensor=tile_input, weights='imagenet', include_top=False)\n",
    "    elif cnnbase == \"inceptionv3\":\n",
    "        cnn_base = InceptionV3(input_tensor=tile_input, weights='imagenet', include_top=False)\n",
    "    elif cnnbase == \"mobilenetv2\":\n",
    "        cnn_base = MobileNetV2(input_tensor=tile_input, weights='imagenet', include_top=False)\n",
    "    elif cnnbase == \"densenet121\":\n",
    "        cnn_base = DenseNet121(input_tensor=tile_input, weights='imagenet', include_top=False)\n",
    "    elif cnnbase == \"xception\":\n",
    "        cnn_base = Xception(input_tensor=tile_input, weights='imagenet', include_top=False)\n",
    "    #     stage_5_start = resnet_base.get_layer(\"conv5_block1_1_conv\")\n",
    "    #     for i in range(resnet_base.layers.index(stage_5_start)):\n",
    "    #         resnet_base.layers[i].trainable = False\n",
    "\n",
    "    if not ft:\n",
    "        for i in cnn_base.layers:\n",
    "            i.trainable = False\n",
    "    cnn = cnn_base.output\n",
    "    cnn = GlobalAveragePooling2D()(cnn)\n",
    "    cnn = Dropout(0.5)(cnn)\n",
    "    cnn = Dense(512, activation='relu', kernel_regularizer=tf.keras.regularizers.l1(0.01),\n",
    "                    activity_regularizer=tf.keras.regularizers.l2(0.01))(cnn)\n",
    "    cnn = Dense(256, activation='relu')(cnn)\n",
    "    output_layers = []\n",
    "    for i in range(n_genes):\n",
    "        output = Dense(1, activation='sigmoid')(cnn)\n",
    "        output_layers.append(output)\n",
    "\n",
    "    model = Model(inputs=tile_input, outputs=output_layers)\n",
    "    #     losses={}\n",
    "    #     for i in range(8):\n",
    "    #         losses[\"gene_{}\".format(i)] = negative_binomial_loss(i)\n",
    "    #     optimizer = tf.keras.optimizers.RMSprop(0.001)\n",
    "    optimizer = tf.keras.optimizers.Adam(1e-5)\n",
    "    model.compile(loss='binary_crossentropy',\n",
    "                  optimizer=optimizer,\n",
    "                  metrics=['accuracy'])\n",
    "    return model"
   ]
  },
  {
   "cell_type": "code",
   "execution_count": null,
   "id": "configured-trail",
   "metadata": {},
   "outputs": [],
   "source": [
    "import tensorflow as tf\n",
    "from tensorflow import keras\n",
    "from tensorflow.keras.applications.densenet import DenseNet121\n",
    "from tensorflow.keras.applications.inception_v3 import InceptionV3\n",
    "from tensorflow.keras.applications.mobilenet_v2 import MobileNetV2\n",
    "from tensorflow.keras.applications.resnet50 import ResNet50\n",
    "from tensorflow.keras.applications.vgg16 import VGG16\n",
    "from tensorflow.keras.applications.xception import Xception\n",
    "from tensorflow.keras.layers import Dense, GlobalAveragePooling2D, Input, Dropout, Lambda\n",
    "from tensorflow.keras.models import Model\n",
    "\n",
    "def CNN_bin_multiple_genes_v2(tile_shape, n_genes, cnnbase=\"resnet50\", ft=True):\n",
    "    tile_input = Input(shape=tile_shape, name=\"tile_input\")\n",
    "    if cnnbase == \"resnet50\":\n",
    "        cnn_base = ResNet50(input_tensor=tile_input, weights='imagenet', include_top=False)\n",
    "    elif cnnbase == \"vgg16\":\n",
    "        cnn_base = VGG16(input_tensor=tile_input, weights='imagenet', include_top=False)\n",
    "    elif cnnbase == \"inceptionv3\":\n",
    "        cnn_base = InceptionV3(input_tensor=tile_input, weights='imagenet', include_top=False)\n",
    "    elif cnnbase == \"mobilenetv2\":\n",
    "        cnn_base = MobileNetV2(input_tensor=tile_input, weights='imagenet', include_top=False)\n",
    "    elif cnnbase == \"densenet121\":\n",
    "        cnn_base = DenseNet121(input_tensor=tile_input, weights='imagenet', include_top=False)\n",
    "    elif cnnbase == \"xception\":\n",
    "        cnn_base = Xception(input_tensor=tile_input, weights='imagenet', include_top=False)\n",
    "    #     stage_5_start = resnet_base.get_layer(\"conv5_block1_1_conv\")\n",
    "    #     for i in range(resnet_base.layers.index(stage_5_start)):\n",
    "    #         resnet_base.layers[i].trainable = False\n",
    "\n",
    "    if ft:\n",
    "        for i in cnn_base.layers[0:-5]:\n",
    "            i.trainable = False\n",
    "    else:\n",
    "        for i in cnn_base.layers:\n",
    "            i.trainable = False\n",
    "    cnn = cnn_base.output\n",
    "    cnn = GlobalAveragePooling2D()(cnn)\n",
    "    cnn = Dropout(0.5)(cnn)\n",
    "    cnn = Dense(512, activation='relu', kernel_regularizer=tf.keras.regularizers.l1(0.01),\n",
    "                    activity_regularizer=tf.keras.regularizers.l2(0.01))(cnn)\n",
    "    cnn = Dense(256, activation='relu')(cnn)\n",
    "    output_layers = []\n",
    "    for i in range(n_genes):\n",
    "        output = Dense(2, activation='softmax')(cnn)\n",
    "        output_layers.append(output)\n",
    "\n",
    "    model = Model(inputs=tile_input, outputs=output_layers)\n",
    "    #     losses={}\n",
    "    #     for i in range(8):\n",
    "    #         losses[\"gene_{}\".format(i)] = negative_binomial_loss(i)\n",
    "    #     optimizer = tf.keras.optimizers.RMSprop(0.001)\n",
    "    optimizer = tf.keras.optimizers.Adam(1e-5)\n",
    "    model.compile(loss='categorical_crossentropy',\n",
    "                  optimizer=optimizer,\n",
    "                  metrics=['accuracy'])\n",
    "    return model"
   ]
  },
  {
   "cell_type": "code",
   "execution_count": null,
   "id": "surprised-associate",
   "metadata": {},
   "outputs": [],
   "source": [
    "# def _map_func(image, label):\n",
    "#     label_list = []\n",
    "#     for i in label:\n",
    "#         label_ = tf.one_hot(tf.cast(i, tf.int32), 2, name='label', axis=-1)\n",
    "#         label_ = tf.reshape(label_, [2,-1])\n",
    "#         label_list.append(label_)\n",
    "    \n",
    "#     return image, tuple(label_list)"
   ]
  },
  {
   "cell_type": "code",
   "execution_count": null,
   "id": "junior-massage",
   "metadata": {},
   "outputs": [],
   "source": [
    "def _map_func(image, label):\n",
    "    label_list = []\n",
    "    for i in label:\n",
    "        label_ = tf.one_hot(tf.cast(i, tf.int32), 2, name='label', axis=-1)\n",
    "        label_ = tf.reshape(label_, [2])\n",
    "        label_list.append(label_)\n",
    "    \n",
    "    return image, tuple(label_list)"
   ]
  },
  {
   "cell_type": "code",
   "execution_count": null,
   "id": "civil-gamma",
   "metadata": {},
   "outputs": [],
   "source": [
    "BASE_PATH = Path(\"/clusterdata/uqxtan9/Xiao/STimage/dataset/breast_cancer_10x_visium\")\n",
    "TILE_PATH = Path(\"/tmp\") / \"tiles\"\n",
    "TILE_PATH.mkdir(parents=True, exist_ok=True)\n",
    "\n",
    "SAMPLE = \"block1\"\n",
    "Sample1 = st.Read10X(BASE_PATH / SAMPLE, \n",
    "                  library_id=SAMPLE, \n",
    "                  count_file=\"V1_Breast_Cancer_Block_A_Section_1_filtered_feature_bc_matrix.h5\",\n",
    "                  quality=\"fulres\",)\n",
    "                  #source_image_path=BASE_PATH / SAMPLE /\"V1_Breast_Cancer_Block_A_Section_1_image.tif\")\n",
    "img = plt.imread(BASE_PATH / SAMPLE /\"V1_Breast_Cancer_Block_A_Section_1_image.tif\", 0)\n",
    "Sample1.uns[\"spatial\"][SAMPLE]['images'][\"fulres\"] = img\n",
    "\n",
    "SAMPLE = \"block2\"\n",
    "Sample2 = st.Read10X(BASE_PATH / SAMPLE, \n",
    "                  library_id=SAMPLE, \n",
    "                  count_file=\"V1_Breast_Cancer_Block_A_Section_2_filtered_feature_bc_matrix.h5\",\n",
    "                  quality=\"fulres\",)\n",
    "                  #source_image_path=BASE_PATH / SAMPLE /\"V1_Breast_Cancer_Block_A_Section_1_image.tif\")\n",
    "img = plt.imread(BASE_PATH / SAMPLE /\"V1_Breast_Cancer_Block_A_Section_2_image.tif\", 0)\n",
    "Sample2.uns[\"spatial\"][SAMPLE]['images'][\"fulres\"] = img"
   ]
  },
  {
   "cell_type": "code",
   "execution_count": null,
   "id": "related-audience",
   "metadata": {},
   "outputs": [],
   "source": []
  },
  {
   "cell_type": "code",
   "execution_count": null,
   "id": "infinite-financing",
   "metadata": {},
   "outputs": [],
   "source": [
    "gene_list=[\"SLITRK6\", \"PGM5\", \"LINC00645\", \n",
    "           \"TTLL12\", \"COX6C\", \"CPB1\",\n",
    "           \"KRT5\", \"MALAT1\", \"CD74\"]\n",
    "gene_list"
   ]
  },
  {
   "cell_type": "code",
   "execution_count": null,
   "id": "enormous-carbon",
   "metadata": {
    "scrolled": true
   },
   "outputs": [],
   "source": [
    "for adata in [\n",
    "    Sample1,\n",
    "    Sample2,\n",
    "]:\n",
    "#     count_df = adata.to_df()\n",
    "#     count_df[count_df <=1] = 0\n",
    "#     count_df[count_df >1] = 1\n",
    "#     adata.X = count_df\n",
    "#     adata[:,gene_list]\n",
    "    st.pp.filter_genes(adata,min_cells=3)\n",
    "#     st.pp.normalize_total(adata)\n",
    "    st.pp.log1p(adata)\n",
    "#     st.pp.scale(adata)\n",
    "    low_high_bin(adata)\n",
    "    # pre-processing for spot image\n",
    "    TILE_PATH_ = TILE_PATH / list(adata.uns[\"spatial\"].keys())[0]\n",
    "    TILE_PATH_.mkdir(parents=True, exist_ok=True)\n",
    "    tiling(adata, TILE_PATH_, crop_size=299)"
   ]
  },
  {
   "cell_type": "code",
   "execution_count": null,
   "id": "tight-dubai",
   "metadata": {},
   "outputs": [],
   "source": [
    "n_genes = len(gene_list)\n",
    "training_index = Sample1.obs.sample(frac=0.7, random_state=1).index\n",
    "# training_dataset = Sample1[training_index,].copy()\n",
    "training_dataset = Sample1.copy()\n",
    "\n",
    "valid_index = Sample1.obs.index.isin(training_index)\n",
    "valid_dataset = Sample1[~valid_index,].copy()\n",
    "\n",
    "test_dataset = Sample2.copy()\n",
    "\n",
    "train_gen = tf.data.Dataset.from_generator(\n",
    "            lambda:DataGenerator(adata=training_dataset, \n",
    "                          genes=gene_list, aug=False),\n",
    "            output_types=(tf.float32, tuple([tf.float32]*n_genes)), \n",
    "            output_shapes=([299,299,3], tuple([1]*n_genes))\n",
    ")\n",
    "train_gen = train_gen.map(_map_func)\n",
    "train_gen_ = train_gen.shuffle(buffer_size=500).batch(128).repeat(3).cache().prefetch(tf.data.experimental.AUTOTUNE)\n",
    "\n",
    "valid_gen = tf.data.Dataset.from_generator(\n",
    "            lambda:DataGenerator(adata=valid_dataset, \n",
    "                          genes=gene_list), \n",
    "            output_types=(tf.float32, tuple([tf.float32]*n_genes)), \n",
    "            output_shapes=([299,299,3], tuple([1]*n_genes))\n",
    ")\n",
    "valid_gen = valid_gen.map(_map_func)\n",
    "valid_gen_ = valid_gen.shuffle(buffer_size=500).batch(128).repeat(3).cache().prefetch(tf.data.experimental.AUTOTUNE)\n",
    "\n",
    "test_gen = tf.data.Dataset.from_generator(\n",
    "            lambda:DataGenerator(adata=test_dataset, \n",
    "                          genes=gene_list), \n",
    "            output_types=(tf.float32, tuple([tf.float32]*n_genes)), \n",
    "            output_shapes=([299,299,3], tuple([1]*n_genes))\n",
    ")\n",
    "test_gen = test_gen.map(_map_func)\n",
    "test_gen_ = test_gen.batch(1)"
   ]
  },
  {
   "cell_type": "code",
   "execution_count": null,
   "id": "direct-minimum",
   "metadata": {
    "scrolled": false
   },
   "outputs": [],
   "source": [
    "for i in gene_list:\n",
    "    print(i)\n",
    "    gene_plot(Sample1, genes=i, spot_size=8)"
   ]
  },
  {
   "cell_type": "code",
   "execution_count": null,
   "id": "indonesian-norman",
   "metadata": {},
   "outputs": [],
   "source": [
    "# model = CNN_bin_multiple_genes((299, 299, 3), n_genes)\n",
    "model = CNN_bin_multiple_genes_v2((299, 299, 3), n_genes)\n",
    "callback = tf.keras.callbacks.EarlyStopping(monitor='val_loss', patience=20,\n",
    "                                            restore_best_weights=False)"
   ]
  },
  {
   "cell_type": "code",
   "execution_count": null,
   "id": "indian-donor",
   "metadata": {},
   "outputs": [],
   "source": []
  },
  {
   "cell_type": "code",
   "execution_count": null,
   "id": "animal-present",
   "metadata": {
    "scrolled": true
   },
   "outputs": [],
   "source": [
    "train_history = model.fit(train_gen_,\n",
    "                          epochs=20,\n",
    "                          validation_data=valid_gen_,\n",
    "                          callbacks=[callback]\n",
    "                          )"
   ]
  },
  {
   "cell_type": "code",
   "execution_count": null,
   "id": "organizational-mexico",
   "metadata": {},
   "outputs": [],
   "source": [
    "test_predictions = model.predict(test_gen_)\n",
    "test_dataset.obsm[\"predicted_gene\"] = np.squeeze(np.array(test_predictions)).transpose()"
   ]
  },
  {
   "cell_type": "code",
   "execution_count": null,
   "id": "rubber-adelaide",
   "metadata": {},
   "outputs": [],
   "source": [
    "model.save(\"./CNN_bin_9genes_model.h5\")"
   ]
  },
  {
   "cell_type": "code",
   "execution_count": null,
   "id": "affected-values",
   "metadata": {},
   "outputs": [],
   "source": [
    "test_dataset_ = test_dataset[:,gene_list].copy()\n",
    "test_dataset_.X = test_dataset_.obsm[\"predicted_gene\"]"
   ]
  },
  {
   "cell_type": "code",
   "execution_count": null,
   "id": "educational-advisory",
   "metadata": {
    "scrolled": false
   },
   "outputs": [],
   "source": [
    "for i in gene_list:\n",
    "    print(i)\n",
    "    gene_plot(test_dataset_, genes=i, spot_size=8)"
   ]
  },
  {
   "cell_type": "code",
   "execution_count": null,
   "id": "communist-object",
   "metadata": {},
   "outputs": [],
   "source": [
    "import skimage\n",
    "from skimage.color import rgb2hed\n",
    "from skimage.feature import peak_local_max\n",
    "from skimage.segmentation import watershed\n",
    "from skimage.measure import label\n",
    "import scipy as sp\n",
    "from scipy import ndimage as ndi\n",
    "from skimage.morphology import area_opening\n",
    "import math\n",
    "from sklearn.linear_model import LinearRegression, SGDRegressor\n",
    "from sklearn.preprocessing import Binarizer"
   ]
  },
  {
   "cell_type": "code",
   "execution_count": null,
   "id": "latter-artist",
   "metadata": {},
   "outputs": [],
   "source": [
    "def model_predict_gene(gene):\n",
    "    i = gene_list.index(gene)\n",
    "    def model_predict(x):\n",
    "        test_predictions = model.predict(x)     \n",
    "        y_pred = np.squeeze(np.array(test_predictions))[i]\n",
    "#         print(y_pred.shape)\n",
    "#         print(Binarizer(threshold=0.5).fit_transform(y_pred).shape)\n",
    "#         print(np.squeeze(np.array(test_predictions)).shape)\n",
    "        return Binarizer(threshold=0.5).fit_transform(y_pred)\n",
    "    return model_predict"
   ]
  },
  {
   "cell_type": "code",
   "execution_count": null,
   "id": "cathedral-warrior",
   "metadata": {},
   "outputs": [],
   "source": [
    "def model_predict_gene_v2(gene):\n",
    "    i = gene_list.index(gene)\n",
    "    def model_predict(x):\n",
    "        test_predictions = model.predict(x)     \n",
    "        y_pred = np.squeeze(np.array(test_predictions))[i]\n",
    "#         print(y_pred.shape)\n",
    "#         print(Binarizer(threshold=0.5).fit_transform(y_pred).shape)\n",
    "#         print(np.squeeze(np.array(test_predictions)).shape)\n",
    "        return y_pred\n",
    "    return model_predict"
   ]
  },
  {
   "cell_type": "code",
   "execution_count": null,
   "id": "arbitrary-latin",
   "metadata": {},
   "outputs": [],
   "source": [
    "from lime import lime_image\n"
   ]
  },
  {
   "cell_type": "code",
   "execution_count": null,
   "id": "regional-feelings",
   "metadata": {},
   "outputs": [],
   "source": [
    "for image, label_ in test_gen.shuffle(2000).take(1):\n",
    "    annotation_hed = rgb2hed(image)\n",
    "    annotation_h = annotation_hed[:,:,0]\n",
    "    annotation_h *= 255.0 / np.percentile(annotation_h, q=80)\n",
    "#     annotation_h = np.clip(annotation_h, a_min=0, a_max=255)\n",
    "    thresh = skimage.filters.threshold_otsu(annotation_h)\n",
    "    im_fgnd_mask = sp.ndimage.morphology.binary_fill_holes(\n",
    "        annotation_h < thresh\n",
    "    )\n",
    "    distance = ndi.distance_transform_edt(im_fgnd_mask)\n",
    "    coords = peak_local_max(distance, footprint=np.ones((5, 5)), labels=im_fgnd_mask)\n",
    "    mask = np.zeros(distance.shape, dtype=bool)\n",
    "    mask[tuple(coords.T)] = True\n",
    "    markers, _ = ndi.label(mask)\n",
    "    labels = watershed(annotation_h, markers, mask=im_fgnd_mask)\n",
    "    im_nuclei_seg_mask = area_opening(labels, area_threshold=32).astype(np.int)\n",
    "    map_dic = dict(zip(np.unique(im_nuclei_seg_mask), np.arange(len(np.unique(im_nuclei_seg_mask)))))\n",
    "    im_nuclei_seg_mask = np.vectorize(map_dic.get)(im_nuclei_seg_mask)\n",
    "    \n",
    "    fig = plt.figure()\n",
    "    plt.subplot(2, 2, 1)\n",
    "    plt.imshow(image.numpy().astype(int))\n",
    "    plt.subplot(2, 2, 2)\n",
    "    plt.imshow(im_fgnd_mask)\n",
    "    plt.subplot(2, 2, 3)\n",
    "    plt.imshow(annotation_h,cmap=\"gray\")\n",
    "    plt.subplot(2, 2, 4)\n",
    "    plt.imshow(image.numpy().astype(int))\n",
    "    plt.imshow(skimage.color.label2rgb(im_nuclei_seg_mask,\n",
    "                                       im_fgnd_mask, \n",
    "                                       bg_label=0),\n",
    "               alpha=im_fgnd_mask,\n",
    "               origin='upper')\n",
    "    plt.show()"
   ]
  },
  {
   "cell_type": "code",
   "execution_count": null,
   "id": "cubic-patient",
   "metadata": {},
   "outputs": [],
   "source": [
    "def watershed_segment(image):\n",
    "    annotation_hed = rgb2hed(image)\n",
    "    annotation_h = annotation_hed[:,:,0]\n",
    "    annotation_h *= 255.0 / np.percentile(annotation_h, q=80)\n",
    "#     annotation_h = np.clip(annotation_h, a_min=0, a_max=255)\n",
    "    thresh = skimage.filters.threshold_otsu(annotation_h)\n",
    "    im_fgnd_mask = sp.ndimage.morphology.binary_fill_holes(\n",
    "        annotation_h < thresh\n",
    "    )\n",
    "    distance = ndi.distance_transform_edt(im_fgnd_mask)\n",
    "    coords = peak_local_max(distance, footprint=np.ones((5, 5)), labels=im_fgnd_mask)\n",
    "    mask = np.zeros(distance.shape, dtype=bool)\n",
    "    mask[tuple(coords.T)] = True\n",
    "    markers, _ = ndi.label(mask)\n",
    "    labels = watershed(annotation_h, markers, mask=im_fgnd_mask)\n",
    "    im_nuclei_seg_mask = area_opening(labels, area_threshold=64).astype(np.int)\n",
    "    map_dic = dict(zip(np.unique(im_nuclei_seg_mask), np.arange(len(np.unique(im_nuclei_seg_mask)))))\n",
    "    im_nuclei_seg_mask = np.vectorize(map_dic.get)(im_nuclei_seg_mask)\n",
    "    return im_nuclei_seg_mask\n",
    "\n"
   ]
  },
  {
   "cell_type": "code",
   "execution_count": null,
   "id": "union-grant",
   "metadata": {},
   "outputs": [],
   "source": [
    "def LIME_plot_v2(image, label_, gene1, model_predict_gene, gene_list):\n",
    "    gene_i = gene_list.index(gene1)\n",
    "    explainer = lime_image.LimeImageExplainer()\n",
    "    explanation = explainer.explain_instance(image.numpy().astype(\"double\"), \n",
    "                                             model_predict_gene(gene1), \n",
    "                                             top_labels=2, num_samples=1000,\n",
    "                                             hide_color=0,\n",
    "#                                              num_features=10000,\n",
    "#                                              model_regressor=SGDRegressor(),\n",
    "                                             segmentation_fn=watershed_segment)\n",
    "    dict_heatmap1 = dict(explanation.local_exp[explanation.top_labels[0]])\n",
    "    heatmap1 = np.vectorize(dict_heatmap1.get)(explanation.segments)\n",
    "#     heatmap1 = (heatmap1 - heatmap1.min()) / heatmap1.max()\n",
    "    prediction = model_predict_gene_v2(gene1)(np.expand_dims(image.numpy(), 0)).ravel()\n",
    "    print(\"{}:\".format(gene1))\n",
    "    print(\"prediction: \" + str(prediction))\n",
    "    print(\"ground truth: \" + str(label_[gene_i].numpy().ravel()))\n",
    "    fig = plt.figure(figsize=(15,12))\n",
    "    plt.subplot(1, 3, 1)\n",
    "    plt.imshow(image.numpy().astype(int))\n",
    "    plt.colorbar(shrink=0.30)\n",
    "    plt.subplot(1, 3, 2)\n",
    "    plt.imshow(heatmap1, alpha=1, cmap = 'RdYlBu_r', vmax=heatmap1.max(), vmin=-heatmap1.max())\n",
    "    plt.colorbar(shrink=0.30)\n",
    "    plt.subplot(1, 3, 3)\n",
    "    plt.imshow(image.numpy().astype(int))\n",
    "    plt.imshow(heatmap1, alpha=0.3, cmap = 'RdYlBu_r', vmax=heatmap1.max(), vmin=-heatmap1.max())\n",
    "    plt.colorbar(shrink=0.30)\n",
    "    plt.tight_layout()\n",
    "    plt.show()"
   ]
  },
  {
   "cell_type": "code",
   "execution_count": null,
   "id": "explicit-instrument",
   "metadata": {},
   "outputs": [],
   "source": [
    "def LIME_plot(image, label_, gene1, model_predict_gene, gene_list):\n",
    "    gene_i = gene_list.index(gene1)\n",
    "    explainer = lime_image.LimeImageExplainer()\n",
    "    explanation = explainer.explain_instance(image.numpy().astype(\"double\"), \n",
    "                                             model_predict_gene(gene1), \n",
    "                                             top_labels=1, num_samples=1000,\n",
    "                                             hide_color=0,\n",
    "#                                              num_features=10000,\n",
    "#                                              model_regressor=SGDRegressor(),\n",
    "                                             segmentation_fn=watershed_segment)\n",
    "    dict_heatmap1 = dict(explanation.local_exp[explanation.top_labels[0]])\n",
    "    heatmap1 = np.vectorize(dict_heatmap1.get)(explanation.segments)\n",
    "#     heatmap1 = (heatmap1 - heatmap1.min()) / heatmap1.max()\n",
    "    prediction = model_predict_gene(gene1)(np.expand_dims(image.numpy(), 0)).ravel()\n",
    "    print(\"{}:\".format(gene1))\n",
    "    print(\"prediction: \" + str(prediction))\n",
    "    print(\"ground truth: \" + str(label_[gene_i].numpy().ravel()))\n",
    "    fig = plt.figure(figsize=(15,12))\n",
    "    plt.subplot(1, 3, 1)\n",
    "    plt.imshow(image.numpy().astype(int))\n",
    "    plt.colorbar(shrink=0.30)\n",
    "    plt.subplot(1, 3, 2)\n",
    "    plt.imshow(heatmap1, alpha=1, cmap = 'RdYlBu_r', vmax=heatmap1.max(), vmin=-heatmap1.max())\n",
    "    plt.colorbar(shrink=0.30)\n",
    "    plt.subplot(1, 3, 3)\n",
    "    plt.imshow(image.numpy().astype(int))\n",
    "    plt.imshow(heatmap1, alpha=0.3, cmap = 'RdYlBu_r', vmax=heatmap1.max(), vmin=-heatmap1.max())\n",
    "    plt.colorbar(shrink=0.30)\n",
    "    plt.tight_layout()\n",
    "    plt.show()"
   ]
  },
  {
   "cell_type": "code",
   "execution_count": null,
   "id": "secondary-calculation",
   "metadata": {},
   "outputs": [],
   "source": [
    "for image_, label_ in test_gen.shuffle(2000).take(1):\n",
    "    print(label_)"
   ]
  },
  {
   "cell_type": "code",
   "execution_count": null,
   "id": "suspended-reggae",
   "metadata": {},
   "outputs": [],
   "source": []
  },
  {
   "cell_type": "code",
   "execution_count": null,
   "id": "annual-ireland",
   "metadata": {},
   "outputs": [],
   "source": [
    "for image_, label_ in test_gen.shuffle(2000).take(1):\n",
    "    LIME_plot_v2(image_, label_, \"COX6C\", model_predict_gene, gene_list)\n",
    "    LIME_plot_v2(image_, label_, \"CD74\", model_predict_gene, gene_list)"
   ]
  },
  {
   "cell_type": "code",
   "execution_count": null,
   "id": "specialized-fisher",
   "metadata": {},
   "outputs": [],
   "source": [
    "for image_, label_ in test_gen.shuffle(2000).take(1):\n",
    "    LIME_plot_v2(image_, label_, \"COX6C\", model_predict_gene, gene_list)\n",
    "    LIME_plot_v2(image_, label_, \"CD74\", model_predict_gene, gene_list)\n",
    "    LIME_plot_v2(image_, label_, \"KRT5\", model_predict_gene, gene_list)"
   ]
  },
  {
   "cell_type": "code",
   "execution_count": null,
   "id": "educated-buffer",
   "metadata": {},
   "outputs": [],
   "source": [
    "for image_, label_ in test_gen.shuffle(2000).take(1):\n",
    "    LIME_plot_v2(image_, label_, \"COX6C\", model_predict_gene, gene_list)\n",
    "    LIME_plot_v2(image_, label_, \"CD74\", model_predict_gene, gene_list)\n",
    "    LIME_plot_v2(image_, label_, \"KRT5\", model_predict_gene, gene_list)"
   ]
  },
  {
   "cell_type": "code",
   "execution_count": null,
   "id": "successful-workstation",
   "metadata": {},
   "outputs": [],
   "source": [
    "for image_, label_ in test_gen.shuffle(2000).take(1):\n",
    "    LIME_plot_v2(image_, label_, \"COX6C\", model_predict_gene, gene_list)\n",
    "    LIME_plot_v2(image_, label_, \"CD74\", model_predict_gene, gene_list)\n",
    "    LIME_plot_v2(image_, label_, \"KRT5\", model_predict_gene, gene_list)"
   ]
  },
  {
   "cell_type": "code",
   "execution_count": null,
   "id": "criminal-defendant",
   "metadata": {},
   "outputs": [],
   "source": [
    "for image_, label_ in test_gen.shuffle(2000).take(1):\n",
    "    LIME_plot_v2(image_, label_, \"COX6C\", model_predict_gene, gene_list)\n",
    "    LIME_plot_v2(image_, label_, \"CD74\", model_predict_gene, gene_list)\n",
    "    LIME_plot_v2(image_, label_, \"KRT5\", model_predict_gene, gene_list)"
   ]
  },
  {
   "cell_type": "code",
   "execution_count": null,
   "id": "collaborative-german",
   "metadata": {},
   "outputs": [],
   "source": [
    "for image_, label_ in test_gen.shuffle(2000).take(1):\n",
    "    LIME_plot_v2(image_, label_, \"COX6C\", model_predict_gene, gene_list)\n",
    "    LIME_plot_v2(image_, label_, \"CD74\", model_predict_gene, gene_list)\n",
    "    LIME_plot_v2(image_, label_, \"KRT5\", model_predict_gene, gene_list)"
   ]
  },
  {
   "cell_type": "code",
   "execution_count": null,
   "id": "closing-option",
   "metadata": {},
   "outputs": [],
   "source": [
    "for image_, label_ in test_gen.shuffle(2000).take(1):\n",
    "    LIME_plot_v2(image_, label_, \"COX6C\", model_predict_gene, gene_list)\n",
    "    LIME_plot_v2(image_, label_, \"CD74\", model_predict_gene, gene_list)\n",
    "    LIME_plot_v2(image_, label_, \"KRT5\", model_predict_gene, gene_list)"
   ]
  },
  {
   "cell_type": "code",
   "execution_count": null,
   "id": "british-charles",
   "metadata": {},
   "outputs": [],
   "source": [
    "for image_, label_ in test_gen.shuffle(2000).take(1):\n",
    "    LIME_plot_v2(image_, label_, \"COX6C\", model_predict_gene, gene_list)\n",
    "    LIME_plot_v2(image_, label_, \"CD74\", model_predict_gene, gene_list)\n",
    "    LIME_plot_v2(image_, label_, \"KRT5\", model_predict_gene, gene_list)"
   ]
  },
  {
   "cell_type": "code",
   "execution_count": null,
   "id": "equal-timer",
   "metadata": {},
   "outputs": [],
   "source": [
    "for image_, label_ in test_gen.shuffle(2000).take(1):\n",
    "    LIME_plot_v2(image_, label_, \"COX6C\", model_predict_gene, gene_list)\n",
    "    LIME_plot_v2(image_, label_, \"CD74\", model_predict_gene, gene_list)\n",
    "    LIME_plot_v2(image_, label_, \"KRT5\", model_predict_gene, gene_list)"
   ]
  },
  {
   "cell_type": "code",
   "execution_count": null,
   "id": "average-intention",
   "metadata": {},
   "outputs": [],
   "source": [
    "for image_, label_ in test_gen.shuffle(2000).take(1):\n",
    "    LIME_plot_v2(image_, label_, \"COX6C\", model_predict_gene, gene_list)\n",
    "    LIME_plot_v2(image_, label_, \"CD74\", model_predict_gene, gene_list)\n",
    "    LIME_plot_v2(image_, label_, \"KRT5\", model_predict_gene, gene_list)"
   ]
  },
  {
   "cell_type": "code",
   "execution_count": null,
   "id": "meaningful-bachelor",
   "metadata": {},
   "outputs": [],
   "source": []
  }
 ],
 "metadata": {
  "kernelspec": {
   "display_name": "Python 3",
   "language": "python",
   "name": "python3"
  },
  "language_info": {
   "codemirror_mode": {
    "name": "ipython",
    "version": 3
   },
   "file_extension": ".py",
   "mimetype": "text/x-python",
   "name": "python",
   "nbconvert_exporter": "python",
   "pygments_lexer": "ipython3",
   "version": "3.8.6"
  }
 },
 "nbformat": 4,
 "nbformat_minor": 5
}
