{
 "cells": [
  {
   "cell_type": "code",
   "execution_count": null,
   "id": "boolean-nursery",
   "metadata": {},
   "outputs": [],
   "source": [
    "import sys\n",
    "import stlearn as st\n",
    "st.settings.set_figure_params(dpi=300)\n",
    "from pathlib import Path\n",
    "import pandas as pd\n",
    "import matplotlib.pyplot as plt\n",
    "import matplotlib\n",
    "import sys\n",
    "file = Path(\"../stimage\").resolve()\n",
    "parent= file.parent\n",
    "sys.path.append(str(parent))\n",
    "from PIL import Image\n",
    "from stimage._utils import gene_plot, Read10X, ReadOldST, tiling\n",
    "from stimage._model import CNN_NB_multiple_genes\n",
    "from stimage._data_generator import DataGenerator\n",
    "import tensorflow as tf\n",
    "import seaborn as sns\n",
    "sns.set_style(\"white\")\n",
    "import matplotlib.pyplot as plt\n",
    "from scipy import stats\n",
    "import numpy as np\n",
    "import anndata"
   ]
  },
  {
   "cell_type": "code",
   "execution_count": null,
   "id": "abstract-defense",
   "metadata": {},
   "outputs": [],
   "source": [
    "from matplotlib import pyplot as plt\n",
    "import numpy as np\n",
    "from typing import Optional, Union\n",
    "from anndata import AnnData\n",
    "\n",
    "\n",
    "def BB_plot(\n",
    "    adata: AnnData,\n",
    "    library_id: str = None,\n",
    "    gene: str = None,\n",
    "    name: str = None,\n",
    "    data_alpha: float = 0.8,\n",
    "    tissue_alpha: float = 1.0,\n",
    "    cmap: str = \"Spectral_r\",\n",
    "    spot_size: tuple = (3, 20),\n",
    "    ob1: str = None,\n",
    "    ob2: str = None,\n",
    "    show_color_bar: bool = True,\n",
    "    show_size_legend: bool = True,\n",
    "    show_axis: bool = False,\n",
    "    cropped: bool = True,\n",
    "    margin: int = 100,\n",
    "    dpi: int = 150,\n",
    "    output: str = None,\n",
    ") -> Optional[AnnData]:\n",
    "    \"\"\"\\\n",
    "        QC plot for sptial transcriptomics data.\n",
    "\n",
    "        Parameters\n",
    "        ----------\n",
    "        adata\n",
    "            Annotated data matrix.\n",
    "        library_id\n",
    "            Library id stored in AnnData.\n",
    "        data_alpha\n",
    "            Opacity of the spot.\n",
    "        tissue_alpha\n",
    "            Opacity of the tissue.\n",
    "        cmap\n",
    "            Color map to use.\n",
    "        spot_size\n",
    "            Size of the spot (min, max).\n",
    "        show_color_bar\n",
    "            Show color bar or not.\n",
    "        show_axis\n",
    "            Show axis or not.\n",
    "        show_size_legend\n",
    "            Show size legend or not.\n",
    "        name\n",
    "            Name of the output figure file.\n",
    "        output\n",
    "            Save the figure as file or not.\n",
    "        copy\n",
    "            Return a copy instead of writing to adata.\n",
    "        Returns\n",
    "        -------\n",
    "        Nothing\n",
    "        \"\"\"\n",
    "\n",
    "    imagecol = adata.obs[\"imagecol\"]\n",
    "    imagerow = adata.obs[\"imagerow\"]\n",
    "    from sklearn.preprocessing import MinMaxScaler\n",
    "    \n",
    "    \n",
    "    ob_1 = pd.DataFrame(adata.obsm[ob1], columns=adata.var_names)[gene]\n",
    "    scaler = MinMaxScaler(feature_range=spot_size)\n",
    "    ob1_size = scaler.fit_transform(ob_1.to_numpy().reshape(-1, 1))\n",
    "    ob_2 = pd.DataFrame(adata.obsm[ob2], columns=adata.var_names)[gene]\n",
    "    \n",
    "    # plt.rcParams['figure.dpi'] = dpi\n",
    "\n",
    "    # Option for turning off showing figure\n",
    "    plt.ioff()\n",
    "\n",
    "    # Initialize matplotlib\n",
    "    fig, a = plt.subplots()\n",
    "\n",
    "    vmin = 0\n",
    "    vmax = 8\n",
    "    # Plot scatter plot based on pixel of spots\n",
    "    plot = a.scatter(\n",
    "        adata.obs[\"imagecol\"],\n",
    "        adata.obs[\"imagerow\"],\n",
    "        edgecolor=\"none\",\n",
    "        alpha=data_alpha,\n",
    "        s=ob1_size,\n",
    "        marker=\"o\",\n",
    "        vmin=vmin,\n",
    "        vmax=vmax,\n",
    "        cmap=plt.get_cmap(cmap),\n",
    "        c=ob_2,\n",
    "    )\n",
    "\n",
    "    if show_color_bar:\n",
    "        from mpl_toolkits.axes_grid1.inset_locator import inset_axes\n",
    "        axins = inset_axes(a,\n",
    "                   width=\"100%\",\n",
    "                   height=\"100%\",\n",
    "                   loc='upper left',\n",
    "                   bbox_to_anchor=(1.0, 0.73, 0.05, 0.35),\n",
    "                   bbox_transform=a.transAxes,\n",
    "                   borderpad=4.3,\n",
    "                   )\n",
    "        cb = plt.colorbar(plot, cax=axins)\n",
    "        cb.ax.set_xlabel(ob2, fontsize=10)\n",
    "        cb.ax.xaxis.set_label_coords(0.98, 1.20)\n",
    "        cb.outline.set_visible(False)\n",
    "\n",
    "    if show_size_legend:\n",
    "        size_min, size_max = spot_size\n",
    "        markers = [size_min, size_min + 1 / 3 * (size_max - size_min),\n",
    "                   size_min + 2 / 3 * (size_max - size_min), size_max]\n",
    "        legend_markers = [plt.scatter([], [], s=i, c=\"grey\") for i in markers]\n",
    "        labels = [str(float((scaler.inverse_transform(np.array(i).reshape(1, 1)))))\n",
    "                  for i in markers]\n",
    "        a.legend(handles=legend_markers, labels=labels, loc='lower left', bbox_to_anchor=(1, 0.05),\n",
    "                   scatterpoints=1, frameon=False, title=ob1)\n",
    "\n",
    "    if not show_axis:\n",
    "        a.axis(\"off\")\n",
    "    if library_id is None:\n",
    "        library_id = list(adata.uns[\"spatial\"].keys())[0]\n",
    "\n",
    "    image = adata.uns[\"spatial\"][library_id][\"images\"][\n",
    "        adata.uns[\"spatial\"][library_id][\"use_quality\"]\n",
    "    ]\n",
    "    # Overlay the tissue image\n",
    "    a.imshow(\n",
    "        image,\n",
    "        alpha=tissue_alpha,\n",
    "        zorder=-1,\n",
    "    )\n",
    "\n",
    "    if cropped:\n",
    "        a.set_xlim(imagecol.min() - margin, imagecol.max() + margin)\n",
    "\n",
    "        a.set_ylim(imagerow.min() - margin, imagerow.max() + margin)\n",
    "\n",
    "        a.set_ylim(a.get_ylim()[::-1])\n",
    "        # plt.gca().invert_yaxis()\n",
    "\n",
    "    # fig.tight_layout()\n",
    "    if output is not None:\n",
    "        fig.savefig(output + \"/\" + name, dpi=dpi, bbox_inches=\"tight\", pad_inches=0)\n",
    "\n",
    "    plt.show()\n",
    "\n",
    "\n"
   ]
  },
  {
   "cell_type": "code",
   "execution_count": null,
   "id": "equipped-delight",
   "metadata": {},
   "outputs": [],
   "source": [
    "from scipy import stats\n",
    "\n",
    "def plot_correlation(df, attr_1, attr_2):\n",
    "    r = stats.pearsonr(df[attr_1], \n",
    "                       df[attr_2])[0] **2\n",
    "\n",
    "    g = sns.lmplot(data=df,\n",
    "        x=attr_1, y=attr_2,\n",
    "        height=5, legend=True\n",
    "    )\n",
    "    # g.set(ylim=(0, 360), xlim=(0,360))\n",
    "\n",
    "    g.set_axis_labels(attr_1, attr_2)\n",
    "    plt.annotate(r'$R^2:{0:.2f}$'.format(r),\n",
    "                (max(df[attr_1])*0.9, max(df[attr_2])*0.9))\n",
    "    return g"
   ]
  },
  {
   "cell_type": "code",
   "execution_count": null,
   "id": "civil-gamma",
   "metadata": {},
   "outputs": [],
   "source": [
    "BASE_PATH = Path(\"/clusterdata/uqxtan9/Xiao/STimage/dataset/breast_cancer_10x_visium\")\n",
    "TILE_PATH = Path(\"/tmp\") / \"tiles\"\n",
    "TILE_PATH.mkdir(parents=True, exist_ok=True)\n",
    "\n",
    "SAMPLE = \"block1\"\n",
    "Sample1 = st.Read10X(BASE_PATH / SAMPLE, \n",
    "                  library_id=SAMPLE, \n",
    "                  count_file=\"V1_Breast_Cancer_Block_A_Section_1_filtered_feature_bc_matrix.h5\",\n",
    "                  quality=\"fulres\",)\n",
    "                  #source_image_path=BASE_PATH / SAMPLE /\"V1_Breast_Cancer_Block_A_Section_1_image.tif\")\n",
    "img = plt.imread(BASE_PATH / SAMPLE /\"V1_Breast_Cancer_Block_A_Section_1_image.tif\", 0)\n",
    "Sample1.uns[\"spatial\"][SAMPLE]['images'][\"fulres\"] = img\n",
    "\n",
    "SAMPLE = \"block2\"\n",
    "Sample2 = st.Read10X(BASE_PATH / SAMPLE, \n",
    "                  library_id=SAMPLE, \n",
    "                  count_file=\"V1_Breast_Cancer_Block_A_Section_2_filtered_feature_bc_matrix.h5\",\n",
    "                  quality=\"fulres\",)\n",
    "                  #source_image_path=BASE_PATH / SAMPLE /\"V1_Breast_Cancer_Block_A_Section_1_image.tif\")\n",
    "img = plt.imread(BASE_PATH / SAMPLE /\"V1_Breast_Cancer_Block_A_Section_2_image.tif\", 0)\n",
    "Sample2.uns[\"spatial\"][SAMPLE]['images'][\"fulres\"] = img"
   ]
  },
  {
   "cell_type": "code",
   "execution_count": null,
   "id": "charitable-narrative",
   "metadata": {},
   "outputs": [],
   "source": []
  },
  {
   "cell_type": "code",
   "execution_count": null,
   "id": "familiar-lambda",
   "metadata": {},
   "outputs": [],
   "source": [
    "Sample1"
   ]
  },
  {
   "cell_type": "code",
   "execution_count": null,
   "id": "arabic-casting",
   "metadata": {},
   "outputs": [],
   "source": [
    "Sample2"
   ]
  },
  {
   "cell_type": "code",
   "execution_count": null,
   "id": "infinite-financing",
   "metadata": {},
   "outputs": [],
   "source": [
    "gene_list=[\"SLITRK6\", \"PGM5\", \"LINC00645\", \n",
    "           \"TTLL12\", \"COX6C\", \"CPB1\",\n",
    "           \"KRT5\", \"MALAT1\"]\n",
    "gene_list"
   ]
  },
  {
   "cell_type": "code",
   "execution_count": null,
   "id": "enormous-carbon",
   "metadata": {
    "scrolled": true
   },
   "outputs": [],
   "source": [
    "for adata in [\n",
    "    Sample1,\n",
    "    Sample2,\n",
    "]:\n",
    "#     count_df = adata.to_df()\n",
    "#     count_df[count_df <=1] = 0\n",
    "#     count_df[count_df >1] = 1\n",
    "#     adata.X = count_df\n",
    "#     adata[:,gene_list]\n",
    "    st.pp.filter_genes(adata,min_cells=3)\n",
    "#     st.pp.normalize_total(adata)\n",
    "    st.pp.log1p(adata)\n",
    "#     st.pp.scale(adata)\n",
    "\n",
    "    # pre-processing for spot image\n",
    "    TILE_PATH_ = TILE_PATH / list(adata.uns[\"spatial\"].keys())[0]\n",
    "    TILE_PATH_.mkdir(parents=True, exist_ok=True)\n",
    "    tiling(adata, TILE_PATH_, crop_size=299)"
   ]
  },
  {
   "cell_type": "code",
   "execution_count": null,
   "id": "tight-dubai",
   "metadata": {},
   "outputs": [],
   "source": [
    "n_genes = len(gene_list)\n",
    "training_index = Sample1.obs.sample(frac=0.7, random_state=1).index\n",
    "# training_dataset = Sample1[training_index,].copy()\n",
    "\n",
    "training_dataset = Sample1.copy()\n",
    "\n",
    "valid_index = Sample1.obs.index.isin(training_index)\n",
    "valid_dataset = Sample1[~valid_index,].copy()\n",
    "\n",
    "test_dataset = Sample2.copy()\n",
    "\n",
    "train_gen = tf.data.Dataset.from_generator(\n",
    "            lambda:DataGenerator(adata=training_dataset, \n",
    "                          genes=gene_list, aug=False),\n",
    "            output_types=(tf.float32, tuple([tf.float32]*n_genes)), \n",
    "            output_shapes=([299,299,3], tuple([1]*n_genes))\n",
    ")\n",
    "train_gen_ = train_gen.shuffle(buffer_size=500).batch(128).repeat(3).cache().prefetch(tf.data.experimental.AUTOTUNE)\n",
    "valid_gen = tf.data.Dataset.from_generator(\n",
    "            lambda:DataGenerator(adata=valid_dataset, \n",
    "                          genes=gene_list), \n",
    "            output_types=(tf.float32, tuple([tf.float32]*n_genes)), \n",
    "            output_shapes=([299,299,3], tuple([1]*n_genes))\n",
    ")\n",
    "valid_gen_ = valid_gen.shuffle(buffer_size=500).batch(128).repeat(3).cache().prefetch(tf.data.experimental.AUTOTUNE)\n",
    "test_gen = tf.data.Dataset.from_generator(\n",
    "            lambda:DataGenerator(adata=test_dataset, \n",
    "                          genes=gene_list), \n",
    "            output_types=(tf.float32, tuple([tf.float32]*n_genes)), \n",
    "            output_shapes=([299,299,3], tuple([1]*n_genes))\n",
    ")\n",
    "test_gen_ = test_gen.batch(1)"
   ]
  },
  {
   "cell_type": "code",
   "execution_count": null,
   "id": "indonesian-norman",
   "metadata": {},
   "outputs": [],
   "source": [
    "model = CNN_NB_multiple_genes((299, 299, 3), n_genes)\n",
    "callback = tf.keras.callbacks.EarlyStopping(monitor='val_loss', patience=20,\n",
    "                                            restore_best_weights=False)"
   ]
  },
  {
   "cell_type": "code",
   "execution_count": null,
   "id": "animal-present",
   "metadata": {
    "scrolled": true
   },
   "outputs": [],
   "source": [
    "train_history = model.fit(train_gen_,\n",
    "                          epochs=20,\n",
    "                          validation_data=valid_gen_,\n",
    "                          callbacks=[callback]\n",
    "                          )"
   ]
  },
  {
   "cell_type": "code",
   "execution_count": null,
   "id": "third-designer",
   "metadata": {},
   "outputs": [],
   "source": [
    "model.load_weights(\"./final.h5\")"
   ]
  },
  {
   "cell_type": "code",
   "execution_count": null,
   "id": "organizational-mexico",
   "metadata": {},
   "outputs": [],
   "source": [
    "test_predictions = model.predict(test_gen_)\n",
    "from scipy.stats import nbinom\n",
    "y_preds = []\n",
    "y_preds_std = []\n",
    "for i in range(n_genes):\n",
    "    n = test_predictions[i][:, 0]\n",
    "    p = test_predictions[i][:, 1]\n",
    "    y_pred = nbinom.mean(n, p)\n",
    "    y_pred_std = nbinom.std(n, p)\n",
    "    y_preds.append(y_pred)\n",
    "    y_preds_std.append(y_pred_std)\n",
    "test_dataset.obsm[\"predicted_gene\"] = np.array(y_preds).transpose()\n",
    "test_dataset.obsm[\"predicted_gene_std\"] = np.array(y_preds_std).transpose()"
   ]
  },
  {
   "cell_type": "code",
   "execution_count": null,
   "id": "affected-values",
   "metadata": {},
   "outputs": [],
   "source": [
    "test_dataset_ = test_dataset[:,gene_list].copy()\n",
    "test_dataset_.X = test_dataset_.obsm[\"predicted_gene\"]"
   ]
  },
  {
   "cell_type": "code",
   "execution_count": null,
   "id": "loose-pixel",
   "metadata": {},
   "outputs": [],
   "source": [
    "for i in gene_list:\n",
    "    print(i)\n",
    "    BB_plot(test_dataset_, gene=i, ob2=\"predicted_gene\", ob1=\"predicted_gene_std\")"
   ]
  },
  {
   "cell_type": "code",
   "execution_count": null,
   "id": "intellectual-barcelona",
   "metadata": {},
   "outputs": [],
   "source": [
    "BB_plot(test_dataset_, gene=\"COX6C\", ob2=\"predicted_gene\", ob1=\"predicted_gene_std\")"
   ]
  },
  {
   "cell_type": "code",
   "execution_count": null,
   "id": "monthly-aluminum",
   "metadata": {},
   "outputs": [],
   "source": [
    "BB_plot(test_dataset_, gene=\"KRT5\", ob2=\"predicted_gene\", ob1=\"predicted_gene_std\")"
   ]
  },
  {
   "cell_type": "code",
   "execution_count": null,
   "id": "random-ensemble",
   "metadata": {},
   "outputs": [],
   "source": [
    "test_dataset_.uns[\"spatial\"]['block2'].keys()"
   ]
  },
  {
   "cell_type": "code",
   "execution_count": null,
   "id": "outside-actor",
   "metadata": {},
   "outputs": [],
   "source": [
    "pd.DataFrame(test_dataset_.obsm[\"predicted_gene\"], columns=test_dataset_.var_names)"
   ]
  },
  {
   "cell_type": "code",
   "execution_count": null,
   "id": "southeast-determination",
   "metadata": {},
   "outputs": [],
   "source": []
  },
  {
   "cell_type": "code",
   "execution_count": null,
   "id": "educational-advisory",
   "metadata": {
    "scrolled": true
   },
   "outputs": [],
   "source": [
    "for i in gene_list:\n",
    "    print(i)\n",
    "    gene_plot(test_dataset_, genes=i, spot_size=8)"
   ]
  },
  {
   "cell_type": "code",
   "execution_count": null,
   "id": "experienced-allen",
   "metadata": {
    "scrolled": false
   },
   "outputs": [],
   "source": [
    "gene_plot(test_dataset, genes=\"COX6C\", spot_size=8)"
   ]
  },
  {
   "cell_type": "code",
   "execution_count": null,
   "id": "thousand-westminster",
   "metadata": {},
   "outputs": [],
   "source": [
    "gene_plot(test_dataset_, genes=\"KRT5\", spot_size=8, vmax=1, vmin=0)"
   ]
  },
  {
   "cell_type": "code",
   "execution_count": null,
   "id": "australian-border",
   "metadata": {},
   "outputs": [],
   "source": [
    "for i in gene_list:\n",
    "    print(i)\n",
    "    gene_plot(test_dataset, genes=i, spot_size=8)"
   ]
  },
  {
   "cell_type": "code",
   "execution_count": null,
   "id": "still-sodium",
   "metadata": {},
   "outputs": [],
   "source": [
    "gene_list[6]"
   ]
  },
  {
   "cell_type": "code",
   "execution_count": null,
   "id": "latter-artist",
   "metadata": {},
   "outputs": [],
   "source": [
    "def model_predict_gene(gene):\n",
    "    i = gene_list.index(gene)\n",
    "    from scipy.stats import nbinom\n",
    "    def model_predict(x):\n",
    "        test_predictions = model.predict(x)\n",
    "        n = test_predictions[i][:, 0]\n",
    "        p = test_predictions[i][:, 1]\n",
    "        y_pred = nbinom.mean(n, p)\n",
    "        return y_pred.reshape(-1,1)\n",
    "    return model_predict"
   ]
  },
  {
   "cell_type": "code",
   "execution_count": null,
   "id": "preceding-watts",
   "metadata": {},
   "outputs": [],
   "source": [
    "import matplotlib.pyplot as plt\n",
    "from libpysal.weights.contiguity import Queen\n",
    "from libpysal import examples\n",
    "import numpy as np\n",
    "import pandas as pd\n",
    "import geopandas as gpd\n",
    "import os\n",
    "import splot\n",
    "from splot.esda import moran_scatterplot, lisa_cluster\n",
    "from esda.moran import Moran, Moran_Local\n",
    "from esda.moran import Moran_BV, Moran_Local_BV\n",
    "from splot.esda import plot_moran_bv_simulation, plot_moran_bv, plot_local_autocorrelation"
   ]
  },
  {
   "cell_type": "code",
   "execution_count": null,
   "id": "positive-habitat",
   "metadata": {},
   "outputs": [],
   "source": [
    "test_dataset = anndata.read_h5ad(\"\")"
   ]
  },
  {
   "cell_type": "code",
   "execution_count": null,
   "id": "processed-billy",
   "metadata": {},
   "outputs": [],
   "source": [
    "df = pd.DataFrame()\n",
    "moran_list=[]\n",
    "cor_list=[]\n",
    "for gene in gene_list:\n",
    "    test_dataset_.obsm[\"gpd\"] = gpd.GeoDataFrame(test_dataset_.obs,\n",
    "                                             geometry=gpd.points_from_xy(\n",
    "                                                 test_dataset_.obs.imagecol, \n",
    "                                                 test_dataset_.obs.imagerow))\n",
    "    x = test_dataset.to_df()[gene].values\n",
    "    y = test_dataset_.to_df()[gene].values\n",
    "    w = Queen.from_dataframe(test_dataset_.obsm[\"gpd\"])\n",
    "    \n",
    "    test_dataset_.obsm[\"gpd\"][\"gc_{}\".format(gene)] = x\n",
    "    test_dataset_.obsm[\"gpd\"][\"pred_{}\".format(gene)] = y\n",
    "    tissue_image = test_dataset_.uns[\"spatial\"][\"block2\"][\"images\"][\"fulres\"]\n",
    "    \n",
    "    moran = Moran(y,w)\n",
    "    moran_bv = Moran_BV(y, x, w)\n",
    "    moran_loc = Moran_Local(y, w)\n",
    "    moran_loc_bv = Moran_Local_BV(y, x, w)\n",
    "    moran_list.append(moran_bv.I)\n",
    "    \n",
    "    r = stats.pearsonr(x, \n",
    "                       y)[0] **2\n",
    "    cor_list.append(r)\n",
    "    "
   ]
  },
  {
   "cell_type": "code",
   "execution_count": null,
   "id": "fixed-groove",
   "metadata": {},
   "outputs": [],
   "source": [
    "cor_list"
   ]
  },
  {
   "cell_type": "code",
   "execution_count": null,
   "id": "numerous-inquiry",
   "metadata": {},
   "outputs": [],
   "source": [
    "moran_list"
   ]
  },
  {
   "cell_type": "code",
   "execution_count": null,
   "id": "official-minneapolis",
   "metadata": {},
   "outputs": [],
   "source": [
    "df = pd.DataFrame([cor_list, moran_list, gene_list]).transpose()"
   ]
  },
  {
   "cell_type": "code",
   "execution_count": null,
   "id": "mathematical-enemy",
   "metadata": {},
   "outputs": [],
   "source": [
    "df.columns = [\"Pearson_corr\", \"Moran_I\", \"genes\"]"
   ]
  },
  {
   "cell_type": "code",
   "execution_count": null,
   "id": "faced-brass",
   "metadata": {},
   "outputs": [],
   "source": [
    "df_ = pd.melt(df, id_vars=['genes'], value_vars=['Pearson_corr', 'Moran_I'])"
   ]
  },
  {
   "cell_type": "code",
   "execution_count": null,
   "id": "cultural-stations",
   "metadata": {},
   "outputs": [],
   "source": [
    "df_[\"tile_size\"] = 900"
   ]
  },
  {
   "cell_type": "code",
   "execution_count": null,
   "id": "collaborative-harbor",
   "metadata": {},
   "outputs": [],
   "source": [
    "# df_all = df_"
   ]
  },
  {
   "cell_type": "code",
   "execution_count": null,
   "id": "educated-barcelona",
   "metadata": {},
   "outputs": [],
   "source": [
    "df_all = df_all.append(df_)"
   ]
  },
  {
   "cell_type": "code",
   "execution_count": null,
   "id": "consecutive-customer",
   "metadata": {},
   "outputs": [],
   "source": [
    "df_all"
   ]
  },
  {
   "cell_type": "code",
   "execution_count": null,
   "id": "molecular-hostel",
   "metadata": {},
   "outputs": [],
   "source": [
    "import seaborn as sns"
   ]
  },
  {
   "cell_type": "code",
   "execution_count": null,
   "id": "amazing-kinase",
   "metadata": {},
   "outputs": [],
   "source": [
    "sns.boxplot(x=\"tile_size\", y=\"value\",\n",
    "            hue=\"variable\", #palette=[\"m\", \"g\"],\n",
    "            data=df_all)\n",
    "sns.despine(offset=10, trim=True)\n",
    "plt.show()"
   ]
  },
  {
   "cell_type": "code",
   "execution_count": null,
   "id": "cooperative-constant",
   "metadata": {},
   "outputs": [],
   "source": []
  },
  {
   "cell_type": "code",
   "execution_count": null,
   "id": "bottom-desktop",
   "metadata": {},
   "outputs": [],
   "source": []
  },
  {
   "cell_type": "code",
   "execution_count": null,
   "id": "efficient-first",
   "metadata": {},
   "outputs": [],
   "source": [
    "gene = gene_list[4]"
   ]
  },
  {
   "cell_type": "code",
   "execution_count": null,
   "id": "cultural-liabilities",
   "metadata": {},
   "outputs": [],
   "source": [
    "plt.imread()"
   ]
  },
  {
   "cell_type": "code",
   "execution_count": null,
   "id": "continuous-genome",
   "metadata": {},
   "outputs": [],
   "source": [
    "plt.imshow(plt.imread(test_dataset.obs[\"tile_path\"][30]))\n",
    "plt.show()"
   ]
  },
  {
   "cell_type": "code",
   "execution_count": null,
   "id": "raised-bubble",
   "metadata": {},
   "outputs": [],
   "source": [
    "gene"
   ]
  },
  {
   "cell_type": "code",
   "execution_count": null,
   "id": "impaired-stick",
   "metadata": {},
   "outputs": [],
   "source": [
    "test_dataset_.obsm[\"gpd\"] = gpd.GeoDataFrame(test_dataset_.obs,\n",
    "                                             geometry=gpd.points_from_xy(\n",
    "                                                 test_dataset_.obs.imagecol, \n",
    "                                                 test_dataset_.obs.imagerow))\n"
   ]
  },
  {
   "cell_type": "code",
   "execution_count": null,
   "id": "governing-metropolitan",
   "metadata": {},
   "outputs": [],
   "source": [
    "test_dataset_.obsm[\"gpd\"]"
   ]
  },
  {
   "cell_type": "code",
   "execution_count": null,
   "id": "british-affiliation",
   "metadata": {},
   "outputs": [],
   "source": [
    "x = test_dataset.to_df()[gene].values\n",
    "y = test_dataset_.to_df()[gene].values\n",
    "w = Queen.from_dataframe(test_dataset_.obsm[\"gpd\"])"
   ]
  },
  {
   "cell_type": "code",
   "execution_count": null,
   "id": "racial-anatomy",
   "metadata": {},
   "outputs": [],
   "source": [
    "test_dataset_.obsm[\"gpd\"][\"gc_{}\".format(gene)] = x\n",
    "test_dataset_.obsm[\"gpd\"][\"pred_{}\".format(gene)] = y\n",
    "tissue_image = test_dataset_.uns[\"spatial\"][\"block2\"][\"images\"][\"fulres\"]"
   ]
  },
  {
   "cell_type": "code",
   "execution_count": null,
   "id": "established-quarter",
   "metadata": {},
   "outputs": [],
   "source": [
    "moran = Moran(y,w)\n",
    "moran_bv = Moran_BV(y, x, w)\n",
    "moran_loc = Moran_Local(y, w)\n",
    "moran_loc_bv = Moran_Local_BV(y, x, w)"
   ]
  },
  {
   "cell_type": "code",
   "execution_count": null,
   "id": "weird-casino",
   "metadata": {},
   "outputs": [],
   "source": [
    "plot_correlation(test_dataset_.obsm[\"gpd\"],\n",
    "                 \"pred_{}\".format(gene),\n",
    "                 \"gc_{}\".format(gene))\n",
    "plt.show()"
   ]
  },
  {
   "cell_type": "code",
   "execution_count": null,
   "id": "average-speech",
   "metadata": {},
   "outputs": [],
   "source": [
    "fig, ax = plt.subplots(figsize=(5,5))\n",
    "moran_scatterplot(moran_bv, ax=ax)\n",
    "ax.set_xlabel('prediction of gene {}'.format(gene))\n",
    "ax.set_ylabel('Spatial lag of ground truth of gene {}'.format(gene))\n",
    "plt.tight_layout()\n",
    "plt.show()"
   ]
  },
  {
   "cell_type": "code",
   "execution_count": null,
   "id": "bacterial-williams",
   "metadata": {},
   "outputs": [],
   "source": [
    "fig, ax = plt.subplots(figsize=(5,5))\n",
    "moran_scatterplot(moran_loc_bv, p=0.05, ax=ax)\n",
    "ax.set_xlabel('prediction of gene {}'.format(gene))\n",
    "ax.set_ylabel('Spatial lag of ground truth of gene {}'.format(gene))\n",
    "plt.tight_layout()\n",
    "plt.show()"
   ]
  },
  {
   "cell_type": "code",
   "execution_count": null,
   "id": "extreme-ebony",
   "metadata": {},
   "outputs": [],
   "source": [
    "def plot_choropleth(gdf, \n",
    "                    attribute_1,\n",
    "                    attribute_2,\n",
    "                    bg_img,\n",
    "                    alpha=0.5,\n",
    "                    scheme='Quantiles', \n",
    "                    cmap='YlGnBu', \n",
    "                    legend=True):\n",
    "    \n",
    "    fig, axs = plt.subplots(2,1, figsize=(5, 8),\n",
    "                            subplot_kw={'adjustable':'datalim'})\n",
    "    \n",
    "    # Choropleth for attribute_1\n",
    "    gdf.plot(column=attribute_1, scheme=scheme, cmap=cmap,\n",
    "             legend=legend, legend_kwds={'loc': 'upper left',\n",
    "                                         'bbox_to_anchor': (0.92, 0.8)},\n",
    "             ax=axs[0], alpha=alpha, markersize=2)\n",
    "    \n",
    "    axs[0].imshow(bg_img)\n",
    "    axs[0].set_title('choropleth plot for {}'.format(attribute_1), y=0.8)\n",
    "    axs[0].set_axis_off()\n",
    "    \n",
    "    # Choropleth for attribute_2\n",
    "    gdf.plot(column=attribute_2, scheme=scheme, cmap=cmap,\n",
    "             legend=legend, legend_kwds={'loc': 'upper left',\n",
    "                                         'bbox_to_anchor': (0.92, 0.8)},\n",
    "             ax=axs[1], alpha=alpha, markersize=2)\n",
    "    \n",
    "    axs[1].imshow(bg_img)\n",
    "    axs[1].set_title('choropleth plot for {}'.format(attribute_2), y=0.8)\n",
    "    axs[1].set_axis_off()\n",
    "    \n",
    "    plt.tight_layout()\n",
    "    \n",
    "    return fig, ax "
   ]
  },
  {
   "cell_type": "code",
   "execution_count": null,
   "id": "painful-sessions",
   "metadata": {},
   "outputs": [],
   "source": [
    "plot_choropleth(test_dataset_.obsm[\"gpd\"], \n",
    "                \"gc_{}\".format(gene),\n",
    "                \"pred_{}\".format(gene),\n",
    "                tissue_image)\n",
    "plt.show()"
   ]
  },
  {
   "cell_type": "code",
   "execution_count": null,
   "id": "exposed-disco",
   "metadata": {},
   "outputs": [],
   "source": [
    "lisa_cluster(moran_loc_bv, test_dataset_.obsm[\"gpd\"], p=0.05, \n",
    "             figsize = (9,9), markersize=12, **{\"alpha\":0.8})\n",
    "plt.imshow(test_dataset_.uns[\"spatial\"][\"block2\"][\"images\"][\"fulres\"])\n",
    "plt.show()"
   ]
  },
  {
   "cell_type": "code",
   "execution_count": null,
   "id": "primary-statement",
   "metadata": {},
   "outputs": [],
   "source": [
    "moran_bv.I"
   ]
  },
  {
   "cell_type": "code",
   "execution_count": null,
   "id": "beneficial-recycling",
   "metadata": {},
   "outputs": [],
   "source": [
    "import skimage\n",
    "from skimage.color import rgb2hed\n",
    "from skimage.feature import peak_local_max\n",
    "from skimage.segmentation import watershed\n",
    "from skimage.measure import label\n",
    "import scipy as sp\n",
    "from scipy import ndimage as ndi\n",
    "from skimage.morphology import area_opening\n",
    "import math\n",
    "from sklearn.linear_model import LinearRegression, SGDRegressor\n",
    "from sklearn.preprocessing import Binarizer"
   ]
  },
  {
   "cell_type": "code",
   "execution_count": null,
   "id": "everyday-coral",
   "metadata": {},
   "outputs": [],
   "source": [
    "from lime import lime_image\n",
    "\n"
   ]
  },
  {
   "cell_type": "code",
   "execution_count": null,
   "id": "typical-obligation",
   "metadata": {},
   "outputs": [],
   "source": [
    "def watershed_segment(image):\n",
    "    annotation_hed = rgb2hed(image)\n",
    "    annotation_h = annotation_hed[:,:,0]\n",
    "    annotation_h *= 255.0 / np.percentile(annotation_h, q=80)\n",
    "#     annotation_h = np.clip(annotation_h, a_min=0, a_max=255)\n",
    "    thresh = skimage.filters.threshold_otsu(annotation_h)\n",
    "    im_fgnd_mask = sp.ndimage.morphology.binary_fill_holes(\n",
    "        annotation_h < thresh\n",
    "    )\n",
    "    distance = ndi.distance_transform_edt(im_fgnd_mask)\n",
    "    coords = peak_local_max(distance, footprint=np.ones((5, 5)), labels=im_fgnd_mask)\n",
    "    mask = np.zeros(distance.shape, dtype=bool)\n",
    "    mask[tuple(coords.T)] = True\n",
    "    markers, _ = ndi.label(mask)\n",
    "    labels = watershed(annotation_h, markers, mask=im_fgnd_mask)\n",
    "    im_nuclei_seg_mask = area_opening(labels, area_threshold=64).astype(np.int)\n",
    "    map_dic = dict(zip(np.unique(im_nuclei_seg_mask), np.arange(len(np.unique(im_nuclei_seg_mask)))))\n",
    "    im_nuclei_seg_mask = np.vectorize(map_dic.get)(im_nuclei_seg_mask)\n",
    "    return im_nuclei_seg_mask\n",
    "\n",
    "\n"
   ]
  },
  {
   "cell_type": "code",
   "execution_count": null,
   "id": "superior-positive",
   "metadata": {},
   "outputs": [],
   "source": [
    "def LIME_plot(image, label_, gene1, model_predict_gene, gene_list):\n",
    "    gene_i = gene_list.index(gene1)\n",
    "    explainer = lime_image.LimeImageExplainer()\n",
    "    explanation = explainer.explain_instance(image.numpy().astype(\"double\"), \n",
    "                                             model_predict_gene(gene1), \n",
    "                                             top_labels=1, num_samples=1000,\n",
    "                                             hide_color=0,\n",
    "#                                              num_features=10000,\n",
    "#                                              model_regressor=SGDRegressor(),\n",
    "                                             segmentation_fn=watershed_segment)\n",
    "    dict_heatmap1 = dict(explanation.local_exp[explanation.top_labels[0]])\n",
    "    heatmap1 = np.vectorize(dict_heatmap1.get)(explanation.segments)\n",
    "#     heatmap1 = (heatmap1 - heatmap1.min()) / heatmap1.max()\n",
    "    prediction = model_predict_gene(gene1)(np.expand_dims(image.numpy(), 0)).ravel()\n",
    "    print(\"{}:\".format(gene1))\n",
    "    print(\"prediction: \" + str(prediction))\n",
    "    print(\"ground truth: \" + str(label_[gene_i].numpy().ravel()))\n",
    "    fig = plt.figure(figsize=(15,12))\n",
    "    plt.subplot(1, 3, 1)\n",
    "    plt.imshow(image.numpy().astype(int))\n",
    "    plt.subplot(1, 3, 2)\n",
    "    plt.imshow(heatmap1, alpha=1, cmap = 'RdYlBu_r', vmax=heatmap1.max(), vmin=-heatmap1.max())\n",
    "    plt.colorbar(shrink=0.30)\n",
    "    plt.subplot(1, 3, 3)\n",
    "    plt.imshow(image.numpy().astype(int))\n",
    "    plt.imshow(heatmap1, alpha=0.3, cmap = 'RdYlBu_r', vmax=heatmap1.max(), vmin=-heatmap1.max())\n",
    "    plt.colorbar(shrink=0.30)\n",
    "    plt.tight_layout()\n",
    "    plt.show()"
   ]
  },
  {
   "cell_type": "code",
   "execution_count": null,
   "id": "synthetic-dependence",
   "metadata": {
    "scrolled": false
   },
   "outputs": [],
   "source": [
    "for image_, label_ in test_gen.shuffle(2000).take(1):\n",
    "    for gene in gene_list:\n",
    "        LIME_plot(image_, label_, gene, model_predict_gene, gene_list)"
   ]
  },
  {
   "cell_type": "code",
   "execution_count": null,
   "id": "sustained-relation",
   "metadata": {
    "scrolled": false
   },
   "outputs": [],
   "source": [
    "for image_, label_ in test_gen.shuffle(2000).take(1):\n",
    "    for gene in gene_list:\n",
    "        LIME_plot(image_, label_, gene, model_predict_gene, gene_list)"
   ]
  },
  {
   "cell_type": "code",
   "execution_count": null,
   "id": "professional-thesaurus",
   "metadata": {
    "scrolled": false
   },
   "outputs": [],
   "source": [
    "for image_, label_ in test_gen.shuffle(2000).take(1):\n",
    "    for gene in gene_list:\n",
    "        LIME_plot(image_, label_, gene, model_predict_gene, gene_list)"
   ]
  },
  {
   "cell_type": "code",
   "execution_count": null,
   "id": "psychological-harvard",
   "metadata": {
    "scrolled": false
   },
   "outputs": [],
   "source": [
    "for image_, label_ in test_gen.shuffle(2000).take(1):\n",
    "    for gene in gene_list:\n",
    "        LIME_plot(image_, label_, gene, model_predict_gene, gene_list)"
   ]
  },
  {
   "cell_type": "code",
   "execution_count": null,
   "id": "intelligent-shakespeare",
   "metadata": {},
   "outputs": [],
   "source": [
    "for image_, label_ in test_gen.shuffle(2000).take(1):\n",
    "    for gene in gene_list:\n",
    "        LIME_plot(image_, label_, gene, model_predict_gene, gene_list)"
   ]
  },
  {
   "cell_type": "code",
   "execution_count": null,
   "id": "caroline-amplifier",
   "metadata": {},
   "outputs": [],
   "source": [
    "for image_, label_ in test_gen.shuffle(2000).take(1):\n",
    "    for gene in gene_list:\n",
    "        LIME_plot(image_, label_, gene, model_predict_gene, gene_list)"
   ]
  },
  {
   "cell_type": "code",
   "execution_count": null,
   "id": "million-evanescence",
   "metadata": {},
   "outputs": [],
   "source": []
  }
 ],
 "metadata": {
  "kernelspec": {
   "display_name": "Python 3",
   "language": "python",
   "name": "python3"
  },
  "language_info": {
   "codemirror_mode": {
    "name": "ipython",
    "version": 3
   },
   "file_extension": ".py",
   "mimetype": "text/x-python",
   "name": "python",
   "nbconvert_exporter": "python",
   "pygments_lexer": "ipython3",
   "version": "3.8.6"
  }
 },
 "nbformat": 4,
 "nbformat_minor": 5
}
