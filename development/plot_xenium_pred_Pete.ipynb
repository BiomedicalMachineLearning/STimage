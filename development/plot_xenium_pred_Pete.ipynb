{
 "cells": [
  {
   "cell_type": "code",
   "execution_count": 1,
   "metadata": {},
   "outputs": [],
   "source": [
    "from pathlib import Path\n",
    "from anndata import read_h5ad\n",
    "\n",
    "import sys\n",
    "import scanpy as sc\n",
    "import os\n",
    "import matplotlib.pyplot as plt\n",
    "import seaborn as sns\n",
    "\n",
    "import numpy as np\n",
    "import pandas as pd\n",
    "from scipy.stats import nbinom, pearsonr\n",
    "\n",
    "from tqdm import tqdm\n",
    "\n",
    "import pickle\n",
    "import anndata as ad\n",
    "from scipy.stats import zscore\n",
    "from PIL import Image\n",
    "from stimage._utils import gene_plot"
   ]
  },
  {
   "cell_type": "code",
   "execution_count": 2,
   "metadata": {},
   "outputs": [],
   "source": [
    "from scipy import stats\n",
    "\n",
    "def plot_correlation(df, attr_1, attr_2):\n",
    "    r = stats.pearsonr(df[attr_1], \n",
    "                       df[attr_2])[0] **2\n",
    "\n",
    "    g = sns.lmplot(data=df,\n",
    "        x=attr_1, y=attr_2,\n",
    "        height=5, legend=True\n",
    "    )\n",
    "    # g.set(ylim=(0, 360), xlim=(0,360))\n",
    "\n",
    "    g.set_axis_labels(attr_1, attr_2)\n",
    "    plt.annotate(r'$R^2:{0:.2f}$'.format(r),\n",
    "                (max(df[attr_1])*0.9, max(df[attr_2])*0.9))\n",
    "    return g\n",
    "\n",
    "\n",
    "def calculate_correlation(attr_1, attr_2):\n",
    "    r = stats.pearsonr(attr_1, \n",
    "                       attr_2)[0]\n",
    "    return r\n",
    "\n",
    "def calculate_correlation_2(attr_1, attr_2):\n",
    "    r = stats.spearmanr(attr_1, \n",
    "                       attr_2)[0]\n",
    "    return r"
   ]
  },
  {
   "cell_type": "code",
   "execution_count": null,
   "metadata": {},
   "outputs": [],
   "source": []
  },
  {
   "cell_type": "code",
   "execution_count": 3,
   "metadata": {},
   "outputs": [],
   "source": [
    "PATH_PRED = Path(\"/scratch/project_mnt/S0010/Xiao/Q1851/Xiao/Working_project/STimage_exp/Pete_Xenium\")\n",
    "PATH_GT = Path(\"/scratch/project_mnt/S0010/Xiao/Q1851/Xiao/Working_project/Pete/PROCESSED\")\n",
    "OUT_PATH = PATH_PRED / \"PLOT\"\n",
    "OUT_PATH.mkdir(parents=True, exist_ok=True)"
   ]
  },
  {
   "cell_type": "code",
   "execution_count": 4,
   "metadata": {},
   "outputs": [],
   "source": [
    "adata_dict = {}\n",
    "for file_path in PATH_PRED.glob(\"./pred*.h5ad\"):\n",
    "    library_id = file_path.stem.split(\"_\")[-1]\n",
    "    adata = ad.read_h5ad(file_path)\n",
    "    adata_dict[library_id] = adata"
   ]
  },
  {
   "cell_type": "code",
   "execution_count": 5,
   "metadata": {},
   "outputs": [
    {
     "data": {
      "text/plain": [
       "{'QMDL03': AnnData object with n_obs × n_vars = 5035 × 1522\n",
       "     obs: 'imagecol', 'imagerow', 'n_cells', 'tile_tissue_mask_path', 'tissue_area', 'tile_path'\n",
       "     uns: 'spatial'\n",
       "     obsm: 'predicted_gene', 'spatial',\n",
       " 'QMDL01': AnnData object with n_obs × n_vars = 3792 × 1522\n",
       "     obs: 'imagecol', 'imagerow', 'n_cells', 'tile_tissue_mask_path', 'tissue_area', 'tile_path'\n",
       "     uns: 'spatial'\n",
       "     obsm: 'predicted_gene', 'spatial',\n",
       " 'QMDL05': AnnData object with n_obs × n_vars = 2439 × 1522\n",
       "     obs: 'imagecol', 'imagerow', 'n_cells', 'tile_tissue_mask_path', 'tissue_area', 'tile_path'\n",
       "     uns: 'spatial'\n",
       "     obsm: 'predicted_gene', 'spatial',\n",
       " 'QMDL04': AnnData object with n_obs × n_vars = 554 × 1522\n",
       "     obs: 'imagecol', 'imagerow', 'n_cells', 'tile_tissue_mask_path', 'tissue_area', 'tile_path'\n",
       "     uns: 'spatial'\n",
       "     obsm: 'predicted_gene', 'spatial',\n",
       " 'QMDL02': AnnData object with n_obs × n_vars = 715 × 1522\n",
       "     obs: 'imagecol', 'imagerow', 'n_cells', 'tile_tissue_mask_path', 'tissue_area', 'tile_path'\n",
       "     uns: 'spatial'\n",
       "     obsm: 'predicted_gene', 'spatial'}"
      ]
     },
     "execution_count": 5,
     "metadata": {},
     "output_type": "execute_result"
    }
   ],
   "source": [
    "adata_dict"
   ]
  },
  {
   "cell_type": "code",
   "execution_count": 21,
   "metadata": {},
   "outputs": [],
   "source": [
    "adata_dict_gt = {}\n",
    "gene_list=[]\n",
    "for file_path in PATH_GT.glob(\"./grid_*.h5ad\"):\n",
    "    library_id = file_path.stem.split(\"_\")[-1]\n",
    "    adata = ad.read_h5ad(file_path)\n",
    "    adata_dict_gt[library_id] = adata\n",
    "    gene_list.append(adata.var_names.values.tolist())\n",
    "gene_list = list(set([item for items in gene_list for item in items]))\n",
    "with open(PATH_PRED / \"xenium_gene_list.pkl\", \"wb\") as f:\n",
    "    pickle.dump(gene_list, f)"
   ]
  },
  {
   "cell_type": "code",
   "execution_count": 7,
   "metadata": {},
   "outputs": [
    {
     "data": {
      "text/plain": [
       "280"
      ]
     },
     "execution_count": 7,
     "metadata": {},
     "output_type": "execute_result"
    }
   ],
   "source": [
    "len(gene_list)"
   ]
  },
  {
   "cell_type": "code",
   "execution_count": 9,
   "metadata": {},
   "outputs": [
    {
     "data": {
      "text/plain": [
       "106"
      ]
     },
     "execution_count": 9,
     "metadata": {},
     "output_type": "execute_result"
    }
   ],
   "source": [
    "common_genes = list(set(gene_list) & set(adata_dict[\"QMDL04\"].var_names))\n",
    "len(common_genes)"
   ]
  },
  {
   "cell_type": "code",
   "execution_count": 9,
   "metadata": {},
   "outputs": [
    {
     "data": {
      "text/plain": [
       "PosixPath('/scratch/project_mnt/S0010/Xiao/Q1851/Xiao/Working_project/STimage_exp/Pete_Xenium/PLOT')"
      ]
     },
     "execution_count": 9,
     "metadata": {},
     "output_type": "execute_result"
    }
   ],
   "source": [
    "OUT_PATH"
   ]
  },
  {
   "cell_type": "code",
   "execution_count": 10,
   "metadata": {},
   "outputs": [],
   "source": [
    "gene_to_plot = ['TIGIT', 'LTB', 'PTPRC', 'LILRA4', 'CD79A']"
   ]
  },
  {
   "cell_type": "code",
   "execution_count": 23,
   "metadata": {},
   "outputs": [],
   "source": [
    "gene_to_plot = list(set([\"CD163\", \"ESR1\", \"MS4A1\", \"BRCA2\", \"TP53\", \"ERBB2\"]) & set(common_genes))\n",
    "for library_id, adata in adata_dict.items():\n",
    "    adata = adata[:, common_genes]\n",
    "    adata.uns['spatial'][library_id]['scalefactors'] = {'tissue_hires_scalef': 0.1}\n",
    "    hires = Image.fromarray(adata.uns[\"spatial\"][library_id][\"images\"][\"fulres\"])\n",
    "    hires.thumbnail((hires.size[0]//10, hires.size[1]//10))\n",
    "    adata.uns[\"spatial\"][library_id][\"images\"][\"hires\"] = hires\n",
    "    adata.X = adata.to_df().apply(zscore)\n",
    "    for gene in gene_to_plot:\n",
    "        gene_plot(adata, genes=gene, image_scale=True, library_id=library_id, spot_size=50,\n",
    "                        output=str(OUT_PATH), name=f\"pred_{library_id}_{gene}.pdf\")\n",
    "        plt.close()"
   ]
  },
  {
   "cell_type": "code",
   "execution_count": 12,
   "metadata": {},
   "outputs": [],
   "source": [
    "# hi-res image\n",
    "gene_to_plot = list(set([\"CD163\", \"ESR1\", \"MS4A1\", \"BRCA2\", \"TP53\", \"ERBB2\"]) & set(common_genes))\n",
    "for library_id, adata in adata_dict.items():\n",
    "    adata = adata[:, common_genes]\n",
    "    adata.uns['spatial'][library_id]['scalefactors'] = {'tissue_hires_scalef': 1}\n",
    "    hires = Image.fromarray(adata.uns[\"spatial\"][library_id][\"images\"][\"fulres\"])\n",
    "    hires.thumbnail((hires.size[0], hires.size[1]))\n",
    "    adata.uns[\"spatial\"][library_id][\"images\"][\"hires\"] = hires\n",
    "    adata.X = adata.to_df().apply(zscore)\n",
    "    for gene in gene_to_plot:\n",
    "        fig = gene_plot(adata, genes=gene, image_scale=True, library_id=library_id, spot_size=30)\n",
    "        fig.savefig(OUT_PATH / f\"hires_pred_{library_id}_{gene}.png\", dpi=2000)\n",
    "        plt.close()"
   ]
  },
  {
   "cell_type": "code",
   "execution_count": 11,
   "metadata": {},
   "outputs": [],
   "source": [
    "# hi-res image 2\n",
    "# gene_to_plot = list(set([\"CD163\", \"ESR1\", \"MS4A1\", \"BRCA2\", \"TP53\", \"ERBB2\"]) & set(common_genes))\n",
    "for library_id, adata in adata_dict.items():\n",
    "    adata = adata[:, common_genes]\n",
    "    adata.uns['spatial'][library_id]['scalefactors'] = {'tissue_hires_scalef': 1}\n",
    "    hires = Image.fromarray(adata.uns[\"spatial\"][library_id][\"images\"][\"fulres\"])\n",
    "    hires.thumbnail((hires.size[0], hires.size[1]))\n",
    "    adata.uns[\"spatial\"][library_id][\"images\"][\"hires\"] = hires\n",
    "    adata.X = adata.to_df().apply(zscore)\n",
    "    for gene in gene_to_plot:\n",
    "        fig = gene_plot(adata, genes=gene, image_scale=True, library_id=library_id, spot_size=30)\n",
    "        fig.savefig(OUT_PATH / f\"hires_pred_{library_id}_{gene}.png\", dpi=2000)\n",
    "        plt.close()"
   ]
  },
  {
   "cell_type": "code",
   "execution_count": 24,
   "metadata": {},
   "outputs": [],
   "source": [
    "for library_id, adata in adata_dict_gt.items():\n",
    "    adata = adata[:, common_genes]\n",
    "    adata.uns['spatial'][library_id]['scalefactors'] = {'tissue_hires_scalef': 0.1}\n",
    "    hires = Image.fromarray(adata.uns[\"spatial\"][library_id][\"images\"][\"fulres\"])\n",
    "    hires.thumbnail((hires.size[0]//10, hires.size[1]//10))\n",
    "    adata.uns[\"spatial\"][library_id][\"images\"][\"hires\"] = hires\n",
    "    adata.X = adata.to_df().apply(zscore)\n",
    "    for gene in gene_to_plot:\n",
    "        gene_plot(adata, genes=gene, image_scale=True, library_id=library_id, spot_size=50,\n",
    "                        output=str(OUT_PATH), name=f\"gt_{library_id}_{gene}.pdf\")\n",
    "        plt.close()"
   ]
  },
  {
   "cell_type": "code",
   "execution_count": 13,
   "metadata": {},
   "outputs": [],
   "source": [
    "# hires\n",
    "for library_id, adata in adata_dict_gt.items():\n",
    "    adata = adata[:, common_genes]\n",
    "    adata.uns['spatial'][library_id]['scalefactors'] = {'tissue_hires_scalef': 1}\n",
    "    hires = Image.fromarray(adata.uns[\"spatial\"][library_id][\"images\"][\"fulres\"])\n",
    "    hires.thumbnail((hires.size[0], hires.size[1]))\n",
    "    adata.uns[\"spatial\"][library_id][\"images\"][\"hires\"] = hires\n",
    "    adata.X = adata.to_df().apply(zscore)\n",
    "    for gene in gene_to_plot:\n",
    "        fig = gene_plot(adata, genes=gene, image_scale=True, library_id=library_id, spot_size=30)\n",
    "        fig.savefig(OUT_PATH / f\"hires_gt_{library_id}_{gene}.png\", dpi=2000)\n",
    "        plt.close()"
   ]
  },
  {
   "cell_type": "code",
   "execution_count": 12,
   "metadata": {},
   "outputs": [],
   "source": [
    "# hires 2\n",
    "for library_id, adata in adata_dict_gt.items():\n",
    "    adata = adata[:, common_genes]\n",
    "    adata.uns['spatial'][library_id]['scalefactors'] = {'tissue_hires_scalef': 1}\n",
    "    hires = Image.fromarray(adata.uns[\"spatial\"][library_id][\"images\"][\"fulres\"])\n",
    "    hires.thumbnail((hires.size[0], hires.size[1]))\n",
    "    adata.uns[\"spatial\"][library_id][\"images\"][\"hires\"] = hires\n",
    "    adata.X = adata.to_df().apply(zscore)\n",
    "    for gene in gene_to_plot:\n",
    "        fig = gene_plot(adata, genes=gene, image_scale=True, library_id=library_id, spot_size=30)\n",
    "        fig.savefig(OUT_PATH / f\"hires_gt_{library_id}_{gene}.png\", dpi=2000)\n",
    "        plt.close()"
   ]
  },
  {
   "cell_type": "code",
   "execution_count": 24,
   "metadata": {},
   "outputs": [],
   "source": [
    "gene_to_plot = [\"ESR1\"]\n",
    "for library_id, adata in adata_dict.items():\n",
    "    if library_id == \"QMDL03\":\n",
    "        adata = adata[:, common_genes]\n",
    "        adata.uns['spatial'][library_id]['scalefactors'] = {'tissue_hires_scalef': 1}\n",
    "        hires = Image.fromarray(adata.uns[\"spatial\"][library_id][\"images\"][\"fulres\"])\n",
    "        hires.thumbnail((hires.size[0], hires.size[1]))\n",
    "        adata.uns[\"spatial\"][library_id][\"images\"][\"hires\"] = hires\n",
    "        adata.X = adata.to_df().apply(zscore,axis=0)\n",
    "        for gene in gene_to_plot:\n",
    "            fig = gene_plot(adata, genes=gene, image_scale=True, library_id=library_id, spot_size=30)\n",
    "            fig.savefig(OUT_PATH / f\"hires_pred_{library_id}_{gene}.png\", dpi=2000)\n",
    "            plt.close()"
   ]
  },
  {
   "cell_type": "code",
   "execution_count": 13,
   "metadata": {},
   "outputs": [
    {
     "name": "stdout",
     "output_type": "stream",
     "text": [
      "\u001b[0;31mSignature:\u001b[0m\n",
      "\u001b[0mgene_plot\u001b[0m\u001b[0;34m(\u001b[0m\u001b[0;34m\u001b[0m\n",
      "\u001b[0;34m\u001b[0m    \u001b[0madata\u001b[0m\u001b[0;34m:\u001b[0m \u001b[0manndata\u001b[0m\u001b[0;34m.\u001b[0m\u001b[0m_core\u001b[0m\u001b[0;34m.\u001b[0m\u001b[0manndata\u001b[0m\u001b[0;34m.\u001b[0m\u001b[0mAnnData\u001b[0m\u001b[0;34m,\u001b[0m\u001b[0;34m\u001b[0m\n",
      "\u001b[0;34m\u001b[0m    \u001b[0mmethod\u001b[0m\u001b[0;34m:\u001b[0m \u001b[0mstr\u001b[0m \u001b[0;34m=\u001b[0m \u001b[0;34m'CumSum'\u001b[0m\u001b[0;34m,\u001b[0m\u001b[0;34m\u001b[0m\n",
      "\u001b[0;34m\u001b[0m    \u001b[0mslot\u001b[0m\u001b[0;34m:\u001b[0m \u001b[0mstr\u001b[0m \u001b[0;34m=\u001b[0m \u001b[0;32mNone\u001b[0m\u001b[0;34m,\u001b[0m\u001b[0;34m\u001b[0m\n",
      "\u001b[0;34m\u001b[0m    \u001b[0mgenes\u001b[0m\u001b[0;34m:\u001b[0m \u001b[0mUnion\u001b[0m\u001b[0;34m[\u001b[0m\u001b[0mstr\u001b[0m\u001b[0;34m,\u001b[0m \u001b[0mlist\u001b[0m\u001b[0;34m,\u001b[0m \u001b[0mNoneType\u001b[0m\u001b[0;34m]\u001b[0m \u001b[0;34m=\u001b[0m \u001b[0;32mNone\u001b[0m\u001b[0;34m,\u001b[0m\u001b[0;34m\u001b[0m\n",
      "\u001b[0;34m\u001b[0m    \u001b[0mthreshold\u001b[0m\u001b[0;34m:\u001b[0m \u001b[0mfloat\u001b[0m \u001b[0;34m=\u001b[0m \u001b[0;32mNone\u001b[0m\u001b[0;34m,\u001b[0m\u001b[0;34m\u001b[0m\n",
      "\u001b[0;34m\u001b[0m    \u001b[0mlibrary_id\u001b[0m\u001b[0;34m:\u001b[0m \u001b[0mstr\u001b[0m \u001b[0;34m=\u001b[0m \u001b[0;32mNone\u001b[0m\u001b[0;34m,\u001b[0m\u001b[0;34m\u001b[0m\n",
      "\u001b[0;34m\u001b[0m    \u001b[0mdata_alpha\u001b[0m\u001b[0;34m:\u001b[0m \u001b[0mfloat\u001b[0m \u001b[0;34m=\u001b[0m \u001b[0;36m1.0\u001b[0m\u001b[0;34m,\u001b[0m\u001b[0;34m\u001b[0m\n",
      "\u001b[0;34m\u001b[0m    \u001b[0mtissue_alpha\u001b[0m\u001b[0;34m:\u001b[0m \u001b[0mfloat\u001b[0m \u001b[0;34m=\u001b[0m \u001b[0;36m1.0\u001b[0m\u001b[0;34m,\u001b[0m\u001b[0;34m\u001b[0m\n",
      "\u001b[0;34m\u001b[0m    \u001b[0mvmin\u001b[0m\u001b[0;34m:\u001b[0m \u001b[0mfloat\u001b[0m \u001b[0;34m=\u001b[0m \u001b[0;32mNone\u001b[0m\u001b[0;34m,\u001b[0m\u001b[0;34m\u001b[0m\n",
      "\u001b[0;34m\u001b[0m    \u001b[0mvmax\u001b[0m\u001b[0;34m:\u001b[0m \u001b[0mfloat\u001b[0m \u001b[0;34m=\u001b[0m \u001b[0;32mNone\u001b[0m\u001b[0;34m,\u001b[0m\u001b[0;34m\u001b[0m\n",
      "\u001b[0;34m\u001b[0m    \u001b[0mcmap\u001b[0m\u001b[0;34m:\u001b[0m \u001b[0mstr\u001b[0m \u001b[0;34m=\u001b[0m \u001b[0;34m'Spectral_r'\u001b[0m\u001b[0;34m,\u001b[0m\u001b[0;34m\u001b[0m\n",
      "\u001b[0;34m\u001b[0m    \u001b[0mspot_size\u001b[0m\u001b[0;34m:\u001b[0m \u001b[0mUnion\u001b[0m\u001b[0;34m[\u001b[0m\u001b[0mfloat\u001b[0m\u001b[0;34m,\u001b[0m \u001b[0mint\u001b[0m\u001b[0;34m]\u001b[0m \u001b[0;34m=\u001b[0m \u001b[0;36m6.5\u001b[0m\u001b[0;34m,\u001b[0m\u001b[0;34m\u001b[0m\n",
      "\u001b[0;34m\u001b[0m    \u001b[0mshow_legend\u001b[0m\u001b[0;34m:\u001b[0m \u001b[0mbool\u001b[0m \u001b[0;34m=\u001b[0m \u001b[0;32mFalse\u001b[0m\u001b[0;34m,\u001b[0m\u001b[0;34m\u001b[0m\n",
      "\u001b[0;34m\u001b[0m    \u001b[0mshow_color_bar\u001b[0m\u001b[0;34m:\u001b[0m \u001b[0mbool\u001b[0m \u001b[0;34m=\u001b[0m \u001b[0;32mTrue\u001b[0m\u001b[0;34m,\u001b[0m\u001b[0;34m\u001b[0m\n",
      "\u001b[0;34m\u001b[0m    \u001b[0mshow_axis\u001b[0m\u001b[0;34m:\u001b[0m \u001b[0mbool\u001b[0m \u001b[0;34m=\u001b[0m \u001b[0;32mFalse\u001b[0m\u001b[0;34m,\u001b[0m\u001b[0;34m\u001b[0m\n",
      "\u001b[0;34m\u001b[0m    \u001b[0mcropped\u001b[0m\u001b[0;34m:\u001b[0m \u001b[0mbool\u001b[0m \u001b[0;34m=\u001b[0m \u001b[0;32mTrue\u001b[0m\u001b[0;34m,\u001b[0m\u001b[0;34m\u001b[0m\n",
      "\u001b[0;34m\u001b[0m    \u001b[0mimage_scale\u001b[0m\u001b[0;34m:\u001b[0m \u001b[0mbool\u001b[0m \u001b[0;34m=\u001b[0m \u001b[0;32mTrue\u001b[0m\u001b[0;34m,\u001b[0m\u001b[0;34m\u001b[0m\n",
      "\u001b[0;34m\u001b[0m    \u001b[0mmargin\u001b[0m\u001b[0;34m:\u001b[0m \u001b[0mint\u001b[0m \u001b[0;34m=\u001b[0m \u001b[0;36m100\u001b[0m\u001b[0;34m,\u001b[0m\u001b[0;34m\u001b[0m\n",
      "\u001b[0;34m\u001b[0m    \u001b[0mname\u001b[0m\u001b[0;34m:\u001b[0m \u001b[0mstr\u001b[0m \u001b[0;34m=\u001b[0m \u001b[0;32mNone\u001b[0m\u001b[0;34m,\u001b[0m\u001b[0;34m\u001b[0m\n",
      "\u001b[0;34m\u001b[0m    \u001b[0moutput\u001b[0m\u001b[0;34m:\u001b[0m \u001b[0mstr\u001b[0m \u001b[0;34m=\u001b[0m \u001b[0;32mNone\u001b[0m\u001b[0;34m,\u001b[0m\u001b[0;34m\u001b[0m\n",
      "\u001b[0;34m\u001b[0m\u001b[0;34m)\u001b[0m \u001b[0;34m->\u001b[0m \u001b[0mUnion\u001b[0m\u001b[0;34m[\u001b[0m\u001b[0mmatplotlib\u001b[0m\u001b[0;34m.\u001b[0m\u001b[0mbackends\u001b[0m\u001b[0;34m.\u001b[0m\u001b[0mbackend_agg\u001b[0m\u001b[0;34m.\u001b[0m\u001b[0mFigureCanvasAgg\u001b[0m\u001b[0;34m,\u001b[0m \u001b[0mNoneType\u001b[0m\u001b[0;34m]\u001b[0m\u001b[0;34m\u001b[0m\u001b[0;34m\u001b[0m\u001b[0m\n",
      "\u001b[0;31mDocstring:\u001b[0m\n",
      "Gene expression plot for spatial transcriptomics data.\n",
      "\n",
      "Parameters\n",
      "----------\n",
      "adata : AnnData\n",
      "    Annotated data matrix.\n",
      "method : str, optional\n",
      "    Use method to count. We provide: NaiveMean, NaiveSum, CumSum.\n",
      "slot : str, optional\n",
      "    Slot name in adata.obsm.\n",
      "genes : str or list, optional\n",
      "    Choose a gene or a list of genes.\n",
      "threshold : float, optional\n",
      "    Threshold to filter genes.\n",
      "library_id : str, optional\n",
      "    Library id stored in AnnData.\n",
      "data_alpha : float, optional\n",
      "    Opacity of the spot.\n",
      "tissue_alpha : float, optional\n",
      "    Opacity of the tissue.\n",
      "vmin : float, optional\n",
      "    Minimum value for the color map.\n",
      "vmax : float, optional\n",
      "    Maximum value for the color map.\n",
      "cmap : str, optional\n",
      "    Color map to use.\n",
      "spot_size : float or int, optional\n",
      "    Size of the spot.\n",
      "show_legend : bool, optional\n",
      "    Show legend or not.\n",
      "show_color_bar : bool, optional\n",
      "    Show color bar or not.\n",
      "show_axis : bool, optional\n",
      "    Show axis or not.\n",
      "cropped : bool, optional\n",
      "    Crop the image or not.\n",
      "image_scale : bool, optional\n",
      "    Scale the image or not.\n",
      "margin : int, optional\n",
      "    Margin size.\n",
      "name : str, optional\n",
      "    Name of the output figure file.\n",
      "output : str, optional\n",
      "    Save the figure as file or not.\n",
      "\n",
      "Returns\n",
      "-------\n",
      "Optional[FigureCanvasAgg]\n",
      "    The generated gene expression plot as a FigureCanvasAgg object.\n",
      "\u001b[0;31mFile:\u001b[0m      ~/STimage/stimage/_utils.py\n",
      "\u001b[0;31mType:\u001b[0m      function"
     ]
    }
   ],
   "source": [
    "?gene_plot"
   ]
  },
  {
   "cell_type": "code",
   "execution_count": 14,
   "metadata": {},
   "outputs": [
    {
     "data": {
      "text/plain": [
       "PosixPath('/scratch/project_mnt/S0010/Xiao/Q1851/Xiao/Working_project/STimage_exp/Pete_Xenium/PLOT')"
      ]
     },
     "execution_count": 14,
     "metadata": {},
     "output_type": "execute_result"
    }
   ],
   "source": [
    "OUT_PATH"
   ]
  },
  {
   "cell_type": "code",
   "execution_count": 11,
   "metadata": {},
   "outputs": [],
   "source": [
    "# from stimage2.datasets.Xenium_dataset import Blake_xenium, Pfizer_xenium\n",
    "# from pathlib import Path\n",
    "# import pickle\n",
    "# gene_list = []\n",
    "# for i in range(len(sdataset)):\n",
    "#     sdata = sdataset.load_data(i)\n",
    "#     gene_list.append(sdata[\"table\"].var_names.values.tolist())\n",
    "# gene_list = list(set([item for items in gene_list for item in items]))\n",
    "# with open(PATH_PRED / \"xenium_gene_list.pkl\", \"wb\") as f:\n",
    "#     pickle.dump(gene_list, f)"
   ]
  },
  {
   "cell_type": "code",
   "execution_count": 13,
   "metadata": {},
   "outputs": [
    {
     "name": "stdout",
     "output_type": "stream",
     "text": [
      "QMDL02\n",
      "QMDL05\n",
      "QMDL01\n",
      "QMDL03\n",
      "QMDL04\n"
     ]
    }
   ],
   "source": [
    "df = pd.DataFrame()\n",
    "for library_id, adata_gt in adata_dict_gt.items():\n",
    "    print(library_id)\n",
    "    adata_pred = adata_dict[library_id]\n",
    "    common_spots = list(set(adata_gt.obs_names) & set(adata_pred.obs_names))\n",
    "    adata_gt = adata_gt[common_spots, common_genes]\n",
    "    adata_pred = adata_pred[common_spots, common_genes]\n",
    "    for gene in common_genes:\n",
    "        cor_val = calculate_correlation(adata_gt.to_df().loc[:,gene], adata_pred.to_df().loc[:,gene])\n",
    "        df = pd.concat([df, pd.DataFrame([gene, cor_val, library_id, \"STimage_Pete\"],\n",
    "                            index=[\"Gene\", \"Pearson correlation\", \"Slide\", \"Method\"]).transpose()], ignore_index=True, axis=0)\n",
    "    "
   ]
  },
  {
   "cell_type": "code",
   "execution_count": 14,
   "metadata": {},
   "outputs": [
    {
     "data": {
      "text/html": [
       "<div>\n",
       "<style scoped>\n",
       "    .dataframe tbody tr th:only-of-type {\n",
       "        vertical-align: middle;\n",
       "    }\n",
       "\n",
       "    .dataframe tbody tr th {\n",
       "        vertical-align: top;\n",
       "    }\n",
       "\n",
       "    .dataframe thead th {\n",
       "        text-align: right;\n",
       "    }\n",
       "</style>\n",
       "<table border=\"1\" class=\"dataframe\">\n",
       "  <thead>\n",
       "    <tr style=\"text-align: right;\">\n",
       "      <th></th>\n",
       "      <th>Gene</th>\n",
       "      <th>Pearson correlation</th>\n",
       "      <th>Slide</th>\n",
       "      <th>Method</th>\n",
       "    </tr>\n",
       "  </thead>\n",
       "  <tbody>\n",
       "    <tr>\n",
       "      <th>0</th>\n",
       "      <td>FCER1G</td>\n",
       "      <td>-0.100487</td>\n",
       "      <td>QMDL02</td>\n",
       "      <td>STimage_Pete</td>\n",
       "    </tr>\n",
       "    <tr>\n",
       "      <th>1</th>\n",
       "      <td>CD79B</td>\n",
       "      <td>0.02282</td>\n",
       "      <td>QMDL02</td>\n",
       "      <td>STimage_Pete</td>\n",
       "    </tr>\n",
       "    <tr>\n",
       "      <th>2</th>\n",
       "      <td>CXCL16</td>\n",
       "      <td>-0.165957</td>\n",
       "      <td>QMDL02</td>\n",
       "      <td>STimage_Pete</td>\n",
       "    </tr>\n",
       "    <tr>\n",
       "      <th>3</th>\n",
       "      <td>MMP12</td>\n",
       "      <td>0.161513</td>\n",
       "      <td>QMDL02</td>\n",
       "      <td>STimage_Pete</td>\n",
       "    </tr>\n",
       "    <tr>\n",
       "      <th>4</th>\n",
       "      <td>CD80</td>\n",
       "      <td>-0.030893</td>\n",
       "      <td>QMDL02</td>\n",
       "      <td>STimage_Pete</td>\n",
       "    </tr>\n",
       "    <tr>\n",
       "      <th>...</th>\n",
       "      <td>...</td>\n",
       "      <td>...</td>\n",
       "      <td>...</td>\n",
       "      <td>...</td>\n",
       "    </tr>\n",
       "    <tr>\n",
       "      <th>525</th>\n",
       "      <td>NKG7</td>\n",
       "      <td>0.065415</td>\n",
       "      <td>QMDL04</td>\n",
       "      <td>STimage_Pete</td>\n",
       "    </tr>\n",
       "    <tr>\n",
       "      <th>526</th>\n",
       "      <td>PIM1</td>\n",
       "      <td>0.029094</td>\n",
       "      <td>QMDL04</td>\n",
       "      <td>STimage_Pete</td>\n",
       "    </tr>\n",
       "    <tr>\n",
       "      <th>527</th>\n",
       "      <td>S100A8</td>\n",
       "      <td>-0.028905</td>\n",
       "      <td>QMDL04</td>\n",
       "      <td>STimage_Pete</td>\n",
       "    </tr>\n",
       "    <tr>\n",
       "      <th>528</th>\n",
       "      <td>IGF1</td>\n",
       "      <td>-0.020736</td>\n",
       "      <td>QMDL04</td>\n",
       "      <td>STimage_Pete</td>\n",
       "    </tr>\n",
       "    <tr>\n",
       "      <th>529</th>\n",
       "      <td>C1QA</td>\n",
       "      <td>-0.028068</td>\n",
       "      <td>QMDL04</td>\n",
       "      <td>STimage_Pete</td>\n",
       "    </tr>\n",
       "  </tbody>\n",
       "</table>\n",
       "<p>530 rows × 4 columns</p>\n",
       "</div>"
      ],
      "text/plain": [
       "       Gene Pearson correlation   Slide        Method\n",
       "0    FCER1G           -0.100487  QMDL02  STimage_Pete\n",
       "1     CD79B             0.02282  QMDL02  STimage_Pete\n",
       "2    CXCL16           -0.165957  QMDL02  STimage_Pete\n",
       "3     MMP12            0.161513  QMDL02  STimage_Pete\n",
       "4      CD80           -0.030893  QMDL02  STimage_Pete\n",
       "..      ...                 ...     ...           ...\n",
       "525    NKG7            0.065415  QMDL04  STimage_Pete\n",
       "526    PIM1            0.029094  QMDL04  STimage_Pete\n",
       "527  S100A8           -0.028905  QMDL04  STimage_Pete\n",
       "528    IGF1           -0.020736  QMDL04  STimage_Pete\n",
       "529    C1QA           -0.028068  QMDL04  STimage_Pete\n",
       "\n",
       "[530 rows x 4 columns]"
      ]
     },
     "execution_count": 14,
     "metadata": {},
     "output_type": "execute_result"
    }
   ],
   "source": [
    "df"
   ]
  },
  {
   "cell_type": "code",
   "execution_count": 18,
   "metadata": {},
   "outputs": [],
   "source": [
    "top_100gene = df.groupby(\"Gene\")[\"Pearson correlation\"].mean().sort_values(ascending=False)[0:100].index\n",
    "df_top100 = df[df[\"Gene\"].isin(top_100gene)]"
   ]
  },
  {
   "cell_type": "code",
   "execution_count": 22,
   "metadata": {},
   "outputs": [
    {
     "data": {
      "text/plain": [
       "array(['TIGIT', 'LTB', 'PTPRC', 'LILRA4', 'CD79A', 'AR', 'SLAMF7', 'CD86',\n",
       "       'PRF1', 'KLRD1', 'MS4A1', 'PTPRC', 'CD4', 'TRAC', 'AR', 'PRF1',\n",
       "       'SLAMF7', 'CCL5', 'PGR', 'PIM1', 'CCND1', 'AR', 'CD8A', 'AR', 'AR',\n",
       "       'C1QA', 'TCF7', 'FOXA1', 'CCND1', 'CXCL12', 'KLRB1', 'NKG7',\n",
       "       'HAVCR2', 'PRDM1', 'LILRA4', 'ERBB2', 'IL2RG', 'PDCD1LG2', 'RORC',\n",
       "       'PDCD1LG2', 'FOXA1', 'PIM1', 'LY86', 'CCL5', 'TCF7', 'RORC',\n",
       "       'ESR1', 'KLRD1', 'CCL5', 'GNLY', 'IL2RG', 'GZMA', 'TIGIT', 'ESR1',\n",
       "       'TCF4', 'GATA3', 'CCND1', 'CXCR4', 'CD9', 'MDM2', 'ESR1', 'RORC',\n",
       "       'ERBB2', 'ITGAX', 'CD14', 'CD8A', 'CD163', 'GZMA', 'ADGRE5',\n",
       "       'CCL5', 'LTB', 'PPARG', 'KLRB1', 'TCF7', 'CD79A', 'GATA3', 'ITGAM',\n",
       "       'CD3E', 'CD27', 'NKG7', 'CD3E', 'FOXA1', 'KIT', 'RUNX1', 'SLAMF7',\n",
       "       'EIF4EBP1', 'CD86', 'RUNX1', 'PDGFRB', 'GATA3', 'PDGFRA', 'PGR',\n",
       "       'FOXA1', 'RORC', 'SFRP4', 'KIT', 'PECAM1', 'IL2RA', 'SOX17',\n",
       "       'CDH1', 'FCER1G', 'TIGIT', 'KLRB1', 'CD27', 'KLRD1', 'RUNX1',\n",
       "       'TCF4', 'TRAC', 'KDR', 'IGF1', 'IL2RA', 'EIF4EBP1', 'CD4',\n",
       "       'FCGR3A', 'KLRD1', 'S100A8', 'CD4', 'EIF4EBP1', 'ADGRE5', 'PIM1',\n",
       "       'KLRD1', 'ITGAX', 'NKG7', 'IL3RA', 'GNLY', 'HAVCR2', 'KLF5',\n",
       "       'MS4A1', 'TCF7', 'SLAMF1', 'CD79A', 'LAG3', 'LTB', 'CD14',\n",
       "       'PDGFRA', 'CCND1', 'CD274', 'GZMK', 'ITGAM', 'TCF4', 'CD14',\n",
       "       'PECAM1', 'MMP12', 'PRF1', 'TIGIT', 'ESR1', 'PRF1', 'PDGFRA',\n",
       "       'ADGRE5', 'CD9', 'IL2RG', 'PRDM1', 'CD68', 'RUNX1', 'ITGAX',\n",
       "       'MZB1', 'PPARG', 'FCGR3A', 'ITGAX', 'MAP3K8', 'SFRP1', 'CD27',\n",
       "       'PPARG', 'PECAM1', 'TRAC', 'ERBB2', 'IL2RA', 'GNLY', 'SLAMF7',\n",
       "       'HAVCR2', 'IL3RA', 'MDM2', 'SLAMF1', 'MDM2', 'PRDM1', 'FOXA1',\n",
       "       'PDGFRA', 'CD80', 'IL3RA', 'CD8A', 'CD80', 'CCND1', 'SOX17', 'CD9',\n",
       "       'LILRA4', 'CD80', 'SFRP1', 'MAP3K8', 'CCL8', 'CD79A', 'SPIB',\n",
       "       'NKG7', 'C1QA', 'CD79B', 'RUNX1', 'CD27', 'ITGAX', 'KDR',\n",
       "       'PDCD1LG2', 'CD86', 'PRF1', 'CCR7', 'CX3CR1', 'DUSP2', 'ERBB2',\n",
       "       'FCGR3A', 'CPA3', 'CXCL12', 'GZMK', 'CXCL12', 'CCL8', 'CD86',\n",
       "       'LILRA4', 'CTLA4', 'CD274', 'MRC1', 'CD163', 'EPCAM', 'CXCL5',\n",
       "       'CD8A', 'IL7R', 'ADGRE5', 'TNFRSF17', 'CD86', 'CD68', 'PIM1',\n",
       "       'CCL5', 'IL3RA', 'EIF4EBP1', 'S100A8', 'LY86', 'CD3G', 'SLAMF7',\n",
       "       'TCF7', 'CCR7', 'CD163', 'PRDM1', 'CD80', 'LY86', 'SFRP1', 'CD68',\n",
       "       'CXCL16', 'CD3E', 'SLAMF1', 'MS4A1', 'CD79A', 'CCL8', 'PTPRC',\n",
       "       'TOP2A', 'C1QA', 'ADGRE5', 'CTSG', 'SFRP1', 'CD274', 'CTLA4',\n",
       "       'SLAMF1', 'NKG7', 'PRDM1', 'MAP3K8', 'CD9', 'IL2RA', 'CCL8',\n",
       "       'SFRP4', 'PGR', 'LTB', 'IGF1', 'CPA3', 'CD69', 'TOP2A', 'PDCD1',\n",
       "       'PDCD1', 'CD27', 'SFRP4', 'CD19', 'EIF4EBP1', 'CD69', 'PTPRC',\n",
       "       'GATA3', 'CD3G', 'TRAC', 'CXCR4', 'ITGAM', 'GZMA', 'LAG3', 'MZB1',\n",
       "       'NCAM1', 'LY86', 'CCR7', 'PGR', 'CTSG', 'CCR7', 'CD79B', 'CD4',\n",
       "       'TRAC', 'LAG3', 'ITGAM', 'KLRF1', 'HAVCR2', 'GNLY', 'PPARG',\n",
       "       'KLRB1', 'TNFRSF17', 'MZB1', 'TCF4', 'IL3RA', 'IL2RG', 'CD247',\n",
       "       'CTSG', 'MS4A1', 'PIM1', 'CPA3', 'FCER1G', 'TCL1A', 'LAG3',\n",
       "       'TNFRSF17', 'FCER1G', 'CXCR4', 'PDCD1LG2', 'CXCL16', 'MAP3K8',\n",
       "       'CD79B', 'FOXP3', 'PDGFRB', 'TIGIT', 'CX3CR1', 'CD4', 'LAG3',\n",
       "       'GNLY', 'MZB1', 'CD3G', 'ITGAM', 'KDR', 'CD3G', 'SELL', 'S100A8',\n",
       "       'PDCD1LG2', 'CXCL12', 'CD8A', 'KIT', 'CXCR4', 'KDR', 'MRC1',\n",
       "       'TNFRSF17', 'SPIB', 'MZB1', 'KLRF1', 'CPA3', 'IL2RG', 'IL7R',\n",
       "       'SPIB', 'CTSG', 'CD3G', 'SOX17', 'IL7R', 'NCAM1', 'CX3CR1', 'CPA3',\n",
       "       'PPARG', 'MRC1', 'CTLA4', 'CXCL5', 'GZMA', 'CD68', 'PGR', 'CCL8',\n",
       "       'FCGR3A', 'CXCR4', 'PDCD1', 'CD14', 'KLRB1', 'CTSG', 'CX3CR1',\n",
       "       'MS4A1', 'LTB', 'CD247', 'FOXP3', 'CXCL5', 'GZMK', 'LY86',\n",
       "       'LILRA4', 'SOX17', 'NCAM1', 'CD3E', 'RORC', 'MRC1', 'IGF1',\n",
       "       'NCAM1', 'KLF5', 'CD247', 'CD19', 'KLRF1', 'IL2RA', 'MMP12',\n",
       "       'FOXP3', 'IL7R', 'TOP2A', 'GZMK', 'C1QA', 'DUSP2', 'S100A8',\n",
       "       'SOX17', 'CD80', 'CD247', 'MMP12', 'TCL1A', 'PDCD1', 'CX3CR1',\n",
       "       'PDCD1', 'PECAM1', 'TNFRSF17', 'MMP12', 'CD3E', 'ERBB2', 'CD69',\n",
       "       'CXCL5', 'KIT', 'CD14', 'FCGR3A', 'CD79B', 'KDR', 'CD274', 'TCF4',\n",
       "       'PDGFRA', 'CD69', 'C1QA', 'CD79B', 'CTLA4', 'HAVCR2', 'TCL1A',\n",
       "       'SFRP4', 'IGF1', 'DUSP2', 'CXCL5', 'GZMK', 'PTPRC', 'PDGFRB',\n",
       "       'FOXP3', 'MMP12', 'CD163', 'TCL1A', 'FOXP3', 'SPIB', 'SELL',\n",
       "       'NCAM1', 'SELL', 'EPCAM', 'CD247', 'MDM2', 'CD19', 'FCER1G',\n",
       "       'IGF1', 'CTLA4', 'GZMA', 'CDH1', 'SFRP4', 'CD274', 'SELL', 'CCR7',\n",
       "       'KLF5', 'CD19', 'KIT', 'SFRP1', 'CDH1', 'MAP3K8', 'CDH1', 'TOP2A',\n",
       "       'PDGFRB', 'S100A8', 'CD69', 'PECAM1', 'TCL1A', 'CD163', 'DUSP2',\n",
       "       'FCER1G', 'KLF5', 'EPCAM', 'GATA3', 'CD68', 'PDGFRB', 'SPIB',\n",
       "       'KLRF1', 'CXCL16', 'MDM2', 'TOP2A', 'CXCL16', 'CD19', 'ESR1',\n",
       "       'IL7R', 'CXCL16', 'EPCAM', 'CXCL12', 'SLAMF1', 'EPCAM', 'MRC1',\n",
       "       'KLRF1', 'DUSP2', 'SELL', 'CD9', 'CDH1', 'KLF5'], dtype=object)"
      ]
     },
     "execution_count": 22,
     "metadata": {},
     "output_type": "execute_result"
    }
   ],
   "source": [
    "df_top100.sort_values(by=\"Pearson correlation\", ascending=False)[\"Gene\"].values"
   ]
  },
  {
   "cell_type": "code",
   "execution_count": 15,
   "metadata": {},
   "outputs": [],
   "source": [
    "df.to_csv(OUT_PATH / \"correlation.csv\")"
   ]
  },
  {
   "cell_type": "code",
   "execution_count": 23,
   "metadata": {},
   "outputs": [],
   "source": [
    "ax, fig = plt.subplots(figsize=(10,6))\n",
    "sns.boxplot(x=\"Slide\", y=\"Pearson correlation\", data=df_top100)\n",
    "# plt.ylim(0,1)\n",
    "plt.savefig(OUT_PATH / \"top_100gene.pdf\")"
   ]
  },
  {
   "cell_type": "code",
   "execution_count": 24,
   "metadata": {},
   "outputs": [
    {
     "data": {
      "image/png": "[encoded data removed]",
      "text/plain": [
       "<Figure size 1000x600 with 1 Axes>"
      ]
     },
     "metadata": {},
     "output_type": "display_data"
    }
   ],
   "source": [
    "plt.show()"
   ]
  },
  {
   "cell_type": "code",
   "execution_count": null,
   "metadata": {},
   "outputs": [],
   "source": []
  }
 ],
 "metadata": {
  "kernelspec": {
   "display_name": "stimage_ld",
   "language": "python",
   "name": "stimage_ld"
  },
  "language_info": {
   "codemirror_mode": {
    "name": "ipython",
    "version": 3
   },
   "file_extension": ".py",
   "mimetype": "text/x-python",
   "name": "python",
   "nbconvert_exporter": "python",
   "pygments_lexer": "ipython3",
   "version": "3.8.19"
  }
 },
 "nbformat": 4,
 "nbformat_minor": 2
}
