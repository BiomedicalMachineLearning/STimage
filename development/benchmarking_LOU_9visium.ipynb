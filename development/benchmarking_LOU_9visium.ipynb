{
 "cells": [
  {
   "cell_type": "code",
   "execution_count": 1,
   "id": "f46f338f",
   "metadata": {},
   "outputs": [],
   "source": [
    "import sys\n",
    "import stlearn as st\n",
    "st.settings.set_figure_params(dpi=300)\n",
    "from pathlib import Path\n",
    "import pandas as pd\n",
    "import matplotlib.pyplot as plt\n",
    "import matplotlib\n",
    "import sys\n",
    "file = Path(\"../stimage\").resolve()\n",
    "parent= file.parent\n",
    "sys.path.append(str(parent))\n",
    "from PIL import Image\n",
    "from stimage._utils import gene_plot, Read10X, ReadOldST, tiling, ensembl_to_id\n",
    "from stimage._model import CNN_NB_multiple_genes, negative_binomial_layer, negative_binomial_loss\n",
    "from stimage._data_generator import DataGenerator\n",
    "import tensorflow as tf\n",
    "import seaborn as sns\n",
    "sns.set_style(\"white\")\n",
    "import matplotlib.pyplot as plt\n",
    "from scipy import stats\n",
    "import numpy as np\n",
    "# import geopandas as gpd\n",
    "from sklearn.neighbors import KDTree\n",
    "from anndata import read_h5ad\n",
    "from tensorflow.keras import backend as K\n",
    "import scanpy as sc\n",
    "\n",
    "import matplotlib.pyplot as plt\n",
    "from libpysal.weights.contiguity import Queen\n",
    "from libpysal import examples\n",
    "import numpy as np\n",
    "import pandas as pd\n",
    "import geopandas as gpd\n",
    "import os\n",
    "import splot\n",
    "from splot.esda import moran_scatterplot, lisa_cluster\n",
    "from esda.moran import Moran, Moran_Local\n",
    "from esda.moran import Moran_BV, Moran_Local_BV\n",
    "from splot.esda import plot_moran_bv_simulation, plot_moran_bv, plot_local_autocorrelation\n",
    "import pickle\n",
    "from scipy import stats\n",
    "\n",
    "def plot_correlation(df, attr_1, attr_2):\n",
    "    r = stats.pearsonr(df[attr_1], \n",
    "                       df[attr_2])[0] **2\n",
    "\n",
    "    g = sns.lmplot(data=df,\n",
    "        x=attr_1, y=attr_2,\n",
    "        height=5, legend=True\n",
    "    )\n",
    "    # g.set(ylim=(0, 360), xlim=(0,360))\n",
    "\n",
    "    g.set_axis_labels(attr_1, attr_2)\n",
    "    plt.annotate(r'$R^2:{0:.2f}$'.format(r),\n",
    "                (max(df[attr_1])*0.9, max(df[attr_2])*0.9))\n",
    "    return g\n",
    "\n",
    "\n",
    "def calculate_correlation(attr_1, attr_2):\n",
    "    r = stats.pearsonr(attr_1, \n",
    "                       attr_2)[0]\n",
    "    return r\n",
    "\n",
    "def calculate_correlation_2(attr_1, attr_2):\n",
    "    r = stats.spearmanr(attr_1, \n",
    "                       attr_2)[0]\n",
    "    return r"
   ]
  },
  {
   "cell_type": "code",
   "execution_count": 2,
   "id": "81b28cf3",
   "metadata": {},
   "outputs": [],
   "source": [
    "DATA_PATH = Path(\"/clusterdata/uqxtan9/Xiao/STimage_100run/dataset_breast_cancer_9visium\")\n",
    "\n",
    "adata_all = read_h5ad(DATA_PATH / \"all_adata.h5ad\")"
   ]
  },
  {
   "cell_type": "code",
   "execution_count": 3,
   "id": "d2f78b92",
   "metadata": {},
   "outputs": [],
   "source": [
    "adata_all.obs[\"tile_path\"] = adata_all.obs.tile_path.map(lambda x:x.replace(\"/clusterdata/uqxtan9/Xiao/breast_cancer_9visium/\",\n",
    "                                               \"/clusterdata/uqxtan9/Xiao/STimage_100run/dataset_breast_cancer_9visium/\"))"
   ]
  },
  {
   "cell_type": "code",
   "execution_count": 4,
   "id": "e990e88a",
   "metadata": {},
   "outputs": [],
   "source": [
    "samples = adata_all.obs[\"library_id\"].unique().tolist()"
   ]
  },
  {
   "cell_type": "code",
   "execution_count": 5,
   "id": "05cd23e9",
   "metadata": {},
   "outputs": [],
   "source": [
    "gene_list=[\"COX6C\",\"TTLL12\", \"HSP90AB1\", \n",
    "           \"TFF3\", \"ATP1A1\", \"B2M\", \"FASN\", \"SPARC\", \"CD74\", \"CD63\", \"CD24\", \"CD81\"]"
   ]
  },
  {
   "cell_type": "code",
   "execution_count": 8,
   "id": "cb42f802",
   "metadata": {},
   "outputs": [],
   "source": [
    "df = pd.DataFrame()\n",
    "\n",
    "i = int(sys.argv[1])\n",
    "test_sample = samples[i]\n",
    "n_genes = len(gene_list)"
   ]
  },
  {
   "cell_type": "code",
   "execution_count": 10,
   "id": "638182a7",
   "metadata": {},
   "outputs": [],
   "source": [
    "adata_all_train_valid = adata_all[adata_all.obs[\"library_id\"].isin(\n",
    "    adata_all.obs.library_id.cat.remove_categories(test_sample).unique())]"
   ]
  },
  {
   "cell_type": "code",
   "execution_count": 11,
   "id": "088c8195",
   "metadata": {},
   "outputs": [],
   "source": [
    "training_index = adata_all_train_valid.obs.sample(frac=0.7, random_state=1).index\n",
    "training_dataset = adata_all_train_valid[training_index,].copy()\n",
    "\n",
    "valid_index = adata_all_train_valid.obs.index.isin(training_index)\n",
    "valid_dataset = adata_all_train_valid[~valid_index,].copy()\n",
    "\n",
    "test_index = adata_all.obs.library_id == test_sample\n",
    "test_dataset_1 = adata_all[test_index,].copy()"
   ]
  },
  {
   "cell_type": "code",
   "execution_count": 12,
   "id": "e8160ae5",
   "metadata": {},
   "outputs": [],
   "source": [
    "train_gen = tf.data.Dataset.from_generator(\n",
    "        lambda:DataGenerator(adata=training_dataset, \n",
    "                      genes=gene_list, aug=False),\n",
    "        output_types=(tf.float32, tuple([tf.float32]*n_genes)), \n",
    "        output_shapes=([299,299,3], tuple([1]*n_genes))\n",
    ")\n",
    "train_gen_ = train_gen.shuffle(buffer_size=1000).batch(128).repeat(1).cache().prefetch(tf.data.experimental.AUTOTUNE)\n",
    "valid_gen = tf.data.Dataset.from_generator(\n",
    "            lambda:DataGenerator(adata=valid_dataset, \n",
    "                          genes=gene_list), \n",
    "            output_types=(tf.float32, tuple([tf.float32]*n_genes)), \n",
    "            output_shapes=([299,299,3], tuple([1]*n_genes))\n",
    ")\n",
    "valid_gen_ = valid_gen.shuffle(buffer_size=500).batch(128).repeat(3).cache().prefetch(tf.data.experimental.AUTOTUNE)\n",
    "\n",
    "test_gen_1 = tf.data.Dataset.from_generator(\n",
    "        lambda:DataGenerator(adata=test_dataset_1, \n",
    "                      genes=gene_list), \n",
    "        output_types=(tf.float32, tuple([tf.float32]*n_genes)), \n",
    "        output_shapes=([299,299,3], tuple([1]*n_genes))\n",
    ")\n",
    "test_gen__1 = test_gen_1.batch(1)"
   ]
  },
  {
   "cell_type": "code",
   "execution_count": null,
   "id": "df6f1abf",
   "metadata": {},
   "outputs": [
    {
     "name": "stdout",
     "output_type": "stream",
     "text": [
      "      5/Unknown - 126s 6s/step - loss: 32.8811 - gene_0_loss: 3.0233 - gene_1_loss: 1.3694 - gene_2_loss: 3.1232 - gene_3_loss: 2.0969 - gene_4_loss: 2.2555 - gene_5_loss: 6.4648 - gene_6_loss: 1.8697 - gene_7_loss: 2.2575 - gene_8_loss: 2.6572 - gene_9_loss: 2.3786 - gene_10_loss: 2.4401 - gene_11_loss: 2.9449"
     ]
    }
   ],
   "source": [
    "K.clear_session()\n",
    "model = CNN_NB_multiple_genes((299, 299, 3), n_genes)\n",
    "callback = tf.keras.callbacks.EarlyStopping(monitor='val_loss', patience=20,\n",
    "                                        restore_best_weights=False)\n",
    "\n",
    "train_history = model.fit(train_gen_,\n",
    "                      epochs=1,\n",
    "                      callbacks=[callback]\n",
    "                      )"
   ]
  },
  {
   "cell_type": "code",
   "execution_count": 30,
   "id": "b3f2db9d",
   "metadata": {},
   "outputs": [],
   "source": [
    "model.save(\"./stimage_LOOCV_9visium/stimage_model_{}.h5\".format(test_sample))"
   ]
  },
  {
   "cell_type": "code",
   "execution_count": 31,
   "id": "4505c1a1",
   "metadata": {},
   "outputs": [],
   "source": [
    "test_predictions = model.predict(test_gen__1)\n",
    "from scipy.stats import nbinom\n",
    "y_preds = []\n",
    "for i in range(n_genes):\n",
    "    n = test_predictions[i][:, 0]\n",
    "    p = test_predictions[i][:, 1]\n",
    "    y_pred = nbinom.mean(n, p)\n",
    "    y_preds.append(y_pred)\n",
    "test_dataset_1.obsm[\"predicted_gene\"] = np.array(y_preds).transpose()\n",
    "\n",
    "test_dataset_1_ = test_dataset_1[:,gene_list].copy()\n",
    "test_dataset_1_.X = test_dataset_1_.obsm[\"predicted_gene\"]\n",
    "\n",
    "test_dataset_1_.write(\"./stimage_LOOCV_9visium/pred_{}.h5ad\".format(test_sample))\n",
    "\n",
    "pred_adata = test_dataset_1_\n",
    "test_dataset = test_dataset_1\n",
    "\n",
    "for gene in pred_adata.var_names:\n",
    "    cor_val = calculate_correlation(pred_adata.to_df().loc[:,gene], test_dataset.to_df().loc[:,gene])\n",
    "    df = df.append(pd.Series([gene, cor_val, test_sample, \"STimage\"], \n",
    "                         index=[\"Gene\", \"Pearson correlation\", \"Slide\", \"Method\"]),\n",
    "                  ignore_index=True)\n",
    "\n",
    "df.to_csv(\"./stimage_LOOCV_9visium/stimage_cor_{}.csv\".format(test_sample))"
   ]
  },
  {
   "cell_type": "code",
   "execution_count": null,
   "id": "ff9cdf19",
   "metadata": {},
   "outputs": [],
   "source": []
  }
 ],
 "metadata": {
  "kernelspec": {
   "display_name": "Python 3",
   "language": "python",
   "name": "python3"
  },
  "language_info": {
   "codemirror_mode": {
    "name": "ipython",
    "version": 3
   },
   "file_extension": ".py",
   "mimetype": "text/x-python",
   "name": "python",
   "nbconvert_exporter": "python",
   "pygments_lexer": "ipython3",
   "version": "3.8.6"
  }
 },
 "nbformat": 4,
 "nbformat_minor": 5
}
