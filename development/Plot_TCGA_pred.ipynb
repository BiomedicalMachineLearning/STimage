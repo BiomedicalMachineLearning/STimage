{
 "cells": [
  {
   "cell_type": "code",
   "execution_count": null,
   "metadata": {},
   "outputs": [],
   "source": [
    "from pathlib import Path\n",
    "import anndata as ad\n",
    "import scanpy as sc\n",
    "from PIL import Image\n",
    "import numpy as np\n",
    "import matplotlib.pyplot as plt\n",
    "from shapely.geometry import Point, Polygon\n",
    "import geopandas as gpd\n",
    "from geopandas.tools import sjoin\n",
    "import json\n",
    "import pandas as pd\n",
    "import stlearn as st\n",
    "st.settings.set_figure_params(dpi=300)\n",
    "from sklearn import metrics\n",
    "import scipy.stats as stats\n",
    "# import hvplot.pandas "
   ]
  },
  {
   "cell_type": "code",
   "execution_count": null,
   "metadata": {},
   "outputs": [],
   "source": [
    "# stimage custom \n",
    "import sys\n",
    "file = Path(\"/scratch/imb/Xiao/STimage/stimage\").resolve() # path to src code\n",
    "parent = file.parent\n",
    "sys.path.append(str(parent))\n",
    "\n",
    "from tqdm import tqdm\n",
    "\n",
    "from stimage._utils import gene_plot\n",
    "\n",
    "import pickle\n",
    "import stlearn as st\n"
   ]
  },
  {
   "cell_type": "code",
   "execution_count": null,
   "metadata": {},
   "outputs": [],
   "source": [
    "def pred_to_sc_adata(adata):\n",
    "    library_id = adata.obs['library_id'].values[0]\n",
    "    adata.obs[\"imagerow\"] = adata.obsm[\"spatial\"][:,0] //10\n",
    "    adata.obs[\"imagecol\"] = adata.obsm[\"spatial\"][:,1] //10\n",
    "    adata.obsm[\"spatial\"][:, [0, 1]]  = adata.obsm[\"spatial\"][:, [1, 0]]\n",
    "    img = Image.fromarray(adata.uns[\"spatial\"][library_id]['images']['fulres'])\n",
    "    img = img.resize((img.size[0]//10, img.size[1]//10))\n",
    "    adata.uns[\"spatial\"][library_id]['scalefactors'] = {}\n",
    "    adata.uns[\"spatial\"][library_id]['metadata'] = {}\n",
    "    adata.uns[\"spatial\"][library_id]['use_quality'] = \"hires\"\n",
    "    adata.uns[\"spatial\"][library_id]['scalefactors'][\"tissue_hires_scalef\"] = 0.1\n",
    "    adata.uns[\"spatial\"][library_id]['scalefactors'][\"fiducial_diameter_fullres\"] = 10\n",
    "    adata.uns[\"spatial\"][library_id]['scalefactors'][\"spot_diameter_fullres\"] = 10\n",
    "    adata.uns[\"spatial\"][library_id]['images']['hires'] = np.array(img)\n",
    "    return adata.copy()"
   ]
  },
  {
   "cell_type": "code",
   "execution_count": null,
   "metadata": {},
   "outputs": [],
   "source": [
    "BASE_PATH = Path('/scratch/imb/Xiao/')\n",
    "PRED_PATH = Path('/scratch/imb/Xiao/Q2051/STimage_project/TCGA_pred')\n",
    "ANNO_PATH = BASE_PATH / 'Q2051/STimage_project/STimage_dataset/RAW/TCGA_annotation_2'\n",
    "OUT_PATH = BASE_PATH / 'STimage/development/TCGA_test/PLOTS'\n",
    "OUT_PATH.mkdir(parents=True, exist_ok=True)"
   ]
  },
  {
   "cell_type": "code",
   "execution_count": null,
   "metadata": {},
   "outputs": [],
   "source": [
    "SAMPLE_LIST = [\"TCGA-BH-A0C7-01B-01-TSA.deec957f-1264-4169-945e-24d4bd1988cd\",\n",
    "               \"TCGA-BH-A0C7-01Z-00-DX1.C70D358E-C48F-4F69-86CE-3218E9C95837\",\n",
    "               \"TCGA-A7-A0CD-01A-01-BSA.a48267de-7bf0-409f-a8b5-9712f2e06a90\"]"
   ]
  },
  {
   "cell_type": "code",
   "execution_count": null,
   "metadata": {},
   "outputs": [],
   "source": [
    "SAMPLE_LIST = [\"TCGA-3C-AALJ-01Z-00-DX1.777C0957-255A-42F0-9EEB-A3606BCF0C96\",\n",
    "               \"TCGA-3C-AALJ-01Z-00-DX2.62DFE56B-B84C-40F9-9625-FCB55767B70D\",\n",
    "               \"TCGA-A2-A3KD-01A-01-TSA.6CE03E54-350A-4AA7-A249-E55FF073FCB2\"]"
   ]
  },
  {
   "cell_type": "code",
   "execution_count": null,
   "metadata": {},
   "outputs": [],
   "source": [
    "SAMPLE = SAMPLE_LIST[0]\n",
    "TCGA_ID = SAMPLE.split('.')[0]"
   ]
  },
  {
   "cell_type": "code",
   "execution_count": null,
   "metadata": {},
   "outputs": [],
   "source": [
    "adata = ad.read_h5ad(PRED_PATH / f\"pred_{SAMPLE}.h5ad\")"
   ]
  },
  {
   "cell_type": "code",
   "execution_count": null,
   "metadata": {},
   "outputs": [],
   "source": [
    "adata = pred_to_sc_adata(adata)"
   ]
  },
  {
   "cell_type": "code",
   "execution_count": null,
   "metadata": {},
   "outputs": [],
   "source": [
    "adata.to_df()"
   ]
  },
  {
   "cell_type": "code",
   "execution_count": null,
   "metadata": {},
   "outputs": [],
   "source": [
    "adata.uns[\"spatial\"][\"TCGA_svs\"][\"images\"][\"fulres\"].shape"
   ]
  },
  {
   "cell_type": "code",
   "execution_count": null,
   "metadata": {},
   "outputs": [],
   "source": [
    "ANNO_PATH"
   ]
  },
  {
   "cell_type": "code",
   "execution_count": null,
   "metadata": {},
   "outputs": [],
   "source": [
    "# Read annotation Json file and convert to geopandas dataframe\n",
    "with open(ANNO_PATH / (f\"{TCGA_ID}.geojson\")) as f:\n",
    "    anno = json.load(f)\n",
    "    gdf_anno = gpd.GeoDataFrame.from_features(anno[\"features\"])\n",
    "    # gdf_anno = pd.concat([gdf_anno.drop(['classification'], axis=1), gdf_anno['classification'].apply(pd.Series)], axis=1)"
   ]
  },
  {
   "cell_type": "code",
   "execution_count": null,
   "metadata": {},
   "outputs": [],
   "source": [
    "gdf_anno"
   ]
  },
  {
   "cell_type": "code",
   "execution_count": null,
   "metadata": {},
   "outputs": [],
   "source": [
    "# gdf_anno[\"name\"] = \"Tumour\"\n",
    "# adata.obsm[\"spatial_40x\"] = adata.obsm[\"spatial\"].copy()\n",
    "# adata.obsm[\"spatial_40x\"][:,0] = adata.obsm[\"spatial\"][:,0]\n",
    "# adata.obsm[\"spatial_40x\"][:,1] = adata.obsm[\"spatial\"][:,1]"
   ]
  },
  {
   "cell_type": "code",
   "execution_count": null,
   "metadata": {},
   "outputs": [],
   "source": [
    "adata.obsm[\"spatial_40x\"] = adata.obsm[\"spatial\"].copy()\n",
    "adata.obsm[\"spatial_40x\"][:,0] = adata.obsm[\"spatial\"][:,0]*2\n",
    "adata.obsm[\"spatial_40x\"][:,1] = adata.obsm[\"spatial\"][:,1]*2"
   ]
  },
  {
   "cell_type": "code",
   "execution_count": null,
   "metadata": {},
   "outputs": [],
   "source": [
    "# convert visium spot coordinates to geopandas point object\n",
    "pnts = gpd.GeoDataFrame(geometry=[Point(xy) for xy in zip(adata.obsm[\"spatial_40x\"][:,0], adata.obsm[\"spatial_40x\"][:,1])], index=adata.obs_names)"
   ]
  },
  {
   "cell_type": "code",
   "execution_count": null,
   "metadata": {},
   "outputs": [],
   "source": [
    "pnts"
   ]
  },
  {
   "cell_type": "code",
   "execution_count": null,
   "metadata": {},
   "outputs": [],
   "source": [
    "# assign annotation label for each spot if it falls in to annotation polygon\n",
    "pnts_join = sjoin(pnts,gdf_anno, how=\"left\")\n",
    "pnts_join = pnts_join[~pnts_join.index.duplicated(keep='first')]"
   ]
  },
  {
   "cell_type": "code",
   "execution_count": null,
   "metadata": {},
   "outputs": [],
   "source": [
    "pnts_join"
   ]
  },
  {
   "cell_type": "code",
   "execution_count": null,
   "metadata": {},
   "outputs": [],
   "source": [
    "# add the annotation to visium anndata object\n",
    "adata_anno = adata[pnts_join.index].copy()\n",
    "adata_anno.obs[\"annotation\"] = pnts_join[\"name\"]\n",
    "adata_anno.obs[\"annotation\"].fillna(\"Others\", inplace=True)\n",
    "adata_anno.obs[\"annotation\"] = pd.Categorical(adata_anno.obs[\"annotation\"])"
   ]
  },
  {
   "cell_type": "code",
   "execution_count": null,
   "metadata": {},
   "outputs": [],
   "source": [
    "gdf_anno_20x = gdf_anno.scale(xfact=0.5, yfact=0.5, origin=(0,0))\n",
    "# gdf_anno_20x = gdf_anno"
   ]
  },
  {
   "cell_type": "code",
   "execution_count": null,
   "metadata": {},
   "outputs": [],
   "source": [
    "# fig, ax = plt.subplots()\n",
    "# gdf_anno_20x.plot(ax=ax)\n",
    "# plt.imshow(adata.uns[\"spatial\"][\"TCGA_svs\"][\"images\"][\"fulres\"])\n",
    "# fig.savefig(OUT_PATH / f\"{TCGA_ID}_annotation.pdf\")"
   ]
  },
  {
   "cell_type": "code",
   "execution_count": null,
   "metadata": {},
   "outputs": [],
   "source": [
    "OUT_PATH"
   ]
  },
  {
   "cell_type": "code",
   "execution_count": null,
   "metadata": {},
   "outputs": [],
   "source": [
    "# st.pl.cluster_plot(adata_anno, use_label=\"annotation\",fname=str(OUT_PATH / f\"{TCGA_ID}_annotation_tile.pdf\"),dpi=300)"
   ]
  },
  {
   "cell_type": "code",
   "execution_count": null,
   "metadata": {},
   "outputs": [],
   "source": [
    "adata = adata_anno.copy()"
   ]
  },
  {
   "cell_type": "code",
   "execution_count": null,
   "metadata": {},
   "outputs": [],
   "source": [
    "sc.pp.pca(adata)\n",
    "sc.pp.neighbors(adata)\n",
    "sc.tl.umap(adata)\n"
   ]
  },
  {
   "cell_type": "code",
   "execution_count": null,
   "metadata": {},
   "outputs": [],
   "source": [
    "sc.tl.louvain(adata, resolution=0.3, key_added=\"clusters\")"
   ]
  },
  {
   "cell_type": "code",
   "execution_count": null,
   "metadata": {},
   "outputs": [],
   "source": [
    "# st.pl.cluster_plot(adata, use_label=\"clusters\",fname=str(OUT_PATH / f\"{TCGA_ID}_annotation_cluster.pdf\"),dpi=300)"
   ]
  },
  {
   "cell_type": "code",
   "execution_count": null,
   "metadata": {},
   "outputs": [],
   "source": [
    "adata.obs[\"annotation\"].unique()"
   ]
  },
  {
   "cell_type": "code",
   "execution_count": null,
   "metadata": {},
   "outputs": [],
   "source": [
    "adata.obs[\"clusters_\"] = adata.obs[\"clusters\"].isin([\"0\", \"1\",\"3\"])\n",
    "adata.obs[\"annotation_\"] = adata.obs[\"annotation\"].isin(['In-situ', 'Invasive'])"
   ]
  },
  {
   "cell_type": "code",
   "execution_count": null,
   "metadata": {},
   "outputs": [],
   "source": [
    "# Create a contingency table\n",
    "contingency_table = pd.crosstab(adata.obs[\"clusters_\"] , adata.obs[\"annotation_\"]).values"
   ]
  },
  {
   "cell_type": "code",
   "execution_count": null,
   "metadata": {},
   "outputs": [],
   "source": [
    "pd.crosstab(adata.obs[\"clusters_\"] , adata.obs[\"annotation_\"])"
   ]
  },
  {
   "cell_type": "code",
   "execution_count": null,
   "metadata": {},
   "outputs": [],
   "source": [
    "odds_ratio, p_value = stats.fisher_exact(contingency_table)\n",
    "print('Odds ratio:', odds_ratio)\n",
    "print('P-value:', p_value)"
   ]
  },
  {
   "cell_type": "code",
   "execution_count": null,
   "metadata": {},
   "outputs": [],
   "source": [
    "sc.tl.rank_genes_groups(adata, groupby='clusters', method='t-test_overestim_var')"
   ]
  },
  {
   "cell_type": "code",
   "execution_count": null,
   "metadata": {},
   "outputs": [],
   "source": [
    "result = sc.get.rank_genes_groups_df(adata, group='0')\n",
    "result_sorted = result.sort_values(by='logfoldchanges', ascending=False)"
   ]
  },
  {
   "cell_type": "code",
   "execution_count": null,
   "metadata": {},
   "outputs": [],
   "source": [
    "result_sorted.to_csv(OUT_PATH / f\"{TCGA_ID}_annotation_cluster_DEG.csv\")"
   ]
  },
  {
   "cell_type": "code",
   "execution_count": null,
   "metadata": {},
   "outputs": [],
   "source": [
    "result_sorted.iloc[0:20,:]"
   ]
  },
  {
   "cell_type": "code",
   "execution_count": null,
   "metadata": {},
   "outputs": [],
   "source": [
    "result_sorted.query('names == \"ESR1\"')"
   ]
  },
  {
   "cell_type": "code",
   "execution_count": null,
   "metadata": {},
   "outputs": [],
   "source": [
    "# st.pl.gene_plot(adata, gene_symbols=\"ESR1\",size=3, cell_alpha=1, fname=str(OUT_PATH / f\"{TCGA_ID}_ESR1.pdf\"),dpi=300)"
   ]
  },
  {
   "cell_type": "code",
   "execution_count": null,
   "metadata": {},
   "outputs": [],
   "source": [
    "result_sorted.query('names == \"GATA3\"')"
   ]
  },
  {
   "cell_type": "code",
   "execution_count": null,
   "metadata": {},
   "outputs": [],
   "source": [
    "# st.pl.gene_plot(adata, gene_symbols=\"GATA3\",size=3, cell_alpha=1, fname=str(OUT_PATH / f\"{TCGA_ID}_GATA3.pdf\"),dpi=300)"
   ]
  },
  {
   "cell_type": "code",
   "execution_count": null,
   "metadata": {},
   "outputs": [],
   "source": []
  },
  {
   "cell_type": "code",
   "execution_count": null,
   "metadata": {},
   "outputs": [],
   "source": []
  },
  {
   "cell_type": "code",
   "execution_count": null,
   "metadata": {},
   "outputs": [],
   "source": []
  },
  {
   "cell_type": "code",
   "execution_count": null,
   "metadata": {},
   "outputs": [],
   "source": [
    "# st.pl.gene_plot(adata, gene_symbols=\"VEGFA\",size=3, cell_alpha=1, fname=str(OUT_PATH / f\"{TCGA_ID}_VEGFA.pdf\"),dpi=300)"
   ]
  },
  {
   "cell_type": "code",
   "execution_count": null,
   "metadata": {},
   "outputs": [],
   "source": [
    "# st.pl.gene_plot(adata, gene_symbols=\"MPPED1\",size=3, cell_alpha=1, fname=str(OUT_PATH / f\"{TCGA_ID}_MPPED1.pdf\"),dpi=300)"
   ]
  },
  {
   "cell_type": "code",
   "execution_count": null,
   "metadata": {},
   "outputs": [],
   "source": [
    "OUT_PATH"
   ]
  },
  {
   "cell_type": "code",
   "execution_count": null,
   "metadata": {},
   "outputs": [],
   "source": []
  }
 ],
 "metadata": {
  "kernelspec": {
   "display_name": "stimage_test",
   "language": "python",
   "name": "python3"
  },
  "language_info": {
   "codemirror_mode": {
    "name": "ipython",
    "version": 3
   },
   "file_extension": ".py",
   "mimetype": "text/x-python",
   "name": "python",
   "nbconvert_exporter": "python",
   "pygments_lexer": "ipython3",
   "version": "3.8.6"
  }
 },
 "nbformat": 4,
 "nbformat_minor": 2
}
