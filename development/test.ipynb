{
 "cells": [
  {
   "cell_type": "code",
   "execution_count": 1,
   "id": "afraid-contractor",
   "metadata": {},
   "outputs": [],
   "source": [
    "import sys\n",
    "import stlearn as st\n",
    "st.settings.set_figure_params(dpi=300)\n",
    "from pathlib import Path\n",
    "import pandas as pd\n",
    "import matplotlib.pyplot as plt\n",
    "import matplotlib\n",
    "import sys\n",
    "file = Path(\"../stimage\").resolve()\n",
    "parent= file.parent\n",
    "sys.path.append(str(parent))\n",
    "from PIL import Image\n",
    "from stimage._utils import gene_plot, Read10X, ReadOldST, tiling, ensembl_to_id\n",
    "from stimage._model import CNN_NB_trainable, CNN_NB_multiple_genes, PrinterCallback\n",
    "from stimage._data_generator import DataGenerator\n",
    "import tensorflow as tf\n",
    "import seaborn as sns\n",
    "import matplotlib.pyplot as plt\n",
    "from scipy import stats\n",
    "import numpy as np\n",
    "from anndata import AnnData, read_h5ad\n",
    "import configparser\n",
    "import argparse\n",
    "import pickle"
   ]
  },
  {
   "cell_type": "code",
   "execution_count": 2,
   "id": "external-battle",
   "metadata": {},
   "outputs": [],
   "source": [
    "DATA_PATH=Path(\"/scratch/imb/Xiao/STimage/dataset/her2st\")"
   ]
  },
  {
   "cell_type": "code",
   "execution_count": 13,
   "id": "tamil-improvement",
   "metadata": {},
   "outputs": [],
   "source": [
    "adata_all = read_h5ad(DATA_PATH / \"all_adata.h5ad\")"
   ]
  },
  {
   "cell_type": "code",
   "execution_count": 14,
   "id": "racial-textbook",
   "metadata": {},
   "outputs": [
    {
     "data": {
      "text/plain": [
       "'/clusterdata/uqxtan9/Xiao/STimage/dataset/her2st/tile/C2-2537.89-6112.46-299.jpeg'"
      ]
     },
     "execution_count": 14,
     "metadata": {},
     "output_type": "execute_result"
    }
   ],
   "source": [
    "adata_all.obs[\"tile_path\"][0]"
   ]
  },
  {
   "cell_type": "code",
   "execution_count": 15,
   "id": "nearby-shoulder",
   "metadata": {},
   "outputs": [],
   "source": [
    "adata_all.obs[\"tile_path\"] = adata_all.obs[\"tile_path\"].str.replace(\"/clusterdata/uqxtan9/Xiao/STimage/dataset\",\n",
    "                                   \"/scratch/imb/Xiao/STimage/dataset\")"
   ]
  },
  {
   "cell_type": "code",
   "execution_count": 16,
   "id": "enhanced-worcester",
   "metadata": {},
   "outputs": [
    {
     "data": {
      "text/plain": [
       "'/scratch/imb/Xiao/STimage/dataset/her2st/tile/C2-2537.89-6112.46-299.jpeg'"
      ]
     },
     "execution_count": 16,
     "metadata": {},
     "output_type": "execute_result"
    }
   ],
   "source": [
    "adata_all.obs[\"tile_path\"][0]"
   ]
  },
  {
   "cell_type": "code",
   "execution_count": 17,
   "id": "checked-thanksgiving",
   "metadata": {},
   "outputs": [],
   "source": [
    "adata_all.write_h5ad(DATA_PATH / \"all_adata.h5ad\")"
   ]
  },
  {
   "cell_type": "code",
   "execution_count": null,
   "id": "specialized-broadway",
   "metadata": {},
   "outputs": [],
   "source": []
  },
  {
   "cell_type": "code",
   "execution_count": null,
   "id": "canadian-cinema",
   "metadata": {},
   "outputs": [],
   "source": []
  },
  {
   "cell_type": "code",
   "execution_count": null,
   "id": "basic-studio",
   "metadata": {},
   "outputs": [],
   "source": []
  },
  {
   "cell_type": "code",
   "execution_count": null,
   "id": "convinced-screen",
   "metadata": {},
   "outputs": [],
   "source": []
  },
  {
   "cell_type": "code",
   "execution_count": 4,
   "id": "trained-intention",
   "metadata": {},
   "outputs": [],
   "source": [
    "BASE_PATH=Path(\"/clusterdata/uqxtan9/Xiao/STimage/\"\n",
    "                \"dataset/breast_cancer_oldST_STNet\")\n",
    "TILING_PATH= BASE_PATH / \"tiles\"\n",
    "TILING_PATH.mkdir(parents=True, exist_ok=True)"
   ]
  },
  {
   "cell_type": "code",
   "execution_count": 3,
   "id": "furnished-production",
   "metadata": {},
   "outputs": [],
   "source": [
    "meta = pd.read_csv(BASE_PATH / \"metadata.csv\")"
   ]
  },
  {
   "cell_type": "code",
   "execution_count": 8,
   "id": "owned-globe",
   "metadata": {
    "scrolled": true
   },
   "outputs": [
    {
     "name": "stderr",
     "output_type": "stream",
     "text": [
      "Trying to set attribute `.obs` of view, copying.\n",
      "Tiling image:   0%|           [ time left: ? ]"
     ]
    },
    {
     "name": "stdout",
     "output_type": "stream",
     "text": [
      "Added tissue image to the object!\n",
      "Log transformation step is finished in adata.X\n"
     ]
    },
    {
     "name": "stderr",
     "output_type": "stream",
     "text": [
      "Tiling image: 100%|██████████ [ time left: 00:00 ]\n",
      "Trying to set attribute `.obs` of view, copying.\n",
      "Tiling image:   0%|           [ time left: ? ]"
     ]
    },
    {
     "name": "stdout",
     "output_type": "stream",
     "text": [
      "Added tissue image to the object!\n",
      "Log transformation step is finished in adata.X\n"
     ]
    },
    {
     "name": "stderr",
     "output_type": "stream",
     "text": [
      "Tiling image: 100%|██████████ [ time left: 00:00 ]\n",
      "Trying to set attribute `.obs` of view, copying.\n",
      "Tiling image:   0%|           [ time left: ? ]"
     ]
    },
    {
     "name": "stdout",
     "output_type": "stream",
     "text": [
      "Added tissue image to the object!\n",
      "Log transformation step is finished in adata.X\n"
     ]
    },
    {
     "name": "stderr",
     "output_type": "stream",
     "text": [
      "Tiling image: 100%|██████████ [ time left: 00:00 ]\n",
      "Trying to set attribute `.obs` of view, copying.\n",
      "Tiling image:   0%|           [ time left: ? ]"
     ]
    },
    {
     "name": "stdout",
     "output_type": "stream",
     "text": [
      "Added tissue image to the object!\n",
      "Log transformation step is finished in adata.X\n"
     ]
    },
    {
     "name": "stderr",
     "output_type": "stream",
     "text": [
      "Tiling image: 100%|██████████ [ time left: 00:00 ]\n",
      "Trying to set attribute `.obs` of view, copying.\n",
      "Tiling image:   0%|           [ time left: ? ]"
     ]
    },
    {
     "name": "stdout",
     "output_type": "stream",
     "text": [
      "Added tissue image to the object!\n",
      "Log transformation step is finished in adata.X\n"
     ]
    },
    {
     "name": "stderr",
     "output_type": "stream",
     "text": [
      "Tiling image: 100%|██████████ [ time left: 00:00 ]\n",
      "Trying to set attribute `.obs` of view, copying.\n",
      "Tiling image:   0%|           [ time left: ? ]"
     ]
    },
    {
     "name": "stdout",
     "output_type": "stream",
     "text": [
      "Added tissue image to the object!\n",
      "Log transformation step is finished in adata.X\n"
     ]
    },
    {
     "name": "stderr",
     "output_type": "stream",
     "text": [
      "Tiling image: 100%|██████████ [ time left: 00:00 ]\n",
      "Trying to set attribute `.obs` of view, copying.\n",
      "Tiling image:   0%|           [ time left: ? ]"
     ]
    },
    {
     "name": "stdout",
     "output_type": "stream",
     "text": [
      "Added tissue image to the object!\n",
      "Log transformation step is finished in adata.X\n"
     ]
    },
    {
     "name": "stderr",
     "output_type": "stream",
     "text": [
      "Tiling image: 100%|██████████ [ time left: 00:00 ]\n",
      "Trying to set attribute `.obs` of view, copying.\n",
      "Tiling image:   0%|           [ time left: ? ]"
     ]
    },
    {
     "name": "stdout",
     "output_type": "stream",
     "text": [
      "Added tissue image to the object!\n",
      "Log transformation step is finished in adata.X\n"
     ]
    },
    {
     "name": "stderr",
     "output_type": "stream",
     "text": [
      "Tiling image: 100%|██████████ [ time left: 00:00 ]\n",
      "Trying to set attribute `.obs` of view, copying.\n"
     ]
    },
    {
     "name": "stdout",
     "output_type": "stream",
     "text": [
      "Added tissue image to the object!\n",
      "Log transformation step is finished in adata.X\n"
     ]
    },
    {
     "name": "stderr",
     "output_type": "stream",
     "text": [
      "Tiling image: 100%|██████████ [ time left: 00:00 ]\n",
      "Trying to set attribute `.obs` of view, copying.\n"
     ]
    },
    {
     "name": "stdout",
     "output_type": "stream",
     "text": [
      "Added tissue image to the object!\n",
      "Log transformation step is finished in adata.X\n"
     ]
    },
    {
     "name": "stderr",
     "output_type": "stream",
     "text": [
      "Tiling image: 100%|██████████ [ time left: 00:00 ]\n",
      "Trying to set attribute `.obs` of view, copying.\n"
     ]
    },
    {
     "name": "stdout",
     "output_type": "stream",
     "text": [
      "Added tissue image to the object!\n",
      "Log transformation step is finished in adata.X\n"
     ]
    },
    {
     "name": "stderr",
     "output_type": "stream",
     "text": [
      "Tiling image: 100%|██████████ [ time left: 00:00 ]\n",
      "Trying to set attribute `.obs` of view, copying.\n",
      "Tiling image:   0%|           [ time left: ? ]"
     ]
    },
    {
     "name": "stdout",
     "output_type": "stream",
     "text": [
      "Added tissue image to the object!\n",
      "Log transformation step is finished in adata.X\n"
     ]
    },
    {
     "name": "stderr",
     "output_type": "stream",
     "text": [
      "Tiling image: 100%|██████████ [ time left: 00:00 ]\n",
      "Trying to set attribute `.obs` of view, copying.\n",
      "Tiling image:   0%|           [ time left: ? ]"
     ]
    },
    {
     "name": "stdout",
     "output_type": "stream",
     "text": [
      "Added tissue image to the object!\n",
      "Log transformation step is finished in adata.X\n"
     ]
    },
    {
     "name": "stderr",
     "output_type": "stream",
     "text": [
      "Tiling image: 100%|██████████ [ time left: 00:00 ]\n",
      "Trying to set attribute `.obs` of view, copying.\n"
     ]
    },
    {
     "name": "stdout",
     "output_type": "stream",
     "text": [
      "Added tissue image to the object!\n",
      "Log transformation step is finished in adata.X\n"
     ]
    },
    {
     "name": "stderr",
     "output_type": "stream",
     "text": [
      "Tiling image: 100%|██████████ [ time left: 00:00 ]\n",
      "Trying to set attribute `.obs` of view, copying.\n"
     ]
    },
    {
     "name": "stdout",
     "output_type": "stream",
     "text": [
      "Added tissue image to the object!\n",
      "Log transformation step is finished in adata.X\n"
     ]
    },
    {
     "name": "stderr",
     "output_type": "stream",
     "text": [
      "Tiling image: 100%|██████████ [ time left: 00:00 ]\n",
      "Trying to set attribute `.obs` of view, copying.\n"
     ]
    },
    {
     "name": "stdout",
     "output_type": "stream",
     "text": [
      "Added tissue image to the object!\n",
      "Log transformation step is finished in adata.X\n"
     ]
    },
    {
     "name": "stderr",
     "output_type": "stream",
     "text": [
      "Tiling image: 100%|██████████ [ time left: 00:00 ]\n",
      "Trying to set attribute `.obs` of view, copying.\n"
     ]
    },
    {
     "name": "stdout",
     "output_type": "stream",
     "text": [
      "Added tissue image to the object!\n",
      "Log transformation step is finished in adata.X\n"
     ]
    },
    {
     "name": "stderr",
     "output_type": "stream",
     "text": [
      "Tiling image: 100%|██████████ [ time left: 00:00 ]\n",
      "Trying to set attribute `.obs` of view, copying.\n"
     ]
    },
    {
     "name": "stdout",
     "output_type": "stream",
     "text": [
      "Added tissue image to the object!\n",
      "Log transformation step is finished in adata.X\n"
     ]
    },
    {
     "name": "stderr",
     "output_type": "stream",
     "text": [
      "Tiling image: 100%|██████████ [ time left: 00:00 ]\n",
      "Trying to set attribute `.obs` of view, copying.\n",
      "Tiling image:   0%|           [ time left: ? ]"
     ]
    },
    {
     "name": "stdout",
     "output_type": "stream",
     "text": [
      "Added tissue image to the object!\n",
      "Log transformation step is finished in adata.X\n"
     ]
    },
    {
     "name": "stderr",
     "output_type": "stream",
     "text": [
      "Tiling image: 100%|██████████ [ time left: 00:00 ]\n",
      "Trying to set attribute `.obs` of view, copying.\n",
      "Tiling image:   0%|           [ time left: ? ]"
     ]
    },
    {
     "name": "stdout",
     "output_type": "stream",
     "text": [
      "Added tissue image to the object!\n",
      "Log transformation step is finished in adata.X\n"
     ]
    },
    {
     "name": "stderr",
     "output_type": "stream",
     "text": [
      "Tiling image: 100%|██████████ [ time left: 00:00 ]\n",
      "Trying to set attribute `.obs` of view, copying.\n",
      "Tiling image:   0%|           [ time left: ? ]"
     ]
    },
    {
     "name": "stdout",
     "output_type": "stream",
     "text": [
      "Added tissue image to the object!\n",
      "Log transformation step is finished in adata.X\n"
     ]
    },
    {
     "name": "stderr",
     "output_type": "stream",
     "text": [
      "Tiling image: 100%|██████████ [ time left: 00:00 ]\n",
      "Trying to set attribute `.obs` of view, copying.\n",
      "Tiling image:   0%|           [ time left: ? ]"
     ]
    },
    {
     "name": "stdout",
     "output_type": "stream",
     "text": [
      "Added tissue image to the object!\n",
      "Log transformation step is finished in adata.X\n"
     ]
    },
    {
     "name": "stderr",
     "output_type": "stream",
     "text": [
      "Tiling image: 100%|██████████ [ time left: 00:00 ]\n",
      "Trying to set attribute `.obs` of view, copying.\n",
      "Tiling image:   0%|           [ time left: ? ]"
     ]
    },
    {
     "name": "stdout",
     "output_type": "stream",
     "text": [
      "Added tissue image to the object!\n",
      "Log transformation step is finished in adata.X\n"
     ]
    },
    {
     "name": "stderr",
     "output_type": "stream",
     "text": [
      "Tiling image: 100%|██████████ [ time left: 00:00 ]\n",
      "Trying to set attribute `.obs` of view, copying.\n",
      "Tiling image:   0%|           [ time left: ? ]"
     ]
    },
    {
     "name": "stdout",
     "output_type": "stream",
     "text": [
      "Added tissue image to the object!\n",
      "Log transformation step is finished in adata.X\n"
     ]
    },
    {
     "name": "stderr",
     "output_type": "stream",
     "text": [
      "Tiling image: 100%|██████████ [ time left: 00:00 ]\n",
      "Trying to set attribute `.obs` of view, copying.\n",
      "Tiling image:   0%|           [ time left: ? ]"
     ]
    },
    {
     "name": "stdout",
     "output_type": "stream",
     "text": [
      "Added tissue image to the object!\n",
      "Log transformation step is finished in adata.X\n"
     ]
    },
    {
     "name": "stderr",
     "output_type": "stream",
     "text": [
      "Tiling image: 100%|██████████ [ time left: 00:00 ]\n",
      "Trying to set attribute `.obs` of view, copying.\n",
      "Tiling image:   0%|           [ time left: ? ]"
     ]
    },
    {
     "name": "stdout",
     "output_type": "stream",
     "text": [
      "Added tissue image to the object!\n",
      "Log transformation step is finished in adata.X\n"
     ]
    },
    {
     "name": "stderr",
     "output_type": "stream",
     "text": [
      "Tiling image: 100%|██████████ [ time left: 00:00 ]\n",
      "Trying to set attribute `.obs` of view, copying.\n",
      "Tiling image:   0%|           [ time left: ? ]"
     ]
    },
    {
     "name": "stdout",
     "output_type": "stream",
     "text": [
      "Added tissue image to the object!\n",
      "Log transformation step is finished in adata.X\n"
     ]
    },
    {
     "name": "stderr",
     "output_type": "stream",
     "text": [
      "Tiling image: 100%|██████████ [ time left: 00:00 ]\n",
      "Trying to set attribute `.obs` of view, copying.\n",
      "Tiling image:   0%|           [ time left: ? ]"
     ]
    },
    {
     "name": "stdout",
     "output_type": "stream",
     "text": [
      "Added tissue image to the object!\n",
      "Log transformation step is finished in adata.X\n"
     ]
    },
    {
     "name": "stderr",
     "output_type": "stream",
     "text": [
      "Tiling image: 100%|██████████ [ time left: 00:00 ]\n",
      "Trying to set attribute `.obs` of view, copying.\n",
      "Tiling image:   0%|           [ time left: ? ]"
     ]
    },
    {
     "name": "stdout",
     "output_type": "stream",
     "text": [
      "Added tissue image to the object!\n",
      "Log transformation step is finished in adata.X\n"
     ]
    },
    {
     "name": "stderr",
     "output_type": "stream",
     "text": [
      "Tiling image: 100%|██████████ [ time left: 00:00 ]\n",
      "Trying to set attribute `.obs` of view, copying.\n",
      "Tiling image:   0%|           [ time left: ? ]"
     ]
    },
    {
     "name": "stdout",
     "output_type": "stream",
     "text": [
      "Added tissue image to the object!\n",
      "Log transformation step is finished in adata.X\n"
     ]
    },
    {
     "name": "stderr",
     "output_type": "stream",
     "text": [
      "Tiling image: 100%|██████████ [ time left: 00:00 ]\n",
      "Trying to set attribute `.obs` of view, copying.\n",
      "Tiling image:   0%|           [ time left: ? ]"
     ]
    },
    {
     "name": "stdout",
     "output_type": "stream",
     "text": [
      "Added tissue image to the object!\n",
      "Log transformation step is finished in adata.X\n"
     ]
    },
    {
     "name": "stderr",
     "output_type": "stream",
     "text": [
      "Tiling image: 100%|██████████ [ time left: 00:00 ]\n",
      "Trying to set attribute `.obs` of view, copying.\n",
      "Tiling image:   0%|           [ time left: ? ]"
     ]
    },
    {
     "name": "stdout",
     "output_type": "stream",
     "text": [
      "Added tissue image to the object!\n",
      "Log transformation step is finished in adata.X\n"
     ]
    },
    {
     "name": "stderr",
     "output_type": "stream",
     "text": [
      "Tiling image: 100%|██████████ [ time left: 00:00 ]\n",
      "Trying to set attribute `.obs` of view, copying.\n",
      "Tiling image:   0%|           [ time left: ? ]"
     ]
    },
    {
     "name": "stdout",
     "output_type": "stream",
     "text": [
      "Added tissue image to the object!\n",
      "Log transformation step is finished in adata.X\n"
     ]
    },
    {
     "name": "stderr",
     "output_type": "stream",
     "text": [
      "Tiling image: 100%|██████████ [ time left: 00:00 ]\n",
      "Trying to set attribute `.obs` of view, copying.\n",
      "Tiling image:   0%|           [ time left: ? ]"
     ]
    },
    {
     "name": "stdout",
     "output_type": "stream",
     "text": [
      "Added tissue image to the object!\n",
      "Log transformation step is finished in adata.X\n"
     ]
    },
    {
     "name": "stderr",
     "output_type": "stream",
     "text": [
      "Tiling image: 100%|██████████ [ time left: 00:00 ]\n",
      "Trying to set attribute `.obs` of view, copying.\n",
      "Tiling image:   0%|           [ time left: ? ]"
     ]
    },
    {
     "name": "stdout",
     "output_type": "stream",
     "text": [
      "Added tissue image to the object!\n",
      "Log transformation step is finished in adata.X\n"
     ]
    },
    {
     "name": "stderr",
     "output_type": "stream",
     "text": [
      "Tiling image: 100%|██████████ [ time left: 00:00 ]\n",
      "Trying to set attribute `.obs` of view, copying.\n",
      "Tiling image:   0%|           [ time left: ? ]"
     ]
    },
    {
     "name": "stdout",
     "output_type": "stream",
     "text": [
      "Added tissue image to the object!\n",
      "Log transformation step is finished in adata.X\n"
     ]
    },
    {
     "name": "stderr",
     "output_type": "stream",
     "text": [
      "Tiling image: 100%|██████████ [ time left: 00:00 ]\n",
      "Trying to set attribute `.obs` of view, copying.\n"
     ]
    },
    {
     "name": "stdout",
     "output_type": "stream",
     "text": [
      "Added tissue image to the object!\n",
      "Log transformation step is finished in adata.X\n"
     ]
    },
    {
     "name": "stderr",
     "output_type": "stream",
     "text": [
      "Tiling image: 100%|██████████ [ time left: 00:00 ]\n",
      "Trying to set attribute `.obs` of view, copying.\n",
      "Tiling image:   0%|           [ time left: ? ]"
     ]
    },
    {
     "name": "stdout",
     "output_type": "stream",
     "text": [
      "Added tissue image to the object!\n",
      "Log transformation step is finished in adata.X\n"
     ]
    },
    {
     "name": "stderr",
     "output_type": "stream",
     "text": [
      "Tiling image: 100%|██████████ [ time left: 00:00 ]\n",
      "Trying to set attribute `.obs` of view, copying.\n",
      "Tiling image:   0%|           [ time left: ? ]"
     ]
    },
    {
     "name": "stdout",
     "output_type": "stream",
     "text": [
      "Added tissue image to the object!\n",
      "Log transformation step is finished in adata.X\n"
     ]
    },
    {
     "name": "stderr",
     "output_type": "stream",
     "text": [
      "Tiling image: 100%|██████████ [ time left: 00:00 ]\n",
      "Trying to set attribute `.obs` of view, copying.\n",
      "Tiling image:   0%|           [ time left: ? ]"
     ]
    },
    {
     "name": "stdout",
     "output_type": "stream",
     "text": [
      "Added tissue image to the object!\n",
      "Log transformation step is finished in adata.X\n"
     ]
    },
    {
     "name": "stderr",
     "output_type": "stream",
     "text": [
      "Tiling image: 100%|██████████ [ time left: 00:00 ]\n",
      "Trying to set attribute `.obs` of view, copying.\n",
      "Tiling image:   0%|           [ time left: ? ]"
     ]
    },
    {
     "name": "stdout",
     "output_type": "stream",
     "text": [
      "Added tissue image to the object!\n",
      "Log transformation step is finished in adata.X\n"
     ]
    },
    {
     "name": "stderr",
     "output_type": "stream",
     "text": [
      "Tiling image: 100%|██████████ [ time left: 00:00 ]\n",
      "Trying to set attribute `.obs` of view, copying.\n",
      "Tiling image:   0%|           [ time left: ? ]"
     ]
    },
    {
     "name": "stdout",
     "output_type": "stream",
     "text": [
      "Added tissue image to the object!\n",
      "Log transformation step is finished in adata.X\n"
     ]
    },
    {
     "name": "stderr",
     "output_type": "stream",
     "text": [
      "Tiling image: 100%|██████████ [ time left: 00:00 ]\n",
      "Trying to set attribute `.obs` of view, copying.\n",
      "Tiling image:   0%|           [ time left: ? ]"
     ]
    },
    {
     "name": "stdout",
     "output_type": "stream",
     "text": [
      "Added tissue image to the object!\n",
      "Log transformation step is finished in adata.X\n"
     ]
    },
    {
     "name": "stderr",
     "output_type": "stream",
     "text": [
      "Tiling image: 100%|██████████ [ time left: 00:00 ]\n",
      "Trying to set attribute `.obs` of view, copying.\n",
      "Tiling image:   0%|           [ time left: ? ]"
     ]
    },
    {
     "name": "stdout",
     "output_type": "stream",
     "text": [
      "Added tissue image to the object!\n",
      "Log transformation step is finished in adata.X\n"
     ]
    },
    {
     "name": "stderr",
     "output_type": "stream",
     "text": [
      "Tiling image: 100%|██████████ [ time left: 00:00 ]\n",
      "Trying to set attribute `.obs` of view, copying.\n"
     ]
    },
    {
     "name": "stdout",
     "output_type": "stream",
     "text": [
      "Added tissue image to the object!\n",
      "Log transformation step is finished in adata.X\n"
     ]
    },
    {
     "name": "stderr",
     "output_type": "stream",
     "text": [
      "Tiling image: 100%|██████████ [ time left: 00:00 ]\n",
      "Trying to set attribute `.obs` of view, copying.\n"
     ]
    },
    {
     "name": "stdout",
     "output_type": "stream",
     "text": [
      "Added tissue image to the object!\n",
      "Log transformation step is finished in adata.X\n"
     ]
    },
    {
     "name": "stderr",
     "output_type": "stream",
     "text": [
      "Tiling image: 100%|██████████ [ time left: 00:00 ]\n",
      "Trying to set attribute `.obs` of view, copying.\n"
     ]
    },
    {
     "name": "stdout",
     "output_type": "stream",
     "text": [
      "Added tissue image to the object!\n",
      "Log transformation step is finished in adata.X\n"
     ]
    },
    {
     "name": "stderr",
     "output_type": "stream",
     "text": [
      "Tiling image: 100%|██████████ [ time left: 00:00 ]\n",
      "Trying to set attribute `.obs` of view, copying.\n"
     ]
    },
    {
     "name": "stdout",
     "output_type": "stream",
     "text": [
      "Added tissue image to the object!\n",
      "Log transformation step is finished in adata.X\n"
     ]
    },
    {
     "name": "stderr",
     "output_type": "stream",
     "text": [
      "Tiling image: 100%|██████████ [ time left: 00:00 ]\n",
      "Trying to set attribute `.obs` of view, copying.\n"
     ]
    },
    {
     "name": "stdout",
     "output_type": "stream",
     "text": [
      "Added tissue image to the object!\n",
      "Log transformation step is finished in adata.X\n"
     ]
    },
    {
     "name": "stderr",
     "output_type": "stream",
     "text": [
      "Tiling image: 100%|██████████ [ time left: 00:00 ]\n",
      "Trying to set attribute `.obs` of view, copying.\n"
     ]
    },
    {
     "name": "stdout",
     "output_type": "stream",
     "text": [
      "Added tissue image to the object!\n",
      "Log transformation step is finished in adata.X\n"
     ]
    },
    {
     "name": "stderr",
     "output_type": "stream",
     "text": [
      "Tiling image: 100%|██████████ [ time left: 00:00 ]\n",
      "Trying to set attribute `.obs` of view, copying.\n"
     ]
    },
    {
     "name": "stdout",
     "output_type": "stream",
     "text": [
      "Added tissue image to the object!\n",
      "Log transformation step is finished in adata.X\n"
     ]
    },
    {
     "name": "stderr",
     "output_type": "stream",
     "text": [
      "Tiling image: 100%|██████████ [ time left: 00:00 ]\n",
      "Trying to set attribute `.obs` of view, copying.\n"
     ]
    },
    {
     "name": "stdout",
     "output_type": "stream",
     "text": [
      "Added tissue image to the object!\n",
      "Log transformation step is finished in adata.X\n"
     ]
    },
    {
     "name": "stderr",
     "output_type": "stream",
     "text": [
      "Tiling image: 100%|██████████ [ time left: 00:00 ]\n",
      "Trying to set attribute `.obs` of view, copying.\n"
     ]
    },
    {
     "name": "stdout",
     "output_type": "stream",
     "text": [
      "Added tissue image to the object!\n",
      "Log transformation step is finished in adata.X\n"
     ]
    },
    {
     "name": "stderr",
     "output_type": "stream",
     "text": [
      "Tiling image: 100%|██████████ [ time left: 00:00 ]\n",
      "Trying to set attribute `.obs` of view, copying.\n"
     ]
    },
    {
     "name": "stdout",
     "output_type": "stream",
     "text": [
      "Added tissue image to the object!\n",
      "Log transformation step is finished in adata.X\n"
     ]
    },
    {
     "name": "stderr",
     "output_type": "stream",
     "text": [
      "Tiling image: 100%|██████████ [ time left: 00:00 ]\n",
      "Trying to set attribute `.obs` of view, copying.\n"
     ]
    },
    {
     "name": "stdout",
     "output_type": "stream",
     "text": [
      "Added tissue image to the object!\n",
      "Log transformation step is finished in adata.X\n"
     ]
    },
    {
     "name": "stderr",
     "output_type": "stream",
     "text": [
      "Tiling image: 100%|██████████ [ time left: 00:00 ]\n",
      "Trying to set attribute `.obs` of view, copying.\n"
     ]
    },
    {
     "name": "stdout",
     "output_type": "stream",
     "text": [
      "Added tissue image to the object!\n",
      "Log transformation step is finished in adata.X\n"
     ]
    },
    {
     "name": "stderr",
     "output_type": "stream",
     "text": [
      "Tiling image: 100%|██████████ [ time left: 00:00 ]\n",
      "Trying to set attribute `.obs` of view, copying.\n",
      "Tiling image:   0%|           [ time left: ? ]"
     ]
    },
    {
     "name": "stdout",
     "output_type": "stream",
     "text": [
      "Added tissue image to the object!\n",
      "Log transformation step is finished in adata.X\n"
     ]
    },
    {
     "name": "stderr",
     "output_type": "stream",
     "text": [
      "Tiling image: 100%|██████████ [ time left: 00:00 ]\n",
      "Trying to set attribute `.obs` of view, copying.\n",
      "Tiling image:   0%|           [ time left: ? ]"
     ]
    },
    {
     "name": "stdout",
     "output_type": "stream",
     "text": [
      "Added tissue image to the object!\n",
      "Log transformation step is finished in adata.X\n"
     ]
    },
    {
     "name": "stderr",
     "output_type": "stream",
     "text": [
      "Tiling image: 100%|██████████ [ time left: 00:00 ]\n",
      "Trying to set attribute `.obs` of view, copying.\n",
      "Tiling image:   0%|           [ time left: ? ]"
     ]
    },
    {
     "name": "stdout",
     "output_type": "stream",
     "text": [
      "Added tissue image to the object!\n",
      "Log transformation step is finished in adata.X\n"
     ]
    },
    {
     "name": "stderr",
     "output_type": "stream",
     "text": [
      "Tiling image: 100%|██████████ [ time left: 00:00 ]\n",
      "Trying to set attribute `.obs` of view, copying.\n"
     ]
    },
    {
     "name": "stdout",
     "output_type": "stream",
     "text": [
      "Added tissue image to the object!\n",
      "Log transformation step is finished in adata.X\n"
     ]
    },
    {
     "name": "stderr",
     "output_type": "stream",
     "text": [
      "Tiling image: 100%|██████████ [ time left: 00:00 ]\n",
      "Trying to set attribute `.obs` of view, copying.\n"
     ]
    },
    {
     "name": "stdout",
     "output_type": "stream",
     "text": [
      "Added tissue image to the object!\n",
      "Log transformation step is finished in adata.X\n"
     ]
    },
    {
     "name": "stderr",
     "output_type": "stream",
     "text": [
      "Tiling image: 100%|██████████ [ time left: 00:00 ]\n",
      "Trying to set attribute `.obs` of view, copying.\n"
     ]
    },
    {
     "name": "stdout",
     "output_type": "stream",
     "text": [
      "Added tissue image to the object!\n",
      "Log transformation step is finished in adata.X\n"
     ]
    },
    {
     "name": "stderr",
     "output_type": "stream",
     "text": [
      "Tiling image: 100%|██████████ [ time left: 00:00 ]\n",
      "Trying to set attribute `.obs` of view, copying.\n"
     ]
    },
    {
     "name": "stdout",
     "output_type": "stream",
     "text": [
      "Added tissue image to the object!\n",
      "Log transformation step is finished in adata.X\n"
     ]
    },
    {
     "name": "stderr",
     "output_type": "stream",
     "text": [
      "Tiling image: 100%|██████████ [ time left: 00:00 ]\n",
      "Trying to set attribute `.obs` of view, copying.\n"
     ]
    },
    {
     "name": "stdout",
     "output_type": "stream",
     "text": [
      "Added tissue image to the object!\n",
      "Log transformation step is finished in adata.X\n"
     ]
    },
    {
     "name": "stderr",
     "output_type": "stream",
     "text": [
      "Tiling image: 100%|██████████ [ time left: 00:00 ]\n",
      "Trying to set attribute `.obs` of view, copying.\n"
     ]
    },
    {
     "name": "stdout",
     "output_type": "stream",
     "text": [
      "Added tissue image to the object!\n",
      "Log transformation step is finished in adata.X\n"
     ]
    },
    {
     "name": "stderr",
     "output_type": "stream",
     "text": [
      "Tiling image: 100%|██████████ [ time left: 00:00 ]\n",
      "Trying to set attribute `.obs` of view, copying.\n"
     ]
    },
    {
     "name": "stdout",
     "output_type": "stream",
     "text": [
      "Added tissue image to the object!\n",
      "Log transformation step is finished in adata.X\n"
     ]
    },
    {
     "name": "stderr",
     "output_type": "stream",
     "text": [
      "Tiling image: 100%|██████████ [ time left: 00:00 ]\n",
      "Trying to set attribute `.obs` of view, copying.\n",
      "Tiling image:   0%|           [ time left: ? ]"
     ]
    },
    {
     "name": "stdout",
     "output_type": "stream",
     "text": [
      "Added tissue image to the object!\n",
      "Log transformation step is finished in adata.X\n"
     ]
    },
    {
     "name": "stderr",
     "output_type": "stream",
     "text": [
      "Tiling image: 100%|██████████ [ time left: 00:00 ]\n",
      "Trying to set attribute `.obs` of view, copying.\n"
     ]
    },
    {
     "name": "stdout",
     "output_type": "stream",
     "text": [
      "Added tissue image to the object!\n",
      "Log transformation step is finished in adata.X\n"
     ]
    },
    {
     "name": "stderr",
     "output_type": "stream",
     "text": [
      "Tiling image: 100%|██████████ [ time left: 00:00 ]\n"
     ]
    }
   ],
   "source": [
    "adata_list = []\n",
    "for index,row in meta.iterrows():\n",
    "    cm_path = BASE_PATH / \"stdata\" / row[\"count_matrix\"].split(\".gz\")[0]\n",
    "    spot_path = BASE_PATH / \"spotinfo\" / row[\"spot_coordinates\"].split(\".gz\")[0]\n",
    "    img_path = BASE_PATH / \"HEimage\" / row[\"histology_image\"]\n",
    "    Sample = row[\"patient\"] +\"_\"+ row[\"replicate\"]\n",
    "    adata = st.read.file_table(cm_path)\n",
    "    spot_df = pd.read_csv(spot_path,index_col=0)\n",
    "    comm_index = pd.Series(list(set(spot_df.index).intersection(set(adata.obs_names))))\n",
    "    adata = adata[comm_index]\n",
    "    adata.obs[\"imagecol\"] = spot_df[\"X\"]\n",
    "    adata.obs[\"imagerow\"] = spot_df[\"Y\"]\n",
    "    st.add.image(adata, img_path, library_id=Sample)\n",
    "    adata.obs[\"type\"] = row[\"type\"]\n",
    "    st.pp.log1p(adata)\n",
    "    tiling(adata, out_path=TILING_PATH, crop_size=299)\n",
    "    adata_list.append(adata)"
   ]
  },
  {
   "cell_type": "code",
   "execution_count": 9,
   "id": "designing-meaning",
   "metadata": {},
   "outputs": [],
   "source": [
    "adata_all = adata_list[0].concatenate(\n",
    "    adata_list[1:],\n",
    "    batch_key=\"library_id\",\n",
    "    uns_merge=\"unique\",\n",
    "    batch_categories=[list(d.keys())[0]\n",
    "                      for d in[adata_list[i].uns[\"spatial\"] \n",
    "                      for i in range(len(adata_list))\n",
    "                              ]\n",
    "                     ],\n",
    ")"
   ]
  },
  {
   "cell_type": "code",
   "execution_count": 10,
   "id": "linear-analysis",
   "metadata": {},
   "outputs": [
    {
     "name": "stderr",
     "output_type": "stream",
     "text": [
      "/scratch/imb/Xiao/.conda/envs/stimage/lib/python3.8/site-packages/pandas/core/arrays/categorical.py:2487: FutureWarning: The `inplace` parameter in pandas.Categorical.remove_unused_categories is deprecated and will be removed in a future version.\n",
      "  res = method(*args, **kwargs)\n"
     ]
    }
   ],
   "source": [
    "adata_all = ensembl_to_id(adata_all, ens_path=\"/clusterdata/uqxtan9/Xiao/STimage/dataset/ensembl.tsv\")"
   ]
  },
  {
   "cell_type": "code",
   "execution_count": 11,
   "id": "imperial-sucking",
   "metadata": {},
   "outputs": [
    {
     "name": "stderr",
     "output_type": "stream",
     "text": [
      "... storing 'type' as categorical\n"
     ]
    }
   ],
   "source": [
    "adata_all.write(BASE_PATH /\"all_adata.h5ad\")"
   ]
  },
  {
   "cell_type": "code",
   "execution_count": 6,
   "id": "animated-catalog",
   "metadata": {},
   "outputs": [],
   "source": [
    "adata_all = read_h5ad(BASE_PATH /\"all_adata.h5ad\")"
   ]
  },
  {
   "cell_type": "code",
   "execution_count": 28,
   "id": "suffering-transaction",
   "metadata": {},
   "outputs": [],
   "source": [
    "parser = argparse.ArgumentParser(description=\"STimage software\")\n",
    "parser.add_argument('--config', dest='config', type=Path,\n",
    "                    help='Path to config file')\n",
    "args = parser.parse_args([\"--config\", \"/clusterdata/uqxtan9/Xiao/STimage/example.ini\"])"
   ]
  },
  {
   "cell_type": "code",
   "execution_count": 29,
   "id": "offshore-bahrain",
   "metadata": {},
   "outputs": [
    {
     "data": {
      "text/plain": [
       "['/clusterdata/uqxtan9/Xiao/STimage/example.ini']"
      ]
     },
     "execution_count": 29,
     "metadata": {},
     "output_type": "execute_result"
    }
   ],
   "source": [
    "config = configparser.ConfigParser()\n",
    "config.read(args.config)"
   ]
  },
  {
   "cell_type": "code",
   "execution_count": null,
   "id": "subsequent-acceptance",
   "metadata": {},
   "outputs": [],
   "source": []
  },
  {
   "cell_type": "code",
   "execution_count": 30,
   "id": "universal-december",
   "metadata": {},
   "outputs": [],
   "source": [
    "model_name = config[\"TRAINING\"][\"model_name\"]\n",
    "gene_selection = config[\"DATASET\"][\"gene_selection\"]\n",
    "training_ratio = float(config[\"DATASET\"][\"training_ratio\"])\n",
    "valid_ratio = float(config[\"DATASET\"][\"valid_ratio\"])\n",
    "batch_size = int(config[\"TRAINING\"][\"batch_size\"])\n",
    "early_stop = config[\"TRAINING\"].getboolean(\"early_stop\")\n",
    "epochs = int(config[\"TRAINING\"][\"epochs\"])\n",
    "OUT_PATH = Path(config[\"PATH\"][\"OUT_PATH\"])\n",
    "DATA_PATH = Path(config[\"PATH\"][\"DATA_PATH\"])\n",
    "OUT_PATH.mkdir(parents=True, exist_ok=True)\n",
    "\n",
    "save_train_history = config[\"RESULTS\"].getboolean(\"save_train_history\")\n",
    "save_model_weights = config[\"RESULTS\"].getboolean(\"save_model_weights\")\n",
    "\n",
    "\n"
   ]
  },
  {
   "cell_type": "code",
   "execution_count": 31,
   "id": "covered-optimization",
   "metadata": {},
   "outputs": [
    {
     "name": "stdout",
     "output_type": "stream",
     "text": [
      "tumour 0.7 0.2 64 True 10 /clusterdata/uqxtan9/Xiao/STimage/development/Wiener/test_results True True NB /clusterdata/uqxtan9/Xiao/STimage/dataset/breast_cancer_oldST_STNet\n"
     ]
    }
   ],
   "source": [
    "print(gene_selection,\n",
    "      training_ratio,\n",
    "      valid_ratio,\n",
    "      batch_size,\n",
    "      early_stop,\n",
    "      epochs,\n",
    "      OUT_PATH,\n",
    "      save_train_history,\n",
    "      save_model_weights,\n",
    "      model_name,\n",
    "      DATA_PATH)"
   ]
  },
  {
   "cell_type": "code",
   "execution_count": 13,
   "id": "hourly-plant",
   "metadata": {},
   "outputs": [
    {
     "name": "stderr",
     "output_type": "stream",
     "text": [
      "/scratch/imb/Xiao/.conda/envs/stimage/lib/python3.8/site-packages/pandas/core/arrays/categorical.py:2487: FutureWarning: The `inplace` parameter in pandas.Categorical.remove_unused_categories is deprecated and will be removed in a future version.\n",
      "  res = method(*args, **kwargs)\n"
     ]
    }
   ],
   "source": [
    "if gene_selection == \"tumour\":\n",
    "    comm_genes = [\"PABPC1\", \"GNAS\", \"HSP90AB1\", \"TFF3\", \n",
    "                   \"ATP1A1\", \"COX6C\", \"B2M\", \"FASN\", \n",
    "                   \"ACTG1\", \"HLA-B\"]\n",
    "    adata_all = adata_all[:,comm_genes].copy()\n",
    "    "
   ]
  },
  {
   "cell_type": "code",
   "execution_count": 14,
   "id": "secondary-atlantic",
   "metadata": {},
   "outputs": [],
   "source": [
    "All_sample = pd.Series(adata_all.obs[\"library_id\"].unique())\n",
    "training_valid_sample = All_sample.sample(frac=training_ratio, random_state=1)\n",
    "training_valid_index_ = All_sample.index.isin(training_valid_sample.index)\n",
    "\n",
    "valid_sample = training_valid_sample.sample(frac=valid_ratio, random_state=1)\n",
    "valid_index_ = training_valid_sample.index.isin(valid_sample.index)\n",
    "\n",
    "training_sample = training_valid_sample[~valid_index_]\n",
    "\n",
    "test_Sample = All_sample[~training_valid_index_].copy()\n",
    "\n",
    "train_adata = adata_all[adata_all.obs[\"library_id\"].isin(training_sample)].copy()\n",
    "valid_adata = adata_all[adata_all.obs[\"library_id\"].isin(valid_sample)].copy()\n",
    "test_adata = adata_all[adata_all.obs[\"library_id\"].isin(test_Sample)].copy()\n",
    "\n",
    "n_genes = len(comm_genes)\n",
    "train_gen = tf.data.Dataset.from_generator(\n",
    "            lambda:DataGenerator(adata=train_adata, \n",
    "                          genes=comm_genes, aug=True),\n",
    "            output_types=(tf.float32, tuple([tf.float32]*n_genes)), \n",
    "            output_shapes=([299,299,3], tuple([1]*n_genes))\n",
    ")\n",
    "train_gen_ = train_gen.shuffle(buffer_size=300).batch(batch_size).repeat(3).cache().prefetch(tf.data.experimental.AUTOTUNE)\n",
    "\n",
    "valid_gen = tf.data.Dataset.from_generator(\n",
    "            lambda:DataGenerator(adata=valid_adata, \n",
    "                          genes=comm_genes, aug=True),\n",
    "            output_types=(tf.float32, tuple([tf.float32]*n_genes)), \n",
    "            output_shapes=([299,299,3], tuple([1]*n_genes))\n",
    ")\n",
    "valid_gen_ = valid_gen.shuffle(buffer_size=300).batch(batch_size).repeat(3).cache().prefetch(tf.data.experimental.AUTOTUNE)\n",
    "\n",
    "test_gen = tf.data.Dataset.from_generator(\n",
    "            lambda:DataGenerator(adata=test_adata, \n",
    "                          genes=comm_genes), \n",
    "            output_types=(tf.float32, tuple([tf.float32]*n_genes)), \n",
    "            output_shapes=([299,299,3], tuple([1]*n_genes))\n",
    ")\n",
    "test_gen_ = test_gen.batch(1)"
   ]
  },
  {
   "cell_type": "code",
   "execution_count": 15,
   "id": "solved-climb",
   "metadata": {},
   "outputs": [],
   "source": [
    "if model_name == \"NB\":\n",
    "    model = CNN_NB_multiple_genes((299, 299, 3), n_genes)"
   ]
  },
  {
   "cell_type": "code",
   "execution_count": 16,
   "id": "colonial-tractor",
   "metadata": {},
   "outputs": [],
   "source": [
    "callbacks = [PrinterCallback()]\n",
    "if early_stop:\n",
    "    callback = tf.keras.callbacks.EarlyStopping(monitor='val_loss', patience=10,\n",
    "                                            restore_best_weights=True)\n",
    "    callbacks.append(callback)\n",
    "\n"
   ]
  },
  {
   "cell_type": "code",
   "execution_count": 17,
   "id": "defined-indonesian",
   "metadata": {},
   "outputs": [
    {
     "name": "stdout",
     "output_type": "stream",
     "text": [
      "--------------------------------------------------\n",
      "STARTING EPOCH: 0\n",
      "EPOCH: 0, Train Loss: 3.2620668411254883, Val Loss: 4.3845367431640625\n",
      "--------------------------------------------------\n",
      "STARTING EPOCH: 1\n",
      "EPOCH: 1, Train Loss: 3.0282158851623535, Val Loss: 4.352901935577393\n",
      "--------------------------------------------------\n",
      "STARTING EPOCH: 2\n",
      "EPOCH: 2, Train Loss: 2.9906651973724365, Val Loss: 4.338646411895752\n",
      "--------------------------------------------------\n",
      "STARTING EPOCH: 3\n",
      "EPOCH: 3, Train Loss: 2.969449281692505, Val Loss: 4.330047130584717\n",
      "--------------------------------------------------\n",
      "STARTING EPOCH: 4\n",
      "EPOCH: 4, Train Loss: 2.954493522644043, Val Loss: 4.323955535888672\n",
      "--------------------------------------------------\n",
      "STARTING EPOCH: 5\n",
      "EPOCH: 5, Train Loss: 2.9428539276123047, Val Loss: 4.31926155090332\n",
      "--------------------------------------------------\n",
      "STARTING EPOCH: 6\n",
      "EPOCH: 6, Train Loss: 2.933300256729126, Val Loss: 4.315471649169922\n",
      "--------------------------------------------------\n",
      "STARTING EPOCH: 7\n",
      "EPOCH: 7, Train Loss: 2.925201654434204, Val Loss: 4.312315940856934\n",
      "--------------------------------------------------\n",
      "STARTING EPOCH: 8\n",
      "EPOCH: 8, Train Loss: 2.918161392211914, Val Loss: 4.309626579284668\n",
      "--------------------------------------------------\n",
      "STARTING EPOCH: 9\n",
      "EPOCH: 9, Train Loss: 2.9119415283203125, Val Loss: 4.307298183441162\n"
     ]
    }
   ],
   "source": [
    "train_history = model.fit(train_gen_,\n",
    "                          validation_data=valid_gen_,\n",
    "                          epochs=epochs,\n",
    "                          callbacks=callbacks,\n",
    "                          verbose=0\n",
    "                          )"
   ]
  },
  {
   "cell_type": "code",
   "execution_count": 21,
   "id": "explicit-hotel",
   "metadata": {},
   "outputs": [],
   "source": [
    "if save_train_history:\n",
    "    with open(OUT_PATH / \"training_log\", 'wb') as file_pi:\n",
    "        pickle.dump(train_history.history, file_pi)"
   ]
  },
  {
   "cell_type": "code",
   "execution_count": 22,
   "id": "passive-ozone",
   "metadata": {},
   "outputs": [],
   "source": [
    "if save_model_weights:\n",
    "    model.save(OUT_PATH / \"model_weights.h5\")"
   ]
  },
  {
   "cell_type": "code",
   "execution_count": null,
   "id": "hungry-radio",
   "metadata": {},
   "outputs": [],
   "source": [
    " train_X = train_X.iloc[:,1:]\n",
    "    test_X = test_X.iloc[:,1:]\n",
    "    train_Y = train_Y[['Cluster']]\n",
    "    test_Y['Cluster'] = test_Y['Cluster'].replace({2:0})\n",
    "    test_Y = test_Y.sort_values(by='Sno')\n",
    "    test_Y = test_Y.reset_index(drop=True)\n",
    "    test_Y = test_Y[['Cluster']]\n",
    "    X_train, X_test, y_train, y_test = train_test_split(train_X, train_Y, test_size = 0.20, random_state = 0)\n",
    "    clf = lgb.LGBMClassifier()\n",
    "    clf.fit(X_train, y_train)"
   ]
  },
  {
   "cell_type": "code",
   "execution_count": null,
   "id": "retained-butter",
   "metadata": {},
   "outputs": [],
   "source": []
  },
  {
   "cell_type": "code",
   "execution_count": null,
   "id": "suited-newton",
   "metadata": {},
   "outputs": [],
   "source": []
  },
  {
   "cell_type": "code",
   "execution_count": null,
   "id": "graduate-poker",
   "metadata": {},
   "outputs": [],
   "source": []
  },
  {
   "cell_type": "code",
   "execution_count": 1,
   "id": "disabled-auditor",
   "metadata": {},
   "outputs": [
    {
     "name": "stdout",
     "output_type": "stream",
     "text": [
      "272/272 [==============================] - 339s 1s/step - loss: 21.1730 - gene_0_loss: 1.3145 - gene_1_loss: 0.9454 - gene_2_loss: 1.6495 - gene_3_loss: 1.6333 - gene_4_loss: 1.3967 - gene_5_loss: 1.1642 - gene_6_loss: 1.5994 - gene_7_loss: 1.7588 - gene_8_loss: 1.7226 - gene_9_loss: 1.4340 - gene_10_loss: 1.7975 - gene_11_loss: 1.6679 - gene_12_loss: 1.4452 - gene_13_loss: 1.6439 - val_loss: 20.1913 - val_gene_0_loss: 1.2818 - val_gene_1_loss: 0.9017 - val_gene_2_loss: 1.6120 - val_gene_3_loss: 1.5627 - val_gene_4_loss: 1.3711 - val_gene_5_loss: 1.1196 - val_gene_6_loss: 1.4696 - val_gene_7_loss: 1.6341 - val_gene_8_loss: 1.6575 - val_gene_9_loss: 1.3723 - val_gene_10_loss: 1.6844 - val_gene_11_loss: 1.5669 - val_gene_12_loss: 1.3915 - val_gene_13_loss: 1.5660\n"
     ]
    }
   ],
   "source": [
    "import sys\n",
    "import stlearn as st\n",
    "st.settings.set_figure_params(dpi=300)\n",
    "from pathlib import Path\n",
    "import pandas as pd\n",
    "import matplotlib.pyplot as plt\n",
    "import matplotlib\n",
    "import sys\n",
    "file = Path(\"../stimage\").resolve()\n",
    "parent= file.parent\n",
    "sys.path.append(str(parent))\n",
    "from PIL import Image\n",
    "from stimage._utils import gene_plot, Read10X, ReadOldST, tiling, ensembl_to_id\n",
    "from stimage._model import CNN_NB_multiple_genes, negative_binomial_layer, negative_binomial_loss\n",
    "from stimage._data_generator import DataGenerator\n",
    "import tensorflow as tf\n",
    "import seaborn as sns\n",
    "sns.set_style(\"white\")\n",
    "import matplotlib.pyplot as plt\n",
    "from scipy import stats\n",
    "import numpy as np\n",
    "# import geopandas as gpd\n",
    "from sklearn.neighbors import KDTree\n",
    "from anndata import read_h5ad\n",
    "from tensorflow.keras import backend as K\n",
    "import scanpy as sc\n",
    "\n",
    "import numpy as np\n",
    "import tensorflow as tf\n",
    "from tensorflow import keras\n",
    "from tensorflow.keras import layers\n",
    "import tensorflow_addons as tfa\n",
    "\n",
    "import matplotlib.pyplot as plt\n",
    "from libpysal.weights.contiguity import Queen\n",
    "from libpysal import examples\n",
    "import numpy as np\n",
    "import pandas as pd\n",
    "import geopandas as gpd\n",
    "import os\n",
    "import splot\n",
    "from splot.esda import moran_scatterplot, lisa_cluster\n",
    "from esda.moran import Moran, Moran_Local\n",
    "from esda.moran import Moran_BV, Moran_Local_BV\n",
    "from splot.esda import plot_moran_bv_simulation, plot_moran_bv, plot_local_autocorrelation\n",
    "\n",
    "from scipy import stats\n",
    "\n",
    "def plot_correlation(df, attr_1, attr_2):\n",
    "    r = stats.pearsonr(df[attr_1],\n",
    "                       df[attr_2])[0] **2\n",
    "\n",
    "    g = sns.lmplot(data=df,\n",
    "        x=attr_1, y=attr_2,\n",
    "        height=5, legend=True\n",
    "    )\n",
    "    # g.set(ylim=(0, 360), xlim=(0,360))\n",
    "\n",
    "    g.set_axis_labels(attr_1, attr_2)\n",
    "    plt.annotate(r'$R^2:{0:.2f}$'.format(r),\n",
    "                (max(df[attr_1])*0.9, max(df[attr_2])*0.9))\n",
    "    return g\n",
    "\n",
    "\n",
    "def calculate_correlation(attr_1, attr_2):\n",
    "    r = stats.pearsonr(attr_1,\n",
    "                       attr_2)[0]\n",
    "    return r\n",
    "\n",
    "def calculate_correlation_2(attr_1, attr_2):\n",
    "    r = stats.spearmanr(attr_1,\n",
    "                       attr_2)[0]\n",
    "    return r\n",
    "\n",
    "DATA_PATH = Path(\"/clusterdata/uqxtan9/Xiao/STimage/dataset/her2st\")\n",
    "\n",
    "adata_all = read_h5ad(DATA_PATH / \"all_adata.h5ad\")\n",
    "\n",
    "# adata_all = ensembl_to_id(adata_all)\n",
    "\n",
    "samples = adata_all.obs[\"library_id\"].unique().tolist()\n",
    "\n",
    "gene_list=[\"COX6C\",\"TTLL12\", \"PABPC1\", \"GNAS\", \"HSP90AB1\",\n",
    "           \"TFF3\", \"ATP1A1\", \"B2M\", \"FASN\", \"SPARC\", \"CD74\", \"CD63\", \"CD24\", \"CD81\"]\n",
    "\n",
    "adata_all.obs[\"X\"] = [x for x,y in adata_all.obs.index.str.split(\"x\")]\n",
    "adata_all.obs[\"Y\"] = [y.split(\"-\")[0] for x,y in adata_all.obs.index.str.split(\"x\")]\n",
    "\n",
    "\n",
    "import numpy as np\n",
    "from tensorflow import keras\n",
    "from tensorflow.keras.applications.resnet50 import preprocess_input as preprocess_resnet\n",
    "from tensorflow.keras.preprocessing import image\n",
    "from stimage._imgaug import seq_aug\n",
    "from sklearn.neighbors import KDTree\n",
    "class DataGenerator(keras.utils.Sequence):\n",
    "    'Generates data for Keras'\n",
    "\n",
    "    def __init__(self, adata, dim=(299, 299), n_channels=3, genes=None, aug=False, tile_path=\"tile_path\"):\n",
    "        'Initialization'\n",
    "        self.dim = dim\n",
    "        self.adata = adata\n",
    "        self.n_channels = n_channels\n",
    "        self.genes = genes\n",
    "        self.num_genes = len(genes)\n",
    "        self.aug = aug\n",
    "        self.tile_path = tile_path\n",
    "        self.on_epoch_end()\n",
    "\n",
    "    def __len__(self):\n",
    "        'Denotes the number of batches per epoch'\n",
    "        return int(self.adata.n_obs)\n",
    "\n",
    "    def __getitem__(self, index):\n",
    "        'Generate one batch of data'\n",
    "        # Find list of IDs\n",
    "        obs_temp = self.adata.obs_names[index]\n",
    "\n",
    "        # Generate data\n",
    "        X_img = self._load_img(obs_temp)\n",
    "        y = self._load_label(obs_temp)\n",
    "        pos_x,pos_y = self._load_position(obs_temp)\n",
    "\n",
    "        return {\"input_img\":X_img, \"x\":pos_x, \"y\":pos_y}, y\n",
    "\n",
    "    def on_epoch_end(self):\n",
    "        'Updates indexes after each epoch'\n",
    "        self.indexes = np.arange(self.adata.n_obs)\n",
    "\n",
    "    def _load_img(self, obs):\n",
    "        img_path = self.adata.obs.loc[obs, 'tile_path']\n",
    "        X_img = image.load_img(img_path, target_size=self.dim)\n",
    "        X_img = image.img_to_array(X_img).astype('uint8')\n",
    "        #         X_img = np.expand_dims(X_img, axis=0)\n",
    "        #         n_rotate = np.random.randint(0, 4)\n",
    "        #         X_img = np.rot90(X_img, k=n_rotate, axes=(1, 2))\n",
    "        if self.aug:\n",
    "            X_img = seq_aug(image=X_img)\n",
    "#         X_img = preprocess_resnet(X_img)\n",
    "        return X_img\n",
    "\n",
    "    def _load_label(self, obs):\n",
    "        batch_adata = self.adata[obs, self.genes].copy()\n",
    "\n",
    "        return tuple([batch_adata.to_df()[i].values for i in self.genes])\n",
    "\n",
    "    def _load_position(self, obs):\n",
    "        return int(self.adata.obs.loc[obs, \"X\"]), int(self.adata.obs.loc[obs, \"Y\"])\n",
    "\n",
    "    def get_classes(self):\n",
    "        return self.adata.to_df().loc[:, self.genes]\n",
    "\n",
    "def mlp(x, hidden_units, dropout_rate):\n",
    "    for units in hidden_units:\n",
    "        x = layers.Dense(units, activation=tf.nn.gelu)(x)\n",
    "        x = layers.Dropout(dropout_rate)(x)\n",
    "    return x\n",
    "\n",
    "\n",
    "class Patches(layers.Layer):\n",
    "    def __init__(self, patch_size):\n",
    "        super(Patches, self).__init__()\n",
    "        self.patch_size = patch_size\n",
    "\n",
    "    def call(self, images):\n",
    "        batch_size = tf.shape(images)[0]\n",
    "        patches = tf.image.extract_patches(\n",
    "            images=images,\n",
    "            sizes=[1, self.patch_size, self.patch_size, 1],\n",
    "            strides=[1, self.patch_size, self.patch_size, 1],\n",
    "            rates=[1, 1, 1, 1],\n",
    "            padding=\"VALID\",\n",
    "        )\n",
    "        patch_dims = patches.shape[-1]\n",
    "        patches = tf.reshape(patches, [batch_size, -1, patch_dims])\n",
    "        return patches\n",
    "\n",
    "\n",
    "class PatchEncoder(layers.Layer):\n",
    "    def __init__(self, num_patches, projection_dim):\n",
    "        super(PatchEncoder, self).__init__()\n",
    "        self.num_patches = num_patches\n",
    "        self.projection = layers.Dense(units=projection_dim)\n",
    "        self.position_embedding = layers.Embedding(\n",
    "            input_dim=num_patches, output_dim=projection_dim\n",
    "        )\n",
    "\n",
    "    def call(self, patch):\n",
    "        positions = tf.range(start=0, limit=self.num_patches, delta=1)\n",
    "        encoded = self.projection(patch) + self.position_embedding(positions)\n",
    "        return encoded\n",
    "\n",
    "df = pd.DataFrame()\n",
    "\n",
    "i = 0\n",
    "test_sample = samples[i]\n",
    "n_genes = len(gene_list)\n",
    "\n",
    "adata_all_train_valid = adata_all[adata_all.obs[\"library_id\"].isin(\n",
    "    adata_all.obs.library_id.cat.remove_categories(test_sample).unique())]\n",
    "\n",
    "training_index = adata_all_train_valid.obs.sample(frac=0.7, random_state=1).index\n",
    "training_dataset = adata_all_train_valid[training_index,].copy()\n",
    "\n",
    "valid_index = adata_all_train_valid.obs.index.isin(training_index)\n",
    "valid_dataset = adata_all_train_valid[~valid_index,].copy()\n",
    "\n",
    "test_index = adata_all.obs.library_id == test_sample\n",
    "test_dataset_1 = adata_all[test_index,].copy()\n",
    "\n",
    "\n",
    "train_gen = tf.data.Dataset.from_generator(\n",
    "        lambda:DataGenerator(adata=training_dataset,\n",
    "                      genes=gene_list, aug=False),\n",
    "        output_types=({\"input_img\":tf.float32, \"x\":tf.float32, \"y\":tf.float32}, tuple([tf.float32]*n_genes)),\n",
    "#         output_shapes=([299,299,3],1,1, tuple([1]*n_genes))\n",
    ")\n",
    "train_gen_ = train_gen.shuffle(buffer_size=10).batch(32).repeat(1).cache().prefetch(tf.data.experimental.AUTOTUNE)\n",
    "valid_gen = tf.data.Dataset.from_generator(\n",
    "        lambda:DataGenerator(adata=valid_dataset,\n",
    "                      genes=gene_list),\n",
    "        output_types=({\"input_img\":tf.float32, \"x\":tf.float32, \"y\":tf.float32}, tuple([tf.float32]*n_genes)),\n",
    "#         output_shapes=(([299,299,3],1,1), tuple([1]*n_genes))\n",
    ")\n",
    "valid_gen_ = valid_gen.shuffle(buffer_size=10).batch(32).repeat(1).cache().prefetch(tf.data.experimental.AUTOTUNE)\n",
    "test_gen_1 = tf.data.Dataset.from_generator(\n",
    "        lambda:DataGenerator(adata=test_dataset_1,\n",
    "                      genes=gene_list),\n",
    "        output_types=({\"input_img\":tf.float32, \"x\":tf.float32, \"y\":tf.float32}, tuple([tf.float32]*n_genes)),\n",
    "#         output_shapes=(([299,299,3],1,1), tuple([1]*n_genes))\n",
    ")\n",
    "test_gen__1 = test_gen_1.batch(1)\n",
    "\n",
    "\n",
    "from tensorflow.keras.applications.resnet50 import ResNet50\n",
    "from tensorflow.keras.models import Model\n",
    "def ViT_NB(tile_shape, pos_shape, n_genes=None, projection_dim=64, num_patches=24, transformer_layers=8,\n",
    "           mlp_head_units = [256, 128], num_heads = 4, patch_size=13):\n",
    "    tile_inputs = layers.Input(shape=tile_shape,name=\"input_img\")\n",
    "    x = layers.Input(shape=pos_shape, name=\"x\")\n",
    "    y = layers.Input(shape=pos_shape, name=\"y\")\n",
    "#     tile_emb = layers.Flatten()(tile_inputs)\n",
    "#     resnet_base = ResNet50(weights='imagenet', include_top=False, pooling=\"max\")\n",
    "#     for i in range(len(resnet_base.layers)):\n",
    "#         resnet_base.layers[i].trainable = False\n",
    "#     tile_features = resnet_base(tile_inputs)\n",
    "\n",
    "    num_patches = (299 // patch_size) ** 2\n",
    "    patches = Patches(patch_size)(tile_inputs)\n",
    "\n",
    "    encoded_patches = PatchEncoder(num_patches, projection_dim)(patches)\n",
    "\n",
    "    transformer_units = [\n",
    "        projection_dim*2,\n",
    "        projection_dim,\n",
    "    ]\n",
    "\n",
    "    for _ in range(transformer_layers):\n",
    "\n",
    "        x1 = layers.LayerNormalization(epsilon=1e-6)(encoded_patches)\n",
    "\n",
    "        attention_output = layers.MultiHeadAttention(\n",
    "            num_heads=num_heads, key_dim=projection_dim, dropout=0.1\n",
    "        )(x1,x1)\n",
    "\n",
    "        x2 = layers.Add()([attention_output, encoded_patches])\n",
    "\n",
    "        x3 = layers.LayerNormalization(epsilon=1e-6)(x2)\n",
    "\n",
    "        x3 = mlp(x3, hidden_units=transformer_units, dropout_rate=0.1)\n",
    "\n",
    "        encoded_patches = layers.Add()([x3, x2])\n",
    "\n",
    "\n",
    "    representation = layers.LayerNormalization(epsilon=1e-6)(encoded_patches)\n",
    "#     representation = layers.GlobalAveragePooling1D()(representation)\n",
    "    representation = layers.Flatten()(representation)\n",
    "#     representation = layers.Dropout(0.5)(representation)\n",
    "\n",
    "    features = mlp(representation, hidden_units=mlp_head_units, dropout_rate=0.1)\n",
    "\n",
    "    output_layers = []\n",
    "    for i in range(n_genes):\n",
    "        output = layers.Dense(2)(features)\n",
    "        output_layers.append(layers.Lambda(negative_binomial_layer, name=\"gene_{}\".format(i))(output))\n",
    "\n",
    "    model = Model(inputs=[tile_inputs, x, y], outputs=output_layers)\n",
    "    #     losses={}\n",
    "    #     for i in range(8):\n",
    "    #         losses[\"gene_{}\".format(i)] = negative_binomial_loss(i)\n",
    "    #     optimizer = tf.keras.optimizers.RMSprop(0.001)\n",
    "    optimizer = tf.keras.optimizers.Adam(1e-5)\n",
    "    model.compile(loss=negative_binomial_loss,\n",
    "                  optimizer=optimizer)\n",
    "    return model\n",
    "\n",
    "\n",
    "K.clear_session()\n",
    "model = ViT_NB(tile_shape=(299,299,3), pos_shape=1, n_genes=n_genes)\n",
    "callback = tf.keras.callbacks.EarlyStopping(monitor='val_loss', patience=20,\n",
    "                                        restore_best_weights=False)\n",
    "\n",
    "train_history = model.fit(train_gen_,\n",
    "                      epochs=1,\n",
    "                      validation_data=valid_gen_,\n",
    "                      callbacks=[callback]\n",
    "                      )\n",
    "test_predictions = model.predict(test_gen__1)\n",
    "# test_dataset_1_ = test_dataset_1[:,gene_list].copy()\n",
    "# test_dataset_1_.X = test_dataset_1_.obsm[\"predicted_gene\"]\n",
    "\n",
    "# pred_adata = test_dataset_1_\n",
    "# test_dataset = test_dataset_1\n",
    "\n",
    "# for gene in pred_adata.var_names:\n",
    "#     cor_val = calculate_correlation(pred_adata.to_df().loc[:,gene], test_dataset.to_df().loc[:,gene])\n",
    "#     df = df.append(pd.Series([gene, cor_val, test_sample, \"STimage\"],\n",
    "#                          index=[\"Gene\", \"Pearson correlation\", \"Slide\", \"Method\"]),\n",
    "#                   ignore_index=True)\n",
    "\n",
    "# df.to_csv(\"./stimage_compare_histogene/ViT_NB_cor_{}.csv\".format(test_sample))"
   ]
  },
  {
   "cell_type": "code",
   "execution_count": 8,
   "id": "catholic-ultimate",
   "metadata": {},
   "outputs": [],
   "source": [
    "from scipy.stats import nbinom\n",
    "y_preds = []\n",
    "for i in range(n_genes):\n",
    "    n = test_predictions[i][:, 0]\n",
    "    p = test_predictions[i][:, 1]\n",
    "    y_pred = nbinom.mean(n, p)\n",
    "    y_preds.append(y_pred)\n",
    "test_dataset_1.obsm[\"predicted_gene\"] = np.array(y_preds).transpose()"
   ]
  },
  {
   "cell_type": "code",
   "execution_count": 7,
   "id": "decimal-mailman",
   "metadata": {},
   "outputs": [
    {
     "data": {
      "text/plain": [
       "(176, 2)"
      ]
     },
     "execution_count": 7,
     "metadata": {},
     "output_type": "execute_result"
    }
   ],
   "source": [
    "test_predictions[0].shape"
   ]
  },
  {
   "cell_type": "code",
   "execution_count": 11,
   "id": "stable-birth",
   "metadata": {},
   "outputs": [],
   "source": [
    "test_dataset_1_ = test_dataset_1[:,gene_list].copy()\n",
    "test_dataset_1_.X = test_dataset_1_.obsm[\"predicted_gene\"]\n",
    "\n",
    "pred_adata = test_dataset_1_\n",
    "test_dataset = test_dataset_1\n",
    "\n",
    "for gene in pred_adata.var_names:\n",
    "    cor_val = calculate_correlation(pred_adata.to_df().loc[:,gene], test_dataset.to_df().loc[:,gene])\n",
    "    df = df.append(pd.Series([gene, cor_val, test_sample, \"ViT_NB\"],\n",
    "                         index=[\"Gene\", \"Pearson correlation\", \"Slide\", \"Method\"]),\n",
    "                  ignore_index=True)"
   ]
  },
  {
   "cell_type": "code",
   "execution_count": 12,
   "id": "mechanical-mystery",
   "metadata": {},
   "outputs": [
    {
     "data": {
      "text/html": [
       "<div>\n",
       "<style scoped>\n",
       "    .dataframe tbody tr th:only-of-type {\n",
       "        vertical-align: middle;\n",
       "    }\n",
       "\n",
       "    .dataframe tbody tr th {\n",
       "        vertical-align: top;\n",
       "    }\n",
       "\n",
       "    .dataframe thead th {\n",
       "        text-align: right;\n",
       "    }\n",
       "</style>\n",
       "<table border=\"1\" class=\"dataframe\">\n",
       "  <thead>\n",
       "    <tr style=\"text-align: right;\">\n",
       "      <th></th>\n",
       "      <th>Gene</th>\n",
       "      <th>Pearson correlation</th>\n",
       "      <th>Slide</th>\n",
       "      <th>Method</th>\n",
       "    </tr>\n",
       "  </thead>\n",
       "  <tbody>\n",
       "    <tr>\n",
       "      <th>0</th>\n",
       "      <td>COX6C</td>\n",
       "      <td>0.116080</td>\n",
       "      <td>C2</td>\n",
       "      <td>STimage</td>\n",
       "    </tr>\n",
       "    <tr>\n",
       "      <th>1</th>\n",
       "      <td>TTLL12</td>\n",
       "      <td>-0.070850</td>\n",
       "      <td>C2</td>\n",
       "      <td>STimage</td>\n",
       "    </tr>\n",
       "    <tr>\n",
       "      <th>2</th>\n",
       "      <td>PABPC1</td>\n",
       "      <td>0.307541</td>\n",
       "      <td>C2</td>\n",
       "      <td>STimage</td>\n",
       "    </tr>\n",
       "    <tr>\n",
       "      <th>3</th>\n",
       "      <td>GNAS</td>\n",
       "      <td>0.158823</td>\n",
       "      <td>C2</td>\n",
       "      <td>STimage</td>\n",
       "    </tr>\n",
       "    <tr>\n",
       "      <th>4</th>\n",
       "      <td>HSP90AB1</td>\n",
       "      <td>0.313398</td>\n",
       "      <td>C2</td>\n",
       "      <td>STimage</td>\n",
       "    </tr>\n",
       "    <tr>\n",
       "      <th>5</th>\n",
       "      <td>TFF3</td>\n",
       "      <td>0.088524</td>\n",
       "      <td>C2</td>\n",
       "      <td>STimage</td>\n",
       "    </tr>\n",
       "    <tr>\n",
       "      <th>6</th>\n",
       "      <td>ATP1A1</td>\n",
       "      <td>0.314292</td>\n",
       "      <td>C2</td>\n",
       "      <td>STimage</td>\n",
       "    </tr>\n",
       "    <tr>\n",
       "      <th>7</th>\n",
       "      <td>B2M</td>\n",
       "      <td>0.232526</td>\n",
       "      <td>C2</td>\n",
       "      <td>STimage</td>\n",
       "    </tr>\n",
       "    <tr>\n",
       "      <th>8</th>\n",
       "      <td>FASN</td>\n",
       "      <td>0.426722</td>\n",
       "      <td>C2</td>\n",
       "      <td>STimage</td>\n",
       "    </tr>\n",
       "    <tr>\n",
       "      <th>9</th>\n",
       "      <td>SPARC</td>\n",
       "      <td>0.142367</td>\n",
       "      <td>C2</td>\n",
       "      <td>STimage</td>\n",
       "    </tr>\n",
       "    <tr>\n",
       "      <th>10</th>\n",
       "      <td>CD74</td>\n",
       "      <td>0.064615</td>\n",
       "      <td>C2</td>\n",
       "      <td>STimage</td>\n",
       "    </tr>\n",
       "    <tr>\n",
       "      <th>11</th>\n",
       "      <td>CD63</td>\n",
       "      <td>0.334133</td>\n",
       "      <td>C2</td>\n",
       "      <td>STimage</td>\n",
       "    </tr>\n",
       "    <tr>\n",
       "      <th>12</th>\n",
       "      <td>CD24</td>\n",
       "      <td>0.328308</td>\n",
       "      <td>C2</td>\n",
       "      <td>STimage</td>\n",
       "    </tr>\n",
       "    <tr>\n",
       "      <th>13</th>\n",
       "      <td>CD81</td>\n",
       "      <td>0.119989</td>\n",
       "      <td>C2</td>\n",
       "      <td>STimage</td>\n",
       "    </tr>\n",
       "    <tr>\n",
       "      <th>14</th>\n",
       "      <td>COX6C</td>\n",
       "      <td>0.116080</td>\n",
       "      <td>C2</td>\n",
       "      <td>ViT_NB</td>\n",
       "    </tr>\n",
       "    <tr>\n",
       "      <th>15</th>\n",
       "      <td>TTLL12</td>\n",
       "      <td>-0.070850</td>\n",
       "      <td>C2</td>\n",
       "      <td>ViT_NB</td>\n",
       "    </tr>\n",
       "    <tr>\n",
       "      <th>16</th>\n",
       "      <td>PABPC1</td>\n",
       "      <td>0.307541</td>\n",
       "      <td>C2</td>\n",
       "      <td>ViT_NB</td>\n",
       "    </tr>\n",
       "    <tr>\n",
       "      <th>17</th>\n",
       "      <td>GNAS</td>\n",
       "      <td>0.158823</td>\n",
       "      <td>C2</td>\n",
       "      <td>ViT_NB</td>\n",
       "    </tr>\n",
       "    <tr>\n",
       "      <th>18</th>\n",
       "      <td>HSP90AB1</td>\n",
       "      <td>0.313398</td>\n",
       "      <td>C2</td>\n",
       "      <td>ViT_NB</td>\n",
       "    </tr>\n",
       "    <tr>\n",
       "      <th>19</th>\n",
       "      <td>TFF3</td>\n",
       "      <td>0.088524</td>\n",
       "      <td>C2</td>\n",
       "      <td>ViT_NB</td>\n",
       "    </tr>\n",
       "    <tr>\n",
       "      <th>20</th>\n",
       "      <td>ATP1A1</td>\n",
       "      <td>0.314292</td>\n",
       "      <td>C2</td>\n",
       "      <td>ViT_NB</td>\n",
       "    </tr>\n",
       "    <tr>\n",
       "      <th>21</th>\n",
       "      <td>B2M</td>\n",
       "      <td>0.232526</td>\n",
       "      <td>C2</td>\n",
       "      <td>ViT_NB</td>\n",
       "    </tr>\n",
       "    <tr>\n",
       "      <th>22</th>\n",
       "      <td>FASN</td>\n",
       "      <td>0.426722</td>\n",
       "      <td>C2</td>\n",
       "      <td>ViT_NB</td>\n",
       "    </tr>\n",
       "    <tr>\n",
       "      <th>23</th>\n",
       "      <td>SPARC</td>\n",
       "      <td>0.142367</td>\n",
       "      <td>C2</td>\n",
       "      <td>ViT_NB</td>\n",
       "    </tr>\n",
       "    <tr>\n",
       "      <th>24</th>\n",
       "      <td>CD74</td>\n",
       "      <td>0.064615</td>\n",
       "      <td>C2</td>\n",
       "      <td>ViT_NB</td>\n",
       "    </tr>\n",
       "    <tr>\n",
       "      <th>25</th>\n",
       "      <td>CD63</td>\n",
       "      <td>0.334133</td>\n",
       "      <td>C2</td>\n",
       "      <td>ViT_NB</td>\n",
       "    </tr>\n",
       "    <tr>\n",
       "      <th>26</th>\n",
       "      <td>CD24</td>\n",
       "      <td>0.328308</td>\n",
       "      <td>C2</td>\n",
       "      <td>ViT_NB</td>\n",
       "    </tr>\n",
       "    <tr>\n",
       "      <th>27</th>\n",
       "      <td>CD81</td>\n",
       "      <td>0.119989</td>\n",
       "      <td>C2</td>\n",
       "      <td>ViT_NB</td>\n",
       "    </tr>\n",
       "  </tbody>\n",
       "</table>\n",
       "</div>"
      ],
      "text/plain": [
       "        Gene  Pearson correlation Slide   Method\n",
       "0      COX6C             0.116080    C2  STimage\n",
       "1     TTLL12            -0.070850    C2  STimage\n",
       "2     PABPC1             0.307541    C2  STimage\n",
       "3       GNAS             0.158823    C2  STimage\n",
       "4   HSP90AB1             0.313398    C2  STimage\n",
       "5       TFF3             0.088524    C2  STimage\n",
       "6     ATP1A1             0.314292    C2  STimage\n",
       "7        B2M             0.232526    C2  STimage\n",
       "8       FASN             0.426722    C2  STimage\n",
       "9      SPARC             0.142367    C2  STimage\n",
       "10      CD74             0.064615    C2  STimage\n",
       "11      CD63             0.334133    C2  STimage\n",
       "12      CD24             0.328308    C2  STimage\n",
       "13      CD81             0.119989    C2  STimage\n",
       "14     COX6C             0.116080    C2   ViT_NB\n",
       "15    TTLL12            -0.070850    C2   ViT_NB\n",
       "16    PABPC1             0.307541    C2   ViT_NB\n",
       "17      GNAS             0.158823    C2   ViT_NB\n",
       "18  HSP90AB1             0.313398    C2   ViT_NB\n",
       "19      TFF3             0.088524    C2   ViT_NB\n",
       "20    ATP1A1             0.314292    C2   ViT_NB\n",
       "21       B2M             0.232526    C2   ViT_NB\n",
       "22      FASN             0.426722    C2   ViT_NB\n",
       "23     SPARC             0.142367    C2   ViT_NB\n",
       "24      CD74             0.064615    C2   ViT_NB\n",
       "25      CD63             0.334133    C2   ViT_NB\n",
       "26      CD24             0.328308    C2   ViT_NB\n",
       "27      CD81             0.119989    C2   ViT_NB"
      ]
     },
     "execution_count": 12,
     "metadata": {},
     "output_type": "execute_result"
    }
   ],
   "source": [
    "df"
   ]
  },
  {
   "cell_type": "code",
   "execution_count": null,
   "id": "impaired-fellowship",
   "metadata": {},
   "outputs": [],
   "source": []
  },
  {
   "cell_type": "code",
   "execution_count": null,
   "id": "suffering-pasta",
   "metadata": {},
   "outputs": [],
   "source": []
  }
 ],
 "metadata": {
  "kernelspec": {
   "display_name": "Python 3",
   "language": "python",
   "name": "python3"
  },
  "language_info": {
   "codemirror_mode": {
    "name": "ipython",
    "version": 3
   },
   "file_extension": ".py",
   "mimetype": "text/x-python",
   "name": "python",
   "nbconvert_exporter": "python",
   "pygments_lexer": "ipython3",
   "version": "3.8.6"
  }
 },
 "nbformat": 4,
 "nbformat_minor": 5
}
