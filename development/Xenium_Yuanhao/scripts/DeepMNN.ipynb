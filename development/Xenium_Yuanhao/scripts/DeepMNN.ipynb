{
 "cells": [
  {
   "cell_type": "markdown",
   "metadata": {
    "id": "cPqIs3RlDTCi"
   },
   "source": [
    "# Read dataset"
   ]
  },
  {
   "cell_type": "markdown",
   "metadata": {},
   "source": [
    "## Download dataset"
   ]
  },
  {
   "cell_type": "code",
   "execution_count": 1,
   "metadata": {
    "colab": {
     "base_uri": "https://localhost:8080/"
    },
    "id": "yfanGLv8EWLw",
    "outputId": "83ad5251-c4f2-4688-c8c9-d615c841419b"
   },
   "outputs": [
    {
     "name": "stdout",
     "output_type": "stream",
     "text": [
      "  % Total    % Received % Xferd  Average Speed   Time    Time     Time  Current\n",
      "                                 Dload  Upload   Total   Spent    Left  Speed\n",
      "100  114M  100  114M    0     0  9931k      0  0:00:11  0:00:11 --:--:-- 14.8M00:19  0:00:08  0:00:11  177k\n",
      "  % Total    % Received % Xferd  Average Speed   Time    Time     Time  Current\n",
      "                                 Dload  Upload   Total   Spent    Left  Speed\n",
      "100 48.1M  100 48.1M    0     0  77.3M      0 --:--:-- --:--:-- --:--:-- 77.2M\n",
      "  % Total    % Received % Xferd  Average Speed   Time    Time     Time  Current\n",
      "                                 Dload  Upload   Total   Spent    Left  Speed\n",
      "100 87.3M  100 87.3M    0     0  12.6M      0  0:00:06  0:00:06 --:--:-- 15.7M\n"
     ]
    }
   ],
   "source": [
    "# !curl -O https://cf.10xgenomics.com/samples/cell-vdj/7.0.1/SC5v2_GEX_Breast_Cancer_DTC_Aggr/SC5v2_GEX_Breast_Cancer_DTC_Aggr_count_filtered_feature_bc_matrix.h5\n",
    "# !curl -O https://cf.10xgenomics.com/samples/cell-exp/7.0.1/SC3pv3_GEX_Breast_Cancer_DTC_Aggr/SC3pv3_GEX_Breast_Cancer_DTC_Aggr_count_filtered_feature_bc_matrix.h5\n",
    "# !curl -O https://cf.10xgenomics.com/samples/cell-exp/7.0.1/Chromium_FFPE_Human_Breast_Cancer_Chromium_FFPE_Human_Breast_Cancer/Chromium_FFPE_Human_Breast_Cancer_Chromium_FFPE_Human_Breast_Cancer_count_sample_filtered_feature_bc_matrix.h5\n"
   ]
  },
  {
   "cell_type": "code",
   "execution_count": 2,
   "metadata": {
    "colab": {
     "base_uri": "https://localhost:8080/"
    },
    "id": "k-ymJWTwBvNJ",
    "outputId": "fb3a7dc1-bf21-4271-ed28-5a2de7cb96d2"
   },
   "outputs": [
    {
     "name": "stderr",
     "output_type": "stream",
     "text": [
      "/opt/anaconda3/envs/torch2py38/lib/python3.8/site-packages/anndata/_core/anndata.py:1840: UserWarning: Variable names are not unique. To make them unique, call `.var_names_make_unique`.\n",
      "  utils.warn_names_duplicates(\"var\")\n",
      "/opt/anaconda3/envs/torch2py38/lib/python3.8/site-packages/anndata/_core/anndata.py:1840: UserWarning: Variable names are not unique. To make them unique, call `.var_names_make_unique`.\n",
      "  utils.warn_names_duplicates(\"var\")\n",
      "/opt/anaconda3/envs/torch2py38/lib/python3.8/site-packages/anndata/_core/anndata.py:1840: UserWarning: Variable names are not unique. To make them unique, call `.var_names_make_unique`.\n",
      "  utils.warn_names_duplicates(\"var\")\n",
      "/opt/anaconda3/envs/torch2py38/lib/python3.8/site-packages/anndata/_core/anndata.py:1840: UserWarning: Variable names are not unique. To make them unique, call `.var_names_make_unique`.\n",
      "  utils.warn_names_duplicates(\"var\")\n",
      "/opt/anaconda3/envs/torch2py38/lib/python3.8/site-packages/anndata/_core/anndata.py:1840: UserWarning: Variable names are not unique. To make them unique, call `.var_names_make_unique`.\n",
      "  utils.warn_names_duplicates(\"var\")\n",
      "/opt/anaconda3/envs/torch2py38/lib/python3.8/site-packages/anndata/_core/anndata.py:1840: UserWarning: Variable names are not unique. To make them unique, call `.var_names_make_unique`.\n",
      "  utils.warn_names_duplicates(\"var\")\n"
     ]
    }
   ],
   "source": [
    "import scanpy as sc\n",
    "import pandas as pd\n",
    "\n",
    "xenium_df = sc.read_10x_h5(\"Chromium_FFPE_Human_Breast_Cancer_Chromium_FFPE_Human_Breast_Cancer_count_sample_filtered_feature_bc_matrix.h5\")\n",
    "sc1 = sc.read_10x_h5(\"SC3pv3_GEX_Breast_Cancer_DTC_Aggr_count_filtered_feature_bc_matrix.h5\")\n",
    "sc2 = sc.read_10x_h5(\"SC5v2_GEX_Breast_Cancer_DTC_Aggr_count_filtered_feature_bc_matrix.h5\")\n",
    "adatas = [xenium_df, sc1, sc2]"
   ]
  },
  {
   "cell_type": "code",
   "execution_count": 3,
   "metadata": {
    "colab": {
     "base_uri": "https://localhost:8080/"
    },
    "id": "jdnPXc3XCa-C",
    "outputId": "ca1d341d-e290-4caa-88af-e26cd9aacae1"
   },
   "outputs": [
    {
     "data": {
      "text/plain": [
       "AnnData object with n_obs × n_vars = 30365 × 18082\n",
       "    var: 'gene_ids', 'feature_types', 'genome'"
      ]
     },
     "execution_count": 3,
     "metadata": {},
     "output_type": "execute_result"
    }
   ],
   "source": [
    "xenium_df"
   ]
  },
  {
   "cell_type": "code",
   "execution_count": 4,
   "metadata": {
    "colab": {
     "base_uri": "https://localhost:8080/"
    },
    "id": "LPd9gNk3CbQg",
    "outputId": "8a90cde0-a413-4631-c47a-c50cddee7f32"
   },
   "outputs": [
    {
     "data": {
      "text/plain": [
       "AnnData object with n_obs × n_vars = 12388 × 36601\n",
       "    var: 'gene_ids', 'feature_types', 'genome'"
      ]
     },
     "execution_count": 4,
     "metadata": {},
     "output_type": "execute_result"
    }
   ],
   "source": [
    "sc1"
   ]
  },
  {
   "cell_type": "code",
   "execution_count": 5,
   "metadata": {
    "colab": {
     "base_uri": "https://localhost:8080/"
    },
    "id": "8hYJtFicC-gW",
    "outputId": "0db6e124-dbc6-4ac0-fa07-c50991ad420b"
   },
   "outputs": [
    {
     "data": {
      "text/plain": [
       "AnnData object with n_obs × n_vars = 22969 × 36601\n",
       "    var: 'gene_ids', 'feature_types', 'genome'"
      ]
     },
     "execution_count": 5,
     "metadata": {},
     "output_type": "execute_result"
    }
   ],
   "source": [
    "sc2"
   ]
  },
  {
   "cell_type": "markdown",
   "metadata": {
    "id": "330oyenOEzIv"
   },
   "source": [
    "## Preprocessing"
   ]
  },
  {
   "cell_type": "code",
   "execution_count": 6,
   "metadata": {
    "id": "P0HA4UNcE1nt"
   },
   "outputs": [],
   "source": [
    "for adata in adatas:\n",
    "  adata.var_names_make_unique()\n",
    "  sc.pp.log1p(adata)\n",
    "  sc.pp.normalize_total(adata)\n",
    "  sc.pp.pca(adata)\n"
   ]
  },
  {
   "cell_type": "markdown",
   "metadata": {
    "id": "pOADAKoBDPCO"
   },
   "source": [
    "# Find the matches by MNN"
   ]
  },
  {
   "cell_type": "code",
   "execution_count": 8,
   "metadata": {
    "colab": {
     "base_uri": "https://localhost:8080/"
    },
    "id": "YWm2hdagDjus",
    "outputId": "454eaedf-20b7-4e53-d9f9-71abaf7d3588"
   },
   "outputs": [
    {
     "name": "stdout",
     "output_type": "stream",
     "text": [
      "Defaulting to user installation because normal site-packages is not writeable\n",
      "Requirement already satisfied: fbpca in /home/uqxjin3/.local/lib/python3.8/site-packages (1.0)\n",
      "Defaulting to user installation because normal site-packages is not writeable\n",
      "Requirement already satisfied: annoy in /home/uqxjin3/.local/lib/python3.8/site-packages (1.17.3)\n",
      "Defaulting to user installation because normal site-packages is not writeable\n",
      "Requirement already satisfied: intervaltree in /home/uqxjin3/.local/lib/python3.8/site-packages (3.1.0)\n",
      "Requirement already satisfied: sortedcontainers<3.0,>=2.0 in /home/uqxjin3/.local/lib/python3.8/site-packages (from intervaltree) (2.4.0)\n"
     ]
    }
   ],
   "source": [
    "# !pip install fbpca\n",
    "# !pip install annoy\n",
    "# !pip install intervaltree"
   ]
  },
  {
   "cell_type": "code",
   "execution_count": 7,
   "metadata": {
    "id": "Vb7bVKDiDOMO"
   },
   "outputs": [],
   "source": [
    "import torch\n",
    "import operator\n",
    "import numpy as np\n",
    "import scanpy as sc\n",
    "from fbpca import pca\n",
    "from annoy import AnnoyIndex\n",
    "from intervaltree import IntervalTree\n",
    "from sklearn.preprocessing import normalize\n",
    "from sklearn.neighbors import NearestNeighbors\n",
    "from scipy.sparse import csr_matrix, vstack\n"
   ]
  },
  {
   "cell_type": "code",
   "execution_count": 8,
   "metadata": {
    "id": "2gshyJxxC-2u"
   },
   "outputs": [],
   "source": [
    "# Default parameters.\n",
    "ALPHA = 0.10\n",
    "APPROX = True\n",
    "KNN = 10\n",
    "VERBOSE = 2\n",
    "\n",
    "# Exact nearest neighbors search.\n",
    "def nn(ds1, ds2, knn=KNN, metric_p=2):\n",
    "    # Find nearest neighbors of first dataset.\n",
    "    nn_ = NearestNeighbors(knn, p=metric_p)\n",
    "    nn_.fit(ds2)\n",
    "    ind = nn_.kneighbors(ds1, return_distance=False)\n",
    "\n",
    "    match = set()\n",
    "    for a, b in zip(range(ds1.shape[0]), ind):\n",
    "        for b_i in b:\n",
    "            match.add((a, b_i))\n",
    "    print(\"Find the matches\")\n",
    "    return match\n",
    "\n",
    "# Approximate nearest neighbors using locality sensitive hashing.\n",
    "def nn_approx(ds1, ds2, knn=KNN, metric='manhattan', n_trees=10):\n",
    "    # Build index.\n",
    "    a = AnnoyIndex(ds2.shape[1], metric=metric) # The distance can be \"angular\", \"euclidean\", \"manhattan\", \"hamming\", or \"dot\".\n",
    "    for i in range(ds2.shape[0]):\n",
    "        a.add_item(i, ds2[i, :])\n",
    "    a.build(n_trees, n_jobs=-1)\n",
    "\n",
    "    # Search index.\n",
    "    ind = []\n",
    "    for i in range(ds1.shape[0]):\n",
    "        ind.append(a.get_nns_by_vector(ds1[i, :], knn, search_k=-1))\n",
    "    ind = np.array(ind)\n",
    "\n",
    "    # Match.\n",
    "    match = set()\n",
    "    for a, b in zip(range(ds1.shape[0]), ind):\n",
    "        for b_i in b:\n",
    "            match.add((a, b_i))\n",
    "    print(\"Find the matches\")\n",
    "    return match\n",
    "\n",
    "# Populate a table (in place) that stores mutual nearest neighbors\n",
    "# between datasets.\n",
    "def fill_table(table, i, curr_ds, datasets, base_ds=0, knn=KNN, approx=APPROX, ):\n",
    "    # Concat reference dataset\n",
    "    curr_ref = np.concatenate(datasets)\n",
    "    if approx:\n",
    "        match = nn_approx(curr_ds, curr_ref, knn=knn)\n",
    "    else:\n",
    "        match = nn(curr_ds, curr_ref, knn=knn, metric_p=1)\n",
    "\n",
    "    # Build interval tree.\n",
    "    itree_ds_idx = IntervalTree()\n",
    "    itree_pos_base = IntervalTree()\n",
    "    pos = 0\n",
    "    for j in range(len(datasets)):\n",
    "        n_cells = datasets[j].shape[0]\n",
    "        itree_ds_idx[pos:(pos + n_cells)] = base_ds + j\n",
    "        itree_pos_base[pos:(pos + n_cells)] = pos\n",
    "        pos += n_cells\n",
    "\n",
    "    # Store all mutual nearest neighbors between datasets.\n",
    "    for d, r in match:\n",
    "        interval = itree_ds_idx[r]\n",
    "        assert(len(interval) == 1)\n",
    "        j = interval.pop().data\n",
    "        interval = itree_pos_base[r]\n",
    "        assert(len(interval) == 1)\n",
    "        base = interval.pop().data\n",
    "        if not (i, j) in table:\n",
    "            table[(i, j)] = set()\n",
    "        table[(i, j)].add((d, r - base))\n",
    "        assert(r - base >= 0)\n",
    "    print(\"Fill the table\")\n",
    "\n",
    "# Fill table of alignment scores.\n",
    "def find_alignments_table(datasets, knn=KNN, approx=APPROX, verbose=VERBOSE, prenormalized=False):\n",
    "    if not prenormalized:\n",
    "        datasets = [ normalize(ds, axis=1) for ds in datasets ]\n",
    "\n",
    "    table = {}\n",
    "    for i in range(len(datasets)):\n",
    "        if len(datasets[:i]) > 0:\n",
    "            fill_table(table, i, datasets[i], datasets[:i], knn=knn,\n",
    "                       approx=approx)\n",
    "        if len(datasets[i+1:]) > 0:\n",
    "            fill_table(table, i, datasets[i], datasets[i+1:],\n",
    "                       knn=knn, base_ds=i+1, approx=approx)\n",
    "\n",
    "    # Count all mutual nearest neighbors between datasets.\n",
    "    matches = {}\n",
    "    table1 = {}\n",
    "    if verbose > 1:\n",
    "        table_print = np.zeros((len(datasets), len(datasets)))\n",
    "    for i in range(len(datasets)):\n",
    "        for j in range(len(datasets)):\n",
    "            if i >= j:\n",
    "                continue\n",
    "            if not (i, j) in table or not (j, i) in table:\n",
    "                continue\n",
    "            match_ij = table[(i, j)]\n",
    "            match_ji = set([ (b, a) for a, b in table[(j, i)] ])\n",
    "            matches[(i, j)] = match_ij & match_ji\n",
    "\n",
    "            table1[(i, j)] = (max(\n",
    "                float(len(set([ idx for idx, _ in matches[(i, j)] ]))) /\n",
    "                datasets[i].shape[0],\n",
    "                float(len(set([ idx for _, idx in matches[(i, j)] ]))) /\n",
    "                datasets[j].shape[0]\n",
    "            ))\n",
    "            if verbose > 1:\n",
    "                table_print[i, j] += table1[(i, j)]\n",
    "\n",
    "    if verbose > 1:\n",
    "        print(table_print)\n",
    "        return table1, table_print, matches\n",
    "    else:\n",
    "        return table1, None, matches\n",
    "\n",
    "# Find the matching pairs of cells between datasets.\n",
    "def find_alignments(datasets, knn=KNN, approx=APPROX, verbose=VERBOSE, alpha=ALPHA, prenormalized=False):\n",
    "    table1, _, matches = find_alignments_table(\n",
    "        datasets, knn=knn, approx=approx, verbose=verbose,\n",
    "        prenormalized=prenormalized,\n",
    "    )\n",
    "\n",
    "    alignments = [ (i, j) for (i, j), val in reversed(\n",
    "        sorted(table1.items(), key=operator.itemgetter(1))\n",
    "    ) if val > alpha ]\n",
    "\n",
    "    return alignments, matches"
   ]
  },
  {
   "cell_type": "markdown",
   "metadata": {},
   "source": [
    "## Display the matched table"
   ]
  },
  {
   "cell_type": "code",
   "execution_count": 9,
   "metadata": {
    "colab": {
     "base_uri": "https://localhost:8080/"
    },
    "id": "TB0B-UqaEQva",
    "outputId": "328c0884-2593-464c-d396-cf59361b1331"
   },
   "outputs": [
    {
     "name": "stdout",
     "output_type": "stream",
     "text": [
      "Find the matches\n",
      "Fill the table\n",
      "Find the matches\n",
      "Fill the table\n",
      "Find the matches\n",
      "Fill the table\n",
      "Find the matches\n",
      "Fill the table\n",
      "[[0.         0.08475944 0.03204347]\n",
      " [0.         0.         0.2208589 ]\n",
      " [0.         0.         0.        ]]\n"
     ]
    }
   ],
   "source": [
    "# Default parameters.\n",
    "# ALPHA is the threshold for the correlation score, the score of matached cell pairs will keep if value is greater than ALPHA\n",
    "# APPROX to control whether using KNN, KNN = 1 if APPROX = False.\n",
    "\n",
    "ALPHA = 0.05\n",
    "APPROX = True\n",
    "KNN = 20\n",
    "VERBOSE = 2\n",
    "\n",
    "datasets_pca = [adata.copy().obsm['X_pca'] for adata in adatas]\n",
    "# datasets = [adata.X.toarray() for adata in adatas]\n",
    "\n",
    "# Find MNN\n",
    "# Input data can be the raw data or processed data such as pca\n",
    "alignments, matches = find_alignments(datasets_pca, knn=KNN, approx=APPROX, verbose=VERBOSE, alpha=ALPHA)\n",
    "match = []\n",
    "for i, j in alignments:\n",
    "    base_i, base_j = 0, 0\n",
    "    for k in range(i):\n",
    "        base_i += adatas[k].shape[0]\n",
    "    for k in range(j):\n",
    "        base_j += adatas[k].shape[0]\n",
    "    match.extend([ (a + base_i, b + base_j) for a, b in matches[(i, j)] ])\n",
    "match = np.array([[a,b] for a, b in match])\n"
   ]
  },
  {
   "cell_type": "code",
   "execution_count": 10,
   "metadata": {
    "colab": {
     "base_uri": "https://localhost:8080/",
     "height": 424
    },
    "id": "vHvaacs5MLZx",
    "outputId": "70d6ce9f-d238-48e3-8086-3c189971e584"
   },
   "outputs": [
    {
     "data": {
      "text/html": [
       "<div>\n",
       "<style scoped>\n",
       "    .dataframe tbody tr th:only-of-type {\n",
       "        vertical-align: middle;\n",
       "    }\n",
       "\n",
       "    .dataframe tbody tr th {\n",
       "        vertical-align: top;\n",
       "    }\n",
       "\n",
       "    .dataframe thead th {\n",
       "        text-align: right;\n",
       "    }\n",
       "</style>\n",
       "<table border=\"1\" class=\"dataframe\">\n",
       "  <thead>\n",
       "    <tr style=\"text-align: right;\">\n",
       "      <th></th>\n",
       "      <th>cur_ds</th>\n",
       "      <th>ref_ds</th>\n",
       "    </tr>\n",
       "  </thead>\n",
       "  <tbody>\n",
       "    <tr>\n",
       "      <th>9106</th>\n",
       "      <td>12890</td>\n",
       "      <td>38694</td>\n",
       "    </tr>\n",
       "    <tr>\n",
       "      <th>9107</th>\n",
       "      <td>3843</td>\n",
       "      <td>40895</td>\n",
       "    </tr>\n",
       "    <tr>\n",
       "      <th>9108</th>\n",
       "      <td>11219</td>\n",
       "      <td>31586</td>\n",
       "    </tr>\n",
       "    <tr>\n",
       "      <th>9109</th>\n",
       "      <td>22126</td>\n",
       "      <td>34113</td>\n",
       "    </tr>\n",
       "    <tr>\n",
       "      <th>9110</th>\n",
       "      <td>2938</td>\n",
       "      <td>31520</td>\n",
       "    </tr>\n",
       "    <tr>\n",
       "      <th>...</th>\n",
       "      <td>...</td>\n",
       "      <td>...</td>\n",
       "    </tr>\n",
       "    <tr>\n",
       "      <th>12718</th>\n",
       "      <td>2506</td>\n",
       "      <td>37749</td>\n",
       "    </tr>\n",
       "    <tr>\n",
       "      <th>12719</th>\n",
       "      <td>29781</td>\n",
       "      <td>31795</td>\n",
       "    </tr>\n",
       "    <tr>\n",
       "      <th>12720</th>\n",
       "      <td>9762</td>\n",
       "      <td>34000</td>\n",
       "    </tr>\n",
       "    <tr>\n",
       "      <th>12721</th>\n",
       "      <td>10085</td>\n",
       "      <td>42238</td>\n",
       "    </tr>\n",
       "    <tr>\n",
       "      <th>12722</th>\n",
       "      <td>14079</td>\n",
       "      <td>37656</td>\n",
       "    </tr>\n",
       "  </tbody>\n",
       "</table>\n",
       "<p>3617 rows × 2 columns</p>\n",
       "</div>"
      ],
      "text/plain": [
       "       cur_ds  ref_ds\n",
       "9106    12890   38694\n",
       "9107     3843   40895\n",
       "9108    11219   31586\n",
       "9109    22126   34113\n",
       "9110     2938   31520\n",
       "...       ...     ...\n",
       "12718    2506   37749\n",
       "12719   29781   31795\n",
       "12720    9762   34000\n",
       "12721   10085   42238\n",
       "12722   14079   37656\n",
       "\n",
       "[3617 rows x 2 columns]"
      ]
     },
     "execution_count": 10,
     "metadata": {},
     "output_type": "execute_result"
    }
   ],
   "source": [
    "# Display the matched table\n",
    "# cur_ds is Xenium dataset\n",
    "# ref_ds is concatenation of Xenium and SC dataset\n",
    "match_tbl = pd.DataFrame(match)\n",
    "match_tbl.columns = [\"cur_ds\", \"ref_ds\"]\n",
    "match_tbl = match_tbl[match_tbl['cur_ds']<=adatas[0].shape[0]]\n",
    "match_tbl"
   ]
  },
  {
   "cell_type": "code",
   "execution_count": 13,
   "metadata": {
    "colab": {
     "base_uri": "https://localhost:8080/"
    },
    "id": "01OkKgZuJDYm",
    "outputId": "5afb250f-75f8-42db-c89c-77093dd12b20"
   },
   "outputs": [
    {
     "name": "stderr",
     "output_type": "stream",
     "text": [
      "/opt/anaconda3/envs/torch2py38/lib/python3.8/site-packages/anndata/_core/anndata.py:1838: UserWarning: Observation names are not unique. To make them unique, call `.obs_names_make_unique`.\n",
      "  utils.warn_names_duplicates(\"obs\")\n"
     ]
    },
    {
     "data": {
      "text/plain": [
       "AnnData object with n_obs × n_vars = 65722 × 18082\n",
       "    obsm: 'X_pca'"
      ]
     },
     "execution_count": 13,
     "metadata": {},
     "output_type": "execute_result"
    }
   ],
   "source": [
    "# Construct a new adata from Xenium data and SC data\n",
    "# We extract gene expression from SC data, but keep the attribute of Xenium dataset(Xenium adata.obs).\n",
    "import anndata as ad\n",
    "cur_adata = xenium_df\n",
    "ref_adata = ad.concat([xenium_df, sc1, sc2])\n",
    "ref_adata.obs_names_make_unique()\n",
    "ref_adata"
   ]
  },
  {
   "cell_type": "code",
   "execution_count": 16,
   "metadata": {},
   "outputs": [],
   "source": [
    "new_adata = ref_adata.to_df().iloc[match_tbl.ref_ds, :]\n",
    "new_obs = cur_adata.obs.iloc[match_tbl.cur_ds,:]"
   ]
  },
  {
   "cell_type": "code",
   "execution_count": 32,
   "metadata": {},
   "outputs": [
    {
     "name": "stderr",
     "output_type": "stream",
     "text": [
      "/opt/anaconda3/envs/torch2py38/lib/python3.8/site-packages/scanpy/preprocessing/_qc.py:135: SettingWithCopyWarning: \n",
      "A value is trying to be set on a copy of a slice from a DataFrame.\n",
      "Try using .loc[row_indexer,col_indexer] = value instead\n",
      "\n",
      "See the caveats in the documentation: https://pandas.pydata.org/pandas-docs/stable/user_guide/indexing.html#returning-a-view-versus-a-copy\n",
      "  adata.obs[obs_metrics.columns] = obs_metrics\n"
     ]
    },
    {
     "data": {
      "text/plain": [
       "AnnData object with n_obs × n_vars = 3617 × 18082\n",
       "    obs: 'n_genes_by_counts', 'log1p_n_genes_by_counts', 'total_counts', 'log1p_total_counts', 'pct_counts_in_top_50_genes', 'pct_counts_in_top_100_genes', 'pct_counts_in_top_200_genes', 'pct_counts_in_top_500_genes'\n",
       "    var: 'n_cells_by_counts', 'mean_counts', 'log1p_mean_counts', 'pct_dropout_by_counts', 'total_counts', 'log1p_total_counts'"
      ]
     },
     "execution_count": 32,
     "metadata": {},
     "output_type": "execute_result"
    }
   ],
   "source": [
    "new_adata = ad.AnnData(new_adata)\n",
    "new_adata.obs = new_obs\n",
    "new_adata.obs_names_make_unique()\n",
    "sc.pp.calculate_qc_metrics(new_adata, inplace=True)\n",
    "new_adata"
   ]
  },
  {
   "cell_type": "code",
   "execution_count": 33,
   "metadata": {
    "id": "nxonHIVyqP3g"
   },
   "outputs": [
    {
     "data": {
      "text/plain": [
       "<seaborn.axisgrid.JointGrid at 0x7efd4166b4c0>"
      ]
     },
     "execution_count": 33,
     "metadata": {},
     "output_type": "execute_result"
    },
    {
     "data": {
      "image/png": "[encoded data removed]",
      "text/plain": [
       "<Figure size 600x600 with 3 Axes>"
      ]
     },
     "metadata": {},
     "output_type": "display_data"
    }
   ],
   "source": [
    "import seaborn as sns\n",
    "sns.jointplot(\n",
    "    data=new_adata.obs,\n",
    "    x=\"log1p_total_counts\",\n",
    "    y=\"log1p_n_genes_by_counts\",\n",
    "    kind=\"hex\",\n",
    ")\n"
   ]
  },
  {
   "cell_type": "code",
   "execution_count": 34,
   "metadata": {},
   "outputs": [
    {
     "data": {
      "text/plain": [
       "AnnData object with n_obs × n_vars = 3617 × 18082\n",
       "    obs: 'n_genes_by_counts', 'log1p_n_genes_by_counts', 'total_counts', 'log1p_total_counts', 'pct_counts_in_top_50_genes', 'pct_counts_in_top_100_genes', 'pct_counts_in_top_200_genes', 'pct_counts_in_top_500_genes'\n",
       "    var: 'n_cells_by_counts', 'mean_counts', 'log1p_mean_counts', 'pct_dropout_by_counts', 'total_counts', 'log1p_total_counts'"
      ]
     },
     "execution_count": 34,
     "metadata": {},
     "output_type": "execute_result"
    }
   ],
   "source": [
    "new_adata"
   ]
  },
  {
   "cell_type": "markdown",
   "metadata": {},
   "source": [
    "# Reference"
   ]
  },
  {
   "cell_type": "markdown",
   "metadata": {},
   "source": [
    "[1] MNN algorithm is modified from https://github.com/zoubin-ai/deepMNN/blob/main/deepMNN/deep_batch_correction.py\n"
   ]
  }
 ],
 "metadata": {
  "colab": {
   "provenance": []
  },
  "kernelspec": {
   "display_name": "Python 3 (ipykernel)",
   "language": "python",
   "name": "python3"
  },
  "language_info": {
   "codemirror_mode": {
    "name": "ipython",
    "version": 3
   },
   "file_extension": ".py",
   "mimetype": "text/x-python",
   "name": "python",
   "nbconvert_exporter": "python",
   "pygments_lexer": "ipython3",
   "version": "3.8.17"
  }
 },
 "nbformat": 4,
 "nbformat_minor": 4
}
