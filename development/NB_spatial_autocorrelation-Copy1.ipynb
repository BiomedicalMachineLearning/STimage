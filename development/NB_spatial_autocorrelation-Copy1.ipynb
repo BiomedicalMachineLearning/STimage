{
 "cells": [
  {
   "cell_type": "code",
   "execution_count": null,
   "id": "boolean-nursery",
   "metadata": {},
   "outputs": [],
   "source": [
    "import sys\n",
    "import stlearn as st\n",
    "st.settings.set_figure_params(dpi=300)\n",
    "from pathlib import Path\n",
    "import pandas as pd\n",
    "import matplotlib.pyplot as plt\n",
    "import matplotlib\n",
    "import sys\n",
    "file = Path(\"../stimage\").resolve()\n",
    "parent= file.parent\n",
    "sys.path.append(str(parent))\n",
    "from PIL import Image\n",
    "from stimage._utils import gene_plot, Read10X, ReadOldST, tiling\n",
    "from stimage._model import CNN_NB_multiple_genes\n",
    "from stimage._data_generator import DataGenerator\n",
    "import tensorflow as tf\n",
    "import seaborn as sns\n",
    "sns.set_style(\"white\")\n",
    "import matplotlib.pyplot as plt\n",
    "from scipy import stats\n",
    "from anndata import read_h5ad\n",
    "import numpy as np"
   ]
  },
  {
   "cell_type": "code",
   "execution_count": null,
   "id": "amateur-travel",
   "metadata": {},
   "outputs": [],
   "source": [
    "import matplotlib.pyplot as plt\n",
    "from libpysal.weights.contiguity import Queen\n",
    "from libpysal import examples\n",
    "import numpy as np\n",
    "import pandas as pd\n",
    "import geopandas as gpd\n",
    "import os\n",
    "import splot\n",
    "from splot.esda import moran_scatterplot, lisa_cluster\n",
    "from esda.moran import Moran, Moran_Local\n",
    "from esda.moran import Moran_BV, Moran_Local_BV\n",
    "from splot.esda import plot_moran_bv_simulation, plot_moran_bv, plot_local_autocorrelation"
   ]
  },
  {
   "cell_type": "code",
   "execution_count": null,
   "id": "equipped-delight",
   "metadata": {},
   "outputs": [],
   "source": [
    "from scipy import stats\n",
    "\n",
    "def plot_correlation(df, attr_1, attr_2):\n",
    "    r = stats.pearsonr(df[attr_1], \n",
    "                       df[attr_2])[0] **2\n",
    "\n",
    "    g = sns.lmplot(data=df,\n",
    "        x=attr_1, y=attr_2,\n",
    "        height=5, legend=True\n",
    "    )\n",
    "    # g.set(ylim=(0, 360), xlim=(0,360))\n",
    "\n",
    "    g.set_axis_labels(attr_1, attr_2)\n",
    "    plt.annotate(r'$R^2:{0:.2f}$'.format(r),\n",
    "                (max(df[attr_1])*0.9, max(df[attr_2])*0.9))\n",
    "    return g\n",
    "\n",
    "\n",
    "def calculate_correlation(attr_1, attr_2):\n",
    "    r = stats.pearsonr(attr_1, \n",
    "                       attr_2)[0]\n",
    "    return r\n",
    "\n",
    "def calculate_correlation_2(attr_1, attr_2):\n",
    "    r = stats.spearmanr(attr_1, \n",
    "                       attr_2)[0]\n",
    "    return r"
   ]
  },
  {
   "cell_type": "code",
   "execution_count": null,
   "id": "furnished-elder",
   "metadata": {},
   "outputs": [],
   "source": [
    "BASE_PATH = Path(\"/scratch/imb/Xiao/Q1851/Xiao/STimage/experiments/cnn_base\")"
   ]
  },
  {
   "cell_type": "code",
   "execution_count": null,
   "id": "broadband-success",
   "metadata": {},
   "outputs": [],
   "source": [
    "BASE_PATH = Path(\"/scratch/imb/Xiao/Q1851/Xiao/STimage/experiments/cnn_base_2000_hvg\")"
   ]
  },
  {
   "cell_type": "code",
   "execution_count": null,
   "id": "committed-demand",
   "metadata": {},
   "outputs": [],
   "source": [
    "cnn_bases = [\"inceptionv3_ft\", \"densenet121_ft\", \"mobilenetv2_ft\", \"resnet50_ft\", \"vgg16_ft\", \"xception_ft\"]"
   ]
  },
  {
   "cell_type": "code",
   "execution_count": null,
   "id": "whole-lambda",
   "metadata": {},
   "outputs": [],
   "source": []
  },
  {
   "cell_type": "code",
   "execution_count": null,
   "id": "municipal-worthy",
   "metadata": {},
   "outputs": [],
   "source": []
  },
  {
   "cell_type": "code",
   "execution_count": null,
   "id": "familiar-lambda",
   "metadata": {},
   "outputs": [],
   "source": []
  },
  {
   "cell_type": "code",
   "execution_count": null,
   "id": "infinite-financing",
   "metadata": {},
   "outputs": [],
   "source": [
    "gene_list=[\"SLITRK6\", \"PGM5\", \"LINC00645\", \n",
    "           \"TTLL12\", \"COX6C\", \"CPB1\",\n",
    "           \"KRT5\", \"MALAT1\"]\n",
    "gene_list"
   ]
  },
  {
   "cell_type": "code",
   "execution_count": null,
   "id": "fuzzy-sydney",
   "metadata": {},
   "outputs": [],
   "source": [
    "cnn_base =  cnn_bases[0]"
   ]
  },
  {
   "cell_type": "code",
   "execution_count": null,
   "id": "western-respondent",
   "metadata": {},
   "outputs": [],
   "source": [
    "test_dataset = read_h5ad(\"/scratch/imb/Xiao/Q1851/Xiao/STimage_dataset/breast_cancer_10x_visium/dataset_2/test_adata.h5ad\") "
   ]
  },
  {
   "cell_type": "code",
   "execution_count": null,
   "id": "embedded-immigration",
   "metadata": {},
   "outputs": [],
   "source": [
    "pred_adata = read_h5ad(BASE_PATH/cnn_base / \"prediction.h5ad\") "
   ]
  },
  {
   "cell_type": "code",
   "execution_count": null,
   "id": "bright-elephant",
   "metadata": {},
   "outputs": [],
   "source": [
    "pred_adata.obs"
   ]
  },
  {
   "cell_type": "code",
   "execution_count": null,
   "id": "blessed-thermal",
   "metadata": {},
   "outputs": [],
   "source": [
    "df = pd.DataFrame()\n",
    "for cnn_base in cnn_bases:\n",
    "    pred_adata = read_h5ad(BASE_PATH/cnn_base / \"prediction.h5ad\")\n",
    "    for gene in pred_adata.var_names:\n",
    "        cor_val = calculate_correlation(pred_adata.to_df().loc[:,gene], test_dataset.to_df().loc[:,gene])\n",
    "        df = df.append(pd.Series([cnn_base, gene, cor_val], index=[\"cnn_base\", \"gene\", \"pearson_cor\"]),\n",
    "                  ignore_index=True)"
   ]
  },
  {
   "cell_type": "code",
   "execution_count": null,
   "id": "direct-minimum",
   "metadata": {},
   "outputs": [],
   "source": [
    "df.groupby(\"cnn_base\").std()"
   ]
  },
  {
   "cell_type": "code",
   "execution_count": null,
   "id": "italian-employment",
   "metadata": {},
   "outputs": [],
   "source": [
    "df.groupby(\"cnn_base\").mean()"
   ]
  },
  {
   "cell_type": "code",
   "execution_count": null,
   "id": "greatest-springer",
   "metadata": {},
   "outputs": [],
   "source": [
    "df = pd.DataFrame()\n",
    "for cnn_base in cnn_bases:\n",
    "    pred_adata = read_h5ad(BASE_PATH/cnn_base / \"prediction.h5ad\")\n",
    "    for gene in pred_adata.var_names:\n",
    "        cor_val = calculate_correlation_2(pred_adata.to_df().loc[:,gene], test_dataset.to_df().loc[:,gene])\n",
    "        df = df.append(pd.Series([cnn_base, gene, cor_val], index=[\"cnn_base\", \"gene\", \"pearson_cor\"]),\n",
    "                  ignore_index=True)"
   ]
  },
  {
   "cell_type": "code",
   "execution_count": null,
   "id": "norwegian-strengthening",
   "metadata": {},
   "outputs": [],
   "source": [
    "df.groupby(\"cnn_base\").std()"
   ]
  },
  {
   "cell_type": "code",
   "execution_count": null,
   "id": "noble-stake",
   "metadata": {},
   "outputs": [],
   "source": [
    "df.groupby(\"cnn_base\").mean()"
   ]
  },
  {
   "cell_type": "code",
   "execution_count": null,
   "id": "impossible-medicaid",
   "metadata": {},
   "outputs": [],
   "source": [
    "df = pd.DataFrame()\n",
    "for cnn_base in cnn_bases:\n",
    "    pred_adata = read_h5ad(BASE_PATH/cnn_base / \"prediction.h5ad\")\n",
    "    for gene in pred_adata.var_names:\n",
    "        test_dataset.obsm[\"gpd\"] = gpd.GeoDataFrame(test_dataset.obs,\n",
    "                                             geometry=gpd.points_from_xy(\n",
    "                                                 test_dataset.obs.imagecol, \n",
    "                                                 test_dataset.obs.imagerow))\n",
    "        x = test_dataset.to_df()[gene].values\n",
    "        y = pred_adata.to_df()[gene].values\n",
    "        w = Queen.from_dataframe(test_dataset.obsm[\"gpd\"])\n",
    "        moran = Moran(y,w)\n",
    "        moran_bv = Moran_BV(y, x, w)\n",
    "        moran_loc = Moran_Local(y, w)\n",
    "        moran_loc_bv = Moran_Local_BV(y, x, w)\n",
    "        df = df.append(pd.Series([cnn_base, gene, moran_bv.I], index=[\"cnn_base\", \"gene\", \"pearson_cor\"]),\n",
    "                  ignore_index=True)"
   ]
  },
  {
   "cell_type": "code",
   "execution_count": null,
   "id": "completed-storage",
   "metadata": {},
   "outputs": [],
   "source": [
    "df.groupby(\"cnn_base\").std()"
   ]
  },
  {
   "cell_type": "code",
   "execution_count": null,
   "id": "congressional-principal",
   "metadata": {},
   "outputs": [],
   "source": [
    "df.groupby(\"cnn_base\").mean()"
   ]
  },
  {
   "cell_type": "code",
   "execution_count": null,
   "id": "applicable-architect",
   "metadata": {},
   "outputs": [],
   "source": [
    "BASE_PATH = Path(\"/scratch/imb/Xiao/Q1851/Xiao/STimage/experiments/cnn_base_2000_hvg/resnet50_ft\")"
   ]
  },
  {
   "cell_type": "code",
   "execution_count": null,
   "id": "freelance-jerusalem",
   "metadata": {},
   "outputs": [],
   "source": [
    "BASE_PATH = Path(\"/scratch/imb/Xiao/Q1851/Xiao/STimage/experiments/cnn_base/resnet50_ft\")"
   ]
  },
  {
   "cell_type": "code",
   "execution_count": null,
   "id": "enhanced-doctor",
   "metadata": {},
   "outputs": [],
   "source": [
    "pred_adata = read_h5ad(BASE_PATH / \"prediction.h5ad\")\n",
    "test_dataset = read_h5ad(\"/scratch/imb/Xiao/Q1851/Xiao/STimage_dataset/breast_cancer_10x_visium/dataset_2_HVG2000/test_adata.h5ad\")\n"
   ]
  },
  {
   "cell_type": "code",
   "execution_count": null,
   "id": "ordered-marking",
   "metadata": {},
   "outputs": [],
   "source": [
    "pred_adata = read_h5ad(BASE_PATH / \"prediction.h5ad\")\n",
    "test_dataset = read_h5ad(\"/scratch/imb/Xiao/Q1851/Xiao/STimage_dataset/breast_cancer_10x_visium/dataset_2/test_adata.h5ad\")\n",
    "\n"
   ]
  },
  {
   "cell_type": "code",
   "execution_count": null,
   "id": "substantial-democracy",
   "metadata": {},
   "outputs": [],
   "source": [
    "adata_list=[]\n",
    "for adata in [\n",
    "    pred_adata,\n",
    "    test_dataset\n",
    "]:\n",
    "    \n",
    "    adata_ = adata.copy()\n",
    "    st.em.run_pca(adata_,n_comps=7)\n",
    "    adata_.uns[\"spatial\"] = {}\n",
    "    adata_.uns[\"spatial\"][pred_adata.obs.library_id.unique()[0]] = adata.uns[\"spatial\"].pop(pred_adata.obs.library_id.unique()[0])\n",
    "    adata_list.append(adata_)\n"
   ]
  },
  {
   "cell_type": "code",
   "execution_count": null,
   "id": "adequate-infection",
   "metadata": {
    "scrolled": true
   },
   "outputs": [],
   "source": [
    "for i in range(3,7):\n",
    "    for adata in adata_list:\n",
    "#         st.em.run_pca(adata,n_comps=50)\n",
    "        print(i)\n",
    "\n",
    "        st.tl.clustering.kmeans(adata,n_clusters=i, use_data=\"X_pca\", key_added=\"X_pca_kmeans\")\n",
    "\n",
    "        st.pl.cluster_plot(adata, use_label=\"X_pca_kmeans\")\n",
    "        plt.show()"
   ]
  },
  {
   "cell_type": "code",
   "execution_count": null,
   "id": "complicated-stomach",
   "metadata": {},
   "outputs": [],
   "source": [
    "for adata in adata_list:\n",
    "    st.pp.scale(adata)\n",
    "    st.em.run_pca(adata,n_comps=50)"
   ]
  },
  {
   "cell_type": "code",
   "execution_count": null,
   "id": "subtle-disco",
   "metadata": {},
   "outputs": [],
   "source": [
    "for i in range(2,6):\n",
    "    for adata in adata_list:\n",
    "#         st.em.run_pca(adata,n_comps=50)\n",
    "        print(i/10)\n",
    "\n",
    "        st.pp.neighbors(adata,n_neighbors=35,use_rep='X_pca')\n",
    "        st.tl.clustering.louvain(adata, resolution=i/10)\n",
    "        st.pl.cluster_plot(adata,use_label=\"louvain\")\n",
    "        plt.show()"
   ]
  },
  {
   "cell_type": "code",
   "execution_count": null,
   "id": "norwegian-portugal",
   "metadata": {},
   "outputs": [],
   "source": [
    "pred_adata_ = adata_list[0]\n",
    "test_dataset_ = adata_list[1]"
   ]
  },
  {
   "cell_type": "code",
   "execution_count": null,
   "id": "white-conspiracy",
   "metadata": {},
   "outputs": [],
   "source": [
    "        st.pp.neighbors(pred_adata_,n_neighbors=35,use_rep='X_pca')\n",
    "        st.tl.clustering.louvain(pred_adata_, resolution=0.4)\n",
    "        st.pl.cluster_plot(pred_adata_,use_label=\"louvain\")"
   ]
  },
  {
   "cell_type": "code",
   "execution_count": null,
   "id": "documented-findings",
   "metadata": {},
   "outputs": [],
   "source": [
    "        st.pp.neighbors(test_dataset_,n_neighbors=35,use_rep='X_pca')\n",
    "        st.tl.clustering.louvain(test_dataset_, resolution=0.2)\n",
    "        st.pl.cluster_plot(test_dataset_,use_label=\"louvain\")"
   ]
  },
  {
   "cell_type": "code",
   "execution_count": null,
   "id": "after-delight",
   "metadata": {},
   "outputs": [],
   "source": [
    "for gene in test_dataset_.var_names[0:5]:\n",
    "    gene_plot(test_dataset_, genes=[gene])"
   ]
  },
  {
   "cell_type": "code",
   "execution_count": null,
   "id": "statutory-warrant",
   "metadata": {},
   "outputs": [],
   "source": [
    "gene_plot(test_dataset_, genes=[\"KRT5\"])"
   ]
  },
  {
   "cell_type": "code",
   "execution_count": null,
   "id": "worst-stupid",
   "metadata": {},
   "outputs": [],
   "source": [
    "test_dataset_"
   ]
  },
  {
   "cell_type": "code",
   "execution_count": null,
   "id": "indie-crisis",
   "metadata": {},
   "outputs": [],
   "source": []
  },
  {
   "cell_type": "code",
   "execution_count": null,
   "id": "according-perth",
   "metadata": {},
   "outputs": [],
   "source": []
  },
  {
   "cell_type": "code",
   "execution_count": null,
   "id": "moderate-symposium",
   "metadata": {},
   "outputs": [],
   "source": []
  },
  {
   "cell_type": "code",
   "execution_count": null,
   "id": "handled-cover",
   "metadata": {},
   "outputs": [],
   "source": []
  },
  {
   "cell_type": "code",
   "execution_count": null,
   "id": "creative-blank",
   "metadata": {},
   "outputs": [],
   "source": [
    "test_dataset = read_h5ad(\"/scratch/imb/Xiao/Q1851/Xiao/STimage_dataset/breast_cancer_10x_visium/dataset_2/test_adata.h5ad\") \n",
    "train_dataset = read_h5ad(\"/scratch/imb/Xiao/Q1851/Xiao/STimage_dataset/breast_cancer_10x_visium/dataset_2/train_adata.h5ad\") \n",
    "\n",
    "\n",
    "\n",
    "\n",
    "\n",
    "\n"
   ]
  },
  {
   "cell_type": "code",
   "execution_count": null,
   "id": "sharp-flush",
   "metadata": {},
   "outputs": [],
   "source": [
    "train_dataset"
   ]
  },
  {
   "cell_type": "code",
   "execution_count": null,
   "id": "smoking-klein",
   "metadata": {},
   "outputs": [],
   "source": [
    "test_dataset"
   ]
  },
  {
   "cell_type": "code",
   "execution_count": null,
   "id": "static-victoria",
   "metadata": {},
   "outputs": [],
   "source": [
    "2518*0.90"
   ]
  },
  {
   "cell_type": "code",
   "execution_count": null,
   "id": "rational-passion",
   "metadata": {},
   "outputs": [],
   "source": []
  },
  {
   "cell_type": "code",
   "execution_count": null,
   "id": "educational-vocabulary",
   "metadata": {},
   "outputs": [],
   "source": []
  },
  {
   "cell_type": "code",
   "execution_count": null,
   "id": "indonesian-norman",
   "metadata": {},
   "outputs": [],
   "source": [
    "model = CNN_NB_multiple_genes((299, 299, 3), n_genes)\n",
    "callback = tf.keras.callbacks.EarlyStopping(monitor='val_loss', patience=20,\n",
    "                                            restore_best_weights=False)"
   ]
  },
  {
   "cell_type": "code",
   "execution_count": null,
   "id": "animal-present",
   "metadata": {
    "scrolled": true
   },
   "outputs": [],
   "source": [
    "train_history = model.fit(train_gen_,\n",
    "                          epochs=50,\n",
    "                          validation_data=valid_gen_,\n",
    "                          callbacks=[callback]\n",
    "                          )"
   ]
  },
  {
   "cell_type": "code",
   "execution_count": null,
   "id": "organizational-mexico",
   "metadata": {},
   "outputs": [],
   "source": [
    "test_predictions = model.predict(test_gen_)\n",
    "from scipy.stats import nbinom\n",
    "y_preds = []\n",
    "for i in range(n_genes):\n",
    "    n = test_predictions[i][:, 0]\n",
    "    p = test_predictions[i][:, 1]\n",
    "    y_pred = nbinom.mean(n, p)\n",
    "    y_preds.append(y_pred)\n",
    "test_dataset.obsm[\"predicted_gene\"] = np.array(y_preds).transpose()"
   ]
  },
  {
   "cell_type": "code",
   "execution_count": null,
   "id": "affected-values",
   "metadata": {},
   "outputs": [],
   "source": [
    "test_dataset_ = test_dataset[:,gene_list].copy()\n",
    "test_dataset_.X = test_dataset_.obsm[\"predicted_gene\"]"
   ]
  },
  {
   "cell_type": "code",
   "execution_count": null,
   "id": "educational-advisory",
   "metadata": {
    "scrolled": true
   },
   "outputs": [],
   "source": [
    "for i in gene_list:\n",
    "    print(i)\n",
    "    gene_plot(test_dataset_, genes=i, spot_size=8)"
   ]
  },
  {
   "cell_type": "code",
   "execution_count": null,
   "id": "experienced-allen",
   "metadata": {
    "scrolled": true
   },
   "outputs": [],
   "source": [
    "gene_plot(test_dataset, genes=\"COX6C\", spot_size=8)"
   ]
  },
  {
   "cell_type": "code",
   "execution_count": null,
   "id": "thousand-westminster",
   "metadata": {},
   "outputs": [],
   "source": [
    "gene_plot(test_dataset, genes=\"KRT5\", spot_size=8)"
   ]
  },
  {
   "cell_type": "code",
   "execution_count": null,
   "id": "still-sodium",
   "metadata": {},
   "outputs": [],
   "source": [
    "gene_list[6]"
   ]
  },
  {
   "cell_type": "code",
   "execution_count": null,
   "id": "latter-artist",
   "metadata": {},
   "outputs": [],
   "source": [
    "def model_predict_gene(gene):\n",
    "    i = gene_list.index(gene)\n",
    "    from scipy.stats import nbinom\n",
    "    def model_predict(x):\n",
    "        test_predictions = model.predict(x)\n",
    "        n = test_predictions[i][:, 0]\n",
    "        p = test_predictions[i][:, 1]\n",
    "        y_pred = nbinom.mean(n, p)\n",
    "        return y_pred.reshape(-1,1)\n",
    "    return model_predict"
   ]
  },
  {
   "cell_type": "code",
   "execution_count": null,
   "id": "preceding-watts",
   "metadata": {},
   "outputs": [],
   "source": [
    "import matplotlib.pyplot as plt\n",
    "from libpysal.weights.contiguity import Queen\n",
    "from libpysal import examples\n",
    "import numpy as np\n",
    "import pandas as pd\n",
    "import geopandas as gpd\n",
    "import os\n",
    "import splot\n",
    "from splot.esda import moran_scatterplot, lisa_cluster\n",
    "from esda.moran import Moran, Moran_Local\n",
    "from esda.moran import Moran_BV, Moran_Local_BV\n",
    "from splot.esda import plot_moran_bv_simulation, plot_moran_bv, plot_local_autocorrelation"
   ]
  },
  {
   "cell_type": "code",
   "execution_count": null,
   "id": "efficient-first",
   "metadata": {},
   "outputs": [],
   "source": [
    "gene = gene_list[4]"
   ]
  },
  {
   "cell_type": "code",
   "execution_count": null,
   "id": "impaired-stick",
   "metadata": {},
   "outputs": [],
   "source": [
    "test_dataset_.obsm[\"gpd\"] = gpd.GeoDataFrame(test_dataset_.obs,\n",
    "                                             geometry=gpd.points_from_xy(\n",
    "                                                 test_dataset_.obs.imagecol, \n",
    "                                                 test_dataset_.obs.imagerow))\n"
   ]
  },
  {
   "cell_type": "code",
   "execution_count": null,
   "id": "governing-metropolitan",
   "metadata": {},
   "outputs": [],
   "source": [
    "test_dataset_.obsm[\"gpd\"]"
   ]
  },
  {
   "cell_type": "code",
   "execution_count": null,
   "id": "british-affiliation",
   "metadata": {},
   "outputs": [],
   "source": [
    "x = test_dataset.to_df()[gene].values\n",
    "y = test_dataset_.to_df()[gene].values\n",
    "w = Queen.from_dataframe(test_dataset_.obsm[\"gpd\"])"
   ]
  },
  {
   "cell_type": "code",
   "execution_count": null,
   "id": "racial-anatomy",
   "metadata": {},
   "outputs": [],
   "source": [
    "test_dataset_.obsm[\"gpd\"][\"gc_{}\".format(gene)] = x\n",
    "test_dataset_.obsm[\"gpd\"][\"pred_{}\".format(gene)] = y\n",
    "tissue_image = test_dataset_.uns[\"spatial\"][\"block2\"][\"images\"][\"fulres\"]"
   ]
  },
  {
   "cell_type": "code",
   "execution_count": null,
   "id": "established-quarter",
   "metadata": {},
   "outputs": [],
   "source": [
    "moran = Moran(y,w)\n",
    "moran_bv = Moran_BV(y, x, w)\n",
    "moran_loc = Moran_Local(y, w)\n",
    "moran_loc_bv = Moran_Local_BV(y, x, w)"
   ]
  },
  {
   "cell_type": "code",
   "execution_count": null,
   "id": "weird-casino",
   "metadata": {},
   "outputs": [],
   "source": [
    "plot_correlation(test_dataset_.obsm[\"gpd\"],\n",
    "                 \"pred_{}\".format(gene),\n",
    "                 \"gc_{}\".format(gene))\n",
    "plt.show()"
   ]
  },
  {
   "cell_type": "code",
   "execution_count": null,
   "id": "average-speech",
   "metadata": {},
   "outputs": [],
   "source": [
    "fig, ax = plt.subplots(figsize=(5,5))\n",
    "moran_scatterplot(moran_bv, ax=ax)\n",
    "ax.set_xlabel('prediction of gene {}'.format(gene))\n",
    "ax.set_ylabel('Spatial lag of ground truth of gene {}'.format(gene))\n",
    "plt.tight_layout()\n",
    "plt.show()"
   ]
  },
  {
   "cell_type": "code",
   "execution_count": null,
   "id": "bacterial-williams",
   "metadata": {},
   "outputs": [],
   "source": [
    "fig, ax = plt.subplots(figsize=(5,5))\n",
    "moran_scatterplot(moran_loc_bv, p=0.05, ax=ax)\n",
    "ax.set_xlabel('prediction of gene {}'.format(gene))\n",
    "ax.set_ylabel('Spatial lag of ground truth of gene {}'.format(gene))\n",
    "plt.tight_layout()\n",
    "plt.show()"
   ]
  },
  {
   "cell_type": "code",
   "execution_count": null,
   "id": "extreme-ebony",
   "metadata": {},
   "outputs": [],
   "source": [
    "def plot_choropleth(gdf, \n",
    "                    attribute_1,\n",
    "                    attribute_2,\n",
    "                    bg_img,\n",
    "                    alpha=0.5,\n",
    "                    scheme='Quantiles', \n",
    "                    cmap='YlGnBu', \n",
    "                    legend=True):\n",
    "    \n",
    "    fig, axs = plt.subplots(2,1, figsize=(5, 8),\n",
    "                            subplot_kw={'adjustable':'datalim'})\n",
    "    \n",
    "    # Choropleth for attribute_1\n",
    "    gdf.plot(column=attribute_1, scheme=scheme, cmap=cmap,\n",
    "             legend=legend, legend_kwds={'loc': 'upper left',\n",
    "                                         'bbox_to_anchor': (0.92, 0.8)},\n",
    "             ax=axs[0], alpha=alpha, markersize=2)\n",
    "    \n",
    "    axs[0].imshow(bg_img)\n",
    "    axs[0].set_title('choropleth plot for {}'.format(attribute_1), y=0.8)\n",
    "    axs[0].set_axis_off()\n",
    "    \n",
    "    # Choropleth for attribute_2\n",
    "    gdf.plot(column=attribute_2, scheme=scheme, cmap=cmap,\n",
    "             legend=legend, legend_kwds={'loc': 'upper left',\n",
    "                                         'bbox_to_anchor': (0.92, 0.8)},\n",
    "             ax=axs[1], alpha=alpha, markersize=2)\n",
    "    \n",
    "    axs[1].imshow(bg_img)\n",
    "    axs[1].set_title('choropleth plot for {}'.format(attribute_2), y=0.8)\n",
    "    axs[1].set_axis_off()\n",
    "    \n",
    "    plt.tight_layout()\n",
    "    \n",
    "    return fig, ax "
   ]
  },
  {
   "cell_type": "code",
   "execution_count": null,
   "id": "painful-sessions",
   "metadata": {},
   "outputs": [],
   "source": [
    "plot_choropleth(test_dataset_.obsm[\"gpd\"], \n",
    "                \"gc_{}\".format(gene),\n",
    "                \"pred_{}\".format(gene),\n",
    "                tissue_image)\n",
    "plt.show()"
   ]
  },
  {
   "cell_type": "code",
   "execution_count": null,
   "id": "exposed-disco",
   "metadata": {},
   "outputs": [],
   "source": [
    "lisa_cluster(moran_loc_bv, test_dataset_.obsm[\"gpd\"], p=0.05, \n",
    "             figsize = (9,9), markersize=12, **{\"alpha\":0.8})\n",
    "plt.imshow(test_dataset_.uns[\"spatial\"][\"block2\"][\"images\"][\"fulres\"])\n",
    "plt.show()"
   ]
  },
  {
   "cell_type": "code",
   "execution_count": null,
   "id": "primary-statement",
   "metadata": {},
   "outputs": [],
   "source": [
    "1"
   ]
  },
  {
   "cell_type": "code",
   "execution_count": null,
   "id": "beneficial-recycling",
   "metadata": {},
   "outputs": [],
   "source": []
  },
  {
   "cell_type": "code",
   "execution_count": null,
   "id": "everyday-coral",
   "metadata": {},
   "outputs": [],
   "source": []
  }
 ],
 "metadata": {
  "kernelspec": {
   "display_name": "Python 3",
   "language": "python",
   "name": "python3"
  },
  "language_info": {
   "codemirror_mode": {
    "name": "ipython",
    "version": 3
   },
   "file_extension": ".py",
   "mimetype": "text/x-python",
   "name": "python",
   "nbconvert_exporter": "python",
   "pygments_lexer": "ipython3",
   "version": "3.8.6"
  }
 },
 "nbformat": 4,
 "nbformat_minor": 5
}
