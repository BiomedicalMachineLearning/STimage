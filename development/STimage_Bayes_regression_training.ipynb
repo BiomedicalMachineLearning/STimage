{
 "cells": [
  {
   "cell_type": "markdown",
   "id": "6d1bc7fa",
   "metadata": {},
   "source": [
    "## Learning\n",
    "Draft training script, and draft results production pipline.\n",
    "\n",
    "1. [done] Deterministic write pipeline for producing df w [mean, std, actual]\n",
    "2. [done] Train ensemble\n",
    "#### remaining steps in `STimage_Bayes_reggression_prediction.ipynb`\n",
    "3. Bayesian write pipeline for producing df w [epistemic, aleatoric, total_uncertainty, expectation, variance, actual]\n",
    "4. Produce plot showing the selective prediction w uncertainty thresholding\n",
    "5. Produce plot showing histology slide with companion aleatoric, epistemic, and total"
   ]
  },
  {
   "cell_type": "code",
   "execution_count": 49,
   "id": "d67985c4",
   "metadata": {},
   "outputs": [],
   "source": [
    "from pathlib import Path\n",
    "from anndata import read_h5ad\n",
    "import sys\n",
    "import scanpy\n",
    "\n",
    "import matplotlib.pyplot as plt\n",
    "\n",
    "import numpy as np\n",
    "import pandas as pd\n",
    "from scipy.stats import nbinom, pearsonr, spearmanr\n",
    "\n",
    "from tensorflow.keras.models import load_model"
   ]
  },
  {
   "cell_type": "code",
   "execution_count": 15,
   "id": "b7bdf71a",
   "metadata": {},
   "outputs": [],
   "source": [
    "import tensorflow as tf\n",
    "from tensorflow.keras import backend as K\n",
    "\n",
    "# stimage custom \n",
    "file = Path(\"../stimage\").resolve() # path to src code\n",
    "parent = file.parent\n",
    "sys.path.append(str(parent))\n",
    "\n",
    "from stimage._utils import gene_plot, Read10X, ReadOldST, tiling\n",
    "from stimage._model import CNN_NB_multiple_genes, negative_binomial_layer, negative_binomial_loss\n",
    "from stimage._data_generator import DataGenerator"
   ]
  },
  {
   "cell_type": "code",
   "execution_count": 3,
   "id": "8907a4f7",
   "metadata": {},
   "outputs": [],
   "source": [
    "DATA_PATH = Path(\"/scratch/smp/uqsmac12/dataset_breast_cancer_9visium\")\n",
    "\n",
    "OUT_PATH = Path(\"/scratch/smp/uqsmac12/results\")\n",
    "OUT_PATH.mkdir(parents=True, exist_ok=True)"
   ]
  },
  {
   "cell_type": "code",
   "execution_count": 4,
   "id": "b60b2368",
   "metadata": {
    "scrolled": false
   },
   "outputs": [
    {
     "data": {
      "text/plain": [
       "True"
      ]
     },
     "execution_count": 4,
     "metadata": {},
     "output_type": "execute_result"
    }
   ],
   "source": [
    "(DATA_PATH / \"all_adata.h5ad\").exists()"
   ]
  },
  {
   "cell_type": "code",
   "execution_count": 5,
   "id": "ee7b7635",
   "metadata": {},
   "outputs": [],
   "source": [
    "adata_all = read_h5ad(DATA_PATH / \"all_adata.h5ad\")"
   ]
  },
  {
   "cell_type": "raw",
   "id": "15122993",
   "metadata": {},
   "source": [
    "adata_all.obs"
   ]
  },
  {
   "cell_type": "markdown",
   "id": "5b2c6aa5",
   "metadata": {},
   "source": [
    "The annadata object `adata_all` contains STexpression readings for each spot (represented in a spotXexpression matrix). The bellow script accesses cell attribute information and updates the path."
   ]
  },
  {
   "cell_type": "code",
   "execution_count": 6,
   "id": "1bd0abe0",
   "metadata": {},
   "outputs": [],
   "source": [
    "# update metadata for annadata such that it maps to the correct location\n",
    "adata_all.obs[\"tile_path\"] = adata_all.obs.tile_path.map(\n",
    "    lambda x: x.replace(\"/clusterdata/uqxtan9/Xiao/breast_cancer_9visium\",\n",
    "                        \"/scratch/smp/uqsmac12/dataset_breast_cancer_9visium\"))"
   ]
  },
  {
   "cell_type": "code",
   "execution_count": 7,
   "id": "17b527e9",
   "metadata": {
    "scrolled": true
   },
   "outputs": [
    {
     "data": {
      "text/plain": [
       "'/scratch/smp/uqsmac12/dataset_breast_cancer_9visium/tiles/1142243F-12601-4511-299.jpeg'"
      ]
     },
     "execution_count": 7,
     "metadata": {},
     "output_type": "execute_result"
    }
   ],
   "source": [
    "adata_all.obs[\"tile_path\"][0]"
   ]
  },
  {
   "cell_type": "code",
   "execution_count": 8,
   "id": "ba4d706b",
   "metadata": {
    "scrolled": true
   },
   "outputs": [
    {
     "data": {
      "text/plain": [
       "['COX6C',\n",
       " 'TTLL12',\n",
       " 'PABPC1',\n",
       " 'GNAS',\n",
       " 'HSP90AB1',\n",
       " 'TFF3',\n",
       " 'ATP1A1',\n",
       " 'B2M',\n",
       " 'FASN',\n",
       " 'SPARC',\n",
       " 'CD74',\n",
       " 'CD63',\n",
       " 'CD24',\n",
       " 'CD81']"
      ]
     },
     "execution_count": 8,
     "metadata": {},
     "output_type": "execute_result"
    }
   ],
   "source": [
    "gene_list=[\"COX6C\",\"TTLL12\", \"PABPC1\", \"GNAS\", \"HSP90AB1\", \n",
    "           \"TFF3\", \"ATP1A1\", \"B2M\", \"FASN\", \"SPARC\", \"CD74\", \"CD63\", \"CD24\", \"CD81\"]\n",
    "gene_list"
   ]
  },
  {
   "cell_type": "code",
   "execution_count": 9,
   "id": "c36825a6",
   "metadata": {},
   "outputs": [],
   "source": [
    "# remove FFPE and 1160920F --- the test set\n",
    "adata_all_train_valid = adata_all[adata_all.obs[\"library_id\"].isin(\n",
    "    adata_all.obs.library_id.cat.remove_categories([\"FFPE\", \"1160920F\"]).unique())]"
   ]
  },
  {
   "cell_type": "code",
   "execution_count": 10,
   "id": "6f498660",
   "metadata": {},
   "outputs": [],
   "source": [
    "n_genes = len(gene_list)\n",
    "\n",
    "training_index = adata_all_train_valid.obs.sample(frac=0.7, random_state=1).index\n",
    "training_dataset = adata_all_train_valid[training_index,].copy()\n",
    "\n",
    "valid_index = adata_all_train_valid.obs.index.isin(training_index)\n",
    "valid_dataset = adata_all_train_valid[~valid_index,].copy()\n",
    "\n",
    "test_index = adata_all.obs.library_id == \"FFPE\"\n",
    "test_dataset_1 = adata_all[test_index,].copy()\n",
    "\n",
    "test_index = adata_all.obs.library_id == \"1160920F\"\n",
    "test_dataset_2 = adata_all[test_index,].copy()"
   ]
  },
  {
   "cell_type": "code",
   "execution_count": 11,
   "id": "5317f6d4",
   "metadata": {},
   "outputs": [],
   "source": [
    "train_gen = tf.data.Dataset.from_generator(\n",
    "            lambda: DataGenerator(adata=training_dataset, \n",
    "                          genes=gene_list, aug=False),\n",
    "            output_types=(tf.float32, tuple([tf.float32]*n_genes)), \n",
    "            output_shapes=([299,299,3], tuple([1]*n_genes))\n",
    ")\n",
    "train_gen_ = train_gen.shuffle(buffer_size=500).batch(128).repeat(3).cache().prefetch(tf.data.experimental.AUTOTUNE)\n",
    "valid_gen = tf.data.Dataset.from_generator(\n",
    "            lambda: DataGenerator(adata=valid_dataset, \n",
    "                          genes=gene_list), \n",
    "            output_types=(tf.float32, tuple([tf.float32]*n_genes)), \n",
    "            output_shapes=([299,299,3], tuple([1]*n_genes))\n",
    ")\n",
    "valid_gen_ = valid_gen.shuffle(buffer_size=500).batch(128).repeat(3).cache().prefetch(tf.data.experimental.AUTOTUNE)\n",
    "test_gen_1 = tf.data.Dataset.from_generator(\n",
    "            lambda:DataGenerator(adata=test_dataset_1, \n",
    "                          genes=gene_list), \n",
    "            output_types=(tf.float32, tuple([tf.float32]*n_genes)), \n",
    "            output_shapes=([299,299,3], tuple([1]*n_genes))\n",
    ")\n",
    "test_gen__1 = test_gen_1.batch(1)\n",
    "test_gen_2 = tf.data.Dataset.from_generator(\n",
    "            lambda: DataGenerator(adata=test_dataset_2, \n",
    "                          genes=gene_list), \n",
    "            output_types=(tf.float32, tuple([tf.float32]*n_genes)), \n",
    "            output_shapes=([299,299,3], tuple([1]*n_genes))\n",
    ")\n",
    "test_gen__2 = test_gen_2.batch(1)"
   ]
  },
  {
   "cell_type": "code",
   "execution_count": 22,
   "id": "7a65507e",
   "metadata": {},
   "outputs": [
    {
     "data": {
      "text/plain": [
       "<tf.Variable 'UnreadVariable' shape=() dtype=float32, numpy=1e-04>"
      ]
     },
     "execution_count": 22,
     "metadata": {},
     "output_type": "execute_result"
    }
   ],
   "source": [
    "# instantiate model\n",
    "K.clear_session()\n",
    "model = CNN_NB_multiple_genes((299, 299, 3), n_genes, cnnbase=\"resnet50\")\n",
    "callback = tf.keras.callbacks.EarlyStopping(\n",
    "    monitor='val_loss', patience=10,\n",
    "    restore_best_weights=True\n",
    ")\n",
    "\n",
    "# change the learning rate to improve results\n",
    "lr_ = 1e-4\n",
    "model.optimizer.learning_rate.assign(lr_)"
   ]
  },
  {
   "cell_type": "raw",
   "id": "fcb55d9b",
   "metadata": {
    "scrolled": false
   },
   "source": [
    "for o in train_gen_:\n",
    "    break\n",
    "print(f\"X is a single spot with dimensions {o[0].shape}\")    \n",
    "print(f\"y is a {len(o[1])}-tuple (i.e., num_genes), whereby each element includes a batch of gene expressions, i.e., {o[1][0].shape}.\")\n",
    "print(\"That is equivalent to a matrix representation with shape (batchsize, num_genes)\")"
   ]
  },
  {
   "cell_type": "code",
   "execution_count": null,
   "id": "23d0f5a1",
   "metadata": {
    "scrolled": true
   },
   "outputs": [
    {
     "name": "stdout",
     "output_type": "stream",
     "text": [
      "Epoch 1/100\n",
      "     31/Unknown - 144s 3s/step - loss: 39.8361 - gene_0_loss: 2.8108 - gene_1_loss: 1.0928 - gene_2_loss: 3.9588 - gene_3_loss: 3.2755 - gene_4_loss: 3.4985 - gene_5_loss: 2.0125 - gene_6_loss: 1.6344 - gene_7_loss: 4.2643 - gene_8_loss: 1.7430 - gene_9_loss: 2.5387 - gene_10_loss: 4.5705 - gene_11_loss: 2.8768 - gene_12_loss: 3.6553 - gene_13_loss: 1.9043"
     ]
    }
   ],
   "source": [
    "with tf.device(\"GPU:0\"):\n",
    "    train_history = model.fit(train_gen_,\n",
    "                              epochs=100,\n",
    "                              validation_data=valid_gen_,\n",
    "                              callbacks=[callback]\n",
    "                              )"
   ]
  },
  {
   "cell_type": "code",
   "execution_count": 25,
   "id": "186aa217",
   "metadata": {
    "scrolled": true
   },
   "outputs": [
    {
     "data": {
      "image/png": "[encoded data removed]",
      "text/plain": [
       "<Figure size 432x288 with 1 Axes>"
      ]
     },
     "metadata": {
      "needs_background": "light"
     },
     "output_type": "display_data"
    }
   ],
   "source": [
    "plt.plot(train_history.history['loss'])\n",
    "plt.plot(train_history.history['val_loss'])\n",
    "plt.legend(['loss', 'val_loss'])\n",
    "plt.xlabel('Epochs')\n",
    "plt.show()"
   ]
  },
  {
   "cell_type": "code",
   "execution_count": 26,
   "id": "2c45e19a",
   "metadata": {},
   "outputs": [],
   "source": [
    "model.save(OUT_PATH / f\"resnet50_single-rev3.h5\")"
   ]
  },
  {
   "cell_type": "code",
   "execution_count": 45,
   "id": "368c508f",
   "metadata": {},
   "outputs": [
    {
     "data": {
      "text/plain": [
       "(2338, 14)"
      ]
     },
     "execution_count": 45,
     "metadata": {},
     "output_type": "execute_result"
    }
   ],
   "source": [
    "# TO DO\n",
    "\n",
    "# 1. deterministic write pipeline for producing df w [mean, std, actual]\n",
    "# 1.5. train ensemble\n",
    "# 2. Bayesian write pipeline for producing df w [epistemic, aleatoric, total_uncertainty, expectation, variance, actual]\n",
    "# 3. produce plot showing the selective prediction w uncertainty thresholding\n",
    "# 4. produce plot showing histology slide with companion aleatoric, epistemic, and total\n",
    "\n",
    "# \n",
    "# Draft results by end of week 2 (Feb-17th)"
   ]
  },
  {
   "cell_type": "code",
   "execution_count": 16,
   "id": "71bd0eb8",
   "metadata": {},
   "outputs": [],
   "source": [
    "# load trained model\n",
    "model = None\n",
    "file_model = str(OUT_PATH / f\"resnet50_single-rev3.h5\")\n",
    "model = load_model(\n",
    "    file_model, \n",
    "    custom_objects={\n",
    "        'negative_binomial_loss': negative_binomial_loss,\n",
    "    }\n",
    ")"
   ]
  },
  {
   "cell_type": "code",
   "execution_count": 17,
   "id": "26fd965f",
   "metadata": {},
   "outputs": [],
   "source": [
    "pred_test_1 = model.predict(test_gen__1)"
   ]
  },
  {
   "cell_type": "code",
   "execution_count": 18,
   "id": "f0a72448",
   "metadata": {},
   "outputs": [],
   "source": [
    "pred_test_2 = model.predict(test_gen__2)"
   ]
  },
  {
   "cell_type": "code",
   "execution_count": 20,
   "id": "28d32f15",
   "metadata": {},
   "outputs": [],
   "source": [
    "df_target_1 = test_dataset_1.to_df().loc[:, gene_list]"
   ]
  },
  {
   "cell_type": "code",
   "execution_count": 21,
   "id": "907ef00e",
   "metadata": {},
   "outputs": [],
   "source": [
    "df_target_2 = test_dataset_2.to_df().loc[:, gene_list]"
   ]
  },
  {
   "cell_type": "code",
   "execution_count": 71,
   "id": "49c2bb22",
   "metadata": {},
   "outputs": [],
   "source": [
    "def get_results(df_target, np_preds, list_genes):\n",
    "    \n",
    "    # instantiate dictionary\n",
    "    list_results = []\n",
    "    \n",
    "    for gene_idx, gene_name in enumerate(list_genes):\n",
    "        \n",
    "        # actual \n",
    "        target = df_target[gene_name]\n",
    "\n",
    "        # predicted NB params \n",
    "        n, p = np_preds[gene_idx][:,0], np_preds[gene_idx][:,1]\n",
    "        \n",
    "        # mean, var, std \n",
    "#         # mean and var functions of k...\n",
    "#         nb_mean = lambda n, p, k: n*(1-p*k)/(p*k)\n",
    "#         nb_var = lambda n, p, k: n*(1-p*k)/(p*p*k*k)\n",
    "        mu, var = nbinom.stats(n, p, moments='mv')\n",
    "        std = np.sqrt(var)\n",
    "\n",
    "        # create dataframe\n",
    "        df_temp = pd.DataFrame(\n",
    "            data=np.stack([n, p, mu, var, std, target], axis=1), \n",
    "            columns=['n', 'p', 'mean', 'var', 'std', 'target'],\n",
    "            index= df_target.index\n",
    "        )\n",
    "        \n",
    "        df_temp['gene_name']=gene_name\n",
    "        \n",
    "        # append dictionary\n",
    "        list_results.append(df_temp)\n",
    "        \n",
    "    return pd.concat(list_results, axis=0)"
   ]
  },
  {
   "cell_type": "code",
   "execution_count": 72,
   "id": "d02aef23",
   "metadata": {},
   "outputs": [],
   "source": [
    "df_target = df_target_1.copy()\n",
    "np_preds = pred_test_1.copy()\n",
    "list_genes = gene_list.copy()"
   ]
  },
  {
   "cell_type": "code",
   "execution_count": 75,
   "id": "8d9e39f6",
   "metadata": {},
   "outputs": [],
   "source": [
    "df_res1 = get_results(\n",
    "    df_target = df_target_1, \n",
    "    np_preds = pred_test_1,\n",
    "    list_genes = gene_list\n",
    ")"
   ]
  },
  {
   "cell_type": "code",
   "execution_count": 76,
   "id": "fd763b5c",
   "metadata": {
    "scrolled": true
   },
   "outputs": [],
   "source": [
    "df_res2 = get_results(\n",
    "    df_target = df_target_2, \n",
    "    np_preds = pred_test_2,\n",
    "    list_genes = gene_list\n",
    ")"
   ]
  },
  {
   "cell_type": "code",
   "execution_count": 83,
   "id": "baacf913",
   "metadata": {},
   "outputs": [],
   "source": [
    "df_res1.to_csv(str(OUT_PATH / 'df_model_stats-ffpe-rev3.csv'))\n",
    "df_res2.to_csv(str(OUT_PATH/ 'df_model_stats-1160920F-rev3.csv'))"
   ]
  },
  {
   "cell_type": "code",
   "execution_count": 88,
   "id": "7d3aaaef",
   "metadata": {},
   "outputs": [
    {
     "data": {
      "text/html": [
       "<div>\n",
       "<style scoped>\n",
       "    .dataframe tbody tr th:only-of-type {\n",
       "        vertical-align: middle;\n",
       "    }\n",
       "\n",
       "    .dataframe tbody tr th {\n",
       "        vertical-align: top;\n",
       "    }\n",
       "\n",
       "    .dataframe thead th {\n",
       "        text-align: right;\n",
       "    }\n",
       "</style>\n",
       "<table border=\"1\" class=\"dataframe\">\n",
       "  <thead>\n",
       "    <tr style=\"text-align: right;\">\n",
       "      <th></th>\n",
       "      <th>n</th>\n",
       "      <th>p</th>\n",
       "      <th>mean</th>\n",
       "      <th>var</th>\n",
       "      <th>std</th>\n",
       "      <th>target</th>\n",
       "      <th>gene_name</th>\n",
       "    </tr>\n",
       "  </thead>\n",
       "  <tbody>\n",
       "    <tr>\n",
       "      <th>AAACAAGTATCTCCCA-1-FFPE</th>\n",
       "      <td>206.790833</td>\n",
       "      <td>0.986477</td>\n",
       "      <td>2.834860</td>\n",
       "      <td>2.873723</td>\n",
       "      <td>1.695206</td>\n",
       "      <td>2.944439</td>\n",
       "      <td>COX6C</td>\n",
       "    </tr>\n",
       "    <tr>\n",
       "      <th>AAACACCAATAACTGC-1-FFPE</th>\n",
       "      <td>157.495789</td>\n",
       "      <td>0.976582</td>\n",
       "      <td>3.776677</td>\n",
       "      <td>3.867240</td>\n",
       "      <td>1.966530</td>\n",
       "      <td>1.098612</td>\n",
       "      <td>COX6C</td>\n",
       "    </tr>\n",
       "    <tr>\n",
       "      <th>AAACAGAGCGACTCCT-1-FFPE</th>\n",
       "      <td>195.672424</td>\n",
       "      <td>0.984948</td>\n",
       "      <td>2.990366</td>\n",
       "      <td>3.036067</td>\n",
       "      <td>1.742431</td>\n",
       "      <td>2.079442</td>\n",
       "      <td>COX6C</td>\n",
       "    </tr>\n",
       "    <tr>\n",
       "      <th>AAACAGCTTTCAGAAG-1-FFPE</th>\n",
       "      <td>154.036575</td>\n",
       "      <td>0.967745</td>\n",
       "      <td>5.134034</td>\n",
       "      <td>5.305151</td>\n",
       "      <td>2.303291</td>\n",
       "      <td>1.098612</td>\n",
       "      <td>COX6C</td>\n",
       "    </tr>\n",
       "    <tr>\n",
       "      <th>AAACAGGGTCTATATT-1-FFPE</th>\n",
       "      <td>172.619781</td>\n",
       "      <td>0.980994</td>\n",
       "      <td>3.344441</td>\n",
       "      <td>3.409238</td>\n",
       "      <td>1.846412</td>\n",
       "      <td>0.693147</td>\n",
       "      <td>COX6C</td>\n",
       "    </tr>\n",
       "  </tbody>\n",
       "</table>\n",
       "</div>"
      ],
      "text/plain": [
       "                                  n         p      mean       var       std  \\\n",
       "AAACAAGTATCTCCCA-1-FFPE  206.790833  0.986477  2.834860  2.873723  1.695206   \n",
       "AAACACCAATAACTGC-1-FFPE  157.495789  0.976582  3.776677  3.867240  1.966530   \n",
       "AAACAGAGCGACTCCT-1-FFPE  195.672424  0.984948  2.990366  3.036067  1.742431   \n",
       "AAACAGCTTTCAGAAG-1-FFPE  154.036575  0.967745  5.134034  5.305151  2.303291   \n",
       "AAACAGGGTCTATATT-1-FFPE  172.619781  0.980994  3.344441  3.409238  1.846412   \n",
       "\n",
       "                           target gene_name  \n",
       "AAACAAGTATCTCCCA-1-FFPE  2.944439     COX6C  \n",
       "AAACACCAATAACTGC-1-FFPE  1.098612     COX6C  \n",
       "AAACAGAGCGACTCCT-1-FFPE  2.079442     COX6C  \n",
       "AAACAGCTTTCAGAAG-1-FFPE  1.098612     COX6C  \n",
       "AAACAGGGTCTATATT-1-FFPE  0.693147     COX6C  "
      ]
     },
     "execution_count": 88,
     "metadata": {},
     "output_type": "execute_result"
    }
   ],
   "source": [
    "df_res1.head()"
   ]
  },
  {
   "cell_type": "code",
   "execution_count": 84,
   "id": "effa746a",
   "metadata": {},
   "outputs": [],
   "source": [
    "df_corr1 = df_res1.groupby('gene_name').apply(lambda x: pearsonr(x['mean'], x['target'])[0])\n",
    "df_corr2 = df_res2.groupby('gene_name').apply(lambda x: pearsonr(x['mean'], x['target'])[0])"
   ]
  },
  {
   "cell_type": "code",
   "execution_count": 85,
   "id": "7f38227e",
   "metadata": {},
   "outputs": [
    {
     "data": {
      "image/png": "[encoded data removed]",
      "text/plain": [
       "<Figure size 432x288 with 1 Axes>"
      ]
     },
     "metadata": {
      "needs_background": "light"
     },
     "output_type": "display_data"
    },
    {
     "data": {
      "image/png": "[encoded data removed]",
      "text/plain": [
       "<Figure size 432x288 with 1 Axes>"
      ]
     },
     "metadata": {
      "needs_background": "light"
     },
     "output_type": "display_data"
    }
   ],
   "source": [
    "df_corr1.plot.bar()\n",
    "plt.title('FFPE')\n",
    "plt.show()\n",
    "df_corr1.plot.hist(bins=5)\n",
    "plt.title('FFPE')\n",
    "plt.show()"
   ]
  },
  {
   "cell_type": "code",
   "execution_count": 87,
   "id": "a046174e",
   "metadata": {},
   "outputs": [
    {
     "data": {
      "image/png": "[encoded data removed]",
      "text/plain": [
       "<Figure size 432x288 with 1 Axes>"
      ]
     },
     "metadata": {
      "needs_background": "light"
     },
     "output_type": "display_data"
    },
    {
     "data": {
      "image/png": "[encoded data removed]",
      "text/plain": [
       "<Figure size 432x288 with 1 Axes>"
      ]
     },
     "metadata": {
      "needs_background": "light"
     },
     "output_type": "display_data"
    }
   ],
   "source": [
    "df_corr2.plot.bar()\n",
    "plt.title('1160920F')\n",
    "plt.show()\n",
    "df_corr2.plot.hist(bins=5)\n",
    "plt.title('1160920F')\n",
    "plt.show()"
   ]
  },
  {
   "cell_type": "code",
   "execution_count": null,
   "id": "14328c30",
   "metadata": {},
   "outputs": [],
   "source": []
  }
 ],
 "metadata": {
  "kernelspec": {
   "display_name": "Python 3",
   "language": "python",
   "name": "python3"
  },
  "language_info": {
   "codemirror_mode": {
    "name": "ipython",
    "version": 3
   },
   "file_extension": ".py",
   "mimetype": "text/x-python",
   "name": "python",
   "nbconvert_exporter": "python",
   "pygments_lexer": "ipython3",
   "version": "3.8.6"
  }
 },
 "nbformat": 4,
 "nbformat_minor": 5
}
