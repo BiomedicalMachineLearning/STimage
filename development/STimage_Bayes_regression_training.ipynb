{
 "cells": [
  {
   "cell_type": "markdown",
   "id": "6d1bc7fa",
   "metadata": {},
   "source": [
    "## Learning\n",
    "Draft training script, and draft results production pipline.\n",
    "\n",
    "1. [done] Deterministic write pipeline for producing df w [mean, std, actual]\n",
    "2. [done] Train ensemble\n",
    "#### remaining steps in `STimage_Bayes_reggression_prediction.ipynb`\n",
    "3. Bayesian write pipeline for producing df w [epistemic, aleatoric, total_uncertainty, expectation, variance, actual]\n",
    "4. Produce plot showing the selective prediction w uncertainty thresholding\n",
    "5. Produce plot showing histology slide with companion aleatoric, epistemic, and total"
   ]
  },
  {
   "cell_type": "code",
   "execution_count": 119,
   "id": "d67985c4",
   "metadata": {},
   "outputs": [],
   "source": [
    "from pathlib import Path\n",
    "from anndata import read_h5ad\n",
    "import sys\n",
    "import scanpy\n",
    "\n",
    "import matplotlib.pyplot as plt\n",
    "\n",
    "import numpy as np\n",
    "import pandas as pd\n",
    "from scipy.stats import nbinom, pearsonr"
   ]
  },
  {
   "cell_type": "code",
   "execution_count": 2,
   "id": "b7bdf71a",
   "metadata": {},
   "outputs": [],
   "source": [
    "import tensorflow as tf\n",
    "from tensorflow.keras import backend as K\n",
    "\n",
    "# stimage custom \n",
    "file = Path(\"../stimage\").resolve() # path to src code\n",
    "parent = file.parent\n",
    "sys.path.append(str(parent))\n",
    "\n",
    "from stimage._utils import gene_plot, Read10X, ReadOldST, tiling\n",
    "from stimage._model import CNN_NB_multiple_genes #, negative_binomial_layer, negative_binomial_loss\n",
    "from stimage._data_generator import DataGenerator"
   ]
  },
  {
   "cell_type": "code",
   "execution_count": 3,
   "id": "8907a4f7",
   "metadata": {},
   "outputs": [],
   "source": [
    "DATA_PATH = Path(\"/scratch/smp/uqsmac12/dataset_breast_cancer_9visium\")\n",
    "\n",
    "OUT_PATH = Path(\"/scratch/smp/uqsmac12/results\")\n",
    "OUT_PATH.mkdir(parents=True, exist_ok=True)"
   ]
  },
  {
   "cell_type": "code",
   "execution_count": 4,
   "id": "b60b2368",
   "metadata": {
    "scrolled": false
   },
   "outputs": [
    {
     "data": {
      "text/plain": [
       "True"
      ]
     },
     "execution_count": 4,
     "metadata": {},
     "output_type": "execute_result"
    }
   ],
   "source": [
    "(DATA_PATH / \"all_adata.h5ad\").exists()"
   ]
  },
  {
   "cell_type": "code",
   "execution_count": 5,
   "id": "ee7b7635",
   "metadata": {},
   "outputs": [],
   "source": [
    "adata_all = read_h5ad(DATA_PATH / \"all_adata.h5ad\")"
   ]
  },
  {
   "cell_type": "raw",
   "id": "15122993",
   "metadata": {},
   "source": [
    "adata_all.obs"
   ]
  },
  {
   "cell_type": "markdown",
   "id": "5b2c6aa5",
   "metadata": {},
   "source": [
    "The annadata object `adata_all` contains STexpression readings for each spot (represented in a spotXexpression matrix). The bellow script accesses cell attribute information and updates the path."
   ]
  },
  {
   "cell_type": "code",
   "execution_count": 6,
   "id": "1bd0abe0",
   "metadata": {},
   "outputs": [],
   "source": [
    "# update metadata for annadata such that it maps to the correct location\n",
    "adata_all.obs[\"tile_path\"] = adata_all.obs.tile_path.map(\n",
    "    lambda x: x.replace(\"/clusterdata/uqxtan9/Xiao/breast_cancer_9visium\",\n",
    "                        \"/scratch/smp/uqsmac12/dataset_breast_cancer_9visium\"))"
   ]
  },
  {
   "cell_type": "code",
   "execution_count": 7,
   "id": "17b527e9",
   "metadata": {
    "scrolled": true
   },
   "outputs": [
    {
     "data": {
      "text/plain": [
       "'/scratch/smp/uqsmac12/dataset_breast_cancer_9visium/tiles/1142243F-12601-4511-299.jpeg'"
      ]
     },
     "execution_count": 7,
     "metadata": {},
     "output_type": "execute_result"
    }
   ],
   "source": [
    "adata_all.obs[\"tile_path\"][0]"
   ]
  },
  {
   "cell_type": "code",
   "execution_count": 8,
   "id": "ba4d706b",
   "metadata": {
    "scrolled": true
   },
   "outputs": [
    {
     "data": {
      "text/plain": [
       "['COX6C',\n",
       " 'TTLL12',\n",
       " 'PABPC1',\n",
       " 'GNAS',\n",
       " 'HSP90AB1',\n",
       " 'TFF3',\n",
       " 'ATP1A1',\n",
       " 'B2M',\n",
       " 'FASN',\n",
       " 'SPARC',\n",
       " 'CD74',\n",
       " 'CD63',\n",
       " 'CD24',\n",
       " 'CD81']"
      ]
     },
     "execution_count": 8,
     "metadata": {},
     "output_type": "execute_result"
    }
   ],
   "source": [
    "gene_list=[\"COX6C\",\"TTLL12\", \"PABPC1\", \"GNAS\", \"HSP90AB1\", \n",
    "           \"TFF3\", \"ATP1A1\", \"B2M\", \"FASN\", \"SPARC\", \"CD74\", \"CD63\", \"CD24\", \"CD81\"]\n",
    "gene_list"
   ]
  },
  {
   "cell_type": "code",
   "execution_count": 9,
   "id": "c36825a6",
   "metadata": {},
   "outputs": [],
   "source": [
    "# remove FFPE and 1160920F --- the test set\n",
    "adata_all_train_valid = adata_all[adata_all.obs[\"library_id\"].isin(\n",
    "    adata_all.obs.library_id.cat.remove_categories([\"FFPE\", \"1160920F\"]).unique())]"
   ]
  },
  {
   "cell_type": "code",
   "execution_count": 10,
   "id": "6f498660",
   "metadata": {},
   "outputs": [],
   "source": [
    "n_genes = len(gene_list)\n",
    "\n",
    "training_index = adata_all_train_valid.obs.sample(frac=0.7, random_state=1).index\n",
    "training_dataset = adata_all_train_valid[training_index,].copy()\n",
    "\n",
    "valid_index = adata_all_train_valid.obs.index.isin(training_index)\n",
    "valid_dataset = adata_all_train_valid[~valid_index,].copy()\n",
    "\n",
    "test_index = adata_all.obs.library_id == \"FFPE\"\n",
    "test_dataset_1 = adata_all[test_index,].copy()\n",
    "\n",
    "test_index = adata_all.obs.library_id == \"1160920F\"\n",
    "test_dataset_2 = adata_all[test_index,].copy()"
   ]
  },
  {
   "cell_type": "code",
   "execution_count": 11,
   "id": "5317f6d4",
   "metadata": {},
   "outputs": [],
   "source": [
    "train_gen = tf.data.Dataset.from_generator(\n",
    "            lambda: DataGenerator(adata=training_dataset, \n",
    "                          genes=gene_list, aug=False),\n",
    "            output_types=(tf.float32, tuple([tf.float32]*n_genes)), \n",
    "            output_shapes=([299,299,3], tuple([1]*n_genes))\n",
    ")\n",
    "train_gen_ = train_gen.shuffle(buffer_size=500).batch(128).repeat(3).cache().prefetch(tf.data.experimental.AUTOTUNE)\n",
    "valid_gen = tf.data.Dataset.from_generator(\n",
    "            lambda: DataGenerator(adata=valid_dataset, \n",
    "                          genes=gene_list), \n",
    "            output_types=(tf.float32, tuple([tf.float32]*n_genes)), \n",
    "            output_shapes=([299,299,3], tuple([1]*n_genes))\n",
    ")\n",
    "valid_gen_ = valid_gen.shuffle(buffer_size=500).batch(128).repeat(3).cache().prefetch(tf.data.experimental.AUTOTUNE)\n",
    "test_gen_1 = tf.data.Dataset.from_generator(\n",
    "            lambda:DataGenerator(adata=test_dataset_1, \n",
    "                          genes=gene_list), \n",
    "            output_types=(tf.float32, tuple([tf.float32]*n_genes)), \n",
    "            output_shapes=([299,299,3], tuple([1]*n_genes))\n",
    ")\n",
    "test_gen__1 = test_gen_1.batch(1)\n",
    "test_gen_2 = tf.data.Dataset.from_generator(\n",
    "            lambda: DataGenerator(adata=test_dataset_2, \n",
    "                          genes=gene_list), \n",
    "            output_types=(tf.float32, tuple([tf.float32]*n_genes)), \n",
    "            output_shapes=([299,299,3], tuple([1]*n_genes))\n",
    ")\n",
    "test_gen__2 = test_gen_2.batch(1)"
   ]
  },
  {
   "cell_type": "code",
   "execution_count": 12,
   "id": "7a65507e",
   "metadata": {},
   "outputs": [],
   "source": [
    "# instantiate model\n",
    "K.clear_session()\n",
    "model = CNN_NB_multiple_genes((299, 299, 3), n_genes, cnnbase=\"resnet50\")\n",
    "callback = tf.keras.callbacks.EarlyStopping(\n",
    "    monitor='val_loss', patience=20,\n",
    "    restore_best_weights=False\n",
    ")"
   ]
  },
  {
   "cell_type": "code",
   "execution_count": 13,
   "id": "9bba400c",
   "metadata": {
    "scrolled": false
   },
   "outputs": [
    {
     "name": "stdout",
     "output_type": "stream",
     "text": [
      "X is a single spot with dimensions (128, 299, 299, 3)\n",
      "y is a 14-tuple (i.e., num_genes), whereby each element includes a batch of gene expressions, i.e., (128, 1).\n",
      "That is equivalent to a matrix representation with shape (batchsize, num_genes)\n"
     ]
    }
   ],
   "source": [
    "for o in train_gen_:\n",
    "    break\n",
    "print(f\"X is a single spot with dimensions {o[0].shape}\")    \n",
    "print(f\"y is a {len(o[1])}-tuple (i.e., num_genes), whereby each element includes a batch of gene expressions, i.e., {o[1][0].shape}.\")\n",
    "print(\"That is equivalent to a matrix representation with shape (batchsize, num_genes)\")"
   ]
  },
  {
   "cell_type": "code",
   "execution_count": 14,
   "id": "66e06a88",
   "metadata": {
    "scrolled": true
   },
   "outputs": [
    {
     "name": "stdout",
     "output_type": "stream",
     "text": [
      "GPU is available\n"
     ]
    }
   ],
   "source": [
    "devices = tf.config.list_physical_devices(\"GPU\")\n",
    "if len(devices) > 0:\n",
    "    print(\"GPU is available\")\n",
    "else:\n",
    "    print(\"GPU is not available\")"
   ]
  },
  {
   "cell_type": "code",
   "execution_count": 146,
   "id": "734741d7",
   "metadata": {},
   "outputs": [
    {
     "data": {
      "text/plain": [
       "'/clusterdata/uqsmac12/STimage/development'"
      ]
     },
     "execution_count": 146,
     "metadata": {},
     "output_type": "execute_result"
    }
   ],
   "source": [
    "pwd"
   ]
  },
  {
   "cell_type": "code",
   "execution_count": 16,
   "id": "0e0eb724",
   "metadata": {
    "scrolled": true
   },
   "outputs": [
    {
     "data": {
      "text/plain": [
       "'/job:localhost/replica:0/task:0/device:CPU:0'"
      ]
     },
     "execution_count": 16,
     "metadata": {},
     "output_type": "execute_result"
    }
   ],
   "source": [
    "o[0].device"
   ]
  },
  {
   "cell_type": "code",
   "execution_count": 18,
   "id": "23d0f5a1",
   "metadata": {
    "scrolled": true
   },
   "outputs": [
    {
     "name": "stdout",
     "output_type": "stream",
     "text": [
      "Epoch 1/10\n",
      "288/288 [==============================] - 859s 3s/step - loss: 40.3695 - gene_0_loss: 3.3378 - gene_1_loss: 1.2365 - gene_2_loss: 3.0228 - gene_3_loss: 4.2755 - gene_4_loss: 2.9958 - gene_5_loss: 1.8243 - gene_6_loss: 1.5740 - gene_7_loss: 3.5175 - gene_8_loss: 2.1979 - gene_9_loss: 5.6692 - gene_10_loss: 2.6894 - gene_11_loss: 2.3236 - gene_12_loss: 2.8986 - gene_13_loss: 2.8065 - val_loss: 30.9499 - val_gene_0_loss: 2.3264 - val_gene_1_loss: 1.1010 - val_gene_2_loss: 2.3823 - val_gene_3_loss: 2.7985 - val_gene_4_loss: 2.2757 - val_gene_5_loss: 1.6644 - val_gene_6_loss: 1.4034 - val_gene_7_loss: 2.5629 - val_gene_8_loss: 1.7872 - val_gene_9_loss: 3.9197 - val_gene_10_loss: 2.3477 - val_gene_11_loss: 2.0801 - val_gene_12_loss: 2.3586 - val_gene_13_loss: 1.9421\n",
      "Epoch 2/10\n",
      "288/288 [==============================] - 96s 332ms/step - loss: 29.9197 - gene_0_loss: 2.2921 - gene_1_loss: 1.1002 - gene_2_loss: 2.3440 - gene_3_loss: 2.5970 - gene_4_loss: 2.2247 - gene_5_loss: 1.6543 - gene_6_loss: 1.3918 - gene_7_loss: 2.4866 - gene_8_loss: 1.7727 - gene_9_loss: 3.5164 - gene_10_loss: 2.3178 - gene_11_loss: 2.0448 - gene_12_loss: 2.3100 - gene_13_loss: 1.8673 - val_loss: 27.4150 - val_gene_0_loss: 2.1698 - val_gene_1_loss: 1.0224 - val_gene_2_loss: 2.2151 - val_gene_3_loss: 2.2140 - val_gene_4_loss: 2.1215 - val_gene_5_loss: 1.5505 - val_gene_6_loss: 1.3574 - val_gene_7_loss: 2.3438 - val_gene_8_loss: 1.7062 - val_gene_9_loss: 2.6720 - val_gene_10_loss: 2.1568 - val_gene_11_loss: 1.9300 - val_gene_12_loss: 2.1822 - val_gene_13_loss: 1.7731\n",
      "Epoch 3/10\n",
      "288/288 [==============================] - 95s 332ms/step - loss: 27.1156 - gene_0_loss: 2.1819 - gene_1_loss: 1.0304 - gene_2_loss: 2.1942 - gene_3_loss: 2.1900 - gene_4_loss: 2.1009 - gene_5_loss: 1.5503 - gene_6_loss: 1.3491 - gene_7_loss: 2.3283 - gene_8_loss: 1.6976 - gene_9_loss: 2.5427 - gene_10_loss: 2.1371 - gene_11_loss: 1.9056 - gene_12_loss: 2.1488 - gene_13_loss: 1.7586 - val_loss: 25.9929 - val_gene_0_loss: 2.1166 - val_gene_1_loss: 0.9798 - val_gene_2_loss: 2.0943 - val_gene_3_loss: 2.1067 - val_gene_4_loss: 2.0342 - val_gene_5_loss: 1.4767 - val_gene_6_loss: 1.3247 - val_gene_7_loss: 2.2532 - val_gene_8_loss: 1.6442 - val_gene_9_loss: 2.3283 - val_gene_10_loss: 2.0262 - val_gene_11_loss: 1.8268 - val_gene_12_loss: 2.0510 - val_gene_13_loss: 1.7302\n",
      "Epoch 4/10\n",
      "288/288 [==============================] - 95s 332ms/step - loss: 25.8613 - gene_0_loss: 2.1298 - gene_1_loss: 0.9917 - gene_2_loss: 2.0771 - gene_3_loss: 2.0984 - gene_4_loss: 2.0206 - gene_5_loss: 1.4824 - gene_6_loss: 1.3188 - gene_7_loss: 2.2396 - gene_8_loss: 1.6361 - gene_9_loss: 2.2941 - gene_10_loss: 2.0168 - gene_11_loss: 1.8112 - gene_12_loss: 2.0252 - gene_13_loss: 1.7195 - val_loss: 25.0928 - val_gene_0_loss: 2.0764 - val_gene_1_loss: 0.9533 - val_gene_2_loss: 1.9982 - val_gene_3_loss: 2.0351 - val_gene_4_loss: 1.9672 - val_gene_5_loss: 1.4269 - val_gene_6_loss: 1.2999 - val_gene_7_loss: 2.1730 - val_gene_8_loss: 1.5932 - val_gene_9_loss: 2.2206 - val_gene_10_loss: 1.9423 - val_gene_11_loss: 1.7585 - val_gene_12_loss: 1.9548 - val_gene_13_loss: 1.6934\n",
      "Epoch 5/10\n",
      "288/288 [==============================] - 95s 331ms/step - loss: 25.0171 - gene_0_loss: 2.0894 - gene_1_loss: 0.9670 - gene_2_loss: 1.9865 - gene_3_loss: 2.0280 - gene_4_loss: 1.9590 - gene_5_loss: 1.4363 - gene_6_loss: 1.2953 - gene_7_loss: 2.1629 - gene_8_loss: 1.5860 - gene_9_loss: 2.1963 - gene_10_loss: 1.9400 - gene_11_loss: 1.7482 - gene_12_loss: 1.9363 - gene_13_loss: 1.6858 - val_loss: 24.4022 - val_gene_0_loss: 2.0443 - val_gene_1_loss: 0.9347 - val_gene_2_loss: 1.9279 - val_gene_3_loss: 1.9703 - val_gene_4_loss: 1.9145 - val_gene_5_loss: 1.3915 - val_gene_6_loss: 1.2800 - val_gene_7_loss: 2.1075 - val_gene_8_loss: 1.5527 - val_gene_9_loss: 2.1307 - val_gene_10_loss: 1.8862 - val_gene_11_loss: 1.7118 - val_gene_12_loss: 1.8877 - val_gene_13_loss: 1.6623\n",
      "Epoch 6/10\n",
      "288/288 [==============================] - 95s 332ms/step - loss: 24.3605 - gene_0_loss: 2.0563 - gene_1_loss: 0.9496 - gene_2_loss: 1.9210 - gene_3_loss: 1.9650 - gene_4_loss: 1.9098 - gene_5_loss: 1.4033 - gene_6_loss: 1.2764 - gene_7_loss: 2.1013 - gene_8_loss: 1.5463 - gene_9_loss: 2.1077 - gene_10_loss: 1.8879 - gene_11_loss: 1.7044 - gene_12_loss: 1.8744 - gene_13_loss: 1.6572 - val_loss: 23.8495 - val_gene_0_loss: 2.0171 - val_gene_1_loss: 0.9207 - val_gene_2_loss: 1.8774 - val_gene_3_loss: 1.9153 - val_gene_4_loss: 1.8713 - val_gene_5_loss: 1.3648 - val_gene_6_loss: 1.2639 - val_gene_7_loss: 2.0562 - val_gene_8_loss: 1.5204 - val_gene_9_loss: 2.0434 - val_gene_10_loss: 1.8451 - val_gene_11_loss: 1.6779 - val_gene_12_loss: 1.8395 - val_gene_13_loss: 1.6364\n",
      "Epoch 7/10\n",
      "288/288 [==============================] - 95s 332ms/step - loss: 23.8313 - gene_0_loss: 2.0278 - gene_1_loss: 0.9364 - gene_2_loss: 1.8735 - gene_3_loss: 1.9116 - gene_4_loss: 1.8690 - gene_5_loss: 1.3782 - gene_6_loss: 1.2610 - gene_7_loss: 2.0529 - gene_8_loss: 1.5145 - gene_9_loss: 2.0221 - gene_10_loss: 1.8493 - gene_11_loss: 1.6722 - gene_12_loss: 1.8295 - gene_13_loss: 1.6332 - val_loss: 23.3969 - val_gene_0_loss: 1.9931 - val_gene_1_loss: 0.9099 - val_gene_2_loss: 1.8395 - val_gene_3_loss: 1.8701 - val_gene_4_loss: 1.8352 - val_gene_5_loss: 1.3434 - val_gene_6_loss: 1.2506 - val_gene_7_loss: 2.0153 - val_gene_8_loss: 1.4942 - val_gene_9_loss: 1.9628 - val_gene_10_loss: 1.8131 - val_gene_11_loss: 1.6519 - val_gene_12_loss: 1.8028 - val_gene_13_loss: 1.6149\n",
      "Epoch 8/10\n",
      "288/288 [==============================] - 95s 331ms/step - loss: 23.3954 - gene_0_loss: 2.0026 - gene_1_loss: 0.9262 - gene_2_loss: 1.8373 - gene_3_loss: 1.8678 - gene_4_loss: 1.8345 - gene_5_loss: 1.3578 - gene_6_loss: 1.2483 - gene_7_loss: 2.0140 - gene_8_loss: 1.4888 - gene_9_loss: 1.9441 - gene_10_loss: 1.8189 - gene_11_loss: 1.6472 - gene_12_loss: 1.7950 - gene_13_loss: 1.6129 - val_loss: 23.0209 - val_gene_0_loss: 1.9714 - val_gene_1_loss: 0.9012 - val_gene_2_loss: 1.8095 - val_gene_3_loss: 1.8332 - val_gene_4_loss: 1.8047 - val_gene_5_loss: 1.3255 - val_gene_6_loss: 1.2395 - val_gene_7_loss: 1.9817 - val_gene_8_loss: 1.4726 - val_gene_9_loss: 1.8932 - val_gene_10_loss: 1.7872 - val_gene_11_loss: 1.6309 - val_gene_12_loss: 1.7736 - val_gene_13_loss: 1.5965\n",
      "Epoch 9/10\n",
      "288/288 [==============================] - 95s 332ms/step - loss: 23.0316 - gene_0_loss: 1.9797 - gene_1_loss: 0.9179 - gene_2_loss: 1.8081 - gene_3_loss: 1.8317 - gene_4_loss: 1.8054 - gene_5_loss: 1.3407 - gene_6_loss: 1.2376 - gene_7_loss: 1.9815 - gene_8_loss: 1.4675 - gene_9_loss: 1.8774 - gene_10_loss: 1.7942 - gene_11_loss: 1.6270 - gene_12_loss: 1.7674 - gene_13_loss: 1.5954 - val_loss: 22.7058 - val_gene_0_loss: 1.9514 - val_gene_1_loss: 0.8942 - val_gene_2_loss: 1.7845 - val_gene_3_loss: 1.8022 - val_gene_4_loss: 1.7790 - val_gene_5_loss: 1.3101 - val_gene_6_loss: 1.2302 - val_gene_7_loss: 1.9531 - val_gene_8_loss: 1.4546 - val_gene_9_loss: 1.8368 - val_gene_10_loss: 1.7658 - val_gene_11_loss: 1.6137 - val_gene_12_loss: 1.7497 - val_gene_13_loss: 1.5806\n",
      "Epoch 10/10\n",
      "288/288 [==============================] - 95s 331ms/step - loss: 22.7252 - gene_0_loss: 1.9588 - gene_1_loss: 0.9112 - gene_2_loss: 1.7836 - gene_3_loss: 1.8011 - gene_4_loss: 1.7807 - gene_5_loss: 1.3259 - gene_6_loss: 1.2285 - gene_7_loss: 1.9535 - gene_8_loss: 1.4497 - gene_9_loss: 1.8235 - gene_10_loss: 1.7735 - gene_11_loss: 1.6103 - gene_12_loss: 1.7447 - gene_13_loss: 1.5800 - val_loss: 22.4389 - val_gene_0_loss: 1.9330 - val_gene_1_loss: 0.8883 - val_gene_2_loss: 1.7632 - val_gene_3_loss: 1.7753 - val_gene_4_loss: 1.7570 - val_gene_5_loss: 1.2966 - val_gene_6_loss: 1.2222 - val_gene_7_loss: 1.9282 - val_gene_8_loss: 1.4394 - val_gene_9_loss: 1.7926 - val_gene_10_loss: 1.7477 - val_gene_11_loss: 1.5992 - val_gene_12_loss: 1.7298 - val_gene_13_loss: 1.5665\n"
     ]
    }
   ],
   "source": [
    "with tf.device(\"GPU:0\"):\n",
    "    train_history = model.fit(train_gen_,\n",
    "                              epochs=40,\n",
    "                              validation_data=valid_gen_,\n",
    "                              callbacks=[callback]\n",
    "                              )"
   ]
  },
  {
   "cell_type": "code",
   "execution_count": 19,
   "id": "2c45e19a",
   "metadata": {},
   "outputs": [],
   "source": [
    "model.save(OUT_PATH / f\"resnet50_{1}.h5\")"
   ]
  },
  {
   "cell_type": "code",
   "execution_count": null,
   "id": "dec7bed3",
   "metadata": {},
   "outputs": [],
   "source": [
    "for e_id in range(ensemble_size):\n",
    "    e_id += 1\n",
    "    model = tf.load(OUT_PATH / f\"resnet50_{e_id}.h5\")\n",
    "    # get output "
   ]
  },
  {
   "cell_type": "code",
   "execution_count": 135,
   "id": "98fe1eda",
   "metadata": {},
   "outputs": [],
   "source": [
    "tf.random.set_seed()"
   ]
  },
  {
   "cell_type": "code",
   "execution_count": 22,
   "id": "cf189288",
   "metadata": {},
   "outputs": [
    {
     "data": {
      "image/png": "[encoded data removed]",
      "text/plain": [
       "<Figure size 432x288 with 1 Axes>"
      ]
     },
     "metadata": {
      "needs_background": "light"
     },
     "output_type": "display_data"
    }
   ],
   "source": [
    "plt.plot(train_history.history['loss'])\n",
    "plt.plot(train_history.history['val_loss'])\n",
    "plt.legend(['loss', 'val_loss'])\n",
    "plt.xlabel('Epochs')\n",
    "plt.show()"
   ]
  },
  {
   "cell_type": "code",
   "execution_count": 34,
   "id": "d8969d30",
   "metadata": {},
   "outputs": [],
   "source": [
    "test_dataset_1??"
   ]
  },
  {
   "cell_type": "code",
   "execution_count": 35,
   "id": "56dc21a5",
   "metadata": {},
   "outputs": [
    {
     "data": {
      "text/plain": [
       "['COX6C',\n",
       " 'TTLL12',\n",
       " 'PABPC1',\n",
       " 'GNAS',\n",
       " 'HSP90AB1',\n",
       " 'TFF3',\n",
       " 'ATP1A1',\n",
       " 'B2M',\n",
       " 'FASN',\n",
       " 'SPARC',\n",
       " 'CD74',\n",
       " 'CD63',\n",
       " 'CD24',\n",
       " 'CD81']"
      ]
     },
     "execution_count": 35,
     "metadata": {},
     "output_type": "execute_result"
    }
   ],
   "source": [
    "gene_list"
   ]
  },
  {
   "cell_type": "code",
   "execution_count": 43,
   "id": "c5b9e414",
   "metadata": {},
   "outputs": [
    {
     "data": {
      "text/plain": [
       "['COX6C',\n",
       " 'TTLL12',\n",
       " 'PABPC1',\n",
       " 'GNAS',\n",
       " 'HSP90AB1',\n",
       " 'TFF3',\n",
       " 'ATP1A1',\n",
       " 'B2M',\n",
       " 'FASN',\n",
       " 'SPARC',\n",
       " 'CD74',\n",
       " 'CD63',\n",
       " 'CD24',\n",
       " 'CD81']"
      ]
     },
     "execution_count": 43,
     "metadata": {},
     "output_type": "execute_result"
    }
   ],
   "source": [
    "gene_list"
   ]
  },
  {
   "cell_type": "code",
   "execution_count": 45,
   "id": "368c508f",
   "metadata": {},
   "outputs": [
    {
     "data": {
      "text/plain": [
       "(2338, 14)"
      ]
     },
     "execution_count": 45,
     "metadata": {},
     "output_type": "execute_result"
    }
   ],
   "source": [
    "# TO DO\n",
    "\n",
    "# 1. deterministic write pipeline for producing df w [mean, std, actual]\n",
    "# 1.5. train ensemble\n",
    "# 2. Bayesian write pipeline for producing df w [epistemic, aleatoric, total_uncertainty, expectation, variance, actual]\n",
    "# 3. produce plot showing the selective prediction w uncertainty thresholding\n",
    "# 4. produce plot showing histology slide with companion aleatoric, epistemic, and total\n",
    "\n",
    "# \n",
    "# Draft results by end of week 2 (Feb-17th)"
   ]
  },
  {
   "cell_type": "code",
   "execution_count": null,
   "id": "317153b2",
   "metadata": {},
   "outputs": [],
   "source": [
    "test_dataset_1"
   ]
  },
  {
   "cell_type": "code",
   "execution_count": 23,
   "id": "26fd965f",
   "metadata": {},
   "outputs": [],
   "source": [
    "pred_test_1 = model.predict(test_gen__1)"
   ]
  },
  {
   "cell_type": "code",
   "execution_count": 111,
   "id": "f0a72448",
   "metadata": {},
   "outputs": [],
   "source": [
    "pred_test_2 = model.predict(test_gen__2)"
   ]
  },
  {
   "cell_type": "code",
   "execution_count": 46,
   "id": "28d32f15",
   "metadata": {},
   "outputs": [],
   "source": [
    "df_target_1 = test_dataset_1.to_df().loc[:, gene_list]"
   ]
  },
  {
   "cell_type": "code",
   "execution_count": 48,
   "id": "907ef00e",
   "metadata": {},
   "outputs": [],
   "source": [
    "df_target_2 = test_dataset_2.to_df().loc[:, gene_list]"
   ]
  },
  {
   "cell_type": "code",
   "execution_count": 87,
   "id": "4bea892c",
   "metadata": {},
   "outputs": [],
   "source": []
  },
  {
   "cell_type": "code",
   "execution_count": 89,
   "id": "b2a2bec5",
   "metadata": {},
   "outputs": [
    {
     "data": {
      "text/html": [
       "<div>\n",
       "<style scoped>\n",
       "    .dataframe tbody tr th:only-of-type {\n",
       "        vertical-align: middle;\n",
       "    }\n",
       "\n",
       "    .dataframe tbody tr th {\n",
       "        vertical-align: top;\n",
       "    }\n",
       "\n",
       "    .dataframe thead th {\n",
       "        text-align: right;\n",
       "    }\n",
       "</style>\n",
       "<table border=\"1\" class=\"dataframe\">\n",
       "  <thead>\n",
       "    <tr style=\"text-align: right;\">\n",
       "      <th></th>\n",
       "      <th>mean</th>\n",
       "      <th>var</th>\n",
       "      <th>std</th>\n",
       "      <th>target</th>\n",
       "    </tr>\n",
       "  </thead>\n",
       "  <tbody>\n",
       "    <tr>\n",
       "      <th>0</th>\n",
       "      <td>2.935439</td>\n",
       "      <td>4.074678</td>\n",
       "      <td>2.018583</td>\n",
       "      <td>2.944439</td>\n",
       "    </tr>\n",
       "    <tr>\n",
       "      <th>1</th>\n",
       "      <td>5.838997</td>\n",
       "      <td>11.633478</td>\n",
       "      <td>3.410788</td>\n",
       "      <td>1.098612</td>\n",
       "    </tr>\n",
       "    <tr>\n",
       "      <th>2</th>\n",
       "      <td>7.910624</td>\n",
       "      <td>17.247154</td>\n",
       "      <td>4.152969</td>\n",
       "      <td>2.079442</td>\n",
       "    </tr>\n",
       "    <tr>\n",
       "      <th>3</th>\n",
       "      <td>4.063245</td>\n",
       "      <td>6.980574</td>\n",
       "      <td>2.642078</td>\n",
       "      <td>1.098612</td>\n",
       "    </tr>\n",
       "    <tr>\n",
       "      <th>4</th>\n",
       "      <td>4.097795</td>\n",
       "      <td>6.987684</td>\n",
       "      <td>2.643423</td>\n",
       "      <td>0.693147</td>\n",
       "    </tr>\n",
       "  </tbody>\n",
       "</table>\n",
       "</div>"
      ],
      "text/plain": [
       "       mean        var       std    target\n",
       "0  2.935439   4.074678  2.018583  2.944439\n",
       "1  5.838997  11.633478  3.410788  1.098612\n",
       "2  7.910624  17.247154  4.152969  2.079442\n",
       "3  4.063245   6.980574  2.642078  1.098612\n",
       "4  4.097795   6.987684  2.643423  0.693147"
      ]
     },
     "execution_count": 89,
     "metadata": {},
     "output_type": "execute_result"
    }
   ],
   "source": [
    "df_temp.head()"
   ]
  },
  {
   "cell_type": "code",
   "execution_count": 114,
   "id": "49c2bb22",
   "metadata": {},
   "outputs": [],
   "source": [
    "def get_results(df_target, np_preds, list_genes):\n",
    "    \n",
    "    # instantiate dictionary\n",
    "    dict_results = {}\n",
    "    \n",
    "    for gene_idx, gene_name in enumerate(list_genes):\n",
    "        \n",
    "        # actual \n",
    "        target = df_target[gene_name]\n",
    "\n",
    "        # predicted NB params \n",
    "        n, p = np_preds[gene_idx][:,0], np_preds[gene_idx][:,1]\n",
    "        \n",
    "        # mean, var, std \n",
    "        mu, var = nbinom.stats(n, p, moments='mv')\n",
    "        std = np.sqrt(var)\n",
    "\n",
    "        # create dataframe\n",
    "        df_temp = pd.DataFrame(\n",
    "            data=np.stack([mu, var, std, target], axis=1), \n",
    "            columns=['mean', 'var', 'std', 'target'],\n",
    "            index= df_target.index\n",
    "        )\n",
    "        \n",
    "        # append dictionary\n",
    "        dict_results[gene_name] = df_temp\n",
    "        \n",
    "    return dict_results"
   ]
  },
  {
   "cell_type": "code",
   "execution_count": 98,
   "id": "d02aef23",
   "metadata": {},
   "outputs": [],
   "source": [
    "df_target = df_target_1.copy()\n",
    "np_preds = pred_test_1.copy()\n",
    "list_genes = gene_list.copy()"
   ]
  },
  {
   "cell_type": "code",
   "execution_count": 107,
   "id": "8d9e39f6",
   "metadata": {},
   "outputs": [],
   "source": [
    "dict_res1 = get_results(\n",
    "    df_target = df_target_1, \n",
    "    np_preds = pred_test_1,\n",
    "    list_genes = gene_list\n",
    ")"
   ]
  },
  {
   "cell_type": "code",
   "execution_count": 115,
   "id": "fd763b5c",
   "metadata": {
    "scrolled": true
   },
   "outputs": [],
   "source": [
    "dict_res2 = get_results(\n",
    "    df_target = df_target_2, \n",
    "    np_preds = pred_test_2,\n",
    "    list_genes = gene_list\n",
    ")"
   ]
  },
  {
   "cell_type": "code",
   "execution_count": 128,
   "id": "c7f9fffd",
   "metadata": {},
   "outputs": [],
   "source": [
    "df_res1_all = pd.concat([dict_res1[g] for g in dict_res1.keys()], axis=0)\n",
    "df_res2_all = pd.concat([dict_res2[g] for g in dict_res2.keys()], axis=0)"
   ]
  },
  {
   "cell_type": "code",
   "execution_count": 129,
   "id": "9e84b4cd",
   "metadata": {},
   "outputs": [],
   "source": [
    "df_res_all = pd.concat([df_res1_all, df_res2_all], axis=0)"
   ]
  },
  {
   "cell_type": "code",
   "execution_count": 131,
   "id": "5d25670d",
   "metadata": {
    "scrolled": true
   },
   "outputs": [
    {
     "data": {
      "text/plain": [
       "(0.2762159394096582, 0.0)"
      ]
     },
     "execution_count": 131,
     "metadata": {},
     "output_type": "execute_result"
    }
   ],
   "source": [
    "pearsonr(df_res1_all['target'], df_res1_all['mean'])"
   ]
  },
  {
   "cell_type": "code",
   "execution_count": 132,
   "id": "8bb83626",
   "metadata": {
    "scrolled": true
   },
   "outputs": [
    {
     "data": {
      "text/plain": [
       "(0.5736514250260873, 0.0)"
      ]
     },
     "execution_count": 132,
     "metadata": {},
     "output_type": "execute_result"
    }
   ],
   "source": [
    "pearsonr(df_res2_all['target'], df_res2_all['mean'])"
   ]
  },
  {
   "cell_type": "code",
   "execution_count": 130,
   "id": "32c01a7a",
   "metadata": {
    "scrolled": true
   },
   "outputs": [
    {
     "data": {
      "text/plain": [
       "(0.4494130066977668, 0.0)"
      ]
     },
     "execution_count": 130,
     "metadata": {},
     "output_type": "execute_result"
    }
   ],
   "source": [
    "pearsonr(df_res_all['target'], df_res_all['mean'])"
   ]
  },
  {
   "cell_type": "code",
   "execution_count": 121,
   "id": "40519971",
   "metadata": {},
   "outputs": [
    {
     "data": {
      "text/plain": [
       "(-0.1027875138788497, 1.0353204570941155e-12)"
      ]
     },
     "execution_count": 121,
     "metadata": {},
     "output_type": "execute_result"
    }
   ],
   "source": [
    "pearsonr(dict_res2['COX6C']['mean'], dict_res2['COX6C']['target'])"
   ]
  },
  {
   "cell_type": "code",
   "execution_count": 117,
   "id": "7ad68680",
   "metadata": {},
   "outputs": [
    {
     "data": {
      "text/html": [
       "<div>\n",
       "<style scoped>\n",
       "    .dataframe tbody tr th:only-of-type {\n",
       "        vertical-align: middle;\n",
       "    }\n",
       "\n",
       "    .dataframe tbody tr th {\n",
       "        vertical-align: top;\n",
       "    }\n",
       "\n",
       "    .dataframe thead th {\n",
       "        text-align: right;\n",
       "    }\n",
       "</style>\n",
       "<table border=\"1\" class=\"dataframe\">\n",
       "  <thead>\n",
       "    <tr style=\"text-align: right;\">\n",
       "      <th></th>\n",
       "      <th>mean</th>\n",
       "      <th>var</th>\n",
       "      <th>std</th>\n",
       "      <th>target</th>\n",
       "    </tr>\n",
       "  </thead>\n",
       "  <tbody>\n",
       "    <tr>\n",
       "      <th>TGGTACCGGCACAGCC-1-1160920F</th>\n",
       "      <td>3.259137</td>\n",
       "      <td>5.483247</td>\n",
       "      <td>2.341633</td>\n",
       "      <td>0.000000</td>\n",
       "    </tr>\n",
       "    <tr>\n",
       "      <th>GCGCGTTTAAATCGTA-1-1160920F</th>\n",
       "      <td>2.897606</td>\n",
       "      <td>4.424093</td>\n",
       "      <td>2.103353</td>\n",
       "      <td>0.693147</td>\n",
       "    </tr>\n",
       "    <tr>\n",
       "      <th>TGCCTTGCCCTTACGG-1-1160920F</th>\n",
       "      <td>4.820837</td>\n",
       "      <td>9.262687</td>\n",
       "      <td>3.043466</td>\n",
       "      <td>1.098612</td>\n",
       "    </tr>\n",
       "    <tr>\n",
       "      <th>GACGACTTTCCAAGAA-1-1160920F</th>\n",
       "      <td>3.893397</td>\n",
       "      <td>6.666375</td>\n",
       "      <td>2.581932</td>\n",
       "      <td>1.791759</td>\n",
       "    </tr>\n",
       "    <tr>\n",
       "      <th>CCAGTGAGCTCCTTGT-1-1160920F</th>\n",
       "      <td>1.962099</td>\n",
       "      <td>2.708454</td>\n",
       "      <td>1.645738</td>\n",
       "      <td>0.000000</td>\n",
       "    </tr>\n",
       "  </tbody>\n",
       "</table>\n",
       "</div>"
      ],
      "text/plain": [
       "                                 mean       var       std    target\n",
       "TGGTACCGGCACAGCC-1-1160920F  3.259137  5.483247  2.341633  0.000000\n",
       "GCGCGTTTAAATCGTA-1-1160920F  2.897606  4.424093  2.103353  0.693147\n",
       "TGCCTTGCCCTTACGG-1-1160920F  4.820837  9.262687  3.043466  1.098612\n",
       "GACGACTTTCCAAGAA-1-1160920F  3.893397  6.666375  2.581932  1.791759\n",
       "CCAGTGAGCTCCTTGT-1-1160920F  1.962099  2.708454  1.645738  0.000000"
      ]
     },
     "execution_count": 117,
     "metadata": {},
     "output_type": "execute_result"
    }
   ],
   "source": [
    "dict_res2['COX6C'].head()"
   ]
  },
  {
   "cell_type": "code",
   "execution_count": null,
   "id": "02a80078",
   "metadata": {},
   "outputs": [],
   "source": []
  }
 ],
 "metadata": {
  "kernelspec": {
   "display_name": "Python 3",
   "language": "python",
   "name": "python3"
  },
  "language_info": {
   "codemirror_mode": {
    "name": "ipython",
    "version": 3
   },
   "file_extension": ".py",
   "mimetype": "text/x-python",
   "name": "python",
   "nbconvert_exporter": "python",
   "pygments_lexer": "ipython3",
   "version": "3.8.6"
  }
 },
 "nbformat": 4,
 "nbformat_minor": 5
}
