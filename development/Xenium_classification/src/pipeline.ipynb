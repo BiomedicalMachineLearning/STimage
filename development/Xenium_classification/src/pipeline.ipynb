{
 "cells": [
  {
   "cell_type": "code",
   "execution_count": null,
   "metadata": {},
   "outputs": [],
   "source": [
    "import matplotlib.pyplot as plt\n",
    "import numpy as np\n",
    "import pandas as pd\n",
    "import scanpy as sp\n",
    "import pathml.ml.hovernet as hn\n",
    "import spatialdata as sd\n",
    "import spatialdata_io as sd_io\n",
    "import spatialdata.transformations as sd_t\n",
    "import xenium_utils as xu"
   ]
  },
  {
   "cell_type": "code",
   "execution_count": null,
   "metadata": {},
   "outputs": [],
   "source": [
    "image_filename = '/scratch/project_mnt/S0010/Andrew_N/XeniumData/MPS-1-output/images/0_311.png'\n",
    "mask_filename = '/scratch/project_mnt/S0010/Andrew_N/XeniumData/MPS-1-output/masks/0_311.npy'\n",
    "tif_input = '/scratch/project_mnt/S0010/Andrew_N/XeniumData/MPS-1-output/output_image.tif'\n",
    "h5_annotated = '/scratch/project_mnt/S0010/Andrew_N/XeniumData/MPS-1-output/imputed_annotated.h5ad'\n",
    "transform_file = '/scratch/project_mnt/S0010/Andrew_N/XeniumData/alignments/MPS-1-matrix.csv'\n",
    "xenium_file = '/scratch/project_mnt/S0010/Andrew_N/XeniumData/MPS-1'\n",
    "obj_threshold = 10"
   ]
  },
  {
   "cell_type": "code",
   "execution_count": null,
   "metadata": {},
   "outputs": [],
   "source": [
    "full_image_parsed = xu.load_registered_image(tif_input)"
   ]
  },
  {
   "cell_type": "code",
   "execution_count": null,
   "metadata": {},
   "outputs": [],
   "source": [
    "adata_annotated = sp.read_h5ad(h5_annotated)\n",
    "adata_annotated"
   ]
  },
  {
   "cell_type": "code",
   "execution_count": null,
   "metadata": {},
   "outputs": [],
   "source": [
    "sdata = sd_io.xenium(xenium_file, n_jobs=8, cells_as_shapes=True)\n",
    "sdata"
   ]
  },
  {
   "cell_type": "code",
   "execution_count": null,
   "metadata": {},
   "outputs": [],
   "source": [
    "sdata.table.obs[[\"celltype_major\"]] = adata_annotated.obs.reset_index()[['predicted.id']]\n",
    "sdata"
   ]
  },
  {
   "cell_type": "code",
   "execution_count": null,
   "metadata": {},
   "outputs": [],
   "source": [
    "merged = sd.SpatialData(\n",
    "    images={\n",
    "        \"he\": full_image_parsed,\n",
    "    },\n",
    "    shapes={\n",
    "        \"cell_circles\": sdata.shapes[\"cell_circles\"], # Required for bbox queries otherwise adata table disappears\n",
    "        \"cell_boundaries\": sdata.shapes[\"cell_boundaries\"],\n",
    "        \"nucleus_boundaries\": sdata.shapes[\"nucleus_boundaries\"],\n",
    "    },\n",
    "    table=sdata.table,\n",
    ")"
   ]
  },
  {
   "cell_type": "code",
   "execution_count": null,
   "metadata": {},
   "outputs": [],
   "source": [
    "A = pd.read_csv(transform_file, header=None).to_numpy()\n",
    "if A.shape[0] == 2:\n",
    "    A = np.append(A, [[0,0,1]], axis=0)\n",
    "affineT = sd_t.Affine(A, input_axes=(\"x\", \"y\"), output_axes=(\"x\", \"y\"))"
   ]
  },
  {
   "cell_type": "code",
   "execution_count": null,
   "metadata": {},
   "outputs": [],
   "source": [
    "height, width = full_image_parsed['scale0']['image'].shape[-2:]\n",
    "coords = [[[0, 0],[height, width]]]\n",
    "coords"
   ]
  },
  {
   "cell_type": "code",
   "execution_count": null,
   "metadata": {},
   "outputs": [],
   "source": [
    "xu.sdata_load_img_mask(merged, affineT=affineT, img_key='he', expand_px=3)"
   ]
  },
  {
   "cell_type": "code",
   "execution_count": null,
   "metadata": {},
   "outputs": [],
   "source": [
    "plt.imshow(plt.imread(image_filename))\n",
    "plt.axis('off')  # Optional: Remove the axis\n",
    "plt.show()"
   ]
  },
  {
   "cell_type": "code",
   "execution_count": null,
   "metadata": {},
   "outputs": [],
   "source": [
    "mask = np.load(str(mask_filename))\n",
    "np.unique(mask)\n",
    "mask\n"
   ]
  },
  {
   "cell_type": "code",
   "execution_count": null,
   "metadata": {},
   "outputs": [],
   "source": [
    "plt.imshow(mask.transpose(1,2,0))"
   ]
  },
  {
   "cell_type": "code",
   "execution_count": null,
   "metadata": {},
   "outputs": [],
   "source": [
    "mask.transpose(1,2,0).shape"
   ]
  },
  {
   "cell_type": "code",
   "execution_count": null,
   "metadata": {},
   "outputs": [],
   "source": [
    "nucleus_mask = (mask[-1] == 0).astype(np.uint8) # invert the bg mask\n",
    "filter_mask = (hn.remove_small_objs(nucleus_mask, obj_threshold) != 0)\n",
    "filter_mask_bg = (filter_mask == 0)\n",
    "mask[:-1] = np.multiply(filter_mask, mask[:-1])\n",
    "mask[-1] = np.multiply(filter_mask_bg, mask[-1])"
   ]
  },
  {
   "cell_type": "code",
   "execution_count": null,
   "metadata": {},
   "outputs": [],
   "source": [
    "mask.shape"
   ]
  },
  {
   "cell_type": "code",
   "execution_count": null,
   "metadata": {},
   "outputs": [],
   "source": []
  }
 ],
 "metadata": {
  "kernelspec": {
   "display_name": "hovernet",
   "language": "python",
   "name": "python3"
  },
  "language_info": {
   "codemirror_mode": {
    "name": "ipython",
    "version": 3
   },
   "file_extension": ".py",
   "mimetype": "text/x-python",
   "name": "python",
   "nbconvert_exporter": "python",
   "pygments_lexer": "ipython3",
   "version": "3.9.16"
  }
 },
 "nbformat": 4,
 "nbformat_minor": 2
}
