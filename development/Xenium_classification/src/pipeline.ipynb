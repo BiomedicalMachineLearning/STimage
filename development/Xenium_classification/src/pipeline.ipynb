{
 "cells": [
  {
   "cell_type": "code",
   "execution_count": null,
   "metadata": {},
   "outputs": [],
   "source": [
    "import cv2 as cv2\n",
    "import matplotlib.pyplot as plt\n",
    "import numpy as np\n",
    "import pandas as pd\n",
    "import scanpy as sp\n",
    "import tqdm as tqdm\n",
    "import pathml.ml.hovernet as hn\n",
    "import squidpy.im as sp_im\n",
    "import spatialdata as sd\n",
    "import spatialdata.models as sd_m\n",
    "import spatialdata_io as sd_io\n",
    "import multiscale_spatial_image as msi\n",
    "import spatialdata.transformations as sd_t\n",
    "import xenium_utils as xu\n",
    "from PIL import Image"
   ]
  },
  {
   "cell_type": "code",
   "execution_count": null,
   "metadata": {},
   "outputs": [],
   "source": [
    "image_filename = '/scratch/project_mnt/S0010/Andrew_N/XeniumData/MPS-1-output/images/0_311.png'\n",
    "mask_filename = '/scratch/project_mnt/S0010/Andrew_N/XeniumData/MPS-1-output/masks/0_311.npy'\n",
    "tif_input = '/scratch/project_mnt/S0010/Andrew_N/XeniumData/MPS-1-output/output_image.tif'\n",
    "h5_annotated = '/scratch/project_mnt/S0010/Andrew_N/XeniumData/MPS-1-output/imputed_annotated.h5ad'\n",
    "transform_file = '/scratch/project_mnt/S0010/Andrew_N/XeniumData/alignments/MPS-1-matrix.csv'\n",
    "xenium_file = '/scratch/project_mnt/S0010/Andrew_N/XeniumData/MPS-1'\n",
    "obj_threshold = 10"
   ]
  },
  {
   "cell_type": "code",
   "execution_count": null,
   "metadata": {},
   "outputs": [],
   "source": [
    "full_image_parsed = xu.load_registered_image(tif_input)"
   ]
  },
  {
   "cell_type": "code",
   "execution_count": null,
   "metadata": {},
   "outputs": [],
   "source": [
    "adata_annotated = sp.read_h5ad(h5_annotated)\n",
    "adata_annotated"
   ]
  },
  {
   "cell_type": "code",
   "execution_count": null,
   "metadata": {},
   "outputs": [],
   "source": [
    "sdata = sd_io.xenium(xenium_file, n_jobs=8, cells_as_shapes=True)\n",
    "sdata"
   ]
  },
  {
   "cell_type": "code",
   "execution_count": null,
   "metadata": {},
   "outputs": [],
   "source": [
    "sdata.table.obs[[\"celltype_major\"]] = adata_annotated.obs.reset_index()[['predicted.id']]\n",
    "sdata"
   ]
  },
  {
   "cell_type": "code",
   "execution_count": null,
   "metadata": {},
   "outputs": [],
   "source": [
    "merged = sd.SpatialData(\n",
    "    images={\n",
    "        \"he\": full_image_parsed,\n",
    "    },\n",
    "    shapes={\n",
    "        \"cell_circles\": sdata.shapes[\"cell_circles\"], # Required for bbox queries otherwise adata table disappears\n",
    "        \"cell_boundaries\": sdata.shapes[\"cell_boundaries\"],\n",
    "        \"nucleus_boundaries\": sdata.shapes[\"nucleus_boundaries\"],\n",
    "    },\n",
    "    table=sdata.table,\n",
    ")"
   ]
  },
  {
   "cell_type": "code",
   "execution_count": null,
   "metadata": {},
   "outputs": [],
   "source": [
    "A = pd.read_csv(transform_file, header=None).to_numpy()\n",
    "if A.shape[0] == 2:\n",
    "    A = np.append(A, [[0,0,1]], axis=0)\n",
    "affineT = sd_t.Affine(A, input_axes=(\"x\", \"y\"), output_axes=(\"x\", \"y\"))"
   ]
  },
  {
   "cell_type": "code",
   "execution_count": null,
   "metadata": {},
   "outputs": [],
   "source": [
    "height, width = full_image_parsed['scale0']['image'].shape[-2:]\n",
    "coords = [[[0, 0],[height, width]]]\n",
    "coords"
   ]
  },
  {
   "cell_type": "code",
   "execution_count": null,
   "metadata": {},
   "outputs": [],
   "source": [
    "# img_sep, mask_sep = xu.sdata_load_img_mask(merged, affineT=affineT, img_key='he', expand_px=3, return_sep=True)"
   ]
  },
  {
   "cell_type": "code",
   "execution_count": null,
   "metadata": {},
   "outputs": [],
   "source": [
    "#mask_sep.shape"
   ]
  },
  {
   "cell_type": "code",
   "execution_count": null,
   "metadata": {},
   "outputs": [],
   "source": [
    "img_key = 'he'\n",
    "shape_key = 'nucleus_boundaries'\n",
    "label_key = 'celltype_major'\n",
    "t_shapes = sd_t.Sequence([\n",
    "  sd_t.get_transformation(merged.shapes[shape_key]),\n",
    "  sd_t.get_transformation(merged.images[img_key]).inverse()])\n"
   ]
  },
  {
   "cell_type": "code",
   "execution_count": null,
   "metadata": {},
   "outputs": [],
   "source": [
    "shapes = sd.transform(merged.shapes[shape_key], t_shapes)\n",
    "shapes = sd.transform(shapes, affineT)"
   ]
  },
  {
   "cell_type": "code",
   "execution_count": null,
   "metadata": {},
   "outputs": [],
   "source": [
    "shapes.index = shapes.index.astype(int)"
   ]
  },
  {
   "cell_type": "code",
   "execution_count": null,
   "metadata": {},
   "outputs": [],
   "source": [
    "labels = merged.table.obs[label_key].to_frame()\n",
    "labels.index = shapes.index.astype(int)\n",
    "shapes_df = shapes.merge(labels, how = 'inner', right_index = True, left_index = True)\n",
    "shapes_df['label'] = shapes_df[label_key].cat.codes"
   ]
  },
  {
   "cell_type": "code",
   "execution_count": null,
   "metadata": {},
   "outputs": [],
   "source": [
    "shapes_df_dict = {k: v for k, v in shapes_df.groupby(label_key)}      \n",
    "shapes_df_dict               "
   ]
  },
  {
   "cell_type": "code",
   "execution_count": null,
   "metadata": {},
   "outputs": [],
   "source": [
    "img = merged.images[img_key]\n",
    "if isinstance(img, msi.multiscale_spatial_image.MultiscaleSpatialImage):\n",
    "    # Note that this clears any transformation attribute\n",
    "    img = sd_m.Image2DModel.parse(img[\"scale0\"].ds.to_array().squeeze(axis=0))\n",
    "img = img.values"
   ]
  },
  {
   "cell_type": "code",
   "execution_count": null,
   "metadata": {},
   "outputs": [],
   "source": [
    "def new_mask_for_polygons(polygons, im_size, vals):\n",
    "  print(im_size)\n",
    "  if not isinstance(vals, (list, tuple, np.ndarray)):\n",
    "      vals = np.ones_like(polygons)\n",
    "  img_mask = np.zeros(im_size, np.float64)\n",
    "  if not polygons:\n",
    "      print(\"Not polys\")\n",
    "      return img_mask\n",
    "  int_coords = lambda x: np.array(x).round().astype(np.int32)\n",
    "  exteriors = [int_coords(poly.exterior.coords) if poly.geom_type == 'Polygon' \n",
    "            else int_coords(poly.convex_hull.exterior.coords)\n",
    "            for poly in polygons]\n",
    "  interiors = [poly.interiors if poly.geom_type == 'Polygon'\n",
    "                else poly.convex_hull.interiors\n",
    "                for poly in polygons]\n",
    "  interiors = [int_coords(pi.coords) for poly in interiors for pi in poly] # interiors should be [] anyway\n",
    "  print(f\"Exteriors: {type(exteriors[0])} {exteriors[0]}\")\n",
    "  print(f\"Interiors: {interiors}\")\n",
    "  print(f\"Vals {vals}\")\n",
    "  cv2.fillPoly(img_mask, [exteriors[0]], vals[0])\n",
    "  for i in range(len(exteriors)):\n",
    "      cv2.fillPoly(img_mask, [exteriors[i]], vals[i])\n",
    "  for i in range(len(interiors)):\n",
    "      cv2.fillPoly(img_mask, [interiors[i]], 0)\n",
    "  print(f\"Mask: {img_mask} {np.all(img_mask == 0),}\")\n",
    "  return img_mask"
   ]
  },
  {
   "cell_type": "code",
   "execution_count": null,
   "metadata": {},
   "outputs": [],
   "source": [
    "from itertools import islice\n",
    "\n",
    "first_five = islice(shapes_df_dict.items(), 2)"
   ]
  },
  {
   "cell_type": "code",
   "execution_count": null,
   "metadata": {},
   "outputs": [],
   "source": [
    "masks = [\n",
    "    new_mask_for_polygons(\n",
    "        v['geometry'].tolist(),\n",
    "        img.shape[-2:],\n",
    "        # Add 1 here in case val is 0 (background)\n",
    "        vals=(v.index.to_numpy() +1).tolist()\n",
    "    )\n",
    "    # https://stackoverflow.com/questions/60484383/typeerror-scalar-value-for-argument-color-is-not-numeric-when-using-opencv\n",
    "    for k, v in first_five\n",
    "]\n"
   ]
  },
  {
   "cell_type": "code",
   "execution_count": null,
   "metadata": {},
   "outputs": [],
   "source": [
    "masks"
   ]
  },
  {
   "cell_type": "code",
   "execution_count": null,
   "metadata": {},
   "outputs": [],
   "source": [
    "print(\n",
    "  np.all(masks[0] == 0),\n",
    "  np.all(masks[1] == 0)\n",
    ")"
   ]
  },
  {
   "cell_type": "code",
   "execution_count": null,
   "metadata": {},
   "outputs": [],
   "source": [
    "masks = np.stack(masks)\n",
    "mask_bg = (np.sum(masks, axis=0) == 0)*1.\n",
    "mask = np.concatenate((masks, np.expand_dims(mask_bg, axis=0)))\n",
    "mask"
   ]
  },
  {
   "cell_type": "code",
   "execution_count": null,
   "metadata": {},
   "outputs": [],
   "source": [
    "print(\n",
    "  np.all(masks[0] == 0),\n",
    "  np.all(masks[1] == 0),\n",
    "  np.all(masks[2] == 0)\n",
    ")"
   ]
  },
  {
   "cell_type": "code",
   "execution_count": null,
   "metadata": {},
   "outputs": [],
   "source": [
    "masks.shape"
   ]
  },
  {
   "cell_type": "code",
   "execution_count": null,
   "metadata": {},
   "outputs": [],
   "source": [
    "img_mask = xu.sdata_load_img_mask(merged, affineT=affineT, img_key='he', expand_px=3)\n",
    "img_mask"
   ]
  },
  {
   "cell_type": "code",
   "execution_count": null,
   "metadata": {},
   "outputs": [],
   "source": [
    "imgc = sp_im.ImageContainer(img_mask)\n",
    "gen = imgc.generate_equal_crops(size=256, as_array='image', squeeze=True)"
   ]
  },
  {
   "cell_type": "code",
   "execution_count": null,
   "metadata": {},
   "outputs": [],
   "source": [
    "for i, tile in enumerate(tqdm.tqdm(gen)):\n",
    "  if i == 311 or i == 312:\n",
    "    mask = tile[:,:,3:-1]\n",
    "    # mask = np.moveaxis(tile[:,:,3:], 2, 0)\n",
    "    print(mask)\n",
    "    image = Image.fromarray(tile[:,:,:3].astype(np.uint8))"
   ]
  },
  {
   "cell_type": "code",
   "execution_count": null,
   "metadata": {},
   "outputs": [],
   "source": [
    "mask"
   ]
  },
  {
   "cell_type": "code",
   "execution_count": null,
   "metadata": {},
   "outputs": [],
   "source": [
    "plt.imshow(plt.imread(image_filename))\n",
    "plt.axis('off')  # Optional: Remove the axis\n",
    "plt.show()"
   ]
  },
  {
   "cell_type": "code",
   "execution_count": null,
   "metadata": {},
   "outputs": [],
   "source": [
    "mask = np.load(str(mask_filename))\n",
    "np.unique(mask)\n",
    "mask\n"
   ]
  },
  {
   "cell_type": "code",
   "execution_count": null,
   "metadata": {},
   "outputs": [],
   "source": [
    "plt.imshow(mask.transpose(1,2,0))"
   ]
  },
  {
   "cell_type": "code",
   "execution_count": null,
   "metadata": {},
   "outputs": [],
   "source": [
    "mask.transpose(1,2,0).shape"
   ]
  },
  {
   "cell_type": "code",
   "execution_count": null,
   "metadata": {},
   "outputs": [],
   "source": [
    "nucleus_mask = (mask[-1] == 0).astype(np.uint8) # invert the bg mask\n",
    "filter_mask = (hn.remove_small_objs(nucleus_mask, obj_threshold) != 0)\n",
    "filter_mask_bg = (filter_mask == 0)\n",
    "mask[:-1] = np.multiply(filter_mask, mask[:-1])\n",
    "mask[-1] = np.multiply(filter_mask_bg, mask[-1])"
   ]
  },
  {
   "cell_type": "code",
   "execution_count": null,
   "metadata": {},
   "outputs": [],
   "source": [
    "mask.shape"
   ]
  },
  {
   "cell_type": "code",
   "execution_count": null,
   "metadata": {},
   "outputs": [],
   "source": []
  }
 ],
 "metadata": {
  "kernelspec": {
   "display_name": "hovernet",
   "language": "python",
   "name": "python3"
  },
  "language_info": {
   "codemirror_mode": {
    "name": "ipython",
    "version": 3
   },
   "file_extension": ".py",
   "mimetype": "text/x-python",
   "name": "python",
   "nbconvert_exporter": "python",
   "pygments_lexer": "ipython3",
   "version": "3.9.16"
  }
 },
 "nbformat": 4,
 "nbformat_minor": 2
}
