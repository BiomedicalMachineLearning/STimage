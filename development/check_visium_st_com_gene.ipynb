{
 "cells": [
  {
   "cell_type": "code",
   "execution_count": 1,
   "id": "92e1da41",
   "metadata": {},
   "outputs": [],
   "source": [
    "import sys\n",
    "import stlearn as st\n",
    "st.settings.set_figure_params(dpi=300)\n",
    "from pathlib import Path\n",
    "import pandas as pd\n",
    "import matplotlib.pyplot as plt\n",
    "import matplotlib\n",
    "import sys\n",
    "file = Path(\"../stimage\").resolve()\n",
    "parent= file.parent\n",
    "sys.path.append(str(parent))\n",
    "from PIL import Image\n",
    "from stimage._utils import gene_plot, Read10X, ReadOldST, tiling, ensembl_to_id\n",
    "from stimage._model import CNN_NB_multiple_genes, negative_binomial_layer, negative_binomial_loss\n",
    "from stimage._data_generator import DataGenerator\n",
    "import tensorflow as tf\n",
    "import seaborn as sns\n",
    "sns.set_style(\"white\")\n",
    "import matplotlib.pyplot as plt\n",
    "from scipy import stats\n",
    "import numpy as np\n",
    "# import geopandas as gpd\n",
    "from sklearn.neighbors import KDTree\n",
    "from anndata import read_h5ad\n",
    "from tensorflow.keras import backend as K\n",
    "import scanpy as sc\n",
    "\n",
    "import matplotlib.pyplot as plt\n",
    "from libpysal.weights.contiguity import Queen\n",
    "from libpysal import examples\n",
    "import numpy as np\n",
    "import pandas as pd\n",
    "import geopandas as gpd\n",
    "import os\n",
    "import splot\n",
    "from splot.esda import moran_scatterplot, lisa_cluster\n",
    "from esda.moran import Moran, Moran_Local\n",
    "from esda.moran import Moran_BV, Moran_Local_BV\n",
    "from splot.esda import plot_moran_bv_simulation, plot_moran_bv, plot_local_autocorrelation\n",
    "import pickle\n",
    "from scipy import stats\n",
    "\n",
    "def plot_correlation(df, attr_1, attr_2):\n",
    "    r = stats.pearsonr(df[attr_1], \n",
    "                       df[attr_2])[0] **2\n",
    "\n",
    "    g = sns.lmplot(data=df,\n",
    "        x=attr_1, y=attr_2,\n",
    "        height=5, legend=True\n",
    "    )\n",
    "    # g.set(ylim=(0, 360), xlim=(0,360))\n",
    "\n",
    "    g.set_axis_labels(attr_1, attr_2)\n",
    "    plt.annotate(r'$R^2:{0:.2f}$'.format(r),\n",
    "                (max(df[attr_1])*0.9, max(df[attr_2])*0.9))\n",
    "    return g\n",
    "\n",
    "\n",
    "def calculate_correlation(attr_1, attr_2):\n",
    "    r = stats.pearsonr(attr_1, \n",
    "                       attr_2)[0]\n",
    "    return r\n",
    "\n",
    "def calculate_correlation_2(attr_1, attr_2):\n",
    "    r = stats.spearmanr(attr_1, \n",
    "                       attr_2)[0]\n",
    "    return r"
   ]
  },
  {
   "cell_type": "code",
   "execution_count": 2,
   "id": "c7c6ce81",
   "metadata": {},
   "outputs": [],
   "source": [
    "DATA_PATH = Path(\"/clusterdata/uqxtan9/Xiao/STimage_100run/dataset_breast_cancer_9visium\")\n",
    "\n",
    "adata_all = read_h5ad(DATA_PATH / \"all_adata.h5ad\")"
   ]
  },
  {
   "cell_type": "code",
   "execution_count": 3,
   "id": "c10a8555",
   "metadata": {},
   "outputs": [],
   "source": [
    "samples = adata_all.obs[\"library_id\"].unique().tolist()"
   ]
  },
  {
   "cell_type": "code",
   "execution_count": 5,
   "id": "912a80e6",
   "metadata": {},
   "outputs": [],
   "source": [
    "gene_list=[\"COX6C\",\"TTLL12\", \"HSP90AB1\", \n",
    "           \"TFF3\", \"ATP1A1\", \"B2M\", \"FASN\", \"SPARC\", \"CD74\", \"CD63\", \"CD24\", \"CD81\"]\n",
    "\n",
    "df = pd.DataFrame()\n",
    "\n",
    "\n",
    "test_sample = ['block1',\n",
    " 'block2',\n",
    " 'FFPE']\n",
    "n_genes = len(gene_list)"
   ]
  },
  {
   "cell_type": "code",
   "execution_count": 7,
   "id": "ddd36daf",
   "metadata": {},
   "outputs": [],
   "source": [
    "adata_all_train_valid = adata_all[adata_all.obs[\"library_id\"].isin(\n",
    "    adata_all.obs.library_id.cat.remove_categories(test_sample).unique())]"
   ]
  },
  {
   "cell_type": "code",
   "execution_count": 12,
   "id": "a40af655",
   "metadata": {},
   "outputs": [
    {
     "ename": "NameError",
     "evalue": "name 'model' is not defined",
     "output_type": "error",
     "traceback": [
      "\u001b[0;31m---------------------------------------------------------------------------\u001b[0m",
      "\u001b[0;31mNameError\u001b[0m                                 Traceback (most recent call last)",
      "\u001b[0;32m<ipython-input-12-b08625d5d93d>\u001b[0m in \u001b[0;36m<module>\u001b[0;34m\u001b[0m\n\u001b[1;32m      9\u001b[0m     )\n\u001b[1;32m     10\u001b[0m     \u001b[0mtest_gen__1\u001b[0m \u001b[0;34m=\u001b[0m \u001b[0mtest_gen_1\u001b[0m\u001b[0;34m.\u001b[0m\u001b[0mbatch\u001b[0m\u001b[0;34m(\u001b[0m\u001b[0;36m1\u001b[0m\u001b[0;34m)\u001b[0m\u001b[0;34m\u001b[0m\u001b[0;34m\u001b[0m\u001b[0m\n\u001b[0;32m---> 11\u001b[0;31m     \u001b[0mtest_predictions\u001b[0m \u001b[0;34m=\u001b[0m \u001b[0mmodel\u001b[0m\u001b[0;34m.\u001b[0m\u001b[0mpredict\u001b[0m\u001b[0;34m(\u001b[0m\u001b[0mtest_gen__1\u001b[0m\u001b[0;34m)\u001b[0m\u001b[0;34m\u001b[0m\u001b[0;34m\u001b[0m\u001b[0m\n\u001b[0m\u001b[1;32m     12\u001b[0m     \u001b[0;32mfrom\u001b[0m \u001b[0mscipy\u001b[0m\u001b[0;34m.\u001b[0m\u001b[0mstats\u001b[0m \u001b[0;32mimport\u001b[0m \u001b[0mnbinom\u001b[0m\u001b[0;34m\u001b[0m\u001b[0;34m\u001b[0m\u001b[0m\n\u001b[1;32m     13\u001b[0m     \u001b[0my_preds\u001b[0m \u001b[0;34m=\u001b[0m \u001b[0;34m[\u001b[0m\u001b[0;34m]\u001b[0m\u001b[0;34m\u001b[0m\u001b[0;34m\u001b[0m\u001b[0m\n",
      "\u001b[0;31mNameError\u001b[0m: name 'model' is not defined"
     ]
    }
   ],
   "source": [
    "for test_sample in samples:\n",
    "    test_index = adata_all.obs.library_id == test_sample\n",
    "    test_dataset_1 = adata_all[test_index,].copy()\n",
    "    test_gen_1 = tf.data.Dataset.from_generator(\n",
    "        lambda:DataGenerator(adata=test_dataset_1, \n",
    "                      genes=gene_list), \n",
    "        output_types=(tf.float32, tuple([tf.float32]*n_genes)), \n",
    "        output_shapes=([299,299,3], tuple([1]*n_genes))\n",
    "    )\n",
    "    test_gen__1 = test_gen_1.batch(1)\n",
    "    test_predictions = model.predict(test_gen__1)\n",
    "    from scipy.stats import nbinom\n",
    "    y_preds = []\n",
    "    for i in range(n_genes):\n",
    "        n = test_predictions[i][:, 0]\n",
    "        p = test_predictions[i][:, 1]\n",
    "        y_pred = nbinom.mean(n, p)\n",
    "        y_preds.append(y_pred)\n",
    "    test_dataset_1.obsm[\"predicted_gene\"] = np.array(y_preds).transpose()\n",
    "\n",
    "    test_dataset_1_ = test_dataset_1[:,gene_list].copy()\n",
    "    test_dataset_1_.X = test_dataset_1_.obsm[\"predicted_gene\"]\n",
    "\n",
    "    test_dataset_1_.write(\"./stimage_LOOCV_9visium/pred_{}.h5ad\".format(test_sample))\n",
    "\n",
    "    pred_adata = test_dataset_1_\n",
    "    test_dataset = test_dataset_1\n",
    "\n",
    "    for gene in pred_adata.var_names:\n",
    "        cor_val = calculate_correlation(pred_adata.to_df().loc[:,gene], test_dataset.to_df().loc[:,gene])\n",
    "        df = df.append(pd.Series([gene, cor_val, test_sample, \"STimage\"], \n",
    "                         index=[\"Gene\", \"Pearson correlation\", \"Slide\", \"Method\"]),\n",
    "                          ignore_index=True)\n",
    "\n",
    "    df.to_csv(\"./stimage_LOOCV_9visium/stimage_cor_{}.csv\".format(test_sample))"
   ]
  },
  {
   "cell_type": "code",
   "execution_count": null,
   "id": "243dda98",
   "metadata": {},
   "outputs": [],
   "source": []
  },
  {
   "cell_type": "code",
   "execution_count": null,
   "id": "5975137e",
   "metadata": {},
   "outputs": [],
   "source": []
  },
  {
   "cell_type": "code",
   "execution_count": null,
   "id": "51b7772d",
   "metadata": {},
   "outputs": [],
   "source": []
  },
  {
   "cell_type": "code",
   "execution_count": null,
   "id": "76f2f2d5",
   "metadata": {},
   "outputs": [],
   "source": []
  },
  {
   "cell_type": "code",
   "execution_count": null,
   "id": "95b50fb7",
   "metadata": {},
   "outputs": [],
   "source": []
  },
  {
   "cell_type": "code",
   "execution_count": 3,
   "id": "f374500d",
   "metadata": {},
   "outputs": [
    {
     "data": {
      "text/plain": [
       "Index(['SAMD11', 'NOC2L', 'KLHL17', 'PLEKHN1', 'PERM1', 'HES4', 'ISG15',\n",
       "       'AGRN', 'RNF223', 'C1orf159',\n",
       "       ...\n",
       "       'F8A1', 'FUNDC2', 'CMC4', 'MTCP1', 'VBP1', 'RAB39B', 'CLIC2', 'TMLHE',\n",
       "       'SPRY3', 'VAMP7'],\n",
       "      dtype='object', length=14664)"
      ]
     },
     "execution_count": 3,
     "metadata": {},
     "output_type": "execute_result"
    }
   ],
   "source": [
    "adata_all.var_names"
   ]
  },
  {
   "cell_type": "code",
   "execution_count": 4,
   "id": "b944e48c",
   "metadata": {},
   "outputs": [],
   "source": [
    "gene_list_st = list(np.load('/clusterdata/uqxtan9/Xiao/STimage/development/stimage_compare_histogene_1000hvg/gene_list.pkl',allow_pickle=True))"
   ]
  },
  {
   "cell_type": "code",
   "execution_count": 5,
   "id": "a86f5226",
   "metadata": {},
   "outputs": [
    {
     "data": {
      "text/plain": [
       "769"
      ]
     },
     "execution_count": 5,
     "metadata": {},
     "output_type": "execute_result"
    }
   ],
   "source": [
    "len(gene_list_st)"
   ]
  },
  {
   "cell_type": "code",
   "execution_count": 6,
   "id": "23e324f8",
   "metadata": {},
   "outputs": [],
   "source": [
    "gene_list_comm = pd.Index(gene_list_st).intersection(adata_all.var_names)"
   ]
  },
  {
   "cell_type": "code",
   "execution_count": 7,
   "id": "b23fa8aa",
   "metadata": {},
   "outputs": [
    {
     "data": {
      "text/plain": [
       "685"
      ]
     },
     "execution_count": 7,
     "metadata": {},
     "output_type": "execute_result"
    }
   ],
   "source": [
    "len(gene_list_comm)"
   ]
  },
  {
   "cell_type": "code",
   "execution_count": 8,
   "id": "14a04b44",
   "metadata": {},
   "outputs": [],
   "source": [
    "with open('./1000hvg_common.pkl', 'wb') as f:\n",
    "    pickle.dump(gene_list_comm, f)"
   ]
  },
  {
   "cell_type": "code",
   "execution_count": null,
   "id": "974442b3",
   "metadata": {},
   "outputs": [],
   "source": [
    "gene_list_comm"
   ]
  },
  {
   "cell_type": "code",
   "execution_count": 18,
   "id": "2980a443",
   "metadata": {},
   "outputs": [],
   "source": [
    "gene_list_her2 = list(np.load('/clusterdata/uqxtan9/Xiao/STimage/development/Hist2ST/data/her_hvg_cut_1000.npy',allow_pickle=True))\n"
   ]
  },
  {
   "cell_type": "code",
   "execution_count": 19,
   "id": "7a482e1b",
   "metadata": {},
   "outputs": [
    {
     "data": {
      "text/plain": [
       "785"
      ]
     },
     "execution_count": 19,
     "metadata": {},
     "output_type": "execute_result"
    }
   ],
   "source": [
    "len(gene_list_her2)"
   ]
  },
  {
   "cell_type": "code",
   "execution_count": 20,
   "id": "0789116c",
   "metadata": {},
   "outputs": [
    {
     "data": {
      "text/plain": [
       "Index(['TNC', 'NUP93', 'PSCA', 'FAM117A', 'SPIN1', 'GAR1', 'PPP1R1A', 'EZH2',\n",
       "       'COMP', 'TBCA',\n",
       "       ...\n",
       "       'PPIH', 'NR4A1', 'MAGEF1', 'SEC14L2', 'HSD17B1', 'MRPS22', 'CXXC5',\n",
       "       'LTF', 'GNL2', 'NDRG1'],\n",
       "      dtype='object', length=114)"
      ]
     },
     "execution_count": 20,
     "metadata": {},
     "output_type": "execute_result"
    }
   ],
   "source": [
    "pd.Index(gene_list_her2).intersection(gene_list_st)"
   ]
  },
  {
   "cell_type": "code",
   "execution_count": 22,
   "id": "72264508",
   "metadata": {},
   "outputs": [
    {
     "data": {
      "text/plain": [
       "Index(['HPS6', 'TNC', 'NR1H2', 'NUP93', 'HNRNPUL2', 'MARS', 'SUGP1', 'DEAF1',\n",
       "       'WDR13', 'FLNA',\n",
       "       ...\n",
       "       'TP53I3', 'TGFBR2', 'UBXN1', 'EIF3F', 'SLC2A8', 'LLGL1', 'SLC16A3',\n",
       "       'VAV1', 'NDRG1', 'TNFRSF14'],\n",
       "      dtype='object', length=728)"
      ]
     },
     "execution_count": 22,
     "metadata": {},
     "output_type": "execute_result"
    }
   ],
   "source": [
    "pd.Index(gene_list_her2).intersection(adata_all.var_names)"
   ]
  },
  {
   "cell_type": "code",
   "execution_count": 23,
   "id": "0c7814a3",
   "metadata": {},
   "outputs": [
    {
     "data": {
      "text/plain": [
       "Index(['ISG15', 'TCEA3', 'GNL2', 'PPIH', 'HSPB11', 'JAK1', 'IFI44L', 'GBP1',\n",
       "       'GBP2', 'GBP5',\n",
       "       ...\n",
       "       'INTS8', 'NDRG1', 'PSCA', 'CCL19', 'CCL21', 'SPIN1', 'TEX10', 'TNC',\n",
       "       'NUP214', 'PTGDS'],\n",
       "      dtype='object', length=101)"
      ]
     },
     "execution_count": 23,
     "metadata": {},
     "output_type": "execute_result"
    }
   ],
   "source": [
    "pd.Index(gene_list_st).intersection(adata_all.var_names).intersection(pd.Index(gene_list_her2).intersection(adata_all.var_names))"
   ]
  },
  {
   "cell_type": "code",
   "execution_count": 24,
   "id": "e779183d",
   "metadata": {},
   "outputs": [],
   "source": [
    "marker_gene_list=[\"COX6C\",\"TTLL12\", \"HSP90AB1\", \n",
    "           \"TFF3\", \"ATP1A1\", \"B2M\", \"FASN\", \"SPARC\", \"CD74\", \"CD63\", \"CD24\", \"CD81\"]"
   ]
  },
  {
   "cell_type": "code",
   "execution_count": 25,
   "id": "516fab63",
   "metadata": {},
   "outputs": [
    {
     "data": {
      "text/plain": [
       "Index(['TFF3', 'CD24'], dtype='object')"
      ]
     },
     "execution_count": 25,
     "metadata": {},
     "output_type": "execute_result"
    }
   ],
   "source": [
    "pd.Index(gene_list_st).intersection(marker_gene_list)"
   ]
  },
  {
   "cell_type": "code",
   "execution_count": 27,
   "id": "4588da57",
   "metadata": {},
   "outputs": [
    {
     "data": {
      "text/plain": [
       "Index(['FASN', 'TFF3', 'SPARC', 'CD74'], dtype='object')"
      ]
     },
     "execution_count": 27,
     "metadata": {},
     "output_type": "execute_result"
    }
   ],
   "source": [
    "pd.Index(gene_list_her2).intersection(marker_gene_list)"
   ]
  },
  {
   "cell_type": "code",
   "execution_count": null,
   "id": "0ce24eeb",
   "metadata": {},
   "outputs": [],
   "source": []
  }
 ],
 "metadata": {
  "kernelspec": {
   "display_name": "Python 3",
   "language": "python",
   "name": "python3"
  },
  "language_info": {
   "codemirror_mode": {
    "name": "ipython",
    "version": 3
   },
   "file_extension": ".py",
   "mimetype": "text/x-python",
   "name": "python",
   "nbconvert_exporter": "python",
   "pygments_lexer": "ipython3",
   "version": "3.8.6"
  }
 },
 "nbformat": 4,
 "nbformat_minor": 5
}
