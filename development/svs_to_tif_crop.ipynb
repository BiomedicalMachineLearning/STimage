{
 "cells": [
  {
   "cell_type": "code",
   "execution_count": 23,
   "id": "d8e35bfd",
   "metadata": {},
   "outputs": [],
   "source": [
    "import slideio\n",
    "from pathlib import Path\n",
    "from PIL import Image, features\n",
    "import tifffile\n",
    "Image.MAX_IMAGE_PIXELS = None"
   ]
  },
  {
   "cell_type": "code",
   "execution_count": 24,
   "id": "91d29867",
   "metadata": {},
   "outputs": [
    {
     "name": "stdout",
     "output_type": "stream",
     "text": [
      "True\n"
     ]
    }
   ],
   "source": [
    "print(features.check('libtiff'))"
   ]
  },
  {
   "cell_type": "code",
   "execution_count": 25,
   "id": "0362f375",
   "metadata": {},
   "outputs": [],
   "source": [
    "FROM_PATH = Path(\"/clusterdata/uqxtan9/Q1851/Albert/HPC_Teleport\")"
   ]
  },
  {
   "cell_type": "code",
   "execution_count": 26,
   "id": "de2d8b6f",
   "metadata": {},
   "outputs": [],
   "source": [
    "TO_PATH = Path(\"/clusterdata/uqxtan9/Q1851/Albert/HPC_Teleport\")"
   ]
  },
  {
   "cell_type": "code",
   "execution_count": 27,
   "id": "35fda580",
   "metadata": {},
   "outputs": [],
   "source": [
    "file_name = \"241341_22BR_40X.svs\"\n",
    "left = 0\n",
    "top = 8000\n",
    "right = 48500\n",
    "bottom = top + (right - left)"
   ]
  },
  {
   "cell_type": "code",
   "execution_count": 33,
   "id": "27b94c26",
   "metadata": {},
   "outputs": [],
   "source": [
    "slide = slideio.open_slide(str(FROM_PATH / file_name), \"SVS\")\n",
    "scene = slide.get_scene(0)\n",
    "image = scene.read_block()\n",
    "image_pil = Image.fromarray(image)\n",
    "image_pil_crop = image_pil.crop((left, top, right, bottom))\n",
    "scale_size = (image_pil_crop.size[1]//2, image_pil_crop.size[0]//2)\n",
    "image_pil_crop.thumbnail(scale_size, Image.ANTIALIAS)\n",
    "out_path = TO_PATH / ((Path(file_name).stem +\".tiff\"))\n",
    "image_pil_crop.save(out_path, compression=None, quality=100)"
   ]
  },
  {
   "cell_type": "code",
   "execution_count": null,
   "id": "23431fc9",
   "metadata": {},
   "outputs": [],
   "source": []
  },
  {
   "cell_type": "code",
   "execution_count": null,
   "id": "e445302e",
   "metadata": {},
   "outputs": [],
   "source": []
  }
 ],
 "metadata": {
  "kernelspec": {
   "display_name": "Python 3",
   "language": "python",
   "name": "python3"
  },
  "language_info": {
   "codemirror_mode": {
    "name": "ipython",
    "version": 3
   },
   "file_extension": ".py",
   "mimetype": "text/x-python",
   "name": "python",
   "nbconvert_exporter": "python",
   "pygments_lexer": "ipython3",
   "version": "3.8.6"
  }
 },
 "nbformat": 4,
 "nbformat_minor": 5
}
