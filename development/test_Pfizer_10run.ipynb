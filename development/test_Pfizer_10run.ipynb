{
 "cells": [
  {
   "cell_type": "code",
   "execution_count": 1,
   "id": "d9b1d928",
   "metadata": {},
   "outputs": [],
   "source": [
    "from pathlib import Path\n",
    "from anndata import read_h5ad\n",
    "import sys\n",
    "import scanpy\n",
    "import matplotlib.pyplot as plt\n",
    "import numpy as np\n",
    "import pandas as pd\n",
    "from scipy.stats import nbinom, pearsonr\n",
    "import tensorflow as tf\n",
    "from tensorflow.keras import backend as K\n",
    "from tensorflow.keras.models import load_model\n",
    "import random\n",
    "from scipy import stats\n",
    "import time\n",
    "file = Path(\"/scratch/imb/Xiao/STimage/stimage\").resolve()\n",
    "parent= file.parent\n",
    "sys.path.append(str(parent))\n",
    "sys.path.insert(0, '/scratch/imb/Xiao/STimage')\n",
    "from tqdm import tqdm\n",
    "import pickle\n",
    "from stimage._utils import gene_plot, Read10X, ReadOldST, tiling, ensembl_to_id\n",
    "from stimage._model import CNN_NB_multiple_genes, negative_binomial_layer, negative_binomial_loss, PrinterCallback\n",
    "from stimage._data_generator import DataGenerator\n",
    "\n",
    "start = time.time()\n",
    "\n",
    "\n",
    "DATA_PATH = Path(\"/scratch/imb/Xiao/STimage_100run/dataset_breast_cancer_9visium\")\n",
    "OUT_PATH = Path(\"/scratch/imb/Xiao/STimage/development/stimage_Pfizer_10run/results\")\n",
    "OUT_PATH.mkdir(parents=True, exist_ok=True)"
   ]
  },
  {
   "cell_type": "code",
   "execution_count": 2,
   "id": "d936d38a",
   "metadata": {},
   "outputs": [],
   "source": [
    "# job_id = int(sys.argv[1])\n",
    "job_id = 0\n",
    "random.seed(job_id)\n",
    "np.random.seed(job_id)\n",
    "tf.random.set_seed(job_id)"
   ]
  },
  {
   "cell_type": "code",
   "execution_count": 3,
   "id": "784dfd80",
   "metadata": {},
   "outputs": [],
   "source": [
    "adata_all = read_h5ad(DATA_PATH / \"all_adata.h5ad\")\n",
    "\n",
    "adata_all.obs[\"tile_path\"] = adata_all.obs.tile_path.map(\n",
    "    lambda x: x.replace(\"/clusterdata/uqxtan9/Xiao/breast_cancer_9visium\",\n",
    "                        \"/scratch/imb/Xiao/STimage_100run/dataset_breast_cancer_9visium\"))\n",
    "\n",
    "\n",
    "df_gene_ls = pd.read_csv(\"/scratch/imb/Xiao/STimage/development/stimage_Pfizer_10run/Intersection_marker_genes.csv\", sep=\",\")\n",
    "\n",
    "gene_list_select = df_gene_ls[\"gene_name\"].values.tolist()\n",
    "\n",
    "gene_list = adata_all.var_names.intersection(gene_list_select)"
   ]
  },
  {
   "cell_type": "code",
   "execution_count": 4,
   "id": "fcccb111",
   "metadata": {},
   "outputs": [],
   "source": [
    "DATA_PATH = Path(\"/clusterdata/uqxtan9/Xiao/dataset_Pfizer\")\n",
    "\n",
    "adata_all_ = read_h5ad(DATA_PATH / \"all_adata.h5ad\")\n",
    "\n",
    "adata_all = adata_all_[adata_all_.obs[\"library_id\"].isin(\n",
    "    adata_all_.obs.library_id.cat.remove_categories(\"block1\").unique())]\n",
    "samples = adata_all.obs[\"library_id\"].unique().tolist()"
   ]
  },
  {
   "cell_type": "code",
   "execution_count": 5,
   "id": "112273f3",
   "metadata": {},
   "outputs": [
    {
     "name": "stdout",
     "output_type": "stream",
     "text": [
      "loaded\n"
     ]
    }
   ],
   "source": [
    "K.clear_session()\n",
    "\n",
    "model = None\n",
    "file_model = f'/clusterdata/uqxtan9/Xiao/STimage/development/stimage_100run/results_1/model_{job_id}.h5'\n",
    "model = load_model(file_model, \n",
    "                   custom_objects={\n",
    "                       'negative_binomial_loss': negative_binomial_loss,\n",
    "                   }\n",
    "                  )\n",
    "print(\"loaded\")"
   ]
  },
  {
   "cell_type": "code",
   "execution_count": null,
   "id": "42f4a2bd",
   "metadata": {},
   "outputs": [],
   "source": [
    "for sample in samples:\n",
    "    adata = adata_all[adata_all.obs.library_id==sample, adata_all.var_names[0]]\n",
    "    test_gen = tf.data.Dataset.from_generator(\n",
    "                lambda:DataGenerator(adata=adata, \n",
    "                              genes=adata.var_names), \n",
    "                output_types=(tf.float32, tuple([tf.float32]*len(adata.var_names))), \n",
    "                output_shapes=([299,299,3], tuple([1]*len(adata.var_names))))\n",
    "    test_gen_ = test_gen.batch(1)\n",
    "    pred_test = model.predict(test_gen_)\n",
    "    # save out results\n",
    "    with open(str(OUT_PATH / f'ensemble_results_{sample}_{job_id}.pkl'), 'wb') as file:\n",
    "        pickle.dump(pred_test, file)"
   ]
  },
  {
   "cell_type": "code",
   "execution_count": null,
   "id": "7922b110",
   "metadata": {},
   "outputs": [],
   "source": []
  },
  {
   "cell_type": "code",
   "execution_count": null,
   "id": "5883f915",
   "metadata": {},
   "outputs": [],
   "source": []
  }
 ],
 "metadata": {
  "kernelspec": {
   "display_name": "Python 3",
   "language": "python",
   "name": "python3"
  },
  "language_info": {
   "codemirror_mode": {
    "name": "ipython",
    "version": 3
   },
   "file_extension": ".py",
   "mimetype": "text/x-python",
   "name": "python",
   "nbconvert_exporter": "python",
   "pygments_lexer": "ipython3",
   "version": "3.8.6"
  }
 },
 "nbformat": 4,
 "nbformat_minor": 5
}
