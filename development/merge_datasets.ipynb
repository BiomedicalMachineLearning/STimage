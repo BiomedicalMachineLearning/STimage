{
 "cells": [
  {
   "cell_type": "code",
   "execution_count": 1,
   "id": "281e98e0",
   "metadata": {},
   "outputs": [],
   "source": [
    "import stlearn as st\n",
    "import anndata as ad"
   ]
  },
  {
   "cell_type": "code",
   "execution_count": null,
   "id": "a1573d2b",
   "metadata": {},
   "outputs": [],
   "source": []
  },
  {
   "cell_type": "code",
   "execution_count": 2,
   "id": "678d5c3c",
   "metadata": {},
   "outputs": [],
   "source": [
    "adata1= ad.read_h5ad(\"/clusterdata/uqxtan9/Xiao/dataset_Pfizer/all_adata.h5ad\")"
   ]
  },
  {
   "cell_type": "code",
   "execution_count": 3,
   "id": "84c6d67f",
   "metadata": {},
   "outputs": [],
   "source": [
    "adata1 = adata1[adata1.obs.library_id != \"block1\"]"
   ]
  },
  {
   "cell_type": "code",
   "execution_count": null,
   "id": "27bb97a8",
   "metadata": {},
   "outputs": [],
   "source": []
  },
  {
   "cell_type": "code",
   "execution_count": 4,
   "id": "1c237a8e",
   "metadata": {},
   "outputs": [],
   "source": [
    "adata2= ad.read_h5ad(\"/clusterdata/uqxtan9/Xiao/STimage_100run/dataset_breast_cancer_9visium/all_adata.h5ad\")"
   ]
  },
  {
   "cell_type": "code",
   "execution_count": 5,
   "id": "f47c8f1c",
   "metadata": {},
   "outputs": [],
   "source": [
    "adata2.obs[\"tile_path\"] = adata2.obs.tile_path.map(lambda x:x.replace(\"/clusterdata/uqxtan9/Xiao/breast_cancer_9visium/\",\n",
    "                                               \"/clusterdata/uqxtan9/Xiao/STimage_100run/dataset_breast_cancer_9visium/\"))\n"
   ]
  },
  {
   "cell_type": "code",
   "execution_count": 24,
   "id": "f21c37b3",
   "metadata": {},
   "outputs": [],
   "source": [
    "adata_p_9 = ad.concat([adata1, adata2], merge='unique', uns_merge='first')"
   ]
  },
  {
   "cell_type": "code",
   "execution_count": 34,
   "id": "02adb15a",
   "metadata": {},
   "outputs": [
    {
     "name": "stderr",
     "output_type": "stream",
     "text": [
      "/scratch/imb/Xiao/.conda/envs/stimage_test/lib/python3.8/site-packages/anndata/_core/anndata.py:1220: FutureWarning: The `inplace` parameter in pandas.Categorical.reorder_categories is deprecated and will be removed in a future version. Removing unused categories will always return a new Categorical object.\n",
      "  c.reorder_categories(natsorted(c.categories), inplace=True)\n",
      "... storing 'library_id' as categorical\n"
     ]
    }
   ],
   "source": [
    "adata_p_9.write_h5ad(\"/clusterdata/uqxtan9/Xiao/dataset_combine/9v_11Pfizer.h5ad\")"
   ]
  },
  {
   "cell_type": "code",
   "execution_count": 6,
   "id": "7f810cfd",
   "metadata": {},
   "outputs": [],
   "source": [
    "adata3= ad.read_h5ad(\"/clusterdata/uqxtan9/Xiao/dataset_Peter/all_adata.h5ad\")"
   ]
  },
  {
   "cell_type": "code",
   "execution_count": 8,
   "id": "e320bd43",
   "metadata": {},
   "outputs": [],
   "source": [
    "adata3 = adata3[adata3.obs.library_id != \"block1\"]"
   ]
  },
  {
   "cell_type": "code",
   "execution_count": 9,
   "id": "fe7f40ad",
   "metadata": {},
   "outputs": [],
   "source": [
    "adata_p_9_p = ad.concat([adata1, adata2, adata3], merge='unique', uns_merge='first')"
   ]
  },
  {
   "cell_type": "code",
   "execution_count": null,
   "id": "eebf43b3",
   "metadata": {},
   "outputs": [],
   "source": [
    "adata_p_9_p.obs.library_id"
   ]
  }
 ],
 "metadata": {
  "kernelspec": {
   "display_name": "Python 3",
   "language": "python",
   "name": "python3"
  },
  "language_info": {
   "codemirror_mode": {
    "name": "ipython",
    "version": 3
   },
   "file_extension": ".py",
   "mimetype": "text/x-python",
   "name": "python",
   "nbconvert_exporter": "python",
   "pygments_lexer": "ipython3",
   "version": "3.8.6"
  }
 },
 "nbformat": 4,
 "nbformat_minor": 5
}
