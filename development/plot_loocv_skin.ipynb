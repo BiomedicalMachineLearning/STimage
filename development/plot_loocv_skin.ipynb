{
 "cells": [
  {
   "cell_type": "code",
   "execution_count": 1,
   "metadata": {},
   "outputs": [],
   "source": [
    "import pandas as pd\n",
    "from pathlib import Path\n",
    "# import matplotlib_venn\n",
    "import scanpy as sc\n",
    "import stlearn as st\n",
    "import anndata as ad\n",
    "import seaborn as sns\n",
    "import pickle\n",
    "from matplotlib import pyplot as plt"
   ]
  },
  {
   "cell_type": "code",
   "execution_count": 2,
   "metadata": {},
   "outputs": [],
   "source": [
    "# Wiener\n",
    "BASE_PATH = Path(\"/scratch/imb/Xiao/\")"
   ]
  },
  {
   "cell_type": "code",
   "execution_count": null,
   "metadata": {},
   "outputs": [],
   "source": [
    "# Bunya\n",
    "BASE_PATH = Path(\"/scratch/project_mnt/S0010/Xiao\")"
   ]
  },
  {
   "cell_type": "code",
   "execution_count": 10,
   "metadata": {},
   "outputs": [],
   "source": [
    "DATA_PATH = BASE_PATH / \"Q1851/Xiao/Wiener_backup/STimage_exp/stimage_LOOCV_skin_cancer_selected_gene\"\n",
    "OUT_PATH = DATA_PATH / \"PLOT\"\n",
    "OUT_PATH.mkdir(parents=True, exist_ok=True)"
   ]
  },
  {
   "cell_type": "code",
   "execution_count": 11,
   "metadata": {},
   "outputs": [],
   "source": [
    "df = pd.DataFrame()\n",
    "for file in (DATA_PATH).rglob(\"stimage*.csv\"):\n",
    "    df = pd.concat([df, pd.read_csv(file, index_col=0)], axis=0)"
   ]
  },
  {
   "cell_type": "code",
   "execution_count": 12,
   "metadata": {},
   "outputs": [
    {
     "data": {
      "text/html": [
       "<div>\n",
       "<style scoped>\n",
       "    .dataframe tbody tr th:only-of-type {\n",
       "        vertical-align: middle;\n",
       "    }\n",
       "\n",
       "    .dataframe tbody tr th {\n",
       "        vertical-align: top;\n",
       "    }\n",
       "\n",
       "    .dataframe thead th {\n",
       "        text-align: right;\n",
       "    }\n",
       "</style>\n",
       "<table border=\"1\" class=\"dataframe\">\n",
       "  <thead>\n",
       "    <tr style=\"text-align: right;\">\n",
       "      <th></th>\n",
       "      <th>Gene</th>\n",
       "      <th>Pearson correlation</th>\n",
       "      <th>Slide</th>\n",
       "      <th>Method</th>\n",
       "    </tr>\n",
       "  </thead>\n",
       "  <tbody>\n",
       "    <tr>\n",
       "      <th>0</th>\n",
       "      <td>ISG15</td>\n",
       "      <td>-0.092837</td>\n",
       "      <td>Visium36_C1</td>\n",
       "      <td>STimage</td>\n",
       "    </tr>\n",
       "    <tr>\n",
       "      <th>1</th>\n",
       "      <td>TNFRSF18</td>\n",
       "      <td>-0.030779</td>\n",
       "      <td>Visium36_C1</td>\n",
       "      <td>STimage</td>\n",
       "    </tr>\n",
       "    <tr>\n",
       "      <th>2</th>\n",
       "      <td>TNFRSF4</td>\n",
       "      <td>-0.048445</td>\n",
       "      <td>Visium36_C1</td>\n",
       "      <td>STimage</td>\n",
       "    </tr>\n",
       "    <tr>\n",
       "      <th>3</th>\n",
       "      <td>CALML6</td>\n",
       "      <td>0.047394</td>\n",
       "      <td>Visium36_C1</td>\n",
       "      <td>STimage</td>\n",
       "    </tr>\n",
       "    <tr>\n",
       "      <th>4</th>\n",
       "      <td>HES5</td>\n",
       "      <td>-0.045672</td>\n",
       "      <td>Visium36_C1</td>\n",
       "      <td>STimage</td>\n",
       "    </tr>\n",
       "    <tr>\n",
       "      <th>...</th>\n",
       "      <td>...</td>\n",
       "      <td>...</td>\n",
       "      <td>...</td>\n",
       "      <td>...</td>\n",
       "    </tr>\n",
       "    <tr>\n",
       "      <th>1625</th>\n",
       "      <td>FLNA</td>\n",
       "      <td>0.295417</td>\n",
       "      <td>Visium28_C1</td>\n",
       "      <td>STimage</td>\n",
       "    </tr>\n",
       "    <tr>\n",
       "      <th>1626</th>\n",
       "      <td>DNASE1L1</td>\n",
       "      <td>0.111458</td>\n",
       "      <td>Visium28_C1</td>\n",
       "      <td>STimage</td>\n",
       "    </tr>\n",
       "    <tr>\n",
       "      <th>1627</th>\n",
       "      <td>G6PD</td>\n",
       "      <td>0.064260</td>\n",
       "      <td>Visium28_C1</td>\n",
       "      <td>STimage</td>\n",
       "    </tr>\n",
       "    <tr>\n",
       "      <th>1628</th>\n",
       "      <td>IKBKG</td>\n",
       "      <td>0.165789</td>\n",
       "      <td>Visium28_C1</td>\n",
       "      <td>STimage</td>\n",
       "    </tr>\n",
       "    <tr>\n",
       "      <th>1629</th>\n",
       "      <td>USP9Y</td>\n",
       "      <td>0.009930</td>\n",
       "      <td>Visium28_C1</td>\n",
       "      <td>STimage</td>\n",
       "    </tr>\n",
       "  </tbody>\n",
       "</table>\n",
       "<p>24450 rows × 4 columns</p>\n",
       "</div>"
      ],
      "text/plain": [
       "          Gene  Pearson correlation        Slide   Method\n",
       "0        ISG15            -0.092837  Visium36_C1  STimage\n",
       "1     TNFRSF18            -0.030779  Visium36_C1  STimage\n",
       "2      TNFRSF4            -0.048445  Visium36_C1  STimage\n",
       "3       CALML6             0.047394  Visium36_C1  STimage\n",
       "4         HES5            -0.045672  Visium36_C1  STimage\n",
       "...        ...                  ...          ...      ...\n",
       "1625      FLNA             0.295417  Visium28_C1  STimage\n",
       "1626  DNASE1L1             0.111458  Visium28_C1  STimage\n",
       "1627      G6PD             0.064260  Visium28_C1  STimage\n",
       "1628     IKBKG             0.165789  Visium28_C1  STimage\n",
       "1629     USP9Y             0.009930  Visium28_C1  STimage\n",
       "\n",
       "[24450 rows x 4 columns]"
      ]
     },
     "execution_count": 12,
     "metadata": {},
     "output_type": "execute_result"
    }
   ],
   "source": [
    "df"
   ]
  },
  {
   "cell_type": "code",
   "execution_count": 13,
   "metadata": {},
   "outputs": [],
   "source": [
    "samples_to_select = [\"Visium29_B1\", \"Visium29_C1\",  \"Visium38_B1\", \"Visium38_D1\", \"Visium37_D1\"]"
   ]
  },
  {
   "cell_type": "code",
   "execution_count": 14,
   "metadata": {},
   "outputs": [],
   "source": [
    "df = df[df[\"Slide\"].isin(samples_to_select)]"
   ]
  },
  {
   "cell_type": "code",
   "execution_count": 15,
   "metadata": {},
   "outputs": [
    {
     "data": {
      "text/plain": [
       "<AxesSubplot:xlabel='Slide', ylabel='Pearson correlation'>"
      ]
     },
     "execution_count": 15,
     "metadata": {},
     "output_type": "execute_result"
    },
    {
     "data": {
      "image/png": "[encoded data removed]",
      "text/plain": [
       "<Figure size 432x288 with 1 Axes>"
      ]
     },
     "metadata": {
      "needs_background": "light"
     },
     "output_type": "display_data"
    }
   ],
   "source": [
    "sns.boxplot(x=\"Slide\", y=\"Pearson correlation\", data=df)"
   ]
  },
  {
   "cell_type": "code",
   "execution_count": 16,
   "metadata": {},
   "outputs": [
    {
     "name": "stdout",
     "output_type": "stream",
     "text": [
      "HSPB1\n",
      "B2M\n",
      "PFN1\n",
      "CALML5\n",
      "CD74\n",
      "CD44\n",
      "S100A10\n",
      "ANXA2\n",
      "IFI27\n",
      "CD63\n",
      "APOE\n",
      "ILF3\n",
      "FLNA\n",
      "CSTA\n",
      "RHOA\n",
      "S100B\n",
      "MYH9\n",
      "MYC\n",
      "CTNNB1\n",
      "CTSD\n",
      "KLF4\n",
      "CD81\n",
      "LGALS1\n",
      "MIF\n",
      "CTSB\n",
      "HLA-DRA\n",
      "HMGB1\n",
      "HLA-E\n",
      "SNCA\n",
      "PLA2G4F\n",
      "HMGA1\n",
      "TNC\n",
      "EIF4A2\n",
      "RXRA\n",
      "ZFP36L1\n",
      "S100A8\n",
      "CD99\n",
      "TAPBP\n",
      "GNAS\n",
      "RBX1\n",
      "ZFP36L2\n",
      "BCL2L2\n",
      "HLA-DMA\n",
      "S100A9\n",
      "FGFR3\n",
      "IQGAP1\n",
      "RAC1\n",
      "PRAME\n",
      "DDX3X\n",
      "CEBPA\n",
      "HLA-DPB1\n",
      "SDC1\n",
      "HLA-DPA1\n",
      "CDH1\n",
      "ERBB3\n",
      "ITGB1\n",
      "PPP2CB\n",
      "S100A7\n",
      "CTNND1\n",
      "SPINK5\n",
      "CCL19\n",
      "EMP3\n",
      "CDK4\n",
      "ANXA5\n",
      "MCL1\n",
      "MAP2K2\n",
      "GTF2I\n",
      "SOX10\n",
      "MDM4\n",
      "EPHB6\n",
      "TAP1\n",
      "PTPRC\n",
      "SERPINB2\n",
      "IFITM2\n",
      "IFI16\n",
      "LAMP1\n",
      "IL20RB\n",
      "RORA\n",
      "IKBKB\n",
      "AFDN\n",
      "PTEN\n",
      "MACF1\n",
      "LGALS3\n",
      "HRAS\n",
      "IRF4\n",
      "GATA3\n",
      "GNAI2\n",
      "C1R\n",
      "STAT6\n",
      "TOLLIP\n",
      "PSMD2\n",
      "NFE2L2\n",
      "MARCKSL1\n",
      "FN1\n",
      "MAF\n",
      "HLA-F\n",
      "KLF5\n",
      "CXCL14\n",
      "ARG1\n",
      "TFDP1\n",
      "IL32\n",
      "STAT1\n",
      "MAX\n",
      "ETS1\n",
      "MGAT1\n",
      "BRD4\n",
      "MFGE8\n",
      "DHX15\n",
      "TYK2\n",
      "PPP2R2C\n",
      "SBNO2\n",
      "AKT2\n",
      "PAX3\n",
      "FOS\n",
      "STAT2\n",
      "GTF3C1\n",
      "FOXO3\n",
      "TRBC2\n",
      "ANAPC5\n",
      "CD9\n",
      "PSMB7\n",
      "CBLC\n",
      "TNFRSF14\n",
      "COL3A1\n",
      "CAST\n",
      "PYCARD\n",
      "TXNIP\n",
      "PSMB8\n",
      "WIPI1\n",
      "TGFBI\n",
      "ERCC1\n",
      "ETV5\n",
      "SDHA\n",
      "ACTN4\n",
      "TIMP1\n",
      "COL1A2\n",
      "BCL2L1\n",
      "BST2\n",
      "GPI\n",
      "STK11\n",
      "MAPK14\n",
      "ZNF750\n",
      "RHOB\n",
      "AKT1\n",
      "HDAC5\n",
      "CD37\n",
      "ITGB4\n",
      "ITGA3\n",
      "IKZF1\n",
      "CAPN2\n",
      "COL27A1\n",
      "C1QB\n",
      "CD164\n",
      "CTSH\n",
      "STAT3\n",
      "PDIA6\n",
      "TBL1XR1\n",
      "ERBB2\n",
      "HPGD\n",
      "PIK3CD\n",
      "CLIP1\n",
      "YTHDF2\n",
      "DEFB1\n",
      "RELA\n",
      "CDK12\n",
      "TRAC\n",
      "TAP2\n",
      "CDKN1A\n",
      "IGF1R\n",
      "TGIF1\n",
      "CDK6\n",
      "CXCL12\n",
      "IER3\n",
      "ETV6\n",
      "IFNAR1\n",
      "KMT2D\n",
      "SF3B1\n",
      "CDK2\n",
      "PDIA4\n",
      "SHC1\n",
      "LTB\n",
      "IRF1\n",
      "RPN2\n",
      "MYD88\n",
      "ARID1B\n",
      "ATG12\n",
      "JUNB\n",
      "COL1A1\n",
      "GNAQ\n",
      "EP300\n",
      "BCR\n",
      "APP\n",
      "HUWE1\n",
      "VEGFB\n",
      "ANP32B\n",
      "CCND3\n",
      "CD68\n",
      "STAT5A\n",
      "PBRM1\n",
      "TGFBR2\n",
      "LTBR\n",
      "IRAK1\n",
      "MCM7\n",
      "LAMP2\n",
      "ITGB2\n",
      "PIM1\n",
      "VPS28\n",
      "CD276\n",
      "THBD\n",
      "IRF8\n",
      "IL16\n",
      "RUNX3\n",
      "SIGIRR\n",
      "CD3D\n",
      "IL1RN\n",
      "NUPR1\n",
      "ASXL1\n",
      "ETS2\n",
      "GSK3B\n",
      "PML\n",
      "ITGAX\n",
      "TRIM56\n",
      "PLCG1\n",
      "KMT2C\n",
      "ARNT2\n",
      "BMI1\n",
      "BCL2\n",
      "NFKB2\n",
      "SUZ12\n",
      "EPHA2\n",
      "HLA-DMB\n",
      "NFKBIA\n",
      "CUL3\n",
      "IL22RA1\n",
      "CCL27\n",
      "FUBP1\n",
      "TNFSF12\n",
      "MCAM\n",
      "PRKACA\n",
      "CYLD\n",
      "MDM2\n",
      "SMPD3\n",
      "DNMT1\n",
      "MAVS\n",
      "CHD4\n",
      "ARID1A\n",
      "LAMA5\n",
      "RAB27A\n",
      "EGR2\n",
      "PIK3CB\n",
      "POLD4\n",
      "AKT3\n",
      "WNT4\n",
      "CDC25B\n",
      "XBP1\n",
      "DUSP1\n",
      "DUSP4\n",
      "IRF3\n",
      "EIF4EBP1\n",
      "ATF7IP\n",
      "DDIT4\n",
      "NOTCH2\n",
      "RANGAP1\n",
      "BCL6\n",
      "EDNRB\n",
      "CYBB\n",
      "ACTN1\n",
      "IL6ST\n",
      "CNOT2\n",
      "SMAD2\n",
      "XPO1\n",
      "DOCK8\n",
      "NSD3\n",
      "ANXA1\n",
      "C3\n",
      "LRP1\n",
      "IKBKG\n",
      "CDKN1B\n",
      "NFKBIZ\n",
      "RB1\n",
      "DUSP6\n",
      "BTG2\n",
      "IL6R\n",
      "CD52\n",
      "ITGA6\n",
      "IL4R\n",
      "FBXW7\n",
      "C1S\n",
      "ATF6B\n",
      "IER5\n",
      "MSN\n",
      "MAP2K1\n",
      "FYB1\n",
      "RASAL1\n",
      "CTSS\n",
      "IRF7\n",
      "LEF1\n",
      "PSMB10\n",
      "FOXP1\n",
      "AXIN2\n"
     ]
    }
   ],
   "source": [
    "top_300gene = df.groupby(\"Gene\")[\"Pearson correlation\"].mean().sort_values(ascending=False)[0:300].index\n",
    "for i in top_300gene:\n",
    "    print(i)"
   ]
  },
  {
   "cell_type": "code",
   "execution_count": 17,
   "metadata": {},
   "outputs": [],
   "source": [
    "# save pickle\n",
    "with open(DATA_PATH / \"top_300gene.pickle\", \"wb\") as f:\n",
    "    pickle.dump(top_300gene, f)"
   ]
  },
  {
   "cell_type": "code",
   "execution_count": 18,
   "metadata": {},
   "outputs": [],
   "source": [
    "top_100gene = df.groupby(\"Gene\")[\"Pearson correlation\"].mean().sort_values(ascending=False)[0:100].index\n",
    "df_top100 = df[df[\"Gene\"].isin(top_100gene)]"
   ]
  },
  {
   "cell_type": "code",
   "execution_count": 19,
   "metadata": {},
   "outputs": [],
   "source": [
    "# save pickle\n",
    "with open(DATA_PATH / \"top_100gene.pickle\", \"wb\") as f:\n",
    "    pickle.dump(top_100gene, f)"
   ]
  },
  {
   "cell_type": "code",
   "execution_count": 20,
   "metadata": {},
   "outputs": [
    {
     "data": {
      "image/png": "[encoded data removed]",
      "text/plain": [
       "<Figure size 504x504 with 1 Axes>"
      ]
     },
     "metadata": {
      "needs_background": "light"
     },
     "output_type": "display_data"
    }
   ],
   "source": [
    "ax, fig = plt.subplots(figsize=(7,7))\n",
    "sns.boxplot(x=\"Slide\", y=\"Pearson correlation\", data=df_top100)\n",
    "plt.ylim(0,1)\n",
    "# save pdf figure\n",
    "plt.savefig(OUT_PATH / \"top_100gene.pdf\")\n",
    "# plt.show()"
   ]
  },
  {
   "cell_type": "code",
   "execution_count": null,
   "metadata": {},
   "outputs": [],
   "source": []
  },
  {
   "cell_type": "code",
   "execution_count": null,
   "metadata": {},
   "outputs": [],
   "source": []
  },
  {
   "cell_type": "code",
   "execution_count": null,
   "metadata": {},
   "outputs": [],
   "source": []
  },
  {
   "cell_type": "code",
   "execution_count": null,
   "metadata": {},
   "outputs": [],
   "source": []
  },
  {
   "cell_type": "code",
   "execution_count": null,
   "metadata": {},
   "outputs": [],
   "source": []
  },
  {
   "cell_type": "code",
   "execution_count": null,
   "metadata": {},
   "outputs": [],
   "source": []
  },
  {
   "cell_type": "code",
   "execution_count": 10,
   "metadata": {},
   "outputs": [
    {
     "data": {
      "text/plain": [
       "5.7882787874999995"
      ]
     },
     "execution_count": 10,
     "metadata": {},
     "output_type": "execute_result"
    }
   ],
   "source": [
    "# imgrow\n",
    "(8373 - 8271)*0.20635575 / 100 * 55 / 2"
   ]
  },
  {
   "cell_type": "code",
   "execution_count": 11,
   "metadata": {},
   "outputs": [
    {
     "data": {
      "text/plain": [
       "9.9876183"
      ]
     },
     "execution_count": 11,
     "metadata": {},
     "output_type": "execute_result"
    }
   ],
   "source": [
    "# col\n",
    "(1211 - 1035)*0.20635575 / 100 * 55 / 2"
   ]
  },
  {
   "cell_type": "code",
   "execution_count": null,
   "metadata": {},
   "outputs": [],
   "source": []
  },
  {
   "cell_type": "code",
   "execution_count": null,
   "metadata": {},
   "outputs": [],
   "source": []
  }
 ],
 "metadata": {
  "kernelspec": {
   "display_name": "stimage_test",
   "language": "python",
   "name": "python3"
  },
  "language_info": {
   "codemirror_mode": {
    "name": "ipython",
    "version": 3
   },
   "file_extension": ".py",
   "mimetype": "text/x-python",
   "name": "python",
   "nbconvert_exporter": "python",
   "pygments_lexer": "ipython3",
   "version": "3.8.6"
  }
 },
 "nbformat": 4,
 "nbformat_minor": 2
}
